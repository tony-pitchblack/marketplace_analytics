{
 "cells": [
  {
   "cell_type": "code",
   "execution_count": 1,
   "metadata": {},
   "outputs": [],
   "source": [
    "import matplotlib.pyplot as plt\n",
    "import pandas as pd\n",
    "import torch\n",
    "import torch.nn as nn\n",
    "import numpy as np\n",
    "from datetime import date, timedelta\n",
    "import json\n",
    "from tqdm import tqdm\n",
    "import os \n",
    "from exponenta import get_stat\n",
    "from get_data_all_sources import get_data, get_mpstats_year, make_mpstats_request\n",
    "from make_prediction import Seq2Seq, BiLSTMAutoencoder\n",
    "from net_expect import ExpectParams\n",
    "from net_trend_bi import PredictTrendBi\n",
    "\n",
    "WEIGHTS_DIR = 'data/'\n",
    "PRODUCTS_DIR = 'data/products/'\n",
    "NUM_DAYS_TO_PREDICT = 14\n",
    "# параметры BiLSTM \n",
    "INPUT_DIM = 2\n",
    "HIDDEN_DIM = 128\n",
    "NUM_LAYERS = 1\n",
    "# параметры GRU  \n",
    "INPUT_SIZE = 2\n",
    "HIDDEN_SIZE = 256\n",
    "OUTPUT_SIZE = 1\n",
    "# параметры новой сетки\n",
    "NEW_INPUT_SIZE = 3\n",
    "NEW_NUM_LAYERS = 2\n",
    "EPS = 1e-5"
   ]
  },
  {
   "cell_type": "code",
   "execution_count": 2,
   "metadata": {},
   "outputs": [],
   "source": [
    "%load_ext autoreload\n",
    "%autoreload 2"
   ]
  },
  {
   "cell_type": "markdown",
   "metadata": {},
   "source": [
    "# Старый метод\n"
   ]
  },
  {
   "cell_type": "code",
   "execution_count": 3,
   "metadata": {},
   "outputs": [],
   "source": [
    "class OldBiLSTMMethod:\n",
    "    \"\"\" предсказывает на один день вперёд \"\"\"\n",
    "    def __init__(self, df:pd.DataFrame, tomm_price, min_price, max_price) -> None:\n",
    "        self.df = df\n",
    "        self.tomm_price = tomm_price\n",
    "        self.min_price = min_price\n",
    "        self.max_price = max_price\n",
    "        \n",
    "    def find_trend(self, data):\n",
    "        \"\"\"\n",
    "        data: np.array of shape (1, price.size, 2)\n",
    "        \"\"\"\n",
    "        model = BiLSTMAutoencoder(INPUT_DIM, HIDDEN_DIM, NUM_LAYERS)\n",
    "        model.load_state_dict(torch.load(WEIGHTS_DIR+'trend_bilstm', map_location='cpu'))\n",
    "        \n",
    "        trend = model(data)\n",
    "        trend = trend.detach().numpy().squeeze()\n",
    "        trend = trend/trend[-1]\n",
    "        return trend\n",
    "    \n",
    "    def predict_demand(self, data, b):\n",
    "        model = Seq2Seq(INPUT_SIZE, HIDDEN_SIZE, OUTPUT_SIZE)\n",
    "        model.load_state_dict(torch.load(WEIGHTS_DIR+'trend_gru', map_location='cpu'))\n",
    "        predicted_trend = model(data, num_step=1).detach().numpy().flatten()\n",
    "        \n",
    "        new_demand = np.exp(b[0]+b[1]*self.tomm_price)*predicted_trend\n",
    "        return new_demand\n",
    "    \n",
    "    def run(self,):\n",
    "        self.df.sales = self.df.sales.astype(float)\n",
    "        self.df.price = self.df.price.astype(int)\n",
    "        order = self.df.sales.to_numpy(copy=True)\n",
    "        price = self.df.price.to_numpy(copy=True)\n",
    "        price_norm = (price-self.min_price)/(self.max_price-self.min_price)\n",
    "        # extract trend\n",
    "        data = torch.zeros(1, price_norm.size, 2, dtype=torch.float32)\n",
    "        data[:,:,0] = torch.tensor(price_norm)\n",
    "        data[:,:,1] = torch.tensor(order)\n",
    "        trend = self.find_trend(data)\n",
    "        discount_order = order/trend\n",
    "        # exponenta model; returns vector of shape (5, -1) or (2, 1)\n",
    "        b = get_stat(price_norm, discount_order)\n",
    "        data_perm = data.permute([1,0,2])\n",
    "        new_demand = self.predict_demand(data_perm, b)\n",
    "        return new_demand"
   ]
  },
  {
   "cell_type": "markdown",
   "metadata": {},
   "source": [
    "# Новый метод"
   ]
  },
  {
   "cell_type": "code",
   "execution_count": 33,
   "metadata": {},
   "outputs": [],
   "source": [
    "class NewMethod:\n",
    "    \"\"\" предсказывает на один день вперёд \"\"\"\n",
    "    def __init__(self, df:pd.DataFrame, tomm_price, min_price, max_price) -> None:\n",
    "        self.df = df\n",
    "        self.tomm_price = tomm_price\n",
    "        self.min_price = min_price\n",
    "        self.max_price = max_price\n",
    "        self.expect_params = ExpectParams(3, 128)\n",
    "        self.expect_params.load_state_dict(torch.load(WEIGHTS_DIR+'expect_128_1', weights_only=False, map_location='cpu'))\n",
    "        \n",
    "    def predict_demand(self, data):\n",
    "        # print(self.min_price, self.max_price)\n",
    "        a, b = self.expect_params(data).detach().numpy().flatten() \n",
    "        # print(data.shape)\n",
    "        # print(data[:, -1, :])\n",
    "        # print(a, b)\n",
    "        new_demand = np.exp(b - a*self.tomm_price)\n",
    "        # print(new_demand)\n",
    "        return new_demand\n",
    "    \n",
    "    def run(self,):\n",
    "        self.df.sales = self.df.sales.astype(float)\n",
    "        self.df.price = self.df.price.astype(float)\n",
    "        self.df.balance = self.df.balance.astype(float)\n",
    "        order = self.df.sales.to_numpy(copy=True)\n",
    "        price = self.df.price.to_numpy(copy=True)\n",
    "        balance = self.df.balance.to_numpy(copy=True)\n",
    "        # adding mask for predicting the next day\n",
    "        bal = np.ones_like(balance)\n",
    "        bal[balance<order] = 0\n",
    "        balance = bal.copy()\n",
    "        # balance[balance<order] = 0\n",
    "        price_norm = (price-self.min_price)/(self.max_price-self.min_price)\n",
    "        # extract trend\n",
    "        data = torch.zeros(1, price_norm.size, 3, dtype=torch.float32)\n",
    "        data[:,:,0] = torch.tensor(balance)\n",
    "        data[:,:,1] = torch.tensor(price_norm)\n",
    "        data[:,:,2] = torch.tensor(order)\n",
    "        new_demand = self.predict_demand(data)\n",
    "        return new_demand"
   ]
  },
  {
   "cell_type": "code",
   "execution_count": 5,
   "metadata": {},
   "outputs": [],
   "source": [
    "class NewV2Method:\n",
    "    \"\"\" предсказывает на один день вперёд \"\"\"\n",
    "    def __init__(self, df:pd.DataFrame, tomm_price, min_price, max_price) -> None:\n",
    "        self.df = df\n",
    "        self.tomm_price = tomm_price\n",
    "        self.min_price = min_price\n",
    "        self.max_price = max_price\n",
    "        \n",
    "    def find_trend(self, data):\n",
    "        \"\"\"\n",
    "        data: np.array of shape (1, price.size, 3)\n",
    "        \"\"\"\n",
    "        model = PredictTrendBi(NEW_INPUT_SIZE, HIDDEN_DIM, NEW_NUM_LAYERS)\n",
    "        model.load_state_dict(torch.load(WEIGHTS_DIR+'trend_2enc_1dec_128_bi', weights_only=False, \\\n",
    "            map_location='cpu'))\n",
    "        \n",
    "        trend = model(data)\n",
    "        trend = trend.detach().numpy().squeeze()\n",
    "        trend = trend/trend[-1]\n",
    "        return trend\n",
    "    \n",
    "    def predict_demand(self, data, b):\n",
    "        model = Seq2Seq(INPUT_SIZE, HIDDEN_SIZE, OUTPUT_SIZE)\n",
    "        model.load_state_dict(torch.load(WEIGHTS_DIR+'trend_gru', map_location='cpu'))\n",
    "        predicted_trend = model(data, num_step=1).detach().numpy().flatten()\n",
    "        \n",
    "        new_demand = np.exp(b[0]+b[1]*self.tomm_price)*predicted_trend\n",
    "        return new_demand\n",
    "    \n",
    "    def run(self,):\n",
    "        self.df.sales = self.df.sales.astype(float)\n",
    "        self.df.price = self.df.price.astype(int)\n",
    "        self.df.balance = self.df.balance.astype(int)\n",
    "        order = self.df.sales.to_numpy(copy=True)\n",
    "        price = self.df.price.to_numpy(copy=True)\n",
    "        balance = self.df.balance.to_numpy(copy=True)\n",
    "        price_norm = (price-self.min_price)/(self.max_price-self.min_price)\n",
    "        # extract trend\n",
    "        data = torch.zeros(1, price_norm.size, 3, dtype=torch.float32)\n",
    "        data[:,:,0] = torch.tensor(balance)\n",
    "        data[:,:,1] = torch.tensor(price_norm)\n",
    "        data[:,:,2] = torch.tensor(order)\n",
    "        trend = self.find_trend(data)\n",
    "        discount_order = order/trend\n",
    "        # exponenta model; returns vector of shape (5, -1) or (2, 1)\n",
    "        # B = balance == 1\n",
    "        # b = get_stat(price_norm[B], discount_order[B])\n",
    "        b = get_stat(price_norm, discount_order)\n",
    "        data_perm = data[:, :, 1:]\n",
    "        data_perm = data_perm.permute([1,0,2])\n",
    "        new_demand = self.predict_demand(data_perm, b)\n",
    "        return new_demand"
   ]
  },
  {
   "cell_type": "code",
   "execution_count": 247,
   "metadata": {},
   "outputs": [],
   "source": [
    "data_t = pd.read_csv(PRODUCTS_DIR+f'{52711355}.csv')\n",
    "num_days_to_predict = 30\n",
    "df = data_t[:-num_days_to_predict].copy()\n",
    "df_test = data_t[-num_days_to_predict:].copy()\n",
    "df.sales = df.sales.astype(float)\n",
    "df.price = df.price.astype(int)\n",
    "df.balance = df.balance.astype(int)\n",
    "\n",
    "min_price, max_price = df.price.min(), df.price.max()\n",
    "order = df.sales.to_numpy(copy=True)\n",
    "price = df.price.to_numpy(copy=True)\n",
    "balance = df['balance'].to_numpy(copy=True)\n",
    "df.loc[:, 'balance'] = 1\n",
    "balance[balance<=order] = 0\n",
    "df.loc[:, 'balance'] = balance\n",
    "price_norm = (price-min_price)/(max_price-min_price)\n",
    "# extract trend\n",
    "data = torch.zeros(1, price_norm.size, 3, dtype=torch.float32)\n",
    "data[:,:,0] = torch.tensor(balance)\n",
    "data[:,:,1] = torch.tensor(price_norm)\n",
    "data[:,:,2] = torch.tensor(order)"
   ]
  },
  {
   "cell_type": "code",
   "execution_count": 220,
   "metadata": {},
   "outputs": [],
   "source": [
    "model = PredictTrendBi(NEW_INPUT_SIZE, HIDDEN_DIM, NEW_NUM_LAYERS)\n",
    "model.load_state_dict(torch.load(WEIGHTS_DIR+'trend_2enc_1dec_128_bi', weights_only=False, \\\n",
    "    map_location='cpu'))\n",
    "\n",
    "trend = model(data)\n",
    "trend = trend.detach().numpy().squeeze()\n",
    "trend = trend/trend[-1]"
   ]
  },
  {
   "cell_type": "code",
   "execution_count": 250,
   "metadata": {},
   "outputs": [
    {
     "ename": "LinAlgError",
     "evalue": "Singular matrix",
     "output_type": "error",
     "traceback": [
      "\u001b[1;31m---------------------------------------------------------------------------\u001b[0m",
      "\u001b[1;31mLinAlgError\u001b[0m                               Traceback (most recent call last)",
      "Cell \u001b[1;32mIn[250], line 10\u001b[0m\n\u001b[0;32m      8\u001b[0m discount_order \u001b[38;5;241m=\u001b[39m order\u001b[38;5;241m/\u001b[39mtrend\n\u001b[0;32m      9\u001b[0m B \u001b[38;5;241m=\u001b[39m balance \u001b[38;5;241m==\u001b[39m \u001b[38;5;241m1\u001b[39m\n\u001b[1;32m---> 10\u001b[0m b \u001b[38;5;241m=\u001b[39m \u001b[43mget_stat\u001b[49m\u001b[43m(\u001b[49m\u001b[43mprice_norm\u001b[49m\u001b[43m[\u001b[49m\u001b[43mB\u001b[49m\u001b[43m]\u001b[49m\u001b[43m,\u001b[49m\u001b[43m \u001b[49m\u001b[43mdiscount_order\u001b[49m\u001b[43m[\u001b[49m\u001b[43mB\u001b[49m\u001b[43m]\u001b[49m\u001b[43m)\u001b[49m\n\u001b[0;32m     11\u001b[0m b \u001b[38;5;241m=\u001b[39m get_stat(price_norm, discount_order)\n\u001b[0;32m     12\u001b[0m data_perm \u001b[38;5;241m=\u001b[39m data[:, :, \u001b[38;5;241m1\u001b[39m:]\n",
      "File \u001b[1;32md:\\work\\market_place\\methods_comparison_test\\exponenta.py:61\u001b[0m, in \u001b[0;36mget_stat\u001b[1;34m(x, y, num_points, ci)\u001b[0m\n\u001b[0;32m     59\u001b[0m sqrtw \u001b[38;5;241m=\u001b[39m \u001b[38;5;241m1\u001b[39m\u001b[38;5;241m/\u001b[39msqrtirls \u001b[38;5;66;03m# = np.sqrt(mu)\u001b[39;00m\n\u001b[0;32m     60\u001b[0m b_old \u001b[38;5;241m=\u001b[39m b\n\u001b[1;32m---> 61\u001b[0m b,R \u001b[38;5;241m=\u001b[39m \u001b[43mwfit\u001b[49m\u001b[43m(\u001b[49m\u001b[43mz\u001b[49m\u001b[43m,\u001b[49m\u001b[43m \u001b[49m\u001b[43mx\u001b[49m\u001b[43m,\u001b[49m\u001b[43m \u001b[49m\u001b[43msqrtw\u001b[49m\u001b[43m)\u001b[49m\n\u001b[0;32m     62\u001b[0m eta \u001b[38;5;241m=\u001b[39m x\u001b[38;5;129m@b\u001b[39m\n\u001b[0;32m     63\u001b[0m mu \u001b[38;5;241m=\u001b[39m np\u001b[38;5;241m.\u001b[39mexp(eta)\n",
      "File \u001b[1;32md:\\work\\market_place\\methods_comparison_test\\exponenta.py:36\u001b[0m, in \u001b[0;36mwfit\u001b[1;34m(z, x, sw)\u001b[0m\n\u001b[0;32m     33\u001b[0m xw \u001b[38;5;241m=\u001b[39m x \u001b[38;5;241m*\u001b[39m SW\n\u001b[0;32m     35\u001b[0m Q,R \u001b[38;5;241m=\u001b[39m np\u001b[38;5;241m.\u001b[39mlinalg\u001b[38;5;241m.\u001b[39mqr(xw)\n\u001b[1;32m---> 36\u001b[0m b\u001b[38;5;241m=\u001b[39m \u001b[43mnp\u001b[49m\u001b[38;5;241;43m.\u001b[39;49m\u001b[43mlinalg\u001b[49m\u001b[38;5;241;43m.\u001b[39;49m\u001b[43minv\u001b[49m\u001b[43m(\u001b[49m\u001b[43mR\u001b[49m\u001b[38;5;241;43m.\u001b[39;49m\u001b[43mT\u001b[49m\u001b[38;5;129;43m@R\u001b[39;49m\u001b[43m)\u001b[49m\u001b[38;5;129m@R\u001b[39m\u001b[38;5;241m.\u001b[39mT\u001b[38;5;241m@\u001b[39m(Q\u001b[38;5;241m.\u001b[39mT\u001b[38;5;129m@yw\u001b[39m)\n\u001b[0;32m     37\u001b[0m \u001b[38;5;28;01mreturn\u001b[39;00m b, R\n",
      "File \u001b[1;32md:\\work\\market_place\\venv_second\\Lib\\site-packages\\numpy\\linalg\\linalg.py:561\u001b[0m, in \u001b[0;36minv\u001b[1;34m(a)\u001b[0m\n\u001b[0;32m    559\u001b[0m signature \u001b[38;5;241m=\u001b[39m \u001b[38;5;124m'\u001b[39m\u001b[38;5;124mD->D\u001b[39m\u001b[38;5;124m'\u001b[39m \u001b[38;5;28;01mif\u001b[39;00m isComplexType(t) \u001b[38;5;28;01melse\u001b[39;00m \u001b[38;5;124m'\u001b[39m\u001b[38;5;124md->d\u001b[39m\u001b[38;5;124m'\u001b[39m\n\u001b[0;32m    560\u001b[0m extobj \u001b[38;5;241m=\u001b[39m get_linalg_error_extobj(_raise_linalgerror_singular)\n\u001b[1;32m--> 561\u001b[0m ainv \u001b[38;5;241m=\u001b[39m \u001b[43m_umath_linalg\u001b[49m\u001b[38;5;241;43m.\u001b[39;49m\u001b[43minv\u001b[49m\u001b[43m(\u001b[49m\u001b[43ma\u001b[49m\u001b[43m,\u001b[49m\u001b[43m \u001b[49m\u001b[43msignature\u001b[49m\u001b[38;5;241;43m=\u001b[39;49m\u001b[43msignature\u001b[49m\u001b[43m,\u001b[49m\u001b[43m \u001b[49m\u001b[43mextobj\u001b[49m\u001b[38;5;241;43m=\u001b[39;49m\u001b[43mextobj\u001b[49m\u001b[43m)\u001b[49m\n\u001b[0;32m    562\u001b[0m \u001b[38;5;28;01mreturn\u001b[39;00m wrap(ainv\u001b[38;5;241m.\u001b[39mastype(result_t, copy\u001b[38;5;241m=\u001b[39m\u001b[38;5;28;01mFalse\u001b[39;00m))\n",
      "File \u001b[1;32md:\\work\\market_place\\venv_second\\Lib\\site-packages\\numpy\\linalg\\linalg.py:112\u001b[0m, in \u001b[0;36m_raise_linalgerror_singular\u001b[1;34m(err, flag)\u001b[0m\n\u001b[0;32m    111\u001b[0m \u001b[38;5;28;01mdef\u001b[39;00m \u001b[38;5;21m_raise_linalgerror_singular\u001b[39m(err, flag):\n\u001b[1;32m--> 112\u001b[0m     \u001b[38;5;28;01mraise\u001b[39;00m LinAlgError(\u001b[38;5;124m\"\u001b[39m\u001b[38;5;124mSingular matrix\u001b[39m\u001b[38;5;124m\"\u001b[39m)\n",
      "\u001b[1;31mLinAlgError\u001b[0m: Singular matrix"
     ]
    }
   ],
   "source": [
    "def predict_demand(data, b, tomm_price):\n",
    "    model = Seq2Seq(INPUT_SIZE, HIDDEN_SIZE, OUTPUT_SIZE)\n",
    "    model.load_state_dict(torch.load(WEIGHTS_DIR+'trend_gru', map_location='cpu'))\n",
    "    predicted_trend = model(data, num_step=1).detach().numpy().flatten()\n",
    "    new_demand = np.exp(b[0]+b[1]*tomm_price)*predicted_trend\n",
    "    return new_demand\n",
    "\n",
    "discount_order = order/trend\n",
    "B = balance == 1\n",
    "b = get_stat(price_norm[B], discount_order[B])\n",
    "b = get_stat(price_norm, discount_order)\n",
    "data_perm = data[:, :, 1:]\n",
    "data_perm = data_perm.permute([1,0,2])\n",
    "tomm_price = df_test.sales.iloc[0]\n",
    "new_demand = predict_demand(data_perm, b, tomm_price)\n",
    "new_demand"
   ]
  },
  {
   "cell_type": "code",
   "execution_count": 34,
   "metadata": {},
   "outputs": [],
   "source": [
    "def simulate_all_skus(skus, num_days_to_predict, **kwargs):\n",
    "    problems = set()\n",
    "    diverged = set()\n",
    "    res_old = list()\n",
    "    res_new = list()\n",
    "    res_new_v2 = list()\n",
    "    res_skus = list()\n",
    "    for sku in tqdm(skus):\n",
    "        print(sku)\n",
    "        print('================================')\n",
    "        demands_old = list()\n",
    "        demands_new = list()\n",
    "        demands_new_v2 = list()\n",
    "        path_file = os.path.join(PRODUCTS_DIR, f'{sku}.csv')\n",
    "        if os.path.isfile(path_file):\n",
    "            df = pd.read_csv(path_file)\n",
    "        else:\n",
    "            df = get_data(sku)\n",
    "            df.to_csv(path_file, index=False)\n",
    "        order = df.sales.to_numpy(copy=True)\n",
    "        df.loc[:, 'balance'] = 1\n",
    "        balance = df.balance.to_numpy(copy=True)\n",
    "        balance[balance<order] = 0\n",
    "        df.loc[:, 'balance'] = balance\n",
    "        train_df = df[:-num_days_to_predict].copy()\n",
    "        test_df = df[-num_days_to_predict:].copy()\n",
    "        demands_true = test_df.sales.to_numpy(copy=True)\n",
    "        # средняя продажа больше 1\n",
    "        # if demands_true.mean() < (1 - 1e-6):\n",
    "        #     continue\n",
    "        try:\n",
    "            for step in range(test_df.shape[0]):\n",
    "                # сразу добавляем последнюю цену, чтобы она учитывалась в краевых значениях\n",
    "                train_df = pd.concat([train_df.copy(), test_df.iloc[step].to_frame().transpose()])\n",
    "                min_price, max_price = train_df.price.min(), train_df.price.max()\n",
    "                tomm_price = test_df.copy().price.iloc[step]\n",
    "                tomm_price = (tomm_price-min_price)/(max_price-min_price)\n",
    "                \n",
    "                # old = OldBiLSTMMethod(train_df.iloc[:, :-1].copy(), tomm_price, min_price, max_price)\n",
    "                # demand_old = old.run(**kwargs)\n",
    "                # demands_old.append(demand_old)\n",
    "                \n",
    "                new = NewMethod(train_df.iloc[:-1, :].copy(), tomm_price, min_price, max_price)\n",
    "                demand_new = new.run(**kwargs)\n",
    "                demands_new.append(demand_new)\n",
    "                \n",
    "                # new_v2 = NewV2Method(train_df.copy(), tomm_price, min_price, max_price)\n",
    "                # demand_new_v2 = new_v2.run(**kwargs)\n",
    "                # demands_new_v2.append(demand_new_v2)\n",
    "        except (RuntimeError, RuntimeWarning):\n",
    "                diverged.add(sku)\n",
    "        except (ValueError, TypeError):\n",
    "                problems.add(sku)\n",
    "        # demands_old = np.array(demands_old).flatten() \n",
    "        demands_new = np.array(demands_new).flatten()\n",
    "        # demands_new_v2 = np.array(demands_new_v2).flatten()\n",
    "        # res_old.append((demands_old.sum() - demands_true.sum())/(demands_true.sum() + EPS))\n",
    "        res_new.append((demands_new.sum() - demands_true.sum())/demands_true.sum())\n",
    "        # res_new_v2.append((demands_new_v2.sum() - demands_true.sum())/(demands_true.sum() + EPS))\n",
    "        res_skus.append(sku)\n",
    "    # res_df = pd.DataFrame([np.abs(res_old), np.abs(res_new), np.abs(res_new_v2), \\\n",
    "        # res_skus]).T.reset_index(drop=True)\n",
    "    res_df = pd.DataFrame([np.abs(res_new), res_skus]).T.dropna().reset_index(drop=True)\n",
    "    # res_df.columns = ['old', 'new', 'new_v2', 'sku'] \n",
    "    res_df.columns = ['new', 'sku']\n",
    "    res_df.sku = res_df.sku.astype(int)\n",
    "    return res_df, problems, diverged"
   ]
  },
  {
   "cell_type": "markdown",
   "metadata": {},
   "source": [
    "# Первый список"
   ]
  },
  {
   "cell_type": "code",
   "execution_count": 35,
   "metadata": {},
   "outputs": [],
   "source": [
    "# sample = pd.read_excel('Выборки_товаров_для_ИИ_итоговый_24_05_06.xlsx', sheet_name=3)\n",
    "# skus = sample['Номенклатура'].to_numpy(copy=True)"
   ]
  },
  {
   "cell_type": "code",
   "execution_count": 36,
   "metadata": {},
   "outputs": [],
   "source": [
    "L = os.listdir('data/products/')\n",
    "skus = [int(sku[:-4]) for sku in L]"
   ]
  },
  {
   "cell_type": "code",
   "execution_count": null,
   "metadata": {},
   "outputs": [],
   "source": [
    "res_df, problems, diveged = simulate_all_skus(skus, 30)"
   ]
  },
  {
   "cell_type": "code",
   "execution_count": 60,
   "metadata": {},
   "outputs": [
    {
     "data": {
      "text/plain": [
       "(set(), set())"
      ]
     },
     "execution_count": 60,
     "metadata": {},
     "output_type": "execute_result"
    }
   ],
   "source": [
    "problems, diveged"
   ]
  },
  {
   "cell_type": "code",
   "execution_count": 88,
   "metadata": {},
   "outputs": [
    {
     "data": {
      "text/plain": [
       "[0.3087477201145238, 84626283.26829268]"
      ]
     },
     "execution_count": 88,
     "metadata": {},
     "output_type": "execute_result"
    }
   ],
   "source": [
    "res_df.mean().tolist()"
   ]
  },
  {
   "cell_type": "code",
   "execution_count": 17,
   "metadata": {},
   "outputs": [
    {
     "data": {
      "text/plain": [
       "[0.44134537964393156,\n",
       " 0.6495521126868835,\n",
       " 0.22970833237212573,\n",
       " 84626283.26829268]"
      ]
     },
     "execution_count": 17,
     "metadata": {},
     "output_type": "execute_result"
    }
   ],
   "source": [
    "res_df.mean().tolist()"
   ]
  },
  {
   "cell_type": "code",
   "execution_count": null,
   "metadata": {},
   "outputs": [],
   "source": [
    "res_df"
   ]
  },
  {
   "cell_type": "code",
   "execution_count": 170,
   "metadata": {},
   "outputs": [
    {
     "data": {
      "text/plain": [
       "[0.44134537964393156,\n",
       " 0.23078187370694683,\n",
       " 0.22525083071975918,\n",
       " 84626283.26829268]"
      ]
     },
     "execution_count": 170,
     "metadata": {},
     "output_type": "execute_result"
    }
   ],
   "source": [
    "res_df.mean().tolist()"
   ]
  },
  {
   "cell_type": "code",
   "execution_count": 167,
   "metadata": {},
   "outputs": [],
   "source": [
    "res_df_ch = res_df.copy()"
   ]
  },
  {
   "cell_type": "code",
   "execution_count": 171,
   "metadata": {},
   "outputs": [],
   "source": [
    "res_df_nch = res_df.copy()"
   ]
  },
  {
   "cell_type": "code",
   "execution_count": 192,
   "metadata": {},
   "outputs": [
    {
     "data": {
      "text/html": [
       "<div>\n",
       "<style scoped>\n",
       "    .dataframe tbody tr th:only-of-type {\n",
       "        vertical-align: middle;\n",
       "    }\n",
       "\n",
       "    .dataframe tbody tr th {\n",
       "        vertical-align: top;\n",
       "    }\n",
       "\n",
       "    .dataframe thead th {\n",
       "        text-align: right;\n",
       "    }\n",
       "</style>\n",
       "<table border=\"1\" class=\"dataframe\">\n",
       "  <thead>\n",
       "    <tr style=\"text-align: right;\">\n",
       "      <th></th>\n",
       "      <th>old</th>\n",
       "      <th>new</th>\n",
       "      <th>new_v2</th>\n",
       "    </tr>\n",
       "  </thead>\n",
       "  <tbody>\n",
       "    <tr>\n",
       "      <th>17</th>\n",
       "      <td>0.949054</td>\n",
       "      <td>0.952772</td>\n",
       "      <td>1.0</td>\n",
       "    </tr>\n",
       "    <tr>\n",
       "      <th>24</th>\n",
       "      <td>0.955756</td>\n",
       "      <td>0.969433</td>\n",
       "      <td>1.0</td>\n",
       "    </tr>\n",
       "    <tr>\n",
       "      <th>28</th>\n",
       "      <td>0.972675</td>\n",
       "      <td>0.974825</td>\n",
       "      <td>1.0</td>\n",
       "    </tr>\n",
       "    <tr>\n",
       "      <th>32</th>\n",
       "      <td>0.953416</td>\n",
       "      <td>0.960418</td>\n",
       "      <td>1.0</td>\n",
       "    </tr>\n",
       "    <tr>\n",
       "      <th>37</th>\n",
       "      <td>0.937864</td>\n",
       "      <td>0.959995</td>\n",
       "      <td>1.0</td>\n",
       "    </tr>\n",
       "    <tr>\n",
       "      <th>40</th>\n",
       "      <td>0.954010</td>\n",
       "      <td>0.954797</td>\n",
       "      <td>1.0</td>\n",
       "    </tr>\n",
       "  </tbody>\n",
       "</table>\n",
       "</div>"
      ],
      "text/plain": [
       "         old       new  new_v2\n",
       "17  0.949054  0.952772     1.0\n",
       "24  0.955756  0.969433     1.0\n",
       "28  0.972675  0.974825     1.0\n",
       "32  0.953416  0.960418     1.0\n",
       "37  0.937864  0.959995     1.0\n",
       "40  0.954010  0.954797     1.0"
      ]
     },
     "execution_count": 192,
     "metadata": {},
     "output_type": "execute_result"
    }
   ],
   "source": [
    "res_df_ch.drop(columns='sku')[res_df_ch != res_df_nch].dropna()"
   ]
  },
  {
   "cell_type": "code",
   "execution_count": 197,
   "metadata": {},
   "outputs": [
    {
     "data": {
      "text/plain": [
       "139"
      ]
     },
     "execution_count": 197,
     "metadata": {},
     "output_type": "execute_result"
    }
   ],
   "source": [
    "t = pd.read_csv(PRODUCTS_DIR+f'{52711355}.csv')\n",
    "t.sales[-30:].sum()"
   ]
  },
  {
   "cell_type": "code",
   "execution_count": null,
   "metadata": {},
   "outputs": [],
   "source": []
  },
  {
   "cell_type": "code",
   "execution_count": 191,
   "metadata": {},
   "outputs": [
    {
     "data": {
      "text/plain": [
       "[0.43898622975315993,\n",
       " 0.24983580205218361,\n",
       " 0.7309191021415326,\n",
       " 88876117.14285715]"
      ]
     },
     "execution_count": 191,
     "metadata": {},
     "output_type": "execute_result"
    }
   ],
   "source": [
    "res_df_ch.drop([17, 24, 28, 32, 37, 40]).mean().tolist()"
   ]
  },
  {
   "cell_type": "code",
   "execution_count": 187,
   "metadata": {},
   "outputs": [
    {
     "data": {
      "text/plain": [
       "[0.6144228705900813, 0.1840638095546471, 0.11792013294245896, 52711355.0]"
      ]
     },
     "execution_count": 187,
     "metadata": {},
     "output_type": "execute_result"
    }
   ],
   "source": [
    "res_df_nch.iloc[17].tolist()"
   ]
  },
  {
   "cell_type": "code",
   "execution_count": 32,
   "metadata": {},
   "outputs": [
    {
     "data": {
      "text/plain": [
       "(0.4, 0.6)"
      ]
     },
     "execution_count": 32,
     "metadata": {},
     "output_type": "execute_result"
    }
   ],
   "source": [
    "res_df[res_df.new < res_df.old].shape[0]/res_df.shape[0], res_df[res_df.old < res_df.new].shape[0]/res_df.shape[0]"
   ]
  },
  {
   "cell_type": "code",
   "execution_count": 33,
   "metadata": {},
   "outputs": [
    {
     "data": {
      "text/plain": [
       "[0.46356538883995935, 0.6475075012041599]"
      ]
     },
     "execution_count": 33,
     "metadata": {},
     "output_type": "execute_result"
    }
   ],
   "source": [
    "res_df.mean().to_numpy(copy=True).tolist()[:2]"
   ]
  },
  {
   "cell_type": "markdown",
   "metadata": {},
   "source": [
    "# Второй список"
   ]
  },
  {
   "cell_type": "code",
   "execution_count": null,
   "metadata": {},
   "outputs": [],
   "source": [
    "sample = pd.read_excel('Выборки_товаров_для_ИИ_21.06.xlsx', sheet_name=3)\n",
    "skus = sample['NM ID'].to_numpy(copy=True)\n",
    "res_df2, _, _ = simulate_all_skus(skus, 30)"
   ]
  },
  {
   "cell_type": "code",
   "execution_count": 17,
   "metadata": {},
   "outputs": [
    {
     "data": {
      "text/plain": [
       "[0.38418689468856015, 2.460955168762658]"
      ]
     },
     "execution_count": 17,
     "metadata": {},
     "output_type": "execute_result"
    }
   ],
   "source": [
    "res_df2.drop([36, 42, 31]).mean().to_numpy(copy=True).tolist()[:2]"
   ]
  },
  {
   "cell_type": "code",
   "execution_count": null,
   "metadata": {},
   "outputs": [],
   "source": [
    "res_df2"
   ]
  },
  {
   "cell_type": "code",
   "execution_count": null,
   "metadata": {},
   "outputs": [],
   "source": [
    "t = pd.read_csv(PRODUCTS_DIR+f'{52711355}.csv')\n",
    "t.sales.value_counts()\n",
    "t.iloc[-30:]"
   ]
  }
 ],
 "metadata": {
  "kernelspec": {
   "display_name": "venv_second",
   "language": "python",
   "name": "python3"
  },
  "language_info": {
   "codemirror_mode": {
    "name": "ipython",
    "version": 3
   },
   "file_extension": ".py",
   "mimetype": "text/x-python",
   "name": "python",
   "nbconvert_exporter": "python",
   "pygments_lexer": "ipython3",
   "version": "3.12.3"
  }
 },
 "nbformat": 4,
 "nbformat_minor": 2
}
