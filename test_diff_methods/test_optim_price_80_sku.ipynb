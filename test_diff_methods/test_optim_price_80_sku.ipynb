{
 "cells": [
  {
   "cell_type": "code",
   "execution_count": 9,
   "metadata": {},
   "outputs": [],
   "source": [
    "import numpy as np\n",
    "import matplotlib.pyplot as plt\n",
    "import pandas as pd\n",
    "import os\n",
    "from tqdm import tqdm\n",
    "\n",
    "from get_data_all_sources import get_data, make_mpstats_request\n",
    "from source.net_bilstm import BiLSTMAutoencoder # old solution\n",
    "from source.net_trend_bi import PredictTrendBi # new solution\n",
    "from source.net_expect import ExpectParams # new exponenta solution\n",
    "from source.net_seq2seq import Seq2Seq \n",
    "from source.exponenta import get_stat\n",
    "\n",
    "from datetime import datetime, timedelta\n",
    "\n",
    "import torch\n",
    "import torch.nn as nn\n",
    "import requests\n",
    "\n",
    "DATA_PATH = 'data/'\n",
    "SOURCE_PATH = 'source/'\n",
    "PRODUCTS_DIR = 'products/'\n",
    "WEIGHTS_DIR = 'weights/'\n",
    "PRODUCTS_PRICES_DIR = 'products_prices/'\n",
    "\n",
    "device = torch.device('cuda' if torch.cuda.is_available() else 'cpu')\n",
    "\n",
    "def make_tg_report(text) -> None:\n",
    "    token = '6498069099:AAFtdDZFR-A1h1F-8FvOpt6xIzqjCbdLdsc'\n",
    "    method = 'sendMessage'\n",
    "    chat_id = 324956476\n",
    "    _ = requests.post(\n",
    "            url='https://api.telegram.org/bot{0}/{1}'.format(token, method),\n",
    "            data={'chat_id': chat_id, 'text': text} \n",
    "        ).json()"
   ]
  },
  {
   "cell_type": "code",
   "execution_count": 6,
   "metadata": {},
   "outputs": [],
   "source": [
    "%load_ext autoreload\n",
    "%autoreload 2"
   ]
  },
  {
   "cell_type": "code",
   "execution_count": 7,
   "metadata": {},
   "outputs": [],
   "source": [
    "model_v1 = BiLSTMAutoencoder(2, 128, 1)\n",
    "model_v1.load_state_dict(torch.load(WEIGHTS_DIR+'trend_bilstm_cpu', weights_only=False, map_location=device));\n",
    "\n",
    "model_v2 = PredictTrendBi(3, 128, 2)\n",
    "model_v2.load_state_dict(torch.load(WEIGHTS_DIR+'trend_2enc_1dec_128_bi', weights_only=False, map_location=device));   \n",
    "\n",
    "model_v2_exp = ExpectParams(3, 128)\n",
    "model_v2_exp.load_state_dict(torch.load(WEIGHTS_DIR+'expect_128_1', weights_only=False, map_location=device));  \n",
    "\n",
    "model_s2s = Seq2Seq(2, 256, 1)\n",
    "model_s2s.load_state_dict(torch.load(WEIGHTS_DIR+'trend_gru', map_location=device));"
   ]
  },
  {
   "cell_type": "code",
   "execution_count": null,
   "metadata": {},
   "outputs": [],
   "source": [
    "# летний тест с датами до мая\n",
    "NUM_DAYS = 30\n",
    "L = os.listdir('products_prices/')\n",
    "Z = np.zeros((len(L),4+1))\n",
    "for k,ls in enumerate(tqdm(L)):\n",
    "    df = pd.read_csv('products_prices/'+ls)\n",
    "    sku = int(ls[:-4])\n",
    "    # print(sku)\n",
    "    # print('================================')\n",
    "    data = df.iloc[:,1:4].to_numpy(copy=True)\n",
    "    sum_v1, sum_v2, sum_v2_exp, real = 0,0,0,0 \n",
    "    for day in range(NUM_DAYS):\n",
    "        p = data[:len(data)-NUM_DAYS+day+1, 1] # добавляем единицу чтобы завтрашняя цена была в нормировке\n",
    "        x = (p - p.min())/(p.max()-p.min())\n",
    "        tomm_price = x[-1]\n",
    "        x = x[:-1] # убираем обратно\n",
    "        order = data[:-NUM_DAYS+day, 0]\n",
    "        balance = data[:-NUM_DAYS+day, 2]\n",
    "        bal = np.ones_like(balance)\n",
    "        # bal[balance<order] = 0\n",
    "        LEN = x.size\n",
    "        Xv1 = torch.zeros(1,LEN,2,dtype=torch.float32)\n",
    "        Xv1[:,:,0] = torch.tensor(x)\n",
    "        Xv1[:,:,1] = torch.tensor(order)\n",
    "        Xv2 = torch.zeros(1,LEN,3,dtype=torch.float32)\n",
    "        Xv2[:,:,0] = torch.tensor(bal)\n",
    "        Xv2[:,:,1] = torch.tensor(x)\n",
    "        Xv2[:,:,2] = torch.tensor(order)\n",
    "        \n",
    "        # old\n",
    "        out_v1 = model_v1(Xv1).detach().squeeze()\n",
    "        discount_v1 = order/out_v1.numpy()*out_v1.numpy()[-1]\n",
    "        b = get_stat(x,discount_v1)\n",
    "        predict_v1 = np.exp(b[0]+tomm_price*b[1])\n",
    "        sum_v1 += predict_v1\n",
    "        \n",
    "        # new_expect\n",
    "        out_v2_exp = model_v2_exp(Xv2).detach().squeeze().numpy()\n",
    "        predict_v2_exp = np.exp(out_v2_exp[1]-tomm_price*out_v2_exp[0])\n",
    "        sum_v2_exp += predict_v2_exp\n",
    "        \n",
    "        # new\n",
    "        out_v2 = model_v2(Xv2).detach().squeeze()\n",
    "        discount_v2 = order/out_v2.numpy()*out_v2.numpy()[-1]\n",
    "        # B = bal == 1\n",
    "        # x_test = x\n",
    "        # b = get_stat(x_test[B], discount_v2[B])\n",
    "        b = get_stat(x, discount_v2)\n",
    "        predict_v2 = np.exp(b[0]+tomm_price*b[1])\n",
    "        sum_v2 += predict_v2\n",
    "        \n",
    "        real += data[-NUM_DAYS+day, 0]\n",
    "    Z[k,0] = sum_v1\n",
    "    Z[k,1] = sum_v2 \n",
    "    Z[k,2] = sum_v2_exp \n",
    "    Z[k,3] = real\n",
    "    Z[k,4] = sku\n",
    "    \n",
    "b1 = Z[:,3] >= 30\n",
    "Zb = Z[b1,:]\n",
    "z = np.zeros_like(Zb[:,:3])\n",
    "z[:,0] = (Zb[:,3] - Zb[:,0])/Zb[:,3]\n",
    "z[:,1] = (Zb[:,3] - Zb[:,1])/Zb[:,3]\n",
    "z[:,2] = (Zb[:,3] - Zb[:,2])/Zb[:,3]\n",
    "z.mean(axis=0), np.abs(z).mean(axis=0), np.sqrt((z**2).mean(axis=0))"
   ]
  },
  {
   "cell_type": "code",
   "execution_count": 143,
   "metadata": {},
   "outputs": [
    {
     "data": {
      "text/plain": [
       "(array([-3.51991614e-01, -8.38527246e-02, -1.65698066e-02,  8.46262833e+07]),\n",
       " array([4.46747368e-01, 2.58370022e-01, 1.99919154e-01, 8.46262833e+07]),\n",
       " array([5.27494738e-01, 3.65006518e-01, 2.77106428e-01, 9.39835444e+07]))"
      ]
     },
     "execution_count": 143,
     "metadata": {},
     "output_type": "execute_result"
    }
   ],
   "source": [
    "b1 = Z[:,3] >= 30\n",
    "Zb = Z[b1,:]\n",
    "z = np.zeros_like(Zb[:,[0, 1, 2, 4]])\n",
    "z[:,0] = (Zb[:,3] - Zb[:,0])/Zb[:,3]\n",
    "z[:,1] = (Zb[:,3] - Zb[:,1])/Zb[:,3]\n",
    "z[:,2] = (Zb[:,3] - Zb[:,2])/Zb[:,3]\n",
    "z[:,3] = Zb[:, 4] \n",
    "z.mean(axis=0), np.abs(z).mean(axis=0), np.sqrt((z**2).mean(axis=0))"
   ]
  },
  {
   "cell_type": "code",
   "execution_count": null,
   "metadata": {},
   "outputs": [],
   "source": [
    "# data = df.iloc[:,1:4].to_numpy(copy=True)\n",
    "# print(df.columns)\n",
    "# # bal = np.ones_like(balance)\n",
    "# order = data[:-NUM_DAYS, 0]\n",
    "# balance = data[:-NUM_DAYS, 2]\n",
    "# bal = np.ones_like(balance)\n",
    "# bal[balance<order] = 0\n",
    "# bal"
   ]
  },
  {
   "cell_type": "code",
   "execution_count": null,
   "metadata": {},
   "outputs": [],
   "source": [
    "NUM_DAYS = 30\n",
    "L = os.listdir('new_products/')\n",
    "Z = np.zeros((len(L),5))\n",
    "for k,ls in enumerate(tqdm(L)):\n",
    "    try:\n",
    "        df = pd.read_csv('new_products/'+ls)\n",
    "        p = df.price.to_numpy(copy=True)\n",
    "        x = (p - p.min())/(p.max()-p.min())\n",
    "        order = df.sales.to_numpy(copy=True)\n",
    "        balance = df.balance.to_numpy(copy=True)\n",
    "        bal = np.ones_like(balance)\n",
    "        # bal[balance<order] = 0\n",
    "        LEN = p.size\n",
    "        Xv1 = torch.zeros(1,LEN,2,dtype=torch.float32)\n",
    "        Xv1[:,:,0] = torch.tensor(x)\n",
    "        Xv1[:,:,1] = torch.tensor(order)\n",
    "        Xv2 = torch.zeros(1,LEN,3,dtype=torch.float32)\n",
    "        Xv2[:,:,0] = torch.tensor(bal)\n",
    "        Xv2[:,:,1] = torch.tensor(x)\n",
    "        Xv2[:,:,2] = torch.tensor(order)\n",
    "        sum_v1, sum_v2, sum_v2_exp, mean_predict, real = 0,0,0,0,0 \n",
    "        for day in range(NUM_DAYS):\n",
    "            # old\n",
    "            out_v1 = model_v1(Xv1[:,:-NUM_DAYS+day,:]).detach().squeeze()\n",
    "            discount_v1 = order[:-NUM_DAYS+day]/out_v1.numpy()*out_v1.numpy()[-1]\n",
    "            b = get_stat(x[:-NUM_DAYS+day],discount_v1)\n",
    "            predict_v1 = np.exp(b[0]+x[LEN-NUM_DAYS+day]*b[1])\n",
    "            sum_v1 += predict_v1\n",
    "            \n",
    "            # new_expect\n",
    "            out_v2_exp = model_v2_exp(Xv2[:,:-NUM_DAYS+day,:]).detach().squeeze().numpy()\n",
    "            predict_v2_exp = np.exp(out_v2_exp[1]-x[LEN-NUM_DAYS+day]*out_v2_exp[0])\n",
    "            sum_v2_exp += predict_v2_exp\n",
    "            \n",
    "            # # new\n",
    "            out_v2 = model_v2(Xv2[:,:-NUM_DAYS+day,:]).detach().squeeze()\n",
    "            discount_v2 = order[:-NUM_DAYS+day]/out_v2.numpy()*out_v2.numpy()[-1]\n",
    "            x_test = x[:-NUM_DAYS+day]\n",
    "            # B = bal[:-NUM_DAYS+day] == 1\n",
    "            # b = get_stat(x_test[B],discount_v2[B])\n",
    "            b = get_stat(x_test, discount_v2)\n",
    "            predict_v2 = np.exp(b[0]+x[LEN-NUM_DAYS+day]*b[1])\n",
    "            sum_v2 += predict_v2\n",
    "            \n",
    "            mean_predict += (predict_v2_exp+predict_v2)/2\n",
    "            real += order[LEN-NUM_DAYS+day]\n",
    "\n",
    "        Z[k,0] = sum_v1\n",
    "        Z[k,1] = sum_v2 \n",
    "        Z[k,2] = sum_v2_exp \n",
    "        Z[k,3] = mean_predict\n",
    "        Z[k,4] = real\n",
    "    except:\n",
    "        print(f'не получилось с {ls}')\n",
    "make_tg_report('готово')"
   ]
  },
  {
   "cell_type": "code",
   "execution_count": 7,
   "metadata": {},
   "outputs": [
    {
     "data": {
      "text/plain": [
       "(array([-0.50613507, -0.17565145, -0.20400219, -0.18982682]),\n",
       " array([0.6368612 , 0.38128089, 0.36723146, 0.35705982]),\n",
       " array([1.0935101 , 0.61001009, 0.60764233, 0.58194687]))"
      ]
     },
     "execution_count": 7,
     "metadata": {},
     "output_type": "execute_result"
    }
   ],
   "source": [
    "# с единицами\n",
    "b1 = Z[:,-1] >= 30\n",
    "Zb = Z[b1,:]\n",
    "z = np.zeros_like(Zb[:,:-1])\n",
    "z[:,0] = (Zb[:,-1] - Zb[:,0])/Zb[:,-1]\n",
    "z[:,1] = (Zb[:,-1] - Zb[:,1])/Zb[:,-1]\n",
    "z[:,2] = (Zb[:,-1] - Zb[:,2])/Zb[:,-1]\n",
    "z[:,3] = (Zb[:,-1] - Zb[:,3])/Zb[:,-1]\n",
    "z_wnans = z.copy()\n",
    "z = z[~np.isnan(z).any(axis=1)]\n",
    "z.mean(axis=0), np.abs(z).mean(axis=0), np.sqrt((z**2).mean(axis=0))"
   ]
  },
  {
   "cell_type": "code",
   "execution_count": 12,
   "metadata": {},
   "outputs": [
    {
     "data": {
      "text/plain": [
       "(array([-0.50613507, -0.17329789, -0.18412759, -0.17871274]),\n",
       " array([0.6368612 , 0.37630269, 0.36147345, 0.35230373]),\n",
       " array([1.0935101 , 0.59940399, 0.58905355, 0.56865914]))"
      ]
     },
     "execution_count": 12,
     "metadata": {},
     "output_type": "execute_result"
    }
   ],
   "source": [
    "# с нулями\n",
    "b1 = Z[:,-1] >= 30\n",
    "Zb = Z[b1,:]\n",
    "z = np.zeros_like(Zb[:,:-1])\n",
    "z[:,0] = (Zb[:,-1] - Zb[:,0])/Zb[:,-1]\n",
    "z[:,1] = (Zb[:,-1] - Zb[:,1])/Zb[:,-1]\n",
    "z[:,2] = (Zb[:,-1] - Zb[:,2])/Zb[:,-1]\n",
    "z[:,3] = (Zb[:,-1] - Zb[:,3])/Zb[:,-1]\n",
    "z_wnans = z.copy()\n",
    "z = z[~np.isnan(z).any(axis=1)]\n",
    "z.mean(axis=0), np.abs(z).mean(axis=0), np.sqrt((z**2).mean(axis=0))"
   ]
  },
  {
   "cell_type": "code",
   "execution_count": 32,
   "metadata": {},
   "outputs": [
    {
     "name": "stdout",
     "output_type": "stream",
     "text": [
      "55 товаров\n"
     ]
    },
    {
     "name": "stderr",
     "output_type": "stream",
     "text": [
      "C:\\Users\\kizee\\AppData\\Local\\Temp\\ipykernel_1980\\938369932.py:4: RuntimeWarning: divide by zero encountered in divide\n",
      "  z[:,0] = (Zb[:,-1] - Zb[:,0])/Zb[:,-1]\n",
      "C:\\Users\\kizee\\AppData\\Local\\Temp\\ipykernel_1980\\938369932.py:4: RuntimeWarning: invalid value encountered in divide\n",
      "  z[:,0] = (Zb[:,-1] - Zb[:,0])/Zb[:,-1]\n",
      "C:\\Users\\kizee\\AppData\\Local\\Temp\\ipykernel_1980\\938369932.py:5: RuntimeWarning: divide by zero encountered in divide\n",
      "  z[:,1] = (Zb[:,-1] - Zb[:,1])/Zb[:,-1]\n",
      "C:\\Users\\kizee\\AppData\\Local\\Temp\\ipykernel_1980\\938369932.py:5: RuntimeWarning: invalid value encountered in divide\n",
      "  z[:,1] = (Zb[:,-1] - Zb[:,1])/Zb[:,-1]\n",
      "C:\\Users\\kizee\\AppData\\Local\\Temp\\ipykernel_1980\\938369932.py:6: RuntimeWarning: divide by zero encountered in divide\n",
      "  z[:,2] = (Zb[:,-1] - Zb[:,2])/Zb[:,-1]\n",
      "C:\\Users\\kizee\\AppData\\Local\\Temp\\ipykernel_1980\\938369932.py:6: RuntimeWarning: invalid value encountered in divide\n",
      "  z[:,2] = (Zb[:,-1] - Zb[:,2])/Zb[:,-1]\n",
      "C:\\Users\\kizee\\AppData\\Local\\Temp\\ipykernel_1980\\938369932.py:7: RuntimeWarning: divide by zero encountered in divide\n",
      "  z[:,3] = (Zb[:,-1] - Zb[:,3])/Zb[:,-1]\n",
      "C:\\Users\\kizee\\AppData\\Local\\Temp\\ipykernel_1980\\938369932.py:7: RuntimeWarning: invalid value encountered in divide\n",
      "  z[:,3] = (Zb[:,-1] - Zb[:,3])/Zb[:,-1]\n"
     ]
    },
    {
     "data": {
      "text/plain": [
       "(array([-12.0033317 , -10.42510797, -10.42890545, -10.42700671]),\n",
       " array([12.07419905, 10.53266373, 10.44008809, 10.45306962]),\n",
       " array([25.44589614, 29.32204404, 19.47832455, 23.79150876]))"
      ]
     },
     "execution_count": 32,
     "metadata": {},
     "output_type": "execute_result"
    }
   ],
   "source": [
    "b1 = Z[:,-1] <10\n",
    "Zb = Z[b1,:]\n",
    "z = np.zeros_like(Zb[:,:-1])\n",
    "z[:,0] = (Zb[:,-1] - Zb[:,0])/Zb[:,-1]\n",
    "z[:,1] = (Zb[:,-1] - Zb[:,1])/Zb[:,-1]\n",
    "z[:,2] = (Zb[:,-1] - Zb[:,2])/Zb[:,-1]\n",
    "z[:,3] = (Zb[:,-1] - Zb[:,3])/Zb[:,-1]\n",
    "z_wnans = z.copy()\n",
    "z = z[~np.isnan(z).any(axis=1)]\n",
    "z = z[~np.isinf(z).any(axis=1)]\n",
    "print(f'{z.shape[0]} товаров')\n",
    "z.mean(axis=0), np.abs(z).mean(axis=0), np.sqrt((z**2).mean(axis=0))"
   ]
  },
  {
   "cell_type": "code",
   "execution_count": 35,
   "metadata": {},
   "outputs": [
    {
     "name": "stdout",
     "output_type": "stream",
     "text": [
      "36 товаров\n"
     ]
    },
    {
     "data": {
      "text/plain": [
       "(array([-4.63214328, -2.60619376, -2.52408292, -2.56513834]),\n",
       " array([4.78154417, 2.7895946 , 2.57413302, 2.65529717]),\n",
       " array([6.96479339, 3.99879828, 3.30274657, 3.55278103]))"
      ]
     },
     "execution_count": 35,
     "metadata": {},
     "output_type": "execute_result"
    }
   ],
   "source": [
    "b1 = (Z[:,-1] >=10) & ((Z[:,-1] <20))\n",
    "Zb = Z[b1,:]\n",
    "z = np.zeros_like(Zb[:,:-1])\n",
    "z[:,0] = (Zb[:,-1] - Zb[:,0])/Zb[:,-1]\n",
    "z[:,1] = (Zb[:,-1] - Zb[:,1])/Zb[:,-1]\n",
    "z[:,2] = (Zb[:,-1] - Zb[:,2])/Zb[:,-1]\n",
    "z[:,3] = (Zb[:,-1] - Zb[:,3])/Zb[:,-1]\n",
    "z_wnans = z.copy()\n",
    "z = z[~np.isnan(z).any(axis=1)]\n",
    "print(f'{z.shape[0]} товаров')\n",
    "z.mean(axis=0), np.abs(z).mean(axis=0), np.sqrt((z**2).mean(axis=0))"
   ]
  },
  {
   "cell_type": "code",
   "execution_count": 36,
   "metadata": {},
   "outputs": [
    {
     "name": "stdout",
     "output_type": "stream",
     "text": [
      "24 товаров\n"
     ]
    },
    {
     "data": {
      "text/plain": [
       "(array([-2.93482489, -1.47172365, -1.71799933, -1.59486149]),\n",
       " array([2.98526752, 1.5604779 , 1.79554309, 1.67801049]),\n",
       " array([4.05835842, 2.09247748, 2.22970002, 2.10467961]))"
      ]
     },
     "execution_count": 36,
     "metadata": {},
     "output_type": "execute_result"
    }
   ],
   "source": [
    "b1 = (Z[:,-1] >=20) & ((Z[:,-1] <30))\n",
    "Zb = Z[b1,:]\n",
    "z = np.zeros_like(Zb[:,:-1])\n",
    "z[:,0] = (Zb[:,-1] - Zb[:,0])/Zb[:,-1]\n",
    "z[:,1] = (Zb[:,-1] - Zb[:,1])/Zb[:,-1]\n",
    "z[:,2] = (Zb[:,-1] - Zb[:,2])/Zb[:,-1]\n",
    "z[:,3] = (Zb[:,-1] - Zb[:,3])/Zb[:,-1]\n",
    "z_wnans = z.copy()\n",
    "z = z[~np.isnan(z).any(axis=1)]\n",
    "print(f'{z.shape[0]} товаров')\n",
    "z.mean(axis=0), np.abs(z).mean(axis=0), np.sqrt((z**2).mean(axis=0))"
   ]
  },
  {
   "cell_type": "code",
   "execution_count": 37,
   "metadata": {},
   "outputs": [
    {
     "name": "stdout",
     "output_type": "stream",
     "text": [
      "54 товаров\n"
     ]
    },
    {
     "data": {
      "text/plain": [
       "(array([-1.94077603, -0.98501258, -1.15652197, -1.07076728]),\n",
       " array([1.98328143, 1.03712265, 1.1884556 , 1.11084725]),\n",
       " array([2.52721102, 1.31417467, 1.38150862, 1.313341  ]))"
      ]
     },
     "execution_count": 37,
     "metadata": {},
     "output_type": "execute_result"
    }
   ],
   "source": [
    "b1 = (Z[:,-1] >=30) & ((Z[:,-1] <60))\n",
    "Zb = Z[b1,:]\n",
    "z = np.zeros_like(Zb[:,:-1])\n",
    "z[:,0] = (Zb[:,-1] - Zb[:,0])/Zb[:,-1]\n",
    "z[:,1] = (Zb[:,-1] - Zb[:,1])/Zb[:,-1]\n",
    "z[:,2] = (Zb[:,-1] - Zb[:,2])/Zb[:,-1]\n",
    "z[:,3] = (Zb[:,-1] - Zb[:,3])/Zb[:,-1]\n",
    "z_wnans = z.copy()\n",
    "z = z[~np.isnan(z).any(axis=1)]\n",
    "print(f'{z.shape[0]} товаров')\n",
    "z.mean(axis=0), np.abs(z).mean(axis=0), np.sqrt((z**2).mean(axis=0))"
   ]
  },
  {
   "cell_type": "code",
   "execution_count": 38,
   "metadata": {},
   "outputs": [
    {
     "name": "stdout",
     "output_type": "stream",
     "text": [
      "375 товаров\n"
     ]
    },
    {
     "data": {
      "text/plain": [
       "(array([-0.29954678, -0.05641097, -0.04410279, -0.05025688]),\n",
       " array([0.44297669, 0.28114462, 0.24238803, 0.24307347]),\n",
       " array([0.66951912, 0.40289736, 0.3494514 , 0.34865235]))"
      ]
     },
     "execution_count": 38,
     "metadata": {},
     "output_type": "execute_result"
    }
   ],
   "source": [
    "b1 = (Z[:,-1] >=60) \n",
    "Zb = Z[b1,:]\n",
    "z = np.zeros_like(Zb[:,:-1])\n",
    "z[:,0] = (Zb[:,-1] - Zb[:,0])/Zb[:,-1]\n",
    "z[:,1] = (Zb[:,-1] - Zb[:,1])/Zb[:,-1]\n",
    "z[:,2] = (Zb[:,-1] - Zb[:,2])/Zb[:,-1]\n",
    "z[:,3] = (Zb[:,-1] - Zb[:,3])/Zb[:,-1]\n",
    "z_wnans = z.copy()\n",
    "z = z[~np.isnan(z).any(axis=1)]\n",
    "print(f'{z.shape[0]} товаров')\n",
    "z.mean(axis=0), np.abs(z).mean(axis=0), np.sqrt((z**2).mean(axis=0))"
   ]
  },
  {
   "cell_type": "markdown",
   "metadata": {},
   "source": [
    "# Предсказание для 47 (48) товаров с 07 по 21 мая 2024 года"
   ]
  },
  {
   "cell_type": "code",
   "execution_count": 4,
   "metadata": {},
   "outputs": [
    {
     "name": "stdout",
     "output_type": "stream",
     "text": [
      "кол-во товаров: 48\n",
      "17273072\n"
     ]
    }
   ],
   "source": [
    "sample = pd.read_excel(DATA_PATH + 'Выборки_товаров_для_ИИ_итоговый_24_05_06.xlsx', sheet_name=3)\n",
    "skus = sample['Номенклатура'].to_numpy(copy=True)\n",
    "print(f'кол-во товаров: {np.unique(skus).shape[0]}')\n",
    "sku = skus[0]\n",
    "print(sku)"
   ]
  },
  {
   "cell_type": "code",
   "execution_count": null,
   "metadata": {},
   "outputs": [],
   "source": [
    "# date_to = datetime.strptime('06.05.2024', '%d.%m.%Y')\n",
    "# date_from = (date_to - timedelta(days=366))\n",
    "# orders_full = pd.read_csv('orders_full.csv', sep=';', parse_dates=['date (date)'], ).iloc[:, :4]\n",
    "# orders_full.columns = ['date', 'sku', 'sales', 'price']\n",
    "# np.random.choice(orders_full.sku.unique(), replace=False, size=5000)\n",
    "# skus = orders_full.sku.sample(250).values\n",
    "# orders_full.groupby('sku').sales.mean().sort_values(ascending=False)[1000:1250]\n",
    "# skus = orders_full.groupby('sku').sales.mean().sort_values(ascending=False)[250:750].index\n",
    "# orders_full.groupby('sku').sales.mean().sort_values(ascending=False)[250:750]\n",
    "# make_mpstats_request(231046298).json()"
   ]
  },
  {
   "cell_type": "code",
   "execution_count": null,
   "metadata": {},
   "outputs": [],
   "source": [
    "PRODUCTS_DIR = 'new_products/'\n",
    "for sku in tqdm(skus):\n",
    "    path_file = PRODUCTS_DIR+f'{sku}.csv'\n",
    "    if os.path.isfile(path_file):\n",
    "        df = pd.read_csv(path_file)\n",
    "    else:\n",
    "        try:\n",
    "            df = get_data(sku)\n",
    "            df.to_csv(path_file, index=False)\n",
    "        except:\n",
    "            print(f'не получилось с {sku}')\n",
    "            continue"
   ]
  },
  {
   "cell_type": "code",
   "execution_count": null,
   "metadata": {},
   "outputs": [],
   "source": [
    "make_tg_report('товары скачались')"
   ]
  },
  {
   "cell_type": "code",
   "execution_count": 58,
   "metadata": {},
   "outputs": [],
   "source": [
    "path_file = PRODUCTS_DIR+f'{17273072}.csv'\n",
    "price_path_file = PRODUCTS_PRICES_DIR+f'{17273072}.csv'\n",
    "df = pd.read_csv(path_file)\n",
    "df_price = pd.read_csv(price_path_file)\n",
    "df_two_weeks = df_price[(df_price['date'] > '2024-05-06') & (df_price['date'] < '2024-05-21')].copy()\n",
    "two_weeks_prices = df_two_weeks.price.to_numpy(copy=True)\n",
    "two_weeks_orders = df_two_weeks.sales.to_numpy(copy=True)"
   ]
  },
  {
   "cell_type": "code",
   "execution_count": 25,
   "metadata": {},
   "outputs": [],
   "source": [
    "p = df.price.to_numpy(copy=True)\n",
    "x = (p - p.min())/(p.max()-p.min()) # потом добавить из тестовых данных цены\n",
    "order = df.sales.to_numpy(copy=True)\n",
    "balance = df.balance.to_numpy(copy=True)\n",
    "bal = np.ones_like(balance)\n",
    "bal[balance<=order] = 0\n",
    "LEN = p.size\n",
    "Xv1 = torch.zeros(1,LEN,2,dtype=torch.float32)\n",
    "Xv1[:,:,0] = torch.tensor(x)\n",
    "Xv1[:,:,1] = torch.tensor(order)\n",
    "Xv2 = torch.zeros(1,LEN,3,dtype=torch.float32)\n",
    "Xv2[:,:,0] = torch.tensor(bal)\n",
    "Xv2[:,:,1] = torch.tensor(x)\n",
    "Xv2[:,:,2] = torch.tensor(order)\n",
    "sum_v1, sum_v2, sum_v2_exp, real = 0,0,0,0 \n",
    "# out_v1 = model_v1(Xv1[:,:-NUM_DAYS+day,:]).detach().squeeze()"
   ]
  },
  {
   "cell_type": "code",
   "execution_count": 90,
   "metadata": {},
   "outputs": [
    {
     "data": {
      "text/plain": [
       "torch.Size([1, 384, 3])"
      ]
     },
     "execution_count": 90,
     "metadata": {},
     "output_type": "execute_result"
    }
   ],
   "source": [
    "zeros = torch.zeros(1,NUM_DAYS,3,dtype=torch.float32)\n",
    "torch.cat((Xv2,zeros),dim=1).shape"
   ]
  },
  {
   "cell_type": "code",
   "execution_count": 72,
   "metadata": {},
   "outputs": [],
   "source": [
    "model_v1 = BiLSTMAutoencoder(2, 128, 14)\n",
    "out_v1 = model_v1(Xv1).detach().numpy().squeeze()\n",
    "\n",
    "\n",
    "NUM_DAYS = 14\n",
    "discount_v1 = order/out_v1*out_v1[-1]\n",
    "a, b = get_stat(x, discount_v1)\n",
    "predict_s2s = model_s2s(Xv1.permute([1, 0, 2]), num_step=NUM_DAYS).detach().numpy().flatten()\n",
    "predict_v1 = np.exp(a+x[-1]*b)*predict_s2s"
   ]
  },
  {
   "cell_type": "code",
   "execution_count": 75,
   "metadata": {},
   "outputs": [
    {
     "data": {
      "text/plain": [
       "(0.31274813, 0.14285714285714285)"
      ]
     },
     "execution_count": 75,
     "metadata": {},
     "output_type": "execute_result"
    }
   ],
   "source": [
    "predict_v1.mean(), two_weeks_orders.mean()"
   ]
  },
  {
   "cell_type": "code",
   "execution_count": 83,
   "metadata": {},
   "outputs": [
    {
     "name": "stderr",
     "output_type": "stream",
     "text": [
      "100%|██████████| 48/48 [00:08<00:00,  5.83it/s]\n"
     ]
    }
   ],
   "source": [
    "NUM_DAYS = 14\n",
    "L = os.listdir('products/')\n",
    "Z = np.zeros((len(L),4))\n",
    "Z_using_prices = np.zeros((len(L),1))\n",
    "for k,ls in enumerate(tqdm(L)):\n",
    "    df = pd.read_csv('products/'+ls)\n",
    "    df_price = pd.read_csv('products_prices/'+ls)\n",
    "    df_two_weeks = df_price[(df_price['date'] > '2024-05-06') & \\\n",
    "        (df_price['date'] < '2024-05-21')].copy()\n",
    "    two_weeks_prices = df_two_weeks.price.to_numpy(copy=True)\n",
    "    two_weeks_orders = df_two_weeks.sales.to_numpy(copy=True)\n",
    "    p = df.price.to_numpy(copy=True)\n",
    "    x = (p - p.min())/(p.max()-p.min())\n",
    "    order = df.sales.to_numpy(copy=True)\n",
    "    balance = df.balance.to_numpy(copy=True)\n",
    "    bal = np.ones_like(balance)\n",
    "    # bal[balance==0] = 0\n",
    "    bal[balance<order] = 0\n",
    "    LEN = p.size\n",
    "    Xv1 = torch.zeros(1,LEN,2,dtype=torch.float32)\n",
    "    Xv1[:,:,0] = torch.tensor(x)\n",
    "    Xv1[:,:,1] = torch.tensor(order)\n",
    "    Xv2 = torch.zeros(1,LEN,3,dtype=torch.float32)\n",
    "    Xv2[:,:,0] = torch.tensor(bal)\n",
    "    Xv2[:,:,1] = torch.tensor(x)\n",
    "    Xv2[:,:,2] = torch.tensor(order)\n",
    "    sum_v1, sum_v2, sum_v2_exp, real = 0,0,0,0 \n",
    "    \n",
    "    # TODO: если понадобится, здесь идёт пересчёт цен нормированных \n",
    "    all_prices = np.concatenate([p, two_weeks_prices])\n",
    "    p_min, p_max = all_prices.min(), all_prices.max()\n",
    "    two_weeks_prices_norm = (two_weeks_prices - p_min)/(p_max - p_min)\n",
    "    \n",
    "    # old\n",
    "    out_v1 = model_v1(Xv1).detach().numpy().squeeze()\n",
    "    discount_v1 = order/out_v1*out_v1[-1]\n",
    "    a, b = get_stat(x, discount_v1)\n",
    "    predict_s2s = model_s2s(Xv1.permute([1,0,2]), num_step=NUM_DAYS).detach().numpy().flatten()\n",
    "    # берём последнюю известную цену TODO: взять из тестовых данных\n",
    "    predict_v1 = np.exp(a+two_weeks_prices_norm*b)*predict_s2s\n",
    "    \n",
    "    # new_v2\n",
    "    out_v2 = model_v2(Xv2).detach().numpy().flatten() \n",
    "    discount_v2 = order/out_v2*out_v2[-1]\n",
    "    # B = bal == 1\n",
    "    # a, b = get_stat(x[B], discount_v2[B])\n",
    "    a, b = get_stat(x, discount_v2)\n",
    "    data_perm = Xv2[:, :, 1:]\n",
    "    data_perm = data_perm.permute([1,0,2])\n",
    "    predict_s2s = model_s2s(data_perm, num_step=NUM_DAYS).detach().numpy().flatten()\n",
    "    predict_v2 = np.exp(a+two_weeks_prices_norm*b)*predict_s2s\n",
    "    \n",
    "    # expect\n",
    "    # добавляем маску из нулей на две недели\n",
    "    # zeros = torch.zeros(1,NUM_DAYS,3,dtype=torch.float32)\n",
    "    # Xv2 = torch.cat((Xv2,zeros),dim=1)\n",
    "    \n",
    "    a, b = model_v2_exp(Xv2).detach().squeeze().numpy()\n",
    "    predict_v2_exp = np.exp(b-a*two_weeks_prices_norm)\n",
    "    \n",
    "    Z[k,0] = predict_v1.sum()\n",
    "    Z[k,1] = predict_v2.sum() \n",
    "    Z[k,2] = predict_v2_exp.sum() \n",
    "    Z[k,3] = two_weeks_orders.sum()\n",
    "    Z_using_prices[k, 0] = ((predict_v2 + predict_v2_exp)/2).sum()"
   ]
  },
  {
   "cell_type": "markdown",
   "metadata": {},
   "source": [
    "1. balance < order работает лучше (0.69) чем balance <= order (0.92)\n",
    "2. добавлять маску из нулей на 14 дней работает хуже чем не добавлять\n",
    "3. брать последнюю цену или цены уже известные из теста\n",
    "4. как считаются метрики в табличке"
   ]
  },
  {
   "cell_type": "code",
   "execution_count": 84,
   "metadata": {},
   "outputs": [
    {
     "data": {
      "text/plain": [
       "(array([-0.96990881, -0.50021707, -0.51634627]),\n",
       " array([1.1159724 , 0.78673643, 0.66869228]),\n",
       " array([2.27174745, 1.69286103, 1.04877261]))"
      ]
     },
     "execution_count": 84,
     "metadata": {},
     "output_type": "execute_result"
    }
   ],
   "source": [
    "z = np.zeros_like(Z[:,:3])\n",
    "z[:,0] = (Z[:,3] - Z[:,0])/Z[:,3]\n",
    "z[:,1] = (Z[:,3] - Z[:,1])/Z[:,3]\n",
    "z[:,2] = (Z[:,3] - Z[:,2])/Z[:,3]\n",
    "z.mean(axis=0), np.abs(z).mean(axis=0), np.sqrt((z**2).mean(axis=0))"
   ]
  },
  {
   "cell_type": "code",
   "execution_count": 85,
   "metadata": {},
   "outputs": [
    {
     "data": {
      "text/plain": [
       "(array([-0.50828167]), array([0.70536008]), array([1.29784564]))"
      ]
     },
     "execution_count": 85,
     "metadata": {},
     "output_type": "execute_result"
    }
   ],
   "source": [
    "z_using_prices = np.zeros_like(Z_using_prices)\n",
    "z_using_prices[:,0] = (Z[:,3] - Z_using_prices[:,0])/Z[:,3]\n",
    "z_using_prices.mean(axis=0), np.abs(z_using_prices).mean(axis=0), np.sqrt((z_using_prices**2).mean(axis=0))"
   ]
  }
 ],
 "metadata": {
  "kernelspec": {
   "display_name": "venv_second",
   "language": "python",
   "name": "python3"
  },
  "language_info": {
   "codemirror_mode": {
    "name": "ipython",
    "version": 3
   },
   "file_extension": ".py",
   "mimetype": "text/x-python",
   "name": "python",
   "nbconvert_exporter": "python",
   "pygments_lexer": "ipython3",
   "version": "3.12.3"
  }
 },
 "nbformat": 4,
 "nbformat_minor": 2
}
