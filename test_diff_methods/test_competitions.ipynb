{
 "cells": [
  {
   "cell_type": "code",
   "execution_count": 1,
   "metadata": {},
   "outputs": [],
   "source": [
    "import numpy as np\n",
    "import matplotlib.pyplot as plt\n",
    "import pandas as pd\n",
    "import os\n",
    "from tqdm import tqdm\n",
    "\n",
    "from get_data_all_sources import get_data, make_mpstats_request\n",
    "from source.net_bilstm import BiLSTMAutoencoder # old solution\n",
    "from source.net_trend_bi import PredictTrendBi # new solution\n",
    "from source.net_expect import ExpectParams # new exponenta solution\n",
    "from source.net_seq2seq import Seq2Seq \n",
    "from source.exponenta import get_stat\n",
    "\n",
    "from datetime import datetime, timedelta\n",
    "\n",
    "import torch\n",
    "import torch.nn as nn\n",
    "import requests\n",
    "\n",
    "DATA_PATH = 'data/'\n",
    "PRODUCTS_DIR = 'products/'\n",
    "SOURCE_PATH = 'source/'\n",
    "WEIGHTS_DIR = 'weights/'\n",
    "PRODUCTS_PRICES_DIR = 'products_prices/'\n",
    "\n",
    "device = torch.device('cuda' if torch.cuda.is_available() else 'cpu')\n",
    "\n",
    "def make_tg_report(text) -> None:\n",
    "    token = '6498069099:AAFtdDZFR-A1h1F-8FvOpt6xIzqjCbdLdsc'\n",
    "    method = 'sendMessage'\n",
    "    chat_id = 324956476\n",
    "    _ = requests.post(\n",
    "            url='https://api.telegram.org/bot{0}/{1}'.format(token, method),\n",
    "            data={'chat_id': chat_id, 'text': text} \n",
    "        ).json()"
   ]
  },
  {
   "cell_type": "code",
   "execution_count": 2,
   "metadata": {},
   "outputs": [],
   "source": [
    "%load_ext autoreload\n",
    "%autoreload 2"
   ]
  },
  {
   "cell_type": "code",
   "execution_count": 3,
   "metadata": {},
   "outputs": [],
   "source": [
    "# new_products/products/products_prices\n",
    "CURRENT_PRODUCTS_DIR = DATA_PATH + 'new_products/'\n",
    "NUM_DAYS_FOR_CHOICE = 5\n",
    "NUM_DAYS_TO_PREDICT = 14\n",
    "NUM_METHODS_TO_TEST = 2 # лучший, среднее"
   ]
  },
  {
   "cell_type": "code",
   "execution_count": 4,
   "metadata": {},
   "outputs": [],
   "source": [
    "model_trend_v1 = BiLSTMAutoencoder(2, 128, 1)\n",
    "model_trend_v1.load_state_dict(torch.load(WEIGHTS_DIR+'trend_bilstm_cpu', weights_only=False, map_location=device));\n",
    "\n",
    "model_trend_v2 = PredictTrendBi(3, 128, 2)\n",
    "model_trend_v2.load_state_dict(torch.load(WEIGHTS_DIR+'trend_2enc_1dec_128_bi', weights_only=False, map_location=device));   \n",
    "\n",
    "model_exp = ExpectParams(3, 128)\n",
    "model_exp.load_state_dict(torch.load(WEIGHTS_DIR+'expect_128_1', weights_only=False, map_location=device));  \n",
    "\n",
    "model_predict = Seq2Seq(2, 256, 1)\n",
    "model_predict.load_state_dict(torch.load(WEIGHTS_DIR+'trend_gru', map_location=device));"
   ]
  },
  {
   "cell_type": "code",
   "execution_count": 5,
   "metadata": {},
   "outputs": [],
   "source": [
    "def find_best_exp_model(df, num_days=NUM_DAYS_FOR_CHOICE):\n",
    "    data = df.iloc[:,1:4].to_numpy(copy=True)\n",
    "    sum_exp, sum_v2, real = 0, 0, 0\n",
    "    for day in range(num_days):\n",
    "        p = data[:len(data)-num_days+day+1, 1] # добавляем единицу чтобы завтрашняя цена была в нормировке\n",
    "        x = (p - p.min())/(p.max()-p.min())\n",
    "        tomm_price = x[-1]\n",
    "        x = x[:-1].copy() # убираем обратно\n",
    "        order = data[:-num_days+day, 0].copy()\n",
    "        balance = data[:-num_days+day, 2]\n",
    "        bal = np.ones_like(balance)\n",
    "        # bal[balance<order] = 0 \n",
    "        LEN = x.shape[0]\n",
    "        X = torch.zeros(1,LEN,3,dtype=torch.float32)\n",
    "        X[:,:,0] = torch.tensor(bal)\n",
    "        X[:,:,1] = torch.tensor(x)\n",
    "        X[:,:,2] = torch.tensor(order)\n",
    "        # expect\n",
    "        exp_params = model_exp(X)\n",
    "        exp_params = exp_params.detach().squeeze().numpy()\n",
    "        predict_exp = np.exp(exp_params[1]-tomm_price*exp_params[0])\n",
    "        sum_exp += predict_exp\n",
    "        # new v2 \n",
    "        out_v2 = model_trend_v2(X)\n",
    "        out_v2 = out_v2.detach().squeeze().numpy()\n",
    "        discount_v2 = order/out_v2*out_v2[-1]\n",
    "        v2_params = get_stat(x, discount_v2)\n",
    "        predict_v2 = np.exp(v2_params[0]+tomm_price*v2_params[1])\n",
    "        sum_v2 += predict_v2\n",
    "        \n",
    "        real += data[-num_days+day, 0].copy()\n",
    "    exp_res = np.abs(sum_exp-real)/real\n",
    "    v2_res = np.abs(sum_v2-real)/real\n",
    "    # finding best\n",
    "    v2 = lambda x: np.exp(v2_params[0]+x*v2_params[1])\n",
    "    exp = lambda x: np.exp(exp_params[1]-x*exp_params[0])\n",
    "    if v2_res < exp_res:\n",
    "        # print('v2 best')\n",
    "        return v2, exp\n",
    "    else:\n",
    "        # print('exp best')\n",
    "        return exp, v2"
   ]
  },
  {
   "cell_type": "code",
   "execution_count": 6,
   "metadata": {},
   "outputs": [],
   "source": [
    "def make_torch_data(df):\n",
    "    order = df.sales.to_numpy(copy=True)\n",
    "    balance = df.balance.to_numpy(copy=True)\n",
    "    bal = np.ones_like(df.balance.to_numpy(copy=True))\n",
    "    price = df.price.to_numpy(copy=True)\n",
    "    price_norm = (price - price.min())/(price.max()-price.min())\n",
    "    # extract trend\n",
    "    data = torch.zeros(1, price_norm.size, 3, dtype=torch.float32)\n",
    "    data[:,:,0] = torch.tensor(bal)\n",
    "    data[:,:,1] = torch.tensor(price_norm)\n",
    "    data[:,:,2] = torch.tensor(order)\n",
    "    return data"
   ]
  },
  {
   "cell_type": "code",
   "execution_count": 7,
   "metadata": {},
   "outputs": [],
   "source": [
    "import warnings\n",
    "warnings.filterwarnings(\"ignore\")"
   ]
  },
  {
   "cell_type": "code",
   "execution_count": 63,
   "metadata": {},
   "outputs": [
    {
     "name": "stderr",
     "output_type": "stream",
     "text": [
      "  1%|          | 4/668 [00:00<01:20,  8.20it/s]"
     ]
    },
    {
     "name": "stdout",
     "output_type": "stream",
     "text": [
      "problems with 100470447\n"
     ]
    },
    {
     "name": "stderr",
     "output_type": "stream",
     "text": [
      " 40%|███▉      | 265/668 [00:37<00:45,  8.93it/s]"
     ]
    },
    {
     "name": "stdout",
     "output_type": "stream",
     "text": [
      "problems with 176777205\n"
     ]
    },
    {
     "name": "stderr",
     "output_type": "stream",
     "text": [
      " 53%|█████▎    | 354/668 [00:49<00:27, 11.51it/s]"
     ]
    },
    {
     "name": "stdout",
     "output_type": "stream",
     "text": [
      "problems with 207925692\n"
     ]
    },
    {
     "name": "stderr",
     "output_type": "stream",
     "text": [
      " 68%|██████▊   | 454/668 [00:58<00:16, 13.33it/s]"
     ]
    },
    {
     "name": "stdout",
     "output_type": "stream",
     "text": [
      "problems with 231046298\n"
     ]
    },
    {
     "name": "stderr",
     "output_type": "stream",
     "text": [
      "100%|██████████| 668/668 [01:26<00:00,  7.69it/s]\n"
     ]
    }
   ],
   "source": [
    "L = os.listdir(CURRENT_PRODUCTS_DIR)#[-10:]\n",
    "Z = np.zeros((len(L), NUM_METHODS_TO_TEST+2+1))\n",
    "for k, ls in enumerate(tqdm(L)): \n",
    "    df = pd.read_csv(CURRENT_PRODUCTS_DIR+ls)\n",
    "    train_df = df[:-NUM_DAYS_TO_PREDICT].copy()\n",
    "    test_df = df[-NUM_DAYS_TO_PREDICT:].copy()\n",
    "    # sku = int(ls[:-4])\n",
    "    # print(f'{sku}')\n",
    "    # отрезаем данные для теста и предикта\n",
    "    try:\n",
    "        best_func, sec_func = find_best_exp_model(train_df)\n",
    "        data = make_torch_data(train_df)\n",
    "        data = data.permute([1,0,2])\n",
    "        data = data[:,:,1:]\n",
    "        # preds = model_predict(data, num_step=NUM_DAYS_TO_PREDICT).detach().squeeze().numpy()\n",
    "        preds = np.ones(NUM_DAYS_TO_PREDICT)\n",
    "        test_prices = test_df.price.values\n",
    "        min_price, max_price = df.price.min(), df.price.max()\n",
    "        norm_test_prices = (test_prices - min_price)/(max_price - min_price)\n",
    "        test_orders = test_df.sales.values.sum()\n",
    "        best_preds = best_func(norm_test_prices)\n",
    "        sec_preds = sec_func(norm_test_prices)\n",
    "        Z[k, 0] = test_orders - (best_preds * preds).sum() \n",
    "        Z[k, 1] = test_orders - ((best_preds+sec_preds)/2 * preds).sum()\n",
    "        Z[k, 2] = Z[k, 0] / test_orders\n",
    "        Z[k, 3] = Z[k, 1] / test_orders\n",
    "        Z[k, 4] = test_orders\n",
    "    except:\n",
    "        sku = int(ls[:-4])\n",
    "        print(f'problems with {sku}')\n",
    "# Z = np.round(Z, 3)"
   ]
  },
  {
   "cell_type": "code",
   "execution_count": 64,
   "metadata": {},
   "outputs": [
    {
     "data": {
      "text/html": [
       "<style type=\"text/css\">\n",
       "#T_77d75_row0_col2, #T_77d75_row1_col2, #T_77d75_row2_col2, #T_77d75_row3_col2, #T_77d75_row4_col2 {\n",
       "  color: red;\n",
       "}\n",
       "</style>\n",
       "<table id=\"T_77d75\">\n",
       "  <thead>\n",
       "    <tr>\n",
       "      <th class=\"blank level0\" >&nbsp;</th>\n",
       "      <th id=\"T_77d75_level0_col0\" class=\"col_heading level0 col0\" >best</th>\n",
       "      <th id=\"T_77d75_level0_col1\" class=\"col_heading level0 col1\" >mean</th>\n",
       "      <th id=\"T_77d75_level0_col2\" class=\"col_heading level0 col2\" >best_perc</th>\n",
       "      <th id=\"T_77d75_level0_col3\" class=\"col_heading level0 col3\" >mean_perc</th>\n",
       "      <th id=\"T_77d75_level0_col4\" class=\"col_heading level0 col4\" >real</th>\n",
       "    </tr>\n",
       "  </thead>\n",
       "  <tbody>\n",
       "    <tr>\n",
       "      <th id=\"T_77d75_level0_row0\" class=\"row_heading level0 row0\" >413</th>\n",
       "      <td id=\"T_77d75_row0_col0\" class=\"data row0 col0\" >6.409800</td>\n",
       "      <td id=\"T_77d75_row0_col1\" class=\"data row0 col1\" >37.551161</td>\n",
       "      <td id=\"T_77d75_row0_col2\" class=\"data row0 col2\" >0.032049</td>\n",
       "      <td id=\"T_77d75_row0_col3\" class=\"data row0 col3\" >0.187756</td>\n",
       "      <td id=\"T_77d75_row0_col4\" class=\"data row0 col4\" >200.000000</td>\n",
       "    </tr>\n",
       "    <tr>\n",
       "      <th id=\"T_77d75_level0_row1\" class=\"row_heading level0 row1\" >414</th>\n",
       "      <td id=\"T_77d75_row1_col0\" class=\"data row1 col0\" >70.826744</td>\n",
       "      <td id=\"T_77d75_row1_col1\" class=\"data row1 col1\" >92.708879</td>\n",
       "      <td id=\"T_77d75_row1_col2\" class=\"data row1 col2\" >0.267271</td>\n",
       "      <td id=\"T_77d75_row1_col3\" class=\"data row1 col3\" >0.349845</td>\n",
       "      <td id=\"T_77d75_row1_col4\" class=\"data row1 col4\" >265.000000</td>\n",
       "    </tr>\n",
       "    <tr>\n",
       "      <th id=\"T_77d75_level0_row2\" class=\"row_heading level0 row2\" >415</th>\n",
       "      <td id=\"T_77d75_row2_col0\" class=\"data row2 col0\" >92.409805</td>\n",
       "      <td id=\"T_77d75_row2_col1\" class=\"data row2 col1\" >102.268943</td>\n",
       "      <td id=\"T_77d75_row2_col2\" class=\"data row2 col2\" >0.315392</td>\n",
       "      <td id=\"T_77d75_row2_col3\" class=\"data row2 col3\" >0.349041</td>\n",
       "      <td id=\"T_77d75_row2_col4\" class=\"data row2 col4\" >293.000000</td>\n",
       "    </tr>\n",
       "    <tr>\n",
       "      <th id=\"T_77d75_level0_row3\" class=\"row_heading level0 row3\" >416</th>\n",
       "      <td id=\"T_77d75_row3_col0\" class=\"data row3 col0\" >37.299072</td>\n",
       "      <td id=\"T_77d75_row3_col1\" class=\"data row3 col1\" >42.215060</td>\n",
       "      <td id=\"T_77d75_row3_col2\" class=\"data row3 col2\" >0.731354</td>\n",
       "      <td id=\"T_77d75_row3_col3\" class=\"data row3 col3\" >0.827746</td>\n",
       "      <td id=\"T_77d75_row3_col4\" class=\"data row3 col4\" >51.000000</td>\n",
       "    </tr>\n",
       "    <tr>\n",
       "      <th id=\"T_77d75_level0_row4\" class=\"row_heading level0 row4\" >means</th>\n",
       "      <td id=\"T_77d75_row4_col0\" class=\"data row4 col0\" >48.817080</td>\n",
       "      <td id=\"T_77d75_row4_col1\" class=\"data row4 col1\" >53.412427</td>\n",
       "      <td id=\"T_77d75_row4_col2\" class=\"data row4 col2\" >0.563042</td>\n",
       "      <td id=\"T_77d75_row4_col3\" class=\"data row4 col3\" >0.611583</td>\n",
       "      <td id=\"T_77d75_row4_col4\" class=\"data row4 col4\" >153.402878</td>\n",
       "    </tr>\n",
       "  </tbody>\n",
       "</table>\n"
      ],
      "text/plain": [
       "<pandas.io.formats.style.Styler at 0x2383db8f4d0>"
      ]
     },
     "execution_count": 64,
     "metadata": {},
     "output_type": "execute_result"
    }
   ],
   "source": [
    "res = pd.DataFrame(Z[Z[:, -1] >= NUM_DAYS_TO_PREDICT]).abs()\n",
    "res.columns = ['best', 'mean', 'best_perc', 'mean_perc', 'real']\n",
    "res.replace([np.inf, -np.inf], np.nan, inplace=True)\n",
    "res.dropna(inplace=True)\n",
    "res.loc['means'] = res.mean(axis=0)\n",
    "res.tail().style.highlight_min(axis=1, props='color:red;')"
   ]
  },
  {
   "cell_type": "code",
   "execution_count": 20,
   "metadata": {},
   "outputs": [
    {
     "data": {
      "text/html": [
       "<style type=\"text/css\">\n",
       "#T_6aa90_row0_col3, #T_6aa90_row1_col2, #T_6aa90_row2_col3, #T_6aa90_row3_col2, #T_6aa90_row4_col2 {\n",
       "  color: red;\n",
       "}\n",
       "</style>\n",
       "<table id=\"T_6aa90\">\n",
       "  <thead>\n",
       "    <tr>\n",
       "      <th class=\"blank level0\" >&nbsp;</th>\n",
       "      <th id=\"T_6aa90_level0_col0\" class=\"col_heading level0 col0\" >best</th>\n",
       "      <th id=\"T_6aa90_level0_col1\" class=\"col_heading level0 col1\" >mean</th>\n",
       "      <th id=\"T_6aa90_level0_col2\" class=\"col_heading level0 col2\" >best_perc</th>\n",
       "      <th id=\"T_6aa90_level0_col3\" class=\"col_heading level0 col3\" >mean_perc</th>\n",
       "      <th id=\"T_6aa90_level0_col4\" class=\"col_heading level0 col4\" >real</th>\n",
       "    </tr>\n",
       "  </thead>\n",
       "  <tbody>\n",
       "    <tr>\n",
       "      <th id=\"T_6aa90_level0_row0\" class=\"row_heading level0 row0\" >413</th>\n",
       "      <td id=\"T_6aa90_row0_col0\" class=\"data row0 col0\" >68.692522</td>\n",
       "      <td id=\"T_6aa90_row0_col1\" class=\"data row0 col1\" >37.551161</td>\n",
       "      <td id=\"T_6aa90_row0_col2\" class=\"data row0 col2\" >0.343463</td>\n",
       "      <td id=\"T_6aa90_row0_col3\" class=\"data row0 col3\" >0.187756</td>\n",
       "      <td id=\"T_6aa90_row0_col4\" class=\"data row0 col4\" >200.000000</td>\n",
       "    </tr>\n",
       "    <tr>\n",
       "      <th id=\"T_6aa90_level0_row1\" class=\"row_heading level0 row1\" >414</th>\n",
       "      <td id=\"T_6aa90_row1_col0\" class=\"data row1 col0\" >70.826744</td>\n",
       "      <td id=\"T_6aa90_row1_col1\" class=\"data row1 col1\" >92.708879</td>\n",
       "      <td id=\"T_6aa90_row1_col2\" class=\"data row1 col2\" >0.267271</td>\n",
       "      <td id=\"T_6aa90_row1_col3\" class=\"data row1 col3\" >0.349845</td>\n",
       "      <td id=\"T_6aa90_row1_col4\" class=\"data row1 col4\" >265.000000</td>\n",
       "    </tr>\n",
       "    <tr>\n",
       "      <th id=\"T_6aa90_level0_row2\" class=\"row_heading level0 row2\" >415</th>\n",
       "      <td id=\"T_6aa90_row2_col0\" class=\"data row2 col0\" >112.128081</td>\n",
       "      <td id=\"T_6aa90_row2_col1\" class=\"data row2 col1\" >102.268943</td>\n",
       "      <td id=\"T_6aa90_row2_col2\" class=\"data row2 col2\" >0.382690</td>\n",
       "      <td id=\"T_6aa90_row2_col3\" class=\"data row2 col3\" >0.349041</td>\n",
       "      <td id=\"T_6aa90_row2_col4\" class=\"data row2 col4\" >293.000000</td>\n",
       "    </tr>\n",
       "    <tr>\n",
       "      <th id=\"T_6aa90_level0_row3\" class=\"row_heading level0 row3\" >416</th>\n",
       "      <td id=\"T_6aa90_row3_col0\" class=\"data row3 col0\" >37.299072</td>\n",
       "      <td id=\"T_6aa90_row3_col1\" class=\"data row3 col1\" >42.215060</td>\n",
       "      <td id=\"T_6aa90_row3_col2\" class=\"data row3 col2\" >0.731354</td>\n",
       "      <td id=\"T_6aa90_row3_col3\" class=\"data row3 col3\" >0.827746</td>\n",
       "      <td id=\"T_6aa90_row3_col4\" class=\"data row3 col4\" >51.000000</td>\n",
       "    </tr>\n",
       "    <tr>\n",
       "      <th id=\"T_6aa90_level0_row4\" class=\"row_heading level0 row4\" >means</th>\n",
       "      <td id=\"T_6aa90_row4_col0\" class=\"data row4 col0\" >52.418637</td>\n",
       "      <td id=\"T_6aa90_row4_col1\" class=\"data row4 col1\" >53.412427</td>\n",
       "      <td id=\"T_6aa90_row4_col2\" class=\"data row4 col2\" >0.580621</td>\n",
       "      <td id=\"T_6aa90_row4_col3\" class=\"data row4 col3\" >0.611583</td>\n",
       "      <td id=\"T_6aa90_row4_col4\" class=\"data row4 col4\" >153.402878</td>\n",
       "    </tr>\n",
       "  </tbody>\n",
       "</table>\n"
      ],
      "text/plain": [
       "<pandas.io.formats.style.Styler at 0x2383d894ef0>"
      ]
     },
     "execution_count": 20,
     "metadata": {},
     "output_type": "execute_result"
    }
   ],
   "source": [
    "res = pd.DataFrame(Z[Z[:, -1] >= NUM_DAYS_TO_PREDICT]).abs()\n",
    "res.columns = ['best', 'mean', 'best_perc', 'mean_perc', 'real']\n",
    "res.replace([np.inf, -np.inf], np.nan, inplace=True)\n",
    "res.dropna(inplace=True)\n",
    "res.loc['means'] = res.mean(axis=0)\n",
    "res.tail().style.highlight_min(axis=1, props='color:red;')"
   ]
  },
  {
   "cell_type": "markdown",
   "metadata": {},
   "source": [
    "# Посмотрим, а нужна ли линэксп вообще"
   ]
  },
  {
   "cell_type": "code",
   "execution_count": 8,
   "metadata": {},
   "outputs": [],
   "source": [
    "from source.lin_exp import lin_exponenta, lin_exp"
   ]
  },
  {
   "cell_type": "code",
   "execution_count": 9,
   "metadata": {},
   "outputs": [],
   "source": [
    "def find_trend(data):\n",
    "    trend = model_trend_v2(data)\n",
    "    trend = trend.detach().numpy().squeeze()\n",
    "    trend = trend/trend[-1]\n",
    "    return trend"
   ]
  },
  {
   "cell_type": "code",
   "execution_count": 10,
   "metadata": {},
   "outputs": [],
   "source": [
    "L = os.listdir(CURRENT_PRODUCTS_DIR) #[-10:]\n",
    "ls = L[11]\n",
    "df = pd.read_csv(CURRENT_PRODUCTS_DIR+ls)\n",
    "\n",
    "data = make_torch_data(df)\n",
    "order = df.sales.to_numpy(copy=True)\n",
    "trend = find_trend(data)\n",
    "discount_order = order/trend\n",
    "price = df.price.to_numpy(copy=True)\n",
    "price_norm = (price - price.min())/(price.max()-price.min())"
   ]
  },
  {
   "cell_type": "code",
   "execution_count": 11,
   "metadata": {},
   "outputs": [],
   "source": [
    "def get_func(price_norm, discount_order):\n",
    "    \"\"\"returns `linexp` or `exp` function whichever best for this case\"\"\"\n",
    "    a0,b0,c0,I,out = lin_exponenta(price_norm, discount_order)\n",
    "    func_lin = True if out*I else False\n",
    "    b = get_stat(price_norm, discount_order)\n",
    "    func_name = 'exp'\n",
    "    f = lambda x: np.exp(b[0]+b[1]*x)\n",
    "    # if func_lin:\n",
    "    o1 = lin_exp(price_norm,a0,b0,c0)  \n",
    "    s1 = ((o1 - discount_order)**2).sum()\n",
    "    o2 = np.exp(b[0]+b[1]*price_norm)\n",
    "    s2 = ((o2 - discount_order)**2).sum()\n",
    "    if s1 < s2: # лучше горка\n",
    "        f = lambda x: lin_exp(x,a0,b0,c0) \n",
    "        func_name = 'linexp'\n",
    "    return f, func_name, s1, s2"
   ]
  },
  {
   "cell_type": "code",
   "execution_count": 12,
   "metadata": {},
   "outputs": [
    {
     "data": {
      "text/plain": [
       "('exp', nan, 79286.00581781377)"
      ]
     },
     "execution_count": 12,
     "metadata": {},
     "output_type": "execute_result"
    }
   ],
   "source": [
    "f, func_name, s1, s2 = get_func(price_norm, discount_order)\n",
    "func_name, s1, s2"
   ]
  },
  {
   "cell_type": "code",
   "execution_count": 13,
   "metadata": {},
   "outputs": [
    {
     "name": "stderr",
     "output_type": "stream",
     "text": [
      " 40%|███▉      | 265/668 [02:11<01:29,  4.49it/s]"
     ]
    },
    {
     "name": "stdout",
     "output_type": "stream",
     "text": [
      "problems with 176777205\n"
     ]
    },
    {
     "name": "stderr",
     "output_type": "stream",
     "text": [
      " 53%|█████▎    | 352/668 [02:44<01:23,  3.80it/s]"
     ]
    },
    {
     "name": "stdout",
     "output_type": "stream",
     "text": [
      "problems with 207925692\n"
     ]
    },
    {
     "name": "stderr",
     "output_type": "stream",
     "text": [
      "100%|██████████| 668/668 [04:40<00:00,  2.38it/s]\n"
     ]
    }
   ],
   "source": [
    "L = os.listdir(CURRENT_PRODUCTS_DIR)#[-10:]\n",
    "Z = np.zeros((len(L), NUM_METHODS_TO_TEST+2+1))\n",
    "s1_all, s2_all = list(), list()\n",
    "ctr = np.zeros(2)\n",
    "for k, ls in enumerate(tqdm(L)): \n",
    "    try:\n",
    "        df = pd.read_csv(CURRENT_PRODUCTS_DIR+ls)\n",
    "        data = make_torch_data(df)\n",
    "        order = df.sales.to_numpy(copy=True)\n",
    "        trend = find_trend(data)\n",
    "        discount_order = order/trend\n",
    "        price = df.price.to_numpy(copy=True)\n",
    "        price_norm = (price - price.min())/(price.max()-price.min())\n",
    "        f, func_name, s1, s2 = get_func(price_norm, discount_order)\n",
    "        s1_all.append(s1)\n",
    "        s2_all.append(s2)\n",
    "        if func_name == 'linexp':\n",
    "            ctr[1]+=1 \n",
    "        else:\n",
    "            ctr[0]+=1\n",
    "    except:\n",
    "        sku = int(ls[:-4])\n",
    "        print(f'problems with {sku}')"
   ]
  },
  {
   "cell_type": "code",
   "execution_count": 18,
   "metadata": {},
   "outputs": [],
   "source": [
    "diffs = pd.DataFrame([s1_all, s2_all]).T.dropna().reset_index(drop=True)\n",
    "diffs.columns = ['linexp', 'exp']"
   ]
  },
  {
   "cell_type": "code",
   "execution_count": 45,
   "metadata": {},
   "outputs": [],
   "source": [
    "subs = diffs[diffs.linexp < diffs.exp].copy()\n",
    "subs['perc'] = ((subs.exp - subs.linexp) / subs.exp * 100).sort_values(ascending=False)\n",
    "subs = subs.sort_values('perc', ascending=False)"
   ]
  },
  {
   "cell_type": "code",
   "execution_count": 50,
   "metadata": {},
   "outputs": [
    {
     "data": {
      "text/plain": [
       "0.2196969696969697"
      ]
     },
     "execution_count": 50,
     "metadata": {},
     "output_type": "execute_result"
    }
   ],
   "source": [
    "subs[subs.perc>5].shape[0] / subs.shape[0]"
   ]
  },
  {
   "cell_type": "code",
   "execution_count": 52,
   "metadata": {},
   "outputs": [
    {
     "data": {
      "text/plain": [
       "(0.5581395348837209, 473)"
      ]
     },
     "execution_count": 52,
     "metadata": {},
     "output_type": "execute_result"
    }
   ],
   "source": [
    "subs.shape[0]/ diffs.shape[0], diffs.shape[0]"
   ]
  }
 ],
 "metadata": {
  "kernelspec": {
   "display_name": "venv_second",
   "language": "python",
   "name": "python3"
  },
  "language_info": {
   "codemirror_mode": {
    "name": "ipython",
    "version": 3
   },
   "file_extension": ".py",
   "mimetype": "text/x-python",
   "name": "python",
   "nbconvert_exporter": "python",
   "pygments_lexer": "ipython3",
   "version": "3.12.3"
  }
 },
 "nbformat": 4,
 "nbformat_minor": 2
}
