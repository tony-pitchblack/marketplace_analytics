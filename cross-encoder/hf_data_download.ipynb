{
 "cells": [
  {
   "cell_type": "code",
   "execution_count": 1,
   "id": "c5324186",
   "metadata": {},
   "outputs": [
    {
     "name": "stderr",
     "output_type": "stream",
     "text": [
      "/home/anton/micromamba/envs/cross-encoder/lib/python3.12/site-packages/huggingface_hub/file_download.py:933: UserWarning: `local_dir_use_symlinks` parameter is deprecated and will be ignored. The process to download files to a local folder has been updated and do not rely on symlinks anymore. You only need to pass a destination folder as`local_dir`.\n",
      "For more details, check out https://huggingface.co/docs/huggingface_hub/main/en/guides/download#download-files-to-local-folder.\n",
      "  warnings.warn(\n"
     ]
    },
    {
     "data": {
      "application/vnd.jupyter.widget-view+json": {
       "model_id": "0d28a082dcec4fdabb5a713a6b073900",
       "version_major": 2,
       "version_minor": 0
      },
      "text/plain": [
       "Fetching 65 files:   0%|          | 0/65 [00:00<?, ?it/s]"
      ]
     },
     "metadata": {},
     "output_type": "display_data"
    },
    {
     "data": {
      "application/vnd.jupyter.widget-view+json": {
       "model_id": "ad815b26dfa54776ac05e29f172cfc49",
       "version_major": 2,
       "version_minor": 0
      },
      "text/plain": [
       "template.txt:   0%|          | 0.00/1.37k [00:00<?, ?B/s]"
      ]
     },
     "metadata": {},
     "output_type": "display_data"
    },
    {
     "data": {
      "application/vnd.jupyter.widget-view+json": {
       "model_id": "62b977e31a2043e9944930b6a6254eaf",
       "version_major": 2,
       "version_minor": 0
      },
      "text/plain": [
       ".gitattributes:   0%|          | 0.00/2.46k [00:00<?, ?B/s]"
      ]
     },
     "metadata": {},
     "output_type": "display_data"
    },
    {
     "data": {
      "application/vnd.jupyter.widget-view+json": {
       "model_id": "bf170de66ac64fe8b4be79066473e563",
       "version_major": 2,
       "version_minor": 0
      },
      "text/plain": [
       "result.csv:   0%|          | 0.00/243 [00:00<?, ?B/s]"
      ]
     },
     "metadata": {},
     "output_type": "display_data"
    },
    {
     "data": {
      "application/vnd.jupyter.widget-view+json": {
       "model_id": "1bfa7f7718c549a29b83dd85b36c7622",
       "version_major": 2,
       "version_minor": 0
      },
      "text/plain": [
       "template_rendered.txt:   0%|          | 0.00/33.1k [00:00<?, ?B/s]"
      ]
     },
     "metadata": {},
     "output_type": "display_data"
    },
    {
     "data": {
      "application/vnd.jupyter.widget-view+json": {
       "model_id": "0884043d4ca04a609b2581599aac856e",
       "version_major": 2,
       "version_minor": 0
      },
      "text/plain": [
       "result.csv:   0%|          | 0.00/72.0 [00:00<?, ?B/s]"
      ]
     },
     "metadata": {},
     "output_type": "display_data"
    },
    {
     "data": {
      "application/vnd.jupyter.widget-view+json": {
       "model_id": "f4ee2df94bdb47acb553536b5bd42c3a",
       "version_major": 2,
       "version_minor": 0
      },
      "text/plain": [
       "template_rendered.txt:   0%|          | 0.00/33.2k [00:00<?, ?B/s]"
      ]
     },
     "metadata": {},
     "output_type": "display_data"
    },
    {
     "data": {
      "application/vnd.jupyter.widget-view+json": {
       "model_id": "0ae641444329437099e837e64ce46298",
       "version_major": 2,
       "version_minor": 0
      },
      "text/plain": [
       "result.csv:   0%|          | 0.00/431 [00:00<?, ?B/s]"
      ]
     },
     "metadata": {},
     "output_type": "display_data"
    },
    {
     "data": {
      "application/vnd.jupyter.widget-view+json": {
       "model_id": "c4dd785330fd439ab88a3139f00d4048",
       "version_major": 2,
       "version_minor": 0
      },
      "text/plain": [
       "template.txt:   0%|          | 0.00/1.23k [00:00<?, ?B/s]"
      ]
     },
     "metadata": {},
     "output_type": "display_data"
    },
    {
     "data": {
      "application/vnd.jupyter.widget-view+json": {
       "model_id": "5d80aaa06166496c878cc73d1553d81e",
       "version_major": 2,
       "version_minor": 0
      },
      "text/plain": [
       "template.txt:   0%|          | 0.00/1.53k [00:00<?, ?B/s]"
      ]
     },
     "metadata": {},
     "output_type": "display_data"
    },
    {
     "data": {
      "application/vnd.jupyter.widget-view+json": {
       "model_id": "d5d312b778324086bbd35fbf767606ed",
       "version_major": 2,
       "version_minor": 0
      },
      "text/plain": [
       "template_rendered.txt:   0%|          | 0.00/34.7k [00:00<?, ?B/s]"
      ]
     },
     "metadata": {},
     "output_type": "display_data"
    },
    {
     "data": {
      "application/vnd.jupyter.widget-view+json": {
       "model_id": "149a71560efa479192c29871a6ebe652",
       "version_major": 2,
       "version_minor": 0
      },
      "text/plain": [
       "result.csv:   0%|          | 0.00/327 [00:00<?, ?B/s]"
      ]
     },
     "metadata": {},
     "output_type": "display_data"
    },
    {
     "data": {
      "application/vnd.jupyter.widget-view+json": {
       "model_id": "0c2453c5c9c640d9a2562b7245f8466e",
       "version_major": 2,
       "version_minor": 0
      },
      "text/plain": [
       "template_rendered.txt:   0%|          | 0.00/35.0k [00:00<?, ?B/s]"
      ]
     },
     "metadata": {},
     "output_type": "display_data"
    },
    {
     "data": {
      "application/vnd.jupyter.widget-view+json": {
       "model_id": "6f01707821764b04bda310c9fa7bcddd",
       "version_major": 2,
       "version_minor": 0
      },
      "text/plain": [
       "result.csv:   0%|          | 0.00/327 [00:00<?, ?B/s]"
      ]
     },
     "metadata": {},
     "output_type": "display_data"
    },
    {
     "data": {
      "application/vnd.jupyter.widget-view+json": {
       "model_id": "c26307a4e6f64f0b91e7fb54fe5dd3a4",
       "version_major": 2,
       "version_minor": 0
      },
      "text/plain": [
       "result.csv:   0%|          | 0.00/129 [00:00<?, ?B/s]"
      ]
     },
     "metadata": {},
     "output_type": "display_data"
    },
    {
     "data": {
      "application/vnd.jupyter.widget-view+json": {
       "model_id": "04317720e53f47a19ca4d5d5a9c2c214",
       "version_major": 2,
       "version_minor": 0
      },
      "text/plain": [
       "template_rendered.txt:   0%|          | 0.00/34.9k [00:00<?, ?B/s]"
      ]
     },
     "metadata": {},
     "output_type": "display_data"
    },
    {
     "data": {
      "application/vnd.jupyter.widget-view+json": {
       "model_id": "4a1dd12f8ed34ba8b3825cb243af0a4a",
       "version_major": 2,
       "version_minor": 0
      },
      "text/plain": [
       "template.txt:   0%|          | 0.00/1.76k [00:00<?, ?B/s]"
      ]
     },
     "metadata": {},
     "output_type": "display_data"
    },
    {
     "data": {
      "application/vnd.jupyter.widget-view+json": {
       "model_id": "4ad9dfa2c6bc46fa9bf803ee609ddc47",
       "version_major": 2,
       "version_minor": 0
      },
      "text/plain": [
       "template.txt:   0%|          | 0.00/3.08k [00:00<?, ?B/s]"
      ]
     },
     "metadata": {},
     "output_type": "display_data"
    },
    {
     "data": {
      "application/vnd.jupyter.widget-view+json": {
       "model_id": "d17dc2d61bb14d3fa2df8f3d9bb29031",
       "version_major": 2,
       "version_minor": 0
      },
      "text/plain": [
       "template_rendered.txt:   0%|          | 0.00/27.5k [00:00<?, ?B/s]"
      ]
     },
     "metadata": {},
     "output_type": "display_data"
    },
    {
     "data": {
      "application/vnd.jupyter.widget-view+json": {
       "model_id": "ce97159a97fb4ad19db5b315c3556e13",
       "version_major": 2,
       "version_minor": 0
      },
      "text/plain": [
       "result.csv:   0%|          | 0.00/129 [00:00<?, ?B/s]"
      ]
     },
     "metadata": {},
     "output_type": "display_data"
    },
    {
     "data": {
      "application/vnd.jupyter.widget-view+json": {
       "model_id": "18b2d583348a42598d95d8beb46d3e59",
       "version_major": 2,
       "version_minor": 0
      },
      "text/plain": [
       "result.csv:   0%|          | 0.00/129 [00:00<?, ?B/s]"
      ]
     },
     "metadata": {},
     "output_type": "display_data"
    },
    {
     "data": {
      "application/vnd.jupyter.widget-view+json": {
       "model_id": "e5e6b081bfe84f8e894ce07ce9710d08",
       "version_major": 2,
       "version_minor": 0
      },
      "text/plain": [
       "template_rendered.txt:   0%|          | 0.00/27.4k [00:00<?, ?B/s]"
      ]
     },
     "metadata": {},
     "output_type": "display_data"
    },
    {
     "data": {
      "application/vnd.jupyter.widget-view+json": {
       "model_id": "00f07935f19148ab88fcf17679e242fa",
       "version_major": 2,
       "version_minor": 0
      },
      "text/plain": [
       "template.txt:   0%|          | 0.00/2.99k [00:00<?, ?B/s]"
      ]
     },
     "metadata": {},
     "output_type": "display_data"
    },
    {
     "data": {
      "application/vnd.jupyter.widget-view+json": {
       "model_id": "16f4bed0a96046049c02288777dbcd16",
       "version_major": 2,
       "version_minor": 0
      },
      "text/plain": [
       "result.csv:   0%|          | 0.00/112 [00:00<?, ?B/s]"
      ]
     },
     "metadata": {},
     "output_type": "display_data"
    },
    {
     "data": {
      "application/vnd.jupyter.widget-view+json": {
       "model_id": "c34e8c93276f4799ade1fe43c0afd791",
       "version_major": 2,
       "version_minor": 0
      },
      "text/plain": [
       "template_rendered.txt:   0%|          | 0.00/27.5k [00:00<?, ?B/s]"
      ]
     },
     "metadata": {},
     "output_type": "display_data"
    },
    {
     "data": {
      "application/vnd.jupyter.widget-view+json": {
       "model_id": "f63642736f1b466c9442560cfc66d095",
       "version_major": 2,
       "version_minor": 0
      },
      "text/plain": [
       "template_rendered.txt:   0%|          | 0.00/27.5k [00:00<?, ?B/s]"
      ]
     },
     "metadata": {},
     "output_type": "display_data"
    },
    {
     "data": {
      "application/vnd.jupyter.widget-view+json": {
       "model_id": "14c4b8301e9643b89ec573d0806a7838",
       "version_major": 2,
       "version_minor": 0
      },
      "text/plain": [
       "result.csv:   0%|          | 0.00/129 [00:00<?, ?B/s]"
      ]
     },
     "metadata": {},
     "output_type": "display_data"
    },
    {
     "data": {
      "application/vnd.jupyter.widget-view+json": {
       "model_id": "82e713d2036f4fa5ae4792ab0d88a868",
       "version_major": 2,
       "version_minor": 0
      },
      "text/plain": [
       "result.csv:   0%|          | 0.00/68.0 [00:00<?, ?B/s]"
      ]
     },
     "metadata": {},
     "output_type": "display_data"
    },
    {
     "data": {
      "application/vnd.jupyter.widget-view+json": {
       "model_id": "a4ffa1bb737342a4b3a08ed79a756a51",
       "version_major": 2,
       "version_minor": 0
      },
      "text/plain": [
       "result.csv:   0%|          | 0.00/220 [00:00<?, ?B/s]"
      ]
     },
     "metadata": {},
     "output_type": "display_data"
    },
    {
     "data": {
      "application/vnd.jupyter.widget-view+json": {
       "model_id": "fdb650ea7e3b45e389909c189b4c2421",
       "version_major": 2,
       "version_minor": 0
      },
      "text/plain": [
       "template_rendered.txt:   0%|          | 0.00/34.9k [00:00<?, ?B/s]"
      ]
     },
     "metadata": {},
     "output_type": "display_data"
    },
    {
     "data": {
      "application/vnd.jupyter.widget-view+json": {
       "model_id": "1196e88fe59d452dbea584288fa5a5ad",
       "version_major": 2,
       "version_minor": 0
      },
      "text/plain": [
       "template_rendered.txt:   0%|          | 0.00/27.5k [00:00<?, ?B/s]"
      ]
     },
     "metadata": {},
     "output_type": "display_data"
    },
    {
     "data": {
      "application/vnd.jupyter.widget-view+json": {
       "model_id": "cd2310cc5846430f9599f16548e1111c",
       "version_major": 2,
       "version_minor": 0
      },
      "text/plain": [
       "template_rendered.txt:   0%|          | 0.00/27.5k [00:00<?, ?B/s]"
      ]
     },
     "metadata": {},
     "output_type": "display_data"
    },
    {
     "data": {
      "application/vnd.jupyter.widget-view+json": {
       "model_id": "56bf52f9fe5141bf944bfd3c5a40df04",
       "version_major": 2,
       "version_minor": 0
      },
      "text/plain": [
       "template_rendered.txt:   0%|          | 0.00/34.9k [00:00<?, ?B/s]"
      ]
     },
     "metadata": {},
     "output_type": "display_data"
    },
    {
     "data": {
      "application/vnd.jupyter.widget-view+json": {
       "model_id": "44991a24034b4f20bdc4b656995bf6ad",
       "version_major": 2,
       "version_minor": 0
      },
      "text/plain": [
       "result.csv:   0%|          | 0.00/129 [00:00<?, ?B/s]"
      ]
     },
     "metadata": {},
     "output_type": "display_data"
    },
    {
     "data": {
      "application/vnd.jupyter.widget-view+json": {
       "model_id": "81c2b84e88ab4245a94cfb431b473edb",
       "version_major": 2,
       "version_minor": 0
      },
      "text/plain": [
       "template_rendered.txt:   0%|          | 0.00/50.0k [00:00<?, ?B/s]"
      ]
     },
     "metadata": {},
     "output_type": "display_data"
    },
    {
     "data": {
      "application/vnd.jupyter.widget-view+json": {
       "model_id": "9c1fc78f272a4e88a21b9f1510005795",
       "version_major": 2,
       "version_minor": 0
      },
      "text/plain": [
       "template_rendered.txt:   0%|          | 0.00/50.0k [00:00<?, ?B/s]"
      ]
     },
     "metadata": {},
     "output_type": "display_data"
    },
    {
     "data": {
      "application/vnd.jupyter.widget-view+json": {
       "model_id": "9c2c754bfce74c9a900936e75e79ef6b",
       "version_major": 2,
       "version_minor": 0
      },
      "text/plain": [
       "result.csv:   0%|          | 0.00/173 [00:00<?, ?B/s]"
      ]
     },
     "metadata": {},
     "output_type": "display_data"
    },
    {
     "data": {
      "application/vnd.jupyter.widget-view+json": {
       "model_id": "e99bf00c8c944cb299663502812f44f8",
       "version_major": 2,
       "version_minor": 0
      },
      "text/plain": [
       "result.csv:   0%|          | 0.00/160 [00:00<?, ?B/s]"
      ]
     },
     "metadata": {},
     "output_type": "display_data"
    },
    {
     "data": {
      "application/vnd.jupyter.widget-view+json": {
       "model_id": "dedac2e4251e4483bd3e8b5328b63401",
       "version_major": 2,
       "version_minor": 0
      },
      "text/plain": [
       "result.csv:   0%|          | 0.00/181 [00:00<?, ?B/s]"
      ]
     },
     "metadata": {},
     "output_type": "display_data"
    },
    {
     "data": {
      "application/vnd.jupyter.widget-view+json": {
       "model_id": "60a07e5764504374a791da7fb46c3b54",
       "version_major": 2,
       "version_minor": 0
      },
      "text/plain": [
       "result.csv:   0%|          | 0.00/282 [00:00<?, ?B/s]"
      ]
     },
     "metadata": {},
     "output_type": "display_data"
    },
    {
     "data": {
      "application/vnd.jupyter.widget-view+json": {
       "model_id": "79f5b511d7bd4222ac6778e1b686a03e",
       "version_major": 2,
       "version_minor": 0
      },
      "text/plain": [
       "template_rendered.txt:   0%|          | 0.00/50.0k [00:00<?, ?B/s]"
      ]
     },
     "metadata": {},
     "output_type": "display_data"
    },
    {
     "data": {
      "application/vnd.jupyter.widget-view+json": {
       "model_id": "d8158b12c0554355bd58b414574bf52e",
       "version_major": 2,
       "version_minor": 0
      },
      "text/plain": [
       "result.csv:   0%|          | 0.00/173 [00:00<?, ?B/s]"
      ]
     },
     "metadata": {},
     "output_type": "display_data"
    },
    {
     "data": {
      "application/vnd.jupyter.widget-view+json": {
       "model_id": "ea1fcb39d3c14de781a18306fe49be24",
       "version_major": 2,
       "version_minor": 0
      },
      "text/plain": [
       "result.csv:   0%|          | 0.00/160 [00:00<?, ?B/s]"
      ]
     },
     "metadata": {},
     "output_type": "display_data"
    },
    {
     "data": {
      "application/vnd.jupyter.widget-view+json": {
       "model_id": "abd6a8d0849c41778fb78b6fbec96854",
       "version_major": 2,
       "version_minor": 0
      },
      "text/plain": [
       "template_rendered.txt:   0%|          | 0.00/50.0k [00:00<?, ?B/s]"
      ]
     },
     "metadata": {},
     "output_type": "display_data"
    },
    {
     "data": {
      "application/vnd.jupyter.widget-view+json": {
       "model_id": "94d50a4194954b01a470db56c929c2c1",
       "version_major": 2,
       "version_minor": 0
      },
      "text/plain": [
       "template_rendered.txt:   0%|          | 0.00/50.0k [00:00<?, ?B/s]"
      ]
     },
     "metadata": {},
     "output_type": "display_data"
    },
    {
     "data": {
      "application/vnd.jupyter.widget-view+json": {
       "model_id": "1a5b9a3cc0d34b91a703c3306adb3499",
       "version_major": 2,
       "version_minor": 0
      },
      "text/plain": [
       "template_rendered.txt:   0%|          | 0.00/50.0k [00:00<?, ?B/s]"
      ]
     },
     "metadata": {},
     "output_type": "display_data"
    },
    {
     "data": {
      "application/vnd.jupyter.widget-view+json": {
       "model_id": "3718b1295df84aaba48ba7507b2292cb",
       "version_major": 2,
       "version_minor": 0
      },
      "text/plain": [
       "result.csv:   0%|          | 0.00/160 [00:00<?, ?B/s]"
      ]
     },
     "metadata": {},
     "output_type": "display_data"
    },
    {
     "data": {
      "application/vnd.jupyter.widget-view+json": {
       "model_id": "1ad8a354355346c9aa97ed790a7ce061",
       "version_major": 2,
       "version_minor": 0
      },
      "text/plain": [
       "template_rendered.txt:   0%|          | 0.00/50.0k [00:00<?, ?B/s]"
      ]
     },
     "metadata": {},
     "output_type": "display_data"
    },
    {
     "data": {
      "application/vnd.jupyter.widget-view+json": {
       "model_id": "cc3b6fa6c1714f74afea85aa892585e5",
       "version_major": 2,
       "version_minor": 0
      },
      "text/plain": [
       "result.csv:   0%|          | 0.00/160 [00:00<?, ?B/s]"
      ]
     },
     "metadata": {},
     "output_type": "display_data"
    },
    {
     "data": {
      "application/vnd.jupyter.widget-view+json": {
       "model_id": "362b04e302bb40779cb7ca4c27c1a08e",
       "version_major": 2,
       "version_minor": 0
      },
      "text/plain": [
       "template_rendered.txt:   0%|          | 0.00/50.0k [00:00<?, ?B/s]"
      ]
     },
     "metadata": {},
     "output_type": "display_data"
    },
    {
     "data": {
      "application/vnd.jupyter.widget-view+json": {
       "model_id": "ff33aba5ed164e79922370bc048aa476",
       "version_major": 2,
       "version_minor": 0
      },
      "text/plain": [
       "template_rendered.txt:   0%|          | 0.00/50.0k [00:00<?, ?B/s]"
      ]
     },
     "metadata": {},
     "output_type": "display_data"
    },
    {
     "data": {
      "application/vnd.jupyter.widget-view+json": {
       "model_id": "b83fa8b306804dc1bae3f7b4fc62a5e8",
       "version_major": 2,
       "version_minor": 0
      },
      "text/plain": [
       "template_rendered.txt:   0%|          | 0.00/50.0k [00:00<?, ?B/s]"
      ]
     },
     "metadata": {},
     "output_type": "display_data"
    },
    {
     "data": {
      "application/vnd.jupyter.widget-view+json": {
       "model_id": "b0bc55e39cd94b66885cada45b450c04",
       "version_major": 2,
       "version_minor": 0
      },
      "text/plain": [
       "result.csv:   0%|          | 0.00/116 [00:00<?, ?B/s]"
      ]
     },
     "metadata": {},
     "output_type": "display_data"
    },
    {
     "data": {
      "application/vnd.jupyter.widget-view+json": {
       "model_id": "6a40253e27bc4ef48d3a0b71e77a9c65",
       "version_major": 2,
       "version_minor": 0
      },
      "text/plain": [
       "result.csv:   0%|          | 0.00/160 [00:00<?, ?B/s]"
      ]
     },
     "metadata": {},
     "output_type": "display_data"
    },
    {
     "data": {
      "application/vnd.jupyter.widget-view+json": {
       "model_id": "6312701c03114c7b91ff7176f02606c4",
       "version_major": 2,
       "version_minor": 0
      },
      "text/plain": [
       "template_rendered.txt:   0%|          | 0.00/50.0k [00:00<?, ?B/s]"
      ]
     },
     "metadata": {},
     "output_type": "display_data"
    },
    {
     "data": {
      "application/vnd.jupyter.widget-view+json": {
       "model_id": "c9a26dce1d6240dda1c0e6f027e0b4c1",
       "version_major": 2,
       "version_minor": 0
      },
      "text/plain": [
       "result.csv:   0%|          | 0.00/160 [00:00<?, ?B/s]"
      ]
     },
     "metadata": {},
     "output_type": "display_data"
    },
    {
     "data": {
      "application/vnd.jupyter.widget-view+json": {
       "model_id": "31c33519bba34456995d3419e269c774",
       "version_major": 2,
       "version_minor": 0
      },
      "text/plain": [
       "template_rendered.txt:   0%|          | 0.00/50.0k [00:00<?, ?B/s]"
      ]
     },
     "metadata": {},
     "output_type": "display_data"
    },
    {
     "data": {
      "application/vnd.jupyter.widget-view+json": {
       "model_id": "944c0b2f1eef4fc9a1a9ea7a1f14af3a",
       "version_major": 2,
       "version_minor": 0
      },
      "text/plain": [
       "result.csv:   0%|          | 0.00/346 [00:00<?, ?B/s]"
      ]
     },
     "metadata": {},
     "output_type": "display_data"
    },
    {
     "data": {
      "application/vnd.jupyter.widget-view+json": {
       "model_id": "2803ad64f5cb44d69207e6bf8bde7757",
       "version_major": 2,
       "version_minor": 0
      },
      "text/plain": [
       "template.txt:   0%|          | 0.00/1.54k [00:00<?, ?B/s]"
      ]
     },
     "metadata": {},
     "output_type": "display_data"
    },
    {
     "data": {
      "application/vnd.jupyter.widget-view+json": {
       "model_id": "3337681b9854455c8562ee54e4fffdf7",
       "version_major": 2,
       "version_minor": 0
      },
      "text/plain": [
       "result.csv:   0%|          | 0.00/160 [00:00<?, ?B/s]"
      ]
     },
     "metadata": {},
     "output_type": "display_data"
    },
    {
     "data": {
      "application/vnd.jupyter.widget-view+json": {
       "model_id": "17fc422159f04057a3b43c2f0477ad90",
       "version_major": 2,
       "version_minor": 0
      },
      "text/plain": [
       "template_rendered.txt:   0%|          | 0.00/28.7k [00:00<?, ?B/s]"
      ]
     },
     "metadata": {},
     "output_type": "display_data"
    },
    {
     "data": {
      "application/vnd.jupyter.widget-view+json": {
       "model_id": "34c1076297d2478ab249b3d269bf9ac4",
       "version_major": 2,
       "version_minor": 0
      },
      "text/plain": [
       "template.txt:   0%|          | 0.00/2.02k [00:00<?, ?B/s]"
      ]
     },
     "metadata": {},
     "output_type": "display_data"
    },
    {
     "data": {
      "application/vnd.jupyter.widget-view+json": {
       "model_id": "f7c711c0557a4524980afaa51623fbaf",
       "version_major": 2,
       "version_minor": 0
      },
      "text/plain": [
       "result.csv:   0%|          | 0.00/150 [00:00<?, ?B/s]"
      ]
     },
     "metadata": {},
     "output_type": "display_data"
    },
    {
     "data": {
      "application/vnd.jupyter.widget-view+json": {
       "model_id": "ff3f411a96f24a9380fcea16d8ce5949",
       "version_major": 2,
       "version_minor": 0
      },
      "text/plain": [
       "template.txt:   0%|          | 0.00/3.70k [00:00<?, ?B/s]"
      ]
     },
     "metadata": {},
     "output_type": "display_data"
    },
    {
     "data": {
      "application/vnd.jupyter.widget-view+json": {
       "model_id": "113d7a472bfc4afc8570edbb03fb9afd",
       "version_major": 2,
       "version_minor": 0
      },
      "text/plain": [
       "runs_notes.txt:   0%|          | 0.00/251 [00:00<?, ?B/s]"
      ]
     },
     "metadata": {},
     "output_type": "display_data"
    },
    {
     "data": {
      "application/vnd.jupyter.widget-view+json": {
       "model_id": "2b648ccae5594022a2bd4750e18ecd5a",
       "version_major": 2,
       "version_minor": 0
      },
      "text/plain": [
       "template_rendered.txt:   0%|          | 0.00/28.1k [00:00<?, ?B/s]"
      ]
     },
     "metadata": {},
     "output_type": "display_data"
    },
    {
     "data": {
      "text/plain": [
       "'/home/anton/marketplace/cross-encoder/datasets'"
      ]
     },
     "execution_count": 1,
     "metadata": {},
     "output_type": "execute_result"
    }
   ],
   "source": [
    "import os\n",
    "from huggingface_hub import HfApi, snapshot_download, login\n",
    "from dotenv import load_dotenv\n",
    "\n",
    "load_dotenv()  # loads HF_TOKEN; token should have read permissions\n",
    "\n",
    "# Enable hf_transfer\n",
    "os.environ['HF_HUB_ENABLE_HF_TRANSFER'] = \"1\"\n",
    "\n",
    "DATA_PATH = 'datasets'\n",
    "\n",
    "# Download the dataset\n",
    "snapshot_download(\n",
    "    repo_id=\"INDEEPA/cross-encoder\",\n",
    "    repo_type=\"dataset\",\n",
    "    local_dir=DATA_PATH,\n",
    "    local_dir_use_symlinks=False,  # optional: set to True if you want symlinks instead of copies\n",
    "    ignore_patterns=['**/*.jpg', '**/*.webp']  # optional: will skip these files\n",
    ")"
   ]
  }
 ],
 "metadata": {
  "kernelspec": {
   "display_name": "Python 3",
   "language": "python",
   "name": "python3"
  },
  "language_info": {
   "codemirror_mode": {
    "name": "ipython",
    "version": 3
   },
   "file_extension": ".py",
   "mimetype": "text/x-python",
   "name": "python",
   "nbconvert_exporter": "python",
   "pygments_lexer": "ipython3",
   "version": "3.12.10"
  }
 },
 "nbformat": 4,
 "nbformat_minor": 5
}
