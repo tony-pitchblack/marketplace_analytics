{
  "cells": [
    {
      "cell_type": "markdown",
      "metadata": {
        "id": "mnhX3Ll45nAp"
      },
      "source": [
        "# Parameters"
      ]
    },
    {
      "cell_type": "code",
      "execution_count": 2,
      "metadata": {
        "id": "QWwzkaUK5nAq"
      },
      "outputs": [],
      "source": [
        "DATA_PATH = 'data'\n",
        "\n",
        "IMG_DATASET_NAME = 'images_OZ_geo_5500'\n",
        "EMB_DATASET_DIR = 'embeddings_OZ_geo_5500'\n",
        "TABLE_DATASET_DIR = 'tables_OZ_geo_5500'\n",
        "TABLE_DATASET_FILE = 'tables_OZ_geo_5500/OZ_geo_5500.csv'\n",
        "TABLE_DATASET_FILES= [\n",
        "    'Ozon_Crawler_Latest_info2025-04-07-12-57-51.xlsx',\n",
        "    'Карты мира_озон.xlsx'\n",
        "]\n",
        "\n",
        "USE_GDRIVE = False # HACK"
      ]
    },
    {
      "cell_type": "code",
      "execution_count": 3,
      "metadata": {
        "id": "9ZYFcdmO3ugj"
      },
      "outputs": [],
      "source": [
        "QUERY_SELLER = 'ИНТЕРТРЕЙД'\n",
        "\n",
        "SUBSET_QUERY_SKU = 2\n",
        "SUBSET_NONQUERY_SKU = 6\n",
        "\n",
        "# SUBSET_QUERY_SKU = None\n",
        "# SUBSET_NONQUERY_SKU = None\n",
        "\n",
        "TOP_K = None"
      ]
    },
    {
      "cell_type": "code",
      "execution_count": 4,
      "metadata": {
        "id": "wW4-y0SK3ugj"
      },
      "outputs": [],
      "source": [
        "import torch\n",
        "\n",
        "CLIP_MODEL = 'ruclip-vit-base-patch32-384'\n",
        "# CLIP_MODEL = None\n",
        "\n",
        "# CLIP_SIAMESE_CONTRASTIVE_CKPT = 'siamese_contrastive_7k.pt'\n",
        "# CLIP_SIAMESE_CONTRASTIVE_CKPT = 'siamese_contrastive.pt'\n",
        "CLIP_SIAMESE_CONTRASTIVE_CKPT = None\n",
        "\n",
        "# CLIP_SIAMESE_CKPT = 'siamese_fitted_10epochs_bert_tiny.pt'\n",
        "# CLIP_SIAMESE_CKPT = 'siamese_fitted_10epochs_bert_turbo.pt'\n",
        "\n",
        "# COMPUTE_FINAL_EMBEDDINGS = True\n",
        "COMPUTE_FINAL_EMBEDDINGS = False\n",
        "\n",
        "SBERT_MODEL = 'ai-forever/ru-en-RoSBERTa'\n",
        "# SBERT_MODEL = 'all-distilroberta-v1'\n",
        "\n",
        "# SBERT_BATCH_SIZE = 768 if torch.cuda.is_available() else 8\n",
        "SBERT_BATCH_SIZE = 512 if torch.cuda.is_available() else 8 # lesser for larger TOP_K\n",
        "\n",
        "RUCLIP_BATCH_SIZE = 512 if torch.cuda.is_available() else 8\n",
        "\n",
        "DEVICE = 'cuda' if torch.cuda.is_available() else 'cpu'"
      ]
    },
    {
      "cell_type": "markdown",
      "metadata": {
        "id": "d5iUcYdz5nAl"
      },
      "source": [
        "# Imports"
      ]
    },
    {
      "cell_type": "code",
      "execution_count": 5,
      "metadata": {
        "id": "Mz4PYdr05nAm"
      },
      "outputs": [],
      "source": [
        "import pandas as pd\n",
        "\n",
        "import requests\n",
        "import os\n",
        "\n",
        "import joblib\n",
        "import xgboost as xgb\n",
        "from datetime import date, timedelta\n",
        "import numpy as np\n",
        "\n",
        "import torch\n",
        "from sentence_transformers import SentenceTransformer, util\n",
        "from typing import List, Tuple\n",
        "from PIL import Image\n",
        "from io import BytesIO\n",
        "import math\n",
        "\n",
        "from sklearn.preprocessing import StandardScaler\n",
        "from sklearn.model_selection import StratifiedKFold\n",
        "from sklearn.metrics import balanced_accuracy_score\n",
        "\n",
        "# import optuna\n",
        "\n",
        "from pathlib import Path"
      ]
    },
    {
      "cell_type": "code",
      "execution_count": 6,
      "metadata": {
        "id": "XC296V0g8Qvd"
      },
      "outputs": [],
      "source": [
        "if CLIP_MODEL is not None:\n",
        "    try:\n",
        "        import ruclip\n",
        "    except ModuleNotFoundError:\n",
        "        !pip install git+https://github.com/tony-pitchblack/ru-clip.git#egg=ruclip\n",
        "        import ruclip"
      ]
    },
    {
      "cell_type": "markdown",
      "metadata": {
        "id": "azE6qnUc5nAq"
      },
      "source": [
        "# Download data"
      ]
    },
    {
      "cell_type": "code",
      "execution_count": 7,
      "metadata": {
        "id": "Lh3ebtsU6hcf"
      },
      "outputs": [
        {
          "name": "stdout",
          "output_type": "stream",
          "text": [
            "Collecting python-dotenv\n",
            "  Using cached python_dotenv-1.1.0-py3-none-any.whl.metadata (24 kB)\n",
            "Using cached python_dotenv-1.1.0-py3-none-any.whl (20 kB)\n",
            "Installing collected packages: python-dotenv\n",
            "Successfully installed python-dotenv-1.1.0\n"
          ]
        }
      ],
      "source": [
        "try:\n",
        "    import dotenv\n",
        "except ImportError:\n",
        "    !pip install python-dotenv"
      ]
    },
    {
      "cell_type": "code",
      "execution_count": 8,
      "metadata": {
        "colab": {
          "base_uri": "https://localhost:8080/"
        },
        "id": "JSbSdBoj6kK_",
        "outputId": "c370461a-6015-41b2-ba78-660824794f94"
      },
      "outputs": [
        {
          "name": "stderr",
          "output_type": "stream",
          "text": [
            "Note: Environment variable`HF_TOKEN` is set and is the current active token independently from the token you've just configured.\n"
          ]
        }
      ],
      "source": [
        "# Use tokens from .env\n",
        "\n",
        "import os\n",
        "from dotenv import load_dotenv\n",
        "\n",
        "import huggingface_hub\n",
        "\n",
        "load_dotenv()\n",
        "\n",
        "HF_TOKEN = os.getenv(\"HF_TOKEN\")\n",
        "huggingface_hub.login(token=HF_TOKEN)\n"
      ]
    },
    {
      "cell_type": "code",
      "execution_count": 9,
      "metadata": {
        "id": "wvQYFU5k9w8Y"
      },
      "outputs": [],
      "source": [
        "# tables_url = ''\n",
        "images_url = 'https://drive.google.com/file/d/17gqYhKkkbo7zroI6Q4xebXqIYAdv8ydc/view?usp=sharing'\n",
        "ckpt_url = 'https://drive.google.com/file/d/1iRQAUSMktsCdLdiUvf8YLt8XypN3-x9r/view?usp=sharing'\n",
        "\n",
        "if USE_GDRIVE:\n",
        "    !gdown --fuzzy {tables_url} -O data/tmp.zip\n",
        "    !gdown --fuzzy {ckpt_url} -O data/tmp_2.zip\n",
        "    !gdown --fuzzy {images_url} -O data/{IMG_DATASET_NAME}.zip\n",
        "\n",
        "    !unzip -o -q data/tmp.zip -d data/\n",
        "    !unzip -o -q data/tmp_2.zip -d data/\n",
        "    !unzip -o -q data/{IMG_DATASET_NAME}.zip -d data/"
      ]
    },
    {
      "cell_type": "code",
      "execution_count": 10,
      "metadata": {
        "colab": {
          "base_uri": "https://localhost:8080/",
          "height": 173,
          "referenced_widgets": [
            "bab039939f9d4daa855fe1138ec7370b",
            "9b51b42c42284a488f3398ca2b44eef9",
            "c6fbfe9e485f43cb8b25022d4457ca1b",
            "efc429459e0847069919d419ef7cd331",
            "bb96242b10474f67b14d819b68f543ad",
            "4a73565f676c4f15b6eb0a473629a756",
            "f479fcaeae0842c6b6ce6120f235944c",
            "2f729f2af3684f1fa34cf5d89edf4188",
            "6fefce2196d94ec7a85b0a6b7a8df5c5",
            "aa466c2ee99e4fe1a90f947b54e62f59",
            "8a9a32cbfd474cf9bc6c97deb9e4ab57"
          ]
        },
        "id": "Gdeq0Llb5nAq",
        "outputId": "c80379fa-8f16-4b40-9ab1-25834e07470b"
      },
      "outputs": [
        {
          "data": {
            "application/vnd.jupyter.widget-view+json": {
              "model_id": "33d9305314c34615904ec0366eee7eb1",
              "version_major": 2,
              "version_minor": 0
            },
            "text/plain": [
              "Fetching 55 files:   0%|          | 0/55 [00:00<?, ?it/s]"
            ]
          },
          "metadata": {},
          "output_type": "display_data"
        }
      ],
      "source": [
        "# Download models' weights & text/image datasets from HF\n",
        "\n",
        "if not USE_GDRIVE:\n",
        "    from huggingface_hub import snapshot_download\n",
        "    from pathlib import Path\n",
        "\n",
        "    REPO_ID = \"INDEEPA/clip-siamese\"\n",
        "    LOCAL_DIR = Path(\"data/train_results\")\n",
        "    LOCAL_DIR.mkdir(parents=True, exist_ok=True)\n",
        "\n",
        "    snapshot_download(\n",
        "        repo_id=REPO_ID,\n",
        "        repo_type='dataset',\n",
        "        local_dir='data',\n",
        "        allow_patterns=[\n",
        "            'train_results/**',\n",
        "            f\"*{EMB_DATASET_DIR}/**\",\n",
        "            f\"*{TABLE_DATASET_DIR}/**\",\n",
        "            f\"{IMG_DATASET_NAME}.zip\"\n",
        "        ],\n",
        "    )\n",
        "\n",
        "    !unzip -nc -q data/{IMG_DATASET_NAME}.zip -d data/"
      ]
    },
    {
      "cell_type": "markdown",
      "metadata": {
        "id": "EKzV07Mg5nAr"
      },
      "source": [
        "# Prepare data"
      ]
    },
    {
      "cell_type": "code",
      "execution_count": 11,
      "metadata": {
        "colab": {
          "base_uri": "https://localhost:8080/"
        },
        "id": "9gvHqtDm5nAr",
        "outputId": "26e7a631-4382-463f-f703-272e7da1b400"
      },
      "outputs": [
        {
          "data": {
            "text/plain": [
              "['Sku (Sku)',\n",
              " 'Фото (CoverImage)',\n",
              " 'Название товара (ProductName)',\n",
              " 'Продавец (SellerName)',\n",
              " 'Бренд (BrandName)',\n",
              " 'Название категории (CategoryName)',\n",
              " 'Цена соинвест (DiscountPrice)',\n",
              " 'Цена по карте (OzonCardPrice)',\n",
              " 'Сток FBO (StockFbm)',\n",
              " 'Сток FBS (StockFbs)',\n",
              " 'Ошибка загрузки (CrawlerError)',\n",
              " 'Валюта (Currency)',\n",
              " 'Цена до скидки (BasePrice)',\n",
              " 'Рейтинг товара (AvgRating)',\n",
              " 'Количество отзывов (Reviews)',\n",
              " 'Описание (Description)',\n",
              " 'Rich-контент (RichContent)',\n",
              " 'Ссылка на карточку',\n",
              " 'SellerProductId (SellerProductId)']"
            ]
          },
          "execution_count": 11,
          "metadata": {},
          "output_type": "execute_result"
        }
      ],
      "source": [
        "DATA_PATH = 'data'\n",
        "\n",
        "file_path = (\n",
        "    Path(DATA_PATH) /\n",
        "    Path('tables_OZ_geo_5500') /\n",
        "    'Ozon_Crawler_Latest_info2025-04-07-12-57-51.xlsx'\n",
        ")\n",
        "\n",
        "descr_source_df = pd.read_excel(file_path)\n",
        "descr_source_df.columns.tolist()"
      ]
    },
    {
      "cell_type": "code",
      "execution_count": 12,
      "metadata": {
        "colab": {
          "base_uri": "https://localhost:8080/"
        },
        "id": "LQr2NqMm5nAs",
        "outputId": "597aae36-9232-4a42-c2d1-e06072bdf1b7"
      },
      "outputs": [
        {
          "name": "stdout",
          "output_type": "stream",
          "text": [
            "Renamed columns:\n"
          ]
        },
        {
          "data": {
            "text/plain": [
              "['sku',\n",
              " 'cover_image',\n",
              " 'product_name',\n",
              " 'seller_name',\n",
              " 'brand_name',\n",
              " 'category_name',\n",
              " 'discount_price',\n",
              " 'ozon_card_price',\n",
              " 'stock_fbm',\n",
              " 'stock_fbs',\n",
              " 'crawler_error',\n",
              " 'currency',\n",
              " 'base_price',\n",
              " 'avg_rating',\n",
              " 'reviews',\n",
              " 'description',\n",
              " 'rich_content',\n",
              " 'ссылка на карточку',\n",
              " 'seller_product_id']"
            ]
          },
          "execution_count": 12,
          "metadata": {},
          "output_type": "execute_result"
        }
      ],
      "source": [
        "import re\n",
        "\n",
        "# Function to extract Latin name and convert to snake_case\n",
        "def extract_and_convert(col_name):\n",
        "    match = re.search(r'\\(([^)]+)\\)', col_name)\n",
        "    if match:\n",
        "        camel = match.group(1)\n",
        "    else:\n",
        "        camel = col_name\n",
        "    # Convert CamelCase to snake_case\n",
        "    snake = re.sub(r'(?<!^)(?=[A-Z])', '_', camel).lower()\n",
        "    return snake\n",
        "\n",
        "# Apply renaming\n",
        "descr_source_df.rename(columns={col: extract_and_convert(col) for col in descr_source_df.columns}, inplace=True)\n",
        "\n",
        "# Check the result\n",
        "print(\"Renamed columns:\")\n",
        "descr_source_df.columns.tolist()"
      ]
    },
    {
      "cell_type": "code",
      "execution_count": 13,
      "metadata": {
        "colab": {
          "base_uri": "https://localhost:8080/"
        },
        "id": "E2GqhqDA5nAs",
        "outputId": "04d926a3-f1df-450c-930b-85fe9a0b6b77"
      },
      "outputs": [
        {
          "data": {
            "text/plain": [
              "['sku',\n",
              " 'Name',\n",
              " 'Category',\n",
              " 'Схема',\n",
              " 'Brand',\n",
              " 'Niche',\n",
              " 'seller',\n",
              " 'Balance',\n",
              " 'Balance FBS',\n",
              " 'Warehouses count',\n",
              " 'Comments',\n",
              " 'Final price',\n",
              " 'Max price',\n",
              " 'Min price',\n",
              " 'Average price',\n",
              " 'Median price',\n",
              " 'Цена с Ozon картой',\n",
              " 'Sales',\n",
              " 'Revenue',\n",
              " 'Revenue potential',\n",
              " 'Revenue average',\n",
              " 'Lost profit',\n",
              " 'Lost profit percent',\n",
              " 'url',\n",
              " 'Thumb',\n",
              " 'Pics Count',\n",
              " 'Has Video',\n",
              " 'First Date',\n",
              " 'Days in website',\n",
              " 'Days in stock',\n",
              " 'Days with sales',\n",
              " 'Average if in stock',\n",
              " 'Rating',\n",
              " 'FBS',\n",
              " 'Base price',\n",
              " 'Category Position',\n",
              " 'Categories Last Count',\n",
              " 'Sales Per Day Average',\n",
              " 'Turnover',\n",
              " 'Frozen stocks',\n",
              " 'Frozen stocks cost',\n",
              " 'Frozen stocks percent']"
            ]
          },
          "execution_count": 13,
          "metadata": {},
          "output_type": "execute_result"
        }
      ],
      "source": [
        "DATA_PATH = 'data'\n",
        "\n",
        "file_path = (\n",
        "    Path(DATA_PATH) /\n",
        "    Path('tables_OZ_geo_5500') /\n",
        "    'Карты мира_озон.xlsx'\n",
        ")\n",
        "\n",
        "source_df = pd.read_excel(file_path)\n",
        "source_df.columns.tolist()"
      ]
    },
    {
      "cell_type": "code",
      "execution_count": 14,
      "metadata": {
        "id": "iUyzhLch5nAs"
      },
      "outputs": [],
      "source": [
        "all_required_cols = [\n",
        "    'balance_first',\n",
        "    'sales_first',\n",
        "    'rating_first',\n",
        "    'final_price_first',\n",
        "    'comments_first',\n",
        "    'description_first',\n",
        "    'name_first',\n",
        "    'options_first',\n",
        "    'sku_first',\n",
        "    'has_video_first',\n",
        "    'photo_count_first',\n",
        "\n",
        "    'balance_second', # Balance\n",
        "    'sales_second',\n",
        "    'rating_second', # AvgRating\n",
        "    'final_price_second', # DiscountPrice,\n",
        "    'comments_second', # Reviews\n",
        "    'description_second',\n",
        "    'name_second', # ProductName\n",
        "    'options_second',\n",
        "    'sku_second',\n",
        "    'has_video_second',\n",
        "    'photo_count_second',\n",
        "\n",
        "    # 'image_url_first',\n",
        "    # 'image_url_second',\n",
        "\n",
        "    'iseq_vendor', # 0\n",
        "    'iseq_color', # 0\n",
        "    'iseq_brand', # BrandName\n",
        "    'iseq_supp', # 0\n",
        "    'are_related', # 0\n",
        "\n",
        "    'desc_sim',\n",
        "    'opt_sim',\n",
        "    'name_sim',\n",
        "    'img_sim',\n",
        "\n",
        "    'label'\n",
        "]"
      ]
    },
    {
      "cell_type": "code",
      "execution_count": 15,
      "metadata": {
        "colab": {
          "base_uri": "https://localhost:8080/"
        },
        "id": "v9Hx02lx8Qvj",
        "outputId": "63a4fee6-5756-438e-a4e2-8d387b98d2ed"
      },
      "outputs": [
        {
          "data": {
            "text/plain": [
              "['sku',\n",
              " 'name',\n",
              " 'category',\n",
              " 'схема',\n",
              " 'brand',\n",
              " 'niche',\n",
              " 'seller',\n",
              " 'balance',\n",
              " 'balance_fbs',\n",
              " 'warehouses_count',\n",
              " 'comments',\n",
              " 'final_price',\n",
              " 'max_price',\n",
              " 'min_price',\n",
              " 'average_price',\n",
              " 'median_price',\n",
              " 'цена_с_ozon_картой',\n",
              " 'sales',\n",
              " 'revenue',\n",
              " 'revenue_potential',\n",
              " 'revenue_average',\n",
              " 'lost_profit',\n",
              " 'lost_profit_percent',\n",
              " 'url',\n",
              " 'thumb',\n",
              " 'pics_count',\n",
              " 'has_video',\n",
              " 'first_date',\n",
              " 'days_in_website',\n",
              " 'days_in_stock',\n",
              " 'days_with_sales',\n",
              " 'average_if_in_stock',\n",
              " 'rating',\n",
              " 'fbs',\n",
              " 'base_price',\n",
              " 'category_position',\n",
              " 'categories_last_count',\n",
              " 'sales_per_day_average',\n",
              " 'turnover',\n",
              " 'frozen_stocks',\n",
              " 'frozen_stocks_cost',\n",
              " 'frozen_stocks_percent']"
            ]
          },
          "execution_count": 15,
          "metadata": {},
          "output_type": "execute_result"
        }
      ],
      "source": [
        "new_source_df_all = source_df.rename(\n",
        "    columns={\n",
        "        col: col.lower().replace(\" \", \"_\")\n",
        "        for col in source_df.columns\n",
        "    }\n",
        ")\n",
        "\n",
        "new_source_df_all.columns.tolist()"
      ]
    },
    {
      "cell_type": "code",
      "execution_count": 16,
      "metadata": {},
      "outputs": [
        {
          "data": {
            "text/html": [
              "<div>\n",
              "<style scoped>\n",
              "    .dataframe tbody tr th:only-of-type {\n",
              "        vertical-align: middle;\n",
              "    }\n",
              "\n",
              "    .dataframe tbody tr th {\n",
              "        vertical-align: top;\n",
              "    }\n",
              "\n",
              "    .dataframe thead th {\n",
              "        text-align: right;\n",
              "    }\n",
              "</style>\n",
              "<table border=\"1\" class=\"dataframe\">\n",
              "  <thead>\n",
              "    <tr style=\"text-align: right;\">\n",
              "      <th></th>\n",
              "      <th>sku</th>\n",
              "      <th>name</th>\n",
              "      <th>category</th>\n",
              "      <th>схема</th>\n",
              "      <th>brand</th>\n",
              "      <th>niche</th>\n",
              "      <th>seller</th>\n",
              "      <th>balance</th>\n",
              "      <th>balance_fbs</th>\n",
              "      <th>warehouses_count</th>\n",
              "      <th>...</th>\n",
              "      <th>rating</th>\n",
              "      <th>fbs</th>\n",
              "      <th>base_price</th>\n",
              "      <th>category_position</th>\n",
              "      <th>categories_last_count</th>\n",
              "      <th>sales_per_day_average</th>\n",
              "      <th>turnover</th>\n",
              "      <th>frozen_stocks</th>\n",
              "      <th>frozen_stocks_cost</th>\n",
              "      <th>frozen_stocks_percent</th>\n",
              "    </tr>\n",
              "  </thead>\n",
              "  <tbody>\n",
              "    <tr>\n",
              "      <th>0</th>\n",
              "      <td>936454663</td>\n",
              "      <td>Карта мира географическая политическая интерак...</td>\n",
              "      <td>Канцелярские товары/Бумажная продукция/Карты мира</td>\n",
              "      <td>FBO</td>\n",
              "      <td>NaN</td>\n",
              "      <td>Дом и сад/Декор и интерьер/Картины и панно/Гра...</td>\n",
              "      <td>GooDaY</td>\n",
              "      <td>346</td>\n",
              "      <td>0</td>\n",
              "      <td>12</td>\n",
              "      <td>...</td>\n",
              "      <td>4.8</td>\n",
              "      <td>0</td>\n",
              "      <td>4990</td>\n",
              "      <td>1</td>\n",
              "      <td>1</td>\n",
              "      <td>5.20</td>\n",
              "      <td>66.54</td>\n",
              "      <td>112</td>\n",
              "      <td>202832</td>\n",
              "      <td>32.37</td>\n",
              "    </tr>\n",
              "    <tr>\n",
              "      <th>1</th>\n",
              "      <td>491279127</td>\n",
              "      <td>Карта МИРА настенная политическая,160х102 см, ...</td>\n",
              "      <td>Канцелярские товары/Бумажная продукция/Карты мира</td>\n",
              "      <td>FBO</td>\n",
              "      <td>Атлас Принт</td>\n",
              "      <td>Дом и сад/Декор и интерьер/Картины и панно/Гра...</td>\n",
              "      <td>ИНТЕРТРЕЙД</td>\n",
              "      <td>37</td>\n",
              "      <td>612</td>\n",
              "      <td>5</td>\n",
              "      <td>...</td>\n",
              "      <td>4.9</td>\n",
              "      <td>1</td>\n",
              "      <td>1874</td>\n",
              "      <td>3</td>\n",
              "      <td>1</td>\n",
              "      <td>12.33</td>\n",
              "      <td>3.00</td>\n",
              "      <td>0</td>\n",
              "      <td>0</td>\n",
              "      <td>0.00</td>\n",
              "    </tr>\n",
              "    <tr>\n",
              "      <th>2</th>\n",
              "      <td>844750071</td>\n",
              "      <td>Карта мира географическая политическая интерак...</td>\n",
              "      <td>Канцелярские товары/Бумажная продукция/Карты мира</td>\n",
              "      <td>FBO</td>\n",
              "      <td>NaN</td>\n",
              "      <td>Дом и сад/Декор и интерьер/Картины и панно/Гра...</td>\n",
              "      <td>GooDaY</td>\n",
              "      <td>585</td>\n",
              "      <td>0</td>\n",
              "      <td>9</td>\n",
              "      <td>...</td>\n",
              "      <td>4.8</td>\n",
              "      <td>0</td>\n",
              "      <td>1599</td>\n",
              "      <td>2</td>\n",
              "      <td>1</td>\n",
              "      <td>17.80</td>\n",
              "      <td>32.87</td>\n",
              "      <td>0</td>\n",
              "      <td>0</td>\n",
              "      <td>0.00</td>\n",
              "    </tr>\n",
              "    <tr>\n",
              "      <th>3</th>\n",
              "      <td>1737112880</td>\n",
              "      <td>Карта мира политическая на стену большая 199х1...</td>\n",
              "      <td>Канцелярские товары/Бумажная продукция/Карты мира</td>\n",
              "      <td>FBO</td>\n",
              "      <td>Brauberg</td>\n",
              "      <td>Дом и сад/Декор и интерьер/Картины и панно/Гра...</td>\n",
              "      <td>Самсон</td>\n",
              "      <td>94</td>\n",
              "      <td>0</td>\n",
              "      <td>7</td>\n",
              "      <td>...</td>\n",
              "      <td>4.8</td>\n",
              "      <td>0</td>\n",
              "      <td>2414</td>\n",
              "      <td>56</td>\n",
              "      <td>1</td>\n",
              "      <td>7.20</td>\n",
              "      <td>13.06</td>\n",
              "      <td>0</td>\n",
              "      <td>0</td>\n",
              "      <td>0.00</td>\n",
              "    </tr>\n",
              "    <tr>\n",
              "      <th>4</th>\n",
              "      <td>216810859</td>\n",
              "      <td>Настенная карта мира для детей, игра, 150х115 ...</td>\n",
              "      <td>Канцелярские товары/Бумажная продукция/Карты мира</td>\n",
              "      <td>FBO</td>\n",
              "      <td>Играматика</td>\n",
              "      <td>Дом и сад/Декор и интерьер/Картины и панно/Гра...</td>\n",
              "      <td>Студия Играматика</td>\n",
              "      <td>199</td>\n",
              "      <td>0</td>\n",
              "      <td>16</td>\n",
              "      <td>...</td>\n",
              "      <td>4.9</td>\n",
              "      <td>0</td>\n",
              "      <td>4290</td>\n",
              "      <td>6</td>\n",
              "      <td>1</td>\n",
              "      <td>3.33</td>\n",
              "      <td>59.70</td>\n",
              "      <td>49</td>\n",
              "      <td>126175</td>\n",
              "      <td>24.62</td>\n",
              "    </tr>\n",
              "    <tr>\n",
              "      <th>...</th>\n",
              "      <td>...</td>\n",
              "      <td>...</td>\n",
              "      <td>...</td>\n",
              "      <td>...</td>\n",
              "      <td>...</td>\n",
              "      <td>...</td>\n",
              "      <td>...</td>\n",
              "      <td>...</td>\n",
              "      <td>...</td>\n",
              "      <td>...</td>\n",
              "      <td>...</td>\n",
              "      <td>...</td>\n",
              "      <td>...</td>\n",
              "      <td>...</td>\n",
              "      <td>...</td>\n",
              "      <td>...</td>\n",
              "      <td>...</td>\n",
              "      <td>...</td>\n",
              "      <td>...</td>\n",
              "      <td>...</td>\n",
              "      <td>...</td>\n",
              "    </tr>\n",
              "    <tr>\n",
              "      <th>5698</th>\n",
              "      <td>1709691421</td>\n",
              "      <td>настенная карта Астрахани 121х164 см (на баннере)</td>\n",
              "      <td>Канцелярские товары/Бумажная продукция/Карты мира</td>\n",
              "      <td>FBS</td>\n",
              "      <td>ОТРОК</td>\n",
              "      <td>Канцелярские товары/Бумажная продукция/Карты мира</td>\n",
              "      <td>ОТРОК - Большие настенные карты</td>\n",
              "      <td>0</td>\n",
              "      <td>100</td>\n",
              "      <td>1</td>\n",
              "      <td>...</td>\n",
              "      <td>0.0</td>\n",
              "      <td>1</td>\n",
              "      <td>3450</td>\n",
              "      <td>4825</td>\n",
              "      <td>1</td>\n",
              "      <td>0.00</td>\n",
              "      <td>0.00</td>\n",
              "      <td>0</td>\n",
              "      <td>0</td>\n",
              "      <td>0.00</td>\n",
              "    </tr>\n",
              "    <tr>\n",
              "      <th>5699</th>\n",
              "      <td>1446470911</td>\n",
              "      <td>Карта мира политическая, 101 х 70 см, 1:32 М, ...</td>\n",
              "      <td>NaN</td>\n",
              "      <td>FBS</td>\n",
              "      <td>ARIA</td>\n",
              "      <td>Дом и сад/Декор и интерьер/Картины и панно/Гра...</td>\n",
              "      <td>Aria</td>\n",
              "      <td>0</td>\n",
              "      <td>147</td>\n",
              "      <td>0</td>\n",
              "      <td>...</td>\n",
              "      <td>0.0</td>\n",
              "      <td>1</td>\n",
              "      <td>1898</td>\n",
              "      <td>0</td>\n",
              "      <td>0</td>\n",
              "      <td>0.00</td>\n",
              "      <td>0.00</td>\n",
              "      <td>0</td>\n",
              "      <td>0</td>\n",
              "      <td>0.00</td>\n",
              "    </tr>\n",
              "    <tr>\n",
              "      <th>5700</th>\n",
              "      <td>924133201</td>\n",
              "      <td>Настенная карта России и стран СНГ, глянцевая ...</td>\n",
              "      <td>Канцелярские товары/Бумажная продукция/Карты мира</td>\n",
              "      <td>FBS</td>\n",
              "      <td>Фабрика настенных карт</td>\n",
              "      <td>Канцелярские товары/Бумажная продукция/Карты мира</td>\n",
              "      <td>Пушкин Медиа</td>\n",
              "      <td>0</td>\n",
              "      <td>56</td>\n",
              "      <td>1</td>\n",
              "      <td>...</td>\n",
              "      <td>5.0</td>\n",
              "      <td>1</td>\n",
              "      <td>2387</td>\n",
              "      <td>967</td>\n",
              "      <td>1</td>\n",
              "      <td>0.00</td>\n",
              "      <td>0.00</td>\n",
              "      <td>0</td>\n",
              "      <td>0</td>\n",
              "      <td>0.00</td>\n",
              "    </tr>\n",
              "    <tr>\n",
              "      <th>5701</th>\n",
              "      <td>1596633631</td>\n",
              "      <td>Настенная карта центральных районов Санкт-Пете...</td>\n",
              "      <td>Канцелярские товары/Бумажная продукция/Карты мира</td>\n",
              "      <td>FBO</td>\n",
              "      <td>Фабрика настенных карт</td>\n",
              "      <td>Канцелярские товары/Бумажная продукция/Карты мира</td>\n",
              "      <td>Пушкин Медиа</td>\n",
              "      <td>0</td>\n",
              "      <td>98</td>\n",
              "      <td>1</td>\n",
              "      <td>...</td>\n",
              "      <td>3.7</td>\n",
              "      <td>1</td>\n",
              "      <td>1927</td>\n",
              "      <td>1273</td>\n",
              "      <td>1</td>\n",
              "      <td>0.00</td>\n",
              "      <td>0.00</td>\n",
              "      <td>0</td>\n",
              "      <td>0</td>\n",
              "      <td>0.00</td>\n",
              "    </tr>\n",
              "    <tr>\n",
              "      <th>5702</th>\n",
              "      <td>677970931</td>\n",
              "      <td>Globen Географическая карта</td>\n",
              "      <td>Канцелярские товары/Бумажная продукция/Карты мира</td>\n",
              "      <td>FBS</td>\n",
              "      <td>Globen</td>\n",
              "      <td>Дом и сад/Декор и интерьер/Картины и панно/Гра...</td>\n",
              "      <td>Уруру</td>\n",
              "      <td>0</td>\n",
              "      <td>50</td>\n",
              "      <td>1</td>\n",
              "      <td>...</td>\n",
              "      <td>0.0</td>\n",
              "      <td>1</td>\n",
              "      <td>738</td>\n",
              "      <td>4193</td>\n",
              "      <td>1</td>\n",
              "      <td>0.00</td>\n",
              "      <td>0.00</td>\n",
              "      <td>0</td>\n",
              "      <td>0</td>\n",
              "      <td>0.00</td>\n",
              "    </tr>\n",
              "  </tbody>\n",
              "</table>\n",
              "<p>5703 rows × 42 columns</p>\n",
              "</div>"
            ],
            "text/plain": [
              "             sku                                               name  \\\n",
              "0      936454663  Карта мира географическая политическая интерак...   \n",
              "1      491279127  Карта МИРА настенная политическая,160х102 см, ...   \n",
              "2      844750071  Карта мира географическая политическая интерак...   \n",
              "3     1737112880  Карта мира политическая на стену большая 199х1...   \n",
              "4      216810859  Настенная карта мира для детей, игра, 150х115 ...   \n",
              "...          ...                                                ...   \n",
              "5698  1709691421  настенная карта Астрахани 121х164 см (на баннере)   \n",
              "5699  1446470911  Карта мира политическая, 101 х 70 см, 1:32 М, ...   \n",
              "5700   924133201  Настенная карта России и стран СНГ, глянцевая ...   \n",
              "5701  1596633631  Настенная карта центральных районов Санкт-Пете...   \n",
              "5702   677970931                        Globen Географическая карта   \n",
              "\n",
              "                                               category схема  \\\n",
              "0     Канцелярские товары/Бумажная продукция/Карты мира   FBO   \n",
              "1     Канцелярские товары/Бумажная продукция/Карты мира   FBO   \n",
              "2     Канцелярские товары/Бумажная продукция/Карты мира   FBO   \n",
              "3     Канцелярские товары/Бумажная продукция/Карты мира   FBO   \n",
              "4     Канцелярские товары/Бумажная продукция/Карты мира   FBO   \n",
              "...                                                 ...   ...   \n",
              "5698  Канцелярские товары/Бумажная продукция/Карты мира   FBS   \n",
              "5699                                                NaN   FBS   \n",
              "5700  Канцелярские товары/Бумажная продукция/Карты мира   FBS   \n",
              "5701  Канцелярские товары/Бумажная продукция/Карты мира   FBO   \n",
              "5702  Канцелярские товары/Бумажная продукция/Карты мира   FBS   \n",
              "\n",
              "                       brand  \\\n",
              "0                        NaN   \n",
              "1                Атлас Принт   \n",
              "2                        NaN   \n",
              "3                   Brauberg   \n",
              "4                 Играматика   \n",
              "...                      ...   \n",
              "5698                   ОТРОК   \n",
              "5699                    ARIA   \n",
              "5700  Фабрика настенных карт   \n",
              "5701  Фабрика настенных карт   \n",
              "5702                  Globen   \n",
              "\n",
              "                                                  niche  \\\n",
              "0     Дом и сад/Декор и интерьер/Картины и панно/Гра...   \n",
              "1     Дом и сад/Декор и интерьер/Картины и панно/Гра...   \n",
              "2     Дом и сад/Декор и интерьер/Картины и панно/Гра...   \n",
              "3     Дом и сад/Декор и интерьер/Картины и панно/Гра...   \n",
              "4     Дом и сад/Декор и интерьер/Картины и панно/Гра...   \n",
              "...                                                 ...   \n",
              "5698  Канцелярские товары/Бумажная продукция/Карты мира   \n",
              "5699  Дом и сад/Декор и интерьер/Картины и панно/Гра...   \n",
              "5700  Канцелярские товары/Бумажная продукция/Карты мира   \n",
              "5701  Канцелярские товары/Бумажная продукция/Карты мира   \n",
              "5702  Дом и сад/Декор и интерьер/Картины и панно/Гра...   \n",
              "\n",
              "                               seller  balance  balance_fbs  warehouses_count  \\\n",
              "0                              GooDaY      346            0                12   \n",
              "1                          ИНТЕРТРЕЙД       37          612                 5   \n",
              "2                              GooDaY      585            0                 9   \n",
              "3                              Самсон       94            0                 7   \n",
              "4                   Студия Играматика      199            0                16   \n",
              "...                               ...      ...          ...               ...   \n",
              "5698  ОТРОК - Большие настенные карты        0          100                 1   \n",
              "5699                             Aria        0          147                 0   \n",
              "5700                     Пушкин Медиа        0           56                 1   \n",
              "5701                     Пушкин Медиа        0           98                 1   \n",
              "5702                            Уруру        0           50                 1   \n",
              "\n",
              "      ...  rating  fbs  base_price  category_position  categories_last_count  \\\n",
              "0     ...     4.8    0        4990                  1                      1   \n",
              "1     ...     4.9    1        1874                  3                      1   \n",
              "2     ...     4.8    0        1599                  2                      1   \n",
              "3     ...     4.8    0        2414                 56                      1   \n",
              "4     ...     4.9    0        4290                  6                      1   \n",
              "...   ...     ...  ...         ...                ...                    ...   \n",
              "5698  ...     0.0    1        3450               4825                      1   \n",
              "5699  ...     0.0    1        1898                  0                      0   \n",
              "5700  ...     5.0    1        2387                967                      1   \n",
              "5701  ...     3.7    1        1927               1273                      1   \n",
              "5702  ...     0.0    1         738               4193                      1   \n",
              "\n",
              "      sales_per_day_average  turnover  frozen_stocks  frozen_stocks_cost  \\\n",
              "0                      5.20     66.54            112              202832   \n",
              "1                     12.33      3.00              0                   0   \n",
              "2                     17.80     32.87              0                   0   \n",
              "3                      7.20     13.06              0                   0   \n",
              "4                      3.33     59.70             49              126175   \n",
              "...                     ...       ...            ...                 ...   \n",
              "5698                   0.00      0.00              0                   0   \n",
              "5699                   0.00      0.00              0                   0   \n",
              "5700                   0.00      0.00              0                   0   \n",
              "5701                   0.00      0.00              0                   0   \n",
              "5702                   0.00      0.00              0                   0   \n",
              "\n",
              "      frozen_stocks_percent  \n",
              "0                     32.37  \n",
              "1                      0.00  \n",
              "2                      0.00  \n",
              "3                      0.00  \n",
              "4                     24.62  \n",
              "...                     ...  \n",
              "5698                   0.00  \n",
              "5699                   0.00  \n",
              "5700                   0.00  \n",
              "5701                   0.00  \n",
              "5702                   0.00  \n",
              "\n",
              "[5703 rows x 42 columns]"
            ]
          },
          "execution_count": 16,
          "metadata": {},
          "output_type": "execute_result"
        }
      ],
      "source": [
        "new_source_df_all"
      ]
    },
    {
      "cell_type": "code",
      "execution_count": 17,
      "metadata": {
        "colab": {
          "base_uri": "https://localhost:8080/",
          "height": 300
        },
        "id": "B2Yy1JKv8Qvj",
        "outputId": "ff39381c-6248-4255-8428-f898e48b668c"
      },
      "outputs": [
        {
          "data": {
            "text/html": [
              "<div>\n",
              "<style scoped>\n",
              "    .dataframe tbody tr th:only-of-type {\n",
              "        vertical-align: middle;\n",
              "    }\n",
              "\n",
              "    .dataframe tbody tr th {\n",
              "        vertical-align: top;\n",
              "    }\n",
              "\n",
              "    .dataframe thead th {\n",
              "        text-align: right;\n",
              "    }\n",
              "</style>\n",
              "<table border=\"1\" class=\"dataframe\">\n",
              "  <thead>\n",
              "    <tr style=\"text-align: right;\">\n",
              "      <th></th>\n",
              "      <th>balance_fbm</th>\n",
              "      <th>balance_fbs</th>\n",
              "      <th>balance</th>\n",
              "    </tr>\n",
              "  </thead>\n",
              "  <tbody>\n",
              "    <tr>\n",
              "      <th>count</th>\n",
              "      <td>5703.000000</td>\n",
              "      <td>5703.000000</td>\n",
              "      <td>5703.000000</td>\n",
              "    </tr>\n",
              "    <tr>\n",
              "      <th>mean</th>\n",
              "      <td>2.063826</td>\n",
              "      <td>267.155006</td>\n",
              "      <td>269.218832</td>\n",
              "    </tr>\n",
              "    <tr>\n",
              "      <th>std</th>\n",
              "      <td>21.677691</td>\n",
              "      <td>534.741939</td>\n",
              "      <td>534.336187</td>\n",
              "    </tr>\n",
              "    <tr>\n",
              "      <th>min</th>\n",
              "      <td>0.000000</td>\n",
              "      <td>0.000000</td>\n",
              "      <td>0.000000</td>\n",
              "    </tr>\n",
              "    <tr>\n",
              "      <th>25%</th>\n",
              "      <td>0.000000</td>\n",
              "      <td>6.000000</td>\n",
              "      <td>8.000000</td>\n",
              "    </tr>\n",
              "    <tr>\n",
              "      <th>50%</th>\n",
              "      <td>0.000000</td>\n",
              "      <td>73.000000</td>\n",
              "      <td>79.000000</td>\n",
              "    </tr>\n",
              "    <tr>\n",
              "      <th>75%</th>\n",
              "      <td>0.000000</td>\n",
              "      <td>104.000000</td>\n",
              "      <td>124.000000</td>\n",
              "    </tr>\n",
              "    <tr>\n",
              "      <th>max</th>\n",
              "      <td>853.000000</td>\n",
              "      <td>11107.000000</td>\n",
              "      <td>11108.000000</td>\n",
              "    </tr>\n",
              "  </tbody>\n",
              "</table>\n",
              "</div>"
            ],
            "text/plain": [
              "       balance_fbm   balance_fbs       balance\n",
              "count  5703.000000   5703.000000   5703.000000\n",
              "mean      2.063826    267.155006    269.218832\n",
              "std      21.677691    534.741939    534.336187\n",
              "min       0.000000      0.000000      0.000000\n",
              "25%       0.000000      6.000000      8.000000\n",
              "50%       0.000000     73.000000     79.000000\n",
              "75%       0.000000    104.000000    124.000000\n",
              "max     853.000000  11107.000000  11108.000000"
            ]
          },
          "execution_count": 17,
          "metadata": {},
          "output_type": "execute_result"
        }
      ],
      "source": [
        "# Combine balance columns\n",
        "\n",
        "new_source_df_all = new_source_df_all.rename(\n",
        "    columns={\n",
        "        'balance': 'balance_fbm'\n",
        "    }\n",
        ")\n",
        "\n",
        "new_source_df_all['balance'] = (\n",
        "    new_source_df_all['balance_fbm'] +\n",
        "    new_source_df_all['balance_fbs']\n",
        ")\n",
        "\n",
        "new_source_df_all[['balance_fbm', 'balance_fbs', 'balance']].describe()"
      ]
    },
    {
      "cell_type": "code",
      "execution_count": 18,
      "metadata": {
        "colab": {
          "base_uri": "https://localhost:8080/",
          "height": 153
        },
        "id": "lkaXnu7a5nAt",
        "outputId": "4dd4858d-8cc2-4f76-f671-c63845ae7a18"
      },
      "outputs": [
        {
          "data": {
            "text/html": [
              "<div>\n",
              "<style scoped>\n",
              "    .dataframe tbody tr th:only-of-type {\n",
              "        vertical-align: middle;\n",
              "    }\n",
              "\n",
              "    .dataframe tbody tr th {\n",
              "        vertical-align: top;\n",
              "    }\n",
              "\n",
              "    .dataframe thead th {\n",
              "        text-align: right;\n",
              "    }\n",
              "</style>\n",
              "<table border=\"1\" class=\"dataframe\">\n",
              "  <thead>\n",
              "    <tr style=\"text-align: right;\">\n",
              "      <th></th>\n",
              "      <th>balance</th>\n",
              "      <th>sales</th>\n",
              "      <th>final_price</th>\n",
              "      <th>rating</th>\n",
              "      <th>comments</th>\n",
              "      <th>name</th>\n",
              "      <th>sku</th>\n",
              "      <th>has_video</th>\n",
              "      <th>photo_count</th>\n",
              "      <th>seller</th>\n",
              "      <th>brand</th>\n",
              "      <th>url</th>\n",
              "    </tr>\n",
              "  </thead>\n",
              "  <tbody>\n",
              "    <tr>\n",
              "      <th>0</th>\n",
              "      <td>346</td>\n",
              "      <td>156</td>\n",
              "      <td>1811</td>\n",
              "      <td>4.8</td>\n",
              "      <td>5227</td>\n",
              "      <td>Карта мира географическая политическая интерак...</td>\n",
              "      <td>936454663</td>\n",
              "      <td>0</td>\n",
              "      <td>4</td>\n",
              "      <td>GooDaY</td>\n",
              "      <td>NaN</td>\n",
              "      <td>https://www.ozon.ru/context/detail/id/936454663/</td>\n",
              "    </tr>\n",
              "  </tbody>\n",
              "</table>\n",
              "</div>"
            ],
            "text/plain": [
              "   balance  sales  final_price  rating  comments  \\\n",
              "0      346    156         1811     4.8      5227   \n",
              "\n",
              "                                                name        sku  has_video  \\\n",
              "0  Карта мира географическая политическая интерак...  936454663          0   \n",
              "\n",
              "   photo_count  seller brand                                               url  \n",
              "0            4  GooDaY   NaN  https://www.ozon.ru/context/detail/id/936454663/  "
            ]
          },
          "execution_count": 18,
          "metadata": {},
          "output_type": "execute_result"
        }
      ],
      "source": [
        "required_cols = [\n",
        "    'balance',\n",
        "    'sales',\n",
        "    'final_price',\n",
        "    'rating',\n",
        "    'comments',\n",
        "    # 'description',\n",
        "    'name',\n",
        "    # 'options'\n",
        "    'sku',\n",
        "    'has_video',\n",
        "    'pics_count',\n",
        "    'seller',\n",
        "    'brand',\n",
        "    'url'\n",
        "]\n",
        "\n",
        "new_source_df_all = (\n",
        "    new_source_df_all[required_cols]\n",
        "    .rename(columns={'pics_count': 'photo_count'})\n",
        ")\n",
        "\n",
        "new_source_df_all.head(1)"
      ]
    },
    {
      "cell_type": "code",
      "execution_count": 19,
      "metadata": {
        "colab": {
          "base_uri": "https://localhost:8080/",
          "height": 424
        },
        "id": "LnvGujCt5nAt",
        "outputId": "1d0f2bc8-711a-46a5-8a1b-4b0d607979ba"
      },
      "outputs": [
        {
          "data": {
            "text/html": [
              "<div>\n",
              "<style scoped>\n",
              "    .dataframe tbody tr th:only-of-type {\n",
              "        vertical-align: middle;\n",
              "    }\n",
              "\n",
              "    .dataframe tbody tr th {\n",
              "        vertical-align: top;\n",
              "    }\n",
              "\n",
              "    .dataframe thead th {\n",
              "        text-align: right;\n",
              "    }\n",
              "</style>\n",
              "<table border=\"1\" class=\"dataframe\">\n",
              "  <thead>\n",
              "    <tr style=\"text-align: right;\">\n",
              "      <th></th>\n",
              "      <th>image_id</th>\n",
              "      <th>sku</th>\n",
              "    </tr>\n",
              "  </thead>\n",
              "  <tbody>\n",
              "    <tr>\n",
              "      <th>0</th>\n",
              "      <td>7323783851</td>\n",
              "      <td>1871769771</td>\n",
              "    </tr>\n",
              "    <tr>\n",
              "      <th>1</th>\n",
              "      <td>7394308097</td>\n",
              "      <td>1679550303</td>\n",
              "    </tr>\n",
              "    <tr>\n",
              "      <th>2</th>\n",
              "      <td>7299023048</td>\n",
              "      <td>1200553001</td>\n",
              "    </tr>\n",
              "    <tr>\n",
              "      <th>3</th>\n",
              "      <td>7388534766</td>\n",
              "      <td>922231521</td>\n",
              "    </tr>\n",
              "    <tr>\n",
              "      <th>4</th>\n",
              "      <td>7295079927</td>\n",
              "      <td>922230517</td>\n",
              "    </tr>\n",
              "    <tr>\n",
              "      <th>...</th>\n",
              "      <td>...</td>\n",
              "      <td>...</td>\n",
              "    </tr>\n",
              "    <tr>\n",
              "      <th>5560</th>\n",
              "      <td>6008538837</td>\n",
              "      <td>166584090</td>\n",
              "    </tr>\n",
              "    <tr>\n",
              "      <th>5561</th>\n",
              "      <td>6008438667</td>\n",
              "      <td>166451882</td>\n",
              "    </tr>\n",
              "    <tr>\n",
              "      <th>5562</th>\n",
              "      <td>7439544697</td>\n",
              "      <td>154409524</td>\n",
              "    </tr>\n",
              "    <tr>\n",
              "      <th>5563</th>\n",
              "      <td>7098349497</td>\n",
              "      <td>147896031</td>\n",
              "    </tr>\n",
              "    <tr>\n",
              "      <th>5564</th>\n",
              "      <td>7439552978</td>\n",
              "      <td>147896030</td>\n",
              "    </tr>\n",
              "  </tbody>\n",
              "</table>\n",
              "<p>5562 rows × 2 columns</p>\n",
              "</div>"
            ],
            "text/plain": [
              "        image_id         sku\n",
              "0     7323783851  1871769771\n",
              "1     7394308097  1679550303\n",
              "2     7299023048  1200553001\n",
              "3     7388534766   922231521\n",
              "4     7295079927   922230517\n",
              "...          ...         ...\n",
              "5560  6008538837   166584090\n",
              "5561  6008438667   166451882\n",
              "5562  7439544697   154409524\n",
              "5563  7098349497   147896031\n",
              "5564  7439552978   147896030\n",
              "\n",
              "[5562 rows x 2 columns]"
            ]
          },
          "execution_count": 19,
          "metadata": {},
          "output_type": "execute_result"
        }
      ],
      "source": [
        "# Extract image id from URL\n",
        "\n",
        "descr_source_df['image_id'] = descr_source_df['cover_image'].dropna().apply(\n",
        "    lambda s: re.search(r'/(\\d+)\\.jpg$', str(s)).group(1)\n",
        ")\n",
        "\n",
        "descr_source_df.dropna(subset='image_id', inplace=True)\n",
        "descr_source_df[['image_id', 'sku']]"
      ]
    },
    {
      "cell_type": "code",
      "execution_count": 20,
      "metadata": {
        "colab": {
          "base_uri": "https://localhost:8080/"
        },
        "id": "XstR5gkW8Qvl",
        "outputId": "6f3f2efa-e749-48c2-dea7-ea44bca16051"
      },
      "outputs": [
        {
          "data": {
            "text/plain": [
              "['sku',\n",
              " 'cover_image',\n",
              " 'product_name',\n",
              " 'seller_name',\n",
              " 'brand_name',\n",
              " 'category_name',\n",
              " 'discount_price',\n",
              " 'ozon_card_price',\n",
              " 'stock_fbm',\n",
              " 'stock_fbs',\n",
              " 'crawler_error',\n",
              " 'currency',\n",
              " 'base_price',\n",
              " 'avg_rating',\n",
              " 'reviews',\n",
              " 'description',\n",
              " 'rich_content',\n",
              " 'ссылка на карточку',\n",
              " 'seller_product_id',\n",
              " 'image_id']"
            ]
          },
          "execution_count": 20,
          "metadata": {},
          "output_type": "execute_result"
        }
      ],
      "source": [
        "descr_source_df.columns.tolist()"
      ]
    },
    {
      "cell_type": "code",
      "execution_count": 21,
      "metadata": {
        "colab": {
          "base_uri": "https://localhost:8080/"
        },
        "id": "oz7RhUDC5nAt",
        "outputId": "59b09b1a-b954-48d7-8f4b-f4e4b203bf79"
      },
      "outputs": [
        {
          "data": {
            "text/plain": [
              "['balance',\n",
              " 'sales',\n",
              " 'final_price',\n",
              " 'rating',\n",
              " 'comments',\n",
              " 'name',\n",
              " 'sku',\n",
              " 'has_video',\n",
              " 'photo_count',\n",
              " 'seller',\n",
              " 'brand',\n",
              " 'url',\n",
              " 'description',\n",
              " 'image_id',\n",
              " 'options']"
            ]
          },
          "execution_count": 21,
          "metadata": {},
          "output_type": "execute_result"
        }
      ],
      "source": [
        "new_source_df_all = new_source_df_all.merge(\n",
        "    descr_source_df[['sku', 'description', 'image_id']],\n",
        "    on='sku'\n",
        ")\n",
        "\n",
        "new_source_df_all['options'] = new_source_df_all['name']\n",
        "new_source_df_all.columns.tolist()"
      ]
    },
    {
      "cell_type": "code",
      "execution_count": 22,
      "metadata": {
        "id": "zXkXS3Nm91NI"
      },
      "outputs": [],
      "source": [
        "new_source_df_all['description'] = (\n",
        "    new_source_df_all['description']\n",
        "    .fillna(new_source_df_all['name'])\n",
        ")"
      ]
    },
    {
      "cell_type": "code",
      "execution_count": 23,
      "metadata": {
        "colab": {
          "base_uri": "https://localhost:8080/"
        },
        "id": "QOM8jAbG3ugm",
        "outputId": "7b238333-7a6a-4099-bc4e-e8f4d57f8453"
      },
      "outputs": [
        {
          "data": {
            "text/plain": [
              "(8, 5562)"
            ]
          },
          "execution_count": 23,
          "metadata": {},
          "output_type": "execute_result"
        }
      ],
      "source": [
        "# Take a subset: all query sku and some non-query sku\n",
        "\n",
        "query_df = new_source_df_all[new_source_df_all.seller == QUERY_SELLER]\n",
        "if SUBSET_QUERY_SKU is not None:\n",
        "    query_df = query_df.sample(n=SUBSET_QUERY_SKU)\n",
        "\n",
        "nonquery_df = new_source_df_all[~(new_source_df_all.seller == QUERY_SELLER)]\n",
        "if SUBSET_NONQUERY_SKU is not None:\n",
        "    nonquery_df = nonquery_df.sample(n=SUBSET_NONQUERY_SKU)\n",
        "\n",
        "new_source_df = pd.concat([\n",
        "    query_df,\n",
        "    nonquery_df\n",
        "]).reset_index(drop=True)\n",
        "\n",
        "len(new_source_df), len(new_source_df_all)"
      ]
    },
    {
      "cell_type": "markdown",
      "metadata": {
        "id": "ICd6aKwg3ugn"
      },
      "source": [
        "# Find top-k embeddings"
      ]
    },
    {
      "cell_type": "markdown",
      "metadata": {
        "id": "fPjxKnvP8Qvm"
      },
      "source": [
        "## Init CLIP model"
      ]
    },
    {
      "cell_type": "code",
      "execution_count": 24,
      "metadata": {
        "id": "duN3RbZH8Qvm"
      },
      "outputs": [
        {
          "data": {
            "application/vnd.jupyter.widget-view+json": {
              "model_id": "a1b132bebfac414fadbd9dcc76b4eb67",
              "version_major": 2,
              "version_minor": 0
            },
            "text/plain": [
              "Fetching 5 files:   0%|          | 0/5 [00:00<?, ?it/s]"
            ]
          },
          "metadata": {},
          "output_type": "display_data"
        }
      ],
      "source": [
        "if CLIP_MODEL is not None:\n",
        "    import ruclip\n",
        "    clip, processor = ruclip.load(CLIP_MODEL, device=DEVICE)"
      ]
    },
    {
      "cell_type": "markdown",
      "metadata": {
        "id": "jS6SmIpJ8Qvm"
      },
      "source": [
        "### RuCLIPtiny"
      ]
    },
    {
      "cell_type": "code",
      "execution_count": 25,
      "metadata": {
        "id": "NVuPe4TM8Qvm"
      },
      "outputs": [],
      "source": [
        "import os\n",
        "# os.environ[\"CUDA_DEVICE_ORDER\"] = \"PCI_BUS_ID\"\n",
        "# os.environ[\"CUDA_VISIBLE_DEVICES\"] = \"1\"\n",
        "\n",
        "\n",
        "from timm import create_model\n",
        "import numpy as np\n",
        "import pandas as pd\n",
        "import os\n",
        "import torch\n",
        "from torch import nn\n",
        "from torch import optim, Tensor\n",
        "import torch.nn.functional as F\n",
        "from torch.utils.data import DataLoader\n",
        "from torchvision import transforms\n",
        "# from torchinfo import summary\n",
        "import transformers\n",
        "from transformers import DistilBertModel, DistilBertConfig, DistilBertTokenizer,\\\n",
        "        get_linear_schedule_with_warmup\n",
        "from transformers import AutoModel, AutoTokenizer\n",
        "\n",
        "import cv2\n",
        "\n",
        "from PIL import Image\n",
        "from tqdm.auto import tqdm\n",
        "\n",
        "import json\n",
        "from itertools import product\n",
        "\n",
        "# import datasets\n",
        "# from datasets import Dataset, concatenate_datasets\n",
        "import argparse\n",
        "import requests\n",
        "\n",
        "from io import BytesIO\n",
        "from sklearn.model_selection import StratifiedKFold, train_test_split\n",
        "from sklearn.metrics import balanced_accuracy_score, roc_auc_score, f1_score\n",
        "import matplotlib.pyplot as plt\n",
        "import more_itertools"
      ]
    },
    {
      "cell_type": "code",
      "execution_count": 26,
      "metadata": {
        "id": "BkdOORA_8Qvn"
      },
      "outputs": [],
      "source": [
        "class RuCLIPtiny(nn.Module):\n",
        "    def __init__(self, name_model_name: str):\n",
        "        \"\"\"\n",
        "        Initializes the RuCLIPtiny module using the provided name model.\n",
        "        \"\"\"\n",
        "        super().__init__()\n",
        "        self.visual = create_model('convnext_tiny',\n",
        "                                   pretrained=False,  # set True if you want pretrained weights\n",
        "                                   num_classes=0,\n",
        "                                   in_chans=3)       # output: e.g. 768-dim features\n",
        "\n",
        "        self.transformer = AutoModel.from_pretrained(name_model_name)\n",
        "        name_model_output_size = self.transformer.config.hidden_size  # inferred dynamically\n",
        "        self.final_ln = nn.Linear(name_model_output_size, 768)         # project to 768 dims\n",
        "        self.logit_scale = nn.Parameter(torch.ones([]) * torch.log(torch.tensor(1/0.07)))\n",
        "\n",
        "    @property\n",
        "    def dtype(self):\n",
        "        return self.visual.stem[0].weight.dtype\n",
        "\n",
        "    def encode_image(self, image: torch.Tensor) -> torch.Tensor:\n",
        "        return self.visual(image.type(self.dtype))\n",
        "\n",
        "    def encode_text(self, input_ids: torch.Tensor, attention_mask: torch.Tensor) -> torch.Tensor:\n",
        "        x = self.transformer(input_ids=input_ids, attention_mask=attention_mask)\n",
        "        # use the CLS token (first token)\n",
        "        x = x.last_hidden_state[:, 0, :]\n",
        "        x = self.final_ln(x)\n",
        "        return x\n",
        "\n",
        "    def forward(self, image: torch.Tensor, input_ids: torch.Tensor, attention_mask: torch.Tensor):\n",
        "        image_features = self.encode_image(image)\n",
        "        text_features = self.encode_text(input_ids, attention_mask)\n",
        "        # Normalize features\n",
        "        image_features = image_features / image_features.norm(dim=-1, keepdim=True)\n",
        "        text_features = text_features / text_features.norm(dim=-1, keepdim=True)\n",
        "        logit_scale = self.logit_scale.exp()\n",
        "        logits_per_image = logit_scale * image_features @ text_features.t()\n",
        "        logits_per_text = logits_per_image.t()\n",
        "        return logits_per_image, logits_per_text\n"
      ]
    },
    {
      "cell_type": "code",
      "execution_count": 27,
      "metadata": {
        "id": "oHq6h4p48Qvn"
      },
      "outputs": [],
      "source": [
        "def get_transform():\n",
        "    return transforms.Compose([\n",
        "        transforms.Resize(224),\n",
        "        transforms.CenterCrop(224),\n",
        "        lambda image: image.convert(\"RGB\"),\n",
        "        transforms.ToTensor(),\n",
        "        transforms.Normalize(mean=[0.485, 0.456, 0.406],\n",
        "                             std=[0.229, 0.224, 0.225]),\n",
        "    ])\n",
        "\n",
        "class Tokenizers:\n",
        "    def __init__(self, name_model_name: str, description_model_name: str):\n",
        "        self.name_tokenizer = AutoTokenizer.from_pretrained(name_model_name)\n",
        "        self.desc_tokenizer = AutoTokenizer.from_pretrained(description_model_name)\n",
        "\n",
        "    def tokenize_name(self, texts, max_len=77):\n",
        "        tokenized = self.name_tokenizer.batch_encode_plus(\n",
        "            texts,\n",
        "            truncation=True,\n",
        "            add_special_tokens=True,\n",
        "            max_length=max_len,\n",
        "            padding='max_length',\n",
        "            return_attention_mask=True,\n",
        "            return_tensors='pt'\n",
        "        )\n",
        "        return torch.stack([tokenized[\"input_ids\"], tokenized[\"attention_mask\"]])\n",
        "\n",
        "    def tokenize_description(self, texts, max_len=77):\n",
        "        tokenized = self.desc_tokenizer(\n",
        "            texts,\n",
        "            truncation=True,\n",
        "            add_special_tokens=True,\n",
        "            max_length=max_len,\n",
        "            padding='max_length',\n",
        "            return_attention_mask=True,\n",
        "            return_tensors='pt'\n",
        "        )\n",
        "        return torch.stack([tokenized[\"input_ids\"], tokenized[\"attention_mask\"]])\n",
        "\n"
      ]
    },
    {
      "cell_type": "code",
      "execution_count": 28,
      "metadata": {
        "id": "QM-uMkYP8Qvn"
      },
      "outputs": [],
      "source": [
        "from transformers import AutoTokenizer\n",
        "import torch\n",
        "\n",
        "class NameTokenizer:\n",
        "    def __init__(self, model_name: str):\n",
        "        self.tokenizer = AutoTokenizer.from_pretrained(model_name)\n",
        "\n",
        "    def tokenize(self, texts, max_len=77):\n",
        "        tokenized = self.tokenizer.batch_encode_plus(\n",
        "            texts,\n",
        "            truncation=True,\n",
        "            add_special_tokens=True,\n",
        "            max_length=max_len,\n",
        "            padding='max_length',\n",
        "            return_attention_mask=True,\n",
        "            return_tensors='pt'\n",
        "        )\n",
        "        return torch.stack([tokenized[\"input_ids\"], tokenized[\"attention_mask\"]])\n",
        "\n",
        "\n",
        "class DescriptionTokenizer:\n",
        "    def __init__(self, model_name: str):\n",
        "        self.tokenizer = AutoTokenizer.from_pretrained(model_name)\n",
        "\n",
        "    def tokenize(self, texts, max_len=77):\n",
        "        tokenized = self.tokenizer(\n",
        "            texts,\n",
        "            truncation=True,\n",
        "            add_special_tokens=True,\n",
        "            max_length=max_len,\n",
        "            padding='max_length',\n",
        "            return_attention_mask=True,\n",
        "            return_tensors='pt'\n",
        "        )\n",
        "        return torch.stack([tokenized[\"input_ids\"], tokenized[\"attention_mask\"]])\n"
      ]
    },
    {
      "cell_type": "code",
      "execution_count": 29,
      "metadata": {
        "id": "JUTHqKjf8Qvn"
      },
      "outputs": [],
      "source": [
        "class SiameseRuCLIPDataset(torch.utils.data.Dataset):\n",
        "    def __init__(self, images_dir: str, name_model_name: str, description_model_name: str, df=None, labels=None, df_path=None):\n",
        "        \"\"\"\n",
        "        Dataset requires the concrete models' names for tokenization.\n",
        "        \"\"\"\n",
        "        assert os.path.isdir(images_dir), f\"Image dir does not exist: '{self.images_dir}'\"\n",
        "\n",
        "        self.df = pd.read_csv(df_path) if df_path is not None else df\n",
        "        self.labels = labels\n",
        "        self.images_dir = images_dir\n",
        "        self.tokenizers = Tokenizers(name_model_name, description_model_name)\n",
        "        self.transform = get_transform()\n",
        "        self.max_len = 77\n",
        "\n",
        "    def __getitem__(self, idx):\n",
        "        row = self.df.iloc[idx]\n",
        "        # Tokenize names\n",
        "        name_tokens = self.tokenizers.tokenize_name([str(row.name_first), str(row.name_second)], max_len=self.max_len)\n",
        "        name_first = name_tokens[:, 0, :]  # [input_ids, attention_mask]\n",
        "        name_second = name_tokens[:, 1, :]\n",
        "        # Tokenize descriptions\n",
        "        desc_tokens = self.tokenizers.tokenize_description([str(row.description_first), str(row.description_second)])\n",
        "        desc_first = desc_tokens[:, 0, :]\n",
        "        desc_second = desc_tokens[:, 1, :]\n",
        "        # Process images\n",
        "        im_first_path = os.path.join(self.images_dir, row.image_name_first)\n",
        "        im_first = cv2.imread(im_first_path)\n",
        "        im_first = cv2.cvtColor(im_first, cv2.COLOR_BGR2RGB)\n",
        "        im_first = Image.fromarray(im_first)\n",
        "        im_first = self.transform(im_first)\n",
        "        im_second_path = os.path.join(self.images_dir, row.image_name_first)\n",
        "        im_second = cv2.imread(os.path.join(im_second_path))\n",
        "        im_second = cv2.cvtColor(im_second, cv2.COLOR_BGR2RGB)\n",
        "        im_second = Image.fromarray(im_second)\n",
        "        im_second = self.transform(im_second)\n",
        "        label = self.labels[idx]\n",
        "        return im_first, name_first, desc_first, im_second, name_second, desc_second, label\n",
        "\n",
        "    def __len__(self):\n",
        "        return len(self.df)"
      ]
    },
    {
      "cell_type": "code",
      "execution_count": 30,
      "metadata": {
        "id": "-Bfz_hz08Qvo"
      },
      "outputs": [],
      "source": [
        "import os\n",
        "import pandas as pd\n",
        "import torch\n",
        "from torch.utils.data import Dataset\n",
        "from PIL import Image\n",
        "import cv2\n",
        "\n",
        "class RuCLIPDataset(torch.utils.data.Dataset):\n",
        "    def __init__(\n",
        "        self,\n",
        "        images_dir: str,\n",
        "        name_model_name: str, description_model_name: str,\n",
        "        df=None, labels=None, df_path=None,\n",
        "        names_as_descriptions=False,\n",
        "    ):\n",
        "        \"\"\"\n",
        "        Dataset requires the concrete models' names for tokenization.\n",
        "        \"\"\"\n",
        "        assert os.path.isdir(images_dir), f\"Image dir does not exist: '{images_dir}'\"\n",
        "\n",
        "        self.df = pd.read_csv(df_path) if df_path is not None else df\n",
        "        self.labels = labels\n",
        "        self.images_dir = images_dir\n",
        "        self.tokenizers = Tokenizers(name_model_name, description_model_name)\n",
        "        self.transform = get_transform()\n",
        "        self.max_len = 77\n",
        "        self.names_as_descriptions = names_as_descriptions\n",
        "\n",
        "    def __getitem__(self, idx):\n",
        "        row = self.df.iloc[idx]\n",
        "\n",
        "        # Tokenize name\n",
        "        name_tokens = self.tokenizers.tokenize_name([str(row['name'])], max_len=self.max_len)\n",
        "        name = name_tokens[:, 0, :]  # [input_ids, attention_mask]\n",
        "        # print('name', row['name'])\n",
        "\n",
        "        # Tokenize description\n",
        "        if self.names_as_descriptions:\n",
        "            desc = name\n",
        "        else:\n",
        "            # print('description', row.description)\n",
        "            desc_tokens = self.tokenizers.tokenize_description([str(row.description)])\n",
        "            desc = desc_tokens[:, 0, :]\n",
        "\n",
        "        # Process image\n",
        "        im_path = os.path.join(self.images_dir, row.image_name)\n",
        "        im = cv2.imread(im_path)\n",
        "        im = cv2.cvtColor(im, cv2.COLOR_BGR2RGB)\n",
        "        im = Image.fromarray(im)\n",
        "        im = self.transform(im)\n",
        "        return im, name, desc\n",
        "\n",
        "    def __len__(self):\n",
        "        return len(self.df)"
      ]
    },
    {
      "cell_type": "markdown",
      "metadata": {
        "id": "zhsw0sA18Qvo"
      },
      "source": [
        "### SiameseRuCLIP"
      ]
    },
    {
      "cell_type": "code",
      "execution_count": 31,
      "metadata": {
        "id": "0Kj6y2cm8Qvp"
      },
      "outputs": [],
      "source": [
        "def average_pool(last_hidden_states: Tensor, attention_mask: Tensor) -> Tensor:\n",
        "    last_hidden = last_hidden_states.masked_fill(~attention_mask[..., None].bool(), 0.0)\n",
        "    return last_hidden.sum(dim=1) / attention_mask.sum(dim=1)[..., None]\n",
        "\n",
        "class SiameseContrastiveRuCLIP(nn.Module):\n",
        "    def __init__(self,\n",
        "                 device: str,\n",
        "                 name_model_name: str,\n",
        "                 description_model_name: str,\n",
        "                 models_dir: str = None,\n",
        "                 preload_ruclip: bool = False,\n",
        "                 preload_model_name: str = None):\n",
        "        \"\"\"\n",
        "        Initializes the SiameseContrastiveRuCLIP model.\n",
        "        Required parameters:\n",
        "          - models_dir: directory containing saved checkpoints.\n",
        "          - name_model_name: model name for text (name) branch.\n",
        "          - description_model_name: model name for description branch.\n",
        "        \"\"\"\n",
        "        super().__init__()\n",
        "        device = torch.device(device)\n",
        "\n",
        "        # Initialize RuCLIPtiny\n",
        "        self.ruclip = RuCLIPtiny(name_model_name)\n",
        "        if preload_ruclip:\n",
        "            std = torch.load(\n",
        "                os.path.join(models_dir, preload_model_name),\n",
        "                weights_only=True,\n",
        "                map_location=device\n",
        "            )\n",
        "            self.ruclip.load_state_dict(std)\n",
        "            self.ruclip.eval()\n",
        "        self.ruclip = self.ruclip.to(device)\n",
        "\n",
        "        # Initialize the description transformer\n",
        "        self.description_transformer = AutoModel.from_pretrained(description_model_name)\n",
        "        self.description_transformer = self.description_transformer.to(device)\n",
        "\n",
        "        # Determine dimensionality\n",
        "        vision_dim = self.ruclip.visual.num_features\n",
        "        name_dim = self.ruclip.final_ln.out_features\n",
        "        desc_dim = self.description_transformer.config.hidden_size\n",
        "        self.hidden_dim = vision_dim + name_dim + desc_dim\n",
        "\n",
        "        # Define MLP head\n",
        "        self.head = nn.Sequential(\n",
        "            nn.Linear(self.hidden_dim, self.hidden_dim // 2),\n",
        "            nn.ReLU(),\n",
        "            nn.Linear(self.hidden_dim // 2, self.hidden_dim // 4),\n",
        "        ).to(device)\n",
        "\n",
        "    def encode_image(self, image):\n",
        "        return self.ruclip.encode_image(image)\n",
        "\n",
        "    def encode_name(self, name):\n",
        "        return self.ruclip.encode_text(name[:, 0, :], name[:, 1, :])\n",
        "\n",
        "    def encode_description(self, desc):\n",
        "        last_hidden_states = self.description_transformer(desc[:, 0, :], desc[:, 1, :]).last_hidden_state\n",
        "        attention_mask = desc[:, 1, :]\n",
        "        return average_pool(last_hidden_states, attention_mask)\n",
        "\n",
        "    def get_final_embedding(self, im, name, desc):\n",
        "        image_emb = self.encode_image(im)\n",
        "        name_emb = self.encode_name(name)\n",
        "        desc_emb = self.encode_description(desc)\n",
        "\n",
        "        # Concatenate the embeddings and forward through the head\n",
        "        combined_emb = torch.cat([image_emb, name_emb, desc_emb], dim=1)\n",
        "        final_embedding = self.head(combined_emb)\n",
        "        return final_embedding\n",
        "\n",
        "    def forward(self, im1, name1, desc1, im2, name2, desc2):\n",
        "        out1 = self.get_final_embedding(im1, name1, desc1)\n",
        "        out2 = self.get_final_embedding(im2, name2, desc2)\n",
        "        return out1, out2"
      ]
    },
    {
      "cell_type": "code",
      "execution_count": 32,
      "metadata": {
        "id": "qP5wFdtE8Qvp"
      },
      "outputs": [],
      "source": [
        "siamese_contrastive_model_configs = [\n",
        "    dict(\n",
        "        MODEL_CKPT = 'siamese_contrastive.pt',\n",
        "\n",
        "        NAME_MODEL_NAME = 'cointegrated/rubert-tiny',\n",
        "        # NAME_MODEL_NAME = 'DeepPavlov/distilrubert-tiny-cased-conversational-v1',\n",
        "\n",
        "        DESCRIPTION_MODEL_NAME = 'cointegrated/rubert-tiny',\n",
        "        # DESCRIPTION_MODEL_NAME = 'sergeyzh/rubert-tiny-turbo',\n",
        "\n",
        "        CONTRASTIVE_THRESHOLD=0.3,\n",
        "    ),\n",
        "\n",
        "    dict(\n",
        "        MODEL_CKPT = 'siamese_contrastive_7k.pt',\n",
        "\n",
        "        NAME_MODEL_NAME = 'cointegrated/rubert-tiny',\n",
        "        # NAME_MODEL_NAME = 'DeepPavlov/distilrubert-tiny-cased-conversational-v1',\n",
        "\n",
        "        DESCRIPTION_MODEL_NAME = 'cointegrated/rubert-tiny',\n",
        "\n",
        "        CONTRASTIVE_THRESHOLD=0.3,\n",
        "    ),\n",
        "\n",
        "\n",
        "    # dict(\n",
        "    #     MODEL_CKPT = 'siamese_contrastive_1gpu.pt',\n",
        "\n",
        "    #     NAME_MODEL_NAME = 'cointegrated/rubert-tiny',\n",
        "    #     # NAME_MODEL_NAME = 'DeepPavlov/distilrubert-tiny-cased-conversational-v1',\n",
        "\n",
        "    #     # DESCRIPTION_MODEL_NAME = 'sergeyzh/rubert-tiny-turbo',\n",
        "    #     DESCRIPTION_MODEL_NAME = 'cointegrated/rubert-tiny',\n",
        "\n",
        "    #     CONTRASTIVE_THRESHOLD=0.3,\n",
        "    # ),\n",
        "]\n",
        "\n",
        "# Map the model checkpoints to their configs\n",
        "siamese_contrastive_model_configs = {\n",
        "    config['MODEL_CKPT']: config\n",
        "    for config in siamese_contrastive_model_configs\n",
        "}"
      ]
    },
    {
      "cell_type": "code",
      "execution_count": 33,
      "metadata": {
        "id": "jtxmUwMr8Qvp"
      },
      "outputs": [],
      "source": [
        "# Load siamese model\n",
        "\n",
        "def load_model(model_config, is_contrastive=False):\n",
        "    if is_contrastive:\n",
        "        model_class = SiameseContrastiveRuCLIP\n",
        "    else:\n",
        "        raise NotImplementedError\n",
        "\n",
        "    ckpt_name = model_config['MODEL_CKPT']\n",
        "    model_ckpt_path = Path(DATA_PATH) / 'train_results' / ckpt_name\n",
        "    std = torch.load(model_ckpt_path, map_location=DEVICE)\n",
        "\n",
        "    # Initialize the model using the configuration.\n",
        "    model = model_class(\n",
        "        name_model_name=model_config[\"NAME_MODEL_NAME\"],\n",
        "        description_model_name=model_config[\"DESCRIPTION_MODEL_NAME\"],\n",
        "        device=DEVICE,\n",
        "    )\n",
        "\n",
        "    model.load_state_dict(std)\n",
        "    return model\n",
        "\n",
        "if CLIP_SIAMESE_CONTRASTIVE_CKPT is not None:\n",
        "    model_config = siamese_contrastive_model_configs[CLIP_SIAMESE_CONTRASTIVE_CKPT]\n",
        "    model = load_model(model_config, is_contrastive=True)"
      ]
    },
    {
      "cell_type": "markdown",
      "metadata": {
        "id": "vjUeHd9s8Qvq"
      },
      "source": [
        "## Compute embeddings"
      ]
    },
    {
      "cell_type": "code",
      "execution_count": 34,
      "metadata": {
        "id": "nrjmqG4s3ugn"
      },
      "outputs": [],
      "source": [
        "from typing import Tuple, List, Any\n",
        "from PIL import Image  # Assumes Pillow is installed\n",
        "\n",
        "def get_sku_image_offline(sku_or_image_id, img_dataset_dir):\n",
        "        \"\"\"Load an image from disk for a given SKU.\n",
        "           It first tries .jpg then .webp.\n",
        "        \"\"\"\n",
        "        for ext in ['.jpg', '.webp']:\n",
        "            img_path = os.path.join(img_dataset_dir, f\"{sku_or_image_id}{ext}\")\n",
        "            if os.path.exists(img_path):\n",
        "                try:\n",
        "                    with open(img_path, 'rb') as f:\n",
        "                        img_data = f.read()\n",
        "                    image = Image.open(BytesIO(img_data))\n",
        "                    image.load()\n",
        "                    return image\n",
        "                except Exception as e:\n",
        "                    print(f\"Error loading {img_path}: {e}\")\n",
        "        return None\n",
        "\n",
        "def get_image_and_name(\n",
        "    row,\n",
        "    image_id_col: str,\n",
        "    name_col: str,\n",
        "    offline: bool = True,\n",
        "    img_dataset_dir: str = '../data/images_7k'\n",
        ") -> Tuple[Any, Any]:\n",
        "    \"\"\"\n",
        "    Retrieves a single image and its corresponding name from a DataFrame row.\n",
        "\n",
        "    Args:\n",
        "        row: The DataFrame row.\n",
        "        image_id_col: Column name for the image identifier.\n",
        "        name_col: Column name for the product name.\n",
        "        offline: Whether to use the offline image retrieval function.\n",
        "        img_dataset_dir: Directory to load images from when offline.\n",
        "\n",
        "    Returns:\n",
        "        A tuple (image, name). If the image is not loaded, image will be None.\n",
        "    \"\"\"\n",
        "    if offline:\n",
        "        image = get_sku_image_offline(int(row[image_id_col]), img_dataset_dir)\n",
        "    else:\n",
        "        image = get_sku_image(int(row[image_id_col]))\n",
        "    name = row[name_col]\n",
        "    return image, name\n",
        "\n",
        "def get_images_names(\n",
        "    df,\n",
        "    image_id_col: str = 'sku',\n",
        "    name_col: str = 'name',\n",
        "    offline: bool = True,\n",
        "    img_dataset_dir: str = '../data/images_7k'\n",
        ") -> Tuple[List[Image.Image], List[Any], List[int]]:\n",
        "    \"\"\"\n",
        "    Iterates over the DataFrame and retrieves the image and name for each single product.\n",
        "\n",
        "    Args:\n",
        "        df: DataFrame containing one product per row.\n",
        "        image_id_col: Column name for the image identifier.\n",
        "        name_col: Column name for the product name.\n",
        "        offline: Whether to load images using the offline function.\n",
        "        img_dataset_dir: Directory for offline images.\n",
        "\n",
        "    Returns:\n",
        "        A tuple (images, names, problems) where:\n",
        "         - images: list of loaded images,\n",
        "         - names: list of corresponding names,\n",
        "         - problems: list of row indices where the image failed to load.\n",
        "    \"\"\"\n",
        "    images, names, problems = [], [], []\n",
        "    for idx, row in df.iterrows():\n",
        "        img, prod_name = get_image_and_name(row, image_id_col, name_col, offline, img_dataset_dir)\n",
        "        if img is not None:\n",
        "            images.append(img)\n",
        "            names.append(prod_name)\n",
        "        else:\n",
        "            problems.append(idx)\n",
        "    return images, names, problems"
      ]
    },
    {
      "cell_type": "code",
      "execution_count": 35,
      "metadata": {
        "id": "_QCva0SJdFq5"
      },
      "outputs": [],
      "source": [
        "# Paths for caching embeddings\n",
        "from pathlib import Path\n",
        "\n",
        "emb_prefix = Path(DATA_PATH) / 'embeddings' / 'OZ_geo_5500'\n",
        "emb_prefix.mkdir(parents=True, exist_ok=True)  # Ensure directory exists\n",
        "\n",
        "n_query = query_df.sku.nunique()\n",
        "n_nonquery = nonquery_df.sku.nunique()\n",
        "\n",
        "if CLIP_MODEL is not None:\n",
        "    model_name = CLIP_MODEL\n",
        "elif CLIP_SIAMESE_CONTRASTIVE_CKPT is not None:\n",
        "    model_name = CLIP_SIAMESE_CONTRASTIVE_CKPT\n",
        "\n",
        "images_embs_file_name = emb_prefix / f'images_latents_total={len(new_source_df)}_clip={model_name}.npy'\n",
        "names_embs_file_name = emb_prefix / f'names_latents_total={len(new_source_df)}_clip={model_name}.npy'\n",
        "final_embs_file_name = emb_prefix / f'final_latents_total={len(new_source_df)}_clip={model_name}.npy'"
      ]
    },
    {
      "cell_type": "code",
      "execution_count": 36,
      "metadata": {
        "id": "6J06eugi8Qvu"
      },
      "outputs": [],
      "source": [
        "def compute_embeddings_ruclip(\n",
        "    new_source_df,\n",
        "    images_embs_file_name,\n",
        "    names_embs_file_name,\n",
        "    RUCLIP_BATCH_SIZE,\n",
        "    DEVICE,\n",
        "    processor,\n",
        "    clip,\n",
        "    get_images_names,\n",
        "):\n",
        "    \"\"\"\n",
        "    Computes embeddings for images and names if not already cached.\n",
        "\n",
        "    Args:\n",
        "        new_source_df (pd.DataFrame): DataFrame containing the source data.\n",
        "        images_embs_file_name (str): Path to save/load image embeddings.\n",
        "        names_embs_file_name (str): Path to save/load name embeddings.\n",
        "        RUCLIP_BATCH_SIZE (int): Batch size for processing.\n",
        "        DEVICE (str): Device to use for computation (e.g., 'cuda' or 'cpu').\n",
        "        processor (ruclip.processor.RuCLIPProcessor): Processor for RuCLIP.\n",
        "        clip (ruclip.CLIP): RuCLIP model.\n",
        "\n",
        "    Returns:\n",
        "        tuple: (images_latents, names_latents, problems_ids)\n",
        "    \"\"\"\n",
        "    from tqdm import tqdm\n",
        "    import os\n",
        "    import torch\n",
        "    import numpy as np\n",
        "\n",
        "    if not os.path.isfile(images_embs_file_name) or not os.path.isfile(names_embs_file_name):\n",
        "        templates = ['{}', 'это {}', 'на картинке {}', 'товар {}']\n",
        "        predictor = ruclip.Predictor(\n",
        "            clip, processor, DEVICE,\n",
        "            bs=RUCLIP_BATCH_SIZE,\n",
        "            templates=templates\n",
        "        )\n",
        "\n",
        "        images_latents = []\n",
        "        names_latents = []\n",
        "        problems_ids = []\n",
        "\n",
        "        def get_batches(df, batch_size):\n",
        "            for start in range(0, len(df), batch_size):\n",
        "                yield df.iloc[start:start+batch_size]\n",
        "\n",
        "        total_batches = len(new_source_df) // RUCLIP_BATCH_SIZE\n",
        "        with torch.no_grad():\n",
        "            for batch_idx, df_batch in tqdm(enumerate(get_batches(new_source_df, batch_size=RUCLIP_BATCH_SIZE))):\n",
        "                print(f'\\nBatch {batch_idx+1} / {total_batches}')\n",
        "                images_batch, names_batch, problems_ids_batch = get_images_names(\n",
        "                    df=df_batch,\n",
        "                    image_id_col='image_id',\n",
        "                    name_col='name',\n",
        "                    img_dataset_dir='data/images_OZ_geo_5500',\n",
        "                    offline=True\n",
        "                )\n",
        "                # Process your batch here:\n",
        "                images_latents_batch = predictor.get_image_latents(images_batch).detach().cpu()\n",
        "                name_latents_batch = predictor.get_text_latents(names_batch).detach().cpu()\n",
        "\n",
        "                images_latents.append(images_latents_batch)\n",
        "                names_latents.append(name_latents_batch)\n",
        "\n",
        "                problems_ids.extend(problems_ids_batch)\n",
        "\n",
        "        images_latents = torch.cat(images_latents).numpy()\n",
        "        names_latents = torch.cat(names_latents).numpy()\n",
        "\n",
        "        # Save image latents\n",
        "        np.save(images_embs_file_name, images_latents)\n",
        "\n",
        "        # Save name latents\n",
        "        np.save(names_embs_file_name, names_latents)\n",
        "    else:\n",
        "        # Load cached embeddings\n",
        "        images_latents = np.load(images_embs_file_name)\n",
        "        names_latents = np.load(names_embs_file_name)\n",
        "        problems_ids = []\n",
        "        print(\"Loaded embeddings from cache.\")\n",
        "\n",
        "    return images_latents, names_latents, problems_ids"
      ]
    },
    {
      "cell_type": "code",
      "execution_count": 37,
      "metadata": {
        "id": "R4xDR08l8Qvu"
      },
      "outputs": [
        {
          "name": "stdout",
          "output_type": "stream",
          "text": [
            "Loaded embeddings from cache.\n",
            "Image embeddings shape: (8, 512)\n",
            "Name embeddings shape: (8, 512)\n",
            "Problematic IDs: []\n"
          ]
        }
      ],
      "source": [
        "if CLIP_MODEL is not None:\n",
        "    # Ensure the required variables and objects are defined\n",
        "    images_latents, names_latents, problems_ids = compute_embeddings_ruclip(\n",
        "        new_source_df=new_source_df,\n",
        "        images_embs_file_name=images_embs_file_name,\n",
        "        names_embs_file_name=names_embs_file_name,\n",
        "        RUCLIP_BATCH_SIZE=RUCLIP_BATCH_SIZE,\n",
        "        DEVICE=DEVICE,\n",
        "        processor=processor,\n",
        "        clip=clip,\n",
        "        get_images_names=get_images_names\n",
        "    )\n",
        "\n",
        "    # Print results\n",
        "    print(f\"Image embeddings shape: {images_latents.shape}\")\n",
        "    print(f\"Name embeddings shape: {names_latents.shape}\")\n",
        "    print(f\"Problematic IDs: {problems_ids}\")"
      ]
    },
    {
      "cell_type": "code",
      "execution_count": 38,
      "metadata": {
        "id": "s1dPKCuV3ugn"
      },
      "outputs": [],
      "source": [
        "def compute_embeddings_ruclip_siamese_contrastive(\n",
        "    new_source_df,\n",
        "    images_embs_file_name,\n",
        "    names_embs_file_name,\n",
        "    RUCLIP_BATCH_SIZE,\n",
        "    DEVICE,\n",
        "    model,\n",
        "    images_dir,\n",
        "    name_model_name,\n",
        "    description_model_name\n",
        "):\n",
        "    \"\"\"\n",
        "    Computes embeddings for images and names using a RuCLIPDataset if not already cached.\n",
        "    \"\"\"\n",
        "    import os\n",
        "    import torch\n",
        "    import numpy as np\n",
        "    from torch.utils.data import DataLoader\n",
        "    from tqdm import tqdm\n",
        "\n",
        "    # Construct the `image_name` column from `image_id`\n",
        "    new_source_df['image_name'] = new_source_df['image_id'].astype(str).apply(\n",
        "        lambda x: f\"{x}.jpg\"  # Adjust extension as needed\n",
        "    )\n",
        "\n",
        "    IMG_DATASET_DIR = os.path.join(DATA_PATH, IMG_DATASET_NAME)\n",
        "\n",
        "    if not os.path.isfile(images_embs_file_name) or not os.path.isfile(names_embs_file_name):\n",
        "        dataset = RuCLIPDataset(\n",
        "            images_dir=IMG_DATASET_DIR,\n",
        "            name_model_name=name_model_name,\n",
        "            description_model_name=description_model_name,\n",
        "            df=new_source_df\n",
        "        )\n",
        "        dataloader = DataLoader(dataset, batch_size=RUCLIP_BATCH_SIZE, shuffle=False)\n",
        "        total_batches = len(dataloader)\n",
        "        print(f\"Total batches to process: {total_batches}\")\n",
        "\n",
        "        images_latents = []\n",
        "        names_latents = []\n",
        "\n",
        "        with torch.no_grad():\n",
        "            for batch_idx, (images, names, descriptions) in tqdm(enumerate(dataloader), total=total_batches, desc=\"Processing Batches\"):\n",
        "                # Move data to the device\n",
        "                images = images.to(DEVICE)\n",
        "                names = names.to(DEVICE)\n",
        "\n",
        "                # Get embeddings from the model\n",
        "                images_latents_batch = model.encode_image(images).detach().cpu()\n",
        "                name_latents_batch = model.encode_name(names).detach().cpu()\n",
        "\n",
        "                images_latents.append(images_latents_batch)\n",
        "                names_latents.append(name_latents_batch)\n",
        "\n",
        "        images_latents = torch.cat(images_latents).numpy()\n",
        "        names_latents = torch.cat(names_latents).numpy()\n",
        "\n",
        "        # Save embeddings\n",
        "        np.save(images_embs_file_name, images_latents)\n",
        "        np.save(names_embs_file_name, names_latents)\n",
        "\n",
        "    else:\n",
        "        images_latents = np.load(images_embs_file_name)\n",
        "        names_latents = np.load(names_embs_file_name)\n",
        "        print(\"Loaded embeddings from cache.\")\n",
        "\n",
        "    return images_latents, names_latents, []\n"
      ]
    },
    {
      "cell_type": "code",
      "execution_count": 39,
      "metadata": {
        "id": "HPz-Ffhx8Qvu"
      },
      "outputs": [],
      "source": [
        "if CLIP_SIAMESE_CONTRASTIVE_CKPT is not None and not COMPUTE_FINAL_EMBEDDINGS:\n",
        "    # Ensure the required variables and objects are defined\n",
        "    images_latents, names_latents, problems_ids = compute_embeddings_ruclip_siamese_contrastive(\n",
        "        new_source_df=new_source_df,\n",
        "        images_embs_file_name=images_embs_file_name,\n",
        "        names_embs_file_name=names_embs_file_name,\n",
        "        RUCLIP_BATCH_SIZE=RUCLIP_BATCH_SIZE,\n",
        "        DEVICE=DEVICE,\n",
        "        model=model,\n",
        "        images_dir='data/images_OZ_geo_5500',\n",
        "        name_model_name=model_config[\"NAME_MODEL_NAME\"],\n",
        "        description_model_name=model_config[\"DESCRIPTION_MODEL_NAME\"]\n",
        "    )\n",
        "\n",
        "    # Print results\n",
        "    print(f\"Image embeddings shape: {images_latents.shape}\")\n",
        "    print(f\"Name embeddings shape: {names_latents.shape}\")\n",
        "    print(f\"Problematic IDs: {problems_ids}\")"
      ]
    },
    {
      "cell_type": "code",
      "execution_count": 40,
      "metadata": {
        "id": "Igb_2KIMh5sh"
      },
      "outputs": [],
      "source": [
        "def compute_embeddings_final_siamese_contrastive(\n",
        "    new_source_df,\n",
        "    final_embs_file_name,\n",
        "    RUCLIP_BATCH_SIZE,\n",
        "    DEVICE,\n",
        "    model,\n",
        "    images_dir,\n",
        "    name_model_name,\n",
        "    description_model_name\n",
        "):\n",
        "    import os\n",
        "    import torch\n",
        "    import numpy as np\n",
        "    from torch.utils.data import DataLoader\n",
        "    from tqdm import tqdm\n",
        "\n",
        "    # Construct the `image_name` column from `image_id`\n",
        "    new_source_df['image_name'] = new_source_df['image_id'].astype(str).apply(\n",
        "        lambda x: f\"{x}.jpg\"  # Adjust extension as needed\n",
        "    )\n",
        "\n",
        "    # IMG_DATASET_DIR and DATA_PATH/IMG_DATASET_NAME are assumed to be defined globally\n",
        "    IMG_DATASET_DIR = os.path.join(DATA_PATH, IMG_DATASET_NAME)\n",
        "\n",
        "    # Initialize list to record indices with problems (if any are detected)\n",
        "    problems_ids = []\n",
        "\n",
        "    if not os.path.isfile(final_embs_file_name):\n",
        "        dataset = RuCLIPDataset(\n",
        "            images_dir=IMG_DATASET_DIR,\n",
        "            name_model_name=name_model_name,\n",
        "            description_model_name=description_model_name,\n",
        "            df=new_source_df\n",
        "        )\n",
        "        dataloader = DataLoader(dataset, batch_size=RUCLIP_BATCH_SIZE, shuffle=False)\n",
        "        total_batches = len(dataloader)\n",
        "        print(f\"Total batches to process: {total_batches}\")\n",
        "\n",
        "        embeddings = []\n",
        "\n",
        "        with torch.no_grad():\n",
        "            for batch_idx, (images, names, descriptions) in tqdm(enumerate(dataloader), total=total_batches, desc=\"Processing Batches\"):\n",
        "                # Move data to the device\n",
        "                images = images.to(DEVICE)\n",
        "                names = names.to(DEVICE)\n",
        "                descriptions = descriptions.to(DEVICE)\n",
        "\n",
        "                # Compute the final embeddings\n",
        "                final_embeddings_batch = model.get_final_embedding(images, names, descriptions).detach().cpu()\n",
        "\n",
        "                # (Optional) Insert logic here to check for problems and record batch indices to problems_ids\n",
        "                embeddings.append(final_embeddings_batch)\n",
        "\n",
        "        embeddings = torch.cat(embeddings).numpy()\n",
        "\n",
        "        # Save embeddings to disk\n",
        "        np.save(final_embs_file_name, embeddings)\n",
        "\n",
        "    else:\n",
        "        embeddings = np.load(final_embs_file_name)\n",
        "        print(\"Loaded embeddings from cache.\")\n",
        "\n",
        "    return embeddings, problems_ids"
      ]
    },
    {
      "cell_type": "code",
      "execution_count": 41,
      "metadata": {
        "colab": {
          "base_uri": "https://localhost:8080/"
        },
        "id": "a-zM4Hr2h5sh",
        "outputId": "9597aa6c-fa50-4a8f-cbc7-9966da0a968d"
      },
      "outputs": [],
      "source": [
        "if CLIP_SIAMESE_CONTRASTIVE_CKPT is not None and COMPUTE_FINAL_EMBEDDINGS:\n",
        "    # Ensure the required variables and objects are defined\n",
        "    final_latents, problems_ids = compute_embeddings_final_siamese_contrastive(\n",
        "        new_source_df=new_source_df,\n",
        "        final_embs_file_name=final_embs_file_name,\n",
        "        RUCLIP_BATCH_SIZE=RUCLIP_BATCH_SIZE,\n",
        "        DEVICE=DEVICE,\n",
        "        model=model,\n",
        "        images_dir='data/images_OZ_geo_5500',\n",
        "        name_model_name=model_config[\"NAME_MODEL_NAME\"],\n",
        "        description_model_name=model_config[\"DESCRIPTION_MODEL_NAME\"]\n",
        "    )\n",
        "\n",
        "    # Print results\n",
        "    print(f\"Final embeddings shape: {final_latents.shape}\")"
      ]
    },
    {
      "cell_type": "markdown",
      "metadata": {
        "id": "9pMJpQIFfKHG"
      },
      "source": [
        "## Similarity search"
      ]
    },
    {
      "cell_type": "code",
      "execution_count": 42,
      "metadata": {
        "cellView": "form",
        "id": "Zjor7iD93ugn"
      },
      "outputs": [],
      "source": [
        "#@title find_top_k_similar\n",
        "\n",
        "import numpy as np\n",
        "from sklearn.metrics.pairwise import cosine_similarity\n",
        "\n",
        "#@title find_top_k_similar\n",
        "\n",
        "import numpy as np\n",
        "from sklearn.metrics.pairwise import cosine_similarity\n",
        "\n",
        "def find_top_k_similar(query_embeddings, embedding_matrix, k=None, metric='cosine', exclude_indices=None):\n",
        "    \"\"\"\n",
        "    Find top-k similar items for each query embedding in a batch, with the option to exclude certain indices.\n",
        "    If k is None, returns all valid indices sorted by similarity (excluding -inf values).\n",
        "\n",
        "    Args:\n",
        "        query_embeddings (np.ndarray): Array of query embeddings, shape (batch, D).\n",
        "        embedding_matrix (np.ndarray): Array of all embeddings, shape (N, D).\n",
        "        k (int or None): Number of top matches to return, or None to return all valid sorted candidates.\n",
        "        metric (str): 'cosine' or 'euclidean'.\n",
        "        exclude_indices (list, np.ndarray, or boolean mask, optional): Indices to exclude from search.\n",
        "            If a list/array of indices is provided, it will be converted to a boolean mask.\n",
        "            If a boolean mask is provided, it must have shape (N,).\n",
        "\n",
        "    Returns:\n",
        "        top_k (np.ndarray): Indices of similar embeddings for each query, shape (batch, M) where\n",
        "                            M == k (or M == number of valid candidates if k is None).\n",
        "        scores (np.ndarray): Corresponding similarity scores (or negated distances) for each query,\n",
        "                             shape (batch, M).\n",
        "    \"\"\"\n",
        "    # Convert exclude_indices to a boolean mask if needed\n",
        "    if exclude_indices is not None:\n",
        "        if isinstance(exclude_indices, (list, np.ndarray)):\n",
        "            exclude_indices = np.array(exclude_indices)\n",
        "            if exclude_indices.dtype != bool:\n",
        "                mask = np.zeros(embedding_matrix.shape[0], dtype=bool)\n",
        "                mask[exclude_indices] = True\n",
        "            else:\n",
        "                mask = exclude_indices\n",
        "        else:\n",
        "            raise ValueError(\"exclude_indices must be a list, np.ndarray, or boolean mask.\")\n",
        "    else:\n",
        "        mask = None\n",
        "\n",
        "    if metric == 'cosine':\n",
        "        # Compute cosine similarities for the entire batch (shape: (batch, N))\n",
        "        similarities = cosine_similarity(query_embeddings, embedding_matrix)\n",
        "        # Set similarities for excluded indices to -infinity so they are not selected.\n",
        "        if mask is not None:\n",
        "            similarities[:, mask] = -np.inf\n",
        "        # Sort indices in descending order of similarity.\n",
        "        sorted_idx = np.argsort(-similarities, axis=1)\n",
        "        \n",
        "        if k is None:\n",
        "            # Filter out -inf values for each query\n",
        "            valid_indices = []\n",
        "            valid_scores = []\n",
        "            for i in range(similarities.shape[0]):\n",
        "                # Get indices where similarity is not -inf\n",
        "                valid_mask = similarities[i] != -np.inf\n",
        "                valid_idx = np.where(valid_mask)[0]\n",
        "                # Sort valid indices by similarity\n",
        "                valid_idx = valid_idx[np.argsort(-similarities[i, valid_idx])]\n",
        "                valid_indices.append(valid_idx)\n",
        "                valid_scores.append(similarities[i, valid_idx])\n",
        "            \n",
        "            # Pad arrays to same length if needed\n",
        "            max_valid = max(len(x) for x in valid_indices)\n",
        "            top_k = np.array([np.pad(x, (0, max_valid - len(x)), 'constant', constant_values=-1) for x in valid_indices])\n",
        "            scores = np.array([np.pad(x, (0, max_valid - len(x)), 'constant', constant_values=-np.inf) for x in valid_scores])\n",
        "        else:\n",
        "            top_k = sorted_idx[:, :k]\n",
        "            scores = np.take_along_axis(similarities, top_k, axis=1)\n",
        "    elif metric == 'euclidean':\n",
        "        # Compute Euclidean distances: shape (batch, N)\n",
        "        distances = np.linalg.norm(query_embeddings[:, None, :] - embedding_matrix[None, :, :], axis=2)\n",
        "        # Set distances for excluded indices to +infinity so they are not selected.\n",
        "        if mask is not None:\n",
        "            distances[:, mask] = np.inf\n",
        "        # Sort indices in ascending order of distance.\n",
        "        sorted_idx = np.argsort(distances, axis=1)\n",
        "        \n",
        "        if k is None:\n",
        "            # Filter out inf values for each query\n",
        "            valid_indices = []\n",
        "            valid_scores = []\n",
        "            for i in range(distances.shape[0]):\n",
        "                # Get indices where distance is not inf\n",
        "                valid_mask = distances[i] != np.inf\n",
        "                valid_idx = np.where(valid_mask)[0]\n",
        "                # Sort valid indices by distance\n",
        "                valid_idx = valid_idx[np.argsort(distances[i, valid_idx])]\n",
        "                valid_indices.append(valid_idx)\n",
        "                # Negate distances so that higher scores correspond to closer matches\n",
        "                valid_scores.append(-distances[i, valid_idx])\n",
        "            \n",
        "            # Pad arrays to same length if needed\n",
        "            max_valid = max(len(x) for x in valid_indices)\n",
        "            top_k = np.array([np.pad(x, (0, max_valid - len(x)), 'constant', constant_values=-1) for x in valid_indices])\n",
        "            scores = np.array([np.pad(x, (0, max_valid - len(x)), 'constant', constant_values=-np.inf) for x in valid_scores])\n",
        "        else:\n",
        "            top_k = sorted_idx[:, :k]\n",
        "            scores = -np.take_along_axis(distances, top_k, axis=1)\n",
        "    else:\n",
        "        raise ValueError(\"Unsupported metric: choose 'cosine' or 'euclidean'\")\n",
        "\n",
        "    return top_k, scores"
      ]
    },
    {
      "cell_type": "code",
      "execution_count": 43,
      "metadata": {
        "id": "2g3h40-9h5si"
      },
      "outputs": [],
      "source": [
        "# Limit queries to computed batches\n",
        "\n",
        "if COMPUTE_FINAL_EMBEDDINGS:\n",
        "    max_emb_cnt = final_latents.shape[0]\n",
        "else:\n",
        "    max_emb_cnt = images_latents.shape[0]\n",
        "\n",
        "truncated_df = new_source_df.iloc[:max_emb_cnt]\n",
        "query_indices = truncated_df[\n",
        "    truncated_df.sku.isin(query_df.sku)\n",
        "].index.tolist()"
      ]
    },
    {
      "cell_type": "code",
      "execution_count": 44,
      "metadata": {
        "id": "HYMKPYo73ugo"
      },
      "outputs": [
        {
          "name": "stdout",
          "output_type": "stream",
          "text": [
            "(2, 512) (8, 512)\n"
          ]
        }
      ],
      "source": [
        "# Load images/names queries\n",
        "\n",
        "if not COMPUTE_FINAL_EMBEDDINGS:\n",
        "    query_images_embs = images_latents[query_indices]  # e.g., shape (3, 768)\n",
        "    query_names_embs = names_latents[query_indices]  # e.g., shape (3, 768)\n",
        "\n",
        "    print(query_images_embs.shape, images_latents.shape)"
      ]
    },
    {
      "cell_type": "code",
      "execution_count": 45,
      "metadata": {
        "colab": {
          "base_uri": "https://localhost:8080/"
        },
        "id": "M_r_kNuch5si",
        "outputId": "8fe06922-2b1d-4023-c037-5aba7dcff381"
      },
      "outputs": [],
      "source": [
        "# Load final/names queries\n",
        "\n",
        "if COMPUTE_FINAL_EMBEDDINGS:\n",
        "    query_final_embs = final_latents[query_indices]  # e.g., shape (3, 768)\n",
        "\n",
        "    print(query_final_embs.shape)"
      ]
    },
    {
      "cell_type": "code",
      "execution_count": 201,
      "metadata": {
        "colab": {
          "base_uri": "https://localhost:8080/"
        },
        "id": "B2XwRkHXh5si",
        "outputId": "9aac4d12-aee6-41fe-c962-c05adf5608a0"
      },
      "outputs": [],
      "source": [
        "# Find top-k matches for images\n",
        "if COMPUTE_FINAL_EMBEDDINGS:\n",
        "    top_k_final, scores_final = find_top_k_similar(\n",
        "        query_final_embs, final_latents,\n",
        "        k=TOP_K,\n",
        "        metric='cosine',\n",
        "        exclude_indices=query_indices\n",
        "    )\n",
        "\n",
        "    print(\"Top-k image indices per query (shape):\")\n",
        "    print(top_k_final.shape)\n",
        "\n",
        "    print(\"Corresponding similarity scores:\")\n",
        "    print(scores_final)"
      ]
    },
    {
      "cell_type": "code",
      "execution_count": 202,
      "metadata": {
        "id": "08xtTKZF3ugo"
      },
      "outputs": [
        {
          "name": "stdout",
          "output_type": "stream",
          "text": [
            "Top-k image indices per query (shape):\n",
            "(2, 6)\n",
            "Corresponding similarity scores:\n",
            "[[0.74604    0.71802664 0.62956023 0.6141007  0.59751046 0.5295551 ]\n",
            " [0.7424779  0.7092123  0.6363558  0.6006744  0.58919287 0.540878  ]]\n"
          ]
        }
      ],
      "source": [
        "# Find top-k matches for images\n",
        "if not COMPUTE_FINAL_EMBEDDINGS:\n",
        "    top_k_images, scores_images = find_top_k_similar(\n",
        "        query_images_embs, images_latents,\n",
        "        k=TOP_K,\n",
        "        metric='cosine',\n",
        "        exclude_indices=query_indices\n",
        "    )\n",
        "\n",
        "    print(\"Top-k image indices per query (shape):\")\n",
        "    print(top_k_images.shape)\n",
        "\n",
        "    print(\"Corresponding similarity scores:\")\n",
        "    print(scores_images)"
      ]
    },
    {
      "cell_type": "code",
      "execution_count": 203,
      "metadata": {
        "id": "qIooWn0J3ugo"
      },
      "outputs": [
        {
          "name": "stdout",
          "output_type": "stream",
          "text": [
            "Top-k image indices per query (shape):\n",
            "(2, 6)\n",
            "Corresponding similarity scores:\n",
            "[[0.75016415 0.73374325 0.67139804 0.67081046 0.6205375  0.3839642 ]\n",
            " [0.73073065 0.72986937 0.7001705  0.6838355  0.66271853 0.3562347 ]]\n"
          ]
        }
      ],
      "source": [
        "# Find top-k matches for name\n",
        "if not COMPUTE_FINAL_EMBEDDINGS:\n",
        "    top_k_name, scores_name = find_top_k_similar(\n",
        "        query_names_embs, names_latents,\n",
        "        k=TOP_K,\n",
        "        metric='cosine',\n",
        "        exclude_indices=query_indices\n",
        "    )\n",
        "\n",
        "    print(\"Top-k image indices per query (shape):\")\n",
        "    print(top_k_name.shape)\n",
        "\n",
        "    print(\"Corresponding similarity scores:\")\n",
        "    print(scores_name)"
      ]
    },
    {
      "cell_type": "code",
      "execution_count": 204,
      "metadata": {
        "id": "c45nl8tW3ugo"
      },
      "outputs": [],
      "source": [
        "import numpy as np\n",
        "\n",
        "def union_top_k_candidates(top_k_name, top_k_images, scores_name, scores_images, TOP_K_CANDIDATES=5):\n",
        "    \"\"\"\n",
        "    Unites two top-k candidate lists (and their scores) while avoiding duplicates.\n",
        "    For each query (row), candidates present in both name and image lists are merged,\n",
        "    keeping the candidate's highest score. The merged list is then sorted in descending\n",
        "    order by score and only the top k unique candidates are returned.\n",
        "\n",
        "    Args:\n",
        "        top_k_name (np.ndarray): Array of candidate IDs from the name modality, shape (batch_size, num_candidates)\n",
        "        top_k_images (np.ndarray): Array of candidate IDs from the image modality, shape (batch_size, num_candidates)\n",
        "        scores_name (np.ndarray): Array of scores for the name candidates, same shape as top_k_name.\n",
        "        scores_images (np.ndarray): Array of scores for the image candidates, same shape as top_k_images.\n",
        "        TOP_K_CANDIDATES (int): Number of top candidates to return after merging.\n",
        "\n",
        "    Returns:\n",
        "        unique_candidates (np.ndarray): Array of merged candidate IDs, shape (batch_size, TOP_K_CANDIDATES)\n",
        "        unique_scores (np.ndarray): Array of merged candidate scores, shape (batch_size, TOP_K_CANDIDATES)\n",
        "    \"\"\"\n",
        "    batch_size = top_k_name.shape[0]\n",
        "    merged_candidates = []\n",
        "    merged_scores = []\n",
        "\n",
        "    for i in range(batch_size):\n",
        "        # Concatenate candidates and scores from both modalities for the current query.\n",
        "        candidates = np.concatenate([top_k_name[i], top_k_images[i]])\n",
        "        scores = np.concatenate([scores_name[i], scores_images[i]])\n",
        "\n",
        "        # Use a dict to store each candidate and its best (highest) score.\n",
        "        cand_dict = {}\n",
        "        for cand, score in zip(candidates, scores):\n",
        "            if cand in cand_dict:\n",
        "                if score > cand_dict[cand]:\n",
        "                    cand_dict[cand] = score\n",
        "            else:\n",
        "                cand_dict[cand] = score\n",
        "\n",
        "        # Sort the unique candidates by score in descending order.\n",
        "        sorted_items = sorted(cand_dict.items(), key=lambda x: x[1], reverse=True)\n",
        "        # Extract only the top-k candidates and scores.\n",
        "        top_candidates = [item[0] for item in sorted_items][:TOP_K_CANDIDATES]\n",
        "        top_scores = [item[1] for item in sorted_items][:TOP_K_CANDIDATES]\n",
        "\n",
        "        # If there are less than TOP_K_CANDIDATES (for some reason), we can pad lists (or leave as is)\n",
        "        # Here we assume every row has enough unique candidates.\n",
        "        merged_candidates.append(top_candidates)\n",
        "        merged_scores.append(top_scores)\n",
        "\n",
        "    # Convert the list of lists to numpy arrays.\n",
        "    unique_candidates = np.array(merged_candidates)\n",
        "    unique_scores = np.array(merged_scores)\n",
        "\n",
        "    return unique_candidates, unique_scores"
      ]
    },
    {
      "cell_type": "code",
      "execution_count": 205,
      "metadata": {
        "colab": {
          "base_uri": "https://localhost:8080/"
        },
        "id": "sHu-1TJC3ugo",
        "outputId": "9c3408f3-c25f-473e-ca9e-f3500506fc36"
      },
      "outputs": [
        {
          "name": "stdout",
          "output_type": "stream",
          "text": [
            "Merged top candidates shape: (2, 6)\n",
            "Merged scores shape: (2, 6)\n",
            "[[2 4 7 3 6 5]\n",
            " [2 4 7 3 6 5]]\n",
            "[[0.75016415 0.73374325 0.71802664 0.67139804 0.67081046 0.6205375 ]\n",
            " [0.7424779  0.73073065 0.7092123  0.7001705  0.6838355  0.66271853]]\n"
          ]
        }
      ],
      "source": [
        "if COMPUTE_FINAL_EMBEDDINGS:\n",
        "    top_k_united_indices = top_k_final\n",
        "    scores_united = scores_final\n",
        "else:\n",
        "    # Instead of doing this directly, it might be clearer to keep the two modalities separate.\n",
        "    # Then call our function:\n",
        "    top_k_united_indices, scores_united = union_top_k_candidates(\n",
        "        top_k_name, top_k_images, scores_name, scores_images,\n",
        "        TOP_K_CANDIDATES=TOP_K\n",
        "    )\n",
        "\n",
        "print(\"Merged top candidates shape:\", top_k_united_indices.shape)\n",
        "print(\"Merged scores shape:\", scores_united.shape)\n",
        "print(top_k_united_indices)\n",
        "print(scores_united)"
      ]
    },
    {
      "cell_type": "code",
      "execution_count": 206,
      "metadata": {
        "colab": {
          "base_uri": "https://localhost:8080/",
          "height": 336
        },
        "id": "wDxpFGhD3ugp",
        "outputId": "82374a8e-4e64-4a53-ee4d-bd3be012ed36"
      },
      "outputs": [
        {
          "data": {
            "text/plain": [
              "name    Физическая карта России настенная, 160 х 102 с...\n",
              "url      https://www.ozon.ru/context/detail/id/491273791/\n",
              "Name: 1, dtype: object"
            ]
          },
          "metadata": {},
          "output_type": "display_data"
        },
        {
          "data": {
            "text/html": [
              "<div>\n",
              "<style scoped>\n",
              "    .dataframe tbody tr th:only-of-type {\n",
              "        vertical-align: middle;\n",
              "    }\n",
              "\n",
              "    .dataframe tbody tr th {\n",
              "        vertical-align: top;\n",
              "    }\n",
              "\n",
              "    .dataframe thead th {\n",
              "        text-align: right;\n",
              "    }\n",
              "</style>\n",
              "<table border=\"1\" class=\"dataframe\">\n",
              "  <thead>\n",
              "    <tr style=\"text-align: right;\">\n",
              "      <th></th>\n",
              "      <th>name</th>\n",
              "      <th>url</th>\n",
              "    </tr>\n",
              "  </thead>\n",
              "  <tbody>\n",
              "    <tr>\n",
              "      <th>2</th>\n",
              "      <td>Политическая карта дорог России с новыми грани...</td>\n",
              "      <td>https://www.ozon.ru/context/detail/id/915901073/</td>\n",
              "    </tr>\n",
              "    <tr>\n",
              "      <th>4</th>\n",
              "      <td>Россия от Рюрика до Путина настенная двухсторо...</td>\n",
              "      <td>https://www.ozon.ru/context/detail/id/1675042934/</td>\n",
              "    </tr>\n",
              "    <tr>\n",
              "      <th>7</th>\n",
              "      <td>Globen Административная карта</td>\n",
              "      <td>https://www.ozon.ru/context/detail/id/677974349/</td>\n",
              "    </tr>\n",
              "    <tr>\n",
              "      <th>3</th>\n",
              "      <td>настенная карта Республики Мордовия 125 х 82 с...</td>\n",
              "      <td>https://www.ozon.ru/context/detail/id/874999883/</td>\n",
              "    </tr>\n",
              "    <tr>\n",
              "      <th>6</th>\n",
              "      <td>настенная карта Ярославской области 100 х 115 ...</td>\n",
              "      <td>https://www.ozon.ru/context/detail/id/537022791/</td>\n",
              "    </tr>\n",
              "  </tbody>\n",
              "</table>\n",
              "</div>"
            ],
            "text/plain": [
              "                                                name  \\\n",
              "2  Политическая карта дорог России с новыми грани...   \n",
              "4  Россия от Рюрика до Путина настенная двухсторо...   \n",
              "7                      Globen Административная карта   \n",
              "3  настенная карта Республики Мордовия 125 х 82 с...   \n",
              "6  настенная карта Ярославской области 100 х 115 ...   \n",
              "\n",
              "                                                 url  \n",
              "2   https://www.ozon.ru/context/detail/id/915901073/  \n",
              "4  https://www.ozon.ru/context/detail/id/1675042934/  \n",
              "7   https://www.ozon.ru/context/detail/id/677974349/  \n",
              "3   https://www.ozon.ru/context/detail/id/874999883/  \n",
              "6   https://www.ozon.ru/context/detail/id/537022791/  "
            ]
          },
          "execution_count": 206,
          "metadata": {},
          "output_type": "execute_result"
        }
      ],
      "source": [
        "CAND_IDX = 1\n",
        "\n",
        "display(truncated_df.loc[query_indices[CAND_IDX]][['name', 'url']])\n",
        "truncated_df.iloc[top_k_united_indices[CAND_IDX]][['name', 'url']].head()"
      ]
    },
    {
      "cell_type": "markdown",
      "metadata": {
        "id": "By5A70zh3ugp"
      },
      "source": [
        "# Compute paired dataset"
      ]
    },
    {
      "cell_type": "markdown",
      "metadata": {
        "id": "28IG1Vtu3ugp"
      },
      "source": [
        "## Make pairs for query sku"
      ]
    },
    {
      "cell_type": "code",
      "execution_count": 207,
      "metadata": {
        "id": "sezm8g8s3ugp"
      },
      "outputs": [],
      "source": [
        "# get pairs\n",
        "\n",
        "import pandas as pd\n",
        "\n",
        "def get_pairs(df, sku, ignore_sku_list=[]):\n",
        "    \"\"\"\n",
        "    Given a target SKU, return a paired DataFrame where:\n",
        "      - *_first columns correspond to the target SKU row.\n",
        "      - *_second columns correspond to all other SKU rows.\n",
        "      - Equality columns (iseq_vendor, iseq_color, iseq_brand, iseq_supp, are_related) are added (all set to 0).\n",
        "\n",
        "    Parameters:\n",
        "        sku (int or str): SKU identifier for the target row.\n",
        "\n",
        "    Returns:\n",
        "        pd.DataFrame: DataFrame with paired rows.\n",
        "    \"\"\"\n",
        "    # Ensure new_source_df is available in the global scope\n",
        "    # Select the target row and the remaining rows\n",
        "    target_df = df[df['sku'] == sku]\n",
        "    if target_df.empty:\n",
        "        raise ValueError(f\"SKU {sku} not found in new_source_df\")\n",
        "    rest_df = df[~(df['sku'].isin([sku] + ignore_sku_list))]\n",
        "\n",
        "    # Create a cross join (cartesian product) between the target row and all others\n",
        "    paired_df_all = pd.merge(\n",
        "        target_df.assign(key=1),\n",
        "        rest_df.assign(key=1),\n",
        "        on='key',\n",
        "        suffixes=('_first', '_second')\n",
        "    ).drop('key', axis=1)\n",
        "\n",
        "    # Add equality columns and set them all to 0\n",
        "    eq_cols = ['iseq_vendor', 'iseq_color', 'iseq_supp', 'are_related']\n",
        "    for col in eq_cols:\n",
        "        paired_df_all[col] = 0\n",
        "\n",
        "    paired_df_all['iseq_brand'] = paired_df_all['brand_first'] == paired_df_all['brand_second']\n",
        "\n",
        "    # Define desired final order of columns\n",
        "    final_columns = [\n",
        "        'balance_first', 'sales_first', 'rating_first', 'final_price_first',\n",
        "        'comments_first', 'description_first', 'name_first', 'options_first',\n",
        "        'sku_first', 'has_video_first', 'photo_count_first',\n",
        "\n",
        "        'balance_second', 'sales_second', 'rating_second', 'final_price_second',\n",
        "        'comments_second', 'description_second', 'name_second', 'options_second',\n",
        "        'sku_second', 'has_video_second', 'photo_count_second',\n",
        "\n",
        "        'iseq_vendor', 'iseq_color', 'iseq_brand', 'iseq_supp', 'are_related',\n",
        "\n",
        "        'image_id_first', 'image_id_second',\n",
        "        'url_first', 'url_second'\n",
        "    ]\n",
        "\n",
        "    paired_df_all = paired_df_all[final_columns]\n",
        "    return paired_df_all"
      ]
    },
    {
      "cell_type": "code",
      "execution_count": 208,
      "metadata": {
        "colab": {
          "base_uri": "https://localhost:8080/"
        },
        "id": "tEDpBrpX3ugp",
        "outputId": "6db26ebc-30fe-4ff2-9421-3090d8690f13"
      },
      "outputs": [
        {
          "data": {
            "text/plain": [
              "(12, 31)"
            ]
          },
          "execution_count": 208,
          "metadata": {},
          "output_type": "execute_result"
        }
      ],
      "source": [
        "paired_df_all = pd.DataFrame()\n",
        "for query_idx, top_k_idx in zip(query_indices, top_k_united_indices):\n",
        "    paired_df = get_pairs(\n",
        "        truncated_df.loc[top_k_idx.tolist() + [query_idx]], # TODO: fix this crime\n",
        "        sku=truncated_df.loc[query_idx].sku,\n",
        "        ignore_sku_list=query_df.sku.tolist(),\n",
        "    )\n",
        "    paired_df_all = pd.concat([paired_df_all, paired_df], ignore_index=True)\n",
        "    # break\n",
        "\n",
        "paired_df_all.shape"
      ]
    },
    {
      "cell_type": "code",
      "execution_count": 209,
      "metadata": {
        "colab": {
          "base_uri": "https://localhost:8080/"
        },
        "id": "uqJi1IEY8Qv3",
        "outputId": "e46c06a7-1d77-463a-e7b8-86c2849fcf45"
      },
      "outputs": [
        {
          "name": "stdout",
          "output_type": "stream",
          "text": [
            "data/tables_OZ_geo_5500/tabular_OZ_geo_5500_top-None_query=2_nonquery=6_pairs_sbert=ru-en-RoSBERTa_clip=ruclip-vit-base-patch32-384.csv\n"
          ]
        }
      ],
      "source": [
        "from pathlib import Path\n",
        "\n",
        "n_query = query_df.sku.nunique()\n",
        "n_nonquery = nonquery_df.sku.nunique()\n",
        "\n",
        "tables_prefix = Path(DATA_PATH) / 'tables_OZ_geo_5500'\n",
        "tables_prefix.mkdir(parents=True, exist_ok=True)\n",
        "\n",
        "# Paired data CSV\n",
        "file_path_pairs = (\n",
        "    tables_prefix /\n",
        "    f'tabular_OZ_geo_5500_top-{TOP_K}'\n",
        "    f'_query={n_query}_nonquery={n_nonquery}_pairs'\n",
        "    f'_sbert={Path(SBERT_MODEL).name}_clip={model_name}'\n",
        "    '.csv'\n",
        ")\n",
        "\n",
        "print(str(file_path_pairs))\n",
        "\n",
        "paired_df_all.to_csv(file_path_pairs, index=None)"
      ]
    },
    {
      "cell_type": "markdown",
      "metadata": {
        "id": "laV5w22X5nAt"
      },
      "source": [
        "## Add embedding distances"
      ]
    },
    {
      "cell_type": "code",
      "execution_count": 174,
      "metadata": {
        "id": "1m9cxCjx8Qv4"
      },
      "outputs": [
        {
          "name": "stderr",
          "output_type": "stream",
          "text": [
            "Some weights of RobertaModel were not initialized from the model checkpoint at ai-forever/ru-en-RoSBERTa and are newly initialized: ['pooler.dense.bias', 'pooler.dense.weight']\n",
            "You should probably TRAIN this model on a down-stream task to be able to use it for predictions and inference.\n"
          ]
        }
      ],
      "source": [
        "sbert = SentenceTransformer(SBERT_MODEL, device=DEVICE)"
      ]
    },
    {
      "cell_type": "code",
      "execution_count": 216,
      "metadata": {
        "id": "9Ug5Sdy18Qv5"
      },
      "outputs": [],
      "source": [
        "from pathlib import Path\n",
        "\n",
        "# Ensure cache directory exists\n",
        "emb_prefix = Path(DATA_PATH) / 'embeddings' / 'OZ_geo_5500'\n",
        "emb_prefix.mkdir(parents=True, exist_ok=True)\n",
        "\n",
        "n_pairs = len(paired_df_all)  # Key based on number of paired rows; change if needed.\n",
        "\n",
        "if CLIP_MODEL is not None:\n",
        "    model_name = CLIP_MODEL\n",
        "elif CLIP_SIAMESE_CONTRASTIVE_CKPT is not None:\n",
        "    model_name = CLIP_SIAMESE_CONTRASTIVE_CKPT\n",
        "\n",
        "# Define cache filenames for description and options similarities\n",
        "desc_sim_file = emb_prefix / f'desc_sim_pairs={n_pairs}_q={n_query}_nq={n_nonquery}_sbert={Path(SBERT_MODEL).name}.npy'\n",
        "opt_sim_file = emb_prefix / f'opt_sim_pairs={n_pairs}_q={n_query}_nq={n_nonquery}_sbert={Path(SBERT_MODEL).name}.npy'"
      ]
    },
    {
      "cell_type": "code",
      "execution_count": 224,
      "metadata": {
        "colab": {
          "base_uri": "https://localhost:8080/"
        },
        "id": "CfKlFXm4ow2W",
        "outputId": "fb75047d-f0a2-4f2d-c29c-ebfba080b19d"
      },
      "outputs": [
        {
          "data": {
            "application/vnd.jupyter.widget-view+json": {
              "model_id": "d544387ebf734202931c28c9df03f991",
              "version_major": 2,
              "version_minor": 0
            },
            "text/plain": [
              "Batches:   0%|          | 0/1 [00:00<?, ?it/s]"
            ]
          },
          "metadata": {},
          "output_type": "display_data"
        },
        {
          "data": {
            "application/vnd.jupyter.widget-view+json": {
              "model_id": "7e3108e490f34938be2539f5e5ed6d26",
              "version_major": 2,
              "version_minor": 0
            },
            "text/plain": [
              "Batches:   0%|          | 0/1 [00:00<?, ?it/s]"
            ]
          },
          "metadata": {},
          "output_type": "display_data"
        },
        {
          "data": {
            "application/vnd.jupyter.widget-view+json": {
              "model_id": "d2169bdab3a0430ea5d920cf53623770",
              "version_major": 2,
              "version_minor": 0
            },
            "text/plain": [
              "Batches:   0%|          | 0/1 [00:00<?, ?it/s]"
            ]
          },
          "metadata": {},
          "output_type": "display_data"
        },
        {
          "data": {
            "application/vnd.jupyter.widget-view+json": {
              "model_id": "5226f629b3d8422e8382c35b3ae5d6cf",
              "version_major": 2,
              "version_minor": 0
            },
            "text/plain": [
              "Batches:   0%|          | 0/1 [00:00<?, ?it/s]"
            ]
          },
          "metadata": {},
          "output_type": "display_data"
        },
        {
          "data": {
            "application/vnd.jupyter.widget-view+json": {
              "model_id": "e9a95e25bb63414d86e522902cad08b4",
              "version_major": 2,
              "version_minor": 0
            },
            "text/plain": [
              "Batches:   0%|          | 0/1 [00:00<?, ?it/s]"
            ]
          },
          "metadata": {},
          "output_type": "display_data"
        },
        {
          "data": {
            "application/vnd.jupyter.widget-view+json": {
              "model_id": "48366b8386984c1c8f160a03a8f20fa8",
              "version_major": 2,
              "version_minor": 0
            },
            "text/plain": [
              "Batches:   0%|          | 0/1 [00:00<?, ?it/s]"
            ]
          },
          "metadata": {},
          "output_type": "display_data"
        },
        {
          "data": {
            "application/vnd.jupyter.widget-view+json": {
              "model_id": "463ae18391804b3cacf2c9f8bc399bcc",
              "version_major": 2,
              "version_minor": 0
            },
            "text/plain": [
              "Batches:   0%|          | 0/1 [00:00<?, ?it/s]"
            ]
          },
          "metadata": {},
          "output_type": "display_data"
        },
        {
          "data": {
            "application/vnd.jupyter.widget-view+json": {
              "model_id": "b516e0f3e23e4fb391328305bb7aae52",
              "version_major": 2,
              "version_minor": 0
            },
            "text/plain": [
              "Batches:   0%|          | 0/1 [00:00<?, ?it/s]"
            ]
          },
          "metadata": {},
          "output_type": "display_data"
        },
        {
          "data": {
            "application/vnd.jupyter.widget-view+json": {
              "model_id": "335dd1306442494a83b66b9e09e08529",
              "version_major": 2,
              "version_minor": 0
            },
            "text/plain": [
              "Batches:   0%|          | 0/1 [00:00<?, ?it/s]"
            ]
          },
          "metadata": {},
          "output_type": "display_data"
        },
        {
          "data": {
            "application/vnd.jupyter.widget-view+json": {
              "model_id": "ac15c167fbd14a10af46c310bc8b32a7",
              "version_major": 2,
              "version_minor": 0
            },
            "text/plain": [
              "Batches:   0%|          | 0/1 [00:00<?, ?it/s]"
            ]
          },
          "metadata": {},
          "output_type": "display_data"
        },
        {
          "data": {
            "application/vnd.jupyter.widget-view+json": {
              "model_id": "2674dfe0dca14b578005921d2925042e",
              "version_major": 2,
              "version_minor": 0
            },
            "text/plain": [
              "Batches:   0%|          | 0/1 [00:00<?, ?it/s]"
            ]
          },
          "metadata": {},
          "output_type": "display_data"
        },
        {
          "data": {
            "application/vnd.jupyter.widget-view+json": {
              "model_id": "7e47444e79574c2b87d13c897147d7e5",
              "version_major": 2,
              "version_minor": 0
            },
            "text/plain": [
              "Batches:   0%|          | 0/1 [00:00<?, ?it/s]"
            ]
          },
          "metadata": {},
          "output_type": "display_data"
        },
        {
          "data": {
            "application/vnd.jupyter.widget-view+json": {
              "model_id": "a728e994845c4b2ba04dee7078df530e",
              "version_major": 2,
              "version_minor": 0
            },
            "text/plain": [
              "Batches:   0%|          | 0/1 [00:00<?, ?it/s]"
            ]
          },
          "metadata": {},
          "output_type": "display_data"
        },
        {
          "data": {
            "application/vnd.jupyter.widget-view+json": {
              "model_id": "aa3e80a74f2045bfb11921ee8c58163d",
              "version_major": 2,
              "version_minor": 0
            },
            "text/plain": [
              "Batches:   0%|          | 0/1 [00:00<?, ?it/s]"
            ]
          },
          "metadata": {},
          "output_type": "display_data"
        },
        {
          "data": {
            "application/vnd.jupyter.widget-view+json": {
              "model_id": "feed1f73d92843e9aed708f4f8bc181b",
              "version_major": 2,
              "version_minor": 0
            },
            "text/plain": [
              "Batches:   0%|          | 0/1 [00:00<?, ?it/s]"
            ]
          },
          "metadata": {},
          "output_type": "display_data"
        },
        {
          "data": {
            "application/vnd.jupyter.widget-view+json": {
              "model_id": "308ba8f4ded24c89ac82b8dd45102eff",
              "version_major": 2,
              "version_minor": 0
            },
            "text/plain": [
              "Batches:   0%|          | 0/1 [00:00<?, ?it/s]"
            ]
          },
          "metadata": {},
          "output_type": "display_data"
        },
        {
          "name": "stdout",
          "output_type": "stream",
          "text": [
            "Description similarities shape: (12,)\n",
            "Option similarities shape: (12,)\n"
          ]
        }
      ],
      "source": [
        "# Compute description and option similarities using filtered indices and batching\n",
        "# (similar to how image and name sims are computed)\n",
        "\n",
        "if not os.path.isfile(desc_sim_file) or not os.path.isfile(opt_sim_file):\n",
        "    desc_sim = []\n",
        "    opt_sim = []\n",
        "    \n",
        "    # Get all unique indices that we need embeddings for\n",
        "    all_indices = set(query_indices) | set(np.concatenate(top_k_united_indices))\n",
        "    \n",
        "    # Pre-compute all embeddings in batches\n",
        "    desc_cache = {}\n",
        "    opt_cache = {}\n",
        "    \n",
        "    # Convert indices to list and sort for deterministic ordering\n",
        "    indices_list = sorted(list(all_indices))\n",
        "    \n",
        "    # Process in batches\n",
        "    for i in range(0, len(indices_list), SBERT_BATCH_SIZE):\n",
        "        batch_indices = indices_list[i:i + SBERT_BATCH_SIZE]\n",
        "        \n",
        "        # Get descriptions and options for current batch\n",
        "        batch_descs = truncated_df.loc[batch_indices, 'description'].tolist()\n",
        "        batch_opts = truncated_df.loc[batch_indices, 'options'].tolist()\n",
        "        \n",
        "        # Encode descriptions and options in batch\n",
        "        batch_desc_embs = sbert.encode(batch_descs, convert_to_tensor=True, show_progress_bar=True)\n",
        "        batch_opt_embs = sbert.encode(batch_opts, convert_to_tensor=True, show_progress_bar=True)\n",
        "        \n",
        "        # Store in cache\n",
        "        for idx, desc_emb, opt_emb in zip(batch_indices, batch_desc_embs, batch_opt_embs):\n",
        "            desc_cache[idx] = desc_emb\n",
        "            opt_cache[idx] = opt_emb\n",
        "    \n",
        "    # Now compute similarities using cached embeddings\n",
        "    for query_idx, candidate_indices in zip(query_indices, top_k_united_indices):\n",
        "        query_desc_emb = desc_cache[query_idx]\n",
        "        query_opt_emb = opt_cache[query_idx]\n",
        "        \n",
        "        # Get all candidate embeddings for current query\n",
        "        cand_desc_embs = torch.stack([desc_cache[idx] for idx in candidate_indices])\n",
        "        cand_opt_embs = torch.stack([opt_cache[idx] for idx in candidate_indices])\n",
        "        \n",
        "        # Compute similarities for all candidates at once\n",
        "        sim_desc = util.cos_sim(query_desc_emb.unsqueeze(0), cand_desc_embs).cpu().numpy().squeeze()\n",
        "        sim_opt = util.cos_sim(query_opt_emb.unsqueeze(0), cand_opt_embs).cpu().numpy().squeeze()\n",
        "        \n",
        "        desc_sim.extend(sim_desc)\n",
        "        opt_sim.extend(sim_opt)\n",
        "\n",
        "    # Convert lists to numpy arrays\n",
        "    desc_sim = np.array(desc_sim)\n",
        "    opt_sim = np.array(opt_sim)\n",
        "\n",
        "    # Cache the computed similarities\n",
        "    np.save(desc_sim_file, desc_sim)\n",
        "    np.save(opt_sim_file, opt_sim)\n",
        "else:\n",
        "    # Load cached similarities if available\n",
        "    desc_sim = np.load(desc_sim_file)\n",
        "    opt_sim = np.load(opt_sim_file)\n",
        "    print(\"Loaded cached description and option similarities.\")\n",
        "\n",
        "print(\"Description similarities shape:\", desc_sim.shape)\n",
        "print(\"Option similarities shape:\", opt_sim.shape)"
      ]
    },
    {
      "cell_type": "code",
      "execution_count": 226,
      "metadata": {
        "id": "mcIGQqMM5nAu"
      },
      "outputs": [],
      "source": [
        "def get_images_names_paired(\n",
        "    df,\n",
        "    image_id_col_first: str = 'sku_first',\n",
        "    image_id_col_second: str = 'sku_second',\n",
        "    name_col_first: str = 'name_first',\n",
        "    name_col_second: str = 'name_second',\n",
        "    offline: bool = True,\n",
        "    img_dataset_dir: str = '../data/images_7k'\n",
        ") -> Tuple[List[Image.Image], List[object], List[int]]:\n",
        "    \"\"\"\n",
        "    Iterate over the DataFrame and extract image pairs and their corresponding names.\n",
        "\n",
        "    For each row, two images and their associated names are extracted using get_image_and_name.\n",
        "    If both images are successfully loaded, they are added to the lists. Otherwise, the row index is recorded as a problem.\n",
        "\n",
        "    Args:\n",
        "        df: A DataFrame containing data rows.\n",
        "        image_id_col_first: Column name for the first image identifier.\n",
        "        image_id_col_second: Column name for the second image identifier.\n",
        "        name_col_first: Column name for the first name.\n",
        "        name_col_second: Column name for the second name.\n",
        "        offline: Whether to load images offline.\n",
        "        img_dataset_dir: Directory to load images from when offline.\n",
        "\n",
        "    Returns:\n",
        "        A tuple (images, names, problems) where:\n",
        "            - images is a list containing both images from each successful row,\n",
        "            - names is a list of the corresponding names,\n",
        "            - problems is a list of row indices where one or both images failed to load.\n",
        "    \"\"\"\n",
        "    images, names, problems = [], [], []\n",
        "\n",
        "    for idx, row in df.iterrows():\n",
        "        img1, name1 = get_image_and_name(row, image_id_col_first, name_col_first, offline, img_dataset_dir)\n",
        "        img2, name2 = get_image_and_name(row, image_id_col_second, name_col_second, offline, img_dataset_dir)\n",
        "\n",
        "        if img1 is not None and img2 is not None:\n",
        "            images.extend([img1, img2])\n",
        "            names.extend([name1, name2])\n",
        "        else:\n",
        "            problems.append(idx)\n",
        "\n",
        "    return images, names, problems"
      ]
    },
    {
      "cell_type": "code",
      "execution_count": 227,
      "metadata": {
        "id": "dp_V-jSc3ugt"
      },
      "outputs": [],
      "source": [
        "# # Example usage:\n",
        "# images, names, problems_ids = get_images_names_paired(\n",
        "#     paired_df,\n",
        "#     image_id_col_first='image_id_first',\n",
        "#     image_id_col_second='image_id_second',\n",
        "#     name_col_first='name_first',  # Adjust these column names if needed\n",
        "#     name_col_second='name_second',\n",
        "#     img_dataset_dir='data/images_OZ_geo_5500'\n",
        "# )\n",
        "\n",
        "# print(f'Images loaded: {len(images)}')\n",
        "# print(f'Images not loaded: {len(problems_ids)}')"
      ]
    },
    {
      "cell_type": "code",
      "execution_count": 228,
      "metadata": {
        "id": "EKwtvAiG5nAv"
      },
      "outputs": [],
      "source": [
        "# Delete problematic ids\n",
        "paired_df_all = paired_df_all[~paired_df_all.index.isin(problems_ids)]\n",
        "\n",
        "desc_sim = np.delete(desc_sim, problems_ids, axis=0)\n",
        "opt_sim = np.delete(opt_sim, problems_ids, axis=0)"
      ]
    },
    {
      "cell_type": "code",
      "execution_count": 229,
      "metadata": {
        "colab": {
          "base_uri": "https://localhost:8080/"
        },
        "id": "jlK0ram1h5sl",
        "outputId": "f7b33de1-0aea-4ebc-f036-3bde845e5ea8"
      },
      "outputs": [],
      "source": [
        "if COMPUTE_FINAL_EMBEDDINGS:\n",
        "    name_sim = []\n",
        "    img_sim = []\n",
        "    for query_idx, top_k_idx in zip(query_indices, top_k_united_indices):\n",
        "        first = query_final_embs[query_idx]\n",
        "        for candidate_idx in top_k_idx:\n",
        "            second = final_latents[candidate_idx]\n",
        "            name_sim.append(\n",
        "                util.cos_sim(first, second).cpu().numpy().squeeze()\n",
        "            )\n",
        "            img_sim.append(\n",
        "                util.cos_sim(first, second).cpu().numpy().squeeze()\n",
        "            )\n",
        "\n",
        "    print(len(name_sim))\n",
        "    print(len(img_sim))\n",
        "\n",
        "    scores = np.c_[desc_sim, opt_sim, name_sim, img_sim]"
      ]
    },
    {
      "cell_type": "code",
      "execution_count": 47,
      "metadata": {
        "id": "ljnlZXUj3ugt"
      },
      "outputs": [
        {
          "ename": "NameError",
          "evalue": "name 'top_k_united_indices' is not defined",
          "output_type": "error",
          "traceback": [
            "\u001b[31m---------------------------------------------------------------------------\u001b[39m",
            "\u001b[31mNameError\u001b[39m                                 Traceback (most recent call last)",
            "\u001b[36mCell\u001b[39m\u001b[36m \u001b[39m\u001b[32mIn[47]\u001b[39m\u001b[32m, line 3\u001b[39m\n\u001b[32m      1\u001b[39m \u001b[38;5;28;01mif\u001b[39;00m \u001b[38;5;129;01mnot\u001b[39;00m COMPUTE_FINAL_EMBEDDINGS:\n\u001b[32m      2\u001b[39m     \u001b[38;5;66;03m# Pre-allocate arrays for efficiency\u001b[39;00m\n\u001b[32m----> \u001b[39m\u001b[32m3\u001b[39m     n_pairs = \u001b[38;5;28msum\u001b[39m(\u001b[38;5;28mlen\u001b[39m(top_k) \u001b[38;5;28;01mfor\u001b[39;00m top_k \u001b[38;5;129;01min\u001b[39;00m \u001b[43mtop_k_united_indices\u001b[49m)\n\u001b[32m      4\u001b[39m     name_sim = np.zeros(n_pairs)\n\u001b[32m      5\u001b[39m     img_sim = np.zeros(n_pairs)\n",
            "\u001b[31mNameError\u001b[39m: name 'top_k_united_indices' is not defined"
          ]
        }
      ],
      "source": [
        "if not COMPUTE_FINAL_EMBEDDINGS:\n",
        "    # Pre-allocate arrays for efficiency\n",
        "    n_pairs = sum(len(top_k) for top_k in top_k_united_indices)\n",
        "    name_sim = np.zeros(n_pairs)\n",
        "    img_sim = np.zeros(n_pairs)\n",
        "    \n",
        "    # names_latents and images_latents are already numpy arrays\n",
        "    names_latents_np = names_latents\n",
        "    images_latents_np = images_latents\n",
        "    \n",
        "    idx = 0\n",
        "    for query_idx, top_k_idx in zip(query_indices, top_k_united_indices):\n",
        "        # Get query embeddings\n",
        "        first_name = names_latents_np[query_idx]\n",
        "        first_image = images_latents_np[query_idx]\n",
        "        \n",
        "        # Get candidate embeddings\n",
        "        second_names = names_latents_np[top_k_idx]\n",
        "        second_images = images_latents_np[top_k_idx]\n",
        "        \n",
        "        # Compute similarities in batch\n",
        "        name_sim[idx:idx+len(top_k_idx)] = np.sum(first_name * second_names, axis=1)\n",
        "        img_sim[idx:idx+len(top_k_idx)] = np.sum(first_image * second_images, axis=1)\n",
        "        \n",
        "        idx += len(top_k_idx)\n",
        "\n",
        "    print(len(name_sim))\n",
        "    print(len(img_sim))\n",
        "\n",
        "    scores = np.c_[desc_sim, opt_sim, name_sim, img_sim]"
      ]
    },
    {
      "cell_type": "code",
      "execution_count": 231,
      "metadata": {
        "colab": {
          "base_uri": "https://localhost:8080/",
          "height": 182
        },
        "id": "rLAXw3iZ5nAv",
        "outputId": "97d9c9b7-e05f-4f62-d4b9-bb3d9d4a5227"
      },
      "outputs": [
        {
          "data": {
            "text/html": [
              "<div>\n",
              "<style scoped>\n",
              "    .dataframe tbody tr th:only-of-type {\n",
              "        vertical-align: middle;\n",
              "    }\n",
              "\n",
              "    .dataframe tbody tr th {\n",
              "        vertical-align: top;\n",
              "    }\n",
              "\n",
              "    .dataframe thead th {\n",
              "        text-align: right;\n",
              "    }\n",
              "</style>\n",
              "<table border=\"1\" class=\"dataframe\">\n",
              "  <thead>\n",
              "    <tr style=\"text-align: right;\">\n",
              "      <th></th>\n",
              "      <th>balance_first</th>\n",
              "      <th>sales_first</th>\n",
              "      <th>rating_first</th>\n",
              "      <th>final_price_first</th>\n",
              "      <th>comments_first</th>\n",
              "      <th>description_first</th>\n",
              "      <th>name_first</th>\n",
              "      <th>options_first</th>\n",
              "      <th>sku_first</th>\n",
              "      <th>has_video_first</th>\n",
              "      <th>...</th>\n",
              "      <th>iseq_supp</th>\n",
              "      <th>are_related</th>\n",
              "      <th>image_id_first</th>\n",
              "      <th>image_id_second</th>\n",
              "      <th>url_first</th>\n",
              "      <th>url_second</th>\n",
              "      <th>desc_sim</th>\n",
              "      <th>opt_sim</th>\n",
              "      <th>name_sim</th>\n",
              "      <th>img_sim</th>\n",
              "    </tr>\n",
              "  </thead>\n",
              "  <tbody>\n",
              "    <tr>\n",
              "      <th>0</th>\n",
              "      <td>17</td>\n",
              "      <td>0</td>\n",
              "      <td>0.0</td>\n",
              "      <td>522</td>\n",
              "      <td>185</td>\n",
              "      <td>Настенная карта \"Россия\" представляет собой ко...</td>\n",
              "      <td>Политико-административная карта России, 100х70...</td>\n",
              "      <td>Политико-административная карта России, 100х70...</td>\n",
              "      <td>491271320</td>\n",
              "      <td>0</td>\n",
              "      <td>...</td>\n",
              "      <td>0</td>\n",
              "      <td>0</td>\n",
              "      <td>7411932975</td>\n",
              "      <td>6606481181</td>\n",
              "      <td>https://www.ozon.ru/context/detail/id/491271320/</td>\n",
              "      <td>https://www.ozon.ru/context/detail/id/915901073/</td>\n",
              "      <td>0.824343</td>\n",
              "      <td>0.81094</td>\n",
              "      <td>0.750164</td>\n",
              "      <td>0.74604</td>\n",
              "    </tr>\n",
              "  </tbody>\n",
              "</table>\n",
              "<p>1 rows × 35 columns</p>\n",
              "</div>"
            ],
            "text/plain": [
              "   balance_first  sales_first  rating_first  final_price_first  \\\n",
              "0             17            0           0.0                522   \n",
              "\n",
              "   comments_first                                  description_first  \\\n",
              "0             185  Настенная карта \"Россия\" представляет собой ко...   \n",
              "\n",
              "                                          name_first  \\\n",
              "0  Политико-административная карта России, 100х70...   \n",
              "\n",
              "                                       options_first  sku_first  \\\n",
              "0  Политико-административная карта России, 100х70...  491271320   \n",
              "\n",
              "   has_video_first  ...  iseq_supp  are_related  image_id_first  \\\n",
              "0                0  ...          0            0      7411932975   \n",
              "\n",
              "   image_id_second                                         url_first  \\\n",
              "0       6606481181  https://www.ozon.ru/context/detail/id/491271320/   \n",
              "\n",
              "                                         url_second  desc_sim  opt_sim  \\\n",
              "0  https://www.ozon.ru/context/detail/id/915901073/  0.824343  0.81094   \n",
              "\n",
              "   name_sim  img_sim  \n",
              "0  0.750164  0.74604  \n",
              "\n",
              "[1 rows x 35 columns]"
            ]
          },
          "execution_count": 231,
          "metadata": {},
          "output_type": "execute_result"
        }
      ],
      "source": [
        "scores_df = pd.DataFrame(scores, columns=['desc_sim', 'opt_sim', 'name_sim', 'img_sim'])\n",
        "\n",
        "paired_embedded_df_all = pd.concat(\n",
        "    [\n",
        "        paired_df_all.drop(columns=scores_df.columns, errors='ignore'),\n",
        "        scores_df\n",
        "    ],\n",
        "    axis=1\n",
        ")\n",
        "paired_embedded_df_all.head(1)"
      ]
    },
    {
      "cell_type": "code",
      "execution_count": 232,
      "metadata": {
        "colab": {
          "base_uri": "https://localhost:8080/"
        },
        "id": "gZNmh97d5nAv",
        "outputId": "3890508d-38b2-4bbf-8cad-82a952f7376b"
      },
      "outputs": [
        {
          "data": {
            "text/plain": [
              "['balance_first',\n",
              " 'sales_first',\n",
              " 'rating_first',\n",
              " 'final_price_first',\n",
              " 'comments_first',\n",
              " 'description_first',\n",
              " 'name_first',\n",
              " 'options_first',\n",
              " 'sku_first',\n",
              " 'has_video_first',\n",
              " 'photo_count_first',\n",
              " 'balance_second',\n",
              " 'sales_second',\n",
              " 'rating_second',\n",
              " 'final_price_second',\n",
              " 'comments_second',\n",
              " 'description_second',\n",
              " 'name_second',\n",
              " 'options_second',\n",
              " 'sku_second',\n",
              " 'has_video_second',\n",
              " 'photo_count_second',\n",
              " 'iseq_vendor',\n",
              " 'iseq_color',\n",
              " 'iseq_brand',\n",
              " 'iseq_supp',\n",
              " 'are_related',\n",
              " 'image_id_first',\n",
              " 'image_id_second',\n",
              " 'url_first',\n",
              " 'url_second',\n",
              " 'desc_sim',\n",
              " 'opt_sim',\n",
              " 'name_sim',\n",
              " 'img_sim']"
            ]
          },
          "execution_count": 232,
          "metadata": {},
          "output_type": "execute_result"
        }
      ],
      "source": [
        "paired_embedded_df_all.columns.tolist()"
      ]
    },
    {
      "cell_type": "code",
      "execution_count": 243,
      "metadata": {
        "colab": {
          "base_uri": "https://localhost:8080/"
        },
        "id": "DMqK9ahlNilg",
        "outputId": "002ad802-6fe3-45bc-8e2b-82cb22f03c91"
      },
      "outputs": [
        {
          "name": "stdout",
          "output_type": "stream",
          "text": [
            "data/tables_OZ_geo_5500/tabular_OZ_geo_5500_top-None_query=2_nonquery=6_embedded_sbert=ru-en-RoSBERTa_clip=ruclip-vit-base-patch32-384.csv\n"
          ]
        }
      ],
      "source": [
        "from pathlib import Path\n",
        "\n",
        "n_query = query_df.sku.nunique()\n",
        "n_nonquery = nonquery_df.sku.nunique()\n",
        "\n",
        "tables_prefix = Path(DATA_PATH) / 'tables_OZ_geo_5500'\n",
        "tables_prefix.mkdir(parents=True, exist_ok=True)\n",
        "\n",
        "# Embedded CSV\n",
        "file_path_embedded = (\n",
        "    tables_prefix /\n",
        "    f'tabular_OZ_geo_5500_top-{TOP_K}'\n",
        "    f'_query={n_query}_nonquery={n_nonquery}_embedded'\n",
        "    f'_sbert={Path(SBERT_MODEL).name}_clip={model_name}'\n",
        "    f'{\"_final-embs\" if COMPUTE_FINAL_EMBEDDINGS else \"\"}'\n",
        "    '.csv'\n",
        ")\n",
        "file_path_embedded.parent.mkdir(parents=True, exist_ok=True)\n",
        "print(str(file_path_embedded))\n",
        "\n",
        "paired_embedded_df_all.to_csv(file_path_embedded, index=None)"
      ]
    },
    {
      "cell_type": "markdown",
      "metadata": {
        "id": "Xjlhr-wuMgFC"
      },
      "source": [
        "# Save all files to HF"
      ]
    },
    {
      "cell_type": "code",
      "execution_count": null,
      "metadata": {
        "colab": {
          "base_uri": "https://localhost:8080/",
          "height": 229,
          "referenced_widgets": [
            "812b0c19f0834232b04ec2cb178d089d",
            "6dc06697dedd404bb917049fecbd00c3",
            "524d2e0aa1864d258ddcc87fd2d30186",
            "b7a57997ac9543b7b298f5d0f4484dc9",
            "22130af665d54bc5b336c0386333a149",
            "b354a66ed5ca4aa9a7ef028267f65959",
            "692bf4236fad4b7fa1426e353b28120e",
            "4a17b7bd36d3410eb00d65395317dfa3",
            "8cb21b7c36f341ca87c79c35520b0b50",
            "b83290c0d4884624a3300c74cf131b24",
            "6fdb451e788f41408c44945b13bc3303",
            "9f6156cd7fb341b7bc62be04e1f9afdd",
            "1336efed045149d0b8a66517cab765b8",
            "511949d6df2846d2af1a53d9aee5cc4d",
            "ddfa7a2e547f4fa2a7deac534f25f0fd",
            "e27007b354484d27b97336975b15a1a8",
            "c91e13b27c1945089639761f0c5dcd37",
            "1b2f811643e64e2b9efaa6c44ba1416d",
            "6f685d9ac2654eedb7acef5fd33c3c40",
            "5d7cbec49735406fa9381bd8b392b9c1",
            "fbcc2af80c224036ac507634b141b398",
            "2a9fbd1243394e169cdefe7388ac6fd2",
            "e11028c6bcd94290b5e0543b19888e67",
            "0c319a4351b740f2bb4050dc0eb42ca4",
            "9b77240a82474809b2fcfb9cbefb3ffc",
            "ea10207cefa44b4fb764255de3359573",
            "b531eebe3949426cbe09de5a0da62887",
            "15a387b90d5744588afc787139034619",
            "492158011a9e4448bd1f4da7c983a9e3",
            "418701d376c0465fbe87065f1f394964",
            "dcd882741da944f08fa16ead57c26f13",
            "7df529db36f247ed9d5b867b96d62b86",
            "006ffb1f4bef4d50b8dd9d93f09431f4",
            "88ef6655d2594112abfb7935af4ac6c0",
            "93b97129b6f74e0198e41069367be034",
            "ae8c0afb9ee34270b5a018f6e4113ef5",
            "8d8396760722481999ab1641eb441dfe",
            "ea9bd2ca59f74c23bf1987118f423e77",
            "fccf547e1c67434eb44eb3ac422fcf5f",
            "3127e7e017ea4498bf2d51a501e3ff8f",
            "a41dc81908894fb4929f84307ccf4431",
            "57442b444910463aac507589bce9d1c3",
            "91bfc03f9aca4b0ca508c559cc384064",
            "46bd73c620d64b21bb4d126e2f92fdb4"
          ]
        },
        "id": "Da1EW-1VMiOA",
        "outputId": "67814cc2-d106-4a6f-e375-8d8d4273a054"
      },
      "outputs": [
        {
          "data": {
            "application/vnd.jupyter.widget-view+json": {
              "model_id": "869e37f60de64a8dbb0b3cc1a3e3722d",
              "version_major": 2,
              "version_minor": 0
            },
            "text/plain": [
              "desc_sim_pairs=12_q=2_nq=6_sbert=ru-en-RoSBERTa.npy:   0%|          | 0.00/176 [00:00<?, ?B/s]"
            ]
          },
          "metadata": {},
          "output_type": "display_data"
        },
        {
          "data": {
            "application/vnd.jupyter.widget-view+json": {
              "model_id": "bee4b6a1ca3c4a29bdb66171988a548b",
              "version_major": 2,
              "version_minor": 0
            },
            "text/plain": [
              "names_latents_total=8_clip=ruclip-vit-base-patch32-384.npy:   0%|          | 0.00/16.5k [00:00<?, ?B/s]"
            ]
          },
          "metadata": {},
          "output_type": "display_data"
        },
        {
          "data": {
            "application/vnd.jupyter.widget-view+json": {
              "model_id": "25ee94b48b6f4f8fab2d15c55f060f0c",
              "version_major": 2,
              "version_minor": 0
            },
            "text/plain": [
              "images_latents_total=8_clip=ruclip-vit-base-patch32-384.npy:   0%|          | 0.00/16.5k [00:00<?, ?B/s]"
            ]
          },
          "metadata": {},
          "output_type": "display_data"
        },
        {
          "data": {
            "application/vnd.jupyter.widget-view+json": {
              "model_id": "59cd6d9a8caf41d49130234d63ac7729",
              "version_major": 2,
              "version_minor": 0
            },
            "text/plain": [
              "Upload 4 LFS files:   0%|          | 0/4 [00:00<?, ?it/s]"
            ]
          },
          "metadata": {},
          "output_type": "display_data"
        },
        {
          "data": {
            "application/vnd.jupyter.widget-view+json": {
              "model_id": "7df544d2e11b44b994044c25825ecbd1",
              "version_major": 2,
              "version_minor": 0
            },
            "text/plain": [
              "opt_sim_pairs=12_q=2_nq=6_sbert=ru-en-RoSBERTa.npy:   0%|          | 0.00/176 [00:00<?, ?B/s]"
            ]
          },
          "metadata": {},
          "output_type": "display_data"
        }
      ],
      "source": [
        "from huggingface_hub import HfApi, login\n",
        "\n",
        "api = HfApi()\n",
        "api.upload_folder(\n",
        "    folder_path=DATA_PATH,  # Path to the local directory\n",
        "    repo_id=\"INDEEPA/clip-siamese\",\n",
        "    repo_type=\"dataset\",\n",
        "    ignore_patterns=['**/*.jpg', \"**/*.webp\"]\n",
        ")"
      ]
    },
    {
      "cell_type": "code",
      "execution_count": null,
      "metadata": {
        "id": "5avLa7-Nh5sm"
      },
      "outputs": [],
      "source": []
    },
    {
      "cell_type": "code",
      "execution_count": null,
      "metadata": {
        "id": "-m9ZCuIXh5sn"
      },
      "outputs": [],
      "source": []
    }
  ],
  "metadata": {
    "accelerator": "GPU",
    "colab": {
      "collapsed_sections": [
        "Xjlhr-wuMgFC"
      ],
      "gpuType": "T4",
      "provenance": []
    },
    "kernelspec": {
      "display_name": "Python 3",
      "name": "python3"
    },
    "language_info": {
      "codemirror_mode": {
        "name": "ipython",
        "version": 3
      },
      "file_extension": ".py",
      "mimetype": "text/x-python",
      "name": "python",
      "nbconvert_exporter": "python",
      "pygments_lexer": "ipython3",
      "version": "3.12.10"
    },
    "widgets": {
      "application/vnd.jupyter.widget-state+json": {
        "006ffb1f4bef4d50b8dd9d93f09431f4": {
          "model_module": "@jupyter-widgets/controls",
          "model_module_version": "1.5.0",
          "model_name": "DescriptionStyleModel",
          "state": {
            "_model_module": "@jupyter-widgets/controls",
            "_model_module_version": "1.5.0",
            "_model_name": "DescriptionStyleModel",
            "_view_count": null,
            "_view_module": "@jupyter-widgets/base",
            "_view_module_version": "1.2.0",
            "_view_name": "StyleView",
            "description_width": ""
          }
        },
        "0c319a4351b740f2bb4050dc0eb42ca4": {
          "model_module": "@jupyter-widgets/controls",
          "model_module_version": "1.5.0",
          "model_name": "HTMLModel",
          "state": {
            "_dom_classes": [],
            "_model_module": "@jupyter-widgets/controls",
            "_model_module_version": "1.5.0",
            "_model_name": "HTMLModel",
            "_view_count": null,
            "_view_module": "@jupyter-widgets/controls",
            "_view_module_version": "1.5.0",
            "_view_name": "HTMLView",
            "description": "",
            "description_tooltip": null,
            "layout": "IPY_MODEL_15a387b90d5744588afc787139034619",
            "placeholder": "​",
            "style": "IPY_MODEL_492158011a9e4448bd1f4da7c983a9e3",
            "value": "Upload 3 LFS files: 100%"
          }
        },
        "1336efed045149d0b8a66517cab765b8": {
          "model_module": "@jupyter-widgets/controls",
          "model_module_version": "1.5.0",
          "model_name": "HTMLModel",
          "state": {
            "_dom_classes": [],
            "_model_module": "@jupyter-widgets/controls",
            "_model_module_version": "1.5.0",
            "_model_name": "HTMLModel",
            "_view_count": null,
            "_view_module": "@jupyter-widgets/controls",
            "_view_module_version": "1.5.0",
            "_view_name": "HTMLView",
            "description": "",
            "description_tooltip": null,
            "layout": "IPY_MODEL_c91e13b27c1945089639761f0c5dcd37",
            "placeholder": "​",
            "style": "IPY_MODEL_1b2f811643e64e2b9efaa6c44ba1416d",
            "value": "siamese_contrastive.pt_final_latents_query-23_nonquery-5539.npy: 100%"
          }
        },
        "15a387b90d5744588afc787139034619": {
          "model_module": "@jupyter-widgets/base",
          "model_module_version": "1.2.0",
          "model_name": "LayoutModel",
          "state": {
            "_model_module": "@jupyter-widgets/base",
            "_model_module_version": "1.2.0",
            "_model_name": "LayoutModel",
            "_view_count": null,
            "_view_module": "@jupyter-widgets/base",
            "_view_module_version": "1.2.0",
            "_view_name": "LayoutView",
            "align_content": null,
            "align_items": null,
            "align_self": null,
            "border": null,
            "bottom": null,
            "display": null,
            "flex": null,
            "flex_flow": null,
            "grid_area": null,
            "grid_auto_columns": null,
            "grid_auto_flow": null,
            "grid_auto_rows": null,
            "grid_column": null,
            "grid_gap": null,
            "grid_row": null,
            "grid_template_areas": null,
            "grid_template_columns": null,
            "grid_template_rows": null,
            "height": null,
            "justify_content": null,
            "justify_items": null,
            "left": null,
            "margin": null,
            "max_height": null,
            "max_width": null,
            "min_height": null,
            "min_width": null,
            "object_fit": null,
            "object_position": null,
            "order": null,
            "overflow": null,
            "overflow_x": null,
            "overflow_y": null,
            "padding": null,
            "right": null,
            "top": null,
            "visibility": null,
            "width": null
          }
        },
        "1b2f811643e64e2b9efaa6c44ba1416d": {
          "model_module": "@jupyter-widgets/controls",
          "model_module_version": "1.5.0",
          "model_name": "DescriptionStyleModel",
          "state": {
            "_model_module": "@jupyter-widgets/controls",
            "_model_module_version": "1.5.0",
            "_model_name": "DescriptionStyleModel",
            "_view_count": null,
            "_view_module": "@jupyter-widgets/base",
            "_view_module_version": "1.2.0",
            "_view_name": "StyleView",
            "description_width": ""
          }
        },
        "22130af665d54bc5b336c0386333a149": {
          "model_module": "@jupyter-widgets/base",
          "model_module_version": "1.2.0",
          "model_name": "LayoutModel",
          "state": {
            "_model_module": "@jupyter-widgets/base",
            "_model_module_version": "1.2.0",
            "_model_name": "LayoutModel",
            "_view_count": null,
            "_view_module": "@jupyter-widgets/base",
            "_view_module_version": "1.2.0",
            "_view_name": "LayoutView",
            "align_content": null,
            "align_items": null,
            "align_self": null,
            "border": null,
            "bottom": null,
            "display": null,
            "flex": null,
            "flex_flow": null,
            "grid_area": null,
            "grid_auto_columns": null,
            "grid_auto_flow": null,
            "grid_auto_rows": null,
            "grid_column": null,
            "grid_gap": null,
            "grid_row": null,
            "grid_template_areas": null,
            "grid_template_columns": null,
            "grid_template_rows": null,
            "height": null,
            "justify_content": null,
            "justify_items": null,
            "left": null,
            "margin": null,
            "max_height": null,
            "max_width": null,
            "min_height": null,
            "min_width": null,
            "object_fit": null,
            "object_position": null,
            "order": null,
            "overflow": null,
            "overflow_x": null,
            "overflow_y": null,
            "padding": null,
            "right": null,
            "top": null,
            "visibility": null,
            "width": null
          }
        },
        "2a9fbd1243394e169cdefe7388ac6fd2": {
          "model_module": "@jupyter-widgets/controls",
          "model_module_version": "1.5.0",
          "model_name": "DescriptionStyleModel",
          "state": {
            "_model_module": "@jupyter-widgets/controls",
            "_model_module_version": "1.5.0",
            "_model_name": "DescriptionStyleModel",
            "_view_count": null,
            "_view_module": "@jupyter-widgets/base",
            "_view_module_version": "1.2.0",
            "_view_name": "StyleView",
            "description_width": ""
          }
        },
        "2f729f2af3684f1fa34cf5d89edf4188": {
          "model_module": "@jupyter-widgets/base",
          "model_module_version": "1.2.0",
          "model_name": "LayoutModel",
          "state": {
            "_model_module": "@jupyter-widgets/base",
            "_model_module_version": "1.2.0",
            "_model_name": "LayoutModel",
            "_view_count": null,
            "_view_module": "@jupyter-widgets/base",
            "_view_module_version": "1.2.0",
            "_view_name": "LayoutView",
            "align_content": null,
            "align_items": null,
            "align_self": null,
            "border": null,
            "bottom": null,
            "display": null,
            "flex": null,
            "flex_flow": null,
            "grid_area": null,
            "grid_auto_columns": null,
            "grid_auto_flow": null,
            "grid_auto_rows": null,
            "grid_column": null,
            "grid_gap": null,
            "grid_row": null,
            "grid_template_areas": null,
            "grid_template_columns": null,
            "grid_template_rows": null,
            "height": null,
            "justify_content": null,
            "justify_items": null,
            "left": null,
            "margin": null,
            "max_height": null,
            "max_width": null,
            "min_height": null,
            "min_width": null,
            "object_fit": null,
            "object_position": null,
            "order": null,
            "overflow": null,
            "overflow_x": null,
            "overflow_y": null,
            "padding": null,
            "right": null,
            "top": null,
            "visibility": null,
            "width": null
          }
        },
        "3127e7e017ea4498bf2d51a501e3ff8f": {
          "model_module": "@jupyter-widgets/controls",
          "model_module_version": "1.5.0",
          "model_name": "DescriptionStyleModel",
          "state": {
            "_model_module": "@jupyter-widgets/controls",
            "_model_module_version": "1.5.0",
            "_model_name": "DescriptionStyleModel",
            "_view_count": null,
            "_view_module": "@jupyter-widgets/base",
            "_view_module_version": "1.2.0",
            "_view_name": "StyleView",
            "description_width": ""
          }
        },
        "418701d376c0465fbe87065f1f394964": {
          "model_module": "@jupyter-widgets/base",
          "model_module_version": "1.2.0",
          "model_name": "LayoutModel",
          "state": {
            "_model_module": "@jupyter-widgets/base",
            "_model_module_version": "1.2.0",
            "_model_name": "LayoutModel",
            "_view_count": null,
            "_view_module": "@jupyter-widgets/base",
            "_view_module_version": "1.2.0",
            "_view_name": "LayoutView",
            "align_content": null,
            "align_items": null,
            "align_self": null,
            "border": null,
            "bottom": null,
            "display": null,
            "flex": null,
            "flex_flow": null,
            "grid_area": null,
            "grid_auto_columns": null,
            "grid_auto_flow": null,
            "grid_auto_rows": null,
            "grid_column": null,
            "grid_gap": null,
            "grid_row": null,
            "grid_template_areas": null,
            "grid_template_columns": null,
            "grid_template_rows": null,
            "height": null,
            "justify_content": null,
            "justify_items": null,
            "left": null,
            "margin": null,
            "max_height": null,
            "max_width": null,
            "min_height": null,
            "min_width": null,
            "object_fit": null,
            "object_position": null,
            "order": null,
            "overflow": null,
            "overflow_x": null,
            "overflow_y": null,
            "padding": null,
            "right": null,
            "top": null,
            "visibility": null,
            "width": null
          }
        },
        "46bd73c620d64b21bb4d126e2f92fdb4": {
          "model_module": "@jupyter-widgets/controls",
          "model_module_version": "1.5.0",
          "model_name": "DescriptionStyleModel",
          "state": {
            "_model_module": "@jupyter-widgets/controls",
            "_model_module_version": "1.5.0",
            "_model_name": "DescriptionStyleModel",
            "_view_count": null,
            "_view_module": "@jupyter-widgets/base",
            "_view_module_version": "1.2.0",
            "_view_name": "StyleView",
            "description_width": ""
          }
        },
        "492158011a9e4448bd1f4da7c983a9e3": {
          "model_module": "@jupyter-widgets/controls",
          "model_module_version": "1.5.0",
          "model_name": "DescriptionStyleModel",
          "state": {
            "_model_module": "@jupyter-widgets/controls",
            "_model_module_version": "1.5.0",
            "_model_name": "DescriptionStyleModel",
            "_view_count": null,
            "_view_module": "@jupyter-widgets/base",
            "_view_module_version": "1.2.0",
            "_view_name": "StyleView",
            "description_width": ""
          }
        },
        "4a17b7bd36d3410eb00d65395317dfa3": {
          "model_module": "@jupyter-widgets/base",
          "model_module_version": "1.2.0",
          "model_name": "LayoutModel",
          "state": {
            "_model_module": "@jupyter-widgets/base",
            "_model_module_version": "1.2.0",
            "_model_name": "LayoutModel",
            "_view_count": null,
            "_view_module": "@jupyter-widgets/base",
            "_view_module_version": "1.2.0",
            "_view_name": "LayoutView",
            "align_content": null,
            "align_items": null,
            "align_self": null,
            "border": null,
            "bottom": null,
            "display": null,
            "flex": null,
            "flex_flow": null,
            "grid_area": null,
            "grid_auto_columns": null,
            "grid_auto_flow": null,
            "grid_auto_rows": null,
            "grid_column": null,
            "grid_gap": null,
            "grid_row": null,
            "grid_template_areas": null,
            "grid_template_columns": null,
            "grid_template_rows": null,
            "height": null,
            "justify_content": null,
            "justify_items": null,
            "left": null,
            "margin": null,
            "max_height": null,
            "max_width": null,
            "min_height": null,
            "min_width": null,
            "object_fit": null,
            "object_position": null,
            "order": null,
            "overflow": null,
            "overflow_x": null,
            "overflow_y": null,
            "padding": null,
            "right": null,
            "top": null,
            "visibility": null,
            "width": null
          }
        },
        "4a73565f676c4f15b6eb0a473629a756": {
          "model_module": "@jupyter-widgets/base",
          "model_module_version": "1.2.0",
          "model_name": "LayoutModel",
          "state": {
            "_model_module": "@jupyter-widgets/base",
            "_model_module_version": "1.2.0",
            "_model_name": "LayoutModel",
            "_view_count": null,
            "_view_module": "@jupyter-widgets/base",
            "_view_module_version": "1.2.0",
            "_view_name": "LayoutView",
            "align_content": null,
            "align_items": null,
            "align_self": null,
            "border": null,
            "bottom": null,
            "display": null,
            "flex": null,
            "flex_flow": null,
            "grid_area": null,
            "grid_auto_columns": null,
            "grid_auto_flow": null,
            "grid_auto_rows": null,
            "grid_column": null,
            "grid_gap": null,
            "grid_row": null,
            "grid_template_areas": null,
            "grid_template_columns": null,
            "grid_template_rows": null,
            "height": null,
            "justify_content": null,
            "justify_items": null,
            "left": null,
            "margin": null,
            "max_height": null,
            "max_width": null,
            "min_height": null,
            "min_width": null,
            "object_fit": null,
            "object_position": null,
            "order": null,
            "overflow": null,
            "overflow_x": null,
            "overflow_y": null,
            "padding": null,
            "right": null,
            "top": null,
            "visibility": null,
            "width": null
          }
        },
        "511949d6df2846d2af1a53d9aee5cc4d": {
          "model_module": "@jupyter-widgets/controls",
          "model_module_version": "1.5.0",
          "model_name": "FloatProgressModel",
          "state": {
            "_dom_classes": [],
            "_model_module": "@jupyter-widgets/controls",
            "_model_module_version": "1.5.0",
            "_model_name": "FloatProgressModel",
            "_view_count": null,
            "_view_module": "@jupyter-widgets/controls",
            "_view_module_version": "1.5.0",
            "_view_name": "ProgressView",
            "bar_style": "success",
            "description": "",
            "description_tooltip": null,
            "layout": "IPY_MODEL_6f685d9ac2654eedb7acef5fd33c3c40",
            "max": 10278704,
            "min": 0,
            "orientation": "horizontal",
            "style": "IPY_MODEL_5d7cbec49735406fa9381bd8b392b9c1",
            "value": 10278704
          }
        },
        "524d2e0aa1864d258ddcc87fd2d30186": {
          "model_module": "@jupyter-widgets/controls",
          "model_module_version": "1.5.0",
          "model_name": "FloatProgressModel",
          "state": {
            "_dom_classes": [],
            "_model_module": "@jupyter-widgets/controls",
            "_model_module_version": "1.5.0",
            "_model_name": "FloatProgressModel",
            "_view_count": null,
            "_view_module": "@jupyter-widgets/controls",
            "_view_module_version": "1.5.0",
            "_view_name": "ProgressView",
            "bar_style": "success",
            "description": "",
            "description_tooltip": null,
            "layout": "IPY_MODEL_4a17b7bd36d3410eb00d65395317dfa3",
            "max": 4728,
            "min": 0,
            "orientation": "horizontal",
            "style": "IPY_MODEL_8cb21b7c36f341ca87c79c35520b0b50",
            "value": 4728
          }
        },
        "57442b444910463aac507589bce9d1c3": {
          "model_module": "@jupyter-widgets/controls",
          "model_module_version": "1.5.0",
          "model_name": "ProgressStyleModel",
          "state": {
            "_model_module": "@jupyter-widgets/controls",
            "_model_module_version": "1.5.0",
            "_model_name": "ProgressStyleModel",
            "_view_count": null,
            "_view_module": "@jupyter-widgets/base",
            "_view_module_version": "1.2.0",
            "_view_name": "StyleView",
            "bar_color": null,
            "description_width": ""
          }
        },
        "5d7cbec49735406fa9381bd8b392b9c1": {
          "model_module": "@jupyter-widgets/controls",
          "model_module_version": "1.5.0",
          "model_name": "ProgressStyleModel",
          "state": {
            "_model_module": "@jupyter-widgets/controls",
            "_model_module_version": "1.5.0",
            "_model_name": "ProgressStyleModel",
            "_view_count": null,
            "_view_module": "@jupyter-widgets/base",
            "_view_module_version": "1.2.0",
            "_view_name": "StyleView",
            "bar_color": null,
            "description_width": ""
          }
        },
        "692bf4236fad4b7fa1426e353b28120e": {
          "model_module": "@jupyter-widgets/controls",
          "model_module_version": "1.5.0",
          "model_name": "DescriptionStyleModel",
          "state": {
            "_model_module": "@jupyter-widgets/controls",
            "_model_module_version": "1.5.0",
            "_model_name": "DescriptionStyleModel",
            "_view_count": null,
            "_view_module": "@jupyter-widgets/base",
            "_view_module_version": "1.2.0",
            "_view_name": "StyleView",
            "description_width": ""
          }
        },
        "6dc06697dedd404bb917049fecbd00c3": {
          "model_module": "@jupyter-widgets/controls",
          "model_module_version": "1.5.0",
          "model_name": "HTMLModel",
          "state": {
            "_dom_classes": [],
            "_model_module": "@jupyter-widgets/controls",
            "_model_module_version": "1.5.0",
            "_model_name": "HTMLModel",
            "_view_count": null,
            "_view_module": "@jupyter-widgets/controls",
            "_view_module_version": "1.5.0",
            "_view_name": "HTMLView",
            "description": "",
            "description_tooltip": null,
            "layout": "IPY_MODEL_b354a66ed5ca4aa9a7ef028267f65959",
            "placeholder": "​",
            "style": "IPY_MODEL_692bf4236fad4b7fa1426e353b28120e",
            "value": "siamese_contrastive.pt_desc_sim_pairs-1150.npy: 100%"
          }
        },
        "6f685d9ac2654eedb7acef5fd33c3c40": {
          "model_module": "@jupyter-widgets/base",
          "model_module_version": "1.2.0",
          "model_name": "LayoutModel",
          "state": {
            "_model_module": "@jupyter-widgets/base",
            "_model_module_version": "1.2.0",
            "_model_name": "LayoutModel",
            "_view_count": null,
            "_view_module": "@jupyter-widgets/base",
            "_view_module_version": "1.2.0",
            "_view_name": "LayoutView",
            "align_content": null,
            "align_items": null,
            "align_self": null,
            "border": null,
            "bottom": null,
            "display": null,
            "flex": null,
            "flex_flow": null,
            "grid_area": null,
            "grid_auto_columns": null,
            "grid_auto_flow": null,
            "grid_auto_rows": null,
            "grid_column": null,
            "grid_gap": null,
            "grid_row": null,
            "grid_template_areas": null,
            "grid_template_columns": null,
            "grid_template_rows": null,
            "height": null,
            "justify_content": null,
            "justify_items": null,
            "left": null,
            "margin": null,
            "max_height": null,
            "max_width": null,
            "min_height": null,
            "min_width": null,
            "object_fit": null,
            "object_position": null,
            "order": null,
            "overflow": null,
            "overflow_x": null,
            "overflow_y": null,
            "padding": null,
            "right": null,
            "top": null,
            "visibility": null,
            "width": null
          }
        },
        "6fdb451e788f41408c44945b13bc3303": {
          "model_module": "@jupyter-widgets/controls",
          "model_module_version": "1.5.0",
          "model_name": "DescriptionStyleModel",
          "state": {
            "_model_module": "@jupyter-widgets/controls",
            "_model_module_version": "1.5.0",
            "_model_name": "DescriptionStyleModel",
            "_view_count": null,
            "_view_module": "@jupyter-widgets/base",
            "_view_module_version": "1.2.0",
            "_view_name": "StyleView",
            "description_width": ""
          }
        },
        "6fefce2196d94ec7a85b0a6b7a8df5c5": {
          "model_module": "@jupyter-widgets/controls",
          "model_module_version": "1.5.0",
          "model_name": "ProgressStyleModel",
          "state": {
            "_model_module": "@jupyter-widgets/controls",
            "_model_module_version": "1.5.0",
            "_model_name": "ProgressStyleModel",
            "_view_count": null,
            "_view_module": "@jupyter-widgets/base",
            "_view_module_version": "1.2.0",
            "_view_name": "StyleView",
            "bar_color": null,
            "description_width": ""
          }
        },
        "7df529db36f247ed9d5b867b96d62b86": {
          "model_module": "@jupyter-widgets/base",
          "model_module_version": "1.2.0",
          "model_name": "LayoutModel",
          "state": {
            "_model_module": "@jupyter-widgets/base",
            "_model_module_version": "1.2.0",
            "_model_name": "LayoutModel",
            "_view_count": null,
            "_view_module": "@jupyter-widgets/base",
            "_view_module_version": "1.2.0",
            "_view_name": "LayoutView",
            "align_content": null,
            "align_items": null,
            "align_self": null,
            "border": null,
            "bottom": null,
            "display": null,
            "flex": null,
            "flex_flow": null,
            "grid_area": null,
            "grid_auto_columns": null,
            "grid_auto_flow": null,
            "grid_auto_rows": null,
            "grid_column": null,
            "grid_gap": null,
            "grid_row": null,
            "grid_template_areas": null,
            "grid_template_columns": null,
            "grid_template_rows": null,
            "height": null,
            "justify_content": null,
            "justify_items": null,
            "left": null,
            "margin": null,
            "max_height": null,
            "max_width": null,
            "min_height": null,
            "min_width": null,
            "object_fit": null,
            "object_position": null,
            "order": null,
            "overflow": null,
            "overflow_x": null,
            "overflow_y": null,
            "padding": null,
            "right": null,
            "top": null,
            "visibility": null,
            "width": null
          }
        },
        "812b0c19f0834232b04ec2cb178d089d": {
          "model_module": "@jupyter-widgets/controls",
          "model_module_version": "1.5.0",
          "model_name": "HBoxModel",
          "state": {
            "_dom_classes": [],
            "_model_module": "@jupyter-widgets/controls",
            "_model_module_version": "1.5.0",
            "_model_name": "HBoxModel",
            "_view_count": null,
            "_view_module": "@jupyter-widgets/controls",
            "_view_module_version": "1.5.0",
            "_view_name": "HBoxView",
            "box_style": "",
            "children": [
              "IPY_MODEL_6dc06697dedd404bb917049fecbd00c3",
              "IPY_MODEL_524d2e0aa1864d258ddcc87fd2d30186",
              "IPY_MODEL_b7a57997ac9543b7b298f5d0f4484dc9"
            ],
            "layout": "IPY_MODEL_22130af665d54bc5b336c0386333a149"
          }
        },
        "88ef6655d2594112abfb7935af4ac6c0": {
          "model_module": "@jupyter-widgets/controls",
          "model_module_version": "1.5.0",
          "model_name": "HBoxModel",
          "state": {
            "_dom_classes": [],
            "_model_module": "@jupyter-widgets/controls",
            "_model_module_version": "1.5.0",
            "_model_name": "HBoxModel",
            "_view_count": null,
            "_view_module": "@jupyter-widgets/controls",
            "_view_module_version": "1.5.0",
            "_view_name": "HBoxView",
            "box_style": "",
            "children": [
              "IPY_MODEL_93b97129b6f74e0198e41069367be034",
              "IPY_MODEL_ae8c0afb9ee34270b5a018f6e4113ef5",
              "IPY_MODEL_8d8396760722481999ab1641eb441dfe"
            ],
            "layout": "IPY_MODEL_ea9bd2ca59f74c23bf1987118f423e77"
          }
        },
        "8a9a32cbfd474cf9bc6c97deb9e4ab57": {
          "model_module": "@jupyter-widgets/controls",
          "model_module_version": "1.5.0",
          "model_name": "DescriptionStyleModel",
          "state": {
            "_model_module": "@jupyter-widgets/controls",
            "_model_module_version": "1.5.0",
            "_model_name": "DescriptionStyleModel",
            "_view_count": null,
            "_view_module": "@jupyter-widgets/base",
            "_view_module_version": "1.2.0",
            "_view_name": "StyleView",
            "description_width": ""
          }
        },
        "8cb21b7c36f341ca87c79c35520b0b50": {
          "model_module": "@jupyter-widgets/controls",
          "model_module_version": "1.5.0",
          "model_name": "ProgressStyleModel",
          "state": {
            "_model_module": "@jupyter-widgets/controls",
            "_model_module_version": "1.5.0",
            "_model_name": "ProgressStyleModel",
            "_view_count": null,
            "_view_module": "@jupyter-widgets/base",
            "_view_module_version": "1.2.0",
            "_view_name": "StyleView",
            "bar_color": null,
            "description_width": ""
          }
        },
        "8d8396760722481999ab1641eb441dfe": {
          "model_module": "@jupyter-widgets/controls",
          "model_module_version": "1.5.0",
          "model_name": "HTMLModel",
          "state": {
            "_dom_classes": [],
            "_model_module": "@jupyter-widgets/controls",
            "_model_module_version": "1.5.0",
            "_model_name": "HTMLModel",
            "_view_count": null,
            "_view_module": "@jupyter-widgets/controls",
            "_view_module_version": "1.5.0",
            "_view_name": "HTMLView",
            "description": "",
            "description_tooltip": null,
            "layout": "IPY_MODEL_91bfc03f9aca4b0ca508c559cc384064",
            "placeholder": "​",
            "style": "IPY_MODEL_46bd73c620d64b21bb4d126e2f92fdb4",
            "value": " 4.73k/4.73k [00:00&lt;00:00, 23.4kB/s]"
          }
        },
        "91bfc03f9aca4b0ca508c559cc384064": {
          "model_module": "@jupyter-widgets/base",
          "model_module_version": "1.2.0",
          "model_name": "LayoutModel",
          "state": {
            "_model_module": "@jupyter-widgets/base",
            "_model_module_version": "1.2.0",
            "_model_name": "LayoutModel",
            "_view_count": null,
            "_view_module": "@jupyter-widgets/base",
            "_view_module_version": "1.2.0",
            "_view_name": "LayoutView",
            "align_content": null,
            "align_items": null,
            "align_self": null,
            "border": null,
            "bottom": null,
            "display": null,
            "flex": null,
            "flex_flow": null,
            "grid_area": null,
            "grid_auto_columns": null,
            "grid_auto_flow": null,
            "grid_auto_rows": null,
            "grid_column": null,
            "grid_gap": null,
            "grid_row": null,
            "grid_template_areas": null,
            "grid_template_columns": null,
            "grid_template_rows": null,
            "height": null,
            "justify_content": null,
            "justify_items": null,
            "left": null,
            "margin": null,
            "max_height": null,
            "max_width": null,
            "min_height": null,
            "min_width": null,
            "object_fit": null,
            "object_position": null,
            "order": null,
            "overflow": null,
            "overflow_x": null,
            "overflow_y": null,
            "padding": null,
            "right": null,
            "top": null,
            "visibility": null,
            "width": null
          }
        },
        "93b97129b6f74e0198e41069367be034": {
          "model_module": "@jupyter-widgets/controls",
          "model_module_version": "1.5.0",
          "model_name": "HTMLModel",
          "state": {
            "_dom_classes": [],
            "_model_module": "@jupyter-widgets/controls",
            "_model_module_version": "1.5.0",
            "_model_name": "HTMLModel",
            "_view_count": null,
            "_view_module": "@jupyter-widgets/controls",
            "_view_module_version": "1.5.0",
            "_view_name": "HTMLView",
            "description": "",
            "description_tooltip": null,
            "layout": "IPY_MODEL_fccf547e1c67434eb44eb3ac422fcf5f",
            "placeholder": "​",
            "style": "IPY_MODEL_3127e7e017ea4498bf2d51a501e3ff8f",
            "value": "siamese_contrastive.pt_opt_sim_pairs-1150.npy: 100%"
          }
        },
        "9b51b42c42284a488f3398ca2b44eef9": {
          "model_module": "@jupyter-widgets/controls",
          "model_module_version": "1.5.0",
          "model_name": "HTMLModel",
          "state": {
            "_dom_classes": [],
            "_model_module": "@jupyter-widgets/controls",
            "_model_module_version": "1.5.0",
            "_model_name": "HTMLModel",
            "_view_count": null,
            "_view_module": "@jupyter-widgets/controls",
            "_view_module_version": "1.5.0",
            "_view_name": "HTMLView",
            "description": "",
            "description_tooltip": null,
            "layout": "IPY_MODEL_4a73565f676c4f15b6eb0a473629a756",
            "placeholder": "​",
            "style": "IPY_MODEL_f479fcaeae0842c6b6ce6120f235944c",
            "value": "Fetching 66 files: 100%"
          }
        },
        "9b77240a82474809b2fcfb9cbefb3ffc": {
          "model_module": "@jupyter-widgets/controls",
          "model_module_version": "1.5.0",
          "model_name": "FloatProgressModel",
          "state": {
            "_dom_classes": [],
            "_model_module": "@jupyter-widgets/controls",
            "_model_module_version": "1.5.0",
            "_model_name": "FloatProgressModel",
            "_view_count": null,
            "_view_module": "@jupyter-widgets/controls",
            "_view_module_version": "1.5.0",
            "_view_name": "ProgressView",
            "bar_style": "success",
            "description": "",
            "description_tooltip": null,
            "layout": "IPY_MODEL_418701d376c0465fbe87065f1f394964",
            "max": 3,
            "min": 0,
            "orientation": "horizontal",
            "style": "IPY_MODEL_dcd882741da944f08fa16ead57c26f13",
            "value": 3
          }
        },
        "9f6156cd7fb341b7bc62be04e1f9afdd": {
          "model_module": "@jupyter-widgets/controls",
          "model_module_version": "1.5.0",
          "model_name": "HBoxModel",
          "state": {
            "_dom_classes": [],
            "_model_module": "@jupyter-widgets/controls",
            "_model_module_version": "1.5.0",
            "_model_name": "HBoxModel",
            "_view_count": null,
            "_view_module": "@jupyter-widgets/controls",
            "_view_module_version": "1.5.0",
            "_view_name": "HBoxView",
            "box_style": "",
            "children": [
              "IPY_MODEL_1336efed045149d0b8a66517cab765b8",
              "IPY_MODEL_511949d6df2846d2af1a53d9aee5cc4d",
              "IPY_MODEL_ddfa7a2e547f4fa2a7deac534f25f0fd"
            ],
            "layout": "IPY_MODEL_e27007b354484d27b97336975b15a1a8"
          }
        },
        "a41dc81908894fb4929f84307ccf4431": {
          "model_module": "@jupyter-widgets/base",
          "model_module_version": "1.2.0",
          "model_name": "LayoutModel",
          "state": {
            "_model_module": "@jupyter-widgets/base",
            "_model_module_version": "1.2.0",
            "_model_name": "LayoutModel",
            "_view_count": null,
            "_view_module": "@jupyter-widgets/base",
            "_view_module_version": "1.2.0",
            "_view_name": "LayoutView",
            "align_content": null,
            "align_items": null,
            "align_self": null,
            "border": null,
            "bottom": null,
            "display": null,
            "flex": null,
            "flex_flow": null,
            "grid_area": null,
            "grid_auto_columns": null,
            "grid_auto_flow": null,
            "grid_auto_rows": null,
            "grid_column": null,
            "grid_gap": null,
            "grid_row": null,
            "grid_template_areas": null,
            "grid_template_columns": null,
            "grid_template_rows": null,
            "height": null,
            "justify_content": null,
            "justify_items": null,
            "left": null,
            "margin": null,
            "max_height": null,
            "max_width": null,
            "min_height": null,
            "min_width": null,
            "object_fit": null,
            "object_position": null,
            "order": null,
            "overflow": null,
            "overflow_x": null,
            "overflow_y": null,
            "padding": null,
            "right": null,
            "top": null,
            "visibility": null,
            "width": null
          }
        },
        "aa466c2ee99e4fe1a90f947b54e62f59": {
          "model_module": "@jupyter-widgets/base",
          "model_module_version": "1.2.0",
          "model_name": "LayoutModel",
          "state": {
            "_model_module": "@jupyter-widgets/base",
            "_model_module_version": "1.2.0",
            "_model_name": "LayoutModel",
            "_view_count": null,
            "_view_module": "@jupyter-widgets/base",
            "_view_module_version": "1.2.0",
            "_view_name": "LayoutView",
            "align_content": null,
            "align_items": null,
            "align_self": null,
            "border": null,
            "bottom": null,
            "display": null,
            "flex": null,
            "flex_flow": null,
            "grid_area": null,
            "grid_auto_columns": null,
            "grid_auto_flow": null,
            "grid_auto_rows": null,
            "grid_column": null,
            "grid_gap": null,
            "grid_row": null,
            "grid_template_areas": null,
            "grid_template_columns": null,
            "grid_template_rows": null,
            "height": null,
            "justify_content": null,
            "justify_items": null,
            "left": null,
            "margin": null,
            "max_height": null,
            "max_width": null,
            "min_height": null,
            "min_width": null,
            "object_fit": null,
            "object_position": null,
            "order": null,
            "overflow": null,
            "overflow_x": null,
            "overflow_y": null,
            "padding": null,
            "right": null,
            "top": null,
            "visibility": null,
            "width": null
          }
        },
        "ae8c0afb9ee34270b5a018f6e4113ef5": {
          "model_module": "@jupyter-widgets/controls",
          "model_module_version": "1.5.0",
          "model_name": "FloatProgressModel",
          "state": {
            "_dom_classes": [],
            "_model_module": "@jupyter-widgets/controls",
            "_model_module_version": "1.5.0",
            "_model_name": "FloatProgressModel",
            "_view_count": null,
            "_view_module": "@jupyter-widgets/controls",
            "_view_module_version": "1.5.0",
            "_view_name": "ProgressView",
            "bar_style": "success",
            "description": "",
            "description_tooltip": null,
            "layout": "IPY_MODEL_a41dc81908894fb4929f84307ccf4431",
            "max": 4728,
            "min": 0,
            "orientation": "horizontal",
            "style": "IPY_MODEL_57442b444910463aac507589bce9d1c3",
            "value": 4728
          }
        },
        "b354a66ed5ca4aa9a7ef028267f65959": {
          "model_module": "@jupyter-widgets/base",
          "model_module_version": "1.2.0",
          "model_name": "LayoutModel",
          "state": {
            "_model_module": "@jupyter-widgets/base",
            "_model_module_version": "1.2.0",
            "_model_name": "LayoutModel",
            "_view_count": null,
            "_view_module": "@jupyter-widgets/base",
            "_view_module_version": "1.2.0",
            "_view_name": "LayoutView",
            "align_content": null,
            "align_items": null,
            "align_self": null,
            "border": null,
            "bottom": null,
            "display": null,
            "flex": null,
            "flex_flow": null,
            "grid_area": null,
            "grid_auto_columns": null,
            "grid_auto_flow": null,
            "grid_auto_rows": null,
            "grid_column": null,
            "grid_gap": null,
            "grid_row": null,
            "grid_template_areas": null,
            "grid_template_columns": null,
            "grid_template_rows": null,
            "height": null,
            "justify_content": null,
            "justify_items": null,
            "left": null,
            "margin": null,
            "max_height": null,
            "max_width": null,
            "min_height": null,
            "min_width": null,
            "object_fit": null,
            "object_position": null,
            "order": null,
            "overflow": null,
            "overflow_x": null,
            "overflow_y": null,
            "padding": null,
            "right": null,
            "top": null,
            "visibility": null,
            "width": null
          }
        },
        "b531eebe3949426cbe09de5a0da62887": {
          "model_module": "@jupyter-widgets/base",
          "model_module_version": "1.2.0",
          "model_name": "LayoutModel",
          "state": {
            "_model_module": "@jupyter-widgets/base",
            "_model_module_version": "1.2.0",
            "_model_name": "LayoutModel",
            "_view_count": null,
            "_view_module": "@jupyter-widgets/base",
            "_view_module_version": "1.2.0",
            "_view_name": "LayoutView",
            "align_content": null,
            "align_items": null,
            "align_self": null,
            "border": null,
            "bottom": null,
            "display": null,
            "flex": null,
            "flex_flow": null,
            "grid_area": null,
            "grid_auto_columns": null,
            "grid_auto_flow": null,
            "grid_auto_rows": null,
            "grid_column": null,
            "grid_gap": null,
            "grid_row": null,
            "grid_template_areas": null,
            "grid_template_columns": null,
            "grid_template_rows": null,
            "height": null,
            "justify_content": null,
            "justify_items": null,
            "left": null,
            "margin": null,
            "max_height": null,
            "max_width": null,
            "min_height": null,
            "min_width": null,
            "object_fit": null,
            "object_position": null,
            "order": null,
            "overflow": null,
            "overflow_x": null,
            "overflow_y": null,
            "padding": null,
            "right": null,
            "top": null,
            "visibility": null,
            "width": null
          }
        },
        "b7a57997ac9543b7b298f5d0f4484dc9": {
          "model_module": "@jupyter-widgets/controls",
          "model_module_version": "1.5.0",
          "model_name": "HTMLModel",
          "state": {
            "_dom_classes": [],
            "_model_module": "@jupyter-widgets/controls",
            "_model_module_version": "1.5.0",
            "_model_name": "HTMLModel",
            "_view_count": null,
            "_view_module": "@jupyter-widgets/controls",
            "_view_module_version": "1.5.0",
            "_view_name": "HTMLView",
            "description": "",
            "description_tooltip": null,
            "layout": "IPY_MODEL_b83290c0d4884624a3300c74cf131b24",
            "placeholder": "​",
            "style": "IPY_MODEL_6fdb451e788f41408c44945b13bc3303",
            "value": " 4.73k/4.73k [00:00&lt;00:00, 24.8kB/s]"
          }
        },
        "b83290c0d4884624a3300c74cf131b24": {
          "model_module": "@jupyter-widgets/base",
          "model_module_version": "1.2.0",
          "model_name": "LayoutModel",
          "state": {
            "_model_module": "@jupyter-widgets/base",
            "_model_module_version": "1.2.0",
            "_model_name": "LayoutModel",
            "_view_count": null,
            "_view_module": "@jupyter-widgets/base",
            "_view_module_version": "1.2.0",
            "_view_name": "LayoutView",
            "align_content": null,
            "align_items": null,
            "align_self": null,
            "border": null,
            "bottom": null,
            "display": null,
            "flex": null,
            "flex_flow": null,
            "grid_area": null,
            "grid_auto_columns": null,
            "grid_auto_flow": null,
            "grid_auto_rows": null,
            "grid_column": null,
            "grid_gap": null,
            "grid_row": null,
            "grid_template_areas": null,
            "grid_template_columns": null,
            "grid_template_rows": null,
            "height": null,
            "justify_content": null,
            "justify_items": null,
            "left": null,
            "margin": null,
            "max_height": null,
            "max_width": null,
            "min_height": null,
            "min_width": null,
            "object_fit": null,
            "object_position": null,
            "order": null,
            "overflow": null,
            "overflow_x": null,
            "overflow_y": null,
            "padding": null,
            "right": null,
            "top": null,
            "visibility": null,
            "width": null
          }
        },
        "bab039939f9d4daa855fe1138ec7370b": {
          "model_module": "@jupyter-widgets/controls",
          "model_module_version": "1.5.0",
          "model_name": "HBoxModel",
          "state": {
            "_dom_classes": [],
            "_model_module": "@jupyter-widgets/controls",
            "_model_module_version": "1.5.0",
            "_model_name": "HBoxModel",
            "_view_count": null,
            "_view_module": "@jupyter-widgets/controls",
            "_view_module_version": "1.5.0",
            "_view_name": "HBoxView",
            "box_style": "",
            "children": [
              "IPY_MODEL_9b51b42c42284a488f3398ca2b44eef9",
              "IPY_MODEL_c6fbfe9e485f43cb8b25022d4457ca1b",
              "IPY_MODEL_efc429459e0847069919d419ef7cd331"
            ],
            "layout": "IPY_MODEL_bb96242b10474f67b14d819b68f543ad"
          }
        },
        "bb96242b10474f67b14d819b68f543ad": {
          "model_module": "@jupyter-widgets/base",
          "model_module_version": "1.2.0",
          "model_name": "LayoutModel",
          "state": {
            "_model_module": "@jupyter-widgets/base",
            "_model_module_version": "1.2.0",
            "_model_name": "LayoutModel",
            "_view_count": null,
            "_view_module": "@jupyter-widgets/base",
            "_view_module_version": "1.2.0",
            "_view_name": "LayoutView",
            "align_content": null,
            "align_items": null,
            "align_self": null,
            "border": null,
            "bottom": null,
            "display": null,
            "flex": null,
            "flex_flow": null,
            "grid_area": null,
            "grid_auto_columns": null,
            "grid_auto_flow": null,
            "grid_auto_rows": null,
            "grid_column": null,
            "grid_gap": null,
            "grid_row": null,
            "grid_template_areas": null,
            "grid_template_columns": null,
            "grid_template_rows": null,
            "height": null,
            "justify_content": null,
            "justify_items": null,
            "left": null,
            "margin": null,
            "max_height": null,
            "max_width": null,
            "min_height": null,
            "min_width": null,
            "object_fit": null,
            "object_position": null,
            "order": null,
            "overflow": null,
            "overflow_x": null,
            "overflow_y": null,
            "padding": null,
            "right": null,
            "top": null,
            "visibility": null,
            "width": null
          }
        },
        "c6fbfe9e485f43cb8b25022d4457ca1b": {
          "model_module": "@jupyter-widgets/controls",
          "model_module_version": "1.5.0",
          "model_name": "FloatProgressModel",
          "state": {
            "_dom_classes": [],
            "_model_module": "@jupyter-widgets/controls",
            "_model_module_version": "1.5.0",
            "_model_name": "FloatProgressModel",
            "_view_count": null,
            "_view_module": "@jupyter-widgets/controls",
            "_view_module_version": "1.5.0",
            "_view_name": "ProgressView",
            "bar_style": "success",
            "description": "",
            "description_tooltip": null,
            "layout": "IPY_MODEL_2f729f2af3684f1fa34cf5d89edf4188",
            "max": 66,
            "min": 0,
            "orientation": "horizontal",
            "style": "IPY_MODEL_6fefce2196d94ec7a85b0a6b7a8df5c5",
            "value": 66
          }
        },
        "c91e13b27c1945089639761f0c5dcd37": {
          "model_module": "@jupyter-widgets/base",
          "model_module_version": "1.2.0",
          "model_name": "LayoutModel",
          "state": {
            "_model_module": "@jupyter-widgets/base",
            "_model_module_version": "1.2.0",
            "_model_name": "LayoutModel",
            "_view_count": null,
            "_view_module": "@jupyter-widgets/base",
            "_view_module_version": "1.2.0",
            "_view_name": "LayoutView",
            "align_content": null,
            "align_items": null,
            "align_self": null,
            "border": null,
            "bottom": null,
            "display": null,
            "flex": null,
            "flex_flow": null,
            "grid_area": null,
            "grid_auto_columns": null,
            "grid_auto_flow": null,
            "grid_auto_rows": null,
            "grid_column": null,
            "grid_gap": null,
            "grid_row": null,
            "grid_template_areas": null,
            "grid_template_columns": null,
            "grid_template_rows": null,
            "height": null,
            "justify_content": null,
            "justify_items": null,
            "left": null,
            "margin": null,
            "max_height": null,
            "max_width": null,
            "min_height": null,
            "min_width": null,
            "object_fit": null,
            "object_position": null,
            "order": null,
            "overflow": null,
            "overflow_x": null,
            "overflow_y": null,
            "padding": null,
            "right": null,
            "top": null,
            "visibility": null,
            "width": null
          }
        },
        "dcd882741da944f08fa16ead57c26f13": {
          "model_module": "@jupyter-widgets/controls",
          "model_module_version": "1.5.0",
          "model_name": "ProgressStyleModel",
          "state": {
            "_model_module": "@jupyter-widgets/controls",
            "_model_module_version": "1.5.0",
            "_model_name": "ProgressStyleModel",
            "_view_count": null,
            "_view_module": "@jupyter-widgets/base",
            "_view_module_version": "1.2.0",
            "_view_name": "StyleView",
            "bar_color": null,
            "description_width": ""
          }
        },
        "ddfa7a2e547f4fa2a7deac534f25f0fd": {
          "model_module": "@jupyter-widgets/controls",
          "model_module_version": "1.5.0",
          "model_name": "HTMLModel",
          "state": {
            "_dom_classes": [],
            "_model_module": "@jupyter-widgets/controls",
            "_model_module_version": "1.5.0",
            "_model_name": "HTMLModel",
            "_view_count": null,
            "_view_module": "@jupyter-widgets/controls",
            "_view_module_version": "1.5.0",
            "_view_name": "HTMLView",
            "description": "",
            "description_tooltip": null,
            "layout": "IPY_MODEL_fbcc2af80c224036ac507634b141b398",
            "placeholder": "​",
            "style": "IPY_MODEL_2a9fbd1243394e169cdefe7388ac6fd2",
            "value": " 10.3M/10.3M [00:00&lt;00:00, 5.50MB/s]"
          }
        },
        "e11028c6bcd94290b5e0543b19888e67": {
          "model_module": "@jupyter-widgets/controls",
          "model_module_version": "1.5.0",
          "model_name": "HBoxModel",
          "state": {
            "_dom_classes": [],
            "_model_module": "@jupyter-widgets/controls",
            "_model_module_version": "1.5.0",
            "_model_name": "HBoxModel",
            "_view_count": null,
            "_view_module": "@jupyter-widgets/controls",
            "_view_module_version": "1.5.0",
            "_view_name": "HBoxView",
            "box_style": "",
            "children": [
              "IPY_MODEL_0c319a4351b740f2bb4050dc0eb42ca4",
              "IPY_MODEL_9b77240a82474809b2fcfb9cbefb3ffc",
              "IPY_MODEL_ea10207cefa44b4fb764255de3359573"
            ],
            "layout": "IPY_MODEL_b531eebe3949426cbe09de5a0da62887"
          }
        },
        "e27007b354484d27b97336975b15a1a8": {
          "model_module": "@jupyter-widgets/base",
          "model_module_version": "1.2.0",
          "model_name": "LayoutModel",
          "state": {
            "_model_module": "@jupyter-widgets/base",
            "_model_module_version": "1.2.0",
            "_model_name": "LayoutModel",
            "_view_count": null,
            "_view_module": "@jupyter-widgets/base",
            "_view_module_version": "1.2.0",
            "_view_name": "LayoutView",
            "align_content": null,
            "align_items": null,
            "align_self": null,
            "border": null,
            "bottom": null,
            "display": null,
            "flex": null,
            "flex_flow": null,
            "grid_area": null,
            "grid_auto_columns": null,
            "grid_auto_flow": null,
            "grid_auto_rows": null,
            "grid_column": null,
            "grid_gap": null,
            "grid_row": null,
            "grid_template_areas": null,
            "grid_template_columns": null,
            "grid_template_rows": null,
            "height": null,
            "justify_content": null,
            "justify_items": null,
            "left": null,
            "margin": null,
            "max_height": null,
            "max_width": null,
            "min_height": null,
            "min_width": null,
            "object_fit": null,
            "object_position": null,
            "order": null,
            "overflow": null,
            "overflow_x": null,
            "overflow_y": null,
            "padding": null,
            "right": null,
            "top": null,
            "visibility": null,
            "width": null
          }
        },
        "ea10207cefa44b4fb764255de3359573": {
          "model_module": "@jupyter-widgets/controls",
          "model_module_version": "1.5.0",
          "model_name": "HTMLModel",
          "state": {
            "_dom_classes": [],
            "_model_module": "@jupyter-widgets/controls",
            "_model_module_version": "1.5.0",
            "_model_name": "HTMLModel",
            "_view_count": null,
            "_view_module": "@jupyter-widgets/controls",
            "_view_module_version": "1.5.0",
            "_view_name": "HTMLView",
            "description": "",
            "description_tooltip": null,
            "layout": "IPY_MODEL_7df529db36f247ed9d5b867b96d62b86",
            "placeholder": "​",
            "style": "IPY_MODEL_006ffb1f4bef4d50b8dd9d93f09431f4",
            "value": " 3/3 [00:00&lt;00:00,  3.05it/s]"
          }
        },
        "ea9bd2ca59f74c23bf1987118f423e77": {
          "model_module": "@jupyter-widgets/base",
          "model_module_version": "1.2.0",
          "model_name": "LayoutModel",
          "state": {
            "_model_module": "@jupyter-widgets/base",
            "_model_module_version": "1.2.0",
            "_model_name": "LayoutModel",
            "_view_count": null,
            "_view_module": "@jupyter-widgets/base",
            "_view_module_version": "1.2.0",
            "_view_name": "LayoutView",
            "align_content": null,
            "align_items": null,
            "align_self": null,
            "border": null,
            "bottom": null,
            "display": null,
            "flex": null,
            "flex_flow": null,
            "grid_area": null,
            "grid_auto_columns": null,
            "grid_auto_flow": null,
            "grid_auto_rows": null,
            "grid_column": null,
            "grid_gap": null,
            "grid_row": null,
            "grid_template_areas": null,
            "grid_template_columns": null,
            "grid_template_rows": null,
            "height": null,
            "justify_content": null,
            "justify_items": null,
            "left": null,
            "margin": null,
            "max_height": null,
            "max_width": null,
            "min_height": null,
            "min_width": null,
            "object_fit": null,
            "object_position": null,
            "order": null,
            "overflow": null,
            "overflow_x": null,
            "overflow_y": null,
            "padding": null,
            "right": null,
            "top": null,
            "visibility": null,
            "width": null
          }
        },
        "efc429459e0847069919d419ef7cd331": {
          "model_module": "@jupyter-widgets/controls",
          "model_module_version": "1.5.0",
          "model_name": "HTMLModel",
          "state": {
            "_dom_classes": [],
            "_model_module": "@jupyter-widgets/controls",
            "_model_module_version": "1.5.0",
            "_model_name": "HTMLModel",
            "_view_count": null,
            "_view_module": "@jupyter-widgets/controls",
            "_view_module_version": "1.5.0",
            "_view_name": "HTMLView",
            "description": "",
            "description_tooltip": null,
            "layout": "IPY_MODEL_aa466c2ee99e4fe1a90f947b54e62f59",
            "placeholder": "​",
            "style": "IPY_MODEL_8a9a32cbfd474cf9bc6c97deb9e4ab57",
            "value": " 66/66 [00:00&lt;00:00, 1475.41it/s]"
          }
        },
        "f479fcaeae0842c6b6ce6120f235944c": {
          "model_module": "@jupyter-widgets/controls",
          "model_module_version": "1.5.0",
          "model_name": "DescriptionStyleModel",
          "state": {
            "_model_module": "@jupyter-widgets/controls",
            "_model_module_version": "1.5.0",
            "_model_name": "DescriptionStyleModel",
            "_view_count": null,
            "_view_module": "@jupyter-widgets/base",
            "_view_module_version": "1.2.0",
            "_view_name": "StyleView",
            "description_width": ""
          }
        },
        "fbcc2af80c224036ac507634b141b398": {
          "model_module": "@jupyter-widgets/base",
          "model_module_version": "1.2.0",
          "model_name": "LayoutModel",
          "state": {
            "_model_module": "@jupyter-widgets/base",
            "_model_module_version": "1.2.0",
            "_model_name": "LayoutModel",
            "_view_count": null,
            "_view_module": "@jupyter-widgets/base",
            "_view_module_version": "1.2.0",
            "_view_name": "LayoutView",
            "align_content": null,
            "align_items": null,
            "align_self": null,
            "border": null,
            "bottom": null,
            "display": null,
            "flex": null,
            "flex_flow": null,
            "grid_area": null,
            "grid_auto_columns": null,
            "grid_auto_flow": null,
            "grid_auto_rows": null,
            "grid_column": null,
            "grid_gap": null,
            "grid_row": null,
            "grid_template_areas": null,
            "grid_template_columns": null,
            "grid_template_rows": null,
            "height": null,
            "justify_content": null,
            "justify_items": null,
            "left": null,
            "margin": null,
            "max_height": null,
            "max_width": null,
            "min_height": null,
            "min_width": null,
            "object_fit": null,
            "object_position": null,
            "order": null,
            "overflow": null,
            "overflow_x": null,
            "overflow_y": null,
            "padding": null,
            "right": null,
            "top": null,
            "visibility": null,
            "width": null
          }
        },
        "fccf547e1c67434eb44eb3ac422fcf5f": {
          "model_module": "@jupyter-widgets/base",
          "model_module_version": "1.2.0",
          "model_name": "LayoutModel",
          "state": {
            "_model_module": "@jupyter-widgets/base",
            "_model_module_version": "1.2.0",
            "_model_name": "LayoutModel",
            "_view_count": null,
            "_view_module": "@jupyter-widgets/base",
            "_view_module_version": "1.2.0",
            "_view_name": "LayoutView",
            "align_content": null,
            "align_items": null,
            "align_self": null,
            "border": null,
            "bottom": null,
            "display": null,
            "flex": null,
            "flex_flow": null,
            "grid_area": null,
            "grid_auto_columns": null,
            "grid_auto_flow": null,
            "grid_auto_rows": null,
            "grid_column": null,
            "grid_gap": null,
            "grid_row": null,
            "grid_template_areas": null,
            "grid_template_columns": null,
            "grid_template_rows": null,
            "height": null,
            "justify_content": null,
            "justify_items": null,
            "left": null,
            "margin": null,
            "max_height": null,
            "max_width": null,
            "min_height": null,
            "min_width": null,
            "object_fit": null,
            "object_position": null,
            "order": null,
            "overflow": null,
            "overflow_x": null,
            "overflow_y": null,
            "padding": null,
            "right": null,
            "top": null,
            "visibility": null,
            "width": null
          }
        }
      }
    }
  },
  "nbformat": 4,
  "nbformat_minor": 0
}
