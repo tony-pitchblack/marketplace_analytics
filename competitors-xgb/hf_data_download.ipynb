{
 "cells": [
  {
   "cell_type": "code",
   "execution_count": null,
   "id": "c5324186",
   "metadata": {},
   "outputs": [
    {
     "data": {
      "application/vnd.jupyter.widget-view+json": {
       "model_id": "d4df5d24bc124b168e1de7ad9daf7e26",
       "version_major": 2,
       "version_minor": 0
      },
      "text/plain": [
       "Fetching 53 files:   0%|          | 0/53 [00:00<?, ?it/s]"
      ]
     },
     "metadata": {},
     "output_type": "display_data"
    },
    {
     "data": {
      "application/vnd.jupyter.widget-view+json": {
       "model_id": "88a45c10cbf549e899942ec2912a170b",
       "version_major": 2,
       "version_minor": 0
      },
      "text/plain": [
       "(…)_top-50_query-23_nonquery-5539_pairs.csv:   0%|          | 0.00/7.39M [00:00<?, ?B/s]"
      ]
     },
     "metadata": {},
     "output_type": "display_data"
    },
    {
     "data": {
      "application/vnd.jupyter.widget-view+json": {
       "model_id": "6c6976905be547559ffb06b2465c7e3c",
       "version_major": 2,
       "version_minor": 0
      },
      "text/plain": [
       "(…)p-50_query-23_nonquery-5539_embedded.csv:   0%|          | 0.00/7.43M [00:00<?, ?B/s]"
      ]
     },
     "metadata": {},
     "output_type": "display_data"
    },
    {
     "data": {
      "text/plain": [
       "'/home/anton/marketplace/competitors-xgb/data'"
      ]
     },
     "execution_count": 5,
     "metadata": {},
     "output_type": "execute_result"
    }
   ],
   "source": [
    "import os\n",
    "from huggingface_hub import HfApi, snapshot_download, login\n",
    "from dotenv import load_dotenv\n",
    "\n",
    "load_dotenv()  # loads HF_TOKEN; token should have read permissions\n",
    "\n",
    "# Enable hf_transfer\n",
    "os.environ['HF_HUB_ENABLE_HF_TRANSFER'] = \"1\"\n",
    "\n",
    "DATA_PATH = 'data'\n",
    "\n",
    "# Download the dataset\n",
    "snapshot_download(\n",
    "    repo_id=\"INDEEPA/clip-siamese\",\n",
    "    repo_type=\"dataset\",\n",
    "    local_dir=DATA_PATH,\n",
    "    local_dir_use_symlinks=False,  # optional: set to True if you want symlinks instead of copies\n",
    "    ignore_patterns=['**/*.jpg', '**/*.webp']  # optional: will skip these files\n",
    ")"
   ]
  }
 ],
 "metadata": {
  "kernelspec": {
   "display_name": "Python 3",
   "language": "python",
   "name": "python3"
  },
  "language_info": {
   "codemirror_mode": {
    "name": "ipython",
    "version": 3
   },
   "file_extension": ".py",
   "mimetype": "text/x-python",
   "name": "python",
   "nbconvert_exporter": "python",
   "pygments_lexer": "ipython3",
   "version": "3.12.9"
  }
 },
 "nbformat": 4,
 "nbformat_minor": 5
}
