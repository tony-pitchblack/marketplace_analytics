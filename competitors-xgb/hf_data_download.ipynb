{
 "cells": [
  {
   "cell_type": "code",
   "execution_count": 1,
   "id": "c5324186",
   "metadata": {},
   "outputs": [
    {
     "name": "stderr",
     "output_type": "stream",
     "text": [
      "/home/anton/micromamba/envs/competitors-xgb/lib/python3.12/site-packages/huggingface_hub/file_download.py:933: UserWarning: `local_dir_use_symlinks` parameter is deprecated and will be ignored. The process to download files to a local folder has been updated and do not rely on symlinks anymore. You only need to pass a destination folder as`local_dir`.\n",
      "For more details, check out https://huggingface.co/docs/huggingface_hub/main/en/guides/download#download-files-to-local-folder.\n",
      "  warnings.warn(\n"
     ]
    },
    {
     "data": {
      "application/vnd.jupyter.widget-view+json": {
       "model_id": "d3781841834944a2ab206e8d21d8cda0",
       "version_major": 2,
       "version_minor": 0
      },
      "text/plain": [
       "Fetching 108 files:   0%|          | 0/108 [00:00<?, ?it/s]"
      ]
     },
     "metadata": {},
     "output_type": "display_data"
    },
    {
     "data": {
      "application/vnd.jupyter.widget-view+json": {
       "model_id": "8863f06fff9044be96f80aa4431376cf",
       "version_major": 2,
       "version_minor": 0
      },
      "text/plain": [
       ".gitattributes:   0%|          | 0.00/4.58k [00:00<?, ?B/s]"
      ]
     },
     "metadata": {},
     "output_type": "display_data"
    },
    {
     "data": {
      "application/vnd.jupyter.widget-view+json": {
       "model_id": "958b54cbafd9415199267461da556d2f",
       "version_major": 2,
       "version_minor": 0
      },
      "text/plain": [
       "OZ_geo_Moscow_30.csv:   0%|          | 0.00/90.7k [00:00<?, ?B/s]"
      ]
     },
     "metadata": {},
     "output_type": "display_data"
    },
    {
     "data": {
      "application/vnd.jupyter.widget-view+json": {
       "model_id": "108fc55aa73d4ed583e9a9d6a452ceb2",
       "version_major": 2,
       "version_minor": 0
      },
      "text/plain": [
       "OZ_geo_5500.csv:   0%|          | 0.00/8.63M [00:00<?, ?B/s]"
      ]
     },
     "metadata": {},
     "output_type": "display_data"
    },
    {
     "data": {
      "application/vnd.jupyter.widget-view+json": {
       "model_id": "688f5bda455641069c46c29d47d1f3dd",
       "version_major": 2,
       "version_minor": 0
      },
      "text/plain": [
       "(…)0%B4%D0%B8%D0%BD%D0%B3%D0%B8%3Dfinal.csv:   0%|          | 0.00/3.64k [00:00<?, ?B/s]"
      ]
     },
     "metadata": {},
     "output_type": "display_data"
    },
    {
     "data": {
      "application/vnd.jupyter.widget-view+json": {
       "model_id": "ab3f217ad2894a27bec26e9ce84f26f4",
       "version_major": 2,
       "version_minor": 0
      },
      "text/plain": [
       "(…)%BD%D0%B3%D0%B8%3Dfinal_URL-included.csv:   0%|          | 0.00/10.2k [00:00<?, ?B/s]"
      ]
     },
     "metadata": {},
     "output_type": "display_data"
    },
    {
     "data": {
      "application/vnd.jupyter.widget-view+json": {
       "model_id": "ae4ea40bb7e341b7b34e3073108cba5a",
       "version_major": 2,
       "version_minor": 0
      },
      "text/plain": [
       "OZ_geo_5700_no_descriptions.csv:   0%|          | 0.00/1.29M [00:00<?, ?B/s]"
      ]
     },
     "metadata": {},
     "output_type": "display_data"
    },
    {
     "data": {
      "application/vnd.jupyter.widget-view+json": {
       "model_id": "4d44e4b5621a4243a9d8c51c36311e4f",
       "version_major": 2,
       "version_minor": 0
      },
      "text/plain": [
       "(…)0%B4%D0%B8%D0%BD%D0%B3%D0%B8%3Dfinal.csv:   0%|          | 0.00/3.65k [00:00<?, ?B/s]"
      ]
     },
     "metadata": {},
     "output_type": "display_data"
    },
    {
     "data": {
      "application/vnd.jupyter.widget-view+json": {
       "model_id": "b59e054e13ca407f9add7c32332d0b0c",
       "version_major": 2,
       "version_minor": 0
      },
      "text/plain": [
       "(…)%BD%D0%B3%D0%B8%3Dfinal_URL-included.csv:   0%|          | 0.00/10.2k [00:00<?, ?B/s]"
      ]
     },
     "metadata": {},
     "output_type": "display_data"
    },
    {
     "data": {
      "application/vnd.jupyter.widget-view+json": {
       "model_id": "70e1d1bebf894b4495f3c30c8936dbcc",
       "version_major": 2,
       "version_minor": 0
      },
      "text/plain": [
       "(…)1%80%D0%B0_%D0%BE%D0%B7%D0%BE%D0%BD.xlsx:   0%|          | 0.00/1.16M [00:00<?, ?B/s]"
      ]
     },
     "metadata": {},
     "output_type": "display_data"
    },
    {
     "data": {
      "application/vnd.jupyter.widget-view+json": {
       "model_id": "2c90610f674448a1be3fa1c08417f469",
       "version_major": 2,
       "version_minor": 0
      },
      "text/plain": [
       "(…)1%80%D0%B0_%D0%BE%D0%B7%D0%BE%D0%BD.xlsm:   0%|          | 0.00/1.42M [00:00<?, ?B/s]"
      ]
     },
     "metadata": {},
     "output_type": "display_data"
    },
    {
     "data": {
      "text/plain": [
       "'/home/anton/marketplace/competitors-xgb/data'"
      ]
     },
     "execution_count": 1,
     "metadata": {},
     "output_type": "execute_result"
    }
   ],
   "source": [
    "import os\n",
    "from huggingface_hub import HfApi, snapshot_download, login\n",
    "from dotenv import load_dotenv\n",
    "\n",
    "load_dotenv()  # loads HF_TOKEN; token should have read permissions\n",
    "\n",
    "# Enable hf_transfer\n",
    "os.environ['HF_HUB_ENABLE_HF_TRANSFER'] = \"1\"\n",
    "\n",
    "DATA_PATH = 'data'\n",
    "\n",
    "# Download the dataset\n",
    "snapshot_download(\n",
    "    repo_id=\"INDEEPA/clip-siamese\",\n",
    "    repo_type=\"dataset\",\n",
    "    local_dir=DATA_PATH,\n",
    "    local_dir_use_symlinks=False,  # optional: set to True if you want symlinks instead of copies\n",
    "    ignore_patterns=['**/*.jpg', '**/*.webp']  # optional: will skip these files\n",
    ")"
   ]
  }
 ],
 "metadata": {
  "kernelspec": {
   "display_name": "Python 3",
   "language": "python",
   "name": "python3"
  },
  "language_info": {
   "codemirror_mode": {
    "name": "ipython",
    "version": 3
   },
   "file_extension": ".py",
   "mimetype": "text/x-python",
   "name": "python",
   "nbconvert_exporter": "python",
   "pygments_lexer": "ipython3",
   "version": "3.12.10"
  }
 },
 "nbformat": 4,
 "nbformat_minor": 5
}
