{
 "cells": [
  {
   "cell_type": "code",
   "execution_count": 1,
   "metadata": {},
   "outputs": [],
   "source": [
    "import os\n",
    "from huggingface_hub import HfApi, login\n",
    "from dotenv import load_dotenv\n",
    "\n",
    "load_dotenv() # loads HF_TOKEN; token should have write permissions\n",
    "\n",
    "# Enable hf_transfer\n",
    "os.environ['HF_HUB_ENABLE_HF_TRANSFER'] = \"1\"\n",
    "\n",
    "DATA_PATH = 'data'"
   ]
  },
  {
   "cell_type": "code",
   "execution_count": 2,
   "metadata": {},
   "outputs": [
    {
     "name": "stdout",
     "output_type": "stream",
     "text": [
      "Already exists: images_7k.zip\n",
      "Already exists: images_OZ_geo_5500.zip\n"
     ]
    }
   ],
   "source": [
    "import zipfile\n",
    "from tqdm import tqdm\n",
    "from pathlib import Path\n",
    "\n",
    "def zip_image_folders(root='data', overwrite=False, image_exts=('.jpg', '.jpeg', '.png', '.webp')):\n",
    "    root = Path(root)\n",
    "    \n",
    "    # Iterate only over directories (excluding hidden ones)\n",
    "    folders = [f for f in root.iterdir() if f.is_dir() and not f.name.startswith('.')]\n",
    "    \n",
    "    for folder in folders:\n",
    "        # Recursively find all image files in the folder\n",
    "        files = [f for f in folder.rglob('*') if f.is_file() and f.suffix.lower() in image_exts]\n",
    "        if not files:\n",
    "            continue  # Skip empty or non-image folders\n",
    "\n",
    "        zip_path = folder.with_suffix('.zip')\n",
    "        if not overwrite and zip_path.exists():\n",
    "            print(f\"Already exists: {zip_path.name}\")\n",
    "            continue\n",
    "\n",
    "        print(f\"\\nZipping {folder.name} → {zip_path.name}\")\n",
    "        with zipfile.ZipFile(zip_path, 'w', compression=zipfile.ZIP_DEFLATED) as zipf:\n",
    "            for file in tqdm(files, desc=f\"Zipping {folder.name}\"):\n",
    "                arcname = Path(folder.name) / file.relative_to(folder)\n",
    "                zipf.write(file, arcname=arcname)\n",
    "\n",
    "# Usage\n",
    "zip_image_folders(\n",
    "    root=DATA_PATH,   # or pass your DATA_PATH\n",
    "    overwrite=False\n",
    ")"
   ]
  },
  {
   "cell_type": "code",
   "execution_count": 3,
   "metadata": {},
   "outputs": [
    {
     "data": {
      "text/plain": [
       "CommitInfo(commit_url='https://huggingface.co/datasets/INDEEPA/clip-siamese/commit/c86827dece8e2403c556067ae448bae4e83a042a', commit_message='Upload folder using huggingface_hub', commit_description='', oid='c86827dece8e2403c556067ae448bae4e83a042a', pr_url=None, repo_url=RepoUrl('https://huggingface.co/datasets/INDEEPA/clip-siamese', endpoint='https://huggingface.co', repo_type='dataset', repo_id='INDEEPA/clip-siamese'), pr_revision=None, pr_num=None)"
      ]
     },
     "execution_count": 3,
     "metadata": {},
     "output_type": "execute_result"
    }
   ],
   "source": [
    "from huggingface_hub import HfApi\n",
    "\n",
    "api = HfApi()\n",
    "api.upload_folder(\n",
    "    folder_path=DATA_PATH,  # Path to the local directory\n",
    "    repo_id=\"INDEEPA/clip-siamese\",\n",
    "    repo_type=\"dataset\",\n",
    "    ignore_patterns=['**/*.jpg', \"**/*.webp\"],\n",
    ")"
   ]
  },
  {
   "cell_type": "code",
   "execution_count": null,
   "metadata": {},
   "outputs": [],
   "source": [
    "# # Delete files matching pattern from the repo using HfFileSystem\n",
    "# from huggingface_hub import HfFileSystem\n",
    "# fs = HfFileSystem()\n",
    "\n",
    "# # Delete files matching the pattern\n",
    "# fs.rm(\"datasets/INDEEPA/clip-siamese/tables_OZ_geo_5500\", recursive=True)"
   ]
  },
  {
   "cell_type": "code",
   "execution_count": null,
   "metadata": {},
   "outputs": [],
   "source": [
    "# # DELETE ALL FILES IN THE REPO COMPLETELY\n",
    "# # RECOVERABLE BY COMMIT, BUT THINK TWICE!\n",
    "\n",
    "# from huggingface_hub import HfFileSystem\n",
    "\n",
    "# # Initialize the HfFileSystem\n",
    "# fs = HfFileSystem()\n",
    "\n",
    "# # Define the repository path\n",
    "# repo_path = \"datasets/INDEEPA/clip-siamese\"\n",
    "\n",
    "# # Delete all files and folders in the repository\n",
    "# fs.rm(f\"{repo_path}/\", recursive=True)"
   ]
  }
 ],
 "metadata": {
  "kernelspec": {
   "display_name": "Python 3",
   "language": "python",
   "name": "python3"
  },
  "language_info": {
   "codemirror_mode": {
    "name": "ipython",
    "version": 3
   },
   "file_extension": ".py",
   "mimetype": "text/x-python",
   "name": "python",
   "nbconvert_exporter": "python",
   "pygments_lexer": "ipython3",
   "version": "3.12.10"
  }
 },
 "nbformat": 4,
 "nbformat_minor": 2
}
