{
 "cells": [
  {
   "cell_type": "markdown",
   "id": "b20693fd",
   "metadata": {},
   "source": [
    "# Parameters"
   ]
  },
  {
   "cell_type": "code",
   "execution_count": 1,
   "id": "9c03735e",
   "metadata": {},
   "outputs": [],
   "source": [
    "from pathlib import Path\n",
    "\n",
    "# DATA_PATH = 'data/'\n",
    "DATA_PATH = \"hf://datasets/INDEEPA/clip-siamese/\""
   ]
  },
  {
   "cell_type": "code",
   "execution_count": 2,
   "id": "d84f7aaf",
   "metadata": {},
   "outputs": [],
   "source": [
    "SHARD_IDX = 0\n",
    "TOTAL_SHARDS = 2\n",
    "MAX_WORKERS = 2\n",
    "UPLOAD_INTERVAL = 60 * 1"
   ]
  },
  {
   "cell_type": "markdown",
   "id": "d8ae3e12",
   "metadata": {},
   "source": [
    "# Log into services"
   ]
  },
  {
   "cell_type": "code",
   "execution_count": 3,
   "id": "e9f46509",
   "metadata": {},
   "outputs": [],
   "source": [
    "try:\n",
    "    import dotenv\n",
    "except ImportError:\n",
    "    !pip install python-dotenv"
   ]
  },
  {
   "cell_type": "code",
   "execution_count": 4,
   "id": "f92308bb",
   "metadata": {},
   "outputs": [
    {
     "name": "stderr",
     "output_type": "stream",
     "text": [
      "Note: Environment variable`HF_TOKEN` is set and is the current active token independently from the token you've just configured.\n"
     ]
    }
   ],
   "source": [
    "# Use tokens from .env\n",
    "\n",
    "import os\n",
    "from dotenv import load_dotenv\n",
    "\n",
    "import huggingface_hub\n",
    "import wandb\n",
    "\n",
    "load_dotenv()\n",
    "\n",
    "HF_TOKEN = os.getenv(\"HF_TOKEN\")\n",
    "huggingface_hub.login(token=HF_TOKEN)"
   ]
  },
  {
   "cell_type": "markdown",
   "id": "c256f994",
   "metadata": {},
   "source": [
    "# Load full data & take shard"
   ]
  },
  {
   "cell_type": "code",
   "execution_count": 5,
   "id": "f6e25795",
   "metadata": {},
   "outputs": [
    {
     "data": {
      "text/html": [
       "<div>\n",
       "<style scoped>\n",
       "    .dataframe tbody tr th:only-of-type {\n",
       "        vertical-align: middle;\n",
       "    }\n",
       "\n",
       "    .dataframe tbody tr th {\n",
       "        vertical-align: top;\n",
       "    }\n",
       "\n",
       "    .dataframe thead th {\n",
       "        text-align: right;\n",
       "    }\n",
       "</style>\n",
       "<table border=\"1\" class=\"dataframe\">\n",
       "  <thead>\n",
       "    <tr style=\"text-align: right;\">\n",
       "      <th></th>\n",
       "      <th>SKU</th>\n",
       "      <th>Name</th>\n",
       "      <th>Category</th>\n",
       "      <th>Схема</th>\n",
       "      <th>Brand</th>\n",
       "      <th>Niche</th>\n",
       "      <th>Seller</th>\n",
       "      <th>Balance</th>\n",
       "      <th>Balance FBS</th>\n",
       "      <th>Warehouses count</th>\n",
       "      <th>...</th>\n",
       "      <th>FBS</th>\n",
       "      <th>Base price</th>\n",
       "      <th>Category Position</th>\n",
       "      <th>Categories Last Count</th>\n",
       "      <th>Sales Per Day Average</th>\n",
       "      <th>Turnover</th>\n",
       "      <th>Frozen stocks</th>\n",
       "      <th>Frozen stocks cost</th>\n",
       "      <th>Frozen stocks percent</th>\n",
       "      <th>is_primary</th>\n",
       "    </tr>\n",
       "  </thead>\n",
       "  <tbody>\n",
       "    <tr>\n",
       "      <th>0</th>\n",
       "      <td>936454663</td>\n",
       "      <td>Карта мира географическая политическая интерак...</td>\n",
       "      <td>Канцелярские товары/Бумажная продукция/Карты мира</td>\n",
       "      <td>FBO</td>\n",
       "      <td>NaN</td>\n",
       "      <td>Дом и сад/Декор и интерьер/Картины и панно/Гра...</td>\n",
       "      <td>GooDaY</td>\n",
       "      <td>346</td>\n",
       "      <td>0</td>\n",
       "      <td>12</td>\n",
       "      <td>...</td>\n",
       "      <td>0</td>\n",
       "      <td>4990</td>\n",
       "      <td>1</td>\n",
       "      <td>1</td>\n",
       "      <td>5.2</td>\n",
       "      <td>66.54</td>\n",
       "      <td>112</td>\n",
       "      <td>202832</td>\n",
       "      <td>32.37</td>\n",
       "      <td>False</td>\n",
       "    </tr>\n",
       "  </tbody>\n",
       "</table>\n",
       "<p>1 rows × 43 columns</p>\n",
       "</div>"
      ],
      "text/plain": [
       "         SKU                                               Name  \\\n",
       "0  936454663  Карта мира географическая политическая интерак...   \n",
       "\n",
       "                                            Category Схема Brand  \\\n",
       "0  Канцелярские товары/Бумажная продукция/Карты мира   FBO   NaN   \n",
       "\n",
       "                                               Niche  Seller  Balance  \\\n",
       "0  Дом и сад/Декор и интерьер/Картины и панно/Гра...  GooDaY      346   \n",
       "\n",
       "   Balance FBS  Warehouses count  ...  FBS  Base price  Category Position  \\\n",
       "0            0                12  ...    0        4990                  1   \n",
       "\n",
       "   Categories Last Count  Sales Per Day Average  Turnover  Frozen stocks  \\\n",
       "0                      1                    5.2     66.54            112   \n",
       "\n",
       "   Frozen stocks cost  Frozen stocks percent  is_primary  \n",
       "0              202832                  32.37       False  \n",
       "\n",
       "[1 rows x 43 columns]"
      ]
     },
     "execution_count": 5,
     "metadata": {},
     "output_type": "execute_result"
    }
   ],
   "source": [
    "import pandas as pd\n",
    "\n",
    "\n",
    "file_path = DATA_PATH + 'Карты_мира_озон.xlsm'\n",
    "full_source_df = pd.read_excel(file_path)\n",
    "full_source_df.head(1)"
   ]
  },
  {
   "cell_type": "code",
   "execution_count": null,
   "id": "8ef729dc",
   "metadata": {},
   "outputs": [
    {
     "data": {
      "text/html": [
       "<div>\n",
       "<style scoped>\n",
       "    .dataframe tbody tr th:only-of-type {\n",
       "        vertical-align: middle;\n",
       "    }\n",
       "\n",
       "    .dataframe tbody tr th {\n",
       "        vertical-align: top;\n",
       "    }\n",
       "\n",
       "    .dataframe thead th {\n",
       "        text-align: right;\n",
       "    }\n",
       "</style>\n",
       "<table border=\"1\" class=\"dataframe\">\n",
       "  <thead>\n",
       "    <tr style=\"text-align: right;\">\n",
       "      <th></th>\n",
       "      <th>SKU</th>\n",
       "      <th>Name</th>\n",
       "      <th>Category</th>\n",
       "      <th>Схема</th>\n",
       "      <th>Brand</th>\n",
       "      <th>Niche</th>\n",
       "      <th>Seller</th>\n",
       "      <th>Balance</th>\n",
       "      <th>Balance FBS</th>\n",
       "      <th>Warehouses count</th>\n",
       "      <th>...</th>\n",
       "      <th>FBS</th>\n",
       "      <th>Base price</th>\n",
       "      <th>Category Position</th>\n",
       "      <th>Categories Last Count</th>\n",
       "      <th>Sales Per Day Average</th>\n",
       "      <th>Turnover</th>\n",
       "      <th>Frozen stocks</th>\n",
       "      <th>Frozen stocks cost</th>\n",
       "      <th>Frozen stocks percent</th>\n",
       "      <th>is_primary</th>\n",
       "    </tr>\n",
       "  </thead>\n",
       "  <tbody>\n",
       "    <tr>\n",
       "      <th>0</th>\n",
       "      <td>936454663</td>\n",
       "      <td>Карта мира географическая политическая интерак...</td>\n",
       "      <td>Канцелярские товары/Бумажная продукция/Карты мира</td>\n",
       "      <td>FBO</td>\n",
       "      <td>NaN</td>\n",
       "      <td>Дом и сад/Декор и интерьер/Картины и панно/Гра...</td>\n",
       "      <td>GooDaY</td>\n",
       "      <td>346</td>\n",
       "      <td>0</td>\n",
       "      <td>12</td>\n",
       "      <td>...</td>\n",
       "      <td>0</td>\n",
       "      <td>4990</td>\n",
       "      <td>1</td>\n",
       "      <td>1</td>\n",
       "      <td>5.20</td>\n",
       "      <td>66.54</td>\n",
       "      <td>112</td>\n",
       "      <td>202832</td>\n",
       "      <td>32.37</td>\n",
       "      <td>False</td>\n",
       "    </tr>\n",
       "    <tr>\n",
       "      <th>6</th>\n",
       "      <td>268682139</td>\n",
       "      <td>Карта мира настенная политическая на стену 101...</td>\n",
       "      <td>Канцелярские товары/Бумажная продукция/Карты мира</td>\n",
       "      <td>FBO</td>\n",
       "      <td>Brauberg</td>\n",
       "      <td>Дом и сад/Декор и интерьер/Картины и панно/Гра...</td>\n",
       "      <td>Самсон</td>\n",
       "      <td>853</td>\n",
       "      <td>0</td>\n",
       "      <td>9</td>\n",
       "      <td>...</td>\n",
       "      <td>0</td>\n",
       "      <td>454</td>\n",
       "      <td>13</td>\n",
       "      <td>1</td>\n",
       "      <td>24.87</td>\n",
       "      <td>33.43</td>\n",
       "      <td>0</td>\n",
       "      <td>0</td>\n",
       "      <td>0.00</td>\n",
       "      <td>False</td>\n",
       "    </tr>\n",
       "    <tr>\n",
       "      <th>7</th>\n",
       "      <td>438166622</td>\n",
       "      <td>Настенная карта мира для детей, игра (с крепле...</td>\n",
       "      <td>Канцелярские товары/Бумажная продукция/Карты мира</td>\n",
       "      <td>FBO</td>\n",
       "      <td>Играматика</td>\n",
       "      <td>Дом и сад/Декор и интерьер/Картины и панно/Гра...</td>\n",
       "      <td>Студия Играматика</td>\n",
       "      <td>66</td>\n",
       "      <td>0</td>\n",
       "      <td>10</td>\n",
       "      <td>...</td>\n",
       "      <td>0</td>\n",
       "      <td>5190</td>\n",
       "      <td>21</td>\n",
       "      <td>1</td>\n",
       "      <td>1.67</td>\n",
       "      <td>39.60</td>\n",
       "      <td>0</td>\n",
       "      <td>0</td>\n",
       "      <td>0.00</td>\n",
       "      <td>False</td>\n",
       "    </tr>\n",
       "    <tr>\n",
       "      <th>8</th>\n",
       "      <td>1712946829</td>\n",
       "      <td>Карта мира физическая на стену, географическая...</td>\n",
       "      <td>Канцелярские товары/Бумажная продукция/Карты мира</td>\n",
       "      <td>FBO</td>\n",
       "      <td>Brauberg</td>\n",
       "      <td>Дом и сад/Декор и интерьер/Картины и панно/Гра...</td>\n",
       "      <td>Самсон</td>\n",
       "      <td>120</td>\n",
       "      <td>0</td>\n",
       "      <td>6</td>\n",
       "      <td>...</td>\n",
       "      <td>0</td>\n",
       "      <td>3057</td>\n",
       "      <td>5</td>\n",
       "      <td>1</td>\n",
       "      <td>3.33</td>\n",
       "      <td>36.00</td>\n",
       "      <td>0</td>\n",
       "      <td>0</td>\n",
       "      <td>0.00</td>\n",
       "      <td>False</td>\n",
       "    </tr>\n",
       "    <tr>\n",
       "      <th>12</th>\n",
       "      <td>1713026634</td>\n",
       "      <td>Карта мира политическая на стену большая 157х1...</td>\n",
       "      <td>Канцелярские товары/Бумажная продукция/Карты мира</td>\n",
       "      <td>FBO</td>\n",
       "      <td>Brauberg</td>\n",
       "      <td>Дом и сад/Декор и интерьер/Картины и панно/Гра...</td>\n",
       "      <td>Самсон</td>\n",
       "      <td>83</td>\n",
       "      <td>0</td>\n",
       "      <td>5</td>\n",
       "      <td>...</td>\n",
       "      <td>0</td>\n",
       "      <td>1870</td>\n",
       "      <td>43</td>\n",
       "      <td>1</td>\n",
       "      <td>4.37</td>\n",
       "      <td>19.01</td>\n",
       "      <td>0</td>\n",
       "      <td>0</td>\n",
       "      <td>0.00</td>\n",
       "      <td>False</td>\n",
       "    </tr>\n",
       "  </tbody>\n",
       "</table>\n",
       "<p>5 rows × 43 columns</p>\n",
       "</div>"
      ],
      "text/plain": [
       "           SKU                                               Name  \\\n",
       "0    936454663  Карта мира географическая политическая интерак...   \n",
       "6    268682139  Карта мира настенная политическая на стену 101...   \n",
       "7    438166622  Настенная карта мира для детей, игра (с крепле...   \n",
       "8   1712946829  Карта мира физическая на стену, географическая...   \n",
       "12  1713026634  Карта мира политическая на стену большая 157х1...   \n",
       "\n",
       "                                             Category Схема       Brand  \\\n",
       "0   Канцелярские товары/Бумажная продукция/Карты мира   FBO         NaN   \n",
       "6   Канцелярские товары/Бумажная продукция/Карты мира   FBO    Brauberg   \n",
       "7   Канцелярские товары/Бумажная продукция/Карты мира   FBO  Играматика   \n",
       "8   Канцелярские товары/Бумажная продукция/Карты мира   FBO    Brauberg   \n",
       "12  Канцелярские товары/Бумажная продукция/Карты мира   FBO    Brauberg   \n",
       "\n",
       "                                                Niche             Seller  \\\n",
       "0   Дом и сад/Декор и интерьер/Картины и панно/Гра...             GooDaY   \n",
       "6   Дом и сад/Декор и интерьер/Картины и панно/Гра...             Самсон   \n",
       "7   Дом и сад/Декор и интерьер/Картины и панно/Гра...  Студия Играматика   \n",
       "8   Дом и сад/Декор и интерьер/Картины и панно/Гра...             Самсон   \n",
       "12  Дом и сад/Декор и интерьер/Картины и панно/Гра...             Самсон   \n",
       "\n",
       "    Balance  Balance FBS  Warehouses count  ...  FBS  Base price  \\\n",
       "0       346            0                12  ...    0        4990   \n",
       "6       853            0                 9  ...    0         454   \n",
       "7        66            0                10  ...    0        5190   \n",
       "8       120            0                 6  ...    0        3057   \n",
       "12       83            0                 5  ...    0        1870   \n",
       "\n",
       "    Category Position  Categories Last Count  Sales Per Day Average  Turnover  \\\n",
       "0                   1                      1                   5.20     66.54   \n",
       "6                  13                      1                  24.87     33.43   \n",
       "7                  21                      1                   1.67     39.60   \n",
       "8                   5                      1                   3.33     36.00   \n",
       "12                 43                      1                   4.37     19.01   \n",
       "\n",
       "    Frozen stocks  Frozen stocks cost  Frozen stocks percent  is_primary  \n",
       "0             112              202832                  32.37       False  \n",
       "6               0                   0                   0.00       False  \n",
       "7               0                   0                   0.00       False  \n",
       "8               0                   0                   0.00       False  \n",
       "12              0                   0                   0.00       False  \n",
       "\n",
       "[5 rows x 43 columns]"
      ]
     },
     "execution_count": 6,
     "metadata": {},
     "output_type": "execute_result"
    }
   ],
   "source": [
    "import pandas as pd\n",
    "from sklearn.model_selection import KFold\n",
    "\n",
    "def get_shard(full_source_df, total_shards, shard_idx, seed=42):\n",
    "    \"\"\"\n",
    "    Splits the full_source_df into `total_shards` folds using a fixed seed,\n",
    "    and returns the fold corresponding to `shard_idx`.\n",
    "    \n",
    "    Args:\n",
    "        full_source_df (pd.DataFrame): The input DataFrame to be split.\n",
    "        total_shards (int): Total number of folds.\n",
    "        shard_idx (int): Index of the fold to select (0-indexed).\n",
    "        seed (int): Random seed for reproducibility (default: 42).\n",
    "    \n",
    "    Returns:\n",
    "        pd.DataFrame: The fold corresponding to `shard_idx`.\n",
    "    \"\"\"\n",
    "    if total_shards > 1:\n",
    "        kf = KFold(n_splits=total_shards, shuffle=True, random_state=seed)\n",
    "        # Create list of (train_index, test_index) pairs\n",
    "        folds = list(kf.split(full_source_df))\n",
    "        # Select the test indices from the desired fold\n",
    "        _, test_indices = folds[shard_idx]\n",
    "        source_df = full_source_df.iloc[test_indices]\n",
    "    else:\n",
    "        source_df = full_source_df\n",
    "\n",
    "    return source_df\n",
    "\n",
    "# Assuming source_df is your DataFrame\n",
    "source_df = get_shard(full_source_df, TOTAL_SHARDS, SHARD_IDX)\n",
    "source_df.head()"
   ]
  },
  {
   "cell_type": "markdown",
   "id": "d34379af",
   "metadata": {},
   "source": [
    "# Scraping"
   ]
  },
  {
   "cell_type": "code",
   "execution_count": 7,
   "id": "d7ccdf14",
   "metadata": {},
   "outputs": [],
   "source": [
    "from selenium import webdriver\n",
    "from selenium.webdriver.chrome.service import Service as ChromeService\n",
    "from selenium.webdriver.chrome.options import Options\n",
    "from webdriver_manager.chrome import ChromeDriverManager\n",
    "from selenium.webdriver.common.by import By\n",
    "from selenium.webdriver.common.keys import Keys\n",
    "import time\n",
    "import random\n",
    "from selenium.webdriver.common.by import By\n",
    "from selenium.webdriver.support.ui import WebDriverWait\n",
    "from selenium.webdriver.support import expected_conditions as EC\n",
    "from selenium_stealth import stealth"
   ]
  },
  {
   "cell_type": "markdown",
   "id": "2e7ab1e2",
   "metadata": {},
   "source": [
    "# Scraping Browser"
   ]
  },
  {
   "cell_type": "code",
   "execution_count": 8,
   "id": "bc1a22fe",
   "metadata": {},
   "outputs": [],
   "source": [
    "from pyvirtualdisplay import Display\n",
    "display = Display(visible=0, size=(1920, 1080))\n",
    "\n",
    "# display.start()\n",
    "# display.stop()"
   ]
  },
  {
   "cell_type": "code",
   "execution_count": 9,
   "id": "3b67fe32",
   "metadata": {},
   "outputs": [],
   "source": [
    "# CELL #1: Init driver definition\n",
    "\n",
    "import random\n",
    "from seleniumwire import webdriver\n",
    "from selenium.webdriver.chrome.options import Options\n",
    "from selenium.webdriver.chrome.service import Service as ChromeService\n",
    "from webdriver_manager.chrome import ChromeDriverManager\n",
    "from selenium_stealth import stealth\n",
    "\n",
    "# Use rotating proxy endpoint credentials (instead of a random proxy from a list)\n",
    "proxy_host = \"p.webshare.io\"\n",
    "proxy_port = \"80\"\n",
    "proxy_user = \"ezazhhrq-rotate\"\n",
    "proxy_pass = \"1cacuvqw8gcx\"\n",
    "\n",
    "# Configure selenium-wire proxy options with rotating credentials\n",
    "proxy_options = {\n",
    "    'proxy': {\n",
    "        'http': f'http://{proxy_user}:{proxy_pass}@{proxy_host}:{proxy_port}',\n",
    "        'https': f'http://{proxy_user}:{proxy_pass}@{proxy_host}:{proxy_port}'\n",
    "    },\n",
    "    'disable_socks_interceptor': True  # Use if auth popup appears\n",
    "}\n",
    "\n",
    "\n",
    "# Set up Chrome options\n",
    "options = Options()\n",
    "prefs = {\"profile.managed_default_content_settings.images\": 2}\n",
    "options.add_experimental_option(\"prefs\", prefs)\n",
    "# Uncomment for headless mode if desired:\n",
    "options.add_argument(\"--headless\")\n",
    "options.add_argument(\"--window-size=960,1080\")\n",
    "options.add_argument(\"--window-position=960,0\")       # Start at x=960 (right half of a 1920px screen)\n",
    "options.add_argument(\"--disable-blink-features=AutomationControlled\")\n",
    "\n",
    "import random\n",
    "import uuid\n",
    "import tempfile\n",
    "\n",
    "import random\n",
    "\n",
    "def generate_user_agent():\n",
    "    \"\"\"\n",
    "    Randomly selects and returns one user agent string from a fixed list.\n",
    "    \"\"\"\n",
    "    agents = [\n",
    "        {\"ua\": \"Mozilla/5.0 (Windows NT 10.0; Win64; x64) AppleWebKit/537.36 (KHTML, like Gecko) Chrome/134.0.0.0 Safari/537.3\"},\n",
    "        {\"ua\": \"Mozilla/5.0 (Windows NT 10.0; Win64; x64) AppleWebKit/537.36 (KHTML, like Gecko) Chrome/134.0.0.0 Safari/537.36 Trailer/93.3.8652.5\"},\n",
    "        {\"ua\": \"Mozilla/5.0 (Windows NT 10.0; Win64; x64) AppleWebKit/537.36 (KHTML, like Gecko) Chrome/134.0.0.0 Safari/537.36 Edg/134.0.0.\"},\n",
    "        {\"ua\": \"Mozilla/5.0 (Windows NT 10.0; Win64; x64) AppleWebKit/537.36 (KHTML, like Gecko) Chrome/132.0.0.0 Safari/537.36 OPR/117.0.0.\"},\n",
    "        {\"ua\": \"Mozilla/5.0 (Windows NT 10.0; Win64; x64) AppleWebKit/537.36 (KHTML, like Gecko) Chrome/70.0.3538.102 Safari/537.36 Edge/18.1958\"},\n",
    "\n",
    "        # {\"ua\": \"Mozilla/5.0 (Macintosh; Intel Mac OS X 10_15_7) AppleWebKit/605.1.15 (KHTML, like Gecko) Version/17.10 Safari/605.1.1\"},\n",
    "        # {\"ua\": \"Mozilla/5.0 (Macintosh; Intel Mac OS X 10_15_7) AppleWebKit/537.36 (KHTML, like Gecko) Chrome/113.0.0.0 Safari/537.3\"},\n",
    "        # {\"ua\": \"Mozilla/5.0 (X11; Linux x86_64) AppleWebKit/537.36 (KHTML, like Gecko) Chrome/134.0.0.0 Safari/537.3\"},\n",
    "        # {\"ua\": \"Mozilla/5.0 (Windows NT 10.0; Win64; x64) AppleWebKit/537.36 (KHTML, like Gecko) Chrome/131.0.0.0 Safari/537.36 Edg/131.0.0.\"},\n",
    "        # {\"ua\": \"Mozilla/5.0 (Windows NT 10.0; Win64; x64) AppleWebKit/537.36 (KHTML, like Gecko) Chrome/132.0.0.0 Safari/537.36 Edg/132.0.0.\"},\n",
    "        # {\"ua\": \"Mozilla/5.0 (Windows NT 10.0; Win64; x64; rv:136.0) Gecko/20100101 Firefox/136.\"},\n",
    "        # {\"ua\": \"Mozilla/5.0 (Windows NT 10.0; Win64; x64) AppleWebKit/537.36 (KHTML, like Gecko) Chrome/107.0.0.0 Safari/537.3\"}\n",
    "    ]\n",
    "    return random.choice(agents)[\"ua\"]\n",
    "\n",
    "def init_scraping_browser(use_proxy=True, verbose=True):\n",
    "    # Generate a unique profile directory for this driver session\n",
    "    unique_suffix = uuid.uuid4().hex\n",
    "    unique_profile = tempfile.mkdtemp(prefix=f\"chrome_profile_{unique_suffix}_\")\n",
    "    \n",
    "    # Create Chrome options and add the unique profile directory\n",
    "    options = webdriver.ChromeOptions()\n",
    "    options.add_argument(f\"--user-data-dir={unique_profile}\")\n",
    "    \n",
    "    # Set a dynamically generated user agent\n",
    "    ua = generate_user_agent()\n",
    "    options.add_argument(f\"--user-agent={ua}\")\n",
    "    \n",
    "    # (Optional) Uncomment to run headless\n",
    "    options.add_argument(\"--headless\")\n",
    "    \n",
    "    # Prepare additional driver kwargs if necessary\n",
    "    driver_kwargs = dict(\n",
    "        service=ChromeService(ChromeDriverManager().install()),\n",
    "        options=options,\n",
    "    )\n",
    "\n",
    "    if use_proxy:\n",
    "        driver_kwargs.update({\n",
    "            'seleniumwire_options': proxy_options\n",
    "        })\n",
    "\n",
    "    driver = webdriver.Chrome(**driver_kwargs)\n",
    "    \n",
    "    # Generate random stealth options\n",
    "    languages_options = [\"en-US\", \"en\", \"fr-FR\", \"es-ES\", \"de-DE\"]\n",
    "    platform_options = [\"Win32\", \"Linux x86_64\", \"MacIntel\"]\n",
    "    webgl_vendor_options = [\"Intel Inc.\", \"NVIDIA Corporation\", \"AMD\", \"Google Inc.\"]\n",
    "    renderer_options = [\n",
    "        \"Intel Iris OpenGL Engine\",\n",
    "        \"ANGLE (NVIDIA GeForce GTX 1050 Ti Direct3D11 vs_5_0)\",\n",
    "        \"ANGLE (Intel HD Graphics 520 Direct3D11 vs_5_0)\"\n",
    "    ]\n",
    "    \n",
    "    random_stealth_options = {\n",
    "        \"languages\": [random.choice(languages_options)],\n",
    "        \"vendor\": random.choice([\"Google Inc.\", \"Microsoft Corporation\", \"Apple Inc.\"]),\n",
    "        \"platform\": random.choice(platform_options),\n",
    "        \"webgl_vendor\": random.choice(webgl_vendor_options),\n",
    "        \"renderer\": random.choice(renderer_options),\n",
    "        \"fix_hairline\": True\n",
    "    }\n",
    "    \n",
    "    # Apply stealth settings to the driver (assuming stealth is set up)\n",
    "    stealth(driver,\n",
    "            languages=random_stealth_options[\"languages\"],\n",
    "            vendor=random_stealth_options[\"vendor\"],\n",
    "            platform=random_stealth_options[\"platform\"],\n",
    "            webgl_vendor=random_stealth_options[\"webgl_vendor\"],\n",
    "            renderer=random_stealth_options[\"renderer\"],\n",
    "            fix_hairline=random_stealth_options[\"fix_hairline\"])\n",
    "    \n",
    "    if verbose:\n",
    "        print(f\"[DEBUG] New driver session id: {driver.session_id} using profile: {unique_profile}\")\n",
    "        print(f\"[DEBUG] User Agent: {ua}\")\n",
    "\n",
    "    return driver\n",
    "\n",
    "# Example usage:\n",
    "# driver = init_scraping_browser()\n"
   ]
  },
  {
   "cell_type": "code",
   "execution_count": 10,
   "id": "75e59cec",
   "metadata": {},
   "outputs": [],
   "source": [
    "from selenium.webdriver.common.by import By\n",
    "import re\n",
    "from selenium.webdriver.support.ui import WebDriverWait\n",
    "from selenium.webdriver.support import expected_conditions as EC\n",
    "from selenium.common.exceptions import TimeoutException\n",
    "\n",
    "# Define a custom exception\n",
    "class AntiBotException(Exception):\n",
    "    \"\"\"Raised when a reload button is detected, indicating the page requires reloading.\"\"\"\n",
    "    pass\n",
    "\n",
    "def extract_description(driver, sample_url, verbose=False, timeout=8):\n",
    "    from selenium.webdriver.common.by import By\n",
    "    from selenium.webdriver.support.ui import WebDriverWait\n",
    "    from selenium.common.exceptions import TimeoutException\n",
    "\n",
    "    if verbose:\n",
    "        print(f\"[INFO] NAVIGATING TO (timeout={timeout}): {sample_url}\")\n",
    "    driver.get(sample_url)\n",
    "\n",
    "    # Wait until one of the four elements is present:\n",
    "    # - description element (class \"k7y_28\")\n",
    "    # - alternative description element (class \"s0k_28\")\n",
    "    # - reload button (id \"reload-button\")\n",
    "    # - out-of-stock indicator (a element with class \"v1l_28\")\n",
    "    WebDriverWait(driver, timeout).until(\n",
    "        lambda d: d.find_elements(By.CLASS_NAME, \"k7y_28\") or \n",
    "                  d.find_elements(By.CLASS_NAME, \"s0k_28\") or\n",
    "                  d.find_elements(By.ID, \"reload-button\") or \n",
    "                  d.find_elements(By.CSS_SELECTOR, \"a.v1l_28\")\n",
    "    )\n",
    "\n",
    "    # Check for a reload button first; if found, raise AntiBotException.\n",
    "    if driver.find_elements(By.ID, \"reload-button\"):\n",
    "        raise AntiBotException(f\"Reload button detected on {sample_url}; page requires reloading.\")\n",
    "\n",
    "    # If an out-of-stock indicator is found, log and return None.\n",
    "    if driver.find_elements(By.CSS_SELECTOR, \"a.v1l_28\"):\n",
    "        if verbose:\n",
    "            print(\"[INFO] OUT-OF-STOCK INDICATOR DETECTED. IGNORING\")\n",
    "        return None\n",
    "\n",
    "    # Attempt to retrieve the description from element with class \"k7y_28\"\n",
    "    description_elements = driver.find_elements(By.CLASS_NAME, \"k7y_28\")\n",
    "    if description_elements:\n",
    "        if verbose:\n",
    "            print(\"[INFO] DESCRIPTION DETECTED (k7y_28)\")\n",
    "        return description_elements[0].text.strip()\n",
    "\n",
    "    # If not found, fall back to the alternative description element \"s0k_28\"\n",
    "    description_elements = driver.find_elements(By.CLASS_NAME, \"s0k_28\")\n",
    "    if description_elements:\n",
    "        if verbose:\n",
    "            print(\"[INFO] DESCRIPTION EMPTY (s0k_28)\")\n",
    "        return None\n",
    "\n",
    "    if verbose:\n",
    "        print(\"[INFO] DESCRIPTION ELEMENT NOT FOUND\")\n",
    "    return None\n",
    "\n",
    "# out_of_stock_indices = [\n",
    "#     4009,\n",
    "#     1388,\n",
    "#     1446,\n",
    "#     5696\n",
    "# ]\n",
    "\n",
    "# empty_description_indices = [\n",
    "#     3959\n",
    "# ]\n",
    "\n",
    "# # Example usage:\n",
    "# driver = init_scraping_browser()\n",
    "# sample_url = source_df.sample(1)['URL'].item()\n",
    "# # sample_url = source_df.loc[out_of_stock_indices].sample(1)['URL'].item()\n",
    "# # sample_url = source_df.loc[empty_description_indices].sample(1)['URL'].item()\n",
    "# try:\n",
    "#     description = extract_description(\n",
    "#         driver, sample_url, verbose=True, timeout=20\n",
    "#     )\n",
    "#     print(f\"\\nDescription: {description}\")\n",
    "# except AntiBotException as e:\n",
    "#     print(f\"\\nBlocked: {e}\")"
   ]
  },
  {
   "cell_type": "code",
   "execution_count": 11,
   "id": "3502632b",
   "metadata": {},
   "outputs": [],
   "source": [
    "# CELL #4: Retry wrapper\n",
    "\n",
    "TIMEOUT_WITH_PROXY = 20\n",
    "\n",
    "def retry_extract_description(\n",
    "    driver, sample_url, verbose=False,\n",
    "    timeout=20, max_retries=10, timeout_delta=2\n",
    "):\n",
    "    \"\"\"\n",
    "    Tries to extract a description from sample_url using extract_description().\n",
    "    On AntiBotException, it quits the current driver and reinitializes a fresh one.\n",
    "    Retries until max_retries is reached, then raises TimeoutException.\n",
    "    \n",
    "    Returns:\n",
    "        description (str): The extracted description text.\n",
    "    \"\"\"\n",
    "    from selenium.common.exceptions import TimeoutException\n",
    "    attempt = 0\n",
    "    while attempt < max_retries:\n",
    "        attempt += 1\n",
    "        if verbose:\n",
    "            print(f\"[RETRY WRAPPER] (ATTEMPT {attempt} | timeout {timeout}) - Using driver id: {id(driver)}\")\n",
    "        try:\n",
    "            description = extract_description(driver, sample_url, verbose=verbose, timeout=timeout)\n",
    "            driver.quit()\n",
    "            return description\n",
    "        except AntiBotException as e:\n",
    "            if verbose:\n",
    "                print(f\"[RETRY WRAPPER] (ATTEMPT {attempt} | timeout {timeout}) - AntiBotException detected: {e}. Reinitializing driver.\")\n",
    "            driver.quit()\n",
    "            driver = init_scraping_browser(use_proxy=True, verbose=verbose)\n",
    "            timeout = TIMEOUT_WITH_PROXY\n",
    "        except TimeoutException as e:\n",
    "            if verbose:\n",
    "                print(f\"[RETRY WRAPPER] (ATTEMPT {attempt} | timeout {timeout}) - Timeout. Increasing by {timeout_delta}\")\n",
    "            driver.quit()\n",
    "            driver = init_scraping_browser(use_proxy=True, verbose=verbose)\n",
    "            timeout += timeout_delta\n",
    "        except Exception as ex:\n",
    "            if verbose:\n",
    "                print(f\"[RETRY WRAPPER] (ATTEMPT {attempt} | timeout {timeout}) - ERROR: {ex}. Retrying.\")\n",
    "        import time\n",
    "        time.sleep(1)\n",
    "    raise TimeoutException(f\"Max retries reached for {sample_url}\")\n",
    "\n",
    "\n",
    "# # Initialize a driver instance.\n",
    "# driver = init_scraping_browser()\n",
    "# sample_url = source_df.sample(1)['URL'].item()\n",
    "# try:\n",
    "#     description = retry_extract_description(\n",
    "#         driver, sample_url, verbose=True, \n",
    "#         timeout=20, max_retries=10, timeout_delta=2\n",
    "#     )\n",
    "\n",
    "#     print(f\"\\nDescription: {description}\")\n",
    "# except AntiBotException as e:\n",
    "#     print(f\"\\nAntibot page detected: {e}\")\n",
    "# except Exception as e:\n",
    "#     print(f\"\\nOther error: {e}\")\n",
    "# finally:\n",
    "#     driver.quit()"
   ]
  },
  {
   "cell_type": "code",
   "execution_count": 12,
   "id": "84e75b99",
   "metadata": {},
   "outputs": [],
   "source": [
    "# CELL #5: Parallel writing to single .parquet file\n",
    "\n",
    "import concurrent\n",
    "import numpy as np\n",
    "import threading\n",
    "from queue import Queue\n",
    "import pandas as pd\n",
    "import pyarrow as pa\n",
    "import pyarrow.parquet as pq\n",
    "import nest_asyncio\n",
    "nest_asyncio.apply()\n",
    "\n",
    "# ---------------------------------------------------------------------------\n",
    "# Assume source_df is your DataFrame with a 'URL' column.\n",
    "# Also assume that init_scraping_browser() and extract_img_link_and_descr()\n",
    "# are defined (the latter accepts parameters: driver, sample_url, row_id, verbose).\n",
    "\n",
    "# ---------------------------------------------------------------------------\n",
    "def writer_thread_func(result_queue, output_file):\n",
    "    schema = pa.schema([\n",
    "        ('SKU', pa.string()),\n",
    "        ('URL', pa.string()),\n",
    "        ('description', pa.string()),\n",
    "    ])\n",
    "    writer = None\n",
    "    while True:\n",
    "        result = result_queue.get()\n",
    "        if result is None:\n",
    "            result_queue.task_done()\n",
    "            break  # Sentinel value to exit.\n",
    "        sku, url, description = result\n",
    "        data = {\n",
    "            'SKU': [str(sku)],\n",
    "            'URL': [str(url)],\n",
    "            'description': [str(description) if description is not None else None],\n",
    "        }\n",
    "        try:\n",
    "            table = pa.Table.from_pydict(data, schema=schema)\n",
    "        except Exception as ex:\n",
    "            print(f\"Data conversion error for SKU {sku}: {data} -> {ex}\")\n",
    "            result_queue.task_done()\n",
    "            continue\n",
    "        if writer is None:\n",
    "            writer = pq.ParquetWriter(output_file, schema)\n",
    "        writer.write_table(table)\n",
    "        result_queue.task_done()\n",
    "    if writer is not None:\n",
    "        writer.close()"
   ]
  },
  {
   "cell_type": "code",
   "execution_count": 13,
   "id": "43139d00",
   "metadata": {},
   "outputs": [],
   "source": [
    "from pathlib import Path\n",
    "from huggingface_hub import HfApi, HfFolder\n",
    "\n",
    "def upload_file_to_hf(output_file, repo_id=\"INDEEPA/clip-siamese\", repo_type=\"dataset\", verbose=True):\n",
    "    \"\"\"\n",
    "    Uploads a file to a Hugging Face repository using HfApi.upload_file.\n",
    "    \n",
    "    The remote file path is constructed from the file's immediate parent folder \n",
    "    and its file name. For example, if output_file is:\n",
    "      \"tmp/OZ_geo_5k_descriptions/part.0.parquet\"\n",
    "    then the file is uploaded as:\n",
    "      \"OZ_geo_5k_descriptions/part.0.parquet\"\n",
    "    \n",
    "    Args:\n",
    "        output_file (str): The path to the local file.\n",
    "        repo_id (str): The Hugging Face repository ID (default is \"INDEEPA/clip-siamese\").\n",
    "        repo_type (str): The type of repository (default is \"dataset\").\n",
    "    \"\"\"\n",
    "    # Retrieve your Hugging Face token (ensure it's set in your environment)\n",
    "    token = HfFolder.get_token()\n",
    "    \n",
    "    # Create a Path object for easier manipulation\n",
    "    path_obj = Path(output_file)\n",
    "    \n",
    "    # Extract the immediate parent folder name and the file name\n",
    "    parent_folder = path_obj.parent.name\n",
    "    file_name = path_obj.name\n",
    "    \n",
    "    # Construct the remote file path using both parent folder and file name\n",
    "    remote_file_path = f\"{parent_folder}/{file_name}\"\n",
    "    \n",
    "    # Upload the file using HfApi.upload_file\n",
    "    HfApi().upload_file(\n",
    "        path_or_fileobj=output_file,\n",
    "        path_in_repo=remote_file_path,\n",
    "        repo_id=repo_id,\n",
    "        repo_type=repo_type,\n",
    "        token=token,\n",
    "    )\n",
    "    \n",
    "    if verbose:\n",
    "      print(f\"Uploaded {output_file} as {remote_file_path} to {repo_id}\")\n",
    "\n",
    "# # Example usage:\n",
    "# upload_file_to_hf(f'tmp/OZ_geo_5k_descriptions/part.{SHARD_IDX}.parquet')"
   ]
  },
  {
   "cell_type": "code",
   "execution_count": null,
   "id": "ecdc2a01",
   "metadata": {},
   "outputs": [
    {
     "name": "stderr",
     "output_type": "stream",
     "text": [
      "Processing tasks:   0%|          | 0/2852 [00:00<?, ?it/s]No files have been modified since last commit. Skipping to prevent empty commit.\n"
     ]
    },
    {
     "name": "stdout",
     "output_type": "stream",
     "text": [
      "Uploaded tmp/OZ_geo_5k_descriptions/part.0.parquet as OZ_geo_5k_descriptions/part.0.parquet to INDEEPA/clip-siamese\n",
      "[DEBUG] New driver session id: af25f07ad2da495fc9dc8a2a2b8b659a using profile: /tmp/chrome_profile_0ac65506e65a4a63a57ab556486996ce_gw02777g[DEBUG] New driver session id: 1827c78a1fdc0ee52fce5b081762d235 using profile: /tmp/chrome_profile_d040aa380a2c471382887ac8440083c3_lc0pzd2s\n",
      "\n",
      "[DEBUG] User Agent: Mozilla/5.0 (Windows NT 10.0; Win64; x64) AppleWebKit/537.36 (KHTML, like Gecko) Chrome/70.0.3538.102 Safari/537.36 Edge/18.1958[DEBUG] User Agent: Mozilla/5.0 (Windows NT 10.0; Win64; x64) AppleWebKit/537.36 (KHTML, like Gecko) Chrome/134.0.0.0 Safari/537.3\n",
      "\n",
      "[RETRY WRAPPER] (ATTEMPT 1 | timeout 20) - Using driver id: 140255618671888\n",
      "[INFO] NAVIGATING TO (timeout=20): https://www.ozon.ru/context/detail/id/936454663/\n",
      "[RETRY WRAPPER] (ATTEMPT 1 | timeout 20) - Using driver id: 140255618672224\n",
      "[INFO] NAVIGATING TO (timeout=20): https://www.ozon.ru/context/detail/id/268682139/\n",
      "[RETRY WRAPPER] (ATTEMPT 1 | timeout 20) - Timeout. Increasing by 2\n",
      "[DEBUG] New driver session id: 4fd86b1cdb26eef7b30f540e4b9d4dfa using profile: /tmp/chrome_profile_677cf1e645434a828acaa63b0ba848d8_19d8qe02\n",
      "[DEBUG] User Agent: Mozilla/5.0 (Windows NT 10.0; Win64; x64) AppleWebKit/537.36 (KHTML, like Gecko) Chrome/70.0.3538.102 Safari/537.36 Edge/18.1958\n",
      "[RETRY WRAPPER] (ATTEMPT 2 | timeout 22) - Using driver id: 140256796132688\n",
      "[INFO] NAVIGATING TO (timeout=22): https://www.ozon.ru/context/detail/id/936454663/\n",
      "[INFO] DESCRIPTION DETECTED (k7y_28)\n"
     ]
    },
    {
     "name": "stderr",
     "output_type": "stream",
     "text": [
      "Processing tasks:   0%|          | 1/2852 [00:33<26:50:00, 33.88s/it]"
     ]
    },
    {
     "name": "stdout",
     "output_type": "stream",
     "text": [
      "[268682139] - DESCRIPTION SUCCESS: На политической карте мира BRAUBERG 101х70 см отображено сов...\n",
      "[DEBUG] New driver session id: 6146d5e915a5962e7c9b6b400ba54ae7 using profile: /tmp/chrome_profile_ac5c1258b75b4d69bf82ba48a085b758_ge5pbvo6\n",
      "[DEBUG] User Agent: Mozilla/5.0 (Windows NT 10.0; Win64; x64) AppleWebKit/537.36 (KHTML, like Gecko) Chrome/134.0.0.0 Safari/537.36 Edg/134.0.0.\n",
      "[RETRY WRAPPER] (ATTEMPT 1 | timeout 20) - Using driver id: 140255619400080\n",
      "[INFO] NAVIGATING TO (timeout=20): https://www.ozon.ru/context/detail/id/438166622/\n",
      "[RETRY WRAPPER] (ATTEMPT 2 | timeout 22) - AntiBotException detected: Reload button detected on https://www.ozon.ru/context/detail/id/936454663/; page requires reloading.. Reinitializing driver.\n",
      "[DEBUG] New driver session id: 986a695e7d31b0c8929f88cc7a470715 using profile: /tmp/chrome_profile_77af65f0e94e4c7bbb3714c98dffbb0d_m6sz295e\n",
      "[DEBUG] User Agent: Mozilla/5.0 (Windows NT 10.0; Win64; x64) AppleWebKit/537.36 (KHTML, like Gecko) Chrome/134.0.0.0 Safari/537.36 Edg/134.0.0.\n",
      "[RETRY WRAPPER] (ATTEMPT 3 | timeout 20) - Using driver id: 140256796141648\n",
      "[INFO] NAVIGATING TO (timeout=20): https://www.ozon.ru/context/detail/id/936454663/\n",
      "[INFO] DESCRIPTION DETECTED (k7y_28)\n"
     ]
    },
    {
     "name": "stderr",
     "output_type": "stream",
     "text": [
      "Processing tasks:   0%|          | 2/2852 [00:57<21:53:07, 27.64s/it]"
     ]
    },
    {
     "name": "stdout",
     "output_type": "stream",
     "text": [
      "[438166622] - DESCRIPTION SUCCESS: Papitama — игровая карта мира для детей от 4 до 99 лет\n",
      "Помог...\n",
      "[DEBUG] New driver session id: 023e4b8f9783342579a0394b041e4433 using profile: /tmp/chrome_profile_e7f71dbe11f34a6ebac22dc970378e52_i_f4ms6w\n",
      "[DEBUG] User Agent: Mozilla/5.0 (Windows NT 10.0; Win64; x64) AppleWebKit/537.36 (KHTML, like Gecko) Chrome/70.0.3538.102 Safari/537.36 Edge/18.1958\n",
      "[RETRY WRAPPER] (ATTEMPT 1 | timeout 20) - Using driver id: 140255585933968\n",
      "[INFO] NAVIGATING TO (timeout=20): https://www.ozon.ru/context/detail/id/1712946829/\n",
      "[RETRY WRAPPER] (ATTEMPT 3 | timeout 20) - Timeout. Increasing by 2\n",
      "[RETRY WRAPPER] (ATTEMPT 1 | timeout 20) - AntiBotException detected: Reload button detected on https://www.ozon.ru/context/detail/id/1712946829/; page requires reloading.. Reinitializing driver.\n",
      "[DEBUG] New driver session id: b5f8a50d35b93b2d89f18310c0275502 using profile: /tmp/chrome_profile_5ad5aae9481f4190812b7a8ff0444694_clmoohen\n",
      "[DEBUG] User Agent: Mozilla/5.0 (Windows NT 10.0; Win64; x64) AppleWebKit/537.36 (KHTML, like Gecko) Chrome/134.0.0.0 Safari/537.36 Edg/134.0.0.\n",
      "[RETRY WRAPPER] (ATTEMPT 4 | timeout 22) - Using driver id: 140255594605632\n",
      "[INFO] NAVIGATING TO (timeout=22): https://www.ozon.ru/context/detail/id/936454663/\n",
      "Uploaded tmp/OZ_geo_5k_descriptions/part.0.parquet as OZ_geo_5k_descriptions/part.0.parquet to INDEEPA/clip-siamese\n",
      "[DEBUG] New driver session id: 732ed9e0711d7715b30076526d789551 using profile: /tmp/chrome_profile_c49ee88596f946b9ac0b7d9534d8d50e_xqtr_i7r\n",
      "[DEBUG] User Agent: Mozilla/5.0 (Windows NT 10.0; Win64; x64) AppleWebKit/537.36 (KHTML, like Gecko) Chrome/134.0.0.0 Safari/537.36 Edg/134.0.0.\n",
      "[RETRY WRAPPER] (ATTEMPT 2 | timeout 20) - Using driver id: 140255584945424\n",
      "[INFO] NAVIGATING TO (timeout=20): https://www.ozon.ru/context/detail/id/1712946829/\n",
      "[RETRY WRAPPER] (ATTEMPT 2 | timeout 20) - AntiBotException detected: Reload button detected on https://www.ozon.ru/context/detail/id/1712946829/; page requires reloading.. Reinitializing driver.\n",
      "[DEBUG] New driver session id: 9609548c9e2e7b9a6cdcdfdd6e1f0483 using profile: /tmp/chrome_profile_3f3c77f827d4460b80864e0fb9579ced_ntvkpn60\n",
      "[DEBUG] User Agent: Mozilla/5.0 (Windows NT 10.0; Win64; x64) AppleWebKit/537.36 (KHTML, like Gecko) Chrome/134.0.0.0 Safari/537.3\n",
      "[RETRY WRAPPER] (ATTEMPT 3 | timeout 20) - Using driver id: 140255585102608\n",
      "[INFO] NAVIGATING TO (timeout=20): https://www.ozon.ru/context/detail/id/1712946829/\n",
      "[RETRY WRAPPER] (ATTEMPT 3 | timeout 20) - AntiBotException detected: Reload button detected on https://www.ozon.ru/context/detail/id/1712946829/; page requires reloading.. Reinitializing driver.\n",
      "[DEBUG] New driver session id: 1697bc9da15fc9e3642f9642d7d25da3 using profile: /tmp/chrome_profile_a86e1ec9296a4916a03a6faeb25537ef_im_b0lfc\n",
      "[DEBUG] User Agent: Mozilla/5.0 (Windows NT 10.0; Win64; x64) AppleWebKit/537.36 (KHTML, like Gecko) Chrome/134.0.0.0 Safari/537.36 Edg/134.0.0.\n",
      "[RETRY WRAPPER] (ATTEMPT 4 | timeout 20) - Using driver id: 140256306726096\n",
      "[INFO] NAVIGATING TO (timeout=20): https://www.ozon.ru/context/detail/id/1712946829/\n",
      "[RETRY WRAPPER] (ATTEMPT 4 | timeout 22) - Timeout. Increasing by 2\n",
      "[DEBUG] New driver session id: 6a855d5c0c05a8e1718f8c07f6174ced using profile: /tmp/chrome_profile_d3ba8f4b91ea446fbd7a3c851361940d_c7pssb0o\n",
      "[DEBUG] User Agent: Mozilla/5.0 (Windows NT 10.0; Win64; x64) AppleWebKit/537.36 (KHTML, like Gecko) Chrome/134.0.0.0 Safari/537.36 Edg/134.0.0.\n",
      "[RETRY WRAPPER] (ATTEMPT 5 | timeout 24) - Using driver id: 140255619348208\n",
      "[INFO] NAVIGATING TO (timeout=24): https://www.ozon.ru/context/detail/id/936454663/\n",
      "[INFO] DESCRIPTION DETECTED (k7y_28)\n"
     ]
    },
    {
     "name": "stderr",
     "output_type": "stream",
     "text": [
      "Processing tasks:   0%|          | 3/2852 [01:31<24:27:28, 30.90s/it]"
     ]
    },
    {
     "name": "stdout",
     "output_type": "stream",
     "text": [
      "[1712946829] - DESCRIPTION SUCCESS: Вас когда-нибудь завораживала идея путешествий? Настенная ка...\n",
      "[RETRY WRAPPER] (ATTEMPT 5 | timeout 24) - AntiBotException detected: Reload button detected on https://www.ozon.ru/context/detail/id/936454663/; page requires reloading.. Reinitializing driver.\n",
      "[DEBUG] New driver session id: f2d1770bfe9a3e9da32481146b6f95aa using profile: /tmp/chrome_profile_e3291eed03d54dd99849f5823da1386a_vkkam45w\n",
      "[DEBUG] User Agent: Mozilla/5.0 (Windows NT 10.0; Win64; x64) AppleWebKit/537.36 (KHTML, like Gecko) Chrome/134.0.0.0 Safari/537.36 Edg/134.0.0.\n",
      "[RETRY WRAPPER] (ATTEMPT 1 | timeout 20) - Using driver id: 140255594766384\n",
      "[INFO] NAVIGATING TO (timeout=20): https://www.ozon.ru/context/detail/id/1713026634/\n",
      "[DEBUG] New driver session id: 091808a956c2394f8b19330c3f56a4a4 using profile: /tmp/chrome_profile_b54d23b86bf24126a45368067a9b4b15_9zft3gzx\n",
      "[DEBUG] User Agent: Mozilla/5.0 (Windows NT 10.0; Win64; x64) AppleWebKit/537.36 (KHTML, like Gecko) Chrome/134.0.0.0 Safari/537.36 Edg/134.0.0.\n",
      "[RETRY WRAPPER] (ATTEMPT 6 | timeout 20) - Using driver id: 140256668277008\n",
      "[INFO] NAVIGATING TO (timeout=20): https://www.ozon.ru/context/detail/id/936454663/\n",
      "[RETRY WRAPPER] (ATTEMPT 1 | timeout 20) - AntiBotException detected: Reload button detected on https://www.ozon.ru/context/detail/id/1713026634/; page requires reloading.. Reinitializing driver.\n",
      "[DEBUG] New driver session id: cedb5534faa3233973e3af4b4a73fe32 using profile: /tmp/chrome_profile_7244171014f64c3d8ab10f5b97fa95ab__nvm764r\n",
      "[DEBUG] User Agent: Mozilla/5.0 (Windows NT 10.0; Win64; x64) AppleWebKit/537.36 (KHTML, like Gecko) Chrome/70.0.3538.102 Safari/537.36 Edge/18.1958\n",
      "[RETRY WRAPPER] (ATTEMPT 2 | timeout 20) - Using driver id: 140255594763664\n",
      "[INFO] NAVIGATING TO (timeout=20): https://www.ozon.ru/context/detail/id/1713026634/\n",
      "[RETRY WRAPPER] (ATTEMPT 6 | timeout 20) - Timeout. Increasing by 2\n",
      "[DEBUG] New driver session id: 2198affd7181bc73352cb656685965b5 using profile: /tmp/chrome_profile_685485554aa74fc6af5a673438c331e4_ikdanbap\n",
      "[DEBUG] User Agent: Mozilla/5.0 (Windows NT 10.0; Win64; x64) AppleWebKit/537.36 (KHTML, like Gecko) Chrome/134.0.0.0 Safari/537.36 Edg/134.0.0.\n",
      "[INFO] DESCRIPTION DETECTED (k7y_28)\n",
      "[RETRY WRAPPER] (ATTEMPT 7 | timeout 22) - Using driver id: 140255594772640\n",
      "[INFO] NAVIGATING TO (timeout=22): https://www.ozon.ru/context/detail/id/936454663/\n"
     ]
    },
    {
     "name": "stderr",
     "output_type": "stream",
     "text": [
      "Processing tasks:   0%|          | 4/2852 [01:59<23:32:36, 29.76s/it]"
     ]
    },
    {
     "name": "stdout",
     "output_type": "stream",
     "text": [
      "[1713026634] - DESCRIPTION SUCCESS: В одном уютном уголке комнаты подростка могла бы разместитьс...\n",
      "[DEBUG] New driver session id: b090fa84df6f07a521d18569fdf9acaa using profile: /tmp/chrome_profile_6e16362992664b65a281810ce0f90451_p945w91c\n",
      "[DEBUG] User Agent: Mozilla/5.0 (Windows NT 10.0; Win64; x64) AppleWebKit/537.36 (KHTML, like Gecko) Chrome/70.0.3538.102 Safari/537.36 Edge/18.1958\n",
      "[RETRY WRAPPER] (ATTEMPT 1 | timeout 20) - Using driver id: 140255452709456\n",
      "[INFO] NAVIGATING TO (timeout=20): https://www.ozon.ru/context/detail/id/499509545/\n",
      "Uploaded tmp/OZ_geo_5k_descriptions/part.0.parquet as OZ_geo_5k_descriptions/part.0.parquet to INDEEPA/clip-siamese\n",
      "[RETRY WRAPPER] (ATTEMPT 1 | timeout 20) - Timeout. Increasing by 2\n",
      "[RETRY WRAPPER] (ATTEMPT 7 | timeout 22) - Timeout. Increasing by 2\n",
      "[DEBUG] New driver session id: be2c8f65b8b6b0a908f51efda1297cc2 using profile: /tmp/chrome_profile_76ac3004bdc64f85966dad25fba9b5e7_mg75t5xc\n",
      "[DEBUG] User Agent: Mozilla/5.0 (Windows NT 10.0; Win64; x64) AppleWebKit/537.36 (KHTML, like Gecko) Chrome/134.0.0.0 Safari/537.36 Edg/134.0.0.\n",
      "[DEBUG] New driver session id: 2841ad716f8116417729481d7929e3a5 using profile: /tmp/chrome_profile_e0bd1f7814bf42d79583f277beeb5002_62ba9y9q\n",
      "[DEBUG] User Agent: Mozilla/5.0 (Windows NT 10.0; Win64; x64) AppleWebKit/537.36 (KHTML, like Gecko) Chrome/134.0.0.0 Safari/537.36 Edg/134.0.0.\n",
      "[RETRY WRAPPER] (ATTEMPT 2 | timeout 22) - Using driver id: 140255468541520\n",
      "[INFO] NAVIGATING TO (timeout=22): https://www.ozon.ru/context/detail/id/499509545/\n",
      "[RETRY WRAPPER] (ATTEMPT 8 | timeout 24) - Using driver id: 140255594764752\n",
      "[INFO] NAVIGATING TO (timeout=24): https://www.ozon.ru/context/detail/id/936454663/\n",
      "[RETRY WRAPPER] (ATTEMPT 8 | timeout 24) - AntiBotException detected: Reload button detected on https://www.ozon.ru/context/detail/id/936454663/; page requires reloading.. Reinitializing driver.\n",
      "[DEBUG] New driver session id: 6309838ff9e0332b332a7094310c5383 using profile: /tmp/chrome_profile_52a3e151f756468f97c74616602adc61_c7v09dvc\n",
      "[DEBUG] User Agent: Mozilla/5.0 (Windows NT 10.0; Win64; x64) AppleWebKit/537.36 (KHTML, like Gecko) Chrome/134.0.0.0 Safari/537.36 Edg/134.0.0.\n",
      "[RETRY WRAPPER] (ATTEMPT 9 | timeout 20) - Using driver id: 140256800216656\n",
      "[INFO] NAVIGATING TO (timeout=20): https://www.ozon.ru/context/detail/id/936454663/\n",
      "[RETRY WRAPPER] (ATTEMPT 2 | timeout 22) - Timeout. Increasing by 2\n",
      "[DEBUG] New driver session id: 0535d870ff2e3979df0dc0e28fc1efe3 using profile: /tmp/chrome_profile_2fb41d9c5324454ba64c5dd498a7a182_ja7si_lp\n",
      "[DEBUG] User Agent: Mozilla/5.0 (Windows NT 10.0; Win64; x64) AppleWebKit/537.36 (KHTML, like Gecko) Chrome/134.0.0.0 Safari/537.36 Edg/134.0.0.\n",
      "[RETRY WRAPPER] (ATTEMPT 3 | timeout 24) - Using driver id: 140255595517648\n",
      "[INFO] NAVIGATING TO (timeout=24): https://www.ozon.ru/context/detail/id/499509545/\n",
      "[RETRY WRAPPER] (ATTEMPT 9 | timeout 20) - Timeout. Increasing by 2\n",
      "[DEBUG] New driver session id: 616bfa1a1dad8f111d3a97bd31f72997 using profile: /tmp/chrome_profile_2316ae94eaca4257af110ae4e4156fe7_gx5uwtmt\n",
      "[DEBUG] User Agent: Mozilla/5.0 (Windows NT 10.0; Win64; x64) AppleWebKit/537.36 (KHTML, like Gecko) Chrome/70.0.3538.102 Safari/537.36 Edge/18.1958\n",
      "[RETRY WRAPPER] (ATTEMPT 10 | timeout 22) - Using driver id: 140256799710544\n",
      "[INFO] NAVIGATING TO (timeout=22): https://www.ozon.ru/context/detail/id/936454663/\n"
     ]
    },
    {
     "name": "stderr",
     "output_type": "stream",
     "text": [
      "No files have been modified since last commit. Skipping to prevent empty commit.\n"
     ]
    },
    {
     "name": "stdout",
     "output_type": "stream",
     "text": [
      "Uploaded tmp/OZ_geo_5k_descriptions/part.0.parquet as OZ_geo_5k_descriptions/part.0.parquet to INDEEPA/clip-siamese\n",
      "[RETRY WRAPPER] (ATTEMPT 3 | timeout 24) - Timeout. Increasing by 2\n"
     ]
    },
    {
     "name": "stderr",
     "output_type": "stream",
     "text": [
      "Exception in thread Http2SingleStreamLayer-11:\n",
      "Traceback (most recent call last):\n",
      "  File \u001b[35m\"/home/anton/micromamba/envs/clip-siamese/lib/python3.13/threading.py\"\u001b[0m, line \u001b[35m1041\u001b[0m, in \u001b[35m_bootstrap_inner\u001b[0m\n",
      "    \u001b[31mself.run\u001b[0m\u001b[1;31m()\u001b[0m\n",
      "    \u001b[31m~~~~~~~~\u001b[0m\u001b[1;31m^^\u001b[0m\n",
      "  File \u001b[35m\"/home/anton/micromamba/envs/clip-siamese/lib/python3.13/site-packages/seleniumwire/thirdparty/mitmproxy/server/protocol/http2.py\"\u001b[0m, line \u001b[35m719\u001b[0m, in \u001b[35mrun\u001b[0m\n",
      "    \u001b[31mlayer\u001b[0m\u001b[1;31m()\u001b[0m\n",
      "    \u001b[31m~~~~~\u001b[0m\u001b[1;31m^^\u001b[0m\n",
      "  File \u001b[35m\"/home/anton/micromamba/envs/clip-siamese/lib/python3.13/site-packages/seleniumwire/thirdparty/mitmproxy/server/protocol/http.py\"\u001b[0m, line \u001b[35m206\u001b[0m, in \u001b[35m__call__\u001b[0m\n",
      "    if not \u001b[31mself._process_flow\u001b[0m\u001b[1;31m(flow)\u001b[0m:\n",
      "           \u001b[31m~~~~~~~~~~~~~~~~~~\u001b[0m\u001b[1;31m^^^^^^\u001b[0m\n",
      "  File \u001b[35m\"/home/anton/micromamba/envs/clip-siamese/lib/python3.13/site-packages/seleniumwire/thirdparty/mitmproxy/server/protocol/http.py\"\u001b[0m, line \u001b[35m388\u001b[0m, in \u001b[35m_process_flow\u001b[0m\n",
      "    \u001b[31mget_response\u001b[0m\u001b[1;31m()\u001b[0m\n",
      "    \u001b[31m~~~~~~~~~~~~\u001b[0m\u001b[1;31m^^\u001b[0m\n",
      "  File \u001b[35m\"/home/anton/micromamba/envs/clip-siamese/lib/python3.13/site-packages/seleniumwire/thirdparty/mitmproxy/server/protocol/http.py\"\u001b[0m, line \u001b[35m373\u001b[0m, in \u001b[35mget_response\u001b[0m\n",
      "    \u001b[31mself.send_request_headers\u001b[0m\u001b[1;31m(f.request)\u001b[0m\n",
      "    \u001b[31m~~~~~~~~~~~~~~~~~~~~~~~~~\u001b[0m\u001b[1;31m^^^^^^^^^^^\u001b[0m\n",
      "  File \u001b[35m\"/home/anton/micromamba/envs/clip-siamese/lib/python3.13/site-packages/seleniumwire/thirdparty/mitmproxy/server/protocol/http2.py\"\u001b[0m, line \u001b[35m389\u001b[0m, in \u001b[35mwrapper\u001b[0m\n",
      "    result = func(self, *args, **kwargs)\n",
      "  File \u001b[35m\"/home/anton/micromamba/envs/clip-siamese/lib/python3.13/site-packages/seleniumwire/thirdparty/mitmproxy/server/protocol/http2.py\"\u001b[0m, line \u001b[35m562\u001b[0m, in \u001b[35msend_request_headers\u001b[0m\n",
      "    max_streams = \u001b[31mself.connections\u001b[0m\u001b[1;31m[self.server_conn]\u001b[0m.remote_settings.max_concurrent_streams\n",
      "                  \u001b[31m~~~~~~~~~~~~~~~~\u001b[0m\u001b[1;31m^^^^^^^^^^^^^^^^^^\u001b[0m\n",
      "\u001b[1;35mKeyError\u001b[0m: \u001b[35m<ServerConnection: xapi.ozon.ru:443>\u001b[0m\n"
     ]
    },
    {
     "name": "stdout",
     "output_type": "stream",
     "text": [
      "[DEBUG] New driver session id: 0a1e6d1e91eba1265df34da32c7a957f using profile: /tmp/chrome_profile_2761f7b43c894e09a128a87f5a5d06cb_jtoq_hdp\n",
      "[DEBUG] User Agent: Mozilla/5.0 (Windows NT 10.0; Win64; x64) AppleWebKit/537.36 (KHTML, like Gecko) Chrome/70.0.3538.102 Safari/537.36 Edge/18.1958\n",
      "[RETRY WRAPPER] (ATTEMPT 4 | timeout 26) - Using driver id: 140255584113664\n",
      "[INFO] NAVIGATING TO (timeout=26): https://www.ozon.ru/context/detail/id/499509545/\n",
      "[RETRY WRAPPER] (ATTEMPT 10 | timeout 22) - Timeout. Increasing by 2\n",
      "[DEBUG] New driver session id: 8981e25b2456eb74ecd72f25a326fdc6 using profile: /tmp/chrome_profile_35988453fc5b444f960420f09cb57b1c_qlr0rim1\n",
      "[DEBUG] User Agent: Mozilla/5.0 (Windows NT 10.0; Win64; x64) AppleWebKit/537.36 (KHTML, like Gecko) Chrome/134.0.0.0 Safari/537.3\n"
     ]
    },
    {
     "name": "stderr",
     "output_type": "stream",
     "text": [
      "Processing tasks:   0%|          | 5/2852 [03:22<38:37:32, 48.84s/it]"
     ]
    },
    {
     "name": "stdout",
     "output_type": "stream",
     "text": [
      "[936454663] - ERROR TimeoutException PROCESSING ROW: Message: Max retries reached for https://www.ozon.ru/context/detail/id/936454663/\n",
      "\n",
      "[DEBUG] New driver session id: 4a59eed4c3da6989b9f0d867e3874b3e using profile: /tmp/chrome_profile_d471c16e86a0446d8bebcf091d0e1cb5_e8e36mxr\n",
      "[DEBUG] User Agent: Mozilla/5.0 (Windows NT 10.0; Win64; x64) AppleWebKit/537.36 (KHTML, like Gecko) Chrome/134.0.0.0 Safari/537.36 Edg/134.0.0.\n",
      "[RETRY WRAPPER] (ATTEMPT 1 | timeout 20) - Using driver id: 140256677343024\n",
      "[INFO] NAVIGATING TO (timeout=20): https://www.ozon.ru/context/detail/id/950549378/\n",
      "[RETRY WRAPPER] (ATTEMPT 4 | timeout 26) - AntiBotException detected: Reload button detected on https://www.ozon.ru/context/detail/id/499509545/; page requires reloading.. Reinitializing driver.\n",
      "[DEBUG] New driver session id: 9116c2334f05e2c74dcaaa9746938d07 using profile: /tmp/chrome_profile_5d05102eb3164e4c8993979136accc94_u9kgwljv\n",
      "[DEBUG] User Agent: Mozilla/5.0 (Windows NT 10.0; Win64; x64) AppleWebKit/537.36 (KHTML, like Gecko) Chrome/134.0.0.0 Safari/537.36 Edg/134.0.0.\n",
      "[RETRY WRAPPER] (ATTEMPT 5 | timeout 20) - Using driver id: 140255452033136\n",
      "[INFO] NAVIGATING TO (timeout=20): https://www.ozon.ru/context/detail/id/499509545/\n",
      "[INFO] DESCRIPTION DETECTED (k7y_28)\n"
     ]
    },
    {
     "name": "stderr",
     "output_type": "stream",
     "text": [
      "Processing tasks:   0%|          | 6/2852 [03:44<31:24:35, 39.73s/it]"
     ]
    },
    {
     "name": "stdout",
     "output_type": "stream",
     "text": [
      "[950549378] - DESCRIPTION SUCCESS: Карта Мира настенная, с государственными флагами, ламинирова...\n",
      "[DEBUG] New driver session id: c65eb6eee6d2a81c744b2361281be4ff using profile: /tmp/chrome_profile_4bf4c59c4293454fa56e646fcbaa9e82_ac9lgedr\n",
      "[DEBUG] User Agent: Mozilla/5.0 (Windows NT 10.0; Win64; x64) AppleWebKit/537.36 (KHTML, like Gecko) Chrome/70.0.3538.102 Safari/537.36 Edge/18.1958\n",
      "[RETRY WRAPPER] (ATTEMPT 1 | timeout 20) - Using driver id: 140256800232336\n",
      "[INFO] NAVIGATING TO (timeout=20): https://www.ozon.ru/context/detail/id/491270369/\n",
      "[RETRY WRAPPER] (ATTEMPT 5 | timeout 20) - Timeout. Increasing by 2\n",
      "[DEBUG] New driver session id: f44509b7a444566fb38800a262aca188 using profile: /tmp/chrome_profile_d7384eaf00dd4146b7dee874bcc584fe_gqwu6a9c\n",
      "[DEBUG] User Agent: Mozilla/5.0 (Windows NT 10.0; Win64; x64) AppleWebKit/537.36 (KHTML, like Gecko) Chrome/70.0.3538.102 Safari/537.36 Edge/18.1958\n",
      "[RETRY WRAPPER] (ATTEMPT 6 | timeout 22) - Using driver id: 140255585053488\n",
      "[INFO] NAVIGATING TO (timeout=22): https://www.ozon.ru/context/detail/id/499509545/\n",
      "[RETRY WRAPPER] (ATTEMPT 1 | timeout 20) - AntiBotException detected: Reload button detected on https://www.ozon.ru/context/detail/id/491270369/; page requires reloading.. Reinitializing driver.\n",
      "[DEBUG] New driver session id: 249eb13e6e0a338ef4e955f8ce0e9b3b using profile: /tmp/chrome_profile_66effa838b4d4d189cbf9da70290f24c_ku_9wdkf\n",
      "[DEBUG] User Agent: Mozilla/5.0 (Windows NT 10.0; Win64; x64) AppleWebKit/537.36 (KHTML, like Gecko) Chrome/134.0.0.0 Safari/537.36 Trailer/93.3.8652.5\n",
      "[RETRY WRAPPER] (ATTEMPT 2 | timeout 20) - Using driver id: 140256800241520\n",
      "[INFO] NAVIGATING TO (timeout=20): https://www.ozon.ru/context/detail/id/491270369/\n",
      "Uploaded tmp/OZ_geo_5k_descriptions/part.0.parquet as OZ_geo_5k_descriptions/part.0.parquet to INDEEPA/clip-siamese\n",
      "[RETRY WRAPPER] (ATTEMPT 6 | timeout 22) - Timeout. Increasing by 2\n",
      "[RETRY WRAPPER] (ATTEMPT 2 | timeout 20) - Timeout. Increasing by 2\n",
      "[DEBUG] New driver session id: f3ab8d53caf1cbb5631f62108a92bbe0 using profile: /tmp/chrome_profile_fb54b2c307044807a97421e22bee66aa_90qbegqu\n",
      "[DEBUG] User Agent: Mozilla/5.0 (Windows NT 10.0; Win64; x64) AppleWebKit/537.36 (KHTML, like Gecko) Chrome/134.0.0.0 Safari/537.36 Trailer/93.3.8652.5\n",
      "[RETRY WRAPPER] (ATTEMPT 7 | timeout 24) - Using driver id: 140255595173872\n",
      "[INFO] NAVIGATING TO (timeout=24): https://www.ozon.ru/context/detail/id/499509545/\n",
      "[DEBUG] New driver session id: e8bb8a84f165e613b6aa73e2f6baf6f4 using profile: /tmp/chrome_profile_6f30a64d91cd47ea8dbff0f02775380b_go82jg82\n",
      "[DEBUG] User Agent: Mozilla/5.0 (Windows NT 10.0; Win64; x64) AppleWebKit/537.36 (KHTML, like Gecko) Chrome/132.0.0.0 Safari/537.36 OPR/117.0.0.\n",
      "[RETRY WRAPPER] (ATTEMPT 3 | timeout 22) - Using driver id: 140255594651600\n",
      "[INFO] NAVIGATING TO (timeout=22): https://www.ozon.ru/context/detail/id/491270369/\n",
      "[RETRY WRAPPER] (ATTEMPT 3 | timeout 22) - AntiBotException detected: Reload button detected on https://www.ozon.ru/context/detail/id/491270369/; page requires reloading.. Reinitializing driver.\n",
      "[DEBUG] New driver session id: 1a4a34adb7ac92ef6f7de5cf0d6b807b using profile: /tmp/chrome_profile_15ac91bbf31642819c194b260417d8a5_k0xm1xwp\n",
      "[DEBUG] User Agent: Mozilla/5.0 (Windows NT 10.0; Win64; x64) AppleWebKit/537.36 (KHTML, like Gecko) Chrome/70.0.3538.102 Safari/537.36 Edge/18.1958\n",
      "[RETRY WRAPPER] (ATTEMPT 4 | timeout 20) - Using driver id: 140255594644880\n",
      "[INFO] NAVIGATING TO (timeout=20): https://www.ozon.ru/context/detail/id/491270369/\n",
      "[RETRY WRAPPER] (ATTEMPT 7 | timeout 24) - Timeout. Increasing by 2\n",
      "[DEBUG] New driver session id: 5df33fb2644b4976a4addfb0e6656aa0 using profile: /tmp/chrome_profile_2158abc36be24aeeb15175a0659bd656_x14fvtg4\n",
      "[DEBUG] User Agent: Mozilla/5.0 (Windows NT 10.0; Win64; x64) AppleWebKit/537.36 (KHTML, like Gecko) Chrome/134.0.0.0 Safari/537.3\n",
      "[RETRY WRAPPER] (ATTEMPT 8 | timeout 26) - Using driver id: 140255619118064\n",
      "[INFO] NAVIGATING TO (timeout=26): https://www.ozon.ru/context/detail/id/499509545/\n",
      "[RETRY WRAPPER] (ATTEMPT 4 | timeout 20) - Timeout. Increasing by 2\n",
      "[DEBUG] New driver session id: 7b621b0e12078e0c56c8ff163f00066d using profile: /tmp/chrome_profile_ee037e21a5aa44e88dd7a6ed9563e802_iq_3z9eg\n",
      "[DEBUG] User Agent: Mozilla/5.0 (Windows NT 10.0; Win64; x64) AppleWebKit/537.36 (KHTML, like Gecko) Chrome/70.0.3538.102 Safari/537.36 Edge/18.1958\n",
      "[RETRY WRAPPER] (ATTEMPT 5 | timeout 22) - Using driver id: 140256800230096\n",
      "[INFO] NAVIGATING TO (timeout=22): https://www.ozon.ru/context/detail/id/491270369/\n",
      "[RETRY WRAPPER] (ATTEMPT 8 | timeout 26) - AntiBotException detected: Reload button detected on https://www.ozon.ru/context/detail/id/499509545/; page requires reloading.. Reinitializing driver.\n",
      "[DEBUG] New driver session id: e8f17217cdfc874e1d23cca90b4be56c using profile: /tmp/chrome_profile_c69da14f0b044d65adef894e160a3859__s8c51yc\n",
      "[DEBUG] User Agent: Mozilla/5.0 (Windows NT 10.0; Win64; x64) AppleWebKit/537.36 (KHTML, like Gecko) Chrome/70.0.3538.102 Safari/537.36 Edge/18.1958\n",
      "[RETRY WRAPPER] (ATTEMPT 5 | timeout 22) - AntiBotException detected: Reload button detected on https://www.ozon.ru/context/detail/id/491270369/; page requires reloading.. Reinitializing driver.\n",
      "[RETRY WRAPPER] (ATTEMPT 9 | timeout 20) - Using driver id: 140255595181712\n",
      "[INFO] NAVIGATING TO (timeout=20): https://www.ozon.ru/context/detail/id/499509545/\n",
      "[DEBUG] New driver session id: 7cc1499d80b0b8dd6726fb7dc7f84efa using profile: /tmp/chrome_profile_f6352320e722467a9783d3f309cac6d7_mtsqttuf\n",
      "[DEBUG] User Agent: Mozilla/5.0 (Windows NT 10.0; Win64; x64) AppleWebKit/537.36 (KHTML, like Gecko) Chrome/134.0.0.0 Safari/537.36 Edg/134.0.0.\n",
      "[RETRY WRAPPER] (ATTEMPT 6 | timeout 20) - Using driver id: 140256800237936\n",
      "[INFO] NAVIGATING TO (timeout=20): https://www.ozon.ru/context/detail/id/491270369/\n"
     ]
    },
    {
     "name": "stderr",
     "output_type": "stream",
     "text": [
      "No files have been modified since last commit. Skipping to prevent empty commit.\n"
     ]
    },
    {
     "name": "stdout",
     "output_type": "stream",
     "text": [
      "Uploaded tmp/OZ_geo_5k_descriptions/part.0.parquet as OZ_geo_5k_descriptions/part.0.parquet to INDEEPA/clip-siamese\n",
      "[RETRY WRAPPER] (ATTEMPT 9 | timeout 20) - Timeout. Increasing by 2\n",
      "[DEBUG] New driver session id: 657c3f1bb4b1a12376d8b2c816bf58de using profile: /tmp/chrome_profile_b0db114db46c4dfba943850d00171c41_4pwoacwt\n",
      "[DEBUG] User Agent: Mozilla/5.0 (Windows NT 10.0; Win64; x64) AppleWebKit/537.36 (KHTML, like Gecko) Chrome/134.0.0.0 Safari/537.36 Trailer/93.3.8652.5\n",
      "[RETRY WRAPPER] (ATTEMPT 6 | timeout 20) - Timeout. Increasing by 2\n",
      "[RETRY WRAPPER] (ATTEMPT 10 | timeout 22) - Using driver id: 140255594755504\n",
      "[INFO] NAVIGATING TO (timeout=22): https://www.ozon.ru/context/detail/id/499509545/\n",
      "[DEBUG] New driver session id: 300e378a7ed1bfeca1a7f618c74d963f using profile: /tmp/chrome_profile_23cc52ff27d84642a902131d87bad0b2_c1hfy6ta\n",
      "[DEBUG] User Agent: Mozilla/5.0 (Windows NT 10.0; Win64; x64) AppleWebKit/537.36 (KHTML, like Gecko) Chrome/70.0.3538.102 Safari/537.36 Edge/18.1958\n",
      "[RETRY WRAPPER] (ATTEMPT 7 | timeout 22) - Using driver id: 140256795247792\n",
      "[INFO] NAVIGATING TO (timeout=22): https://www.ozon.ru/context/detail/id/491270369/\n",
      "[RETRY WRAPPER] (ATTEMPT 10 | timeout 22) - Timeout. Increasing by 2\n",
      "[DEBUG] New driver session id: 626690addb21c723719fe5abff63993c using profile: /tmp/chrome_profile_5ad967ea6a21469e915065dc9c8284d5_eae3_zfq\n",
      "[DEBUG] User Agent: Mozilla/5.0 (Windows NT 10.0; Win64; x64) AppleWebKit/537.36 (KHTML, like Gecko) Chrome/70.0.3538.102 Safari/537.36 Edge/18.1958\n",
      "[RETRY WRAPPER] (ATTEMPT 7 | timeout 22) - Timeout. Increasing by 2\n"
     ]
    },
    {
     "name": "stderr",
     "output_type": "stream",
     "text": [
      "Processing tasks:   0%|          | 7/2852 [05:42<51:37:32, 65.33s/it]"
     ]
    },
    {
     "name": "stdout",
     "output_type": "stream",
     "text": [
      "[499509545] - ERROR TimeoutException PROCESSING ROW: Message: Max retries reached for https://www.ozon.ru/context/detail/id/499509545/\n",
      "\n",
      "[DEBUG] New driver session id: 1cd4f4ab5f2346fcf6817bf73564c514 using profile: /tmp/chrome_profile_08f334a4f5f8477786dc3b04bdacd8e7_qr71t9h8\n",
      "[DEBUG] User Agent: Mozilla/5.0 (Windows NT 10.0; Win64; x64) AppleWebKit/537.36 (KHTML, like Gecko) Chrome/134.0.0.0 Safari/537.3\n",
      "[DEBUG] New driver session id: 6074155f7b4b49839f43a77b29c7d139 using profile: /tmp/chrome_profile_b05bf513dda24fc591fbe9e0157bface_gm92y086\n",
      "[DEBUG] User Agent: Mozilla/5.0 (Windows NT 10.0; Win64; x64) AppleWebKit/537.36 (KHTML, like Gecko) Chrome/132.0.0.0 Safari/537.36 OPR/117.0.0.\n",
      "[RETRY WRAPPER] (ATTEMPT 1 | timeout 20) - Using driver id: 140255619120528\n",
      "[INFO] NAVIGATING TO (timeout=20): https://www.ozon.ru/context/detail/id/1711987645/\n",
      "[RETRY WRAPPER] (ATTEMPT 8 | timeout 24) - Using driver id: 140255619120080\n",
      "[INFO] NAVIGATING TO (timeout=24): https://www.ozon.ru/context/detail/id/491270369/\n",
      "[RETRY WRAPPER] (ATTEMPT 1 | timeout 20) - AntiBotException detected: Reload button detected on https://www.ozon.ru/context/detail/id/1711987645/; page requires reloading.. Reinitializing driver.\n",
      "[DEBUG] New driver session id: 690b716b9ed6c89cd6ef5352dc559c25 using profile: /tmp/chrome_profile_2a63937c46744a6dbdb2308fc3264072_ea4r6odd\n",
      "[DEBUG] User Agent: Mozilla/5.0 (Windows NT 10.0; Win64; x64) AppleWebKit/537.36 (KHTML, like Gecko) Chrome/134.0.0.0 Safari/537.36 Edg/134.0.0.\n",
      "[RETRY WRAPPER] (ATTEMPT 2 | timeout 20) - Using driver id: 140255585049904\n",
      "[INFO] NAVIGATING TO (timeout=20): https://www.ozon.ru/context/detail/id/1711987645/\n",
      "[RETRY WRAPPER] (ATTEMPT 2 | timeout 20) - AntiBotException detected: Reload button detected on https://www.ozon.ru/context/detail/id/1711987645/; page requires reloading.. Reinitializing driver.\n",
      "[DEBUG] New driver session id: da44d8042cea863873254d1d3f65d15a using profile: /tmp/chrome_profile_9732230a00484b258e9b43cbd29f1d18_rj3ptl4r\n",
      "[DEBUG] User Agent: Mozilla/5.0 (Windows NT 10.0; Win64; x64) AppleWebKit/537.36 (KHTML, like Gecko) Chrome/70.0.3538.102 Safari/537.36 Edge/18.1958\n",
      "[RETRY WRAPPER] (ATTEMPT 3 | timeout 20) - Using driver id: 140255594755056\n",
      "[INFO] NAVIGATING TO (timeout=20): https://www.ozon.ru/context/detail/id/1711987645/\n"
     ]
    },
    {
     "name": "stderr",
     "output_type": "stream",
     "text": [
      "No files have been modified since last commit. Skipping to prevent empty commit.\n"
     ]
    },
    {
     "name": "stdout",
     "output_type": "stream",
     "text": [
      "Uploaded tmp/OZ_geo_5k_descriptions/part.0.parquet as OZ_geo_5k_descriptions/part.0.parquet to INDEEPA/clip-siamese\n",
      "[RETRY WRAPPER] (ATTEMPT 8 | timeout 24) - Timeout. Increasing by 2\n",
      "[DEBUG] New driver session id: bd029db52022fb07f5845be09d80d1b9 using profile: /tmp/chrome_profile_c9ff692e56204cb992c9ea120c9955df_j2_dwmsf\n",
      "[DEBUG] User Agent: Mozilla/5.0 (Windows NT 10.0; Win64; x64) AppleWebKit/537.36 (KHTML, like Gecko) Chrome/134.0.0.0 Safari/537.3\n",
      "[RETRY WRAPPER] (ATTEMPT 9 | timeout 26) - Using driver id: 140256794480880\n",
      "[INFO] NAVIGATING TO (timeout=26): https://www.ozon.ru/context/detail/id/491270369/\n",
      "[RETRY WRAPPER] (ATTEMPT 9 | timeout 26) - AntiBotException detected: Reload button detected on https://www.ozon.ru/context/detail/id/491270369/; page requires reloading.. Reinitializing driver.\n",
      "[DEBUG] New driver session id: edf48aaecdd7e1ccf3dbbc52fdc70300 using profile: /tmp/chrome_profile_3dc902106ea248a795ed8699df4a18a7_01lhix_r\n",
      "[DEBUG] User Agent: Mozilla/5.0 (Windows NT 10.0; Win64; x64) AppleWebKit/537.36 (KHTML, like Gecko) Chrome/134.0.0.0 Safari/537.3\n",
      "[INFO] DESCRIPTION DETECTED (k7y_28)\n"
     ]
    },
    {
     "name": "stderr",
     "output_type": "stream",
     "text": [
      "Processing tasks:   0%|          | 8/2852 [06:17<43:51:24, 55.51s/it]"
     ]
    },
    {
     "name": "stdout",
     "output_type": "stream",
     "text": [
      "[1711987645] - DESCRIPTION SUCCESS: Представляем вашему вниманию интерактивную географическую ка...\n",
      "[RETRY WRAPPER] (ATTEMPT 10 | timeout 20) - Using driver id: 140255619118512\n",
      "[INFO] NAVIGATING TO (timeout=20): https://www.ozon.ru/context/detail/id/491270369/\n",
      "[DEBUG] New driver session id: 34ffe14ad36a6bebd28d8a77db726cb8 using profile: /tmp/chrome_profile_e630a1d5093d42c2a354971b39123958_mlqwa5sc\n",
      "[DEBUG] User Agent: Mozilla/5.0 (Windows NT 10.0; Win64; x64) AppleWebKit/537.36 (KHTML, like Gecko) Chrome/134.0.0.0 Safari/537.36 Trailer/93.3.8652.5\n",
      "[RETRY WRAPPER] (ATTEMPT 1 | timeout 20) - Using driver id: 140255594752816\n",
      "[INFO] NAVIGATING TO (timeout=20): https://www.ozon.ru/context/detail/id/1422369500/\n",
      "[RETRY WRAPPER] (ATTEMPT 10 | timeout 20) - Timeout. Increasing by 2\n"
     ]
    },
    {
     "name": "stderr",
     "output_type": "stream",
     "text": [
      "Exception in thread Http2SingleStreamLayer-11:\n",
      "Traceback (most recent call last):\n",
      "  File \u001b[35m\"/home/anton/micromamba/envs/clip-siamese/lib/python3.13/threading.py\"\u001b[0m, line \u001b[35m1041\u001b[0m, in \u001b[35m_bootstrap_inner\u001b[0m\n",
      "    \u001b[31mself.run\u001b[0m\u001b[1;31m()\u001b[0m\n",
      "    \u001b[31m~~~~~~~~\u001b[0m\u001b[1;31m^^\u001b[0m\n",
      "  File \u001b[35m\"/home/anton/micromamba/envs/clip-siamese/lib/python3.13/site-packages/seleniumwire/thirdparty/mitmproxy/server/protocol/http2.py\"\u001b[0m, line \u001b[35m719\u001b[0m, in \u001b[35mrun\u001b[0m\n",
      "    \u001b[31mlayer\u001b[0m\u001b[1;31m()\u001b[0m\n",
      "    \u001b[31m~~~~~\u001b[0m\u001b[1;31m^^\u001b[0m\n",
      "  File \u001b[35m\"/home/anton/micromamba/envs/clip-siamese/lib/python3.13/site-packages/seleniumwire/thirdparty/mitmproxy/server/protocol/http.py\"\u001b[0m, line \u001b[35m206\u001b[0m, in \u001b[35m__call__\u001b[0m\n",
      "    if not \u001b[31mself._process_flow\u001b[0m\u001b[1;31m(flow)\u001b[0m:\n",
      "           \u001b[31m~~~~~~~~~~~~~~~~~~\u001b[0m\u001b[1;31m^^^^^^\u001b[0m\n",
      "  File \u001b[35m\"/home/anton/micromamba/envs/clip-siamese/lib/python3.13/site-packages/seleniumwire/thirdparty/mitmproxy/server/protocol/http.py\"\u001b[0m, line \u001b[35m388\u001b[0m, in \u001b[35m_process_flow\u001b[0m\n",
      "    \u001b[31mget_response\u001b[0m\u001b[1;31m()\u001b[0m\n",
      "    \u001b[31m~~~~~~~~~~~~\u001b[0m\u001b[1;31m^^\u001b[0m\n",
      "  File \u001b[35m\"/home/anton/micromamba/envs/clip-siamese/lib/python3.13/site-packages/seleniumwire/thirdparty/mitmproxy/server/protocol/http.py\"\u001b[0m, line \u001b[35m373\u001b[0m, in \u001b[35mget_response\u001b[0m\n",
      "    \u001b[31mself.send_request_headers\u001b[0m\u001b[1;31m(f.request)\u001b[0m\n",
      "    \u001b[31m~~~~~~~~~~~~~~~~~~~~~~~~~\u001b[0m\u001b[1;31m^^^^^^^^^^^\u001b[0m\n",
      "  File \u001b[35m\"/home/anton/micromamba/envs/clip-siamese/lib/python3.13/site-packages/seleniumwire/thirdparty/mitmproxy/server/protocol/http2.py\"\u001b[0m, line \u001b[35m389\u001b[0m, in \u001b[35mwrapper\u001b[0m\n",
      "    result = func(self, *args, **kwargs)\n",
      "  File \u001b[35m\"/home/anton/micromamba/envs/clip-siamese/lib/python3.13/site-packages/seleniumwire/thirdparty/mitmproxy/server/protocol/http2.py\"\u001b[0m, line \u001b[35m562\u001b[0m, in \u001b[35msend_request_headers\u001b[0m\n",
      "    max_streams = \u001b[31mself.connections\u001b[0m\u001b[1;31m[self.server_conn]\u001b[0m.remote_settings.max_concurrent_streams\n",
      "                  \u001b[31m~~~~~~~~~~~~~~~~\u001b[0m\u001b[1;31m^^^^^^^^^^^^^^^^^^\u001b[0m\n",
      "\u001b[1;35mKeyError\u001b[0m: \u001b[35m<ServerConnection: xapi.ozon.ru:443>\u001b[0m\n"
     ]
    },
    {
     "name": "stdout",
     "output_type": "stream",
     "text": [
      "[INFO] DESCRIPTION DETECTED (k7y_28)\n"
     ]
    },
    {
     "name": "stderr",
     "output_type": "stream",
     "text": [
      "Processing tasks:   0%|          | 9/2852 [06:40<35:59:01, 45.57s/it]"
     ]
    },
    {
     "name": "stdout",
     "output_type": "stream",
     "text": [
      "[1422369500] - DESCRIPTION SUCCESS: Новая Скретч карта Летопись Путешествий с серебряным скретч ...\n",
      "[DEBUG] New driver session id: f39c28f1eceb65ccce39974c9795ef3a using profile: /tmp/chrome_profile_fc70a0821b6d404b85675b9028357ddc_fadcbarx\n",
      "[DEBUG] User Agent: Mozilla/5.0 (Windows NT 10.0; Win64; x64) AppleWebKit/537.36 (KHTML, like Gecko) Chrome/134.0.0.0 Safari/537.36 Trailer/93.3.8652.5\n",
      "[DEBUG] New driver session id: 9af0736f0205a8fa2cf3c51160517648 using profile: /tmp/chrome_profile_41db357f0c5a445dbd948b674290cc38_k4g198ad\n",
      "[DEBUG] User Agent: Mozilla/5.0 (Windows NT 10.0; Win64; x64) AppleWebKit/537.36 (KHTML, like Gecko) Chrome/134.0.0.0 Safari/537.36 Trailer/93.3.8652.5\n",
      "[RETRY WRAPPER] (ATTEMPT 1 | timeout 20) - Using driver id: 140256800043344\n",
      "[INFO] NAVIGATING TO (timeout=20): https://www.ozon.ru/context/detail/id/1169061464/\n"
     ]
    },
    {
     "name": "stderr",
     "output_type": "stream",
     "text": [
      "Processing tasks:   0%|          | 10/2852 [06:42<25:11:12, 31.90s/it]"
     ]
    },
    {
     "name": "stdout",
     "output_type": "stream",
     "text": [
      "[491270369] - ERROR TimeoutException PROCESSING ROW: Message: Max retries reached for https://www.ozon.ru/context/detail/id/491270369/\n",
      "\n",
      "[DEBUG] New driver session id: 845d569837de0c64250eecfab5783b6f using profile: /tmp/chrome_profile_2d163c6ebcf34f2fbd42c6bfa439ae72_6freiarp\n",
      "[DEBUG] User Agent: Mozilla/5.0 (Windows NT 10.0; Win64; x64) AppleWebKit/537.36 (KHTML, like Gecko) Chrome/134.0.0.0 Safari/537.3\n",
      "[RETRY WRAPPER] (ATTEMPT 1 | timeout 20) - Using driver id: 140255619114480\n",
      "[INFO] NAVIGATING TO (timeout=20): https://www.ozon.ru/context/detail/id/268682154/\n",
      "[RETRY WRAPPER] (ATTEMPT 1 | timeout 20) - AntiBotException detected: Reload button detected on https://www.ozon.ru/context/detail/id/1169061464/; page requires reloading.. Reinitializing driver.\n",
      "[DEBUG] New driver session id: ddf6d89b4b0b4a266de9939cf131e284 using profile: /tmp/chrome_profile_30bd989a363c41328a8663afae0f6470_vkblb51j\n",
      "[DEBUG] User Agent: Mozilla/5.0 (Windows NT 10.0; Win64; x64) AppleWebKit/537.36 (KHTML, like Gecko) Chrome/134.0.0.0 Safari/537.36 Trailer/93.3.8652.5\n",
      "[RETRY WRAPPER] (ATTEMPT 2 | timeout 20) - Using driver id: 140255585057968\n",
      "[INFO] NAVIGATING TO (timeout=20): https://www.ozon.ru/context/detail/id/1169061464/\n",
      "[RETRY WRAPPER] (ATTEMPT 2 | timeout 20) - AntiBotException detected: Reload button detected on https://www.ozon.ru/context/detail/id/1169061464/; page requires reloading.. Reinitializing driver.\n",
      "[DEBUG] New driver session id: 8b78a8261aa70f94dc879e1aee5cbd85 using profile: /tmp/chrome_profile_9252169c60674824914c4a1baf180c14_39c8qxl5\n",
      "[DEBUG] User Agent: Mozilla/5.0 (Windows NT 10.0; Win64; x64) AppleWebKit/537.36 (KHTML, like Gecko) Chrome/132.0.0.0 Safari/537.36 OPR/117.0.0.\n",
      "[RETRY WRAPPER] (ATTEMPT 3 | timeout 20) - Using driver id: 140255469902480\n",
      "[INFO] NAVIGATING TO (timeout=20): https://www.ozon.ru/context/detail/id/1169061464/\n",
      "[INFO] DESCRIPTION DETECTED (k7y_28)\n"
     ]
    },
    {
     "name": "stderr",
     "output_type": "stream",
     "text": [
      "Processing tasks:   0%|          | 11/2852 [07:01<22:07:36, 28.04s/it]"
     ]
    },
    {
     "name": "stdout",
     "output_type": "stream",
     "text": [
      "[268682154] - DESCRIPTION SUCCESS: Погрузитесь в увлекательный мир географии с интерактивной ка...\n",
      "[DEBUG] New driver session id: 6b2e76bec2dda14b37154edd4894499d using profile: /tmp/chrome_profile_9ca865b323a3498ca9dd121aa6b910fe_44pbu_g1\n",
      "[DEBUG] User Agent: Mozilla/5.0 (Windows NT 10.0; Win64; x64) AppleWebKit/537.36 (KHTML, like Gecko) Chrome/132.0.0.0 Safari/537.36 OPR/117.0.0.\n",
      "[RETRY WRAPPER] (ATTEMPT 1 | timeout 20) - Using driver id: 140255594655408\n",
      "[INFO] NAVIGATING TO (timeout=20): https://www.ozon.ru/context/detail/id/857968654/\n"
     ]
    },
    {
     "data": {
      "application/vnd.jupyter.widget-view+json": {
       "model_id": "f7560fdfddea4ca789fdd756e24d551d",
       "version_major": 2,
       "version_minor": 0
      },
      "text/plain": [
       "part.0.parquet:   0%|          | 0.00/52.5k [00:00<?, ?B/s]"
      ]
     },
     "metadata": {},
     "output_type": "display_data"
    },
    {
     "name": "stdout",
     "output_type": "stream",
     "text": [
      "Uploaded tmp/OZ_geo_5k_descriptions/part.0.parquet as OZ_geo_5k_descriptions/part.0.parquet to INDEEPA/clip-siamese\n",
      "[INFO] DESCRIPTION DETECTED (k7y_28)\n"
     ]
    },
    {
     "name": "stderr",
     "output_type": "stream",
     "text": [
      "Processing tasks:   0%|          | 12/2852 [07:13<18:09:47, 23.02s/it]"
     ]
    },
    {
     "name": "stdout",
     "output_type": "stream",
     "text": [
      "[1169061464] - DESCRIPTION SUCCESS: Административная карта России в тубусе\n",
      "Масштаб карты: 1:6,7 ...\n",
      "[DEBUG] New driver session id: d64fc20cce3c78ba7bc0b42b504f2353 using profile: /tmp/chrome_profile_efb4160c770b4ac497c851ecc311a76b_09lx9uis\n",
      "[DEBUG] User Agent: Mozilla/5.0 (Windows NT 10.0; Win64; x64) AppleWebKit/537.36 (KHTML, like Gecko) Chrome/134.0.0.0 Safari/537.36 Trailer/93.3.8652.5\n",
      "[RETRY WRAPPER] (ATTEMPT 1 | timeout 20) - Using driver id: 140255585046768\n",
      "[INFO] NAVIGATING TO (timeout=20): https://www.ozon.ru/context/detail/id/490461387/\n",
      "[RETRY WRAPPER] (ATTEMPT 1 | timeout 20) - Timeout. Increasing by 2\n",
      "[DEBUG] New driver session id: 91677f26ca7b4c08b8c072be35bb16c3 using profile: /tmp/chrome_profile_270d0a2f83aa4ed686e63408f6a5f242_r98mc5p_\n",
      "[DEBUG] User Agent: Mozilla/5.0 (Windows NT 10.0; Win64; x64) AppleWebKit/537.36 (KHTML, like Gecko) Chrome/132.0.0.0 Safari/537.36 OPR/117.0.0.\n",
      "[RETRY WRAPPER] (ATTEMPT 2 | timeout 22) - Using driver id: 140256795256752\n",
      "[INFO] NAVIGATING TO (timeout=22): https://www.ozon.ru/context/detail/id/857968654/\n",
      "[INFO] DESCRIPTION DETECTED (k7y_28)\n"
     ]
    },
    {
     "name": "stderr",
     "output_type": "stream",
     "text": [
      "Processing tasks:   0%|          | 13/2852 [07:29<16:32:29, 20.98s/it]"
     ]
    },
    {
     "name": "stdout",
     "output_type": "stream",
     "text": [
      "[490461387] - DESCRIPTION SUCCESS: Откройте для себя мир с физической картой мира BRAUBERG разм...\n",
      "[DEBUG] New driver session id: 8398ffba660ac1277599808b93bf78c0 using profile: /tmp/chrome_profile_376691d2ef064a9f930d3218bd20d5f1_tb46w6rs\n",
      "[DEBUG] User Agent: Mozilla/5.0 (Windows NT 10.0; Win64; x64) AppleWebKit/537.36 (KHTML, like Gecko) Chrome/132.0.0.0 Safari/537.36 OPR/117.0.0.\n",
      "[RETRY WRAPPER] (ATTEMPT 1 | timeout 20) - Using driver id: 140255469906960\n",
      "[INFO] NAVIGATING TO (timeout=20): https://www.ozon.ru/context/detail/id/854403374/\n",
      "[RETRY WRAPPER] (ATTEMPT 1 | timeout 20) - AntiBotException detected: Reload button detected on https://www.ozon.ru/context/detail/id/854403374/; page requires reloading.. Reinitializing driver.\n",
      "[DEBUG] New driver session id: e7a75964dbb6fd438e34db66c5ba7865 using profile: /tmp/chrome_profile_2d754a170faf40c7817530387b0eb89d_85a_zuui\n",
      "[DEBUG] User Agent: Mozilla/5.0 (Windows NT 10.0; Win64; x64) AppleWebKit/537.36 (KHTML, like Gecko) Chrome/70.0.3538.102 Safari/537.36 Edge/18.1958\n",
      "[RETRY WRAPPER] (ATTEMPT 2 | timeout 20) - Using driver id: 140255469898224\n",
      "[INFO] NAVIGATING TO (timeout=20): https://www.ozon.ru/context/detail/id/854403374/\n",
      "[RETRY WRAPPER] (ATTEMPT 2 | timeout 22) - Timeout. Increasing by 2\n",
      "[DEBUG] New driver session id: c7faf7f6cd43e3181ee1a6b5139d5f43 using profile: /tmp/chrome_profile_7063e4f6863a459a8344d78078309877_cm5a52ez\n",
      "[DEBUG] User Agent: Mozilla/5.0 (Windows NT 10.0; Win64; x64) AppleWebKit/537.36 (KHTML, like Gecko) Chrome/132.0.0.0 Safari/537.36 OPR/117.0.0.\n",
      "[RETRY WRAPPER] (ATTEMPT 3 | timeout 24) - Using driver id: 140256794480432\n",
      "[INFO] NAVIGATING TO (timeout=24): https://www.ozon.ru/context/detail/id/857968654/\n",
      "[INFO] DESCRIPTION DETECTED (k7y_28)\n"
     ]
    },
    {
     "name": "stderr",
     "output_type": "stream",
     "text": [
      "Processing tasks:   0%|          | 14/2852 [07:54<17:38:54, 22.39s/it]"
     ]
    },
    {
     "name": "stdout",
     "output_type": "stream",
     "text": [
      "[854403374] - DESCRIPTION SUCCESS: Карта настенная Санкт-Петербург, ламинированная, 107х158см, ...\n",
      "[DEBUG] New driver session id: 8f53901f77729bf01dd04a5381b5d391 using profile: /tmp/chrome_profile_56b8a7fa01484133a203a7ae8aaaf0de_xts7l71a\n",
      "[DEBUG] User Agent: Mozilla/5.0 (Windows NT 10.0; Win64; x64) AppleWebKit/537.36 (KHTML, like Gecko) Chrome/134.0.0.0 Safari/537.3\n",
      "[RETRY WRAPPER] (ATTEMPT 1 | timeout 20) - Using driver id: 140255595183504\n",
      "[INFO] NAVIGATING TO (timeout=20): https://www.ozon.ru/context/detail/id/490461399/\n",
      "[RETRY WRAPPER] (ATTEMPT 3 | timeout 24) - AntiBotException detected: Reload button detected on https://www.ozon.ru/context/detail/id/857968654/; page requires reloading.. Reinitializing driver.\n",
      "[DEBUG] New driver session id: d53ce4f870f5fb6148ca39cebd242035 using profile: /tmp/chrome_profile_2bca3b132e494b189c1587a9d205ce6f_nley_jzn\n",
      "[DEBUG] User Agent: Mozilla/5.0 (Windows NT 10.0; Win64; x64) AppleWebKit/537.36 (KHTML, like Gecko) Chrome/134.0.0.0 Safari/537.36 Trailer/93.3.8652.5\n",
      "[RETRY WRAPPER] (ATTEMPT 4 | timeout 20) - Using driver id: 140256794488496\n",
      "[INFO] NAVIGATING TO (timeout=20): https://www.ozon.ru/context/detail/id/857968654/\n",
      "[RETRY WRAPPER] (ATTEMPT 4 | timeout 20) - AntiBotException detected: Reload button detected on https://www.ozon.ru/context/detail/id/857968654/; page requires reloading.. Reinitializing driver.\n",
      "[DEBUG] New driver session id: d5d47c87c0b3805320cdd90d7d838945 using profile: /tmp/chrome_profile_43ab36ed86a244899d0dcaf3965ae8b3_6on15hj7\n",
      "[DEBUG] User Agent: Mozilla/5.0 (Windows NT 10.0; Win64; x64) AppleWebKit/537.36 (KHTML, like Gecko) Chrome/132.0.0.0 Safari/537.36 OPR/117.0.0.\n",
      "[RETRY WRAPPER] (ATTEMPT 5 | timeout 20) - Using driver id: 140256794481552\n",
      "[INFO] NAVIGATING TO (timeout=20): https://www.ozon.ru/context/detail/id/857968654/\n",
      "[RETRY WRAPPER] (ATTEMPT 5 | timeout 20) - AntiBotException detected: Reload button detected on https://www.ozon.ru/context/detail/id/857968654/; page requires reloading.. Reinitializing driver.\n",
      "[INFO] DESCRIPTION EMPTY (s0k_28)\n"
     ]
    },
    {
     "name": "stderr",
     "output_type": "stream",
     "text": [
      "Processing tasks:   1%|          | 15/2852 [08:11<16:09:09, 20.50s/it]"
     ]
    },
    {
     "name": "stdout",
     "output_type": "stream",
     "text": [
      "[490461399] - DESCRIPTION OMITTED (OOS)\n"
     ]
    },
    {
     "data": {
      "application/vnd.jupyter.widget-view+json": {
       "model_id": "032de866450e4b3bae41611d78593b2a",
       "version_major": 2,
       "version_minor": 0
      },
      "text/plain": [
       "part.0.parquet:   0%|          | 0.00/68.3k [00:00<?, ?B/s]"
      ]
     },
     "metadata": {},
     "output_type": "display_data"
    },
    {
     "name": "stdout",
     "output_type": "stream",
     "text": [
      "[DEBUG] New driver session id: 950d8743186392c322a5c3eac1b356eb using profile: /tmp/chrome_profile_156cadfebd2545098ca0dea3e2d0abb4_2e70thkq\n",
      "[DEBUG] User Agent: Mozilla/5.0 (Windows NT 10.0; Win64; x64) AppleWebKit/537.36 (KHTML, like Gecko) Chrome/134.0.0.0 Safari/537.36 Trailer/93.3.8652.5\n"
     ]
    },
    {
     "name": "stderr",
     "output_type": "stream",
     "text": [
      "Exception in thread Thread-5 (periodic_uploader):\n",
      "Traceback (most recent call last):\n",
      "  File \u001b[35m\"/home/anton/micromamba/envs/clip-siamese/lib/python3.13/site-packages/huggingface_hub/utils/_http.py\"\u001b[0m, line \u001b[35m409\u001b[0m, in \u001b[35mhf_raise_for_status\u001b[0m\n",
      "    \u001b[31mresponse.raise_for_status\u001b[0m\u001b[1;31m()\u001b[0m\n",
      "    \u001b[31m~~~~~~~~~~~~~~~~~~~~~~~~~\u001b[0m\u001b[1;31m^^\u001b[0m\n",
      "  File \u001b[35m\"/home/anton/micromamba/envs/clip-siamese/lib/python3.13/site-packages/requests/models.py\"\u001b[0m, line \u001b[35m1024\u001b[0m, in \u001b[35mraise_for_status\u001b[0m\n",
      "    raise HTTPError(http_error_msg, response=self)\n",
      "\u001b[1;35mrequests.exceptions.HTTPError\u001b[0m: \u001b[35m400 Client Error: Bad Request for url: https://huggingface.co/datasets/INDEEPA/clip-siamese.git/info/lfs/objects/verify\u001b[0m\n",
      "\n",
      "The above exception was the direct cause of the following exception:\n",
      "\n",
      "Traceback (most recent call last):\n",
      "  File \u001b[35m\"/home/anton/micromamba/envs/clip-siamese/lib/python3.13/site-packages/huggingface_hub/_commit_api.py\"\u001b[0m, line \u001b[35m443\u001b[0m, in \u001b[35m_wrapped_lfs_upload\u001b[0m\n",
      "    \u001b[31mlfs_upload\u001b[0m\u001b[1;31m(operation=operation, lfs_batch_action=batch_action, headers=headers, endpoint=endpoint)\u001b[0m\n",
      "    \u001b[31m~~~~~~~~~~\u001b[0m\u001b[1;31m^^^^^^^^^^^^^^^^^^^^^^^^^^^^^^^^^^^^^^^^^^^^^^^^^^^^^^^^^^^^^^^^^^^^^^^^^^^^^^^^^^^^^^^^\u001b[0m\n",
      "  File \u001b[35m\"/home/anton/micromamba/envs/clip-siamese/lib/python3.13/site-packages/huggingface_hub/lfs.py\"\u001b[0m, line \u001b[35m259\u001b[0m, in \u001b[35mlfs_upload\u001b[0m\n",
      "    \u001b[31mhf_raise_for_status\u001b[0m\u001b[1;31m(verify_resp)\u001b[0m\n",
      "    \u001b[31m~~~~~~~~~~~~~~~~~~~\u001b[0m\u001b[1;31m^^^^^^^^^^^^^\u001b[0m\n",
      "  File \u001b[35m\"/home/anton/micromamba/envs/clip-siamese/lib/python3.13/site-packages/huggingface_hub/utils/_http.py\"\u001b[0m, line \u001b[35m465\u001b[0m, in \u001b[35mhf_raise_for_status\u001b[0m\n",
      "    raise _format(BadRequestError, message, response) from e\n",
      "\u001b[1;35mhuggingface_hub.errors.BadRequestError\u001b[0m: \u001b[35m(Request ID: Root=1-67f326ac-49070b710bc344a64df11238;5468b53b-975e-4317-b09a-5e19ae4b03fe)\n",
      "\n",
      "Bad request:\n",
      ", remote size: 68279\u001b[0m\n",
      "\n",
      "The above exception was the direct cause of the following exception:\n",
      "\n",
      "Traceback (most recent call last):\n",
      "  File \u001b[35m\"/home/anton/micromamba/envs/clip-siamese/lib/python3.13/threading.py\"\u001b[0m, line \u001b[35m1041\u001b[0m, in \u001b[35m_bootstrap_inner\u001b[0m\n",
      "    \u001b[31mself.run\u001b[0m\u001b[1;31m()\u001b[0m\n",
      "    \u001b[31m~~~~~~~~\u001b[0m\u001b[1;31m^^\u001b[0m\n",
      "  File \u001b[35m\"/home/anton/micromamba/envs/clip-siamese/lib/python3.13/site-packages/ipykernel/ipkernel.py\"\u001b[0m, line \u001b[35m766\u001b[0m, in \u001b[35mrun_closure\u001b[0m\n",
      "    \u001b[31m_threading_Thread_run\u001b[0m\u001b[1;31m(self)\u001b[0m\n",
      "    \u001b[31m~~~~~~~~~~~~~~~~~~~~~\u001b[0m\u001b[1;31m^^^^^^\u001b[0m\n",
      "  File \u001b[35m\"/home/anton/micromamba/envs/clip-siamese/lib/python3.13/threading.py\"\u001b[0m, line \u001b[35m992\u001b[0m, in \u001b[35mrun\u001b[0m\n",
      "    \u001b[31mself._target\u001b[0m\u001b[1;31m(*self._args, **self._kwargs)\u001b[0m\n",
      "    \u001b[31m~~~~~~~~~~~~\u001b[0m\u001b[1;31m^^^^^^^^^^^^^^^^^^^^^^^^^^^^^\u001b[0m\n",
      "  File \u001b[35m\"/tmp/ipykernel_523203/423389983.py\"\u001b[0m, line \u001b[35m45\u001b[0m, in \u001b[35mperiodic_uploader\u001b[0m\n",
      "    \u001b[31mupload_file_to_hf\u001b[0m\u001b[1;31m(output_file_path, verbose=verbose)\u001b[0m\n",
      "    \u001b[31m~~~~~~~~~~~~~~~~~\u001b[0m\u001b[1;31m^^^^^^^^^^^^^^^^^^^^^^^^^^^^^^^^^^^\u001b[0m\n",
      "  File \u001b[35m\"/tmp/ipykernel_523203/1866306826.py\"\u001b[0m, line \u001b[35m33\u001b[0m, in \u001b[35mupload_file_to_hf\u001b[0m\n",
      "    \u001b[31mHfApi().upload_file\u001b[0m\u001b[1;31m(\u001b[0m\n",
      "    \u001b[31m~~~~~~~~~~~~~~~~~~~\u001b[0m\u001b[1;31m^\u001b[0m\n",
      "        \u001b[1;31mpath_or_fileobj=output_file,\u001b[0m\n",
      "        \u001b[1;31m^^^^^^^^^^^^^^^^^^^^^^^^^^^^\u001b[0m\n",
      "    ...<3 lines>...\n",
      "        \u001b[1;31mtoken=token,\u001b[0m\n",
      "        \u001b[1;31m^^^^^^^^^^^^\u001b[0m\n",
      "    \u001b[1;31m)\u001b[0m\n",
      "    \u001b[1;31m^\u001b[0m\n",
      "  File \u001b[35m\"/home/anton/micromamba/envs/clip-siamese/lib/python3.13/site-packages/huggingface_hub/utils/_validators.py\"\u001b[0m, line \u001b[35m114\u001b[0m, in \u001b[35m_inner_fn\u001b[0m\n",
      "    return fn(*args, **kwargs)\n",
      "  File \u001b[35m\"/home/anton/micromamba/envs/clip-siamese/lib/python3.13/site-packages/huggingface_hub/hf_api.py\"\u001b[0m, line \u001b[35m1624\u001b[0m, in \u001b[35m_inner\u001b[0m\n",
      "    return fn(self, *args, **kwargs)\n",
      "  File \u001b[35m\"/home/anton/micromamba/envs/clip-siamese/lib/python3.13/site-packages/huggingface_hub/hf_api.py\"\u001b[0m, line \u001b[35m4662\u001b[0m, in \u001b[35mupload_file\u001b[0m\n",
      "    commit_info = self.create_commit(\n",
      "        repo_id=repo_id,\n",
      "    ...<7 lines>...\n",
      "        parent_commit=parent_commit,\n",
      "    )\n",
      "  File \u001b[35m\"/home/anton/micromamba/envs/clip-siamese/lib/python3.13/site-packages/huggingface_hub/utils/_validators.py\"\u001b[0m, line \u001b[35m114\u001b[0m, in \u001b[35m_inner_fn\u001b[0m\n",
      "    return fn(*args, **kwargs)\n",
      "  File \u001b[35m\"/home/anton/micromamba/envs/clip-siamese/lib/python3.13/site-packages/huggingface_hub/hf_api.py\"\u001b[0m, line \u001b[35m1624\u001b[0m, in \u001b[35m_inner\u001b[0m\n",
      "    return fn(self, *args, **kwargs)\n",
      "  File \u001b[35m\"/home/anton/micromamba/envs/clip-siamese/lib/python3.13/site-packages/huggingface_hub/hf_api.py\"\u001b[0m, line \u001b[35m4193\u001b[0m, in \u001b[35mcreate_commit\u001b[0m\n",
      "    \u001b[31mself.preupload_lfs_files\u001b[0m\u001b[1;31m(\u001b[0m\n",
      "    \u001b[31m~~~~~~~~~~~~~~~~~~~~~~~~\u001b[0m\u001b[1;31m^\u001b[0m\n",
      "        \u001b[1;31mrepo_id=repo_id,\u001b[0m\n",
      "        \u001b[1;31m^^^^^^^^^^^^^^^^\u001b[0m\n",
      "    ...<6 lines>...\n",
      "        \u001b[1;31mfree_memory=False,  # do not remove `CommitOperationAdd.path_or_fileobj` on LFS files for \"normal\" users\u001b[0m\n",
      "        \u001b[1;31m^^^^^^^^^^^^^^^^^^^^^^^^^^^^^^^^^^^^^^^^^^^^^^^^^^^^^^^^^^^^^^^^^^^^^^^^^^^^^^^^^^^^^^^^^^^^^^^^^^^^^^^^\u001b[0m\n",
      "    \u001b[1;31m)\u001b[0m\n",
      "    \u001b[1;31m^\u001b[0m\n",
      "  File \u001b[35m\"/home/anton/micromamba/envs/clip-siamese/lib/python3.13/site-packages/huggingface_hub/hf_api.py\"\u001b[0m, line \u001b[35m4483\u001b[0m, in \u001b[35mpreupload_lfs_files\u001b[0m\n",
      "    \u001b[31m_upload_lfs_files\u001b[0m\u001b[1;31m(**upload_kwargs, num_threads=num_threads)\u001b[0m  # type: ignore [arg-type]\n",
      "    \u001b[31m~~~~~~~~~~~~~~~~~\u001b[0m\u001b[1;31m^^^^^^^^^^^^^^^^^^^^^^^^^^^^^^^^^^^^^^^^^^\u001b[0m\n",
      "  File \u001b[35m\"/home/anton/micromamba/envs/clip-siamese/lib/python3.13/site-packages/huggingface_hub/utils/_validators.py\"\u001b[0m, line \u001b[35m114\u001b[0m, in \u001b[35m_inner_fn\u001b[0m\n",
      "    return fn(*args, **kwargs)\n",
      "  File \u001b[35m\"/home/anton/micromamba/envs/clip-siamese/lib/python3.13/site-packages/huggingface_hub/_commit_api.py\"\u001b[0m, line \u001b[35m453\u001b[0m, in \u001b[35m_upload_lfs_files\u001b[0m\n",
      "    \u001b[31m_wrapped_lfs_upload\u001b[0m\u001b[1;31m(filtered_actions[0])\u001b[0m\n",
      "    \u001b[31m~~~~~~~~~~~~~~~~~~~\u001b[0m\u001b[1;31m^^^^^^^^^^^^^^^^^^^^^\u001b[0m\n",
      "  File \u001b[35m\"/home/anton/micromamba/envs/clip-siamese/lib/python3.13/site-packages/huggingface_hub/_commit_api.py\"\u001b[0m, line \u001b[35m445\u001b[0m, in \u001b[35m_wrapped_lfs_upload\u001b[0m\n",
      "    raise RuntimeError(f\"Error while uploading '{operation.path_in_repo}' to the Hub.\") from exc\n",
      "\u001b[1;35mRuntimeError\u001b[0m: \u001b[35mError while uploading 'OZ_geo_5k_descriptions/part.0.parquet' to the Hub.\u001b[0m\n"
     ]
    },
    {
     "name": "stdout",
     "output_type": "stream",
     "text": [
      "[DEBUG] New driver session id: cc52c4d01a19a65920d93ee33439afcf using profile: /tmp/chrome_profile_50f54e3478404744a83c3f63c065e225_e15xhw0k\n",
      "[DEBUG] User Agent: Mozilla/5.0 (Windows NT 10.0; Win64; x64) AppleWebKit/537.36 (KHTML, like Gecko) Chrome/134.0.0.0 Safari/537.36 Edg/134.0.0.\n",
      "[RETRY WRAPPER] (ATTEMPT 1 | timeout 20) - Using driver id: 140255594748560\n",
      "[INFO] NAVIGATING TO (timeout=20): https://www.ozon.ru/context/detail/id/1737112217/\n",
      "[RETRY WRAPPER] (ATTEMPT 6 | timeout 20) - Using driver id: 140256794486704\n",
      "[INFO] NAVIGATING TO (timeout=20): https://www.ozon.ru/context/detail/id/857968654/\n",
      "[RETRY WRAPPER] (ATTEMPT 6 | timeout 20) - AntiBotException detected: Reload button detected on https://www.ozon.ru/context/detail/id/857968654/; page requires reloading.. Reinitializing driver.\n",
      "[RETRY WRAPPER] (ATTEMPT 1 | timeout 20) - AntiBotException detected: Reload button detected on https://www.ozon.ru/context/detail/id/1737112217/; page requires reloading.. Reinitializing driver.\n",
      "[DEBUG] New driver session id: 7667062ee67fb361179c65402efce469 using profile: /tmp/chrome_profile_30476526130a42d582b605ec3ac4092a_06tp37gm\n",
      "[DEBUG] User Agent: Mozilla/5.0 (Windows NT 10.0; Win64; x64) AppleWebKit/537.36 (KHTML, like Gecko) Chrome/134.0.0.0 Safari/537.3\n",
      "[DEBUG] New driver session id: 97abd50802503bd730e41674c22f9966 using profile: /tmp/chrome_profile_faac15caa48a45b1b3cb84c37383668c_ovfdyjub\n",
      "[DEBUG] User Agent: Mozilla/5.0 (Windows NT 10.0; Win64; x64) AppleWebKit/537.36 (KHTML, like Gecko) Chrome/134.0.0.0 Safari/537.36 Edg/134.0.0.\n",
      "[RETRY WRAPPER] (ATTEMPT 7 | timeout 20) - Using driver id: 140256797921968\n",
      "[INFO] NAVIGATING TO (timeout=20): https://www.ozon.ru/context/detail/id/857968654/\n",
      "[RETRY WRAPPER] (ATTEMPT 2 | timeout 20) - Using driver id: 140255595180816\n",
      "[INFO] NAVIGATING TO (timeout=20): https://www.ozon.ru/context/detail/id/1737112217/\n",
      "[RETRY WRAPPER] (ATTEMPT 7 | timeout 20) - AntiBotException detected: Reload button detected on https://www.ozon.ru/context/detail/id/857968654/; page requires reloading.. Reinitializing driver.\n",
      "[DEBUG] New driver session id: 90009d70323ce95d216fcc6a6c2ada1e using profile: /tmp/chrome_profile_4d865c5124834230bae7f7e7612bfaf1_e02coffi\n",
      "[DEBUG] User Agent: Mozilla/5.0 (Windows NT 10.0; Win64; x64) AppleWebKit/537.36 (KHTML, like Gecko) Chrome/70.0.3538.102 Safari/537.36 Edge/18.1958\n",
      "[RETRY WRAPPER] (ATTEMPT 8 | timeout 20) - Using driver id: 140256797928016\n",
      "[INFO] NAVIGATING TO (timeout=20): https://www.ozon.ru/context/detail/id/857968654/\n",
      "[INFO] DESCRIPTION DETECTED (k7y_28)\n"
     ]
    },
    {
     "name": "stderr",
     "output_type": "stream",
     "text": [
      "Processing tasks:   1%|          | 16/2852 [08:40<18:12:32, 23.11s/it]"
     ]
    },
    {
     "name": "stdout",
     "output_type": "stream",
     "text": [
      "[1737112217] - DESCRIPTION SUCCESS: Погрузитесь в удивительный мир географии с политико-админист...\n",
      "[DEBUG] New driver session id: 3c278f4785955618526cc7e638480d02 using profile: /tmp/chrome_profile_cca3429b15b14b4a817ae6b80ffa7771_pamzau0s\n",
      "[DEBUG] User Agent: Mozilla/5.0 (Windows NT 10.0; Win64; x64) AppleWebKit/537.36 (KHTML, like Gecko) Chrome/134.0.0.0 Safari/537.3\n",
      "[RETRY WRAPPER] (ATTEMPT 1 | timeout 20) - Using driver id: 140255595174320\n",
      "[INFO] NAVIGATING TO (timeout=20): https://www.ozon.ru/context/detail/id/322886997/\n",
      "[RETRY WRAPPER] (ATTEMPT 8 | timeout 20) - Timeout. Increasing by 2\n",
      "[DEBUG] New driver session id: 8e0096682189ac56b0d5837c7d44791c using profile: /tmp/chrome_profile_2c43c6bed8e04b78843c67cbc4bae56e_8cg3v6nq\n",
      "[DEBUG] User Agent: Mozilla/5.0 (Windows NT 10.0; Win64; x64) AppleWebKit/537.36 (KHTML, like Gecko) Chrome/134.0.0.0 Safari/537.36 Edg/134.0.0.\n",
      "[RETRY WRAPPER] (ATTEMPT 9 | timeout 22) - Using driver id: 140256800239280\n",
      "[INFO] NAVIGATING TO (timeout=22): https://www.ozon.ru/context/detail/id/857968654/\n",
      "[RETRY WRAPPER] (ATTEMPT 1 | timeout 20) - Timeout. Increasing by 2\n",
      "[DEBUG] New driver session id: b54438969f7b2062db1d98cdcd7247a1 using profile: /tmp/chrome_profile_0165e59b61ef4b34946b05f303d0ffad_lk3iq01m\n",
      "[DEBUG] User Agent: Mozilla/5.0 (Windows NT 10.0; Win64; x64) AppleWebKit/537.36 (KHTML, like Gecko) Chrome/132.0.0.0 Safari/537.36 OPR/117.0.0.\n",
      "[RETRY WRAPPER] (ATTEMPT 2 | timeout 22) - Using driver id: 140255594749456\n",
      "[INFO] NAVIGATING TO (timeout=22): https://www.ozon.ru/context/detail/id/322886997/\n",
      "[RETRY WRAPPER] (ATTEMPT 2 | timeout 22) - AntiBotException detected: Reload button detected on https://www.ozon.ru/context/detail/id/322886997/; page requires reloading.. Reinitializing driver.\n",
      "[DEBUG] New driver session id: afccc7e59ad4e077d37f9f5f5937e1ba using profile: /tmp/chrome_profile_75c904d7ea7d43cfb1fd1ce69130a0bd_qzjthvqw\n",
      "[DEBUG] User Agent: Mozilla/5.0 (Windows NT 10.0; Win64; x64) AppleWebKit/537.36 (KHTML, like Gecko) Chrome/70.0.3538.102 Safari/537.36 Edge/18.1958\n",
      "[RETRY WRAPPER] (ATTEMPT 3 | timeout 20) - Using driver id: 140255595182608\n",
      "[INFO] NAVIGATING TO (timeout=20): https://www.ozon.ru/context/detail/id/322886997/\n",
      "[RETRY WRAPPER] (ATTEMPT 9 | timeout 22) - Timeout. Increasing by 2\n",
      "[DEBUG] New driver session id: 54f8e5236757500affb7b76e843ea506 using profile: /tmp/chrome_profile_a28e18356230410fbb464d9fe49d2e6a_zk_w8zg2\n",
      "[DEBUG] User Agent: Mozilla/5.0 (Windows NT 10.0; Win64; x64) AppleWebKit/537.36 (KHTML, like Gecko) Chrome/134.0.0.0 Safari/537.36 Edg/134.0.0.\n",
      "[RETRY WRAPPER] (ATTEMPT 10 | timeout 24) - Using driver id: 140255619110896\n",
      "[INFO] NAVIGATING TO (timeout=24): https://www.ozon.ru/context/detail/id/857968654/\n",
      "[RETRY WRAPPER] (ATTEMPT 3 | timeout 20) - AntiBotException detected: Reload button detected on https://www.ozon.ru/context/detail/id/322886997/; page requires reloading.. Reinitializing driver.\n",
      "[DEBUG] New driver session id: 7abeaf4fb033eb0fc7ec75836ac7e915 using profile: /tmp/chrome_profile_5ef1238014bb410e87495cbbe797de1e_e7i5o41i\n",
      "[DEBUG] User Agent: Mozilla/5.0 (Windows NT 10.0; Win64; x64) AppleWebKit/537.36 (KHTML, like Gecko) Chrome/134.0.0.0 Safari/537.3\n",
      "[RETRY WRAPPER] (ATTEMPT 4 | timeout 20) - Using driver id: 140255585056848\n",
      "[INFO] NAVIGATING TO (timeout=20): https://www.ozon.ru/context/detail/id/322886997/\n",
      "[RETRY WRAPPER] (ATTEMPT 4 | timeout 20) - AntiBotException detected: Reload button detected on https://www.ozon.ru/context/detail/id/322886997/; page requires reloading.. Reinitializing driver.\n",
      "[DEBUG] New driver session id: 115fa25170dbdc7e3f12a25a5d6c1a55 using profile: /tmp/chrome_profile_7244ac9c38eb4fdcbe3d978bac87e85d_9enfs1a7\n",
      "[DEBUG] User Agent: Mozilla/5.0 (Windows NT 10.0; Win64; x64) AppleWebKit/537.36 (KHTML, like Gecko) Chrome/70.0.3538.102 Safari/537.36 Edge/18.1958\n",
      "[RETRY WRAPPER] (ATTEMPT 5 | timeout 20) - Using driver id: 140255585045200\n",
      "[INFO] NAVIGATING TO (timeout=20): https://www.ozon.ru/context/detail/id/322886997/\n",
      "[RETRY WRAPPER] (ATTEMPT 5 | timeout 20) - AntiBotException detected: Reload button detected on https://www.ozon.ru/context/detail/id/322886997/; page requires reloading.. Reinitializing driver.\n",
      "[DEBUG] New driver session id: 22d081108dfc184e9b25636f8e499f78 using profile: /tmp/chrome_profile_523f9f19e06b46f5b3f0dc7f10bde38b_5qzpip9q\n",
      "[DEBUG] User Agent: Mozilla/5.0 (Windows NT 10.0; Win64; x64) AppleWebKit/537.36 (KHTML, like Gecko) Chrome/134.0.0.0 Safari/537.36 Trailer/93.3.8652.5\n",
      "[RETRY WRAPPER] (ATTEMPT 6 | timeout 20) - Using driver id: 140255595172752\n",
      "[INFO] NAVIGATING TO (timeout=20): https://www.ozon.ru/context/detail/id/322886997/\n",
      "[RETRY WRAPPER] (ATTEMPT 10 | timeout 24) - Timeout. Increasing by 2\n",
      "[DEBUG] New driver session id: 98b60853d5694d8483a460a1b6a75fa2 using profile: /tmp/chrome_profile_2324dbdeb6b04eba99a67c870fbf657d_ka724ulj\n",
      "[DEBUG] User Agent: Mozilla/5.0 (Windows NT 10.0; Win64; x64) AppleWebKit/537.36 (KHTML, like Gecko) Chrome/70.0.3538.102 Safari/537.36 Edge/18.1958\n"
     ]
    },
    {
     "name": "stderr",
     "output_type": "stream",
     "text": [
      "Processing tasks:   1%|          | 17/2852 [09:42<27:28:10, 34.88s/it]"
     ]
    },
    {
     "name": "stdout",
     "output_type": "stream",
     "text": [
      "[857968654] - ERROR TimeoutException PROCESSING ROW: Message: Max retries reached for https://www.ozon.ru/context/detail/id/857968654/\n",
      "\n",
      "[DEBUG] New driver session id: 672690b2f4078734f3cf75ee4b75f0c5 using profile: /tmp/chrome_profile_8f9cc8e9803044268ca9b74356b4ec47_jmhgoffu\n",
      "[DEBUG] User Agent: Mozilla/5.0 (Windows NT 10.0; Win64; x64) AppleWebKit/537.36 (KHTML, like Gecko) Chrome/132.0.0.0 Safari/537.36 OPR/117.0.0.\n",
      "[RETRY WRAPPER] (ATTEMPT 1 | timeout 20) - Using driver id: 140255594658768\n",
      "[INFO] NAVIGATING TO (timeout=20): https://www.ozon.ru/context/detail/id/491273791/\n",
      "[RETRY WRAPPER] (ATTEMPT 6 | timeout 20) - Timeout. Increasing by 2\n",
      "[DEBUG] New driver session id: 02b08a6b320e1dd7a4ab1bb5f5a47cea using profile: /tmp/chrome_profile_1f44000e192d45aaaf20e16be2e4329f_7dp0yq95\n",
      "[DEBUG] User Agent: Mozilla/5.0 (Windows NT 10.0; Win64; x64) AppleWebKit/537.36 (KHTML, like Gecko) Chrome/134.0.0.0 Safari/537.3\n",
      "[RETRY WRAPPER] (ATTEMPT 7 | timeout 22) - Using driver id: 140255594748112\n",
      "[INFO] NAVIGATING TO (timeout=22): https://www.ozon.ru/context/detail/id/322886997/\n",
      "[RETRY WRAPPER] (ATTEMPT 1 | timeout 20) - Timeout. Increasing by 2\n",
      "[DEBUG] New driver session id: eca3f5b79b839c9bbe13ed6a711b04d1 using profile: /tmp/chrome_profile_f21ae1e724a748899b09c44bf39b0b4e_czmrkamz\n",
      "[DEBUG] User Agent: Mozilla/5.0 (Windows NT 10.0; Win64; x64) AppleWebKit/537.36 (KHTML, like Gecko) Chrome/132.0.0.0 Safari/537.36 OPR/117.0.0.\n",
      "[RETRY WRAPPER] (ATTEMPT 2 | timeout 22) - Using driver id: 140256793511760\n",
      "[INFO] NAVIGATING TO (timeout=22): https://www.ozon.ru/context/detail/id/491273791/\n",
      "[RETRY WRAPPER] (ATTEMPT 7 | timeout 22) - Timeout. Increasing by 2\n",
      "[DEBUG] New driver session id: 19c017078aaa44f1453c7f61ee06fc4b using profile: /tmp/chrome_profile_6758c1ca966a49909a07d43a7ce68d79_y138vnwt\n",
      "[DEBUG] User Agent: Mozilla/5.0 (Windows NT 10.0; Win64; x64) AppleWebKit/537.36 (KHTML, like Gecko) Chrome/134.0.0.0 Safari/537.36 Trailer/93.3.8652.5\n",
      "[RETRY WRAPPER] (ATTEMPT 8 | timeout 24) - Using driver id: 140255452034704\n",
      "[INFO] NAVIGATING TO (timeout=24): https://www.ozon.ru/context/detail/id/322886997/\n",
      "[RETRY WRAPPER] (ATTEMPT 8 | timeout 24) - AntiBotException detected: Reload button detected on https://www.ozon.ru/context/detail/id/322886997/; page requires reloading.. Reinitializing driver.\n",
      "[DEBUG] New driver session id: 7f86c8d854f95c18cc3ce9f37db02cf0 using profile: /tmp/chrome_profile_765e8550204b4d17bf33b048cb2c1d09_st05bkkp\n",
      "[DEBUG] User Agent: Mozilla/5.0 (Windows NT 10.0; Win64; x64) AppleWebKit/537.36 (KHTML, like Gecko) Chrome/134.0.0.0 Safari/537.36 Trailer/93.3.8652.5\n",
      "[RETRY WRAPPER] (ATTEMPT 2 | timeout 22) - Timeout. Increasing by 2\n",
      "[RETRY WRAPPER] (ATTEMPT 9 | timeout 20) - Using driver id: 140255619120080\n",
      "[INFO] NAVIGATING TO (timeout=20): https://www.ozon.ru/context/detail/id/322886997/\n",
      "[DEBUG] New driver session id: 3ffe530d56b1c46ce3cd793d8cc72033 using profile: /tmp/chrome_profile_cffae35a56114a68969833f626727414_lpi_g4y8\n",
      "[DEBUG] User Agent: Mozilla/5.0 (Windows NT 10.0; Win64; x64) AppleWebKit/537.36 (KHTML, like Gecko) Chrome/134.0.0.0 Safari/537.36 Trailer/93.3.8652.5\n",
      "[RETRY WRAPPER] (ATTEMPT 3 | timeout 24) - Using driver id: 140256794483568\n",
      "[INFO] NAVIGATING TO (timeout=24): https://www.ozon.ru/context/detail/id/491273791/\n",
      "[RETRY WRAPPER] (ATTEMPT 3 | timeout 24) - AntiBotException detected: Reload button detected on https://www.ozon.ru/context/detail/id/491273791/; page requires reloading.. Reinitializing driver.\n",
      "[DEBUG] New driver session id: 7eb27970bef3632346c9660d3d661142 using profile: /tmp/chrome_profile_4e8306bc976744468a48ad5ff9ab572e_aahwxs_n\n",
      "[DEBUG] User Agent: Mozilla/5.0 (Windows NT 10.0; Win64; x64) AppleWebKit/537.36 (KHTML, like Gecko) Chrome/134.0.0.0 Safari/537.36 Edg/134.0.0.\n",
      "[RETRY WRAPPER] (ATTEMPT 4 | timeout 20) - Using driver id: 140256800242640\n",
      "[INFO] NAVIGATING TO (timeout=20): https://www.ozon.ru/context/detail/id/491273791/\n",
      "[RETRY WRAPPER] (ATTEMPT 9 | timeout 20) - Timeout. Increasing by 2\n",
      "[DEBUG] New driver session id: 5c40b1c45c1d5717be9d0ecca487fc2d using profile: /tmp/chrome_profile_68aeb73e8eb0491abe947a1dd2c12fc8__pjo15t6\n",
      "[DEBUG] User Agent: Mozilla/5.0 (Windows NT 10.0; Win64; x64) AppleWebKit/537.36 (KHTML, like Gecko) Chrome/70.0.3538.102 Safari/537.36 Edge/18.1958\n",
      "[RETRY WRAPPER] (ATTEMPT 10 | timeout 22) - Using driver id: 140255595170736\n",
      "[INFO] NAVIGATING TO (timeout=22): https://www.ozon.ru/context/detail/id/322886997/\n",
      "[RETRY WRAPPER] (ATTEMPT 4 | timeout 20) - Timeout. Increasing by 2\n",
      "[DEBUG] New driver session id: 40122e26966b72bf3f5de6c72a6d85ad using profile: /tmp/chrome_profile_ad1a9cbec32b4d4ab448b1165979015c_5j1pcqbv\n",
      "[DEBUG] User Agent: Mozilla/5.0 (Windows NT 10.0; Win64; x64) AppleWebKit/537.36 (KHTML, like Gecko) Chrome/70.0.3538.102 Safari/537.36 Edge/18.1958\n",
      "[RETRY WRAPPER] (ATTEMPT 5 | timeout 22) - Using driver id: 140256800233232\n",
      "[INFO] NAVIGATING TO (timeout=22): https://www.ozon.ru/context/detail/id/491273791/\n",
      "[RETRY WRAPPER] (ATTEMPT 10 | timeout 22) - Timeout. Increasing by 2\n",
      "[DEBUG] New driver session id: c1edb59e7bb5e36165c5707a8717a2df using profile: /tmp/chrome_profile_987987a6638c496ab1e0f583a1a00bd0_5b1891ef\n",
      "[DEBUG] User Agent: Mozilla/5.0 (Windows NT 10.0; Win64; x64) AppleWebKit/537.36 (KHTML, like Gecko) Chrome/134.0.0.0 Safari/537.36 Trailer/93.3.8652.5\n"
     ]
    },
    {
     "name": "stderr",
     "output_type": "stream",
     "text": [
      "Processing tasks:   1%|          | 18/2852 [11:22<42:53:29, 54.48s/it]"
     ]
    },
    {
     "name": "stdout",
     "output_type": "stream",
     "text": [
      "[322886997] - ERROR TimeoutException PROCESSING ROW: Message: Max retries reached for https://www.ozon.ru/context/detail/id/322886997/\n",
      "\n",
      "[DEBUG] New driver session id: 66fe3a2d1dd19ad2c892f5dd24b57132 using profile: /tmp/chrome_profile_020cad23f416452f99205d80e0612bc1_uprrue29\n",
      "[DEBUG] User Agent: Mozilla/5.0 (Windows NT 10.0; Win64; x64) AppleWebKit/537.36 (KHTML, like Gecko) Chrome/134.0.0.0 Safari/537.36 Edg/134.0.0.\n",
      "[RETRY WRAPPER] (ATTEMPT 1 | timeout 20) - Using driver id: 140255595168720\n",
      "[INFO] NAVIGATING TO (timeout=20): https://www.ozon.ru/context/detail/id/879462189/\n",
      "[RETRY WRAPPER] (ATTEMPT 5 | timeout 22) - Timeout. Increasing by 2\n",
      "[DEBUG] New driver session id: 05c44de8ae9c1548b6007f54e40c2965 using profile: /tmp/chrome_profile_6ecc83048174412e90f06231c70e7959_rgtz81zf\n",
      "[DEBUG] User Agent: Mozilla/5.0 (Windows NT 10.0; Win64; x64) AppleWebKit/537.36 (KHTML, like Gecko) Chrome/134.0.0.0 Safari/537.36 Trailer/93.3.8652.5\n",
      "[RETRY WRAPPER] (ATTEMPT 6 | timeout 24) - Using driver id: 140256800242192\n",
      "[INFO] NAVIGATING TO (timeout=24): https://www.ozon.ru/context/detail/id/491273791/\n",
      "[RETRY WRAPPER] (ATTEMPT 6 | timeout 24) - AntiBotException detected: Reload button detected on https://www.ozon.ru/context/detail/id/491273791/; page requires reloading.. Reinitializing driver.\n",
      "[DEBUG] New driver session id: 7c5b311141c32eee81d1680973bd464f using profile: /tmp/chrome_profile_69e5debc2f174a1da17edd38ba039fff_n0wfkif6\n",
      "[DEBUG] User Agent: Mozilla/5.0 (Windows NT 10.0; Win64; x64) AppleWebKit/537.36 (KHTML, like Gecko) Chrome/134.0.0.0 Safari/537.36 Edg/134.0.0.\n",
      "[RETRY WRAPPER] (ATTEMPT 7 | timeout 20) - Using driver id: 140256794489840\n",
      "[INFO] NAVIGATING TO (timeout=20): https://www.ozon.ru/context/detail/id/491273791/\n",
      "[RETRY WRAPPER] (ATTEMPT 7 | timeout 20) - AntiBotException detected: Reload button detected on https://www.ozon.ru/context/detail/id/491273791/; page requires reloading.. Reinitializing driver.\n",
      "[DEBUG] New driver session id: e24e8015f5f48dc2c58a1cd362785a80 using profile: /tmp/chrome_profile_e5070ec5f0a84dab859904d53a3cd96c_1f_ens9i\n",
      "[DEBUG] User Agent: Mozilla/5.0 (Windows NT 10.0; Win64; x64) AppleWebKit/537.36 (KHTML, like Gecko) Chrome/134.0.0.0 Safari/537.36 Trailer/93.3.8652.5\n",
      "[RETRY WRAPPER] (ATTEMPT 8 | timeout 20) - Using driver id: 140256800232336\n",
      "[INFO] NAVIGATING TO (timeout=20): https://www.ozon.ru/context/detail/id/491273791/\n",
      "[INFO] DESCRIPTION DETECTED (k7y_28)\n"
     ]
    },
    {
     "name": "stderr",
     "output_type": "stream",
     "text": [
      "Processing tasks:   1%|          | 19/2852 [11:46<35:36:38, 45.25s/it]"
     ]
    },
    {
     "name": "stdout",
     "output_type": "stream",
     "text": [
      "[879462189] - DESCRIPTION SUCCESS: Скретч карта России - отличный подарок патриоту и всем, кто ...\n",
      "[DEBUG] New driver session id: 58389e187a4aef0ae54ba974f7b4becd using profile: /tmp/chrome_profile_cf5c86b7e4ad4ee196d4632e5a7d80df_d2ptd1yo\n",
      "[DEBUG] User Agent: Mozilla/5.0 (Windows NT 10.0; Win64; x64) AppleWebKit/537.36 (KHTML, like Gecko) Chrome/134.0.0.0 Safari/537.36 Edg/134.0.0.\n",
      "[RETRY WRAPPER] (ATTEMPT 1 | timeout 20) - Using driver id: 140255595183056\n",
      "[INFO] NAVIGATING TO (timeout=20): https://www.ozon.ru/context/detail/id/1303657192/\n",
      "[INFO] DESCRIPTION DETECTED (k7y_28)\n"
     ]
    },
    {
     "name": "stderr",
     "output_type": "stream",
     "text": [
      "Processing tasks:   1%|          | 20/2852 [12:04<29:11:38, 37.11s/it]"
     ]
    },
    {
     "name": "stdout",
     "output_type": "stream",
     "text": [
      "[1303657192] - DESCRIPTION SUCCESS: Представляем вашему вниманию географическую карту Новороссии...\n",
      "[DEBUG] New driver session id: 7a3b665d9e134b702c1b39d585ad2b6e using profile: /tmp/chrome_profile_18ea82a83bf443aaabd491d92955dd61_ymn8ob5o\n",
      "[DEBUG] User Agent: Mozilla/5.0 (Windows NT 10.0; Win64; x64) AppleWebKit/537.36 (KHTML, like Gecko) Chrome/70.0.3538.102 Safari/537.36 Edge/18.1958\n",
      "[RETRY WRAPPER] (ATTEMPT 1 | timeout 20) - Using driver id: 140255594756176\n",
      "[INFO] NAVIGATING TO (timeout=20): https://www.ozon.ru/context/detail/id/178726257/\n",
      "[RETRY WRAPPER] (ATTEMPT 8 | timeout 20) - Timeout. Increasing by 2\n",
      "[DEBUG] New driver session id: 348d4cccc1d10679a3b01cec8d931b15 using profile: /tmp/chrome_profile_e2c3cdebf6594386962114ecb1940d14_t_sgzq21\n",
      "[DEBUG] User Agent: Mozilla/5.0 (Windows NT 10.0; Win64; x64) AppleWebKit/537.36 (KHTML, like Gecko) Chrome/134.0.0.0 Safari/537.36 Edg/134.0.0.\n",
      "[RETRY WRAPPER] (ATTEMPT 9 | timeout 22) - Using driver id: 140256793518256\n",
      "[INFO] NAVIGATING TO (timeout=22): https://www.ozon.ru/context/detail/id/491273791/\n",
      "[RETRY WRAPPER] (ATTEMPT 1 | timeout 20) - AntiBotException detected: Reload button detected on https://www.ozon.ru/context/detail/id/178726257/; page requires reloading.. Reinitializing driver.\n",
      "[DEBUG] New driver session id: b30c82e59f1ba847996748373fbb2977 using profile: /tmp/chrome_profile_5e04edc6593e40eb8cb179e8ebd11723_d4r9plxa\n",
      "[DEBUG] User Agent: Mozilla/5.0 (Windows NT 10.0; Win64; x64) AppleWebKit/537.36 (KHTML, like Gecko) Chrome/134.0.0.0 Safari/537.3\n",
      "[RETRY WRAPPER] (ATTEMPT 2 | timeout 20) - Using driver id: 140255594752816\n",
      "[INFO] NAVIGATING TO (timeout=20): https://www.ozon.ru/context/detail/id/178726257/\n",
      "[RETRY WRAPPER] (ATTEMPT 9 | timeout 22) - Timeout. Increasing by 2\n",
      "[RETRY WRAPPER] (ATTEMPT 2 | timeout 20) - Timeout. Increasing by 2\n",
      "[DEBUG] New driver session id: 3bb117eebe11c2633e83c25017895f61 using profile: /tmp/chrome_profile_40088c06961c4a65a2f9dcb207c91166_cfdbnqjz\n",
      "[DEBUG] User Agent: Mozilla/5.0 (Windows NT 10.0; Win64; x64) AppleWebKit/537.36 (KHTML, like Gecko) Chrome/70.0.3538.102 Safari/537.36 Edge/18.1958\n",
      "[DEBUG] New driver session id: f7d2d0f923f1792ce79eaad24b6972a6 using profile: /tmp/chrome_profile_a08f07a0b752400e95247591b827446c_nv_s51ky\n",
      "[DEBUG] User Agent: Mozilla/5.0 (Windows NT 10.0; Win64; x64) AppleWebKit/537.36 (KHTML, like Gecko) Chrome/134.0.0.0 Safari/537.36 Trailer/93.3.8652.5\n",
      "[RETRY WRAPPER] (ATTEMPT 10 | timeout 24) - Using driver id: 140256800243088\n",
      "[INFO] NAVIGATING TO (timeout=24): https://www.ozon.ru/context/detail/id/491273791/\n",
      "[RETRY WRAPPER] (ATTEMPT 3 | timeout 22) - Using driver id: 140255585055728\n",
      "[INFO] NAVIGATING TO (timeout=22): https://www.ozon.ru/context/detail/id/178726257/\n",
      "[RETRY WRAPPER] (ATTEMPT 3 | timeout 22) - Timeout. Increasing by 2\n",
      "[DEBUG] New driver session id: c53981b1cd88fbd26862427d475f5b9d using profile: /tmp/chrome_profile_2e732eaa78454bdcb8c252e5c0d3d390_kweot1u3\n",
      "[DEBUG] User Agent: Mozilla/5.0 (Windows NT 10.0; Win64; x64) AppleWebKit/537.36 (KHTML, like Gecko) Chrome/70.0.3538.102 Safari/537.36 Edge/18.1958\n",
      "[RETRY WRAPPER] (ATTEMPT 10 | timeout 24) - Timeout. Increasing by 2\n",
      "[RETRY WRAPPER] (ATTEMPT 4 | timeout 24) - Using driver id: 140255595167824\n",
      "[INFO] NAVIGATING TO (timeout=24): https://www.ozon.ru/context/detail/id/178726257/\n",
      "[DEBUG] New driver session id: 964be926d1cdc477c36060b3c362a219 using profile: /tmp/chrome_profile_93b1066a3ee84c8985b8a37992efc89c_urus_zcd\n",
      "[DEBUG] User Agent: Mozilla/5.0 (Windows NT 10.0; Win64; x64) AppleWebKit/537.36 (KHTML, like Gecko) Chrome/134.0.0.0 Safari/537.36 Trailer/93.3.8652.5\n"
     ]
    },
    {
     "name": "stderr",
     "output_type": "stream",
     "text": [
      "Processing tasks:   1%|          | 21/2852 [13:03<34:24:25, 43.75s/it]"
     ]
    },
    {
     "name": "stdout",
     "output_type": "stream",
     "text": [
      "[491273791] - ERROR TimeoutException PROCESSING ROW: Message: Max retries reached for https://www.ozon.ru/context/detail/id/491273791/\n",
      "\n",
      "[DEBUG] New driver session id: 2e039eab5617b3e6e57229a72dc45e7e using profile: /tmp/chrome_profile_1e6ca2554cfb4d9fb9d321b55f9f017d_a0k3io5f\n",
      "[DEBUG] User Agent: Mozilla/5.0 (Windows NT 10.0; Win64; x64) AppleWebKit/537.36 (KHTML, like Gecko) Chrome/70.0.3538.102 Safari/537.36 Edge/18.1958\n",
      "[RETRY WRAPPER] (ATTEMPT 1 | timeout 20) - Using driver id: 140256794489168\n",
      "[INFO] NAVIGATING TO (timeout=20): https://www.ozon.ru/context/detail/id/429100410/\n",
      "[RETRY WRAPPER] (ATTEMPT 1 | timeout 20) - AntiBotException detected: Reload button detected on https://www.ozon.ru/context/detail/id/429100410/; page requires reloading.. Reinitializing driver.\n",
      "[DEBUG] New driver session id: 53e482eaf5df76498412c1ab182d94e6 using profile: /tmp/chrome_profile_b1d4ea2643ec46afac973758313cf95b_65ye553n\n",
      "[DEBUG] User Agent: Mozilla/5.0 (Windows NT 10.0; Win64; x64) AppleWebKit/537.36 (KHTML, like Gecko) Chrome/134.0.0.0 Safari/537.3\n",
      "[RETRY WRAPPER] (ATTEMPT 2 | timeout 20) - Using driver id: 140256795255408\n",
      "[INFO] NAVIGATING TO (timeout=20): https://www.ozon.ru/context/detail/id/429100410/\n",
      "[INFO] OUT-OF-STOCK INDICATOR DETECTED. IGNORING\n"
     ]
    },
    {
     "name": "stderr",
     "output_type": "stream",
     "text": [
      "Processing tasks:   1%|          | 22/2852 [13:21<28:13:50, 35.91s/it]"
     ]
    },
    {
     "name": "stdout",
     "output_type": "stream",
     "text": [
      "[429100410] - DESCRIPTION OMITTED (OOS)\n",
      "[DEBUG] New driver session id: 3a4d3b740da48fb9b3660540e58d96a8 using profile: /tmp/chrome_profile_0ade77ec3f434e5aa5e1751a0ef0adf9_vohxf9go\n",
      "[DEBUG] User Agent: Mozilla/5.0 (Windows NT 10.0; Win64; x64) AppleWebKit/537.36 (KHTML, like Gecko) Chrome/134.0.0.0 Safari/537.36 Edg/134.0.0.\n",
      "[RETRY WRAPPER] (ATTEMPT 1 | timeout 20) - Using driver id: 140256800237936\n",
      "[INFO] NAVIGATING TO (timeout=20): https://www.ozon.ru/context/detail/id/1651859923/\n",
      "[RETRY WRAPPER] (ATTEMPT 4 | timeout 24) - Timeout. Increasing by 2\n",
      "[DEBUG] New driver session id: 739013ffa9f91a3236f040f9bd2beaf9 using profile: /tmp/chrome_profile_7fa30566d2eb4307aa49fd524ea978f0_toxvugah\n",
      "[DEBUG] User Agent: Mozilla/5.0 (Windows NT 10.0; Win64; x64) AppleWebKit/537.36 (KHTML, like Gecko) Chrome/134.0.0.0 Safari/537.3\n",
      "[RETRY WRAPPER] (ATTEMPT 5 | timeout 26) - Using driver id: 140255452027760\n",
      "[INFO] NAVIGATING TO (timeout=26): https://www.ozon.ru/context/detail/id/178726257/\n",
      "[INFO] DESCRIPTION DETECTED (k7y_28)\n"
     ]
    },
    {
     "name": "stderr",
     "output_type": "stream",
     "text": [
      "Processing tasks:   1%|          | 23/2852 [13:39<24:06:02, 30.67s/it]"
     ]
    },
    {
     "name": "stdout",
     "output_type": "stream",
     "text": [
      "[1651859923] - DESCRIPTION SUCCESS: Сувенирная карта-путеводитель по Санкт-Петербургу и Ленингра...\n",
      "[DEBUG] New driver session id: 6bf613ac1e5d525bec45f2a683fd85fd using profile: /tmp/chrome_profile_043b0ea1c8844b799159a0f20d7ff468_yg7n9c1f\n",
      "[DEBUG] User Agent: Mozilla/5.0 (Windows NT 10.0; Win64; x64) AppleWebKit/537.36 (KHTML, like Gecko) Chrome/70.0.3538.102 Safari/537.36 Edge/18.1958\n",
      "[RETRY WRAPPER] (ATTEMPT 1 | timeout 20) - Using driver id: 140256793514896\n",
      "[INFO] NAVIGATING TO (timeout=20): https://www.ozon.ru/context/detail/id/268682152/\n",
      "[INFO] DESCRIPTION DETECTED (k7y_28)\n"
     ]
    },
    {
     "name": "stderr",
     "output_type": "stream",
     "text": [
      "Processing tasks:   1%|          | 24/2852 [13:56<20:54:48, 26.62s/it]"
     ]
    },
    {
     "name": "stdout",
     "output_type": "stream",
     "text": [
      "[268682152] - DESCRIPTION SUCCESS: Откройте для себя удивительный мир знаний с интерактивной ка...\n",
      "[DEBUG] New driver session id: eeb4462086d84e52fba11db48fe62106 using profile: /tmp/chrome_profile_fb3940fe45d945c097944298fe3950b0_w0v9zewo\n",
      "[DEBUG] User Agent: Mozilla/5.0 (Windows NT 10.0; Win64; x64) AppleWebKit/537.36 (KHTML, like Gecko) Chrome/132.0.0.0 Safari/537.36 OPR/117.0.0.\n",
      "[RETRY WRAPPER] (ATTEMPT 1 | timeout 20) - Using driver id: 140255594646000\n",
      "[INFO] NAVIGATING TO (timeout=20): https://www.ozon.ru/context/detail/id/491268805/\n",
      "[RETRY WRAPPER] (ATTEMPT 5 | timeout 26) - Timeout. Increasing by 2\n"
     ]
    },
    {
     "name": "stderr",
     "output_type": "stream",
     "text": [
      "Exception in thread Http2SingleStreamLayer-7:\n",
      "Traceback (most recent call last):\n",
      "  File \u001b[35m\"/home/anton/micromamba/envs/clip-siamese/lib/python3.13/threading.py\"\u001b[0m, line \u001b[35m1041\u001b[0m, in \u001b[35m_bootstrap_inner\u001b[0m\n",
      "    \u001b[31mself.run\u001b[0m\u001b[1;31m()\u001b[0m\n",
      "    \u001b[31m~~~~~~~~\u001b[0m\u001b[1;31m^^\u001b[0m\n",
      "  File \u001b[35m\"/home/anton/micromamba/envs/clip-siamese/lib/python3.13/site-packages/seleniumwire/thirdparty/mitmproxy/server/protocol/http2.py\"\u001b[0m, line \u001b[35m719\u001b[0m, in \u001b[35mrun\u001b[0m\n",
      "    \u001b[31mlayer\u001b[0m\u001b[1;31m()\u001b[0m\n",
      "    \u001b[31m~~~~~\u001b[0m\u001b[1;31m^^\u001b[0m\n",
      "  File \u001b[35m\"/home/anton/micromamba/envs/clip-siamese/lib/python3.13/site-packages/seleniumwire/thirdparty/mitmproxy/server/protocol/http.py\"\u001b[0m, line \u001b[35m206\u001b[0m, in \u001b[35m__call__\u001b[0m\n",
      "    if not \u001b[31mself._process_flow\u001b[0m\u001b[1;31m(flow)\u001b[0m:\n",
      "           \u001b[31m~~~~~~~~~~~~~~~~~~\u001b[0m\u001b[1;31m^^^^^^\u001b[0m\n",
      "  File \u001b[35m\"/home/anton/micromamba/envs/clip-siamese/lib/python3.13/site-packages/seleniumwire/thirdparty/mitmproxy/server/protocol/http.py\"\u001b[0m, line \u001b[35m388\u001b[0m, in \u001b[35m_process_flow\u001b[0m\n",
      "    \u001b[31mget_response\u001b[0m\u001b[1;31m()\u001b[0m\n",
      "    \u001b[31m~~~~~~~~~~~~\u001b[0m\u001b[1;31m^^\u001b[0m\n",
      "  File \u001b[35m\"/home/anton/micromamba/envs/clip-siamese/lib/python3.13/site-packages/seleniumwire/thirdparty/mitmproxy/server/protocol/http.py\"\u001b[0m, line \u001b[35m373\u001b[0m, in \u001b[35mget_response\u001b[0m\n",
      "    \u001b[31mself.send_request_headers\u001b[0m\u001b[1;31m(f.request)\u001b[0m\n",
      "    \u001b[31m~~~~~~~~~~~~~~~~~~~~~~~~~\u001b[0m\u001b[1;31m^^^^^^^^^^^\u001b[0m\n",
      "  File \u001b[35m\"/home/anton/micromamba/envs/clip-siamese/lib/python3.13/site-packages/seleniumwire/thirdparty/mitmproxy/server/protocol/http2.py\"\u001b[0m, line \u001b[35m389\u001b[0m, in \u001b[35mwrapper\u001b[0m\n",
      "    result = func(self, *args, **kwargs)\n",
      "  File \u001b[35m\"/home/anton/micromamba/envs/clip-siamese/lib/python3.13/site-packages/seleniumwire/thirdparty/mitmproxy/server/protocol/http2.py\"\u001b[0m, line \u001b[35m562\u001b[0m, in \u001b[35msend_request_headers\u001b[0m\n",
      "    max_streams = \u001b[31mself.connections\u001b[0m\u001b[1;31m[self.server_conn]\u001b[0m.remote_settings.max_concurrent_streams\n",
      "                  \u001b[31m~~~~~~~~~~~~~~~~\u001b[0m\u001b[1;31m^^^^^^^^^^^^^^^^^^\u001b[0m\n",
      "\u001b[1;35mKeyError\u001b[0m: \u001b[35m<ServerConnection: xapi.ozon.ru:443>\u001b[0m\n"
     ]
    },
    {
     "name": "stdout",
     "output_type": "stream",
     "text": [
      "[DEBUG] New driver session id: c6abe97c1b988c4c01fa9cbdce6552ba using profile: /tmp/chrome_profile_d2099019969348a3b8363adce4e6494c_su4yr7dp\n",
      "[DEBUG] User Agent: Mozilla/5.0 (Windows NT 10.0; Win64; x64) AppleWebKit/537.36 (KHTML, like Gecko) Chrome/134.0.0.0 Safari/537.36 Trailer/93.3.8652.5\n",
      "[RETRY WRAPPER] (ATTEMPT 6 | timeout 28) - Using driver id: 140255619109776\n",
      "[INFO] NAVIGATING TO (timeout=28): https://www.ozon.ru/context/detail/id/178726257/\n",
      "[RETRY WRAPPER] (ATTEMPT 6 | timeout 28) - AntiBotException detected: Reload button detected on https://www.ozon.ru/context/detail/id/178726257/; page requires reloading.. Reinitializing driver.\n",
      "[DEBUG] New driver session id: 3d39bc4abded509cf6da6a0bfd6e4f48 using profile: /tmp/chrome_profile_bac92080d2a04704a537ebc57d0593bd_d8p53_b9\n",
      "[DEBUG] User Agent: Mozilla/5.0 (Windows NT 10.0; Win64; x64) AppleWebKit/537.36 (KHTML, like Gecko) Chrome/70.0.3538.102 Safari/537.36 Edge/18.1958\n",
      "[RETRY WRAPPER] (ATTEMPT 7 | timeout 20) - Using driver id: 140255619120528\n",
      "[INFO] NAVIGATING TO (timeout=20): https://www.ozon.ru/context/detail/id/178726257/\n",
      "[RETRY WRAPPER] (ATTEMPT 7 | timeout 20) - AntiBotException detected: Reload button detected on https://www.ozon.ru/context/detail/id/178726257/; page requires reloading.. Reinitializing driver.\n",
      "[DEBUG] New driver session id: 1ef6d61593d0777683e3cd6a54b46a68 using profile: /tmp/chrome_profile_a80eff71b02044b5855783a9cd076143_xdy4ta0s\n",
      "[DEBUG] User Agent: Mozilla/5.0 (Windows NT 10.0; Win64; x64) AppleWebKit/537.36 (KHTML, like Gecko) Chrome/132.0.0.0 Safari/537.36 OPR/117.0.0.\n",
      "[RETRY WRAPPER] (ATTEMPT 8 | timeout 20) - Using driver id: 140255594752144\n",
      "[INFO] NAVIGATING TO (timeout=20): https://www.ozon.ru/context/detail/id/178726257/\n",
      "[RETRY WRAPPER] (ATTEMPT 8 | timeout 20) - AntiBotException detected: Reload button detected on https://www.ozon.ru/context/detail/id/178726257/; page requires reloading.. Reinitializing driver.\n",
      "[DEBUG] New driver session id: 48546a31b8709bda0a7bee7f04ecd42e using profile: /tmp/chrome_profile_a555288dd01c4ca285dc93070273b0ac_syayeuuu\n",
      "[DEBUG] User Agent: Mozilla/5.0 (Windows NT 10.0; Win64; x64) AppleWebKit/537.36 (KHTML, like Gecko) Chrome/132.0.0.0 Safari/537.36 OPR/117.0.0.\n",
      "[RETRY WRAPPER] (ATTEMPT 9 | timeout 20) - Using driver id: 140255452029104\n",
      "[INFO] NAVIGATING TO (timeout=20): https://www.ozon.ru/context/detail/id/178726257/\n",
      "[RETRY WRAPPER] (ATTEMPT 1 | timeout 20) - Timeout. Increasing by 2\n"
     ]
    },
    {
     "name": "stderr",
     "output_type": "stream",
     "text": [
      "Exception in thread Http2SingleStreamLayer-11:\n",
      "Traceback (most recent call last):\n",
      "  File \u001b[35m\"/home/anton/micromamba/envs/clip-siamese/lib/python3.13/threading.py\"\u001b[0m, line \u001b[35m1041\u001b[0m, in \u001b[35m_bootstrap_inner\u001b[0m\n",
      "    \u001b[31mself.run\u001b[0m\u001b[1;31m()\u001b[0m\n",
      "    \u001b[31m~~~~~~~~\u001b[0m\u001b[1;31m^^\u001b[0m\n",
      "  File \u001b[35m\"/home/anton/micromamba/envs/clip-siamese/lib/python3.13/site-packages/seleniumwire/thirdparty/mitmproxy/server/protocol/http2.py\"\u001b[0m, line \u001b[35m719\u001b[0m, in \u001b[35mrun\u001b[0m\n",
      "    \u001b[31mlayer\u001b[0m\u001b[1;31m()\u001b[0m\n",
      "    \u001b[31m~~~~~\u001b[0m\u001b[1;31m^^\u001b[0m\n",
      "  File \u001b[35m\"/home/anton/micromamba/envs/clip-siamese/lib/python3.13/site-packages/seleniumwire/thirdparty/mitmproxy/server/protocol/http.py\"\u001b[0m, line \u001b[35m206\u001b[0m, in \u001b[35m__call__\u001b[0m\n",
      "    if not \u001b[31mself._process_flow\u001b[0m\u001b[1;31m(flow)\u001b[0m:\n",
      "           \u001b[31m~~~~~~~~~~~~~~~~~~\u001b[0m\u001b[1;31m^^^^^^\u001b[0m\n",
      "  File \u001b[35m\"/home/anton/micromamba/envs/clip-siamese/lib/python3.13/site-packages/seleniumwire/thirdparty/mitmproxy/server/protocol/http.py\"\u001b[0m, line \u001b[35m388\u001b[0m, in \u001b[35m_process_flow\u001b[0m\n",
      "    \u001b[31mget_response\u001b[0m\u001b[1;31m()\u001b[0m\n",
      "    \u001b[31m~~~~~~~~~~~~\u001b[0m\u001b[1;31m^^\u001b[0m\n",
      "  File \u001b[35m\"/home/anton/micromamba/envs/clip-siamese/lib/python3.13/site-packages/seleniumwire/thirdparty/mitmproxy/server/protocol/http.py\"\u001b[0m, line \u001b[35m373\u001b[0m, in \u001b[35mget_response\u001b[0m\n",
      "    \u001b[31mself.send_request_headers\u001b[0m\u001b[1;31m(f.request)\u001b[0m\n",
      "    \u001b[31m~~~~~~~~~~~~~~~~~~~~~~~~~\u001b[0m\u001b[1;31m^^^^^^^^^^^\u001b[0m\n",
      "  File \u001b[35m\"/home/anton/micromamba/envs/clip-siamese/lib/python3.13/site-packages/seleniumwire/thirdparty/mitmproxy/server/protocol/http2.py\"\u001b[0m, line \u001b[35m389\u001b[0m, in \u001b[35mwrapper\u001b[0m\n",
      "    result = func(self, *args, **kwargs)\n",
      "  File \u001b[35m\"/home/anton/micromamba/envs/clip-siamese/lib/python3.13/site-packages/seleniumwire/thirdparty/mitmproxy/server/protocol/http2.py\"\u001b[0m, line \u001b[35m562\u001b[0m, in \u001b[35msend_request_headers\u001b[0m\n",
      "    max_streams = \u001b[31mself.connections\u001b[0m\u001b[1;31m[self.server_conn]\u001b[0m.remote_settings.max_concurrent_streams\n",
      "                  \u001b[31m~~~~~~~~~~~~~~~~\u001b[0m\u001b[1;31m^^^^^^^^^^^^^^^^^^\u001b[0m\n",
      "\u001b[1;35mKeyError\u001b[0m: \u001b[35m<ServerConnection: xapi.ozon.ru:443>\u001b[0m\n"
     ]
    },
    {
     "name": "stdout",
     "output_type": "stream",
     "text": [
      "[DEBUG] New driver session id: 58dbf9c6d882b40598b72e49ecfa46ed using profile: /tmp/chrome_profile_0c5b802080364183b35f4f6c0430a7f6_pdl96ffa\n",
      "[DEBUG] User Agent: Mozilla/5.0 (Windows NT 10.0; Win64; x64) AppleWebKit/537.36 (KHTML, like Gecko) Chrome/134.0.0.0 Safari/537.36 Trailer/93.3.8652.5\n",
      "[RETRY WRAPPER] (ATTEMPT 2 | timeout 22) - Using driver id: 140256797924656\n",
      "[INFO] NAVIGATING TO (timeout=22): https://www.ozon.ru/context/detail/id/491268805/\n",
      "[RETRY WRAPPER] (ATTEMPT 2 | timeout 22) - AntiBotException detected: Reload button detected on https://www.ozon.ru/context/detail/id/491268805/; page requires reloading.. Reinitializing driver.\n",
      "[DEBUG] New driver session id: 5305dd0836ddd52309f8faedab258189 using profile: /tmp/chrome_profile_beb841853963451184b388e5694ac3ff_3fgu6xud\n",
      "[DEBUG] User Agent: Mozilla/5.0 (Windows NT 10.0; Win64; x64) AppleWebKit/537.36 (KHTML, like Gecko) Chrome/70.0.3538.102 Safari/537.36 Edge/18.1958\n",
      "[RETRY WRAPPER] (ATTEMPT 3 | timeout 20) - Using driver id: 140256793523856\n",
      "[INFO] NAVIGATING TO (timeout=20): https://www.ozon.ru/context/detail/id/491268805/\n",
      "[RETRY WRAPPER] (ATTEMPT 3 | timeout 20) - AntiBotException detected: Reload button detected on https://www.ozon.ru/context/detail/id/491268805/; page requires reloading.. Reinitializing driver.\n",
      "[DEBUG] New driver session id: e386008f588120205a4927dc4b23ad75 using profile: /tmp/chrome_profile_1b6ad9cccdff42408a9540d49b339cdf_c4wa24r1\n",
      "[DEBUG] User Agent: Mozilla/5.0 (Windows NT 10.0; Win64; x64) AppleWebKit/537.36 (KHTML, like Gecko) Chrome/70.0.3538.102 Safari/537.36 Edge/18.1958\n",
      "[RETRY WRAPPER] (ATTEMPT 4 | timeout 20) - Using driver id: 140256794485808\n",
      "[INFO] NAVIGATING TO (timeout=20): https://www.ozon.ru/context/detail/id/491268805/\n",
      "[RETRY WRAPPER] (ATTEMPT 9 | timeout 20) - Timeout. Increasing by 2\n",
      "[DEBUG] New driver session id: 9a9c4a9b216c5ae41f518048a8acdf33 using profile: /tmp/chrome_profile_32595e10aac04b409d784417d22f33f9_b0x2kcee\n",
      "[DEBUG] User Agent: Mozilla/5.0 (Windows NT 10.0; Win64; x64) AppleWebKit/537.36 (KHTML, like Gecko) Chrome/132.0.0.0 Safari/537.36 OPR/117.0.0.\n",
      "[RETRY WRAPPER] (ATTEMPT 10 | timeout 22) - Using driver id: 140255619119632\n",
      "[INFO] NAVIGATING TO (timeout=22): https://www.ozon.ru/context/detail/id/178726257/\n",
      "[RETRY WRAPPER] (ATTEMPT 4 | timeout 20) - Timeout. Increasing by 2\n",
      "[DEBUG] New driver session id: 1bbebfded8a7ba743319cea71aaf6421 using profile: /tmp/chrome_profile_5325195f9e5d48a59e42acb3f43b9e13_ir4jto3b\n",
      "[DEBUG] User Agent: Mozilla/5.0 (Windows NT 10.0; Win64; x64) AppleWebKit/537.36 (KHTML, like Gecko) Chrome/134.0.0.0 Safari/537.36 Trailer/93.3.8652.5\n",
      "[RETRY WRAPPER] (ATTEMPT 5 | timeout 22) - Using driver id: 140255594656528\n",
      "[INFO] NAVIGATING TO (timeout=22): https://www.ozon.ru/context/detail/id/491268805/\n",
      "[RETRY WRAPPER] (ATTEMPT 5 | timeout 22) - AntiBotException detected: Reload button detected on https://www.ozon.ru/context/detail/id/491268805/; page requires reloading.. Reinitializing driver.\n",
      "[RETRY WRAPPER] (ATTEMPT 10 | timeout 22) - Timeout. Increasing by 2\n",
      "[DEBUG] New driver session id: 25e100d78728a8d8e313532da0d3a7eb using profile: /tmp/chrome_profile_f771870e18f84e6f9d4544a822ca3f82_ksaly10h\n",
      "[DEBUG] User Agent: Mozilla/5.0 (Windows NT 10.0; Win64; x64) AppleWebKit/537.36 (KHTML, like Gecko) Chrome/134.0.0.0 Safari/537.36 Trailer/93.3.8652.5\n",
      "[RETRY WRAPPER] (ATTEMPT 6 | timeout 20) - Using driver id: 140256794491184\n",
      "[INFO] NAVIGATING TO (timeout=20): https://www.ozon.ru/context/detail/id/491268805/\n",
      "[DEBUG] New driver session id: 679e76f7616d3e3003c76ac5ad4ab04d using profile: /tmp/chrome_profile_473993eec27d4682843602b70daf95ae_3v5s1nbv\n",
      "[DEBUG] User Agent: Mozilla/5.0 (Windows NT 10.0; Win64; x64) AppleWebKit/537.36 (KHTML, like Gecko) Chrome/70.0.3538.102 Safari/537.36 Edge/18.1958\n"
     ]
    },
    {
     "name": "stderr",
     "output_type": "stream",
     "text": [
      "Processing tasks:   1%|          | 25/2852 [15:09<31:39:18, 40.31s/it]"
     ]
    },
    {
     "name": "stdout",
     "output_type": "stream",
     "text": [
      "[178726257] - ERROR TimeoutException PROCESSING ROW: Message: Max retries reached for https://www.ozon.ru/context/detail/id/178726257/\n",
      "\n",
      "[DEBUG] New driver session id: fcbeaebd8e7c65b56dc39d8fe793ff82 using profile: /tmp/chrome_profile_a7863cf03e6f4c62a1d3672c1e21bf84_g2ro450_\n",
      "[DEBUG] User Agent: Mozilla/5.0 (Windows NT 10.0; Win64; x64) AppleWebKit/537.36 (KHTML, like Gecko) Chrome/134.0.0.0 Safari/537.36 Trailer/93.3.8652.5\n",
      "[RETRY WRAPPER] (ATTEMPT 1 | timeout 20) - Using driver id: 140255452181712\n",
      "[INFO] NAVIGATING TO (timeout=20): https://www.ozon.ru/context/detail/id/854773662/\n",
      "[RETRY WRAPPER] (ATTEMPT 6 | timeout 20) - AntiBotException detected: Reload button detected on https://www.ozon.ru/context/detail/id/491268805/; page requires reloading.. Reinitializing driver.\n",
      "[DEBUG] New driver session id: 4c6b15d098358184ab9d8d4bc37c85d9 using profile: /tmp/chrome_profile_5aacb05bed4f4fa382796e2f99285161_jaoh9rry\n",
      "[DEBUG] User Agent: Mozilla/5.0 (Windows NT 10.0; Win64; x64) AppleWebKit/537.36 (KHTML, like Gecko) Chrome/70.0.3538.102 Safari/537.36 Edge/18.1958\n",
      "[RETRY WRAPPER] (ATTEMPT 7 | timeout 20) - Using driver id: 140255594644208\n",
      "[INFO] NAVIGATING TO (timeout=20): https://www.ozon.ru/context/detail/id/491268805/\n",
      "[INFO] DESCRIPTION DETECTED (k7y_28)\n"
     ]
    },
    {
     "name": "stderr",
     "output_type": "stream",
     "text": [
      "Processing tasks:   1%|          | 26/2852 [15:28<26:41:59, 34.01s/it]"
     ]
    },
    {
     "name": "stdout",
     "output_type": "stream",
     "text": [
      "[854773662] - DESCRIPTION SUCCESS: Карта настенная Санкт-Петербург/КАД, ламинированная, 200х144...\n",
      "[DEBUG] New driver session id: 8ba5edcfddbbead6a51676cfef0e44ed using profile: /tmp/chrome_profile_9bcd7d4778734eb081af45b6fe325a08_wn6ofsxy\n",
      "[DEBUG] User Agent: Mozilla/5.0 (Windows NT 10.0; Win64; x64) AppleWebKit/537.36 (KHTML, like Gecko) Chrome/70.0.3538.102 Safari/537.36 Edge/18.1958\n",
      "[RETRY WRAPPER] (ATTEMPT 1 | timeout 20) - Using driver id: 140255594754832\n",
      "[INFO] NAVIGATING TO (timeout=20): https://www.ozon.ru/context/detail/id/1408330333/\n",
      "[INFO] DESCRIPTION DETECTED (k7y_28)\n"
     ]
    },
    {
     "name": "stderr",
     "output_type": "stream",
     "text": [
      "Processing tasks:   1%|          | 27/2852 [15:39<21:20:07, 27.19s/it]"
     ]
    },
    {
     "name": "stdout",
     "output_type": "stream",
     "text": [
      "[491268805] - DESCRIPTION SUCCESS: ...\n",
      "[DEBUG] New driver session id: d2a0b6b1ab6c7abfc99faa8918cd7f0b using profile: /tmp/chrome_profile_81910458999b4456ad7adeaa36843ce0_lkx49gxs\n",
      "[DEBUG] User Agent: Mozilla/5.0 (Windows NT 10.0; Win64; x64) AppleWebKit/537.36 (KHTML, like Gecko) Chrome/134.0.0.0 Safari/537.36 Edg/134.0.0.\n",
      "[RETRY WRAPPER] (ATTEMPT 1 | timeout 20) - Using driver id: 140255594645776\n",
      "[INFO] NAVIGATING TO (timeout=20): https://www.ozon.ru/context/detail/id/341838675/\n",
      "[RETRY WRAPPER] (ATTEMPT 1 | timeout 20) - AntiBotException detected: Reload button detected on https://www.ozon.ru/context/detail/id/341838675/; page requires reloading.. Reinitializing driver.\n",
      "[DEBUG] New driver session id: b0e12c566ceda6e4dc90de7f25e1471f using profile: /tmp/chrome_profile_b30db2e60c6f4c118fc201a502e06422_368um744\n",
      "[DEBUG] User Agent: Mozilla/5.0 (Windows NT 10.0; Win64; x64) AppleWebKit/537.36 (KHTML, like Gecko) Chrome/134.0.0.0 Safari/537.36 Edg/134.0.0.\n",
      "[RETRY WRAPPER] (ATTEMPT 2 | timeout 20) - Using driver id: 140255619111120\n",
      "[INFO] NAVIGATING TO (timeout=20): https://www.ozon.ru/context/detail/id/341838675/\n",
      "[INFO] DESCRIPTION DETECTED (k7y_28)\n"
     ]
    },
    {
     "name": "stderr",
     "output_type": "stream",
     "text": [
      "Processing tasks:   1%|          | 28/2852 [15:48<16:52:46, 21.52s/it]"
     ]
    },
    {
     "name": "stdout",
     "output_type": "stream",
     "text": [
      "[1408330333] - DESCRIPTION SUCCESS: Украина, складная. В развороте 69 х 95,6см\n",
      "Государственная г...\n",
      "[DEBUG] New driver session id: 56101ebf3cb1760dffda13a612bb78b2 using profile: /tmp/chrome_profile_904ff132bf9a484a8df351ea1397455a_74toitap\n",
      "[DEBUG] User Agent: Mozilla/5.0 (Windows NT 10.0; Win64; x64) AppleWebKit/537.36 (KHTML, like Gecko) Chrome/70.0.3538.102 Safari/537.36 Edge/18.1958\n",
      "[RETRY WRAPPER] (ATTEMPT 1 | timeout 20) - Using driver id: 140255452170736\n",
      "[INFO] NAVIGATING TO (timeout=20): https://www.ozon.ru/context/detail/id/1877130507/\n",
      "[RETRY WRAPPER] (ATTEMPT 1 | timeout 20) - AntiBotException detected: Reload button detected on https://www.ozon.ru/context/detail/id/1877130507/; page requires reloading.. Reinitializing driver.\n",
      "[DEBUG] New driver session id: d1b0bfd208d76b8d8ed1ccc0464ff9ea using profile: /tmp/chrome_profile_25a7f739ce7a4e769b5c246b35594b82_ugjcpnhl\n",
      "[DEBUG] User Agent: Mozilla/5.0 (Windows NT 10.0; Win64; x64) AppleWebKit/537.36 (KHTML, like Gecko) Chrome/134.0.0.0 Safari/537.36 Trailer/93.3.8652.5\n",
      "[RETRY WRAPPER] (ATTEMPT 2 | timeout 20) - Using driver id: 140255452168944\n",
      "[INFO] NAVIGATING TO (timeout=20): https://www.ozon.ru/context/detail/id/1877130507/\n",
      "[RETRY WRAPPER] (ATTEMPT 2 | timeout 20) - Timeout. Increasing by 2\n",
      "[DEBUG] New driver session id: 099f2b1903a1a0f689b9f81f24ebaa98 using profile: /tmp/chrome_profile_4122e24621b544349ce22a074b39db1b_67ypxhpj\n",
      "[DEBUG] User Agent: Mozilla/5.0 (Windows NT 10.0; Win64; x64) AppleWebKit/537.36 (KHTML, like Gecko) Chrome/134.0.0.0 Safari/537.36 Trailer/93.3.8652.5\n",
      "[RETRY WRAPPER] (ATTEMPT 3 | timeout 22) - Using driver id: 140256794488496\n",
      "[INFO] NAVIGATING TO (timeout=22): https://www.ozon.ru/context/detail/id/341838675/\n",
      "[INFO] DESCRIPTION EMPTY (s0k_28)\n"
     ]
    },
    {
     "name": "stderr",
     "output_type": "stream",
     "text": [
      "Processing tasks:   1%|          | 29/2852 [16:11<17:13:09, 21.96s/it]"
     ]
    },
    {
     "name": "stdout",
     "output_type": "stream",
     "text": [
      "[1877130507] - DESCRIPTION OMITTED (OOS)\n",
      "[DEBUG] New driver session id: 2f3b651c42b56a915ef3fbe0a7f8bb08 using profile: /tmp/chrome_profile_d51083c129b340289f3c93b27d605d2f_w0xvskza\n",
      "[DEBUG] User Agent: Mozilla/5.0 (Windows NT 10.0; Win64; x64) AppleWebKit/537.36 (KHTML, like Gecko) Chrome/70.0.3538.102 Safari/537.36 Edge/18.1958\n",
      "[RETRY WRAPPER] (ATTEMPT 1 | timeout 20) - Using driver id: 140255452172528\n",
      "[INFO] NAVIGATING TO (timeout=20): https://www.ozon.ru/context/detail/id/1649961933/\n",
      "[INFO] DESCRIPTION DETECTED (k7y_28)\n"
     ]
    },
    {
     "name": "stderr",
     "output_type": "stream",
     "text": [
      "Processing tasks:   1%|          | 30/2852 [16:29<16:19:36, 20.83s/it]"
     ]
    },
    {
     "name": "stdout",
     "output_type": "stream",
     "text": [
      "[1649961933] - DESCRIPTION SUCCESS: Откройте для себя магию географии с физической картой мира B...\n",
      "[DEBUG] New driver session id: 446c201d9ea623411974fdee911cb6a2 using profile: /tmp/chrome_profile_41634b2502ea49e98bc1453eb9262078_u4qjvunr\n",
      "[DEBUG] User Agent: Mozilla/5.0 (Windows NT 10.0; Win64; x64) AppleWebKit/537.36 (KHTML, like Gecko) Chrome/134.0.0.0 Safari/537.3\n",
      "[RETRY WRAPPER] (ATTEMPT 1 | timeout 20) - Using driver id: 140255452181264\n",
      "[INFO] NAVIGATING TO (timeout=20): https://www.ozon.ru/context/detail/id/288786180/\n",
      "[RETRY WRAPPER] (ATTEMPT 3 | timeout 22) - Timeout. Increasing by 2\n",
      "[DEBUG] New driver session id: baba2b02b5c450c9c147f3328a97a6f4 using profile: /tmp/chrome_profile_df8836fdb053497e98ebdb73eb47c0bd_ulkc1kqj\n",
      "[DEBUG] User Agent: Mozilla/5.0 (Windows NT 10.0; Win64; x64) AppleWebKit/537.36 (KHTML, like Gecko) Chrome/132.0.0.0 Safari/537.36 OPR/117.0.0.\n",
      "[RETRY WRAPPER] (ATTEMPT 4 | timeout 24) - Using driver id: 140255594659440\n",
      "[INFO] NAVIGATING TO (timeout=24): https://www.ozon.ru/context/detail/id/341838675/\n",
      "[RETRY WRAPPER] (ATTEMPT 4 | timeout 24) - AntiBotException detected: Reload button detected on https://www.ozon.ru/context/detail/id/341838675/; page requires reloading.. Reinitializing driver.\n",
      "[DEBUG] New driver session id: e6d81d251dcf0490dafae99f484539f6 using profile: /tmp/chrome_profile_c3021d3bd787422cbf7c882a075c5ce4_mr6btl6e\n",
      "[DEBUG] User Agent: Mozilla/5.0 (Windows NT 10.0; Win64; x64) AppleWebKit/537.36 (KHTML, like Gecko) Chrome/134.0.0.0 Safari/537.3\n",
      "[RETRY WRAPPER] (ATTEMPT 5 | timeout 20) - Using driver id: 140256793510640\n",
      "[INFO] NAVIGATING TO (timeout=20): https://www.ozon.ru/context/detail/id/341838675/\n",
      "[RETRY WRAPPER] (ATTEMPT 5 | timeout 20) - AntiBotException detected: Reload button detected on https://www.ozon.ru/context/detail/id/341838675/; page requires reloading.. Reinitializing driver.\n",
      "[DEBUG] New driver session id: 73159415d04833ed3612ae67fa1314ba using profile: /tmp/chrome_profile_54b3746327664c8ea4999f298fad97e3__snd0ax_\n",
      "[DEBUG] User Agent: Mozilla/5.0 (Windows NT 10.0; Win64; x64) AppleWebKit/537.36 (KHTML, like Gecko) Chrome/134.0.0.0 Safari/537.36 Edg/134.0.0.\n",
      "[INFO] DESCRIPTION EMPTY (s0k_28)\n"
     ]
    },
    {
     "name": "stderr",
     "output_type": "stream",
     "text": [
      "Processing tasks:   1%|          | 31/2852 [16:50<16:19:14, 20.83s/it]"
     ]
    },
    {
     "name": "stdout",
     "output_type": "stream",
     "text": [
      "[RETRY WRAPPER] (ATTEMPT 6 | timeout 20) - Using driver id: 140256797924208\n",
      "[INFO] NAVIGATING TO (timeout=20): https://www.ozon.ru/context/detail/id/341838675/\n",
      "[288786180] - DESCRIPTION OMITTED (OOS)\n",
      "[DEBUG] New driver session id: 55ffc7b245a04bfb55b8f1b0cc5430f9 using profile: /tmp/chrome_profile_12f762109c6148f5bf24fe48cefc299b_nqtr92t7\n",
      "[DEBUG] User Agent: Mozilla/5.0 (Windows NT 10.0; Win64; x64) AppleWebKit/537.36 (KHTML, like Gecko) Chrome/132.0.0.0 Safari/537.36 OPR/117.0.0.\n",
      "[RETRY WRAPPER] (ATTEMPT 1 | timeout 20) - Using driver id: 140255619115824\n",
      "[INFO] NAVIGATING TO (timeout=20): https://www.ozon.ru/context/detail/id/288793750/\n",
      "[RETRY WRAPPER] (ATTEMPT 6 | timeout 20) - AntiBotException detected: Reload button detected on https://www.ozon.ru/context/detail/id/341838675/; page requires reloading.. Reinitializing driver.\n",
      "[DEBUG] New driver session id: a6fe9a93cfd6aeb4a33549394eb61c1f using profile: /tmp/chrome_profile_8a639fad94f049fea359b9483ab27b5b_ec0u_crq\n",
      "[DEBUG] User Agent: Mozilla/5.0 (Windows NT 10.0; Win64; x64) AppleWebKit/537.36 (KHTML, like Gecko) Chrome/70.0.3538.102 Safari/537.36 Edge/18.1958\n",
      "[RETRY WRAPPER] (ATTEMPT 7 | timeout 20) - Using driver id: 140256797922192\n",
      "[INFO] NAVIGATING TO (timeout=20): https://www.ozon.ru/context/detail/id/341838675/\n",
      "[RETRY WRAPPER] (ATTEMPT 7 | timeout 20) - AntiBotException detected: Reload button detected on https://www.ozon.ru/context/detail/id/341838675/; page requires reloading.. Reinitializing driver.\n",
      "[DEBUG] New driver session id: c5800cf2a8de054c3d288532972424ae using profile: /tmp/chrome_profile_60e9f6bf08c24ea2ae8e6f6f1cae03f2_dd2tmumo\n",
      "[DEBUG] User Agent: Mozilla/5.0 (Windows NT 10.0; Win64; x64) AppleWebKit/537.36 (KHTML, like Gecko) Chrome/70.0.3538.102 Safari/537.36 Edge/18.1958\n",
      "[RETRY WRAPPER] (ATTEMPT 8 | timeout 20) - Using driver id: 140256793519600\n",
      "[INFO] NAVIGATING TO (timeout=20): https://www.ozon.ru/context/detail/id/341838675/\n",
      "[INFO] DESCRIPTION DETECTED (k7y_28)\n"
     ]
    },
    {
     "name": "stderr",
     "output_type": "stream",
     "text": [
      "Processing tasks:   1%|          | 32/2852 [17:09<15:56:53, 20.36s/it]"
     ]
    },
    {
     "name": "stdout",
     "output_type": "stream",
     "text": [
      "[288793750] - DESCRIPTION SUCCESS: Откройте для себя удивительный мир географии с физической ка...\n",
      "[DEBUG] New driver session id: e3cf645191079eeb798e51772c7930b0 using profile: /tmp/chrome_profile_281edd99ef774e4c9c81ac1bc038da83_57tys48w\n",
      "[DEBUG] User Agent: Mozilla/5.0 (Windows NT 10.0; Win64; x64) AppleWebKit/537.36 (KHTML, like Gecko) Chrome/134.0.0.0 Safari/537.3\n",
      "[RETRY WRAPPER] (ATTEMPT 1 | timeout 20) - Using driver id: 140255595177904\n",
      "[INFO] NAVIGATING TO (timeout=20): https://www.ozon.ru/context/detail/id/491271284/\n",
      "[RETRY WRAPPER] (ATTEMPT 8 | timeout 20) - Timeout. Increasing by 2\n",
      "[DEBUG] New driver session id: 47e1994cfc5bf4a233a5ba3402f60808 using profile: /tmp/chrome_profile_2270f3684e664f21aa55962806daf503_bix54btp\n",
      "[DEBUG] User Agent: Mozilla/5.0 (Windows NT 10.0; Win64; x64) AppleWebKit/537.36 (KHTML, like Gecko) Chrome/70.0.3538.102 Safari/537.36 Edge/18.1958\n",
      "[RETRY WRAPPER] (ATTEMPT 9 | timeout 22) - Using driver id: 140256794485360\n",
      "[INFO] NAVIGATING TO (timeout=22): https://www.ozon.ru/context/detail/id/341838675/\n",
      "[RETRY WRAPPER] (ATTEMPT 1 | timeout 20) - Timeout. Increasing by 2\n",
      "[DEBUG] New driver session id: 8acea053c6f67d520505811807b6167f using profile: /tmp/chrome_profile_2f6fb2485213416289287bff201baffc_d3640i8y\n",
      "[DEBUG] User Agent: Mozilla/5.0 (Windows NT 10.0; Win64; x64) AppleWebKit/537.36 (KHTML, like Gecko) Chrome/134.0.0.0 Safari/537.36 Edg/134.0.0.\n",
      "[RETRY WRAPPER] (ATTEMPT 2 | timeout 22) - Using driver id: 140255469904944\n",
      "[INFO] NAVIGATING TO (timeout=22): https://www.ozon.ru/context/detail/id/491271284/\n",
      "[RETRY WRAPPER] (ATTEMPT 2 | timeout 22) - AntiBotException detected: Reload button detected on https://www.ozon.ru/context/detail/id/491271284/; page requires reloading.. Reinitializing driver.\n",
      "[DEBUG] New driver session id: 7a95485013771579d7403eb06270898c using profile: /tmp/chrome_profile_3c89c843f5284d26bf79c7c5a688ce34_ao7a84vu\n",
      "[DEBUG] User Agent: Mozilla/5.0 (Windows NT 10.0; Win64; x64) AppleWebKit/537.36 (KHTML, like Gecko) Chrome/134.0.0.0 Safari/537.36 Edg/134.0.0.\n",
      "[RETRY WRAPPER] (ATTEMPT 3 | timeout 20) - Using driver id: 140255469909200\n",
      "[INFO] NAVIGATING TO (timeout=20): https://www.ozon.ru/context/detail/id/491271284/\n",
      "[RETRY WRAPPER] (ATTEMPT 9 | timeout 22) - Timeout. Increasing by 2\n",
      "[DEBUG] New driver session id: 768c88e10b3145d4b9e70b659aeac270 using profile: /tmp/chrome_profile_af310916f357448a8cfbabc7f1e58e8d_h9u4wlyj\n",
      "[DEBUG] User Agent: Mozilla/5.0 (Windows NT 10.0; Win64; x64) AppleWebKit/537.36 (KHTML, like Gecko) Chrome/132.0.0.0 Safari/537.36 OPR/117.0.0.\n",
      "[RETRY WRAPPER] (ATTEMPT 10 | timeout 24) - Using driver id: 140255619112464\n",
      "[INFO] NAVIGATING TO (timeout=24): https://www.ozon.ru/context/detail/id/341838675/\n",
      "[RETRY WRAPPER] (ATTEMPT 3 | timeout 20) - Timeout. Increasing by 2\n",
      "[DEBUG] New driver session id: acba8b668f5ccf89a504b33870046ff9 using profile: /tmp/chrome_profile_bcf0af49f6eb423684be50b471f0948d_5s0lzjdy\n",
      "[DEBUG] User Agent: Mozilla/5.0 (Windows NT 10.0; Win64; x64) AppleWebKit/537.36 (KHTML, like Gecko) Chrome/134.0.0.0 Safari/537.3\n",
      "[RETRY WRAPPER] (ATTEMPT 4 | timeout 22) - Using driver id: 140255469903152\n",
      "[INFO] NAVIGATING TO (timeout=22): https://www.ozon.ru/context/detail/id/491271284/\n",
      "[RETRY WRAPPER] (ATTEMPT 10 | timeout 24) - Timeout. Increasing by 2\n"
     ]
    },
    {
     "name": "stderr",
     "output_type": "stream",
     "text": [
      "Exception in thread Http2SingleStreamLayer-13:\n",
      "Traceback (most recent call last):\n",
      "  File \u001b[35m\"/home/anton/micromamba/envs/clip-siamese/lib/python3.13/threading.py\"\u001b[0m, line \u001b[35m1041\u001b[0m, in \u001b[35m_bootstrap_inner\u001b[0m\n",
      "    \u001b[31mself.run\u001b[0m\u001b[1;31m()\u001b[0m\n",
      "    \u001b[31m~~~~~~~~\u001b[0m\u001b[1;31m^^\u001b[0m\n",
      "  File \u001b[35m\"/home/anton/micromamba/envs/clip-siamese/lib/python3.13/site-packages/seleniumwire/thirdparty/mitmproxy/server/protocol/http2.py\"\u001b[0m, line \u001b[35m719\u001b[0m, in \u001b[35mrun\u001b[0m\n",
      "    \u001b[31mlayer\u001b[0m\u001b[1;31m()\u001b[0m\n",
      "    \u001b[31m~~~~~\u001b[0m\u001b[1;31m^^\u001b[0m\n",
      "  File \u001b[35m\"/home/anton/micromamba/envs/clip-siamese/lib/python3.13/site-packages/seleniumwire/thirdparty/mitmproxy/server/protocol/http.py\"\u001b[0m, line \u001b[35m206\u001b[0m, in \u001b[35m__call__\u001b[0m\n",
      "    if not \u001b[31mself._process_flow\u001b[0m\u001b[1;31m(flow)\u001b[0m:\n",
      "           \u001b[31m~~~~~~~~~~~~~~~~~~\u001b[0m\u001b[1;31m^^^^^^\u001b[0m\n",
      "  File \u001b[35m\"/home/anton/micromamba/envs/clip-siamese/lib/python3.13/site-packages/seleniumwire/thirdparty/mitmproxy/server/protocol/http.py\"\u001b[0m, line \u001b[35m388\u001b[0m, in \u001b[35m_process_flow\u001b[0m\n",
      "    \u001b[31mget_response\u001b[0m\u001b[1;31m()\u001b[0m\n",
      "    \u001b[31m~~~~~~~~~~~~\u001b[0m\u001b[1;31m^^\u001b[0m\n",
      "  File \u001b[35m\"/home/anton/micromamba/envs/clip-siamese/lib/python3.13/site-packages/seleniumwire/thirdparty/mitmproxy/server/protocol/http.py\"\u001b[0m, line \u001b[35m373\u001b[0m, in \u001b[35mget_response\u001b[0m\n",
      "    \u001b[31mself.send_request_headers\u001b[0m\u001b[1;31m(f.request)\u001b[0m\n",
      "    \u001b[31m~~~~~~~~~~~~~~~~~~~~~~~~~\u001b[0m\u001b[1;31m^^^^^^^^^^^\u001b[0m\n",
      "  File \u001b[35m\"/home/anton/micromamba/envs/clip-siamese/lib/python3.13/site-packages/seleniumwire/thirdparty/mitmproxy/server/protocol/http2.py\"\u001b[0m, line \u001b[35m389\u001b[0m, in \u001b[35mwrapper\u001b[0m\n",
      "    result = func(self, *args, **kwargs)\n",
      "  File \u001b[35m\"/home/anton/micromamba/envs/clip-siamese/lib/python3.13/site-packages/seleniumwire/thirdparty/mitmproxy/server/protocol/http2.py\"\u001b[0m, line \u001b[35m562\u001b[0m, in \u001b[35msend_request_headers\u001b[0m\n",
      "    max_streams = \u001b[31mself.connections\u001b[0m\u001b[1;31m[self.server_conn]\u001b[0m.remote_settings.max_concurrent_streams\n",
      "                  \u001b[31m~~~~~~~~~~~~~~~~\u001b[0m\u001b[1;31m^^^^^^^^^^^^^^^^^^\u001b[0m\n",
      "\u001b[1;35mKeyError\u001b[0m: \u001b[35m<ServerConnection: xapi.ozon.ru:443>\u001b[0m\n"
     ]
    },
    {
     "name": "stdout",
     "output_type": "stream",
     "text": [
      "[DEBUG] New driver session id: 9100a882be3d31c3905ccb82e6f91100 using profile: /tmp/chrome_profile_f10be8f80c274f9ab5c30162dc700d68_gtsjk_e0\n",
      "[DEBUG] User Agent: Mozilla/5.0 (Windows NT 10.0; Win64; x64) AppleWebKit/537.36 (KHTML, like Gecko) Chrome/132.0.0.0 Safari/537.36 OPR/117.0.0.\n"
     ]
    },
    {
     "name": "stderr",
     "output_type": "stream",
     "text": [
      "Processing tasks:   1%|          | 33/2852 [18:22<28:14:16, 36.06s/it]"
     ]
    },
    {
     "name": "stdout",
     "output_type": "stream",
     "text": [
      "[341838675] - ERROR TimeoutException PROCESSING ROW: Message: Max retries reached for https://www.ozon.ru/context/detail/id/341838675/\n",
      "\n",
      "[DEBUG] New driver session id: 163935d6a78066d4a9d423443dcc7bf5 using profile: /tmp/chrome_profile_a03fc792602a45d89dd25ccc614e635e_5h1loimv\n",
      "[DEBUG] User Agent: Mozilla/5.0 (Windows NT 10.0; Win64; x64) AppleWebKit/537.36 (KHTML, like Gecko) Chrome/132.0.0.0 Safari/537.36 OPR/117.0.0.\n",
      "[RETRY WRAPPER] (ATTEMPT 1 | timeout 20) - Using driver id: 140255619109776\n",
      "[INFO] NAVIGATING TO (timeout=20): https://www.ozon.ru/context/detail/id/1230674601/\n",
      "[RETRY WRAPPER] (ATTEMPT 4 | timeout 22) - Timeout. Increasing by 2\n",
      "[DEBUG] New driver session id: 52797e1cb8072f410d2779ee022d17fb using profile: /tmp/chrome_profile_f2fec27ff7f74df285d8120456090845_6yj8_fyu\n",
      "[DEBUG] User Agent: Mozilla/5.0 (Windows NT 10.0; Win64; x64) AppleWebKit/537.36 (KHTML, like Gecko) Chrome/132.0.0.0 Safari/537.36 OPR/117.0.0.\n",
      "[RETRY WRAPPER] (ATTEMPT 5 | timeout 24) - Using driver id: 140255469896208\n",
      "[INFO] NAVIGATING TO (timeout=24): https://www.ozon.ru/context/detail/id/491271284/\n",
      "[RETRY WRAPPER] (ATTEMPT 5 | timeout 24) - AntiBotException detected: Reload button detected on https://www.ozon.ru/context/detail/id/491271284/; page requires reloading.. Reinitializing driver.\n",
      "[DEBUG] New driver session id: 5d142d656b2fb01839a56f42d0e07f08 using profile: /tmp/chrome_profile_399b85ff2b424fdf8d7ee19fa3794249_ugjdk4i8\n",
      "[DEBUG] User Agent: Mozilla/5.0 (Windows NT 10.0; Win64; x64) AppleWebKit/537.36 (KHTML, like Gecko) Chrome/134.0.0.0 Safari/537.36 Trailer/93.3.8652.5\n",
      "[RETRY WRAPPER] (ATTEMPT 6 | timeout 20) - Using driver id: 140255469900240\n",
      "[INFO] NAVIGATING TO (timeout=20): https://www.ozon.ru/context/detail/id/491271284/\n",
      "[INFO] DESCRIPTION DETECTED (k7y_28)\n"
     ]
    },
    {
     "name": "stderr",
     "output_type": "stream",
     "text": [
      "Processing tasks:   1%|          | 34/2852 [18:44<25:00:10, 31.94s/it]"
     ]
    },
    {
     "name": "stdout",
     "output_type": "stream",
     "text": [
      "[1230674601] - DESCRIPTION SUCCESS: Карта Украины административная. Масштаб 1:2 500 000 (в 1 см ...\n",
      "[DEBUG] New driver session id: bdb330ce75637cb04cdfe90113d80a0e using profile: /tmp/chrome_profile_6758a482c1f14bdf8fe1a75fd3a79355_l_5akgt7\n",
      "[DEBUG] User Agent: Mozilla/5.0 (Windows NT 10.0; Win64; x64) AppleWebKit/537.36 (KHTML, like Gecko) Chrome/134.0.0.0 Safari/537.36 Trailer/93.3.8652.5\n",
      "[RETRY WRAPPER] (ATTEMPT 1 | timeout 20) - Using driver id: 140255594650032\n",
      "[INFO] NAVIGATING TO (timeout=20): https://www.ozon.ru/context/detail/id/1223938781/\n",
      "[RETRY WRAPPER] (ATTEMPT 6 | timeout 20) - Timeout. Increasing by 2\n",
      "[DEBUG] New driver session id: f3b2a9e49cd68f8d023e2e33a377765a using profile: /tmp/chrome_profile_b150e98b180347ffb964e72497ad97ad_d1lgpl27\n",
      "[DEBUG] User Agent: Mozilla/5.0 (Windows NT 10.0; Win64; x64) AppleWebKit/537.36 (KHTML, like Gecko) Chrome/134.0.0.0 Safari/537.36 Trailer/93.3.8652.5\n",
      "[INFO] DESCRIPTION DETECTED (k7y_28)\n"
     ]
    },
    {
     "name": "stderr",
     "output_type": "stream",
     "text": [
      "Processing tasks:   1%|          | 35/2852 [19:03<22:02:56, 28.18s/it]"
     ]
    },
    {
     "name": "stdout",
     "output_type": "stream",
     "text": [
      "[1223938781] - DESCRIPTION SUCCESS: Настенная карта мира для детей ламинированная размером 100х6...\n",
      "[RETRY WRAPPER] (ATTEMPT 7 | timeout 22) - Using driver id: 140255594757744\n",
      "[INFO] NAVIGATING TO (timeout=22): https://www.ozon.ru/context/detail/id/491271284/\n",
      "[DEBUG] New driver session id: ca594762ce4cc6a89c6d96d41fceab32 using profile: /tmp/chrome_profile_7c6900a150794b34ad19ca670468ec29_rvg73khb\n",
      "[DEBUG] User Agent: Mozilla/5.0 (Windows NT 10.0; Win64; x64) AppleWebKit/537.36 (KHTML, like Gecko) Chrome/134.0.0.0 Safari/537.3\n",
      "[RETRY WRAPPER] (ATTEMPT 1 | timeout 20) - Using driver id: 140255594654288\n",
      "[INFO] NAVIGATING TO (timeout=20): https://www.ozon.ru/context/detail/id/1385890032/\n",
      "[RETRY WRAPPER] (ATTEMPT 1 | timeout 20) - AntiBotException detected: Reload button detected on https://www.ozon.ru/context/detail/id/1385890032/; page requires reloading.. Reinitializing driver.\n",
      "[DEBUG] New driver session id: 31fd6ea018d1a9e696181cdcd1cf5564 using profile: /tmp/chrome_profile_9187dccbf5fa42c0b67351d9027e76c3_rktrxmpn\n",
      "[DEBUG] User Agent: Mozilla/5.0 (Windows NT 10.0; Win64; x64) AppleWebKit/537.36 (KHTML, like Gecko) Chrome/70.0.3538.102 Safari/537.36 Edge/18.1958\n",
      "[RETRY WRAPPER] (ATTEMPT 2 | timeout 20) - Using driver id: 140256794485808\n",
      "[INFO] NAVIGATING TO (timeout=20): https://www.ozon.ru/context/detail/id/1385890032/\n",
      "[RETRY WRAPPER] (ATTEMPT 2 | timeout 20) - AntiBotException detected: Reload button detected on https://www.ozon.ru/context/detail/id/1385890032/; page requires reloading.. Reinitializing driver.\n",
      "[DEBUG] New driver session id: 689773ae65737f53e28477372cb8852b using profile: /tmp/chrome_profile_d42b75155b7a4063add9f7739a5f7144_950xrasg\n",
      "[DEBUG] User Agent: Mozilla/5.0 (Windows NT 10.0; Win64; x64) AppleWebKit/537.36 (KHTML, like Gecko) Chrome/134.0.0.0 Safari/537.36 Trailer/93.3.8652.5\n",
      "[RETRY WRAPPER] (ATTEMPT 3 | timeout 20) - Using driver id: 140256798233488\n",
      "[INFO] NAVIGATING TO (timeout=20): https://www.ozon.ru/context/detail/id/1385890032/\n",
      "[RETRY WRAPPER] (ATTEMPT 3 | timeout 20) - AntiBotException detected: Reload button detected on https://www.ozon.ru/context/detail/id/1385890032/; page requires reloading.. Reinitializing driver.\n",
      "[DEBUG] New driver session id: ddfbf55953850569352dc46c09cafc83 using profile: /tmp/chrome_profile_ef685114622f4ec5b89d818c19be2877_1dntkusl\n",
      "[DEBUG] User Agent: Mozilla/5.0 (Windows NT 10.0; Win64; x64) AppleWebKit/537.36 (KHTML, like Gecko) Chrome/134.0.0.0 Safari/537.36 Trailer/93.3.8652.5\n",
      "[RETRY WRAPPER] (ATTEMPT 4 | timeout 20) - Using driver id: 140256794488720\n",
      "[INFO] NAVIGATING TO (timeout=20): https://www.ozon.ru/context/detail/id/1385890032/\n",
      "[RETRY WRAPPER] (ATTEMPT 7 | timeout 22) - Timeout. Increasing by 2\n",
      "[DEBUG] New driver session id: 158b0bc6c6c71f6c321a3ca6e7925bbd using profile: /tmp/chrome_profile_f23cfd3ef35948c7b69cbdc3bcda3361_owxi29_w\n",
      "[DEBUG] User Agent: Mozilla/5.0 (Windows NT 10.0; Win64; x64) AppleWebKit/537.36 (KHTML, like Gecko) Chrome/134.0.0.0 Safari/537.36 Trailer/93.3.8652.5\n",
      "[RETRY WRAPPER] (ATTEMPT 8 | timeout 24) - Using driver id: 140255469907184\n",
      "[INFO] NAVIGATING TO (timeout=24): https://www.ozon.ru/context/detail/id/491271284/\n",
      "[RETRY WRAPPER] (ATTEMPT 4 | timeout 20) - AntiBotException detected: Reload button detected on https://www.ozon.ru/context/detail/id/1385890032/; page requires reloading.. Reinitializing driver.\n",
      "[DEBUG] New driver session id: 0d96cc6d0b4c71864f8503b319e88e77 using profile: /tmp/chrome_profile_edb7add5e7e048ddb2a5838e89b0e7ae_44tontk7\n",
      "[DEBUG] User Agent: Mozilla/5.0 (Windows NT 10.0; Win64; x64) AppleWebKit/537.36 (KHTML, like Gecko) Chrome/70.0.3538.102 Safari/537.36 Edge/18.1958\n",
      "[RETRY WRAPPER] (ATTEMPT 8 | timeout 24) - AntiBotException detected: Reload button detected on https://www.ozon.ru/context/detail/id/491271284/; page requires reloading.. Reinitializing driver.\n",
      "[RETRY WRAPPER] (ATTEMPT 5 | timeout 20) - Using driver id: 140256797919728\n",
      "[INFO] NAVIGATING TO (timeout=20): https://www.ozon.ru/context/detail/id/1385890032/\n",
      "[DEBUG] New driver session id: 8ffffb90385f6b19bb3d2c75bfe2fa9e using profile: /tmp/chrome_profile_47ad191992434133ba0bc813b07bc462_sfprfrih\n",
      "[DEBUG] User Agent: Mozilla/5.0 (Windows NT 10.0; Win64; x64) AppleWebKit/537.36 (KHTML, like Gecko) Chrome/70.0.3538.102 Safari/537.36 Edge/18.1958\n",
      "[RETRY WRAPPER] (ATTEMPT 9 | timeout 20) - Using driver id: 140255469902032\n",
      "[INFO] NAVIGATING TO (timeout=20): https://www.ozon.ru/context/detail/id/491271284/\n",
      "[RETRY WRAPPER] (ATTEMPT 5 | timeout 20) - AntiBotException detected: Reload button detected on https://www.ozon.ru/context/detail/id/1385890032/; page requires reloading.. Reinitializing driver.\n",
      "[DEBUG] New driver session id: f6583c5235a69f652d059b2127ee2adb using profile: /tmp/chrome_profile_9ad89e65662f4e9aa67923eab3ec1237_bi00gagu\n",
      "[DEBUG] User Agent: Mozilla/5.0 (Windows NT 10.0; Win64; x64) AppleWebKit/537.36 (KHTML, like Gecko) Chrome/132.0.0.0 Safari/537.36 OPR/117.0.0.\n",
      "[RETRY WRAPPER] (ATTEMPT 6 | timeout 20) - Using driver id: 140256797924880\n",
      "[INFO] NAVIGATING TO (timeout=20): https://www.ozon.ru/context/detail/id/1385890032/\n",
      "[RETRY WRAPPER] (ATTEMPT 6 | timeout 20) - AntiBotException detected: Reload button detected on https://www.ozon.ru/context/detail/id/1385890032/; page requires reloading.. Reinitializing driver.\n",
      "[DEBUG] New driver session id: 4f385a70794bea82d8dbdc908699ad26 using profile: /tmp/chrome_profile_55b932c38dde452fb221283a3c73753a_ppf_wm4z\n",
      "[DEBUG] User Agent: Mozilla/5.0 (Windows NT 10.0; Win64; x64) AppleWebKit/537.36 (KHTML, like Gecko) Chrome/134.0.0.0 Safari/537.36 Trailer/93.3.8652.5\n",
      "[RETRY WRAPPER] (ATTEMPT 7 | timeout 20) - Using driver id: 140256798238416\n",
      "[INFO] NAVIGATING TO (timeout=20): https://www.ozon.ru/context/detail/id/1385890032/\n",
      "[RETRY WRAPPER] (ATTEMPT 9 | timeout 20) - Timeout. Increasing by 2\n",
      "[DEBUG] New driver session id: 196377cbe09cfb68aaf8b45c453bffa3 using profile: /tmp/chrome_profile_f0b88dfb8d994d2881d935b87131d54f_l5fc9ntk\n",
      "[DEBUG] User Agent: Mozilla/5.0 (Windows NT 10.0; Win64; x64) AppleWebKit/537.36 (KHTML, like Gecko) Chrome/70.0.3538.102 Safari/537.36 Edge/18.1958\n",
      "[RETRY WRAPPER] (ATTEMPT 10 | timeout 22) - Using driver id: 140255595181264\n",
      "[INFO] NAVIGATING TO (timeout=22): https://www.ozon.ru/context/detail/id/491271284/\n",
      "[INFO] DESCRIPTION DETECTED (k7y_28)\n"
     ]
    },
    {
     "name": "stderr",
     "output_type": "stream",
     "text": [
      "Processing tasks:   1%|▏         | 36/2852 [20:05<29:48:13, 38.10s/it]"
     ]
    },
    {
     "name": "stdout",
     "output_type": "stream",
     "text": [
      "[1385890032] - DESCRIPTION SUCCESS: Политическая Умная Карта Мира\n",
      "Политическая Умная Карта Мира ...\n",
      "[DEBUG] New driver session id: 88190acf0af2f27c2c62fed47f94dc61 using profile: /tmp/chrome_profile_5f777bd6f8db4000903760a4ced6c11a_252oabdh\n",
      "[DEBUG] User Agent: Mozilla/5.0 (Windows NT 10.0; Win64; x64) AppleWebKit/537.36 (KHTML, like Gecko) Chrome/134.0.0.0 Safari/537.36 Edg/134.0.0.\n",
      "[RETRY WRAPPER] (ATTEMPT 1 | timeout 20) - Using driver id: 140256797932944\n",
      "[INFO] NAVIGATING TO (timeout=20): https://www.ozon.ru/context/detail/id/1729352595/\n",
      "[RETRY WRAPPER] (ATTEMPT 1 | timeout 20) - AntiBotException detected: Reload button detected on https://www.ozon.ru/context/detail/id/1729352595/; page requires reloading.. Reinitializing driver.\n",
      "[DEBUG] New driver session id: ef0f9963af1197a384bdfa2ab041e24f using profile: /tmp/chrome_profile_02e9ae9344764381bddfbeec905d34c8_jjj0lbcj\n",
      "[DEBUG] User Agent: Mozilla/5.0 (Windows NT 10.0; Win64; x64) AppleWebKit/537.36 (KHTML, like Gecko) Chrome/134.0.0.0 Safari/537.3\n",
      "[RETRY WRAPPER] (ATTEMPT 2 | timeout 20) - Using driver id: 140256798234608\n",
      "[INFO] NAVIGATING TO (timeout=20): https://www.ozon.ru/context/detail/id/1729352595/\n",
      "[RETRY WRAPPER] (ATTEMPT 10 | timeout 22) - Timeout. Increasing by 2\n",
      "[DEBUG] New driver session id: 103ab17c1b4126f4b5457fbbad324c23 using profile: /tmp/chrome_profile_336cd518b40f40daa3d45211824c4f53_3fubqlf7\n",
      "[DEBUG] User Agent: Mozilla/5.0 (Windows NT 10.0; Win64; x64) AppleWebKit/537.36 (KHTML, like Gecko) Chrome/132.0.0.0 Safari/537.36 OPR/117.0.0.\n"
     ]
    },
    {
     "name": "stderr",
     "output_type": "stream",
     "text": [
      "Processing tasks:   1%|▏         | 37/2852 [20:26<25:48:14, 33.00s/it]"
     ]
    },
    {
     "name": "stdout",
     "output_type": "stream",
     "text": [
      "[491271284] - ERROR TimeoutException PROCESSING ROW: Message: Max retries reached for https://www.ozon.ru/context/detail/id/491271284/\n",
      "\n",
      "[INFO] DESCRIPTION DETECTED (k7y_28)\n"
     ]
    },
    {
     "name": "stderr",
     "output_type": "stream",
     "text": [
      "Processing tasks:   1%|▏         | 38/2852 [20:26<18:12:04, 23.29s/it]"
     ]
    },
    {
     "name": "stdout",
     "output_type": "stream",
     "text": [
      "[1729352595] - DESCRIPTION SUCCESS: Новая настенная карта \"Страны и народы мира\"открывает детям ...\n",
      "[DEBUG] New driver session id: ce5cd1611832af65c4e10bc325b9f29f using profile: /tmp/chrome_profile_40e0612926c54604ad3077f4a1de5379_v4xj79e0\n",
      "[DEBUG] User Agent: Mozilla/5.0 (Windows NT 10.0; Win64; x64) AppleWebKit/537.36 (KHTML, like Gecko) Chrome/134.0.0.0 Safari/537.36 Edg/134.0.0.\n",
      "\n",
      "[RETRY WRAPPER] (ATTEMPT 1 | timeout 20) - Using driver id: 140255595179920\n",
      "[INFO] NAVIGATING TO (timeout=20): https://www.ozon.ru/context/detail/id/166584091/[DEBUG] New driver session id: 3aa0d3bc9d5aff3e1619516d27c97ea9 using profile: /tmp/chrome_profile_d17273ec393e40119a0dc43994b207e1_gt3asl3_\n",
      "[DEBUG] User Agent: Mozilla/5.0 (Windows NT 10.0; Win64; x64) AppleWebKit/537.36 (KHTML, like Gecko) Chrome/70.0.3538.102 Safari/537.36 Edge/18.1958\n",
      "[RETRY WRAPPER] (ATTEMPT 1 | timeout 20) - Using driver id: 140255619114480\n",
      "[INFO] NAVIGATING TO (timeout=20): https://www.ozon.ru/context/detail/id/166584096/\n",
      "[INFO] DESCRIPTION DETECTED (k7y_28)\n"
     ]
    },
    {
     "name": "stderr",
     "output_type": "stream",
     "text": [
      "Processing tasks:   1%|▏         | 39/2852 [20:44<16:52:56, 21.61s/it]"
     ]
    },
    {
     "name": "stdout",
     "output_type": "stream",
     "text": [
      "[166584096] - DESCRIPTION SUCCESS: Настенная карта \"Мир. Обзорная карта. Физическая с границами...\n",
      "[DEBUG] New driver session id: 0afb9befd5e650e13d17ade3a24699fb using profile: /tmp/chrome_profile_3c0dad60dd7643ac96342467e87f7dff_p6ps2gay\n",
      "[DEBUG] User Agent: Mozilla/5.0 (Windows NT 10.0; Win64; x64) AppleWebKit/537.36 (KHTML, like Gecko) Chrome/132.0.0.0 Safari/537.36 OPR/117.0.0.\n",
      "[RETRY WRAPPER] (ATTEMPT 1 | timeout 20) - Using driver id: 140256798233264\n",
      "[INFO] NAVIGATING TO (timeout=20): https://www.ozon.ru/context/detail/id/1650080585/\n",
      "[INFO] DESCRIPTION DETECTED (k7y_28)\n"
     ]
    },
    {
     "name": "stderr",
     "output_type": "stream",
     "text": [
      "Processing tasks:   1%|▏         | 40/2852 [20:46<12:12:13, 15.62s/it]"
     ]
    },
    {
     "name": "stdout",
     "output_type": "stream",
     "text": [
      "[166584091] - DESCRIPTION SUCCESS: Карта отличается полнотой содержания. Применено совмещение т...\n",
      "[DEBUG] New driver session id: ec6f221985610d74b24721f297644c4f using profile: /tmp/chrome_profile_51048fb773784363a5682b3b074bf262_u9yk0yqj\n",
      "[DEBUG] User Agent: Mozilla/5.0 (Windows NT 10.0; Win64; x64) AppleWebKit/537.36 (KHTML, like Gecko) Chrome/134.0.0.0 Safari/537.3\n",
      "[RETRY WRAPPER] (ATTEMPT 1 | timeout 20) - Using driver id: 140255595168720\n",
      "[INFO] NAVIGATING TO (timeout=20): https://www.ozon.ru/context/detail/id/1861390097/\n",
      "[INFO] DESCRIPTION DETECTED (k7y_28)\n"
     ]
    },
    {
     "name": "stderr",
     "output_type": "stream",
     "text": [
      "Processing tasks:   1%|▏         | 41/2852 [21:03<12:38:41, 16.19s/it]"
     ]
    },
    {
     "name": "stdout",
     "output_type": "stream",
     "text": [
      "[INFO] DESCRIPTION DETECTED (k7y_28)\n"
     ]
    },
    {
     "name": "stderr",
     "output_type": "stream",
     "text": [
      "Processing tasks:   1%|▏         | 42/2852 [21:03<8:53:35, 11.39s/it] "
     ]
    },
    {
     "name": "stdout",
     "output_type": "stream",
     "text": [
      "[1861390097] - DESCRIPTION SUCCESS: Сборник учебных топографических карт для выполнения практиче...\n",
      "[1650080585] - DESCRIPTION SUCCESS: Учебное пособие необходимое для знакомства с военной топогра...\n",
      "[DEBUG] New driver session id: be9150eb4a67b6db00fea61a4cdb5337 using profile: /tmp/chrome_profile_eac64feed49e4de792eeb32c805e8499_l7hzzx2s\n",
      "[DEBUG] User Agent: Mozilla/5.0 (Windows NT 10.0; Win64; x64) AppleWebKit/537.36 (KHTML, like Gecko) Chrome/134.0.0.0 Safari/537.36 Trailer/93.3.8652.5\n",
      "[RETRY WRAPPER] (ATTEMPT 1 | timeout 20) - Using driver id: 140255594745872\n",
      "[INFO] NAVIGATING TO (timeout=20): https://www.ozon.ru/context/detail/id/1758403630/\n",
      "[DEBUG] New driver session id: 679cf3f4234a1e714f05355a0c303d31 using profile: /tmp/chrome_profile_7ccfc45b19784f27a8e40f5692aa041c_yd0x88kq\n",
      "[DEBUG] User Agent: Mozilla/5.0 (Windows NT 10.0; Win64; x64) AppleWebKit/537.36 (KHTML, like Gecko) Chrome/134.0.0.0 Safari/537.36 Trailer/93.3.8652.5\n",
      "[RETRY WRAPPER] (ATTEMPT 1 | timeout 20) - Using driver id: 140256793522288\n",
      "[INFO] NAVIGATING TO (timeout=20): https://www.ozon.ru/context/detail/id/217476233/\n",
      "[INFO] DESCRIPTION EMPTY (s0k_28)\n"
     ]
    },
    {
     "name": "stderr",
     "output_type": "stream",
     "text": [
      "Processing tasks:   2%|▏         | 43/2852 [21:20<10:07:42, 12.98s/it]"
     ]
    },
    {
     "name": "stdout",
     "output_type": "stream",
     "text": [
      "[1758403630] - DESCRIPTION OMITTED (OOS)\n",
      "[DEBUG] New driver session id: 61b6438407adf446723d1b59cd5e91dd using profile: /tmp/chrome_profile_4a254ffd72e94857a04a3ed17ef86d0f_ajzn_vmu\n",
      "[DEBUG] User Agent: Mozilla/5.0 (Windows NT 10.0; Win64; x64) AppleWebKit/537.36 (KHTML, like Gecko) Chrome/134.0.0.0 Safari/537.36 Trailer/93.3.8652.5\n",
      "[RETRY WRAPPER] (ATTEMPT 1 | timeout 20) - Using driver id: 140255585045648\n",
      "[INFO] NAVIGATING TO (timeout=20): https://www.ozon.ru/context/detail/id/1858117509/\n",
      "[RETRY WRAPPER] (ATTEMPT 1 | timeout 20) - AntiBotException detected: Reload button detected on https://www.ozon.ru/context/detail/id/1858117509/; page requires reloading.. Reinitializing driver.\n",
      "[DEBUG] New driver session id: 0fde5eb28cad3a06b077660948bd6f31 using profile: /tmp/chrome_profile_235833ad80b74ca1ab22e785c0ef8b9c_q5p2ijtp\n",
      "[DEBUG] User Agent: Mozilla/5.0 (Windows NT 10.0; Win64; x64) AppleWebKit/537.36 (KHTML, like Gecko) Chrome/132.0.0.0 Safari/537.36 OPR/117.0.0.\n",
      "[RETRY WRAPPER] (ATTEMPT 1 | timeout 20) - Timeout. Increasing by 2\n",
      "[RETRY WRAPPER] (ATTEMPT 2 | timeout 20) - Using driver id: 140255585057072\n",
      "[INFO] NAVIGATING TO (timeout=20): https://www.ozon.ru/context/detail/id/1858117509/\n",
      "[DEBUG] New driver session id: b8a0c8feb5da89666c764cab15b008ef using profile: /tmp/chrome_profile_7b39bdeb416947d697d4afde724b939a_h6f1rlq5\n",
      "[DEBUG] User Agent: Mozilla/5.0 (Windows NT 10.0; Win64; x64) AppleWebKit/537.36 (KHTML, like Gecko) Chrome/132.0.0.0 Safari/537.36 OPR/117.0.0.\n",
      "[RETRY WRAPPER] (ATTEMPT 2 | timeout 22) - Using driver id: 140255594646000\n",
      "[INFO] NAVIGATING TO (timeout=22): https://www.ozon.ru/context/detail/id/217476233/\n",
      "[RETRY WRAPPER] (ATTEMPT 2 | timeout 20) - AntiBotException detected: Reload button detected on https://www.ozon.ru/context/detail/id/1858117509/; page requires reloading.. Reinitializing driver.\n",
      "[DEBUG] New driver session id: a3055f60fef454bdb7fcc965fce4c044 using profile: /tmp/chrome_profile_52b82622765d4deb921344687e570ea9_pf5_oa74\n",
      "[DEBUG] User Agent: Mozilla/5.0 (Windows NT 10.0; Win64; x64) AppleWebKit/537.36 (KHTML, like Gecko) Chrome/134.0.0.0 Safari/537.3\n",
      "[RETRY WRAPPER] (ATTEMPT 3 | timeout 20) - Using driver id: 140255595172752\n",
      "[INFO] NAVIGATING TO (timeout=20): https://www.ozon.ru/context/detail/id/1858117509/\n",
      "[RETRY WRAPPER] (ATTEMPT 2 | timeout 22) - AntiBotException detected: Reload button detected on https://www.ozon.ru/context/detail/id/217476233/; page requires reloading.. Reinitializing driver.\n",
      "[DEBUG] New driver session id: 4a3120d259d98907335f95a9ddec3bbc using profile: /tmp/chrome_profile_708dbcdaa2a049bfa6f0abc5a9130382_4hprq0se\n",
      "[DEBUG] User Agent: Mozilla/5.0 (Windows NT 10.0; Win64; x64) AppleWebKit/537.36 (KHTML, like Gecko) Chrome/134.0.0.0 Safari/537.36 Trailer/93.3.8652.5\n",
      "[RETRY WRAPPER] (ATTEMPT 3 | timeout 20) - Using driver id: 140256795260784\n",
      "[INFO] NAVIGATING TO (timeout=20): https://www.ozon.ru/context/detail/id/217476233/\n",
      "[RETRY WRAPPER] (ATTEMPT 3 | timeout 20) - AntiBotException detected: Reload button detected on https://www.ozon.ru/context/detail/id/217476233/; page requires reloading.. Reinitializing driver.\n",
      "[DEBUG] New driver session id: dd0b8c8079216f4ad9ae92e49bf7c00e using profile: /tmp/chrome_profile_e85fe2e6f63f4220aafef3ec85e65500_i5_d4lg0\n",
      "[DEBUG] User Agent: Mozilla/5.0 (Windows NT 10.0; Win64; x64) AppleWebKit/537.36 (KHTML, like Gecko) Chrome/134.0.0.0 Safari/537.36 Edg/134.0.0.\n",
      "[RETRY WRAPPER] (ATTEMPT 4 | timeout 20) - Using driver id: 140256797921968\n",
      "[INFO] NAVIGATING TO (timeout=20): https://www.ozon.ru/context/detail/id/217476233/\n",
      "[RETRY WRAPPER] (ATTEMPT 4 | timeout 20) - AntiBotException detected: Reload button detected on https://www.ozon.ru/context/detail/id/217476233/; page requires reloading.. Reinitializing driver.\n",
      "[DEBUG] New driver session id: 46c0852e87382a3e6f8ba1089127c985 using profile: /tmp/chrome_profile_ee8816180eeb4f59b697b4432f0e2aaa_3pcyqiip\n",
      "[DEBUG] User Agent: Mozilla/5.0 (Windows NT 10.0; Win64; x64) AppleWebKit/537.36 (KHTML, like Gecko) Chrome/70.0.3538.102 Safari/537.36 Edge/18.1958\n",
      "[RETRY WRAPPER] (ATTEMPT 5 | timeout 20) - Using driver id: 140255594649136\n",
      "[INFO] NAVIGATING TO (timeout=20): https://www.ozon.ru/context/detail/id/217476233/\n",
      "[RETRY WRAPPER] (ATTEMPT 3 | timeout 20) - Timeout. Increasing by 2\n",
      "[DEBUG] New driver session id: 14440db2d6f06f700c5e5e396a8a74b6 using profile: /tmp/chrome_profile_59bb82ea97c64f18a6a6d4da2f42a1f9_p7nk0c6g\n",
      "[DEBUG] User Agent: Mozilla/5.0 (Windows NT 10.0; Win64; x64) AppleWebKit/537.36 (KHTML, like Gecko) Chrome/134.0.0.0 Safari/537.36 Edg/134.0.0.\n",
      "[RETRY WRAPPER] (ATTEMPT 4 | timeout 22) - Using driver id: 140255619116496\n",
      "[INFO] NAVIGATING TO (timeout=22): https://www.ozon.ru/context/detail/id/1858117509/\n",
      "[RETRY WRAPPER] (ATTEMPT 4 | timeout 22) - AntiBotException detected: Reload button detected on https://www.ozon.ru/context/detail/id/1858117509/; page requires reloading.. Reinitializing driver.\n",
      "[DEBUG] New driver session id: 7cd83b379d73767634cafa7aa1882c0b using profile: /tmp/chrome_profile_c19a8fede22f4f4cb2b48354c445b563_t6c53_86\n",
      "[DEBUG] User Agent: Mozilla/5.0 (Windows NT 10.0; Win64; x64) AppleWebKit/537.36 (KHTML, like Gecko) Chrome/132.0.0.0 Safari/537.36 OPR/117.0.0.\n",
      "[RETRY WRAPPER] (ATTEMPT 5 | timeout 20) - Using driver id: 140255469898000\n",
      "[INFO] NAVIGATING TO (timeout=20): https://www.ozon.ru/context/detail/id/1858117509/\n",
      "[RETRY WRAPPER] (ATTEMPT 5 | timeout 20) - AntiBotException detected: Reload button detected on https://www.ozon.ru/context/detail/id/1858117509/; page requires reloading.. Reinitializing driver.\n",
      "[DEBUG] New driver session id: f695e7459a10c84c37cf008bb491dde3 using profile: /tmp/chrome_profile_3f278c090cca40b5af07ad18b5304ee4_qjdyye78\n",
      "[DEBUG] User Agent: Mozilla/5.0 (Windows NT 10.0; Win64; x64) AppleWebKit/537.36 (KHTML, like Gecko) Chrome/134.0.0.0 Safari/537.36 Trailer/93.3.8652.5\n",
      "[RETRY WRAPPER] (ATTEMPT 5 | timeout 20) - Timeout. Increasing by 2\n",
      "[RETRY WRAPPER] (ATTEMPT 6 | timeout 20) - Using driver id: 140255595181712\n",
      "[INFO] NAVIGATING TO (timeout=20): https://www.ozon.ru/context/detail/id/1858117509/\n",
      "[DEBUG] New driver session id: b292c1e3aa371bd5b88a561a96147c17 using profile: /tmp/chrome_profile_c6e6892c6c5c4b17b74ff273bf82595e_ioqgh1hp\n",
      "[DEBUG] User Agent: Mozilla/5.0 (Windows NT 10.0; Win64; x64) AppleWebKit/537.36 (KHTML, like Gecko) Chrome/70.0.3538.102 Safari/537.36 Edge/18.1958\n",
      "[RETRY WRAPPER] (ATTEMPT 6 | timeout 22) - Using driver id: 140256797928912\n",
      "[INFO] NAVIGATING TO (timeout=22): https://www.ozon.ru/context/detail/id/217476233/\n",
      "[INFO] DESCRIPTION DETECTED (k7y_28)\n"
     ]
    },
    {
     "name": "stderr",
     "output_type": "stream",
     "text": [
      "Processing tasks:   2%|▏         | 44/2852 [22:28<22:56:47, 29.42s/it]"
     ]
    },
    {
     "name": "stdout",
     "output_type": "stream",
     "text": [
      "[1858117509] - DESCRIPTION SUCCESS: Шикарная тканевая карта вселенной Вархаммер 40000.\n",
      "\n",
      "Размер 1...\n",
      "[DEBUG] New driver session id: 1e395c6466ed81c0ffac691374d93586 using profile: /tmp/chrome_profile_dcd70f11ff934e218059761f021fdb11_4uwbarvs\n",
      "[DEBUG] User Agent: Mozilla/5.0 (Windows NT 10.0; Win64; x64) AppleWebKit/537.36 (KHTML, like Gecko) Chrome/134.0.0.0 Safari/537.3\n",
      "[RETRY WRAPPER] (ATTEMPT 1 | timeout 20) - Using driver id: 140255595174768\n",
      "[INFO] NAVIGATING TO (timeout=20): https://www.ozon.ru/context/detail/id/268682134/\n",
      "[RETRY WRAPPER] (ATTEMPT 6 | timeout 22) - Timeout. Increasing by 2\n",
      "[DEBUG] New driver session id: 8d11931eb5b6fba7d18a72e327096072 using profile: /tmp/chrome_profile_05789b462afe4e12b88885a29fda4076__ym9d10y\n",
      "[DEBUG] User Agent: Mozilla/5.0 (Windows NT 10.0; Win64; x64) AppleWebKit/537.36 (KHTML, like Gecko) Chrome/134.0.0.0 Safari/537.36 Edg/134.0.0.\n",
      "[RETRY WRAPPER] (ATTEMPT 7 | timeout 24) - Using driver id: 140255595519056\n",
      "[INFO] NAVIGATING TO (timeout=24): https://www.ozon.ru/context/detail/id/217476233/\n",
      "[RETRY WRAPPER] (ATTEMPT 7 | timeout 24) - AntiBotException detected: Reload button detected on https://www.ozon.ru/context/detail/id/217476233/; page requires reloading.. Reinitializing driver.\n",
      "[DEBUG] New driver session id: e6f6aebe6fbc1c6c3411150a2d0dfb58 using profile: /tmp/chrome_profile_fd780c0d40494b60b9d13d57bc581433_6la1x2ij\n",
      "[DEBUG] User Agent: Mozilla/5.0 (Windows NT 10.0; Win64; x64) AppleWebKit/537.36 (KHTML, like Gecko) Chrome/134.0.0.0 Safari/537.3\n",
      "[RETRY WRAPPER] (ATTEMPT 8 | timeout 20) - Using driver id: 140256800230768\n",
      "[INFO] NAVIGATING TO (timeout=20): https://www.ozon.ru/context/detail/id/217476233/\n",
      "[RETRY WRAPPER] (ATTEMPT 8 | timeout 20) - AntiBotException detected: Reload button detected on https://www.ozon.ru/context/detail/id/217476233/; page requires reloading.. Reinitializing driver.\n",
      "[DEBUG] New driver session id: 7d4c1b79cc349964c199ff0c6ef3e5b9 using profile: /tmp/chrome_profile_57b1f854b65e4ee89fd46b8edc93189f_kmsr25xx\n",
      "[DEBUG] User Agent: Mozilla/5.0 (Windows NT 10.0; Win64; x64) AppleWebKit/537.36 (KHTML, like Gecko) Chrome/134.0.0.0 Safari/537.3\n",
      "[INFO] DESCRIPTION DETECTED (k7y_28)\n"
     ]
    },
    {
     "name": "stderr",
     "output_type": "stream",
     "text": [
      "Processing tasks:   2%|▏         | 45/2852 [22:48<20:44:20, 26.60s/it]"
     ]
    },
    {
     "name": "stdout",
     "output_type": "stream",
     "text": [
      "[268682134] - DESCRIPTION SUCCESS: Откройте для себя мир с интерактивной картой мира BRAUBERG. ...\n",
      "[RETRY WRAPPER] (ATTEMPT 9 | timeout 20) - Using driver id: 140256800230992\n",
      "[INFO] NAVIGATING TO (timeout=20): https://www.ozon.ru/context/detail/id/217476233/\n",
      "[DEBUG] New driver session id: a9bcd542de0020614f6927ecac9de823 using profile: /tmp/chrome_profile_52cfb00fc43e48d58f8c78152a56f88d_0tj2zt4k\n",
      "[DEBUG] User Agent: Mozilla/5.0 (Windows NT 10.0; Win64; x64) AppleWebKit/537.36 (KHTML, like Gecko) Chrome/70.0.3538.102 Safari/537.36 Edge/18.1958\n",
      "[RETRY WRAPPER] (ATTEMPT 1 | timeout 20) - Using driver id: 140255452169168\n",
      "[INFO] NAVIGATING TO (timeout=20): https://www.ozon.ru/context/detail/id/1043438100/\n",
      "[INFO] DESCRIPTION EMPTY (s0k_28)\n"
     ]
    },
    {
     "name": "stderr",
     "output_type": "stream",
     "text": [
      "Processing tasks:   2%|▏         | 46/2852 [23:03<18:03:46, 23.17s/it]"
     ]
    },
    {
     "name": "stdout",
     "output_type": "stream",
     "text": [
      "[1043438100] - DESCRIPTION OMITTED (OOS)\n",
      "[DEBUG] New driver session id: 8fb8e89073e177939bee45c1d5605686 using profile: /tmp/chrome_profile_c7267a9a8999460390107037155d5b63_cda9iizx\n",
      "[DEBUG] User Agent: Mozilla/5.0 (Windows NT 10.0; Win64; x64) AppleWebKit/537.36 (KHTML, like Gecko) Chrome/134.0.0.0 Safari/537.3\n",
      "[RETRY WRAPPER] (ATTEMPT 1 | timeout 20) - Using driver id: 140255452180816\n",
      "[INFO] NAVIGATING TO (timeout=20): https://www.ozon.ru/context/detail/id/922230183/\n",
      "[RETRY WRAPPER] (ATTEMPT 9 | timeout 20) - Timeout. Increasing by 2\n"
     ]
    },
    {
     "name": "stderr",
     "output_type": "stream",
     "text": [
      "Exception in thread Http2SingleStreamLayer-15:\n",
      "Traceback (most recent call last):\n",
      "  File \u001b[35m\"/home/anton/micromamba/envs/clip-siamese/lib/python3.13/threading.py\"\u001b[0m, line \u001b[35m1041\u001b[0m, in \u001b[35m_bootstrap_inner\u001b[0m\n",
      "    \u001b[31mself.run\u001b[0m\u001b[1;31m()\u001b[0m\n",
      "    \u001b[31m~~~~~~~~\u001b[0m\u001b[1;31m^^\u001b[0m\n",
      "  File \u001b[35m\"/home/anton/micromamba/envs/clip-siamese/lib/python3.13/site-packages/seleniumwire/thirdparty/mitmproxy/server/protocol/http2.py\"\u001b[0m, line \u001b[35m719\u001b[0m, in \u001b[35mrun\u001b[0m\n",
      "    \u001b[31mlayer\u001b[0m\u001b[1;31m()\u001b[0m\n",
      "    \u001b[31m~~~~~\u001b[0m\u001b[1;31m^^\u001b[0m\n",
      "  File \u001b[35m\"/home/anton/micromamba/envs/clip-siamese/lib/python3.13/site-packages/seleniumwire/thirdparty/mitmproxy/server/protocol/http.py\"\u001b[0m, line \u001b[35m206\u001b[0m, in \u001b[35m__call__\u001b[0m\n",
      "    if not \u001b[31mself._process_flow\u001b[0m\u001b[1;31m(flow)\u001b[0m:\n",
      "           \u001b[31m~~~~~~~~~~~~~~~~~~\u001b[0m\u001b[1;31m^^^^^^\u001b[0m\n",
      "  File \u001b[35m\"/home/anton/micromamba/envs/clip-siamese/lib/python3.13/site-packages/seleniumwire/thirdparty/mitmproxy/server/protocol/http.py\"\u001b[0m, line \u001b[35m388\u001b[0m, in \u001b[35m_process_flow\u001b[0m\n",
      "    \u001b[31mget_response\u001b[0m\u001b[1;31m()\u001b[0m\n",
      "    \u001b[31m~~~~~~~~~~~~\u001b[0m\u001b[1;31m^^\u001b[0m\n",
      "  File \u001b[35m\"/home/anton/micromamba/envs/clip-siamese/lib/python3.13/site-packages/seleniumwire/thirdparty/mitmproxy/server/protocol/http.py\"\u001b[0m, line \u001b[35m373\u001b[0m, in \u001b[35mget_response\u001b[0m\n",
      "    \u001b[31mself.send_request_headers\u001b[0m\u001b[1;31m(f.request)\u001b[0m\n",
      "    \u001b[31m~~~~~~~~~~~~~~~~~~~~~~~~~\u001b[0m\u001b[1;31m^^^^^^^^^^^\u001b[0m\n",
      "  File \u001b[35m\"/home/anton/micromamba/envs/clip-siamese/lib/python3.13/site-packages/seleniumwire/thirdparty/mitmproxy/server/protocol/http2.py\"\u001b[0m, line \u001b[35m389\u001b[0m, in \u001b[35mwrapper\u001b[0m\n",
      "    result = func(self, *args, **kwargs)\n",
      "  File \u001b[35m\"/home/anton/micromamba/envs/clip-siamese/lib/python3.13/site-packages/seleniumwire/thirdparty/mitmproxy/server/protocol/http2.py\"\u001b[0m, line \u001b[35m562\u001b[0m, in \u001b[35msend_request_headers\u001b[0m\n",
      "    max_streams = \u001b[31mself.connections\u001b[0m\u001b[1;31m[self.server_conn]\u001b[0m.remote_settings.max_concurrent_streams\n",
      "                  \u001b[31m~~~~~~~~~~~~~~~~\u001b[0m\u001b[1;31m^^^^^^^^^^^^^^^^^^\u001b[0m\n",
      "\u001b[1;35mKeyError\u001b[0m: \u001b[35m<ServerConnection: xapi.ozon.ru:443>\u001b[0m\n"
     ]
    },
    {
     "name": "stdout",
     "output_type": "stream",
     "text": [
      "[DEBUG] New driver session id: b03f8b6e7eb39fb7cf93fae9ece7f3bb using profile: /tmp/chrome_profile_f4181eb9bed04783b57baae66bf24840_uk4p6ig2\n",
      "[DEBUG] User Agent: Mozilla/5.0 (Windows NT 10.0; Win64; x64) AppleWebKit/537.36 (KHTML, like Gecko) Chrome/70.0.3538.102 Safari/537.36 Edge/18.1958\n",
      "[RETRY WRAPPER] (ATTEMPT 10 | timeout 22) - Using driver id: 140256797929136\n",
      "[INFO] NAVIGATING TO (timeout=22): https://www.ozon.ru/context/detail/id/217476233/\n",
      "[RETRY WRAPPER] (ATTEMPT 1 | timeout 20) - Timeout. Increasing by 2\n",
      "[DEBUG] New driver session id: 5b9124d5a08e1ee86f4ae473ad725127 using profile: /tmp/chrome_profile_e1d08564e2dd4e32b25d5285a5f47a11_zx4ohjta\n",
      "[DEBUG] User Agent: Mozilla/5.0 (Windows NT 10.0; Win64; x64) AppleWebKit/537.36 (KHTML, like Gecko) Chrome/70.0.3538.102 Safari/537.36 Edge/18.1958\n",
      "[RETRY WRAPPER] (ATTEMPT 2 | timeout 22) - Using driver id: 140256799244592\n",
      "[INFO] NAVIGATING TO (timeout=22): https://www.ozon.ru/context/detail/id/922230183/\n",
      "[RETRY WRAPPER] (ATTEMPT 2 | timeout 22) - AntiBotException detected: Reload button detected on https://www.ozon.ru/context/detail/id/922230183/; page requires reloading.. Reinitializing driver.\n",
      "[DEBUG] New driver session id: 4ece82073f4cb65854b8bbede4253809 using profile: /tmp/chrome_profile_04473ff8dd4a450caf02a69dcd3c6adb_sz27zkct\n",
      "[DEBUG] User Agent: Mozilla/5.0 (Windows NT 10.0; Win64; x64) AppleWebKit/537.36 (KHTML, like Gecko) Chrome/132.0.0.0 Safari/537.36 OPR/117.0.0.\n",
      "[RETRY WRAPPER] (ATTEMPT 3 | timeout 20) - Using driver id: 140256799251536\n",
      "[INFO] NAVIGATING TO (timeout=20): https://www.ozon.ru/context/detail/id/922230183/\n",
      "[RETRY WRAPPER] (ATTEMPT 10 | timeout 22) - Timeout. Increasing by 2\n",
      "[DEBUG] New driver session id: 71bc768b4b22effbce5346bec4efbb9a using profile: /tmp/chrome_profile_80ebe33356464db49e79f740f32afafa_o0s8eevc\n",
      "[DEBUG] User Agent: Mozilla/5.0 (Windows NT 10.0; Win64; x64) AppleWebKit/537.36 (KHTML, like Gecko) Chrome/134.0.0.0 Safari/537.36 Trailer/93.3.8652.5\n"
     ]
    },
    {
     "name": "stderr",
     "output_type": "stream",
     "text": [
      "Processing tasks:   2%|▏         | 47/2852 [23:38<20:52:18, 26.79s/it]"
     ]
    },
    {
     "name": "stdout",
     "output_type": "stream",
     "text": [
      "[217476233] - ERROR TimeoutException PROCESSING ROW: Message: Max retries reached for https://www.ozon.ru/context/detail/id/217476233/\n",
      "\n",
      "[DEBUG] New driver session id: 29895379bac6757641a69c2bd886fee1 using profile: /tmp/chrome_profile_caa148d6ace14fad86ba922511ea732f_4ojyeaol\n",
      "[DEBUG] User Agent: Mozilla/5.0 (Windows NT 10.0; Win64; x64) AppleWebKit/537.36 (KHTML, like Gecko) Chrome/70.0.3538.102 Safari/537.36 Edge/18.1958\n",
      "[RETRY WRAPPER] (ATTEMPT 1 | timeout 20) - Using driver id: 140255595517712\n",
      "[INFO] NAVIGATING TO (timeout=20): https://www.ozon.ru/context/detail/id/1289030979/\n",
      "[RETRY WRAPPER] (ATTEMPT 3 | timeout 20) - AntiBotException detected: Reload button detected on https://www.ozon.ru/context/detail/id/922230183/; page requires reloading.. Reinitializing driver.\n",
      "[DEBUG] New driver session id: 52adc4ac77e9746dae9dc4d4077beaf7 using profile: /tmp/chrome_profile_4f5dbf0a87d64ff0a781c86fe3fd2d32_hpbtmoz7\n",
      "[DEBUG] User Agent: Mozilla/5.0 (Windows NT 10.0; Win64; x64) AppleWebKit/537.36 (KHTML, like Gecko) Chrome/70.0.3538.102 Safari/537.36 Edge/18.1958\n",
      "[RETRY WRAPPER] (ATTEMPT 1 | timeout 20) - AntiBotException detected: Reload button detected on https://www.ozon.ru/context/detail/id/1289030979/; page requires reloading.. Reinitializing driver.\n",
      "[RETRY WRAPPER] (ATTEMPT 4 | timeout 20) - Using driver id: 140256799255792\n",
      "[INFO] NAVIGATING TO (timeout=20): https://www.ozon.ru/context/detail/id/922230183/\n",
      "[DEBUG] New driver session id: 2cb2f578bc4a5b7a0d513d44045b1652 using profile: /tmp/chrome_profile_21b10cdaae264e0f8fb0733acc87ce85_lh8qclxb\n",
      "[DEBUG] User Agent: Mozilla/5.0 (Windows NT 10.0; Win64; x64) AppleWebKit/537.36 (KHTML, like Gecko) Chrome/134.0.0.0 Safari/537.3\n",
      "[RETRY WRAPPER] (ATTEMPT 2 | timeout 20) - Using driver id: 140256793518704\n",
      "[INFO] NAVIGATING TO (timeout=20): https://www.ozon.ru/context/detail/id/1289030979/\n",
      "[RETRY WRAPPER] (ATTEMPT 4 | timeout 20) - AntiBotException detected: Reload button detected on https://www.ozon.ru/context/detail/id/922230183/; page requires reloading.. Reinitializing driver.\n",
      "[DEBUG] New driver session id: 4108eca5aee7a1d642bffee963641597 using profile: /tmp/chrome_profile_14d000cee4a14aa1b7d7d80e3e4b0f2e_3srlvv_2\n",
      "[DEBUG] User Agent: Mozilla/5.0 (Windows NT 10.0; Win64; x64) AppleWebKit/537.36 (KHTML, like Gecko) Chrome/134.0.0.0 Safari/537.36 Trailer/93.3.8652.5\n",
      "[RETRY WRAPPER] (ATTEMPT 5 | timeout 20) - Using driver id: 140255452029104\n",
      "[INFO] NAVIGATING TO (timeout=20): https://www.ozon.ru/context/detail/id/922230183/\n",
      "[INFO] DESCRIPTION DETECTED (k7y_28)\n"
     ]
    },
    {
     "name": "stderr",
     "output_type": "stream",
     "text": [
      "Processing tasks:   2%|▏         | 48/2852 [24:04<20:38:00, 26.49s/it]"
     ]
    },
    {
     "name": "stdout",
     "output_type": "stream",
     "text": [
      "[1289030979] - DESCRIPTION SUCCESS: Учебное пособие необходимое для знакомства с военной топогра...\n",
      "[DEBUG] New driver session id: e80af65cfbf94de7eb50efd6f6429b97 using profile: /tmp/chrome_profile_b683c1bbec8b4b22b603355fe44ce901_28_nkn7c\n",
      "[DEBUG] User Agent: Mozilla/5.0 (Windows NT 10.0; Win64; x64) AppleWebKit/537.36 (KHTML, like Gecko) Chrome/134.0.0.0 Safari/537.36 Edg/134.0.0.\n",
      "[RETRY WRAPPER] (ATTEMPT 1 | timeout 20) - Using driver id: 140255595521968\n",
      "[INFO] NAVIGATING TO (timeout=20): https://www.ozon.ru/context/detail/id/166584098/\n",
      "[RETRY WRAPPER] (ATTEMPT 1 | timeout 20) - AntiBotException detected: Reload button detected on https://www.ozon.ru/context/detail/id/166584098/; page requires reloading.. Reinitializing driver.\n",
      "[DEBUG] New driver session id: 7478d854eaecc91100984c44decaecd0 using profile: /tmp/chrome_profile_448e96c8edc741e0b066a8c2eccc1f5d_9geiqhii\n",
      "[DEBUG] User Agent: Mozilla/5.0 (Windows NT 10.0; Win64; x64) AppleWebKit/537.36 (KHTML, like Gecko) Chrome/134.0.0.0 Safari/537.36 Edg/134.0.0.\n",
      "[RETRY WRAPPER] (ATTEMPT 2 | timeout 20) - Using driver id: 140255595524880\n",
      "[INFO] NAVIGATING TO (timeout=20): https://www.ozon.ru/context/detail/id/166584098/\n",
      "[RETRY WRAPPER] (ATTEMPT 5 | timeout 20) - Timeout. Increasing by 2\n",
      "[DEBUG] New driver session id: 701881c55a23162faf7007a93b0bb630 using profile: /tmp/chrome_profile_0a71fdd363c84721903961206ea450f9_n7b5_xew\n",
      "[DEBUG] User Agent: Mozilla/5.0 (Windows NT 10.0; Win64; x64) AppleWebKit/537.36 (KHTML, like Gecko) Chrome/132.0.0.0 Safari/537.36 OPR/117.0.0.\n",
      "[RETRY WRAPPER] (ATTEMPT 6 | timeout 22) - Using driver id: 140255585043856\n",
      "[INFO] NAVIGATING TO (timeout=22): https://www.ozon.ru/context/detail/id/922230183/\n",
      "[RETRY WRAPPER] (ATTEMPT 2 | timeout 20) - AntiBotException detected: Reload button detected on https://www.ozon.ru/context/detail/id/166584098/; page requires reloading.. Reinitializing driver.\n",
      "[DEBUG] New driver session id: e716c6971c4a8314c8236ea014f178dc using profile: /tmp/chrome_profile_0be8be3ae31245578b50b597527c3cc7_a4nicyk1\n",
      "[DEBUG] User Agent: Mozilla/5.0 (Windows NT 10.0; Win64; x64) AppleWebKit/537.36 (KHTML, like Gecko) Chrome/134.0.0.0 Safari/537.3\n",
      "[RETRY WRAPPER] (ATTEMPT 3 | timeout 20) - Using driver id: 140256794492080\n",
      "[INFO] NAVIGATING TO (timeout=20): https://www.ozon.ru/context/detail/id/166584098/\n",
      "[RETRY WRAPPER] (ATTEMPT 3 | timeout 20) - AntiBotException detected: Reload button detected on https://www.ozon.ru/context/detail/id/166584098/; page requires reloading.. Reinitializing driver.\n",
      "[RETRY WRAPPER] (ATTEMPT 6 | timeout 22) - AntiBotException detected: Reload button detected on https://www.ozon.ru/context/detail/id/922230183/; page requires reloading.. Reinitializing driver.\n",
      "[DEBUG] New driver session id: c782f132b897202406b9f76c9172a907 using profile: /tmp/chrome_profile_692169e7bd0247d7b28acbeaec6973e3_do6g3kzf\n",
      "[DEBUG] User Agent: Mozilla/5.0 (Windows NT 10.0; Win64; x64) AppleWebKit/537.36 (KHTML, like Gecko) Chrome/134.0.0.0 Safari/537.3\n",
      "[DEBUG] New driver session id: dfc38e372afd2dd7c0210befb5ddf18c using profile: /tmp/chrome_profile_f248536a43104620bda0555fd48043c3_iiguajwz\n",
      "[DEBUG] User Agent: Mozilla/5.0 (Windows NT 10.0; Win64; x64) AppleWebKit/537.36 (KHTML, like Gecko) Chrome/134.0.0.0 Safari/537.36 Edg/134.0.0.\n",
      "[RETRY WRAPPER] (ATTEMPT 4 | timeout 20) - Using driver id: 140256793525424\n",
      "[INFO] NAVIGATING TO (timeout=20): https://www.ozon.ru/context/detail/id/166584098/\n",
      "[RETRY WRAPPER] (ATTEMPT 7 | timeout 20) - Using driver id: 140255585053488\n",
      "[INFO] NAVIGATING TO (timeout=20): https://www.ozon.ru/context/detail/id/922230183/\n",
      "[INFO] DESCRIPTION EMPTY (s0k_28)\n"
     ]
    },
    {
     "name": "stderr",
     "output_type": "stream",
     "text": [
      "Processing tasks:   2%|▏         | 49/2852 [24:37<22:06:59, 28.41s/it]"
     ]
    },
    {
     "name": "stdout",
     "output_type": "stream",
     "text": [
      "[166584098] - DESCRIPTION OMITTED (OOS)\n",
      "[DEBUG] New driver session id: 19a0c61ce6e4886c948be0172c6b69bd using profile: /tmp/chrome_profile_aa2c068c2ee44375917d0384889cf1cd_gewhek_c\n",
      "[DEBUG] User Agent: Mozilla/5.0 (Windows NT 10.0; Win64; x64) AppleWebKit/537.36 (KHTML, like Gecko) Chrome/132.0.0.0 Safari/537.36 OPR/117.0.0.\n",
      "[RETRY WRAPPER] (ATTEMPT 1 | timeout 20) - Using driver id: 140256800243088\n",
      "[INFO] NAVIGATING TO (timeout=20): https://www.ozon.ru/context/detail/id/864566278/\n",
      "[RETRY WRAPPER] (ATTEMPT 7 | timeout 20) - Timeout. Increasing by 2\n",
      "[DEBUG] New driver session id: 5fe068486f6b791b3f2c5e40ca8d08b0 using profile: /tmp/chrome_profile_76e2095e11e34e58a7f03ace6320c80d_uat248qh\n",
      "[DEBUG] User Agent: Mozilla/5.0 (Windows NT 10.0; Win64; x64) AppleWebKit/537.36 (KHTML, like Gecko) Chrome/70.0.3538.102 Safari/537.36 Edge/18.1958\n",
      "[RETRY WRAPPER] (ATTEMPT 8 | timeout 22) - Using driver id: 140256799256016\n",
      "[INFO] NAVIGATING TO (timeout=22): https://www.ozon.ru/context/detail/id/922230183/\n",
      "[RETRY WRAPPER] (ATTEMPT 8 | timeout 22) - AntiBotException detected: Reload button detected on https://www.ozon.ru/context/detail/id/922230183/; page requires reloading.. Reinitializing driver.\n",
      "[DEBUG] New driver session id: 7847848651b776b3b6c088c499a4852c using profile: /tmp/chrome_profile_0819d69928f7435da8edab7dec30fb08_v4e5z3z6\n",
      "[DEBUG] User Agent: Mozilla/5.0 (Windows NT 10.0; Win64; x64) AppleWebKit/537.36 (KHTML, like Gecko) Chrome/134.0.0.0 Safari/537.36 Trailer/93.3.8652.5\n",
      "[RETRY WRAPPER] (ATTEMPT 9 | timeout 20) - Using driver id: 140255595171632\n",
      "[INFO] NAVIGATING TO (timeout=20): https://www.ozon.ru/context/detail/id/922230183/\n",
      "[RETRY WRAPPER] (ATTEMPT 9 | timeout 20) - AntiBotException detected: Reload button detected on https://www.ozon.ru/context/detail/id/922230183/; page requires reloading.. Reinitializing driver.\n",
      "[DEBUG] New driver session id: 91eff3cc79f8c4b52d78a0031f9d1a0f using profile: /tmp/chrome_profile_a25a6d9730fc44e99e2472a4635ccf34_s1fyj7aq\n",
      "[DEBUG] User Agent: Mozilla/5.0 (Windows NT 10.0; Win64; x64) AppleWebKit/537.36 (KHTML, like Gecko) Chrome/134.0.0.0 Safari/537.36 Trailer/93.3.8652.5\n",
      "[RETRY WRAPPER] (ATTEMPT 10 | timeout 20) - Using driver id: 140255619115824\n",
      "[INFO] NAVIGATING TO (timeout=20): https://www.ozon.ru/context/detail/id/922230183/\n",
      "[RETRY WRAPPER] (ATTEMPT 1 | timeout 20) - Timeout. Increasing by 2\n",
      "[DEBUG] New driver session id: 98d5f3275c727538bd37f8351117b75a using profile: /tmp/chrome_profile_6ba1d8e2f9ad403fab0ae74feb8f1a07_z02fe2yd\n",
      "[DEBUG] User Agent: Mozilla/5.0 (Windows NT 10.0; Win64; x64) AppleWebKit/537.36 (KHTML, like Gecko) Chrome/132.0.0.0 Safari/537.36 OPR/117.0.0.\n",
      "[RETRY WRAPPER] (ATTEMPT 2 | timeout 22) - Using driver id: 140255619114480\n",
      "[INFO] NAVIGATING TO (timeout=22): https://www.ozon.ru/context/detail/id/864566278/\n",
      "[RETRY WRAPPER] (ATTEMPT 10 | timeout 20) - Timeout. Increasing by 2\n",
      "[DEBUG] New driver session id: 2d5cdd632593b2308c01552c69633d74 using profile: /tmp/chrome_profile_55979bb48cf54d9a8c1ec45a1a073835_7tac5ec8\n",
      "[DEBUG] User Agent: Mozilla/5.0 (Windows NT 10.0; Win64; x64) AppleWebKit/537.36 (KHTML, like Gecko) Chrome/134.0.0.0 Safari/537.36 Edg/134.0.0.\n"
     ]
    },
    {
     "name": "stderr",
     "output_type": "stream",
     "text": [
      "Processing tasks:   2%|▏         | 50/2852 [25:24<26:27:16, 33.99s/it]"
     ]
    },
    {
     "name": "stdout",
     "output_type": "stream",
     "text": [
      "[922230183] - ERROR TimeoutException PROCESSING ROW: Message: Max retries reached for https://www.ozon.ru/context/detail/id/922230183/\n",
      "\n",
      "[DEBUG] New driver session id: 42fa704475db6211dc65253a743d00bd using profile: /tmp/chrome_profile_01056048b1fc4ec3ab9fd85c5e776a6d_r3bzxx7x\n",
      "[DEBUG] User Agent: Mozilla/5.0 (Windows NT 10.0; Win64; x64) AppleWebKit/537.36 (KHTML, like Gecko) Chrome/70.0.3538.102 Safari/537.36 Edge/18.1958\n",
      "[RETRY WRAPPER] (ATTEMPT 1 | timeout 20) - Using driver id: 140255452182384\n",
      "[INFO] NAVIGATING TO (timeout=20): https://www.ozon.ru/context/detail/id/590294661/\n",
      "[RETRY WRAPPER] (ATTEMPT 2 | timeout 22) - Timeout. Increasing by 2\n",
      "[DEBUG] New driver session id: 2af5f268faa5f146609bbccb47cb4ca3 using profile: /tmp/chrome_profile_30795d3bd97b46558b3682e680c9a393_4q4z83zh\n",
      "[DEBUG] User Agent: Mozilla/5.0 (Windows NT 10.0; Win64; x64) AppleWebKit/537.36 (KHTML, like Gecko) Chrome/134.0.0.0 Safari/537.36 Trailer/93.3.8652.5\n",
      "[RETRY WRAPPER] (ATTEMPT 3 | timeout 24) - Using driver id: 140255619109328\n",
      "[INFO] NAVIGATING TO (timeout=24): https://www.ozon.ru/context/detail/id/864566278/\n",
      "[INFO] DESCRIPTION EMPTY (s0k_28)\n"
     ]
    },
    {
     "name": "stderr",
     "output_type": "stream",
     "text": [
      "Processing tasks:   2%|▏         | 51/2852 [25:40<22:22:27, 28.76s/it]"
     ]
    },
    {
     "name": "stdout",
     "output_type": "stream",
     "text": [
      "[590294661] - DESCRIPTION OMITTED (OOS)\n",
      "[DEBUG] New driver session id: a9e63b9c2fcf1976d65032defe3c1b3d using profile: /tmp/chrome_profile_3d7f8ee5bf854b9689b4e76742a6adaf_e07mxcra\n",
      "[DEBUG] User Agent: Mozilla/5.0 (Windows NT 10.0; Win64; x64) AppleWebKit/537.36 (KHTML, like Gecko) Chrome/134.0.0.0 Safari/537.36 Edg/134.0.0.\n",
      "[RETRY WRAPPER] (ATTEMPT 1 | timeout 20) - Using driver id: 140255452032912\n",
      "[INFO] NAVIGATING TO (timeout=20): https://www.ozon.ru/context/detail/id/523060794/\n",
      "[RETRY WRAPPER] (ATTEMPT 3 | timeout 24) - Timeout. Increasing by 2\n",
      "[DEBUG] New driver session id: 521685963725b53e09d6d2e4299b1dd8 using profile: /tmp/chrome_profile_947f92e021c4494a9691638fcf9dc452_gwyyxqxv\n",
      "[DEBUG] User Agent: Mozilla/5.0 (Windows NT 10.0; Win64; x64) AppleWebKit/537.36 (KHTML, like Gecko) Chrome/70.0.3538.102 Safari/537.36 Edge/18.1958\n",
      "[RETRY WRAPPER] (ATTEMPT 4 | timeout 26) - Using driver id: 140255595519728\n",
      "[INFO] NAVIGATING TO (timeout=26): https://www.ozon.ru/context/detail/id/864566278/\n",
      "[INFO] DESCRIPTION EMPTY (s0k_28)\n"
     ]
    },
    {
     "name": "stderr",
     "output_type": "stream",
     "text": [
      "Processing tasks:   2%|▏         | 52/2852 [25:58<19:49:54, 25.50s/it]"
     ]
    },
    {
     "name": "stdout",
     "output_type": "stream",
     "text": [
      "[523060794] - DESCRIPTION OMITTED (OOS)\n",
      "[DEBUG] New driver session id: ef900c7654d39a6e476f06bc5af31a4e using profile: /tmp/chrome_profile_417b03754791452bb019b342de617e69_d2l80w48\n",
      "[DEBUG] User Agent: Mozilla/5.0 (Windows NT 10.0; Win64; x64) AppleWebKit/537.36 (KHTML, like Gecko) Chrome/134.0.0.0 Safari/537.36 Trailer/93.3.8652.5\n",
      "[RETRY WRAPPER] (ATTEMPT 1 | timeout 20) - Using driver id: 140255452178352\n",
      "[INFO] NAVIGATING TO (timeout=20): https://www.ozon.ru/context/detail/id/1867702733/\n",
      "[RETRY WRAPPER] (ATTEMPT 4 | timeout 26) - AntiBotException detected: Reload button detected on https://www.ozon.ru/context/detail/id/864566278/; page requires reloading.. Reinitializing driver.\n",
      "[DEBUG] New driver session id: 62435160265f5481f9488a82cca59d17 using profile: /tmp/chrome_profile_59aac16d61844fc5b3f490ab7629dad1__kt7pi_0\n",
      "[DEBUG] User Agent: Mozilla/5.0 (Windows NT 10.0; Win64; x64) AppleWebKit/537.36 (KHTML, like Gecko) Chrome/134.0.0.0 Safari/537.36 Edg/134.0.0.\n",
      "[RETRY WRAPPER] (ATTEMPT 1 | timeout 20) - AntiBotException detected: Reload button detected on https://www.ozon.ru/context/detail/id/1867702733/; page requires reloading.. Reinitializing driver.\n",
      "[RETRY WRAPPER] (ATTEMPT 5 | timeout 20) - Using driver id: 140256794488720\n",
      "[INFO] NAVIGATING TO (timeout=20): https://www.ozon.ru/context/detail/id/864566278/\n",
      "[DEBUG] New driver session id: bb9cbbfb524ebfa1e00555193fc5b475 using profile: /tmp/chrome_profile_ccfb49df57cb44369fa0d37e5f699316_vgcczm2w\n",
      "[DEBUG] User Agent: Mozilla/5.0 (Windows NT 10.0; Win64; x64) AppleWebKit/537.36 (KHTML, like Gecko) Chrome/132.0.0.0 Safari/537.36 OPR/117.0.0.\n",
      "[RETRY WRAPPER] (ATTEMPT 2 | timeout 20) - Using driver id: 140255452181040\n",
      "[INFO] NAVIGATING TO (timeout=20): https://www.ozon.ru/context/detail/id/1867702733/\n",
      "[INFO] DESCRIPTION DETECTED (k7y_28)\n"
     ]
    },
    {
     "name": "stderr",
     "output_type": "stream",
     "text": [
      "Processing tasks:   2%|▏         | 53/2852 [26:28<20:46:14, 26.71s/it]"
     ]
    },
    {
     "name": "stdout",
     "output_type": "stream",
     "text": [
      "[1867702733] - DESCRIPTION SUCCESS: Большая настенная политическая карта Мира. Мелованная бумага...\n",
      "[DEBUG] New driver session id: 16976870cf107f87cee6a9042c643223 using profile: /tmp/chrome_profile_79cbfd635bfe456d9fc42d75e7c753d2_vw4_yw0r\n",
      "[DEBUG] User Agent: Mozilla/5.0 (Windows NT 10.0; Win64; x64) AppleWebKit/537.36 (KHTML, like Gecko) Chrome/134.0.0.0 Safari/537.3\n",
      "[RETRY WRAPPER] (ATTEMPT 1 | timeout 20) - Using driver id: 140255619120080\n",
      "[INFO] NAVIGATING TO (timeout=20): https://www.ozon.ru/context/detail/id/1674853314/\n",
      "[RETRY WRAPPER] (ATTEMPT 5 | timeout 20) - Timeout. Increasing by 2\n",
      "[DEBUG] New driver session id: fb0a961c00ebf79c4c0f256e27dbbc2c using profile: /tmp/chrome_profile_048af0f2fa554c9880dd3fb043cd16b8_9l9qmuxg\n",
      "[DEBUG] User Agent: Mozilla/5.0 (Windows NT 10.0; Win64; x64) AppleWebKit/537.36 (KHTML, like Gecko) Chrome/134.0.0.0 Safari/537.36 Edg/134.0.0.\n",
      "[RETRY WRAPPER] (ATTEMPT 6 | timeout 22) - Using driver id: 140256794488048\n",
      "[INFO] NAVIGATING TO (timeout=22): https://www.ozon.ru/context/detail/id/864566278/\n",
      "[RETRY WRAPPER] (ATTEMPT 1 | timeout 20) - AntiBotException detected: Reload button detected on https://www.ozon.ru/context/detail/id/1674853314/; page requires reloading.. Reinitializing driver.\n",
      "[DEBUG] New driver session id: 56ba3e909c098a208f90b977137ca1ab using profile: /tmp/chrome_profile_c2555554de08437a86e5af29588017a6_sofo20v7\n",
      "[DEBUG] User Agent: Mozilla/5.0 (Windows NT 10.0; Win64; x64) AppleWebKit/537.36 (KHTML, like Gecko) Chrome/132.0.0.0 Safari/537.36 OPR/117.0.0.\n",
      "[RETRY WRAPPER] (ATTEMPT 2 | timeout 20) - Using driver id: 140255619118736\n",
      "[INFO] NAVIGATING TO (timeout=20): https://www.ozon.ru/context/detail/id/1674853314/\n",
      "[RETRY WRAPPER] (ATTEMPT 6 | timeout 22) - Timeout. Increasing by 2\n",
      "[INFO] DESCRIPTION DETECTED (k7y_28)\n"
     ]
    },
    {
     "name": "stderr",
     "output_type": "stream",
     "text": [
      "Processing tasks:   2%|▏         | 54/2852 [26:56<21:09:04, 27.21s/it]"
     ]
    },
    {
     "name": "stdout",
     "output_type": "stream",
     "text": [
      "[1674853314] - DESCRIPTION SUCCESS: Настенная карта Москвы размер 1,60*2,12 м, матовая ламинация...\n",
      "[DEBUG] New driver session id: 193965a58eefe26b0f8b13e85fc7d9ee using profile: /tmp/chrome_profile_b567c032416a454b93168287c3a323f8_u8u5_cnp\n",
      "[DEBUG] User Agent: Mozilla/5.0 (Windows NT 10.0; Win64; x64) AppleWebKit/537.36 (KHTML, like Gecko) Chrome/134.0.0.0 Safari/537.3\n",
      "[DEBUG] New driver session id: cb36cb97a40ab3cee76a6c2d75eb56c8 using profile: /tmp/chrome_profile_887376afd3e546479794725d7767e457_cy3sro8o\n",
      "[DEBUG] User Agent: Mozilla/5.0 (Windows NT 10.0; Win64; x64) AppleWebKit/537.36 (KHTML, like Gecko) Chrome/134.0.0.0 Safari/537.3\n",
      "[RETRY WRAPPER] (ATTEMPT 1 | timeout 20) - Using driver id: 140256799254448\n",
      "[INFO] NAVIGATING TO (timeout=20): https://www.ozon.ru/context/detail/id/1546437392/\n",
      "[RETRY WRAPPER] (ATTEMPT 7 | timeout 24) - Using driver id: 140255594648464\n",
      "[INFO] NAVIGATING TO (timeout=24): https://www.ozon.ru/context/detail/id/864566278/\n",
      "[RETRY WRAPPER] (ATTEMPT 1 | timeout 20) - Timeout. Increasing by 2\n",
      "[DEBUG] New driver session id: 561940c56215a5916de2372be83c79fb using profile: /tmp/chrome_profile_b03513a6e85b4b64b217ac4b574bb778_k8h9cxfp\n",
      "[DEBUG] User Agent: Mozilla/5.0 (Windows NT 10.0; Win64; x64) AppleWebKit/537.36 (KHTML, like Gecko) Chrome/132.0.0.0 Safari/537.36 OPR/117.0.0.\n",
      "[RETRY WRAPPER] (ATTEMPT 2 | timeout 22) - Using driver id: 140255594751024\n",
      "[INFO] NAVIGATING TO (timeout=22): https://www.ozon.ru/context/detail/id/1546437392/\n",
      "[RETRY WRAPPER] (ATTEMPT 7 | timeout 24) - Timeout. Increasing by 2\n",
      "[DEBUG] New driver session id: 2d33542f6d88b80c1670c80616a6df75 using profile: /tmp/chrome_profile_ebd309aeeb4948ae8646c9aa2ba4c2a4_lr7jd31m\n",
      "[DEBUG] User Agent: Mozilla/5.0 (Windows NT 10.0; Win64; x64) AppleWebKit/537.36 (KHTML, like Gecko) Chrome/70.0.3538.102 Safari/537.36 Edge/18.1958\n",
      "[RETRY WRAPPER] (ATTEMPT 8 | timeout 26) - Using driver id: 140255594650032\n",
      "[INFO] NAVIGATING TO (timeout=26): https://www.ozon.ru/context/detail/id/864566278/\n",
      "[RETRY WRAPPER] (ATTEMPT 8 | timeout 26) - AntiBotException detected: Reload button detected on https://www.ozon.ru/context/detail/id/864566278/; page requires reloading.. Reinitializing driver.\n",
      "[DEBUG] New driver session id: 9162c2b01d51b027d970b709235defa9 using profile: /tmp/chrome_profile_6f0013e6be2d46b38bce346ef08279be_2g0n5x7p\n",
      "[DEBUG] User Agent: Mozilla/5.0 (Windows NT 10.0; Win64; x64) AppleWebKit/537.36 (KHTML, like Gecko) Chrome/134.0.0.0 Safari/537.36 Edg/134.0.0.\n",
      "[RETRY WRAPPER] (ATTEMPT 9 | timeout 20) - Using driver id: 140256793524080\n",
      "[INFO] NAVIGATING TO (timeout=20): https://www.ozon.ru/context/detail/id/864566278/\n",
      "[RETRY WRAPPER] (ATTEMPT 2 | timeout 22) - Timeout. Increasing by 2\n",
      "[DEBUG] New driver session id: 3856088c2235fa9c2371a2ce4ada35a9 using profile: /tmp/chrome_profile_822abd27e49947b6aea793b82862250a_lwdl4tey\n",
      "[DEBUG] User Agent: Mozilla/5.0 (Windows NT 10.0; Win64; x64) AppleWebKit/537.36 (KHTML, like Gecko) Chrome/134.0.0.0 Safari/537.36 Edg/134.0.0.\n",
      "[RETRY WRAPPER] (ATTEMPT 3 | timeout 24) - Using driver id: 140255452030672\n",
      "[INFO] NAVIGATING TO (timeout=24): https://www.ozon.ru/context/detail/id/1546437392/\n",
      "[RETRY WRAPPER] (ATTEMPT 3 | timeout 24) - AntiBotException detected: Reload button detected on https://www.ozon.ru/context/detail/id/1546437392/; page requires reloading.. Reinitializing driver.\n",
      "[DEBUG] New driver session id: 9c3db89969e06ac6efdb7d82348282b2 using profile: /tmp/chrome_profile_01d808195094489d85f78e5b1cc8aed8_5rc9icj7\n",
      "[DEBUG] User Agent: Mozilla/5.0 (Windows NT 10.0; Win64; x64) AppleWebKit/537.36 (KHTML, like Gecko) Chrome/134.0.0.0 Safari/537.3\n",
      "[RETRY WRAPPER] (ATTEMPT 4 | timeout 20) - Using driver id: 140255452026864\n",
      "[INFO] NAVIGATING TO (timeout=20): https://www.ozon.ru/context/detail/id/1546437392/\n",
      "[RETRY WRAPPER] (ATTEMPT 9 | timeout 20) - Timeout. Increasing by 2\n",
      "[DEBUG] New driver session id: 99a586f97c336127a4f41c24d4cc0e0a using profile: /tmp/chrome_profile_12e69a0e072e4904bd0524061873e4be_mu45dt24\n",
      "[DEBUG] User Agent: Mozilla/5.0 (Windows NT 10.0; Win64; x64) AppleWebKit/537.36 (KHTML, like Gecko) Chrome/134.0.0.0 Safari/537.3\n",
      "[RETRY WRAPPER] (ATTEMPT 10 | timeout 22) - Using driver id: 140256794487152\n",
      "[INFO] NAVIGATING TO (timeout=22): https://www.ozon.ru/context/detail/id/864566278/\n",
      "[RETRY WRAPPER] (ATTEMPT 10 | timeout 22) - AntiBotException detected: Reload button detected on https://www.ozon.ru/context/detail/id/864566278/; page requires reloading.. Reinitializing driver.\n",
      "[DEBUG] New driver session id: a1b198fe17e2fec94bd43eef863e561a using profile: /tmp/chrome_profile_b5a9baea19ce4e399a226f26160c0a3b_apcf0i__\n",
      "[DEBUG] User Agent: Mozilla/5.0 (Windows NT 10.0; Win64; x64) AppleWebKit/537.36 (KHTML, like Gecko) Chrome/134.0.0.0 Safari/537.36 Edg/134.0.0.\n"
     ]
    },
    {
     "name": "stderr",
     "output_type": "stream",
     "text": [
      "Processing tasks:   2%|▏         | 55/2852 [28:04<30:33:49, 39.34s/it]"
     ]
    },
    {
     "name": "stdout",
     "output_type": "stream",
     "text": [
      "[864566278] - ERROR TimeoutException PROCESSING ROW: Message: Max retries reached for https://www.ozon.ru/context/detail/id/864566278/\n",
      "\n",
      "[DEBUG] New driver session id: 71b94db432a10fedecb559c2a3f1af24 using profile: /tmp/chrome_profile_bf56248df14246578e5eca3c124dc6b6_epzvpmhf\n",
      "[DEBUG] User Agent: Mozilla/5.0 (Windows NT 10.0; Win64; x64) AppleWebKit/537.36 (KHTML, like Gecko) Chrome/134.0.0.0 Safari/537.3\n",
      "[RETRY WRAPPER] (ATTEMPT 1 | timeout 20) - Using driver id: 140256800229200\n",
      "[INFO] NAVIGATING TO (timeout=20): https://www.ozon.ru/context/detail/id/288794858/\n",
      "[INFO] DESCRIPTION EMPTY (s0k_28)\n"
     ]
    },
    {
     "name": "stderr",
     "output_type": "stream",
     "text": [
      "Processing tasks:   2%|▏         | 56/2852 [28:08<22:20:18, 28.76s/it]"
     ]
    },
    {
     "name": "stdout",
     "output_type": "stream",
     "text": [
      "[1546437392] - DESCRIPTION OMITTED (OOS)\n",
      "[RETRY WRAPPER] (ATTEMPT 1 | timeout 20) - AntiBotException detected: Reload button detected on https://www.ozon.ru/context/detail/id/288794858/; page requires reloading.. Reinitializing driver.\n",
      "[DEBUG] New driver session id: e76bccfb14e8d21ff73a66488bb05285 using profile: /tmp/chrome_profile_8bc5e4023de7426aa8ce658f66732a0f_c6nlwcyo\n",
      "[DEBUG] User Agent: Mozilla/5.0 (Windows NT 10.0; Win64; x64) AppleWebKit/537.36 (KHTML, like Gecko) Chrome/134.0.0.0 Safari/537.36 Trailer/93.3.8652.5\n",
      "[RETRY WRAPPER] (ATTEMPT 1 | timeout 20) - Using driver id: 140255469910096\n",
      "[INFO] NAVIGATING TO (timeout=20): https://www.ozon.ru/context/detail/id/217489097/\n",
      "[DEBUG] New driver session id: 805d6aaab79df7caadae7d0f542030c6 using profile: /tmp/chrome_profile_528157df6f984e6d86686256d91b47bc_m5o75n1_\n",
      "[DEBUG] User Agent: Mozilla/5.0 (Windows NT 10.0; Win64; x64) AppleWebKit/537.36 (KHTML, like Gecko) Chrome/132.0.0.0 Safari/537.36 OPR/117.0.0.\n",
      "[RETRY WRAPPER] (ATTEMPT 2 | timeout 20) - Using driver id: 140256793522512\n",
      "[INFO] NAVIGATING TO (timeout=20): https://www.ozon.ru/context/detail/id/288794858/\n",
      "[RETRY WRAPPER] (ATTEMPT 2 | timeout 20) - AntiBotException detected: Reload button detected on https://www.ozon.ru/context/detail/id/288794858/; page requires reloading.. Reinitializing driver.\n",
      "[DEBUG] New driver session id: 821ecf50fd73c16e5d89d64fa814d5d9 using profile: /tmp/chrome_profile_b73c9a13e85f402789bba7e9447bf714_ss1cvy7_\n",
      "[DEBUG] User Agent: Mozilla/5.0 (Windows NT 10.0; Win64; x64) AppleWebKit/537.36 (KHTML, like Gecko) Chrome/132.0.0.0 Safari/537.36 OPR/117.0.0.\n",
      "[RETRY WRAPPER] (ATTEMPT 3 | timeout 20) - Using driver id: 140256800234576\n",
      "[INFO] NAVIGATING TO (timeout=20): https://www.ozon.ru/context/detail/id/288794858/\n",
      "[RETRY WRAPPER] (ATTEMPT 1 | timeout 20) - Timeout. Increasing by 2\n"
     ]
    },
    {
     "name": "stderr",
     "output_type": "stream",
     "text": [
      "Exception in thread Http2SingleStreamLayer-11:\n",
      "Traceback (most recent call last):\n",
      "  File \u001b[35m\"/home/anton/micromamba/envs/clip-siamese/lib/python3.13/threading.py\"\u001b[0m, line \u001b[35m1041\u001b[0m, in \u001b[35m_bootstrap_inner\u001b[0m\n",
      "    \u001b[31mself.run\u001b[0m\u001b[1;31m()\u001b[0m\n",
      "    \u001b[31m~~~~~~~~\u001b[0m\u001b[1;31m^^\u001b[0m\n",
      "  File \u001b[35m\"/home/anton/micromamba/envs/clip-siamese/lib/python3.13/site-packages/seleniumwire/thirdparty/mitmproxy/server/protocol/http2.py\"\u001b[0m, line \u001b[35m719\u001b[0m, in \u001b[35mrun\u001b[0m\n",
      "    \u001b[31mlayer\u001b[0m\u001b[1;31m()\u001b[0m\n",
      "    \u001b[31m~~~~~\u001b[0m\u001b[1;31m^^\u001b[0m\n",
      "  File \u001b[35m\"/home/anton/micromamba/envs/clip-siamese/lib/python3.13/site-packages/seleniumwire/thirdparty/mitmproxy/server/protocol/http.py\"\u001b[0m, line \u001b[35m206\u001b[0m, in \u001b[35m__call__\u001b[0m\n",
      "    if not \u001b[31mself._process_flow\u001b[0m\u001b[1;31m(flow)\u001b[0m:\n",
      "           \u001b[31m~~~~~~~~~~~~~~~~~~\u001b[0m\u001b[1;31m^^^^^^\u001b[0m\n",
      "  File \u001b[35m\"/home/anton/micromamba/envs/clip-siamese/lib/python3.13/site-packages/seleniumwire/thirdparty/mitmproxy/server/protocol/http.py\"\u001b[0m, line \u001b[35m388\u001b[0m, in \u001b[35m_process_flow\u001b[0m\n",
      "    \u001b[31mget_response\u001b[0m\u001b[1;31m()\u001b[0m\n",
      "    \u001b[31m~~~~~~~~~~~~\u001b[0m\u001b[1;31m^^\u001b[0m\n",
      "  File \u001b[35m\"/home/anton/micromamba/envs/clip-siamese/lib/python3.13/site-packages/seleniumwire/thirdparty/mitmproxy/server/protocol/http.py\"\u001b[0m, line \u001b[35m373\u001b[0m, in \u001b[35mget_response\u001b[0m\n",
      "    \u001b[31mself.send_request_headers\u001b[0m\u001b[1;31m(f.request)\u001b[0m\n",
      "    \u001b[31m~~~~~~~~~~~~~~~~~~~~~~~~~\u001b[0m\u001b[1;31m^^^^^^^^^^^\u001b[0m\n",
      "  File \u001b[35m\"/home/anton/micromamba/envs/clip-siamese/lib/python3.13/site-packages/seleniumwire/thirdparty/mitmproxy/server/protocol/http2.py\"\u001b[0m, line \u001b[35m389\u001b[0m, in \u001b[35mwrapper\u001b[0m\n",
      "    result = func(self, *args, **kwargs)\n",
      "  File \u001b[35m\"/home/anton/micromamba/envs/clip-siamese/lib/python3.13/site-packages/seleniumwire/thirdparty/mitmproxy/server/protocol/http2.py\"\u001b[0m, line \u001b[35m562\u001b[0m, in \u001b[35msend_request_headers\u001b[0m\n",
      "    max_streams = \u001b[31mself.connections\u001b[0m\u001b[1;31m[self.server_conn]\u001b[0m.remote_settings.max_concurrent_streams\n",
      "                  \u001b[31m~~~~~~~~~~~~~~~~\u001b[0m\u001b[1;31m^^^^^^^^^^^^^^^^^^\u001b[0m\n",
      "\u001b[1;35mKeyError\u001b[0m: \u001b[35m<ServerConnection: xapi.ozon.ru:443>\u001b[0m\n"
     ]
    },
    {
     "name": "stdout",
     "output_type": "stream",
     "text": [
      "[INFO] DESCRIPTION EMPTY (s0k_28)\n"
     ]
    },
    {
     "name": "stderr",
     "output_type": "stream",
     "text": [
      "Processing tasks:   2%|▏         | 57/2852 [28:32<21:07:20, 27.21s/it]"
     ]
    },
    {
     "name": "stdout",
     "output_type": "stream",
     "text": [
      "[288794858] - DESCRIPTION OMITTED (OOS)\n",
      "[DEBUG] New driver session id: 369baa255b34af7118ac83fd41350c27 using profile: /tmp/chrome_profile_a01f9d866b4b4a03a54e4781db2eaf42_o9ihok8i\n",
      "[DEBUG] User Agent: Mozilla/5.0 (Windows NT 10.0; Win64; x64) AppleWebKit/537.36 (KHTML, like Gecko) Chrome/70.0.3538.102 Safari/537.36 Edge/18.1958\n",
      "[DEBUG] New driver session id: 3a6c9da90839cb0664014ae20d5f01a4 using profile: /tmp/chrome_profile_f11c4c7a979c49a09422c2317cb8813a_9t1w_juq\n",
      "[DEBUG] User Agent: Mozilla/5.0 (Windows NT 10.0; Win64; x64) AppleWebKit/537.36 (KHTML, like Gecko) Chrome/134.0.0.0 Safari/537.36 Edg/134.0.0.\n",
      "[RETRY WRAPPER] (ATTEMPT 1 | timeout 20) - Using driver id: 140255594654288\n",
      "[INFO] NAVIGATING TO (timeout=20): https://www.ozon.ru/context/detail/id/1713036930/\n",
      "[RETRY WRAPPER] (ATTEMPT 2 | timeout 22) - Using driver id: 140255585056400\n",
      "[INFO] NAVIGATING TO (timeout=22): https://www.ozon.ru/context/detail/id/217489097/\n",
      "[INFO] DESCRIPTION DETECTED (k7y_28)\n"
     ]
    },
    {
     "name": "stderr",
     "output_type": "stream",
     "text": [
      "Processing tasks:   2%|▏         | 58/2852 [28:48<18:33:28, 23.91s/it]"
     ]
    },
    {
     "name": "stdout",
     "output_type": "stream",
     "text": [
      "[1713036930] - DESCRIPTION SUCCESS: В нашем мире, полном удивительных мест и культур, настенная ...\n",
      "[DEBUG] New driver session id: ee54d3bcdc1fe6a4aaaf51bfe4822e4d using profile: /tmp/chrome_profile_6c9aeab8751848289116477838902cf6_x7f9wfy3\n",
      "[DEBUG] User Agent: Mozilla/5.0 (Windows NT 10.0; Win64; x64) AppleWebKit/537.36 (KHTML, like Gecko) Chrome/134.0.0.0 Safari/537.3\n",
      "[RETRY WRAPPER] (ATTEMPT 1 | timeout 20) - Using driver id: 140256800228080\n",
      "[INFO] NAVIGATING TO (timeout=20): https://www.ozon.ru/context/detail/id/1629023767/\n",
      "[RETRY WRAPPER] (ATTEMPT 1 | timeout 20) - AntiBotException detected: Reload button detected on https://www.ozon.ru/context/detail/id/1629023767/; page requires reloading.. Reinitializing driver.\n",
      "[DEBUG] New driver session id: 46a2398369555e3936583df8041d7806 using profile: /tmp/chrome_profile_b8fc5c9054e141a593467cdc281c9e4a_xykf0hho\n",
      "[DEBUG] User Agent: Mozilla/5.0 (Windows NT 10.0; Win64; x64) AppleWebKit/537.36 (KHTML, like Gecko) Chrome/132.0.0.0 Safari/537.36 OPR/117.0.0.\n",
      "[RETRY WRAPPER] (ATTEMPT 2 | timeout 20) - Using driver id: 140256793515792\n",
      "[INFO] NAVIGATING TO (timeout=20): https://www.ozon.ru/context/detail/id/1629023767/\n",
      "[RETRY WRAPPER] (ATTEMPT 2 | timeout 22) - Timeout. Increasing by 2\n",
      "[DEBUG] New driver session id: 8df721e37e6cc236d3125077a098affa using profile: /tmp/chrome_profile_6a7581f125314284823bf7b6fc78b56a_n6dxepsf\n",
      "[DEBUG] User Agent: Mozilla/5.0 (Windows NT 10.0; Win64; x64) AppleWebKit/537.36 (KHTML, like Gecko) Chrome/70.0.3538.102 Safari/537.36 Edge/18.1958\n",
      "[RETRY WRAPPER] (ATTEMPT 3 | timeout 24) - Using driver id: 140255594750800\n",
      "[INFO] NAVIGATING TO (timeout=24): https://www.ozon.ru/context/detail/id/217489097/\n",
      "[INFO] DESCRIPTION DETECTED (k7y_28)\n"
     ]
    },
    {
     "name": "stderr",
     "output_type": "stream",
     "text": [
      "Processing tasks:   2%|▏         | 59/2852 [29:14<19:06:20, 24.63s/it]"
     ]
    },
    {
     "name": "stdout",
     "output_type": "stream",
     "text": [
      "[1629023767] - DESCRIPTION SUCCESS: Карта для гостей города Санкт - Петербург. \n",
      "Карта разработан...\n",
      "[DEBUG] New driver session id: 3eef34852ea15fa010dd6c061239ab60 using profile: /tmp/chrome_profile_8508d44baa0341cc99eb47f140683229_vdnjw__4\n",
      "[DEBUG] User Agent: Mozilla/5.0 (Windows NT 10.0; Win64; x64) AppleWebKit/537.36 (KHTML, like Gecko) Chrome/134.0.0.0 Safari/537.36 Trailer/93.3.8652.5\n",
      "[RETRY WRAPPER] (ATTEMPT 1 | timeout 20) - Using driver id: 140255595525552\n",
      "[INFO] NAVIGATING TO (timeout=20): https://www.ozon.ru/context/detail/id/313812826/\n",
      "[RETRY WRAPPER] (ATTEMPT 3 | timeout 24) - Timeout. Increasing by 2\n",
      "[DEBUG] New driver session id: 82b250ccfb41e1d347793dac781215cc using profile: /tmp/chrome_profile_79c09c0ccd6a4ad1a31cdc9224938ae2_alno6nfm\n",
      "[DEBUG] User Agent: Mozilla/5.0 (Windows NT 10.0; Win64; x64) AppleWebKit/537.36 (KHTML, like Gecko) Chrome/134.0.0.0 Safari/537.36 Edg/134.0.0.\n",
      "[RETRY WRAPPER] (ATTEMPT 4 | timeout 26) - Using driver id: 140255585046544\n",
      "[INFO] NAVIGATING TO (timeout=26): https://www.ozon.ru/context/detail/id/217489097/\n",
      "[RETRY WRAPPER] (ATTEMPT 1 | timeout 20) - Timeout. Increasing by 2\n",
      "[DEBUG] New driver session id: 71bf24d2dc36c6ee987d1ff13ecf145c using profile: /tmp/chrome_profile_44fe501a48c64e2e841c1cd30d7bd226_22beyfku\n",
      "[DEBUG] User Agent: Mozilla/5.0 (Windows NT 10.0; Win64; x64) AppleWebKit/537.36 (KHTML, like Gecko) Chrome/132.0.0.0 Safari/537.36 OPR/117.0.0.\n",
      "[RETRY WRAPPER] (ATTEMPT 2 | timeout 22) - Using driver id: 140256793518256\n",
      "[INFO] NAVIGATING TO (timeout=22): https://www.ozon.ru/context/detail/id/313812826/\n",
      "[RETRY WRAPPER] (ATTEMPT 2 | timeout 22) - AntiBotException detected: Reload button detected on https://www.ozon.ru/context/detail/id/313812826/; page requires reloading.. Reinitializing driver.\n",
      "[DEBUG] New driver session id: 9fe5391121aa0e226e026eaffdc2d643 using profile: /tmp/chrome_profile_c5cf8694a21f48f4b8761801e1c7fccf_2rp_4xcu\n",
      "[DEBUG] User Agent: Mozilla/5.0 (Windows NT 10.0; Win64; x64) AppleWebKit/537.36 (KHTML, like Gecko) Chrome/134.0.0.0 Safari/537.3\n",
      "[RETRY WRAPPER] (ATTEMPT 3 | timeout 20) - Using driver id: 140255595525104\n",
      "[INFO] NAVIGATING TO (timeout=20): https://www.ozon.ru/context/detail/id/313812826/\n",
      "[RETRY WRAPPER] (ATTEMPT 3 | timeout 20) - AntiBotException detected: Reload button detected on https://www.ozon.ru/context/detail/id/313812826/; page requires reloading.. Reinitializing driver.\n",
      "[DEBUG] New driver session id: 9cd669a8583ba1649c16b6a296fb3ad0 using profile: /tmp/chrome_profile_30f90b4920eb445190046da819dc4eef_1lw4m43l\n",
      "[DEBUG] User Agent: Mozilla/5.0 (Windows NT 10.0; Win64; x64) AppleWebKit/537.36 (KHTML, like Gecko) Chrome/132.0.0.0 Safari/537.36 OPR/117.0.0.\n",
      "[RETRY WRAPPER] (ATTEMPT 4 | timeout 20) - Using driver id: 140255595526672\n",
      "[INFO] NAVIGATING TO (timeout=20): https://www.ozon.ru/context/detail/id/313812826/\n",
      "[RETRY WRAPPER] (ATTEMPT 4 | timeout 26) - Timeout. Increasing by 2\n",
      "[DEBUG] New driver session id: c3804ee87bde2696dd55fd6f9edbeef3 using profile: /tmp/chrome_profile_a95674d4e7e74f168cc1b641fcdd8607_cywn_9nv\n",
      "[DEBUG] User Agent: Mozilla/5.0 (Windows NT 10.0; Win64; x64) AppleWebKit/537.36 (KHTML, like Gecko) Chrome/134.0.0.0 Safari/537.36 Edg/134.0.0.\n",
      "[RETRY WRAPPER] (ATTEMPT 5 | timeout 28) - Using driver id: 140255585056624\n",
      "[INFO] NAVIGATING TO (timeout=28): https://www.ozon.ru/context/detail/id/217489097/\n",
      "[RETRY WRAPPER] (ATTEMPT 5 | timeout 28) - AntiBotException detected: Reload button detected on https://www.ozon.ru/context/detail/id/217489097/; page requires reloading.. Reinitializing driver.\n",
      "[DEBUG] New driver session id: 6fe696baba6ab8cb170ad84a355d224a using profile: /tmp/chrome_profile_f92aa08194e4407c9ebcf48d98856880_quv74a6k\n",
      "[DEBUG] User Agent: Mozilla/5.0 (Windows NT 10.0; Win64; x64) AppleWebKit/537.36 (KHTML, like Gecko) Chrome/134.0.0.0 Safari/537.36 Edg/134.0.0.\n",
      "[RETRY WRAPPER] (ATTEMPT 6 | timeout 20) - Using driver id: 140255595175216\n",
      "[INFO] NAVIGATING TO (timeout=20): https://www.ozon.ru/context/detail/id/217489097/\n",
      "[RETRY WRAPPER] (ATTEMPT 6 | timeout 20) - AntiBotException detected: Reload button detected on https://www.ozon.ru/context/detail/id/217489097/; page requires reloading.. Reinitializing driver.\n",
      "[DEBUG] New driver session id: 1729fe95560abfc800fd4b5a6c882ec8 using profile: /tmp/chrome_profile_f8efb35b6fbe466eadf59f9595642e45_kaw_ts8u\n",
      "[DEBUG] User Agent: Mozilla/5.0 (Windows NT 10.0; Win64; x64) AppleWebKit/537.36 (KHTML, like Gecko) Chrome/70.0.3538.102 Safari/537.36 Edge/18.1958\n",
      "[RETRY WRAPPER] (ATTEMPT 7 | timeout 20) - Using driver id: 140255452169616\n",
      "[INFO] NAVIGATING TO (timeout=20): https://www.ozon.ru/context/detail/id/217489097/\n",
      "[RETRY WRAPPER] (ATTEMPT 4 | timeout 20) - Timeout. Increasing by 2\n",
      "[RETRY WRAPPER] (ATTEMPT 7 | timeout 20) - AntiBotException detected: Reload button detected on https://www.ozon.ru/context/detail/id/217489097/; page requires reloading.. Reinitializing driver.\n",
      "[DEBUG] New driver session id: 0922a5228ee664695e2cb2b4027fd6e3 using profile: /tmp/chrome_profile_eea127a91afd4730864293154c9c63a9_f5zt78xl\n",
      "[DEBUG] User Agent: Mozilla/5.0 (Windows NT 10.0; Win64; x64) AppleWebKit/537.36 (KHTML, like Gecko) Chrome/134.0.0.0 Safari/537.36 Edg/134.0.0.\n",
      "[DEBUG] New driver session id: dc17784e0389d1fd7702c4ce7028c98d using profile: /tmp/chrome_profile_48d4e46ad2d54e0ab7d7dcbb4f4d3b88_fqz9bcuh\n",
      "[DEBUG] User Agent: Mozilla/5.0 (Windows NT 10.0; Win64; x64) AppleWebKit/537.36 (KHTML, like Gecko) Chrome/70.0.3538.102 Safari/537.36 Edge/18.1958\n",
      "[RETRY WRAPPER] (ATTEMPT 5 | timeout 22) - Using driver id: 140256793521168\n",
      "[INFO] NAVIGATING TO (timeout=22): https://www.ozon.ru/context/detail/id/313812826/\n",
      "[RETRY WRAPPER] (ATTEMPT 8 | timeout 20) - Using driver id: 140255469904272\n",
      "[INFO] NAVIGATING TO (timeout=20): https://www.ozon.ru/context/detail/id/217489097/\n",
      "[RETRY WRAPPER] (ATTEMPT 8 | timeout 20) - AntiBotException detected: Reload button detected on https://www.ozon.ru/context/detail/id/217489097/; page requires reloading.. Reinitializing driver.\n",
      "[DEBUG] New driver session id: 7031f6e61572ba73191cdf792077c224 using profile: /tmp/chrome_profile_3972a2b49922472da2b9a7a663738620_bkd1fxjg\n",
      "[DEBUG] User Agent: Mozilla/5.0 (Windows NT 10.0; Win64; x64) AppleWebKit/537.36 (KHTML, like Gecko) Chrome/70.0.3538.102 Safari/537.36 Edge/18.1958\n",
      "[RETRY WRAPPER] (ATTEMPT 9 | timeout 20) - Using driver id: 140256799255120\n",
      "[INFO] NAVIGATING TO (timeout=20): https://www.ozon.ru/context/detail/id/217489097/\n",
      "[RETRY WRAPPER] (ATTEMPT 5 | timeout 22) - Timeout. Increasing by 2\n",
      "[DEBUG] New driver session id: 60bf924a2a002f71f59fe6bb079f9b8d using profile: /tmp/chrome_profile_494b33b8b9e84b6e8f57f727981ffda1_2ttvhojy\n",
      "[DEBUG] User Agent: Mozilla/5.0 (Windows NT 10.0; Win64; x64) AppleWebKit/537.36 (KHTML, like Gecko) Chrome/70.0.3538.102 Safari/537.36 Edge/18.1958\n",
      "[RETRY WRAPPER] (ATTEMPT 6 | timeout 24) - Using driver id: 140256800241520\n",
      "[INFO] NAVIGATING TO (timeout=24): https://www.ozon.ru/context/detail/id/313812826/\n",
      "[RETRY WRAPPER] (ATTEMPT 9 | timeout 20) - Timeout. Increasing by 2\n",
      "[DEBUG] New driver session id: d79f4c81e4b68600ba0220b6505c6a96 using profile: /tmp/chrome_profile_92dbb347c204471786205561881cf3c1_d29j9nes\n",
      "[DEBUG] User Agent: Mozilla/5.0 (Windows NT 10.0; Win64; x64) AppleWebKit/537.36 (KHTML, like Gecko) Chrome/70.0.3538.102 Safari/537.36 Edge/18.1958\n",
      "[RETRY WRAPPER] (ATTEMPT 10 | timeout 22) - Using driver id: 140256799255792\n",
      "[INFO] NAVIGATING TO (timeout=22): https://www.ozon.ru/context/detail/id/217489097/\n",
      "[INFO] DESCRIPTION EMPTY (s0k_28)\n"
     ]
    },
    {
     "name": "stderr",
     "output_type": "stream",
     "text": [
      "Processing tasks:   2%|▏         | 60/2852 [30:59<37:45:57, 48.70s/it]"
     ]
    },
    {
     "name": "stdout",
     "output_type": "stream",
     "text": [
      "[313812826] - DESCRIPTION OMITTED (OOS)\n",
      "[DEBUG] New driver session id: d3975a483414eb12d16dec0611f077e2 using profile: /tmp/chrome_profile_dfe3ee0783f44284adfded504adde814_rqnxw6fl\n",
      "[DEBUG] User Agent: Mozilla/5.0 (Windows NT 10.0; Win64; x64) AppleWebKit/537.36 (KHTML, like Gecko) Chrome/134.0.0.0 Safari/537.36 Trailer/93.3.8652.5\n",
      "[RETRY WRAPPER] (ATTEMPT 1 | timeout 20) - Using driver id: 140255619115824\n",
      "[INFO] NAVIGATING TO (timeout=20): https://www.ozon.ru/context/detail/id/853771898/\n",
      "[RETRY WRAPPER] (ATTEMPT 10 | timeout 22) - Timeout. Increasing by 2\n",
      "[DEBUG] New driver session id: b2290cebccd99c3f7b6ed5b4f291a141 using profile: /tmp/chrome_profile_15ae7882c5cc4b59a3beb5f4a6f9b07e_2evltaqh\n",
      "[DEBUG] User Agent: Mozilla/5.0 (Windows NT 10.0; Win64; x64) AppleWebKit/537.36 (KHTML, like Gecko) Chrome/132.0.0.0 Safari/537.36 OPR/117.0.0.\n"
     ]
    },
    {
     "name": "stderr",
     "output_type": "stream",
     "text": [
      "Processing tasks:   2%|▏         | 61/2852 [31:11<29:17:12, 37.78s/it]"
     ]
    },
    {
     "name": "stdout",
     "output_type": "stream",
     "text": [
      "[217489097] - ERROR TimeoutException PROCESSING ROW: Message: Max retries reached for https://www.ozon.ru/context/detail/id/217489097/\n",
      "\n",
      "[DEBUG] New driver session id: 3f9f1dbfc0905fc491972bfe074b3816 using profile: /tmp/chrome_profile_ed27468fc20f421fb4781d0978e63f1d_js_g3mq8\n",
      "[DEBUG] User Agent: Mozilla/5.0 (Windows NT 10.0; Win64; x64) AppleWebKit/537.36 (KHTML, like Gecko) Chrome/134.0.0.0 Safari/537.36 Edg/134.0.0.\n",
      "[RETRY WRAPPER] (ATTEMPT 1 | timeout 20) - Using driver id: 140255452035376\n",
      "[INFO] NAVIGATING TO (timeout=20): https://www.ozon.ru/context/detail/id/853765662/\n",
      "[INFO] DESCRIPTION DETECTED (k7y_28)\n"
     ]
    },
    {
     "name": "stderr",
     "output_type": "stream",
     "text": [
      "Processing tasks:   2%|▏         | 62/2852 [31:21<22:40:57, 29.27s/it]"
     ]
    },
    {
     "name": "stdout",
     "output_type": "stream",
     "text": [
      "[853771898] - DESCRIPTION SUCCESS: Карта Санкт-Петербург - центр города, с достопримечательност...\n",
      "[DEBUG] New driver session id: 8af3bf7c29871b5bac65a1f292682e23 using profile: /tmp/chrome_profile_9dfe6a53eed84c8c865776db59ef0294_ugtrvown\n",
      "[DEBUG] User Agent: Mozilla/5.0 (Windows NT 10.0; Win64; x64) AppleWebKit/537.36 (KHTML, like Gecko) Chrome/70.0.3538.102 Safari/537.36 Edge/18.1958\n",
      "[RETRY WRAPPER] (ATTEMPT 1 | timeout 20) - Using driver id: 140255619112688\n",
      "[INFO] NAVIGATING TO (timeout=20): https://www.ozon.ru/context/detail/id/951220115/\n",
      "[RETRY WRAPPER] (ATTEMPT 1 | timeout 20) - AntiBotException detected: Reload button detected on https://www.ozon.ru/context/detail/id/951220115/; page requires reloading.. Reinitializing driver.\n",
      "[DEBUG] New driver session id: 3e5fd4e87c5362b36e5ec187f3f7608d using profile: /tmp/chrome_profile_575e1d2fd5584415a286707acd1c9ad3_395mfj_4\n",
      "[DEBUG] User Agent: Mozilla/5.0 (Windows NT 10.0; Win64; x64) AppleWebKit/537.36 (KHTML, like Gecko) Chrome/134.0.0.0 Safari/537.36 Edg/134.0.0.\n",
      "[RETRY WRAPPER] (ATTEMPT 2 | timeout 20) - Using driver id: 140256793513104\n",
      "[INFO] NAVIGATING TO (timeout=20): https://www.ozon.ru/context/detail/id/951220115/\n",
      "[INFO] DESCRIPTION DETECTED (k7y_28)\n"
     ]
    },
    {
     "name": "stderr",
     "output_type": "stream",
     "text": [
      "Processing tasks:   2%|▏         | 63/2852 [31:33<18:44:29, 24.19s/it]"
     ]
    },
    {
     "name": "stdout",
     "output_type": "stream",
     "text": [
      "[853765662] - DESCRIPTION SUCCESS: Карта Республики Карелия, складная. \n",
      "Удобное расположение те...\n",
      "[DEBUG] New driver session id: 9c53695864597d0b792f6a123b2e8bed using profile: /tmp/chrome_profile_1ca5f35656c846caa3bfe630bfaf78ce_oc9uwm0u\n",
      "[DEBUG] User Agent: Mozilla/5.0 (Windows NT 10.0; Win64; x64) AppleWebKit/537.36 (KHTML, like Gecko) Chrome/134.0.0.0 Safari/537.36 Edg/134.0.0.\n",
      "[RETRY WRAPPER] (ATTEMPT 1 | timeout 20) - Using driver id: 140255452030000\n",
      "[INFO] NAVIGATING TO (timeout=20): https://www.ozon.ru/context/detail/id/1413449397/\n",
      "[INFO] OUT-OF-STOCK INDICATOR DETECTED. IGNORING\n"
     ]
    },
    {
     "name": "stderr",
     "output_type": "stream",
     "text": [
      "Processing tasks:   2%|▏         | 64/2852 [31:43<15:32:00, 20.06s/it]"
     ]
    },
    {
     "name": "stdout",
     "output_type": "stream",
     "text": [
      "[1413449397] - DESCRIPTION OMITTED (OOS)\n",
      "[DEBUG] New driver session id: c7a13a64240f5d8ecc4bae455af5fbe1 using profile: /tmp/chrome_profile_574acfbd2b6e4ca6a2537755774862a2_apno6n_o\n",
      "[DEBUG] User Agent: Mozilla/5.0 (Windows NT 10.0; Win64; x64) AppleWebKit/537.36 (KHTML, like Gecko) Chrome/134.0.0.0 Safari/537.36 Trailer/93.3.8652.5\n",
      "[RETRY WRAPPER] (ATTEMPT 1 | timeout 20) - Using driver id: 140255595181040\n",
      "[INFO] NAVIGATING TO (timeout=20): https://www.ozon.ru/context/detail/id/1190097076/\n",
      "[INFO] DESCRIPTION EMPTY (s0k_28)\n"
     ]
    },
    {
     "name": "stderr",
     "output_type": "stream",
     "text": [
      "Processing tasks:   2%|▏         | 65/2852 [31:46<11:22:39, 14.70s/it]"
     ]
    },
    {
     "name": "stdout",
     "output_type": "stream",
     "text": [
      "[951220115] - DESCRIPTION OMITTED (OOS)\n",
      "[DEBUG] New driver session id: bc1f7106fead9a7efbac6d82a48e050a using profile: /tmp/chrome_profile_6d514ed3f1d748b3866bc8c30628db94_t9c1jiul\n",
      "[DEBUG] User Agent: Mozilla/5.0 (Windows NT 10.0; Win64; x64) AppleWebKit/537.36 (KHTML, like Gecko) Chrome/134.0.0.0 Safari/537.3\n",
      "[RETRY WRAPPER] (ATTEMPT 1 | timeout 20) - Using driver id: 140256800230320\n",
      "[INFO] NAVIGATING TO (timeout=20): https://www.ozon.ru/context/detail/id/1489876620/\n",
      "[INFO] OUT-OF-STOCK INDICATOR DETECTED. IGNORING\n"
     ]
    },
    {
     "name": "stderr",
     "output_type": "stream",
     "text": [
      "Processing tasks:   2%|▏         | 66/2852 [31:55<10:05:59, 13.05s/it]"
     ]
    },
    {
     "name": "stdout",
     "output_type": "stream",
     "text": [
      "[1489876620] - DESCRIPTION OMITTED (OOS)\n",
      "[DEBUG] New driver session id: 22e295a20184856e1bbb9d61767dd0c0 using profile: /tmp/chrome_profile_af2ee698179f46598878d245186a8768_523jh4x7\n",
      "[DEBUG] User Agent: Mozilla/5.0 (Windows NT 10.0; Win64; x64) AppleWebKit/537.36 (KHTML, like Gecko) Chrome/134.0.0.0 Safari/537.3\n",
      "[RETRY WRAPPER] (ATTEMPT 1 | timeout 20) - Using driver id: 140256797930256\n",
      "[INFO] NAVIGATING TO (timeout=20): https://www.ozon.ru/context/detail/id/588876919/\n",
      "[INFO] DESCRIPTION DETECTED (k7y_28)\n"
     ]
    },
    {
     "name": "stderr",
     "output_type": "stream",
     "text": [
      "Processing tasks:   2%|▏         | 67/2852 [32:03<8:58:02, 11.59s/it] "
     ]
    },
    {
     "name": "stdout",
     "output_type": "stream",
     "text": [
      "[1190097076] - DESCRIPTION SUCCESS: Настенная карта \"Россия. Природные зоны, животные и растения...\n",
      "[DEBUG] New driver session id: c9fa5475d58e958cbae56ae9e5a3a7d6 using profile: /tmp/chrome_profile_6132b48a002f42998349beef82bf8f6a_8h9fkya1\n",
      "[DEBUG] User Agent: Mozilla/5.0 (Windows NT 10.0; Win64; x64) AppleWebKit/537.36 (KHTML, like Gecko) Chrome/134.0.0.0 Safari/537.36 Trailer/93.3.8652.5\n",
      "[RETRY WRAPPER] (ATTEMPT 1 | timeout 20) - Using driver id: 140256799253552\n",
      "[INFO] NAVIGATING TO (timeout=20): https://www.ozon.ru/context/detail/id/1293990070/\n",
      "[RETRY WRAPPER] (ATTEMPT 1 | timeout 20) - AntiBotException detected: Reload button detected on https://www.ozon.ru/context/detail/id/1293990070/; page requires reloading.. Reinitializing driver.\n",
      "[DEBUG] New driver session id: 4f71e64db3621c28b7e72389b708859c using profile: /tmp/chrome_profile_0cfb7d966d274b09a3c38f2ac2573ce0_5ul_53sq\n",
      "[DEBUG] User Agent: Mozilla/5.0 (Windows NT 10.0; Win64; x64) AppleWebKit/537.36 (KHTML, like Gecko) Chrome/134.0.0.0 Safari/537.3\n",
      "[RETRY WRAPPER] (ATTEMPT 2 | timeout 20) - Using driver id: 140256799257136\n",
      "[INFO] NAVIGATING TO (timeout=20): https://www.ozon.ru/context/detail/id/1293990070/\n",
      "[INFO] DESCRIPTION DETECTED (k7y_28)\n"
     ]
    },
    {
     "name": "stderr",
     "output_type": "stream",
     "text": [
      "Processing tasks:   2%|▏         | 68/2852 [32:11<8:13:00, 10.63s/it]"
     ]
    },
    {
     "name": "stdout",
     "output_type": "stream",
     "text": [
      "[588876919] - DESCRIPTION SUCCESS: Эта настенная карта мира для детей в тубусе отлично подойдёт...\n",
      "[DEBUG] New driver session id: 60e9446222321a206159f1c012515561 using profile: /tmp/chrome_profile_f5f0a04d237b4219bae970a002b8508f_zo05h8oz\n",
      "[DEBUG] User Agent: Mozilla/5.0 (Windows NT 10.0; Win64; x64) AppleWebKit/537.36 (KHTML, like Gecko) Chrome/134.0.0.0 Safari/537.36 Edg/134.0.0.\n",
      "[RETRY WRAPPER] (ATTEMPT 1 | timeout 20) - Using driver id: 140256797918160\n",
      "[INFO] NAVIGATING TO (timeout=20): https://www.ozon.ru/context/detail/id/1621519668/\n",
      "[INFO] DESCRIPTION DETECTED (k7y_28)\n",
      "[INFO] DESCRIPTION EMPTY (s0k_28)\n"
     ]
    },
    {
     "name": "stderr",
     "output_type": "stream",
     "text": [
      "Processing tasks:   2%|▏         | 70/2852 [32:26<6:24:15,  8.29s/it]"
     ]
    },
    {
     "name": "stdout",
     "output_type": "stream",
     "text": [
      "[1293990070] - DESCRIPTION SUCCESS: Учебное пособие необходимое для знакомства с военной топогра...\n",
      "[1621519668] - DESCRIPTION OMITTED (OOS)\n",
      "[DEBUG] New driver session id: 0b9a5afd0a32fa20865b64e00211ca28 using profile: /tmp/chrome_profile_85c31d5db6f546b087ad88ae0da864c0_57yxvk5y\n",
      "[DEBUG] User Agent: Mozilla/5.0 (Windows NT 10.0; Win64; x64) AppleWebKit/537.36 (KHTML, like Gecko) Chrome/70.0.3538.102 Safari/537.36 Edge/18.1958\n",
      "[RETRY WRAPPER] (ATTEMPT 1 | timeout 20) - Using driver id: 140255585049904\n",
      "[INFO] NAVIGATING TO (timeout=20): https://www.ozon.ru/context/detail/id/1486407874/\n",
      "[DEBUG] New driver session id: b7db18a1ca9d9c9282d1d18afed9b78e using profile: /tmp/chrome_profile_6283e52d6bfb41378f11853c06a2854b_uy46n96c\n",
      "[DEBUG] User Agent: Mozilla/5.0 (Windows NT 10.0; Win64; x64) AppleWebKit/537.36 (KHTML, like Gecko) Chrome/134.0.0.0 Safari/537.36 Trailer/93.3.8652.5\n",
      "[RETRY WRAPPER] (ATTEMPT 1 | timeout 20) - Using driver id: 140256795254960\n",
      "[INFO] NAVIGATING TO (timeout=20): https://www.ozon.ru/context/detail/id/1489879225/\n",
      "[INFO] DESCRIPTION DETECTED (k7y_28)\n"
     ]
    },
    {
     "name": "stderr",
     "output_type": "stream",
     "text": [
      "Processing tasks:   2%|▏         | 71/2852 [32:43<8:22:41, 10.85s/it]"
     ]
    },
    {
     "name": "stdout",
     "output_type": "stream",
     "text": [
      "[1486407874] - DESCRIPTION SUCCESS: Товар со скидкой, т. к. на картах производственный брак: отс...\n",
      "[DEBUG] New driver session id: ac282fb7d546f5656243c859f02ed8b8 using profile: /tmp/chrome_profile_0a1c659e01c8401a9a85433efa469397_gwlemgn_\n",
      "[DEBUG] User Agent: Mozilla/5.0 (Windows NT 10.0; Win64; x64) AppleWebKit/537.36 (KHTML, like Gecko) Chrome/70.0.3538.102 Safari/537.36 Edge/18.1958\n",
      "[RETRY WRAPPER] (ATTEMPT 1 | timeout 20) - Using driver id: 140255594742512\n",
      "[INFO] NAVIGATING TO (timeout=20): https://www.ozon.ru/context/detail/id/1674857283/\n",
      "[INFO] DESCRIPTION DETECTED (k7y_28)\n"
     ]
    },
    {
     "name": "stderr",
     "output_type": "stream",
     "text": [
      "Processing tasks:   3%|▎         | 72/2852 [32:45<6:23:35,  8.28s/it]"
     ]
    },
    {
     "name": "stdout",
     "output_type": "stream",
     "text": [
      "[1489879225] - DESCRIPTION SUCCESS: Учебное пособие необходимое для знакомства с военной топогра...\n",
      "[DEBUG] New driver session id: d302d2e88c97e806965a042e12b7db5f using profile: /tmp/chrome_profile_a7f11616814c4bf6a4854821ee71d2f1_h5_s0gbo\n",
      "[DEBUG] User Agent: Mozilla/5.0 (Windows NT 10.0; Win64; x64) AppleWebKit/537.36 (KHTML, like Gecko) Chrome/134.0.0.0 Safari/537.3\n",
      "[RETRY WRAPPER] (ATTEMPT 1 | timeout 20) - Using driver id: 140255619116048\n",
      "[INFO] NAVIGATING TO (timeout=20): https://www.ozon.ru/context/detail/id/1163096571/\n",
      "[RETRY WRAPPER] (ATTEMPT 1 | timeout 20) - AntiBotException detected: Reload button detected on https://www.ozon.ru/context/detail/id/1674857283/; page requires reloading.. Reinitializing driver.\n",
      "[DEBUG] New driver session id: 504791bf2eb839660bf2eb8a9729633e using profile: /tmp/chrome_profile_35a57bbda3a64dacabea620db29c1a67_fmwaoqre\n",
      "[DEBUG] User Agent: Mozilla/5.0 (Windows NT 10.0; Win64; x64) AppleWebKit/537.36 (KHTML, like Gecko) Chrome/132.0.0.0 Safari/537.36 OPR/117.0.0.\n",
      "[RETRY WRAPPER] (ATTEMPT 2 | timeout 20) - Using driver id: 140255585050576\n",
      "[INFO] NAVIGATING TO (timeout=20): https://www.ozon.ru/context/detail/id/1674857283/\n",
      "[INFO] DESCRIPTION EMPTY (s0k_28)\n",
      "[INFO] DESCRIPTION DETECTED (k7y_28)\n"
     ]
    },
    {
     "name": "stderr",
     "output_type": "stream",
     "text": [
      "Processing tasks:   3%|▎         | 74/2852 [33:07<6:44:44,  8.74s/it]"
     ]
    },
    {
     "name": "stdout",
     "output_type": "stream",
     "text": [
      "[1674857283] - DESCRIPTION OMITTED (OOS)\n",
      "[1163096571] - DESCRIPTION SUCCESS: Впервые столь подробная карта расширена до границ кольцевой ...\n",
      "[DEBUG] New driver session id: 6fa7865ae2535efa0e85ac9b2854185d using profile: /tmp/chrome_profile_4de4b536a5a7480f8d6722184d5d6793_rwdwn2mg\n",
      "[DEBUG] User Agent: Mozilla/5.0 (Windows NT 10.0; Win64; x64) AppleWebKit/537.36 (KHTML, like Gecko) Chrome/134.0.0.0 Safari/537.36 Edg/134.0.0.\n",
      "[RETRY WRAPPER] (ATTEMPT 1 | timeout 20) - Using driver id: 140255595173200\n",
      "[INFO] NAVIGATING TO (timeout=20): https://www.ozon.ru/context/detail/id/879403681/\n",
      "[DEBUG] New driver session id: 549be5c1f5974730311ec29733d43043 using profile: /tmp/chrome_profile_11bcf4ca5edd453c97a7be9f8f45aa84_qk4u9nyk\n",
      "[DEBUG] User Agent: Mozilla/5.0 (Windows NT 10.0; Win64; x64) AppleWebKit/537.36 (KHTML, like Gecko) Chrome/134.0.0.0 Safari/537.36 Trailer/93.3.8652.5\n",
      "[RETRY WRAPPER] (ATTEMPT 1 | timeout 20) - Using driver id: 140255594651376\n",
      "[INFO] NAVIGATING TO (timeout=20): https://www.ozon.ru/context/detail/id/853830521/\n",
      "[RETRY WRAPPER] (ATTEMPT 1 | timeout 20) - AntiBotException detected: Reload button detected on https://www.ozon.ru/context/detail/id/879403681/; page requires reloading.. Reinitializing driver.\n",
      "[DEBUG] New driver session id: 4c53c1d04c3f1f84ee164560d3f4f278 using profile: /tmp/chrome_profile_325f2496d1b34640aae8f7976c8188c0_3f0_tnu4\n",
      "[DEBUG] User Agent: Mozilla/5.0 (Windows NT 10.0; Win64; x64) AppleWebKit/537.36 (KHTML, like Gecko) Chrome/70.0.3538.102 Safari/537.36 Edge/18.1958\n",
      "[RETRY WRAPPER] (ATTEMPT 2 | timeout 20) - Using driver id: 140255619120528\n",
      "[INFO] NAVIGATING TO (timeout=20): https://www.ozon.ru/context/detail/id/879403681/\n",
      "[RETRY WRAPPER] (ATTEMPT 2 | timeout 20) - AntiBotException detected: Reload button detected on https://www.ozon.ru/context/detail/id/879403681/; page requires reloading.. Reinitializing driver.\n",
      "[DEBUG] New driver session id: b64e6ebb09484976ba35cc8408e47837 using profile: /tmp/chrome_profile_140a752e5f7b4fca98c18c1a42abb8f4_091dmvio\n",
      "[DEBUG] User Agent: Mozilla/5.0 (Windows NT 10.0; Win64; x64) AppleWebKit/537.36 (KHTML, like Gecko) Chrome/132.0.0.0 Safari/537.36 OPR/117.0.0.\n",
      "[RETRY WRAPPER] (ATTEMPT 3 | timeout 20) - Using driver id: 140255594745648\n",
      "[INFO] NAVIGATING TO (timeout=20): https://www.ozon.ru/context/detail/id/879403681/\n",
      "[RETRY WRAPPER] (ATTEMPT 3 | timeout 20) - AntiBotException detected: Reload button detected on https://www.ozon.ru/context/detail/id/879403681/; page requires reloading.. Reinitializing driver.\n",
      "[DEBUG] New driver session id: 03678db4b73072c9d96764b11e5c687d using profile: /tmp/chrome_profile_2134e665fff74e53aa24a34fc307d504_pfatl0ir\n",
      "[DEBUG] User Agent: Mozilla/5.0 (Windows NT 10.0; Win64; x64) AppleWebKit/537.36 (KHTML, like Gecko) Chrome/134.0.0.0 Safari/537.36 Trailer/93.3.8652.5\n",
      "[RETRY WRAPPER] (ATTEMPT 4 | timeout 20) - Using driver id: 140255585049232\n",
      "[INFO] NAVIGATING TO (timeout=20): https://www.ozon.ru/context/detail/id/879403681/\n",
      "[INFO] DESCRIPTION DETECTED (k7y_28)\n"
     ]
    },
    {
     "name": "stderr",
     "output_type": "stream",
     "text": [
      "Processing tasks:   3%|▎         | 75/2852 [33:27<9:21:39, 12.14s/it]"
     ]
    },
    {
     "name": "stdout",
     "output_type": "stream",
     "text": [
      "[853830521] - DESCRIPTION SUCCESS: Карта Республика Карелия политико-административная, настенна...\n",
      "[DEBUG] New driver session id: 75d12a9d9fdcd538ec83aa582dff8063 using profile: /tmp/chrome_profile_7f152c0e74ca4d8188c5ee3c5ea113d5_qvd31u_j\n",
      "[DEBUG] User Agent: Mozilla/5.0 (Windows NT 10.0; Win64; x64) AppleWebKit/537.36 (KHTML, like Gecko) Chrome/70.0.3538.102 Safari/537.36 Edge/18.1958\n",
      "[RETRY WRAPPER] (ATTEMPT 1 | timeout 20) - Using driver id: 140256795251600\n",
      "[INFO] NAVIGATING TO (timeout=20): https://www.ozon.ru/context/detail/id/1413629049/\n",
      "[RETRY WRAPPER] (ATTEMPT 4 | timeout 20) - AntiBotException detected: Reload button detected on https://www.ozon.ru/context/detail/id/879403681/; page requires reloading.. Reinitializing driver.\n",
      "[RETRY WRAPPER] (ATTEMPT 1 | timeout 20) - AntiBotException detected: Reload button detected on https://www.ozon.ru/context/detail/id/1413629049/; page requires reloading.. Reinitializing driver.\n",
      "[DEBUG] New driver session id: 17069feb115a5739d97cfb4236a184d9 using profile: /tmp/chrome_profile_412e92ec39f64fe9b26ab805721bafb0_5soiwi6i\n",
      "[DEBUG] User Agent: Mozilla/5.0 (Windows NT 10.0; Win64; x64) AppleWebKit/537.36 (KHTML, like Gecko) Chrome/70.0.3538.102 Safari/537.36 Edge/18.1958\n",
      "[DEBUG] New driver session id: e0a3e513cbf85393239d72c32b420b3f using profile: /tmp/chrome_profile_e7b2404d56ce41e9906b2dd41c207673_xemkqe74\n",
      "[DEBUG] User Agent: Mozilla/5.0 (Windows NT 10.0; Win64; x64) AppleWebKit/537.36 (KHTML, like Gecko) Chrome/132.0.0.0 Safari/537.36 OPR/117.0.0.\n",
      "[RETRY WRAPPER] (ATTEMPT 5 | timeout 20) - Using driver id: 140255595174768\n",
      "[INFO] NAVIGATING TO (timeout=20): https://www.ozon.ru/context/detail/id/879403681/\n",
      "[RETRY WRAPPER] (ATTEMPT 2 | timeout 20) - Using driver id: 140255619112016\n",
      "[INFO] NAVIGATING TO (timeout=20): https://www.ozon.ru/context/detail/id/1413629049/\n",
      "[INFO] DESCRIPTION DETECTED (k7y_28)\n"
     ]
    },
    {
     "name": "stderr",
     "output_type": "stream",
     "text": [
      "Processing tasks:   3%|▎         | 76/2852 [33:54<12:47:18, 16.58s/it]"
     ]
    },
    {
     "name": "stdout",
     "output_type": "stream",
     "text": [
      "[1413629049] - DESCRIPTION SUCCESS: Карта Российской Империи (сост. на 1913г.)К 400-летию Дома Р...\n",
      "[DEBUG] New driver session id: f6aff1dc078152a3df8faa2edea11d82 using profile: /tmp/chrome_profile_8921a99fff83469f9d3306a3d4b3228c_l5no4kyq\n",
      "[DEBUG] User Agent: Mozilla/5.0 (Windows NT 10.0; Win64; x64) AppleWebKit/537.36 (KHTML, like Gecko) Chrome/70.0.3538.102 Safari/537.36 Edge/18.1958\n",
      "[RETRY WRAPPER] (ATTEMPT 1 | timeout 20) - Using driver id: 140256795246672\n",
      "[INFO] NAVIGATING TO (timeout=20): https://www.ozon.ru/context/detail/id/1613736063/\n",
      "[INFO] DESCRIPTION DETECTED (k7y_28)\n"
     ]
    },
    {
     "name": "stderr",
     "output_type": "stream",
     "text": [
      "Processing tasks:   3%|▎         | 77/2852 [33:58<9:47:58, 12.71s/it] "
     ]
    },
    {
     "name": "stdout",
     "output_type": "stream",
     "text": [
      "[879403681] - DESCRIPTION SUCCESS: ...\n",
      "[DEBUG] New driver session id: 6ddb18d59f13ae9dd74916518aabaf7f using profile: /tmp/chrome_profile_04dcd0cf8a1e45c980367ca20b36ffa8_pi9q0asx\n",
      "[DEBUG] User Agent: Mozilla/5.0 (Windows NT 10.0; Win64; x64) AppleWebKit/537.36 (KHTML, like Gecko) Chrome/70.0.3538.102 Safari/537.36 Edge/18.1958\n",
      "[RETRY WRAPPER] (ATTEMPT 1 | timeout 20) - Using driver id: 140255595171632\n",
      "[INFO] NAVIGATING TO (timeout=20): https://www.ozon.ru/context/detail/id/219077206/\n",
      "[INFO] DESCRIPTION DETECTED (k7y_28)\n"
     ]
    },
    {
     "name": "stderr",
     "output_type": "stream",
     "text": [
      "Processing tasks:   3%|▎         | 78/2852 [34:14<10:31:56, 13.67s/it]"
     ]
    },
    {
     "name": "stdout",
     "output_type": "stream",
     "text": [
      "[1613736063] - DESCRIPTION SUCCESS: Карте сделана из приятной и плотной глянцевой бумаги, что об...\n",
      "[DEBUG] New driver session id: 0929174091954a57d263d3147cb521e4 using profile: /tmp/chrome_profile_adfef4f89a8b49ac826aa7b9d87a21bb_3wpehzne\n",
      "[DEBUG] User Agent: Mozilla/5.0 (Windows NT 10.0; Win64; x64) AppleWebKit/537.36 (KHTML, like Gecko) Chrome/134.0.0.0 Safari/537.36 Edg/134.0.0.\n",
      "[RETRY WRAPPER] (ATTEMPT 1 | timeout 20) - Using driver id: 140256793521616\n",
      "[INFO] NAVIGATING TO (timeout=20): https://www.ozon.ru/context/detail/id/217475629/\n",
      "[INFO] DESCRIPTION DETECTED (k7y_28)\n"
     ]
    },
    {
     "name": "stderr",
     "output_type": "stream",
     "text": [
      "Processing tasks:   3%|▎         | 79/2852 [34:20<8:51:03, 11.49s/it] "
     ]
    },
    {
     "name": "stdout",
     "output_type": "stream",
     "text": [
      "[219077206] - DESCRIPTION SUCCESS: Настенная карта мира для детей на мелованной бумаге размером...\n",
      "[DEBUG] New driver session id: 6d25f99ae9845c31740168fb3d1cc391 using profile: /tmp/chrome_profile_b43a53d87da94305978b51eb136ce318_hmhc1xhn\n",
      "[DEBUG] User Agent: Mozilla/5.0 (Windows NT 10.0; Win64; x64) AppleWebKit/537.36 (KHTML, like Gecko) Chrome/132.0.0.0 Safari/537.36 OPR/117.0.0.\n",
      "[RETRY WRAPPER] (ATTEMPT 1 | timeout 20) - Using driver id: 140255452177232\n",
      "[INFO] NAVIGATING TO (timeout=20): https://www.ozon.ru/context/detail/id/212812649/\n",
      "[INFO] OUT-OF-STOCK INDICATOR DETECTED. IGNORING\n"
     ]
    },
    {
     "name": "stderr",
     "output_type": "stream",
     "text": [
      "Processing tasks:   3%|▎         | 80/2852 [34:30<8:31:16, 11.07s/it]"
     ]
    },
    {
     "name": "stdout",
     "output_type": "stream",
     "text": [
      "[212812649] - DESCRIPTION OMITTED (OOS)\n",
      "[DEBUG] New driver session id: 39e546f47041ccaeaf3cdeedff600379 using profile: /tmp/chrome_profile_2e4a19b70fd240feb0e9fcd386b100b0_itku4kdh\n",
      "[DEBUG] User Agent: Mozilla/5.0 (Windows NT 10.0; Win64; x64) AppleWebKit/537.36 (KHTML, like Gecko) Chrome/132.0.0.0 Safari/537.36 OPR/117.0.0.\n",
      "[RETRY WRAPPER] (ATTEMPT 1 | timeout 20) - Using driver id: 140256799248848\n",
      "[INFO] NAVIGATING TO (timeout=20): https://www.ozon.ru/context/detail/id/1679550303/\n",
      "[RETRY WRAPPER] (ATTEMPT 1 | timeout 20) - AntiBotException detected: Reload button detected on https://www.ozon.ru/context/detail/id/1679550303/; page requires reloading.. Reinitializing driver.\n",
      "[DEBUG] New driver session id: 74b395cb316b582144e2ce2091893fe3 using profile: /tmp/chrome_profile_21154e2ee24347eea0b9d9efd75f42c9_qwc0a6g6\n",
      "[DEBUG] User Agent: Mozilla/5.0 (Windows NT 10.0; Win64; x64) AppleWebKit/537.36 (KHTML, like Gecko) Chrome/134.0.0.0 Safari/537.3\n",
      "[RETRY WRAPPER] (ATTEMPT 1 | timeout 20) - Timeout. Increasing by 2\n",
      "[RETRY WRAPPER] (ATTEMPT 2 | timeout 20) - Using driver id: 140256799249296\n",
      "[INFO] NAVIGATING TO (timeout=20): https://www.ozon.ru/context/detail/id/1679550303/\n",
      "[DEBUG] New driver session id: 09e2f61552700bc8d5e494c64b77910a using profile: /tmp/chrome_profile_2d6aa1e62e0f407b82ccbb1e3c1d5932_xn4o2ta8\n",
      "[DEBUG] User Agent: Mozilla/5.0 (Windows NT 10.0; Win64; x64) AppleWebKit/537.36 (KHTML, like Gecko) Chrome/70.0.3538.102 Safari/537.36 Edge/18.1958\n",
      "[RETRY WRAPPER] (ATTEMPT 2 | timeout 22) - Using driver id: 140256797927792\n",
      "[INFO] NAVIGATING TO (timeout=22): https://www.ozon.ru/context/detail/id/217475629/\n",
      "[RETRY WRAPPER] (ATTEMPT 2 | timeout 20) - AntiBotException detected: Reload button detected on https://www.ozon.ru/context/detail/id/1679550303/; page requires reloading.. Reinitializing driver.\n",
      "[RETRY WRAPPER] (ATTEMPT 2 | timeout 22) - AntiBotException detected: Reload button detected on https://www.ozon.ru/context/detail/id/217475629/; page requires reloading.. Reinitializing driver.\n",
      "[DEBUG] New driver session id: 0b384b3aa39b9c9a5df3e07c9a9fdea8 using profile: /tmp/chrome_profile_c0ad1515f48041cfbe9dc4e91fafe454_qevlfl4v\n",
      "[DEBUG] User Agent: Mozilla/5.0 (Windows NT 10.0; Win64; x64) AppleWebKit/537.36 (KHTML, like Gecko) Chrome/134.0.0.0 Safari/537.3\n",
      "[RETRY WRAPPER] (ATTEMPT 3 | timeout 20) - Using driver id: 140255585043856\n",
      "[INFO] NAVIGATING TO (timeout=20): https://www.ozon.ru/context/detail/id/1679550303/\n",
      "[DEBUG] New driver session id: b9fe2f7ce779a31de1664bddde14250d using profile: /tmp/chrome_profile_0d83225cc499431f8a03c8e9bead8a7d_537g616w\n",
      "[DEBUG] User Agent: Mozilla/5.0 (Windows NT 10.0; Win64; x64) AppleWebKit/537.36 (KHTML, like Gecko) Chrome/70.0.3538.102 Safari/537.36 Edge/18.1958\n",
      "[RETRY WRAPPER] (ATTEMPT 3 | timeout 20) - Using driver id: 140256795251152\n",
      "[INFO] NAVIGATING TO (timeout=20): https://www.ozon.ru/context/detail/id/217475629/\n",
      "[RETRY WRAPPER] (ATTEMPT 3 | timeout 20) - Timeout. Increasing by 2\n",
      "[RETRY WRAPPER] (ATTEMPT 3 | timeout 20) - Timeout. Increasing by 2\n",
      "[DEBUG] New driver session id: a7cecfa0694cbf37adb35dd83516b3c2 using profile: /tmp/chrome_profile_389adc5cdf5945cda9b4c679eec28090_xey0dsvr\n",
      "[DEBUG] User Agent: Mozilla/5.0 (Windows NT 10.0; Win64; x64) AppleWebKit/537.36 (KHTML, like Gecko) Chrome/70.0.3538.102 Safari/537.36 Edge/18.1958\n",
      "[RETRY WRAPPER] (ATTEMPT 4 | timeout 22) - Using driver id: 140255469902928\n",
      "[INFO] NAVIGATING TO (timeout=22): https://www.ozon.ru/context/detail/id/1679550303/\n",
      "[DEBUG] New driver session id: 7314a6b76fb383ae0b9d67a02d0be12d using profile: /tmp/chrome_profile_7f90169ca8b1411e9c065684dd0e8fbc_6y4lh_sl\n",
      "[DEBUG] User Agent: Mozilla/5.0 (Windows NT 10.0; Win64; x64) AppleWebKit/537.36 (KHTML, like Gecko) Chrome/134.0.0.0 Safari/537.3\n",
      "[RETRY WRAPPER] (ATTEMPT 4 | timeout 22) - Using driver id: 140256795256528\n",
      "[INFO] NAVIGATING TO (timeout=22): https://www.ozon.ru/context/detail/id/217475629/\n",
      "[RETRY WRAPPER] (ATTEMPT 4 | timeout 22) - AntiBotException detected: Reload button detected on https://www.ozon.ru/context/detail/id/217475629/; page requires reloading.. Reinitializing driver.\n",
      "[DEBUG] New driver session id: d717812a9ead73469a4b7ab6de076f9d using profile: /tmp/chrome_profile_a04ae825ddc8493d8ec884617552dfd9_5thk6ww8\n",
      "[DEBUG] User Agent: Mozilla/5.0 (Windows NT 10.0; Win64; x64) AppleWebKit/537.36 (KHTML, like Gecko) Chrome/70.0.3538.102 Safari/537.36 Edge/18.1958\n",
      "[RETRY WRAPPER] (ATTEMPT 5 | timeout 20) - Using driver id: 140256797924208\n",
      "[INFO] NAVIGATING TO (timeout=20): https://www.ozon.ru/context/detail/id/217475629/\n",
      "[RETRY WRAPPER] (ATTEMPT 5 | timeout 20) - AntiBotException detected: Reload button detected on https://www.ozon.ru/context/detail/id/217475629/; page requires reloading.. Reinitializing driver.\n",
      "[DEBUG] New driver session id: 57b0d8c37647750e749ecd1ab00ffb97 using profile: /tmp/chrome_profile_01529aba490b4b99a88ecaf86787fb12_8xfk1xb6\n",
      "[DEBUG] User Agent: Mozilla/5.0 (Windows NT 10.0; Win64; x64) AppleWebKit/537.36 (KHTML, like Gecko) Chrome/134.0.0.0 Safari/537.36 Trailer/93.3.8652.5\n",
      "[INFO] DESCRIPTION EMPTY (s0k_28)\n"
     ]
    },
    {
     "name": "stderr",
     "output_type": "stream",
     "text": [
      "Processing tasks:   3%|▎         | 81/2852 [35:22<17:59:01, 23.36s/it]"
     ]
    },
    {
     "name": "stdout",
     "output_type": "stream",
     "text": [
      "[1679550303] - DESCRIPTION OMITTED (OOS)\n",
      "[RETRY WRAPPER] (ATTEMPT 6 | timeout 20) - Using driver id: 140256794488720\n",
      "[INFO] NAVIGATING TO (timeout=20): https://www.ozon.ru/context/detail/id/217475629/\n",
      "[DEBUG] New driver session id: c9b93d0edc9b12dcfba0578c6f709e60 using profile: /tmp/chrome_profile_07b9480895c34a33b72c9f8e1ed0856c_1jd1ci7j\n",
      "[DEBUG] User Agent: Mozilla/5.0 (Windows NT 10.0; Win64; x64) AppleWebKit/537.36 (KHTML, like Gecko) Chrome/70.0.3538.102 Safari/537.36 Edge/18.1958\n",
      "[RETRY WRAPPER] (ATTEMPT 1 | timeout 20) - Using driver id: 140256799246832\n",
      "[INFO] NAVIGATING TO (timeout=20): https://www.ozon.ru/context/detail/id/1567001565/\n",
      "[INFO] DESCRIPTION DETECTED (k7y_28)\n"
     ]
    },
    {
     "name": "stderr",
     "output_type": "stream",
     "text": [
      "Processing tasks:   3%|▎         | 82/2852 [35:40<16:31:15, 21.47s/it]"
     ]
    },
    {
     "name": "stdout",
     "output_type": "stream",
     "text": [
      "[1567001565] - DESCRIPTION SUCCESS: Настенная карта города Самары, размер 107 х 157 см. (ширина ...\n",
      "[DEBUG] New driver session id: 924547cf4264d3699993290a2f891ac0 using profile: /tmp/chrome_profile_377a34a48bbf459ca1565faa04d75af2_tsf72z3x\n",
      "[DEBUG] User Agent: Mozilla/5.0 (Windows NT 10.0; Win64; x64) AppleWebKit/537.36 (KHTML, like Gecko) Chrome/132.0.0.0 Safari/537.36 OPR/117.0.0.\n",
      "[RETRY WRAPPER] (ATTEMPT 1 | timeout 20) - Using driver id: 140255595175216\n",
      "[INFO] NAVIGATING TO (timeout=20): https://www.ozon.ru/context/detail/id/1825856793/\n",
      "[RETRY WRAPPER] (ATTEMPT 1 | timeout 20) - AntiBotException detected: Reload button detected on https://www.ozon.ru/context/detail/id/1825856793/; page requires reloading.. Reinitializing driver.\n",
      "[RETRY WRAPPER] (ATTEMPT 6 | timeout 20) - Timeout. Increasing by 2\n",
      "[DEBUG] New driver session id: f80e4a1001814fb03828b50f8833b1ce using profile: /tmp/chrome_profile_19a8de12f5f144c18e4a1f9f03d70f90_2745vods\n",
      "[DEBUG] User Agent: Mozilla/5.0 (Windows NT 10.0; Win64; x64) AppleWebKit/537.36 (KHTML, like Gecko) Chrome/134.0.0.0 Safari/537.36 Trailer/93.3.8652.5\n",
      "[DEBUG] New driver session id: 84a81f825c51f043458e7054a9b72677 using profile: /tmp/chrome_profile_01096d3be4524a6e9eee5cfaca6e8514_83ahmf8i\n",
      "[DEBUG] User Agent: Mozilla/5.0 (Windows NT 10.0; Win64; x64) AppleWebKit/537.36 (KHTML, like Gecko) Chrome/134.0.0.0 Safari/537.36 Edg/134.0.0.\n",
      "[RETRY WRAPPER] (ATTEMPT 2 | timeout 20) - Using driver id: 140255452032688\n",
      "[INFO] NAVIGATING TO (timeout=20): https://www.ozon.ru/context/detail/id/1825856793/\n",
      "[RETRY WRAPPER] (ATTEMPT 7 | timeout 22) - Using driver id: 140255619118288\n",
      "[INFO] NAVIGATING TO (timeout=22): https://www.ozon.ru/context/detail/id/217475629/\n",
      "[RETRY WRAPPER] (ATTEMPT 2 | timeout 20) - AntiBotException detected: Reload button detected on https://www.ozon.ru/context/detail/id/1825856793/; page requires reloading.. Reinitializing driver.\n",
      "[DEBUG] New driver session id: 9b1182ee27dae4817cc9685f367be4d4 using profile: /tmp/chrome_profile_cee0096c9b3f421b8a39de4be6e118ab_ryv4r26h\n",
      "[DEBUG] User Agent: Mozilla/5.0 (Windows NT 10.0; Win64; x64) AppleWebKit/537.36 (KHTML, like Gecko) Chrome/132.0.0.0 Safari/537.36 OPR/117.0.0.\n",
      "[RETRY WRAPPER] (ATTEMPT 3 | timeout 20) - Using driver id: 140255452034480\n",
      "[INFO] NAVIGATING TO (timeout=20): https://www.ozon.ru/context/detail/id/1825856793/\n",
      "[INFO] DESCRIPTION DETECTED (k7y_28)\n"
     ]
    },
    {
     "name": "stderr",
     "output_type": "stream",
     "text": [
      "Processing tasks:   3%|▎         | 83/2852 [36:10<18:36:13, 24.19s/it]"
     ]
    },
    {
     "name": "stdout",
     "output_type": "stream",
     "text": [
      "[1825856793] - DESCRIPTION SUCCESS: Учебная топографическая карта У-34-37 (ЯСНОГОРСК)\n",
      "\n",
      "Масштаб 1...\n",
      "[RETRY WRAPPER] (ATTEMPT 7 | timeout 22) - Timeout. Increasing by 2\n",
      "[DEBUG] New driver session id: 3e51a77d9ad7aba560bc9ce957c77eae using profile: /tmp/chrome_profile_c846dcb54be64422bf47ec1564537b03_oi9avi9d\n",
      "[DEBUG] User Agent: Mozilla/5.0 (Windows NT 10.0; Win64; x64) AppleWebKit/537.36 (KHTML, like Gecko) Chrome/134.0.0.0 Safari/537.36 Edg/134.0.0.\n",
      "[RETRY WRAPPER] (ATTEMPT 1 | timeout 20) - Using driver id: 140255595179920\n",
      "[INFO] NAVIGATING TO (timeout=20): https://www.ozon.ru/context/detail/id/527145298/\n",
      "[DEBUG] New driver session id: 35e6d90875556ca76cfbee95f76fac1f using profile: /tmp/chrome_profile_ae4ebe499b23401286a432390d873bee_k0s54bgb\n",
      "[DEBUG] User Agent: Mozilla/5.0 (Windows NT 10.0; Win64; x64) AppleWebKit/537.36 (KHTML, like Gecko) Chrome/134.0.0.0 Safari/537.3\n",
      "[RETRY WRAPPER] (ATTEMPT 8 | timeout 24) - Using driver id: 140256800228528\n",
      "[INFO] NAVIGATING TO (timeout=24): https://www.ozon.ru/context/detail/id/217475629/\n",
      "[RETRY WRAPPER] (ATTEMPT 1 | timeout 20) - AntiBotException detected: Reload button detected on https://www.ozon.ru/context/detail/id/527145298/; page requires reloading.. Reinitializing driver.\n",
      "[DEBUG] New driver session id: 359eb7a518164bb90282f0813816cebc using profile: /tmp/chrome_profile_dd0e62bb837a4a5a982b67f94d3b448d_qryyt0qd\n",
      "[DEBUG] User Agent: Mozilla/5.0 (Windows NT 10.0; Win64; x64) AppleWebKit/537.36 (KHTML, like Gecko) Chrome/134.0.0.0 Safari/537.3\n",
      "[RETRY WRAPPER] (ATTEMPT 2 | timeout 20) - Using driver id: 140255594747440\n",
      "[INFO] NAVIGATING TO (timeout=20): https://www.ozon.ru/context/detail/id/527145298/\n",
      "[RETRY WRAPPER] (ATTEMPT 2 | timeout 20) - AntiBotException detected: Reload button detected on https://www.ozon.ru/context/detail/id/527145298/; page requires reloading.. Reinitializing driver.\n",
      "[DEBUG] New driver session id: 59892e13ca931abd6c09de3ba9b0f482 using profile: /tmp/chrome_profile_f545947c72f342ba846ebc13dbff7424_udd20_43\n",
      "[DEBUG] User Agent: Mozilla/5.0 (Windows NT 10.0; Win64; x64) AppleWebKit/537.36 (KHTML, like Gecko) Chrome/134.0.0.0 Safari/537.36 Edg/134.0.0.\n",
      "[RETRY WRAPPER] (ATTEMPT 3 | timeout 20) - Using driver id: 140255469907408\n",
      "[INFO] NAVIGATING TO (timeout=20): https://www.ozon.ru/context/detail/id/527145298/\n",
      "[RETRY WRAPPER] (ATTEMPT 3 | timeout 20) - AntiBotException detected: Reload button detected on https://www.ozon.ru/context/detail/id/527145298/; page requires reloading.. Reinitializing driver.\n",
      "[DEBUG] New driver session id: 61855295ccd0270ada8b1f02d5486a48 using profile: /tmp/chrome_profile_06bb5b0f4a644e578ac3fd64c7d66ed1_auuz1axj\n",
      "[DEBUG] User Agent: Mozilla/5.0 (Windows NT 10.0; Win64; x64) AppleWebKit/537.36 (KHTML, like Gecko) Chrome/134.0.0.0 Safari/537.36 Trailer/93.3.8652.5\n",
      "[RETRY WRAPPER] (ATTEMPT 4 | timeout 20) - Using driver id: 140255452031568\n",
      "[INFO] NAVIGATING TO (timeout=20): https://www.ozon.ru/context/detail/id/527145298/\n",
      "[RETRY WRAPPER] (ATTEMPT 8 | timeout 24) - Timeout. Increasing by 2\n",
      "[DEBUG] New driver session id: f422deeca8a8bcf4ccd813ed29d95d9a using profile: /tmp/chrome_profile_4c39b8dc74e14d1f8f857e05ba7e70ab_uwc5sq7f\n",
      "[DEBUG] User Agent: Mozilla/5.0 (Windows NT 10.0; Win64; x64) AppleWebKit/537.36 (KHTML, like Gecko) Chrome/134.0.0.0 Safari/537.36 Edg/134.0.0.\n",
      "[RETRY WRAPPER] (ATTEMPT 9 | timeout 26) - Using driver id: 140256794485808\n",
      "[INFO] NAVIGATING TO (timeout=26): https://www.ozon.ru/context/detail/id/217475629/\n",
      "[INFO] DESCRIPTION EMPTY (s0k_28)\n"
     ]
    },
    {
     "name": "stderr",
     "output_type": "stream",
     "text": [
      "Processing tasks:   3%|▎         | 84/2852 [36:48<21:40:04, 28.18s/it]"
     ]
    },
    {
     "name": "stdout",
     "output_type": "stream",
     "text": [
      "[527145298] - DESCRIPTION OMITTED (OOS)\n",
      "[DEBUG] New driver session id: bbb046a96731cadc42a13614672682da using profile: /tmp/chrome_profile_58cb1faea7c6473d8864dd1f98a092fc_302y_42f\n",
      "[DEBUG] User Agent: Mozilla/5.0 (Windows NT 10.0; Win64; x64) AppleWebKit/537.36 (KHTML, like Gecko) Chrome/134.0.0.0 Safari/537.36 Trailer/93.3.8652.5\n",
      "[RETRY WRAPPER] (ATTEMPT 1 | timeout 20) - Using driver id: 140255452023728\n",
      "[INFO] NAVIGATING TO (timeout=20): https://www.ozon.ru/context/detail/id/1681032195/\n",
      "[INFO] DESCRIPTION EMPTY (s0k_28)\n"
     ]
    },
    {
     "name": "stderr",
     "output_type": "stream",
     "text": [
      "Processing tasks:   3%|▎         | 85/2852 [37:05<19:10:46, 24.95s/it]"
     ]
    },
    {
     "name": "stdout",
     "output_type": "stream",
     "text": [
      "[1681032195] - DESCRIPTION OMITTED (OOS)\n",
      "[DEBUG] New driver session id: 693f7ede1e99f12b901f6186468f5516 using profile: /tmp/chrome_profile_0f395c2640194cd2842a0a873e3e82ae_863dl_aq\n",
      "[DEBUG] User Agent: Mozilla/5.0 (Windows NT 10.0; Win64; x64) AppleWebKit/537.36 (KHTML, like Gecko) Chrome/134.0.0.0 Safari/537.36 Edg/134.0.0.\n",
      "[RETRY WRAPPER] (ATTEMPT 1 | timeout 20) - Using driver id: 140255452021488\n",
      "[INFO] NAVIGATING TO (timeout=20): https://www.ozon.ru/context/detail/id/1600981539/\n",
      "[RETRY WRAPPER] (ATTEMPT 1 | timeout 20) - AntiBotException detected: Reload button detected on https://www.ozon.ru/context/detail/id/1600981539/; page requires reloading.. Reinitializing driver.\n",
      "[DEBUG] New driver session id: 156077ab6ed72291b97e1f055fea443f using profile: /tmp/chrome_profile_a62d90c6855442f9b16b6c6f86c98719_hy_nsluy\n",
      "[DEBUG] User Agent: Mozilla/5.0 (Windows NT 10.0; Win64; x64) AppleWebKit/537.36 (KHTML, like Gecko) Chrome/134.0.0.0 Safari/537.36 Trailer/93.3.8652.5\n",
      "[RETRY WRAPPER] (ATTEMPT 2 | timeout 20) - Using driver id: 140255585046320\n",
      "[INFO] NAVIGATING TO (timeout=20): https://www.ozon.ru/context/detail/id/1600981539/\n",
      "[RETRY WRAPPER] (ATTEMPT 9 | timeout 26) - Timeout. Increasing by 2\n",
      "[DEBUG] New driver session id: caad77875552720ac99ccffa0f72e7b7 using profile: /tmp/chrome_profile_f88f1b64c7b142e38f0874ff40d6dfc5_vw428fvk\n",
      "[DEBUG] User Agent: Mozilla/5.0 (Windows NT 10.0; Win64; x64) AppleWebKit/537.36 (KHTML, like Gecko) Chrome/134.0.0.0 Safari/537.3\n",
      "[RETRY WRAPPER] (ATTEMPT 10 | timeout 28) - Using driver id: 140256797932944\n",
      "[INFO] NAVIGATING TO (timeout=28): https://www.ozon.ru/context/detail/id/217475629/\n",
      "[RETRY WRAPPER] (ATTEMPT 2 | timeout 20) - Timeout. Increasing by 2\n",
      "[DEBUG] New driver session id: 486ec3d26c3b532a52c9b2e01d14f2a6 using profile: /tmp/chrome_profile_18edc42841f0449eb38afefa203bba62_gn_p09s2\n",
      "[DEBUG] User Agent: Mozilla/5.0 (Windows NT 10.0; Win64; x64) AppleWebKit/537.36 (KHTML, like Gecko) Chrome/70.0.3538.102 Safari/537.36 Edge/18.1958\n",
      "[RETRY WRAPPER] (ATTEMPT 3 | timeout 22) - Using driver id: 140255595174320\n",
      "[INFO] NAVIGATING TO (timeout=22): https://www.ozon.ru/context/detail/id/1600981539/\n",
      "[INFO] DESCRIPTION DETECTED (k7y_28)\n"
     ]
    },
    {
     "name": "stderr",
     "output_type": "stream",
     "text": [
      "Processing tasks:   3%|▎         | 86/2852 [37:52<24:18:44, 31.64s/it]"
     ]
    },
    {
     "name": "stdout",
     "output_type": "stream",
     "text": [
      "[1600981539] - DESCRIPTION SUCCESS: На карте показаны все виды транспорта России: автомобильный,...\n",
      "[DEBUG] New driver session id: 2d78a2a2c4d04c16a990c17d08aa3c93 using profile: /tmp/chrome_profile_d4859fad9ae84456b371c771f132cd25_ycacgmlw\n",
      "[DEBUG] User Agent: Mozilla/5.0 (Windows NT 10.0; Win64; x64) AppleWebKit/537.36 (KHTML, like Gecko) Chrome/134.0.0.0 Safari/537.3\n",
      "[RETRY WRAPPER] (ATTEMPT 1 | timeout 20) - Using driver id: 140255452034928\n",
      "[INFO] NAVIGATING TO (timeout=20): https://www.ozon.ru/context/detail/id/1672563802/\n",
      "[RETRY WRAPPER] (ATTEMPT 10 | timeout 28) - Timeout. Increasing by 2\n",
      "[DEBUG] New driver session id: fc27a3e2bb6555aef621df9f2e0f003a using profile: /tmp/chrome_profile_21a9f5217dd045d08d1f7a2a33f7d9d7_3kg4ym0a\n",
      "[DEBUG] User Agent: Mozilla/5.0 (Windows NT 10.0; Win64; x64) AppleWebKit/537.36 (KHTML, like Gecko) Chrome/134.0.0.0 Safari/537.36 Edg/134.0.0.\n"
     ]
    },
    {
     "name": "stderr",
     "output_type": "stream",
     "text": [
      "Processing tasks:   3%|▎         | 87/2852 [37:56<17:48:42, 23.19s/it]"
     ]
    },
    {
     "name": "stdout",
     "output_type": "stream",
     "text": [
      "[217475629] - ERROR TimeoutException PROCESSING ROW: Message: Max retries reached for https://www.ozon.ru/context/detail/id/217475629/\n",
      "\n",
      "[DEBUG] New driver session id: 2c37e3d65ddc79402d70d1a1097e977f using profile: /tmp/chrome_profile_78e5ad91e4304de9b22a257fa17a9400_1ohb_c39\n",
      "[DEBUG] User Agent: Mozilla/5.0 (Windows NT 10.0; Win64; x64) AppleWebKit/537.36 (KHTML, like Gecko) Chrome/134.0.0.0 Safari/537.3\n",
      "[RETRY WRAPPER] (ATTEMPT 1 | timeout 20) - Using driver id: 140256797928464\n",
      "[INFO] NAVIGATING TO (timeout=20): https://www.ozon.ru/context/detail/id/1743558896/\n",
      "[RETRY WRAPPER] (ATTEMPT 1 | timeout 20) - AntiBotException detected: Reload button detected on https://www.ozon.ru/context/detail/id/1743558896/; page requires reloading.. Reinitializing driver.\n",
      "[DEBUG] New driver session id: 9165fbc39cb0b302ac3727469f8e0e11 using profile: /tmp/chrome_profile_224661aa46ea4b22b9e98c723ec2b628_fjp4tb77\n",
      "[DEBUG] User Agent: Mozilla/5.0 (Windows NT 10.0; Win64; x64) AppleWebKit/537.36 (KHTML, like Gecko) Chrome/134.0.0.0 Safari/537.36 Trailer/93.3.8652.5\n",
      "[RETRY WRAPPER] (ATTEMPT 2 | timeout 20) - Using driver id: 140256800231888\n",
      "[INFO] NAVIGATING TO (timeout=20): https://www.ozon.ru/context/detail/id/1743558896/\n",
      "[RETRY WRAPPER] (ATTEMPT 1 | timeout 20) - Timeout. Increasing by 2\n",
      "[DEBUG] New driver session id: 7293b3f17955ca552645dff9ef3f4b11 using profile: /tmp/chrome_profile_eec32907c90c4f64a2477e5ef2aeb85d_ugz84fnr\n",
      "[DEBUG] User Agent: Mozilla/5.0 (Windows NT 10.0; Win64; x64) AppleWebKit/537.36 (KHTML, like Gecko) Chrome/132.0.0.0 Safari/537.36 OPR/117.0.0.\n",
      "[RETRY WRAPPER] (ATTEMPT 2 | timeout 22) - Using driver id: 140255469896432\n",
      "[INFO] NAVIGATING TO (timeout=22): https://www.ozon.ru/context/detail/id/1672563802/\n",
      "[INFO] DESCRIPTION DETECTED (k7y_28)\n"
     ]
    },
    {
     "name": "stderr",
     "output_type": "stream",
     "text": [
      "Processing tasks:   3%|▎         | 88/2852 [38:22<18:32:29, 24.15s/it]"
     ]
    },
    {
     "name": "stdout",
     "output_type": "stream",
     "text": [
      "[1743558896] - DESCRIPTION SUCCESS: Представляем вашему вниманию складную двухстороннюю карту: о...\n",
      "[DEBUG] New driver session id: 991df46b3a40c9de5a5adb96206b97d2 using profile: /tmp/chrome_profile_f5baef175db9475abfb0f7996e136521_amtq23hu\n",
      "[DEBUG] User Agent: Mozilla/5.0 (Windows NT 10.0; Win64; x64) AppleWebKit/537.36 (KHTML, like Gecko) Chrome/134.0.0.0 Safari/537.3\n",
      "[RETRY WRAPPER] (ATTEMPT 1 | timeout 20) - Using driver id: 140255619109328\n",
      "[INFO] NAVIGATING TO (timeout=20): https://www.ozon.ru/context/detail/id/572109173/\n",
      "[INFO] DESCRIPTION DETECTED (k7y_28)\n"
     ]
    },
    {
     "name": "stderr",
     "output_type": "stream",
     "text": [
      "Processing tasks:   3%|▎         | 89/2852 [38:39<16:57:31, 22.10s/it]"
     ]
    },
    {
     "name": "stdout",
     "output_type": "stream",
     "text": [
      "[1672563802] - DESCRIPTION SUCCESS: Заголовок\n",
      "Откройте необъятный мир всего в несколько шагов!\n",
      "\n",
      "...\n",
      "[DEBUG] New driver session id: a6d9dc5e0609a933217c07adc5c5cea8 using profile: /tmp/chrome_profile_3c2204a0e1cc45d3962e9e3f2c1518a3_77bitqtn\n",
      "[DEBUG] User Agent: Mozilla/5.0 (Windows NT 10.0; Win64; x64) AppleWebKit/537.36 (KHTML, like Gecko) Chrome/134.0.0.0 Safari/537.3\n",
      "[RETRY WRAPPER] (ATTEMPT 1 | timeout 20) - Using driver id: 140255469902704\n",
      "[INFO] NAVIGATING TO (timeout=20): https://www.ozon.ru/context/detail/id/1489883985/\n",
      "[INFO] DESCRIPTION DETECTED (k7y_28)\n"
     ]
    },
    {
     "name": "stderr",
     "output_type": "stream",
     "text": [
      "Exception in thread Http2SingleStreamLayer-13:\n",
      "Traceback (most recent call last):\n",
      "  File \u001b[35m\"/home/anton/micromamba/envs/clip-siamese/lib/python3.13/threading.py\"\u001b[0m, line \u001b[35m1041\u001b[0m, in \u001b[35m_bootstrap_inner\u001b[0m\n",
      "    \u001b[31mself.run\u001b[0m\u001b[1;31m()\u001b[0m\n",
      "    \u001b[31m~~~~~~~~\u001b[0m\u001b[1;31m^^\u001b[0m\n",
      "  File \u001b[35m\"/home/anton/micromamba/envs/clip-siamese/lib/python3.13/site-packages/seleniumwire/thirdparty/mitmproxy/server/protocol/http2.py\"\u001b[0m, line \u001b[35m719\u001b[0m, in \u001b[35mrun\u001b[0m\n",
      "    \u001b[31mlayer\u001b[0m\u001b[1;31m()\u001b[0m\n",
      "    \u001b[31m~~~~~\u001b[0m\u001b[1;31m^^\u001b[0m\n",
      "  File \u001b[35m\"/home/anton/micromamba/envs/clip-siamese/lib/python3.13/site-packages/seleniumwire/thirdparty/mitmproxy/server/protocol/http.py\"\u001b[0m, line \u001b[35m206\u001b[0m, in \u001b[35m__call__\u001b[0m\n",
      "    if not \u001b[31mself._process_flow\u001b[0m\u001b[1;31m(flow)\u001b[0m:\n",
      "           \u001b[31m~~~~~~~~~~~~~~~~~~\u001b[0m\u001b[1;31m^^^^^^\u001b[0m\n",
      "  File \u001b[35m\"/home/anton/micromamba/envs/clip-siamese/lib/python3.13/site-packages/seleniumwire/thirdparty/mitmproxy/server/protocol/http.py\"\u001b[0m, line \u001b[35m388\u001b[0m, in \u001b[35m_process_flow\u001b[0m\n",
      "    \u001b[31mget_response\u001b[0m\u001b[1;31m()\u001b[0m\n",
      "    \u001b[31m~~~~~~~~~~~~\u001b[0m\u001b[1;31m^^\u001b[0m\n",
      "  File \u001b[35m\"/home/anton/micromamba/envs/clip-siamese/lib/python3.13/site-packages/seleniumwire/thirdparty/mitmproxy/server/protocol/http.py\"\u001b[0m, line \u001b[35m373\u001b[0m, in \u001b[35mget_response\u001b[0m\n",
      "    \u001b[31mself.send_request_headers\u001b[0m\u001b[1;31m(f.request)\u001b[0m\n",
      "    \u001b[31m~~~~~~~~~~~~~~~~~~~~~~~~~\u001b[0m\u001b[1;31m^^^^^^^^^^^\u001b[0m\n",
      "  File \u001b[35m\"/home/anton/micromamba/envs/clip-siamese/lib/python3.13/site-packages/seleniumwire/thirdparty/mitmproxy/server/protocol/http2.py\"\u001b[0m, line \u001b[35m389\u001b[0m, in \u001b[35mwrapper\u001b[0m\n",
      "    result = func(self, *args, **kwargs)\n",
      "  File \u001b[35m\"/home/anton/micromamba/envs/clip-siamese/lib/python3.13/site-packages/seleniumwire/thirdparty/mitmproxy/server/protocol/http2.py\"\u001b[0m, line \u001b[35m562\u001b[0m, in \u001b[35msend_request_headers\u001b[0m\n",
      "    max_streams = \u001b[31mself.connections\u001b[0m\u001b[1;31m[self.server_conn]\u001b[0m.remote_settings.max_concurrent_streams\n",
      "                  \u001b[31m~~~~~~~~~~~~~~~~\u001b[0m\u001b[1;31m^^^^^^^^^^^^^^^^^^\u001b[0m\n",
      "\u001b[1;35mKeyError\u001b[0m: \u001b[35m<ServerConnection: xapi.ozon.ru:443>\u001b[0m\n",
      "Processing tasks:   3%|▎         | 90/2852 [38:42<12:27:32, 16.24s/it]"
     ]
    },
    {
     "name": "stdout",
     "output_type": "stream",
     "text": [
      "[572109173] - DESCRIPTION SUCCESS: Большая политико-административная карта России с новыми гран...\n",
      "[DEBUG] New driver session id: 7d074e0adda9ecca8e3e88c50c7388a7 using profile: /tmp/chrome_profile_8b5f0de832894062a87c41e027cd0e32_fj72dkqt\n",
      "[DEBUG] User Agent: Mozilla/5.0 (Windows NT 10.0; Win64; x64) AppleWebKit/537.36 (KHTML, like Gecko) Chrome/134.0.0.0 Safari/537.36 Edg/134.0.0.\n",
      "[RETRY WRAPPER] (ATTEMPT 1 | timeout 20) - Using driver id: 140256794483568\n",
      "[INFO] NAVIGATING TO (timeout=20): https://www.ozon.ru/context/detail/id/926003864/\n",
      "[RETRY WRAPPER] (ATTEMPT 1 | timeout 20) - AntiBotException detected: Reload button detected on https://www.ozon.ru/context/detail/id/1489883985/; page requires reloading.. Reinitializing driver.\n",
      "[DEBUG] New driver session id: e3e3cebf255f68f1e67419c49b004f73 using profile: /tmp/chrome_profile_5a884f0af58b45bb92058bed2a9a0067_yhgqdnd1\n",
      "[DEBUG] User Agent: Mozilla/5.0 (Windows NT 10.0; Win64; x64) AppleWebKit/537.36 (KHTML, like Gecko) Chrome/134.0.0.0 Safari/537.36 Edg/134.0.0.\n",
      "[RETRY WRAPPER] (ATTEMPT 2 | timeout 20) - Using driver id: 140255585053040\n",
      "[INFO] NAVIGATING TO (timeout=20): https://www.ozon.ru/context/detail/id/1489883985/\n",
      "[RETRY WRAPPER] (ATTEMPT 2 | timeout 20) - AntiBotException detected: Reload button detected on https://www.ozon.ru/context/detail/id/1489883985/; page requires reloading.. Reinitializing driver.\n",
      "[DEBUG] New driver session id: 278b4dded3f878bd73b5c3fb17ebbe52 using profile: /tmp/chrome_profile_698e6518e23b44ce8280853a26c443c9_t3cyv9xs\n",
      "[DEBUG] User Agent: Mozilla/5.0 (Windows NT 10.0; Win64; x64) AppleWebKit/537.36 (KHTML, like Gecko) Chrome/132.0.0.0 Safari/537.36 OPR/117.0.0.\n",
      "[RETRY WRAPPER] (ATTEMPT 3 | timeout 20) - Using driver id: 140255595172080\n",
      "[INFO] NAVIGATING TO (timeout=20): https://www.ozon.ru/context/detail/id/1489883985/\n",
      "[RETRY WRAPPER] (ATTEMPT 1 | timeout 20) - Timeout. Increasing by 2\n",
      "[DEBUG] New driver session id: 239a27c2466c8cc8bac1963f88b72796 using profile: /tmp/chrome_profile_48eb8f6121114869a794dcaba4deee8d_oboc8_e7\n",
      "[DEBUG] User Agent: Mozilla/5.0 (Windows NT 10.0; Win64; x64) AppleWebKit/537.36 (KHTML, like Gecko) Chrome/134.0.0.0 Safari/537.36 Edg/134.0.0.\n",
      "[RETRY WRAPPER] (ATTEMPT 2 | timeout 22) - Using driver id: 140256793521840\n",
      "[INFO] NAVIGATING TO (timeout=22): https://www.ozon.ru/context/detail/id/926003864/\n",
      "[INFO] DESCRIPTION DETECTED (k7y_28)\n"
     ]
    },
    {
     "name": "stderr",
     "output_type": "stream",
     "text": [
      "Processing tasks:   3%|▎         | 91/2852 [39:11<15:25:39, 20.12s/it]"
     ]
    },
    {
     "name": "stdout",
     "output_type": "stream",
     "text": [
      "[1489883985] - DESCRIPTION SUCCESS: Учебное пособие необходимое для знакомства с военной топогра...\n",
      "[RETRY WRAPPER] (ATTEMPT 2 | timeout 22) - AntiBotException detected: Reload button detected on https://www.ozon.ru/context/detail/id/926003864/; page requires reloading.. Reinitializing driver.\n",
      "[DEBUG] New driver session id: bfea5fb3fa4e5126b15bc0e735ed9431 using profile: /tmp/chrome_profile_7caad5fe25564b4796a2e15494e8a553_p_rrk6b8\n",
      "[DEBUG] User Agent: Mozilla/5.0 (Windows NT 10.0; Win64; x64) AppleWebKit/537.36 (KHTML, like Gecko) Chrome/132.0.0.0 Safari/537.36 OPR/117.0.0.\n",
      "[RETRY WRAPPER] (ATTEMPT 1 | timeout 20) - Using driver id: 140255469909872\n",
      "[INFO] NAVIGATING TO (timeout=20): https://www.ozon.ru/context/detail/id/1497224885/\n",
      "[DEBUG] New driver session id: 0f984ba157058851b3eb3cea9569b29b using profile: /tmp/chrome_profile_f60736b210574fce81d7e7ee349b7021_h1z3rs2l\n",
      "[DEBUG] User Agent: Mozilla/5.0 (Windows NT 10.0; Win64; x64) AppleWebKit/537.36 (KHTML, like Gecko) Chrome/134.0.0.0 Safari/537.36 Trailer/93.3.8652.5\n",
      "[RETRY WRAPPER] (ATTEMPT 3 | timeout 20) - Using driver id: 140255619112016\n",
      "[INFO] NAVIGATING TO (timeout=20): https://www.ozon.ru/context/detail/id/926003864/\n",
      "[RETRY WRAPPER] (ATTEMPT 1 | timeout 20) - AntiBotException detected: Reload button detected on https://www.ozon.ru/context/detail/id/1497224885/; page requires reloading.. Reinitializing driver.\n",
      "[DEBUG] New driver session id: b6d5102a16c0baa00647fbcf1e850674 using profile: /tmp/chrome_profile_4ce4c07176254aa8a3b7006ef2b17265_bhjtxx8s\n",
      "[DEBUG] User Agent: Mozilla/5.0 (Windows NT 10.0; Win64; x64) AppleWebKit/537.36 (KHTML, like Gecko) Chrome/134.0.0.0 Safari/537.3\n",
      "[RETRY WRAPPER] (ATTEMPT 2 | timeout 20) - Using driver id: 140255595182608\n",
      "[INFO] NAVIGATING TO (timeout=20): https://www.ozon.ru/context/detail/id/1497224885/\n",
      "[RETRY WRAPPER] (ATTEMPT 3 | timeout 20) - AntiBotException detected: Reload button detected on https://www.ozon.ru/context/detail/id/926003864/; page requires reloading.. Reinitializing driver.\n",
      "[DEBUG] New driver session id: a782bc8d7b4843caec26fb142f9c9723 using profile: /tmp/chrome_profile_ed36dac6546047bb90c2785a5f87bc0e_qoxnpnc9\n",
      "[DEBUG] User Agent: Mozilla/5.0 (Windows NT 10.0; Win64; x64) AppleWebKit/537.36 (KHTML, like Gecko) Chrome/70.0.3538.102 Safari/537.36 Edge/18.1958\n",
      "[RETRY WRAPPER] (ATTEMPT 4 | timeout 20) - Using driver id: 140255595520176\n",
      "[INFO] NAVIGATING TO (timeout=20): https://www.ozon.ru/context/detail/id/926003864/\n",
      "[INFO] DESCRIPTION EMPTY (s0k_28)\n"
     ]
    },
    {
     "name": "stderr",
     "output_type": "stream",
     "text": [
      "Processing tasks:   3%|▎         | 92/2852 [39:39<17:09:58, 22.39s/it]"
     ]
    },
    {
     "name": "stdout",
     "output_type": "stream",
     "text": [
      "[926003864] - DESCRIPTION OMITTED (OOS)\n",
      "[INFO] DESCRIPTION DETECTED (k7y_28)\n"
     ]
    },
    {
     "name": "stderr",
     "output_type": "stream",
     "text": [
      "Processing tasks:   3%|▎         | 93/2852 [39:40<12:18:29, 16.06s/it]"
     ]
    },
    {
     "name": "stdout",
     "output_type": "stream",
     "text": [
      "[DEBUG] New driver session id: 2fc7b17b8a21045ea80cf1aa1335ef4a using profile: /tmp/chrome_profile_5e10ed2522ce42a4b0c83953132448cf_wciymm8t\n",
      "[DEBUG] User Agent: Mozilla/5.0 (Windows NT 10.0; Win64; x64) AppleWebKit/537.36 (KHTML, like Gecko) Chrome/134.0.0.0 Safari/537.36 Trailer/93.3.8652.5\n",
      "[RETRY WRAPPER] (ATTEMPT 1 | timeout 20) - Using driver id: 140255595516368\n",
      "[INFO] NAVIGATING TO (timeout=20): https://www.ozon.ru/context/detail/id/1223932663/\n",
      "[1497224885] - DESCRIPTION SUCCESS: На карте РФ отражено политическое деление государства: субъе...\n",
      "[DEBUG] New driver session id: ee85d791b0e0349d651433f7e6980940 using profile: /tmp/chrome_profile_f316fc84f9be4f9399eb45f6078b473d_wluns843\n",
      "[DEBUG] User Agent: Mozilla/5.0 (Windows NT 10.0; Win64; x64) AppleWebKit/537.36 (KHTML, like Gecko) Chrome/134.0.0.0 Safari/537.36 Edg/134.0.0.\n",
      "[RETRY WRAPPER] (ATTEMPT 1 | timeout 20) - Using driver id: 140255452027088\n",
      "[INFO] NAVIGATING TO (timeout=20): https://www.ozon.ru/context/detail/id/1638623954/\n",
      "[RETRY WRAPPER] (ATTEMPT 1 | timeout 20) - AntiBotException detected: Reload button detected on https://www.ozon.ru/context/detail/id/1638623954/; page requires reloading.. Reinitializing driver.\n",
      "[DEBUG] New driver session id: faf7e741b383622a090dfb7ca247ef2a using profile: /tmp/chrome_profile_1942f274e6ec4a229a79b0535c5cc646_oxigrtrf\n",
      "[DEBUG] User Agent: Mozilla/5.0 (Windows NT 10.0; Win64; x64) AppleWebKit/537.36 (KHTML, like Gecko) Chrome/134.0.0.0 Safari/537.36 Trailer/93.3.8652.5\n",
      "[RETRY WRAPPER] (ATTEMPT 2 | timeout 20) - Using driver id: 140255452022608\n",
      "[INFO] NAVIGATING TO (timeout=20): https://www.ozon.ru/context/detail/id/1638623954/\n",
      "[INFO] DESCRIPTION DETECTED (k7y_28)\n"
     ]
    },
    {
     "name": "stderr",
     "output_type": "stream",
     "text": [
      "Processing tasks:   3%|▎         | 94/2852 [39:59<12:55:35, 16.87s/it]"
     ]
    },
    {
     "name": "stdout",
     "output_type": "stream",
     "text": [
      "[1223932663] - DESCRIPTION SUCCESS: Карта звёздного неба с созвездиями размером 100х63 см - это ...\n",
      "[DEBUG] New driver session id: c0687aefd7a8ff635e1a3af1620f9b8a using profile: /tmp/chrome_profile_38a8450f796f472bafe2b68202b26b99_si08knb1\n",
      "[DEBUG] User Agent: Mozilla/5.0 (Windows NT 10.0; Win64; x64) AppleWebKit/537.36 (KHTML, like Gecko) Chrome/134.0.0.0 Safari/537.3\n",
      "[RETRY WRAPPER] (ATTEMPT 1 | timeout 20) - Using driver id: 140255594648464\n",
      "[INFO] NAVIGATING TO (timeout=20): https://www.ozon.ru/context/detail/id/1294181688/\n",
      "[RETRY WRAPPER] (ATTEMPT 1 | timeout 20) - AntiBotException detected: Reload button detected on https://www.ozon.ru/context/detail/id/1294181688/; page requires reloading.. Reinitializing driver.\n",
      "[INFO] DESCRIPTION DETECTED (k7y_28)\n"
     ]
    },
    {
     "name": "stderr",
     "output_type": "stream",
     "text": [
      "Processing tasks:   3%|▎         | 95/2852 [40:07<10:52:31, 14.20s/it]:\n",
      "Traceback (most recent call last):\n",
      "  File \u001b[35m\"/home/anton/micromamba/envs/clip-siamese/lib/python3.13/threading.py\"\u001b[0m, line \u001b[35m1041\u001b[0m, in \u001b[35m_bootstrap_inner\u001b[0m\n",
      "    \u001b[31mself.run\u001b[0m\u001b[1;31m()\u001b[0m\n",
      "    \u001b[31m~~~~~~~~\u001b[0m\u001b[1;31m^^\u001b[0m\n",
      "  File \u001b[35m\"/home/anton/micromamba/envs/clip-siamese/lib/python3.13/site-packages/seleniumwire/thirdparty/mitmproxy/server/protocol/http2.py\"\u001b[0m, line \u001b[35m719\u001b[0m, in \u001b[35mrun\u001b[0m\n",
      "    \u001b[31mlayer\u001b[0m\u001b[1;31m()\u001b[0m\n",
      "    \u001b[31m~~~~~\u001b[0m\u001b[1;31m^^\u001b[0m\n",
      "  File \u001b[35m\"/home/anton/micromamba/envs/clip-siamese/lib/python3.13/site-packages/seleniumwire/thirdparty/mitmproxy/server/protocol/http.py\"\u001b[0m, line \u001b[35m206\u001b[0m, in \u001b[35m__call__\u001b[0m\n",
      "    if not \u001b[31mself._process_flow\u001b[0m\u001b[1;31m(flow)\u001b[0m:\n",
      "           \u001b[31m~~~~~~~~~~~~~~~~~~\u001b[0m\u001b[1;31m^^^^^^\u001b[0m\n",
      "  File \u001b[35m\"/home/anton/micromamba/envs/clip-siamese/lib/python3.13/site-packages/seleniumwire/thirdparty/mitmproxy/server/protocol/http.py\"\u001b[0m, line \u001b[35m388\u001b[0m, in \u001b[35m_process_flow\u001b[0m\n",
      "    \u001b[31mget_response\u001b[0m\u001b[1;31m()\u001b[0m\n",
      "    \u001b[31m~~~~~~~~~~~~\u001b[0m\u001b[1;31m^^\u001b[0m\n",
      "  File \u001b[35m\"/home/anton/micromamba/envs/clip-siamese/lib/python3.13/site-packages/seleniumwire/thirdparty/mitmproxy/server/protocol/http.py\"\u001b[0m, line \u001b[35m373\u001b[0m, in \u001b[35mget_response\u001b[0m\n",
      "    \u001b[31mself.send_request_headers\u001b[0m\u001b[1;31m(f.request)\u001b[0m\n",
      "    \u001b[31m~~~~~~~~~~~~~~~~~~~~~~~~~\u001b[0m\u001b[1;31m^^^^^^^^^^^\u001b[0m\n",
      "  File \u001b[35m\"/home/anton/micromamba/envs/clip-siamese/lib/python3.13/site-packages/seleniumwire/thirdparty/mitmproxy/server/protocol/http2.py\"\u001b[0m, line \u001b[35m389\u001b[0m, in \u001b[35mwrapper\u001b[0m\n",
      "    result = func(self, *args, **kwargs)\n",
      "  File \u001b[35m\"/home/anton/micromamba/envs/clip-siamese/lib/python3.13/site-packages/seleniumwire/thirdparty/mitmproxy/server/protocol/http2.py\"\u001b[0m, line \u001b[35m562\u001b[0m, in \u001b[35msend_request_headers\u001b[0m\n",
      "    max_streams = \u001b[31mself.connections\u001b[0m\u001b[1;31m[self.server_conn]\u001b[0m.remote_settings.max_concurrent_streams\n",
      "                  \u001b[31m~~~~~~~~~~~~~~~~\u001b[0m\u001b[1;31m^^^^^^^^^^^^^^^^^^\u001b[0m\n",
      "\u001b[1;35mKeyError\u001b[0m: \u001b[35m<ServerConnection: xapi.ozon.ru:443>\u001b[0m\n"
     ]
    },
    {
     "name": "stdout",
     "output_type": "stream",
     "text": [
      "[1638623954] - DESCRIPTION SUCCESS: Настенная географическая карта Африки. \n",
      "\n",
      "Размер 125х107 см\n",
      "\n",
      "...\n",
      "[DEBUG] New driver session id: 1aa67cfa005e081c3af586df6cf10022 using profile: /tmp/chrome_profile_062e18875666409b95a024a9d548bfb9_u9hnboye\n",
      "[DEBUG] User Agent: Mozilla/5.0 (Windows NT 10.0; Win64; x64) AppleWebKit/537.36 (KHTML, like Gecko) Chrome/134.0.0.0 Safari/537.36 Trailer/93.3.8652.5\n",
      "[DEBUG] New driver session id: 4c9de3a6e08c7896b0134baf6194f5f7 using profile: /tmp/chrome_profile_a1e5907583294740b12ae6c6a4a2b2b9_pbmrijum\n",
      "[DEBUG] User Agent: Mozilla/5.0 (Windows NT 10.0; Win64; x64) AppleWebKit/537.36 (KHTML, like Gecko) Chrome/132.0.0.0 Safari/537.36 OPR/117.0.0.\n",
      "[RETRY WRAPPER] (ATTEMPT 1 | timeout 20) - Using driver id: 140255594743632\n",
      "[INFO] NAVIGATING TO (timeout=20): https://www.ozon.ru/context/detail/id/488978650/\n",
      "[RETRY WRAPPER] (ATTEMPT 2 | timeout 20) - Using driver id: 140255594648912\n",
      "[INFO] NAVIGATING TO (timeout=20): https://www.ozon.ru/context/detail/id/1294181688/\n",
      "[RETRY WRAPPER] (ATTEMPT 1 | timeout 20) - Timeout. Increasing by 2\n",
      "[RETRY WRAPPER] (ATTEMPT 2 | timeout 20) - Timeout. Increasing by 2\n",
      "[DEBUG] New driver session id: 9b3a474df1a23049886088c40fa3f93d using profile: /tmp/chrome_profile_6c4f8b158d7c47ca98fb5b160cd77ddf_x3jj6tm4\n",
      "[DEBUG] User Agent: Mozilla/5.0 (Windows NT 10.0; Win64; x64) AppleWebKit/537.36 (KHTML, like Gecko) Chrome/134.0.0.0 Safari/537.36 Edg/134.0.0.\n",
      "[DEBUG] New driver session id: 5e4cc84733656f43b5b132d553a2600c using profile: /tmp/chrome_profile_1c28d0b84d0f435dac9498d5f71f6e2f_kk5pr0_t\n",
      "[DEBUG] User Agent: Mozilla/5.0 (Windows NT 10.0; Win64; x64) AppleWebKit/537.36 (KHTML, like Gecko) Chrome/70.0.3538.102 Safari/537.36 Edge/18.1958\n",
      "[RETRY WRAPPER] (ATTEMPT 2 | timeout 22) - Using driver id: 140255585050576\n",
      "[INFO] NAVIGATING TO (timeout=22): https://www.ozon.ru/context/detail/id/488978650/\n",
      "[RETRY WRAPPER] (ATTEMPT 3 | timeout 22) - Using driver id: 140255595524656\n",
      "[INFO] NAVIGATING TO (timeout=22): https://www.ozon.ru/context/detail/id/1294181688/\n",
      "[RETRY WRAPPER] (ATTEMPT 3 | timeout 22) - AntiBotException detected: Reload button detected on https://www.ozon.ru/context/detail/id/1294181688/; page requires reloading.. Reinitializing driver.\n",
      "[DEBUG] New driver session id: 5f9f1aa6182e65845d71dd34ebc2e0f9 using profile: /tmp/chrome_profile_23ea271d470a443dab09273bca8ad615_9hznri03\n",
      "[DEBUG] User Agent: Mozilla/5.0 (Windows NT 10.0; Win64; x64) AppleWebKit/537.36 (KHTML, like Gecko) Chrome/134.0.0.0 Safari/537.3\n",
      "[RETRY WRAPPER] (ATTEMPT 4 | timeout 20) - Using driver id: 140256800230320\n",
      "[INFO] NAVIGATING TO (timeout=20): https://www.ozon.ru/context/detail/id/1294181688/\n",
      "[INFO] DESCRIPTION DETECTED (k7y_28)\n"
     ]
    },
    {
     "name": "stderr",
     "output_type": "stream",
     "text": [
      "Processing tasks:   3%|▎         | 96/2852 [40:54<18:20:48, 23.97s/it]"
     ]
    },
    {
     "name": "stdout",
     "output_type": "stream",
     "text": [
      "[488978650] - DESCRIPTION SUCCESS: На складной двухсторонней карте размером 580х470 мм звёздное...\n",
      "[DEBUG] New driver session id: 98b49983dd961d7a99697d0d30869796 using profile: /tmp/chrome_profile_a89cb98d6c2a40d38edc6684d5b25ae8_k8lhhqre\n",
      "[DEBUG] User Agent: Mozilla/5.0 (Windows NT 10.0; Win64; x64) AppleWebKit/537.36 (KHTML, like Gecko) Chrome/134.0.0.0 Safari/537.36 Edg/134.0.0.\n",
      "[RETRY WRAPPER] (ATTEMPT 1 | timeout 20) - Using driver id: 140255595171856\n",
      "[INFO] NAVIGATING TO (timeout=20): https://www.ozon.ru/context/detail/id/1079913513/\n",
      "[RETRY WRAPPER] (ATTEMPT 4 | timeout 20) - Timeout. Increasing by 2\n",
      "[DEBUG] New driver session id: 17c2de41d9b0e926a63b29d8d87983f1 using profile: /tmp/chrome_profile_0850a620a15d460b954fea9ad66e0cbd_ptbx75p2\n",
      "[DEBUG] User Agent: Mozilla/5.0 (Windows NT 10.0; Win64; x64) AppleWebKit/537.36 (KHTML, like Gecko) Chrome/134.0.0.0 Safari/537.36 Trailer/93.3.8652.5\n",
      "[RETRY WRAPPER] (ATTEMPT 5 | timeout 22) - Using driver id: 140256800236368\n",
      "[INFO] NAVIGATING TO (timeout=22): https://www.ozon.ru/context/detail/id/1294181688/\n",
      "[INFO] DESCRIPTION DETECTED (k7y_28)\n"
     ]
    },
    {
     "name": "stderr",
     "output_type": "stream",
     "text": [
      "Processing tasks:   3%|▎         | 97/2852 [41:14<17:27:22, 22.81s/it]"
     ]
    },
    {
     "name": "stdout",
     "output_type": "stream",
     "text": [
      "[1079913513] - DESCRIPTION SUCCESS: Мир. Карта политическая и физическая, двусторонняя, ламиниро...\n",
      "[DEBUG] New driver session id: 6ea63c5e0a2b918d14981ae25a7ce2db using profile: /tmp/chrome_profile_4ad923b6b5a841d899234efa2b6bf197_f0lz9zx0\n",
      "[DEBUG] User Agent: Mozilla/5.0 (Windows NT 10.0; Win64; x64) AppleWebKit/537.36 (KHTML, like Gecko) Chrome/132.0.0.0 Safari/537.36 OPR/117.0.0.\n",
      "[RETRY WRAPPER] (ATTEMPT 1 | timeout 20) - Using driver id: 140255585042736\n",
      "[INFO] NAVIGATING TO (timeout=20): https://www.ozon.ru/context/detail/id/1600969688/\n",
      "[RETRY WRAPPER] (ATTEMPT 5 | timeout 22) - Timeout. Increasing by 2\n",
      "[DEBUG] New driver session id: 69ed6214f6c30e5c210b0489c35d5401 using profile: /tmp/chrome_profile_55ff74d6793443cbaba4c2ed6bbbf545_5d18lr4s\n",
      "[DEBUG] User Agent: Mozilla/5.0 (Windows NT 10.0; Win64; x64) AppleWebKit/537.36 (KHTML, like Gecko) Chrome/132.0.0.0 Safari/537.36 OPR/117.0.0.\n",
      "[RETRY WRAPPER] (ATTEMPT 6 | timeout 24) - Using driver id: 140256800230992\n",
      "[INFO] NAVIGATING TO (timeout=24): https://www.ozon.ru/context/detail/id/1294181688/\n",
      "[INFO] DESCRIPTION DETECTED (k7y_28)\n"
     ]
    },
    {
     "name": "stderr",
     "output_type": "stream",
     "text": [
      "Processing tasks:   3%|▎         | 98/2852 [41:33<16:39:07, 21.77s/it]"
     ]
    },
    {
     "name": "stdout",
     "output_type": "stream",
     "text": [
      "[1600969688] - DESCRIPTION SUCCESS: Настенная физическая карта России на мелованном картоне. Цве...\n",
      "[DEBUG] New driver session id: c9480eee96237b2f8d083a83f3520c50 using profile: /tmp/chrome_profile_2785bc15430b401aae6b68c6cca9c61a_llclrsqb\n",
      "[DEBUG] User Agent: Mozilla/5.0 (Windows NT 10.0; Win64; x64) AppleWebKit/537.36 (KHTML, like Gecko) Chrome/134.0.0.0 Safari/537.36 Trailer/93.3.8652.5\n",
      "[RETRY WRAPPER] (ATTEMPT 1 | timeout 20) - Using driver id: 140255585046768\n",
      "[INFO] NAVIGATING TO (timeout=20): https://www.ozon.ru/context/detail/id/1711547819/\n",
      "[RETRY WRAPPER] (ATTEMPT 6 | timeout 24) - AntiBotException detected: Reload button detected on https://www.ozon.ru/context/detail/id/1294181688/; page requires reloading.. Reinitializing driver.\n",
      "[DEBUG] New driver session id: 678df663152fdd0f1dbb9df9d95bf09e using profile: /tmp/chrome_profile_815c425fa55f4bac9e46f123626b2578_1anbhayj\n",
      "[DEBUG] User Agent: Mozilla/5.0 (Windows NT 10.0; Win64; x64) AppleWebKit/537.36 (KHTML, like Gecko) Chrome/70.0.3538.102 Safari/537.36 Edge/18.1958\n",
      "[RETRY WRAPPER] (ATTEMPT 7 | timeout 20) - Using driver id: 140255619111792\n",
      "[INFO] NAVIGATING TO (timeout=20): https://www.ozon.ru/context/detail/id/1294181688/\n",
      "[INFO] DESCRIPTION DETECTED (k7y_28)\n"
     ]
    },
    {
     "name": "stderr",
     "output_type": "stream",
     "text": [
      "Processing tasks:   3%|▎         | 99/2852 [41:43<13:55:42, 18.21s/it]"
     ]
    },
    {
     "name": "stdout",
     "output_type": "stream",
     "text": [
      "[1711547819] - DESCRIPTION SUCCESS: Складная карта Москвы и Московской области\n",
      "Уникальная складн...\n",
      "[DEBUG] New driver session id: 5d93f258241764c047ea35e5b7e170d4 using profile: /tmp/chrome_profile_0083fe8b84e64edcb4e50bdfcf176abb_2wzaj0se\n",
      "[DEBUG] User Agent: Mozilla/5.0 (Windows NT 10.0; Win64; x64) AppleWebKit/537.36 (KHTML, like Gecko) Chrome/134.0.0.0 Safari/537.36 Edg/134.0.0.\n",
      "[RETRY WRAPPER] (ATTEMPT 1 | timeout 20) - Using driver id: 140255595170288\n",
      "[INFO] NAVIGATING TO (timeout=20): https://www.ozon.ru/context/detail/id/1758667426/\n",
      "[INFO] OUT-OF-STOCK INDICATOR DETECTED. IGNORING\n"
     ]
    },
    {
     "name": "stderr",
     "output_type": "stream",
     "text": [
      "Processing tasks:   4%|▎         | 100/2852 [41:52<11:51:34, 15.51s/it]"
     ]
    },
    {
     "name": "stdout",
     "output_type": "stream",
     "text": [
      "[1758667426] - DESCRIPTION OMITTED (OOS)\n",
      "[DEBUG] New driver session id: 0bd83c5c9b6ed186bf084d5e5fb1f724 using profile: /tmp/chrome_profile_a5704ca804ff4ad5937c25cdc0b2dedb_yicwve91\n",
      "[DEBUG] User Agent: Mozilla/5.0 (Windows NT 10.0; Win64; x64) AppleWebKit/537.36 (KHTML, like Gecko) Chrome/134.0.0.0 Safari/537.36 Edg/134.0.0.\n",
      "[RETRY WRAPPER] (ATTEMPT 1 | timeout 20) - Using driver id: 140255579964144\n",
      "[INFO] NAVIGATING TO (timeout=20): https://www.ozon.ru/context/detail/id/1462178332/\n",
      "[RETRY WRAPPER] (ATTEMPT 7 | timeout 20) - Timeout. Increasing by 2\n",
      "[DEBUG] New driver session id: bb3b44319c7b27bbf6ea5b4eae8ddb11 using profile: /tmp/chrome_profile_8780b70cb2c544de8259f5b360be89c5__jwq9yxs\n",
      "[DEBUG] User Agent: Mozilla/5.0 (Windows NT 10.0; Win64; x64) AppleWebKit/537.36 (KHTML, like Gecko) Chrome/134.0.0.0 Safari/537.3\n",
      "[RETRY WRAPPER] (ATTEMPT 8 | timeout 22) - Using driver id: 140256800243312\n",
      "[INFO] NAVIGATING TO (timeout=22): https://www.ozon.ru/context/detail/id/1294181688/\n",
      "[INFO] DESCRIPTION EMPTY (s0k_28)\n"
     ]
    },
    {
     "name": "stderr",
     "output_type": "stream",
     "text": [
      "Processing tasks:   4%|▎         | 101/2852 [42:01<10:17:33, 13.47s/it]"
     ]
    },
    {
     "name": "stdout",
     "output_type": "stream",
     "text": [
      "[1462178332] - DESCRIPTION OMITTED (OOS)\n",
      "[DEBUG] New driver session id: 234eba1cb8dec00d0a47c2f339443096 using profile: /tmp/chrome_profile_3ac397298e0b477f94894f9ab1ae087d_tg48hxo_\n",
      "[DEBUG] User Agent: Mozilla/5.0 (Windows NT 10.0; Win64; x64) AppleWebKit/537.36 (KHTML, like Gecko) Chrome/134.0.0.0 Safari/537.36 Trailer/93.3.8652.5\n",
      "[RETRY WRAPPER] (ATTEMPT 1 | timeout 20) - Using driver id: 140256798623344\n",
      "[INFO] NAVIGATING TO (timeout=20): https://www.ozon.ru/context/detail/id/851295373/\n",
      "[INFO] DESCRIPTION EMPTY (s0k_28)\n"
     ]
    },
    {
     "name": "stderr",
     "output_type": "stream",
     "text": [
      "Processing tasks:   4%|▎         | 102/2852 [42:09<8:59:34, 11.77s/it] "
     ]
    },
    {
     "name": "stdout",
     "output_type": "stream",
     "text": [
      "[851295373] - DESCRIPTION OMITTED (OOS)\n",
      "[DEBUG] New driver session id: f169178a9a044c5656c62b4f4df309a7 using profile: /tmp/chrome_profile_8856572fe33b446b809b67c8195ede4a_81ffug6l\n",
      "[DEBUG] User Agent: Mozilla/5.0 (Windows NT 10.0; Win64; x64) AppleWebKit/537.36 (KHTML, like Gecko) Chrome/134.0.0.0 Safari/537.36 Edg/134.0.0.\n",
      "[RETRY WRAPPER] (ATTEMPT 1 | timeout 20) - Using driver id: 140256798622000\n",
      "[INFO] NAVIGATING TO (timeout=20): https://www.ozon.ru/context/detail/id/1712934697/\n",
      "[INFO] OUT-OF-STOCK INDICATOR DETECTED. IGNORING\n"
     ]
    },
    {
     "name": "stderr",
     "output_type": "stream",
     "text": [
      "Processing tasks:   4%|▎         | 103/2852 [42:18<8:26:15, 11.05s/it]"
     ]
    },
    {
     "name": "stdout",
     "output_type": "stream",
     "text": [
      "[1712934697] - DESCRIPTION OMITTED (OOS)\n",
      "[DEBUG] New driver session id: bd8197a6656fdc807293f1239f13d28a using profile: /tmp/chrome_profile_da286496d294498faad87a5a1cd70bee_wyio58tb\n",
      "[DEBUG] User Agent: Mozilla/5.0 (Windows NT 10.0; Win64; x64) AppleWebKit/537.36 (KHTML, like Gecko) Chrome/134.0.0.0 Safari/537.3\n",
      "[RETRY WRAPPER] (ATTEMPT 1 | timeout 20) - Using driver id: 140255452029776\n",
      "[INFO] NAVIGATING TO (timeout=20): https://www.ozon.ru/context/detail/id/1098195593/\n",
      "[RETRY WRAPPER] (ATTEMPT 8 | timeout 22) - Timeout. Increasing by 2\n",
      "[DEBUG] New driver session id: 50355de17326e964a6269056e0df60f0 using profile: /tmp/chrome_profile_83da25b5029e4ecaadbdee9db588da3d_dzapl0q1\n",
      "[DEBUG] User Agent: Mozilla/5.0 (Windows NT 10.0; Win64; x64) AppleWebKit/537.36 (KHTML, like Gecko) Chrome/132.0.0.0 Safari/537.36 OPR/117.0.0.\n",
      "[RETRY WRAPPER] (ATTEMPT 9 | timeout 24) - Using driver id: 140255594661488\n",
      "[INFO] NAVIGATING TO (timeout=24): https://www.ozon.ru/context/detail/id/1294181688/\n",
      "[INFO] DESCRIPTION DETECTED (k7y_28)\n"
     ]
    },
    {
     "name": "stderr",
     "output_type": "stream",
     "text": [
      "Processing tasks:   4%|▎         | 104/2852 [42:28<8:15:06, 10.81s/it]"
     ]
    },
    {
     "name": "stdout",
     "output_type": "stream",
     "text": [
      "[1098195593] - DESCRIPTION SUCCESS: Новинка июля 2023 года! \n",
      "\n",
      "Карта большого формата 155 х 115 с...\n",
      "[DEBUG] New driver session id: bdd1a98e1cbf6d572fe2c62e525403b7 using profile: /tmp/chrome_profile_2b9f7c09097a4d4ca240747000be87db_p5g_82w5\n",
      "[DEBUG] User Agent: Mozilla/5.0 (Windows NT 10.0; Win64; x64) AppleWebKit/537.36 (KHTML, like Gecko) Chrome/134.0.0.0 Safari/537.3\n",
      "[RETRY WRAPPER] (ATTEMPT 1 | timeout 20) - Using driver id: 140255452035376\n",
      "[INFO] NAVIGATING TO (timeout=20): https://www.ozon.ru/context/detail/id/1294181996/\n",
      "[RETRY WRAPPER] (ATTEMPT 1 | timeout 20) - Timeout. Increasing by 2\n",
      "[RETRY WRAPPER] (ATTEMPT 9 | timeout 24) - Timeout. Increasing by 2\n",
      "[DEBUG] New driver session id: 33829d303b78051fa2413aa58340940a using profile: /tmp/chrome_profile_30b16a5a690844a8abb87423691cee88_c3ta4qw_\n",
      "[DEBUG] User Agent: Mozilla/5.0 (Windows NT 10.0; Win64; x64) AppleWebKit/537.36 (KHTML, like Gecko) Chrome/70.0.3538.102 Safari/537.36 Edge/18.1958\n",
      "[RETRY WRAPPER] (ATTEMPT 2 | timeout 22) - Using driver id: 140255619118736\n",
      "[INFO] NAVIGATING TO (timeout=22): https://www.ozon.ru/context/detail/id/1294181996/\n",
      "[DEBUG] New driver session id: 10f9e436252b647076993eb0df069343 using profile: /tmp/chrome_profile_3eff436c4413495480f1b042fa938821_tpnd0ayr\n",
      "[DEBUG] User Agent: Mozilla/5.0 (Windows NT 10.0; Win64; x64) AppleWebKit/537.36 (KHTML, like Gecko) Chrome/134.0.0.0 Safari/537.3\n",
      "[RETRY WRAPPER] (ATTEMPT 10 | timeout 26) - Using driver id: 140255595521968\n",
      "[INFO] NAVIGATING TO (timeout=26): https://www.ozon.ru/context/detail/id/1294181688/\n",
      "[RETRY WRAPPER] (ATTEMPT 2 | timeout 22) - Timeout. Increasing by 2\n",
      "[DEBUG] New driver session id: 00fa4c9ab604abbf723e64bbcde1ac1a using profile: /tmp/chrome_profile_278e8670834e4c839a1d7f399b3db80f_0i0d_4mh\n",
      "[DEBUG] User Agent: Mozilla/5.0 (Windows NT 10.0; Win64; x64) AppleWebKit/537.36 (KHTML, like Gecko) Chrome/134.0.0.0 Safari/537.36 Edg/134.0.0.\n",
      "[RETRY WRAPPER] (ATTEMPT 3 | timeout 24) - Using driver id: 140255585053040\n",
      "[INFO] NAVIGATING TO (timeout=24): https://www.ozon.ru/context/detail/id/1294181996/\n",
      "[RETRY WRAPPER] (ATTEMPT 10 | timeout 26) - Timeout. Increasing by 2\n",
      "[DEBUG] New driver session id: e9fcf9f895689e9ff00b556394807ec0 using profile: /tmp/chrome_profile_0422467e24e94588b762e9bee4db87b3_zzsdq844\n",
      "[DEBUG] User Agent: Mozilla/5.0 (Windows NT 10.0; Win64; x64) AppleWebKit/537.36 (KHTML, like Gecko) Chrome/132.0.0.0 Safari/537.36 OPR/117.0.0.\n"
     ]
    },
    {
     "name": "stderr",
     "output_type": "stream",
     "text": [
      "Processing tasks:   4%|▎         | 105/2852 [43:23<18:19:30, 24.02s/it]"
     ]
    },
    {
     "name": "stdout",
     "output_type": "stream",
     "text": [
      "[1294181688] - ERROR TimeoutException PROCESSING ROW: Message: Max retries reached for https://www.ozon.ru/context/detail/id/1294181688/\n",
      "\n",
      "[DEBUG] New driver session id: 8cfdb77c243d08e83fb55a7b2d7d185d using profile: /tmp/chrome_profile_d0ec210e3afc447aabe0d3d9e21f28ef_aqxq6raa\n",
      "[DEBUG] User Agent: Mozilla/5.0 (Windows NT 10.0; Win64; x64) AppleWebKit/537.36 (KHTML, like Gecko) Chrome/134.0.0.0 Safari/537.3\n",
      "[RETRY WRAPPER] (ATTEMPT 1 | timeout 20) - Using driver id: 140255595515024\n",
      "[INFO] NAVIGATING TO (timeout=20): https://www.ozon.ru/context/detail/id/1548100981/\n",
      "[INFO] DESCRIPTION DETECTED (k7y_28)\n"
     ]
    },
    {
     "name": "stderr",
     "output_type": "stream",
     "text": [
      "Processing tasks:   4%|▎         | 106/2852 [43:40<16:34:18, 21.73s/it]"
     ]
    },
    {
     "name": "stdout",
     "output_type": "stream",
     "text": [
      "[1548100981] - DESCRIPTION SUCCESS: Карта Донецкой и Луганской народных республик, масштаб 1:450...\n",
      "[DEBUG] New driver session id: 653280608a0362edfcc3da82ce3a5c74 using profile: /tmp/chrome_profile_5f01adf70e0947adb3b4eb354e40a359_n1vykktx\n",
      "[DEBUG] User Agent: Mozilla/5.0 (Windows NT 10.0; Win64; x64) AppleWebKit/537.36 (KHTML, like Gecko) Chrome/134.0.0.0 Safari/537.36 Trailer/93.3.8652.5\n",
      "[RETRY WRAPPER] (ATTEMPT 1 | timeout 20) - Using driver id: 140256793516240\n",
      "[INFO] NAVIGATING TO (timeout=20): https://www.ozon.ru/context/detail/id/1406174525/\n",
      "[RETRY WRAPPER] (ATTEMPT 3 | timeout 24) - Timeout. Increasing by 2\n",
      "[DEBUG] New driver session id: 25c613a6d7e8cde35ce1444fbe8cd7e8 using profile: /tmp/chrome_profile_da9f0fd9658641218df16c7eb516c45b_srcsfa9x\n",
      "[DEBUG] User Agent: Mozilla/5.0 (Windows NT 10.0; Win64; x64) AppleWebKit/537.36 (KHTML, like Gecko) Chrome/134.0.0.0 Safari/537.36 Trailer/93.3.8652.5\n",
      "[RETRY WRAPPER] (ATTEMPT 4 | timeout 26) - Using driver id: 140255619112688\n",
      "[INFO] NAVIGATING TO (timeout=26): https://www.ozon.ru/context/detail/id/1294181996/\n",
      "[RETRY WRAPPER] (ATTEMPT 4 | timeout 26) - AntiBotException detected: Reload button detected on https://www.ozon.ru/context/detail/id/1294181996/; page requires reloading.. Reinitializing driver.\n",
      "[DEBUG] New driver session id: ecee053f84ce606941589dbe32b415cf using profile: /tmp/chrome_profile_20557056b7c342dd8a790a311da54ae8_ptl58_6a\n",
      "[DEBUG] User Agent: Mozilla/5.0 (Windows NT 10.0; Win64; x64) AppleWebKit/537.36 (KHTML, like Gecko) Chrome/132.0.0.0 Safari/537.36 OPR/117.0.0.\n",
      "[RETRY WRAPPER] (ATTEMPT 5 | timeout 20) - Using driver id: 140255595172080\n",
      "[INFO] NAVIGATING TO (timeout=20): https://www.ozon.ru/context/detail/id/1294181996/\n",
      "[INFO] DESCRIPTION DETECTED (k7y_28)\n"
     ]
    },
    {
     "name": "stderr",
     "output_type": "stream",
     "text": [
      "Processing tasks:   4%|▍         | 107/2852 [44:00<16:16:33, 21.35s/it]"
     ]
    },
    {
     "name": "stdout",
     "output_type": "stream",
     "text": [
      "[1406174525] - DESCRIPTION SUCCESS: Настенная политическая карта Мира в старинном стиле на одном...\n",
      "[DEBUG] New driver session id: 899eb7116660d5cc069c4de26f8b95c8 using profile: /tmp/chrome_profile_5579824c097f46dabfd8f4851397fd6f_281atzzq\n",
      "[DEBUG] User Agent: Mozilla/5.0 (Windows NT 10.0; Win64; x64) AppleWebKit/537.36 (KHTML, like Gecko) Chrome/134.0.0.0 Safari/537.3\n",
      "[RETRY WRAPPER] (ATTEMPT 1 | timeout 20) - Using driver id: 140255594668208\n",
      "[INFO] NAVIGATING TO (timeout=20): https://www.ozon.ru/context/detail/id/1312166106/\n",
      "[RETRY WRAPPER] (ATTEMPT 5 | timeout 20) - Timeout. Increasing by 2\n",
      "[DEBUG] New driver session id: e482f3cadfb102145e8aab3c32cd0825 using profile: /tmp/chrome_profile_4dbbdfa265ed45a09b17b67ba2827491_75h7sp9j\n",
      "[DEBUG] User Agent: Mozilla/5.0 (Windows NT 10.0; Win64; x64) AppleWebKit/537.36 (KHTML, like Gecko) Chrome/134.0.0.0 Safari/537.36 Trailer/93.3.8652.5\n",
      "[RETRY WRAPPER] (ATTEMPT 6 | timeout 22) - Using driver id: 140255585049232\n",
      "[INFO] NAVIGATING TO (timeout=22): https://www.ozon.ru/context/detail/id/1294181996/\n",
      "[RETRY WRAPPER] (ATTEMPT 6 | timeout 22) - AntiBotException detected: Reload button detected on https://www.ozon.ru/context/detail/id/1294181996/; page requires reloading.. Reinitializing driver.\n",
      "[DEBUG] New driver session id: 9521188b979a51648d2467912a6cb222 using profile: /tmp/chrome_profile_df14b6ad46d84a1d8942cc40e5dccff6_yp9ysqne\n",
      "[DEBUG] User Agent: Mozilla/5.0 (Windows NT 10.0; Win64; x64) AppleWebKit/537.36 (KHTML, like Gecko) Chrome/134.0.0.0 Safari/537.36 Edg/134.0.0.\n",
      "[RETRY WRAPPER] (ATTEMPT 7 | timeout 20) - Using driver id: 140255585054160\n",
      "[INFO] NAVIGATING TO (timeout=20): https://www.ozon.ru/context/detail/id/1294181996/\n",
      "[RETRY WRAPPER] (ATTEMPT 1 | timeout 20) - Timeout. Increasing by 2\n",
      "[DEBUG] New driver session id: aec3aa95925f31991a783b8e80789db3 using profile: /tmp/chrome_profile_0fba7dc368b14ffa9465bf79af0873c0_1lseqmgr\n",
      "[DEBUG] User Agent: Mozilla/5.0 (Windows NT 10.0; Win64; x64) AppleWebKit/537.36 (KHTML, like Gecko) Chrome/132.0.0.0 Safari/537.36 OPR/117.0.0.\n",
      "[RETRY WRAPPER] (ATTEMPT 2 | timeout 22) - Using driver id: 140255594649360\n",
      "[INFO] NAVIGATING TO (timeout=22): https://www.ozon.ru/context/detail/id/1312166106/\n",
      "[RETRY WRAPPER] (ATTEMPT 7 | timeout 20) - Timeout. Increasing by 2\n",
      "[DEBUG] New driver session id: 6f9260dd924e0b28778b5de86a21f5f7 using profile: /tmp/chrome_profile_bae0629f814648d9abb819926ad38fad_2f457q62\n",
      "[DEBUG] User Agent: Mozilla/5.0 (Windows NT 10.0; Win64; x64) AppleWebKit/537.36 (KHTML, like Gecko) Chrome/132.0.0.0 Safari/537.36 OPR/117.0.0.\n",
      "[RETRY WRAPPER] (ATTEMPT 8 | timeout 22) - Using driver id: 140255452032016\n",
      "[INFO] NAVIGATING TO (timeout=22): https://www.ozon.ru/context/detail/id/1294181996/\n",
      "[RETRY WRAPPER] (ATTEMPT 2 | timeout 22) - Timeout. Increasing by 2\n",
      "[DEBUG] New driver session id: 1a8e4faf2aca8d674030960c78ecb8ac using profile: /tmp/chrome_profile_124f50f0c02045eab7ea76e9aad3e53c_y7y2lo6f\n",
      "[DEBUG] User Agent: Mozilla/5.0 (Windows NT 10.0; Win64; x64) AppleWebKit/537.36 (KHTML, like Gecko) Chrome/134.0.0.0 Safari/537.36 Trailer/93.3.8652.5\n",
      "[RETRY WRAPPER] (ATTEMPT 8 | timeout 22) - AntiBotException detected: Reload button detected on https://www.ozon.ru/context/detail/id/1294181996/; page requires reloading.. Reinitializing driver.\n",
      "[RETRY WRAPPER] (ATTEMPT 3 | timeout 24) - Using driver id: 140256794488720\n",
      "[INFO] NAVIGATING TO (timeout=24): https://www.ozon.ru/context/detail/id/1312166106/\n",
      "[DEBUG] New driver session id: 81ea40b7762a01d12a8de56f70372380 using profile: /tmp/chrome_profile_e97ba9b2f5ad49eb96a7ff7ba282e138_rgf9k1xf\n",
      "[DEBUG] User Agent: Mozilla/5.0 (Windows NT 10.0; Win64; x64) AppleWebKit/537.36 (KHTML, like Gecko) Chrome/70.0.3538.102 Safari/537.36 Edge/18.1958\n",
      "[RETRY WRAPPER] (ATTEMPT 9 | timeout 20) - Using driver id: 140255452176560\n",
      "[INFO] NAVIGATING TO (timeout=20): https://www.ozon.ru/context/detail/id/1294181996/\n",
      "[RETRY WRAPPER] (ATTEMPT 9 | timeout 20) - Timeout. Increasing by 2\n",
      "[DEBUG] New driver session id: 2c19ad62fdd3931146798adb2dede105 using profile: /tmp/chrome_profile_507767af3f8146c08d8e84fccd41c216_kxsh9x2_\n",
      "[DEBUG] User Agent: Mozilla/5.0 (Windows NT 10.0; Win64; x64) AppleWebKit/537.36 (KHTML, like Gecko) Chrome/70.0.3538.102 Safari/537.36 Edge/18.1958\n",
      "[RETRY WRAPPER] (ATTEMPT 3 | timeout 24) - Timeout. Increasing by 2\n",
      "[RETRY WRAPPER] (ATTEMPT 10 | timeout 22) - Using driver id: 140255595167824\n",
      "[INFO] NAVIGATING TO (timeout=22): https://www.ozon.ru/context/detail/id/1294181996/\n",
      "[DEBUG] New driver session id: e93f2778645f8afe4f5668412e1fe894 using profile: /tmp/chrome_profile_8b24ddda76a14918aa83bc04d0a6d994_25myln1n\n",
      "[DEBUG] User Agent: Mozilla/5.0 (Windows NT 10.0; Win64; x64) AppleWebKit/537.36 (KHTML, like Gecko) Chrome/134.0.0.0 Safari/537.3\n",
      "[RETRY WRAPPER] (ATTEMPT 4 | timeout 26) - Using driver id: 140256793515568\n",
      "[INFO] NAVIGATING TO (timeout=26): https://www.ozon.ru/context/detail/id/1312166106/\n",
      "[RETRY WRAPPER] (ATTEMPT 10 | timeout 22) - Timeout. Increasing by 2\n",
      "[DEBUG] New driver session id: 6befb5538eb6b549980b1662ba6a6096 using profile: /tmp/chrome_profile_0ddcaeb30c8b4ae8a639fe0781430dac_vtbyde5c\n",
      "[DEBUG] User Agent: Mozilla/5.0 (Windows NT 10.0; Win64; x64) AppleWebKit/537.36 (KHTML, like Gecko) Chrome/132.0.0.0 Safari/537.36 OPR/117.0.0.\n"
     ]
    },
    {
     "name": "stderr",
     "output_type": "stream",
     "text": [
      "Processing tasks:   4%|▍         | 108/2852 [45:45<35:17:41, 46.31s/it]"
     ]
    },
    {
     "name": "stdout",
     "output_type": "stream",
     "text": [
      "[1294181996] - ERROR TimeoutException PROCESSING ROW: Message: Max retries reached for https://www.ozon.ru/context/detail/id/1294181996/\n",
      "\n",
      "[DEBUG] New driver session id: 98ccfa4f2bba441866fafb9c79ed6f9e using profile: /tmp/chrome_profile_f861d507b42b4ac9b96285e85303010b_0t_7vufm\n",
      "[DEBUG] User Agent: Mozilla/5.0 (Windows NT 10.0; Win64; x64) AppleWebKit/537.36 (KHTML, like Gecko) Chrome/134.0.0.0 Safari/537.36 Edg/134.0.0.\n",
      "[RETRY WRAPPER] (ATTEMPT 1 | timeout 20) - Using driver id: 140255469908976\n",
      "[INFO] NAVIGATING TO (timeout=20): https://www.ozon.ru/context/detail/id/178800177/\n",
      "[RETRY WRAPPER] (ATTEMPT 4 | timeout 26) - Timeout. Increasing by 2\n",
      "[RETRY WRAPPER] (ATTEMPT 1 | timeout 20) - AntiBotException detected: Reload button detected on https://www.ozon.ru/context/detail/id/178800177/; page requires reloading.. Reinitializing driver.\n",
      "[DEBUG] New driver session id: e4952b0d4569be4f83ece19fbc913c0f using profile: /tmp/chrome_profile_b1a1042f7bbc4734b1010dfacdc784fa_sxeplt2q\n",
      "[DEBUG] User Agent: Mozilla/5.0 (Windows NT 10.0; Win64; x64) AppleWebKit/537.36 (KHTML, like Gecko) Chrome/70.0.3538.102 Safari/537.36 Edge/18.1958\n",
      "[DEBUG] New driver session id: 9f0a59e09c57797290db57aa79726770 using profile: /tmp/chrome_profile_3abf97b7233648eebf63355d60a021ae_xd8l9vdr\n",
      "[DEBUG] User Agent: Mozilla/5.0 (Windows NT 10.0; Win64; x64) AppleWebKit/537.36 (KHTML, like Gecko) Chrome/134.0.0.0 Safari/537.36 Trailer/93.3.8652.5\n",
      "[RETRY WRAPPER] (ATTEMPT 5 | timeout 28) - Using driver id: 140256667277968\n",
      "[INFO] NAVIGATING TO (timeout=28): https://www.ozon.ru/context/detail/id/1312166106/\n",
      "[RETRY WRAPPER] (ATTEMPT 2 | timeout 20) - Using driver id: 140255619111568\n",
      "[INFO] NAVIGATING TO (timeout=20): https://www.ozon.ru/context/detail/id/178800177/\n",
      "[RETRY WRAPPER] (ATTEMPT 2 | timeout 20) - AntiBotException detected: Reload button detected on https://www.ozon.ru/context/detail/id/178800177/; page requires reloading.. Reinitializing driver.\n",
      "[DEBUG] New driver session id: cc1af6524bc22fefccb697131dc958e0 using profile: /tmp/chrome_profile_bc6583ac58b549ad98fda50124e80e67_jfkt3ryk\n",
      "[DEBUG] User Agent: Mozilla/5.0 (Windows NT 10.0; Win64; x64) AppleWebKit/537.36 (KHTML, like Gecko) Chrome/132.0.0.0 Safari/537.36 OPR/117.0.0.\n",
      "[RETRY WRAPPER] (ATTEMPT 3 | timeout 20) - Using driver id: 140255585046768\n",
      "[INFO] NAVIGATING TO (timeout=20): https://www.ozon.ru/context/detail/id/178800177/\n",
      "[RETRY WRAPPER] (ATTEMPT 3 | timeout 20) - AntiBotException detected: Reload button detected on https://www.ozon.ru/context/detail/id/178800177/; page requires reloading.. Reinitializing driver.\n",
      "[DEBUG] New driver session id: f5694a77f4e5925ff4d45a47c05c95c1 using profile: /tmp/chrome_profile_867855d163374b6fa2e9613be9f2a632_343yyrm_\n",
      "[DEBUG] User Agent: Mozilla/5.0 (Windows NT 10.0; Win64; x64) AppleWebKit/537.36 (KHTML, like Gecko) Chrome/70.0.3538.102 Safari/537.36 Edge/18.1958\n",
      "[RETRY WRAPPER] (ATTEMPT 4 | timeout 20) - Using driver id: 140255619111344\n",
      "[INFO] NAVIGATING TO (timeout=20): https://www.ozon.ru/context/detail/id/178800177/\n",
      "[RETRY WRAPPER] (ATTEMPT 4 | timeout 20) - AntiBotException detected: Reload button detected on https://www.ozon.ru/context/detail/id/178800177/; page requires reloading.. Reinitializing driver.\n",
      "[DEBUG] New driver session id: ed6e90520886ec82568cc4cacc0b04e8 using profile: /tmp/chrome_profile_bf535c06232248c6aef13bb71fa86b6d_z_9kwmd3\n",
      "[DEBUG] User Agent: Mozilla/5.0 (Windows NT 10.0; Win64; x64) AppleWebKit/537.36 (KHTML, like Gecko) Chrome/134.0.0.0 Safari/537.36 Trailer/93.3.8652.5\n",
      "[RETRY WRAPPER] (ATTEMPT 5 | timeout 20) - Using driver id: 140255452034480\n",
      "[INFO] NAVIGATING TO (timeout=20): https://www.ozon.ru/context/detail/id/178800177/\n",
      "[RETRY WRAPPER] (ATTEMPT 5 | timeout 28) - Timeout. Increasing by 2\n",
      "[DEBUG] New driver session id: 5d1f4508e80c88d8fc521a3f84897684 using profile: /tmp/chrome_profile_0cfbbb04f63e4f04812049e36ea12e44_gbxypqyz\n",
      "[DEBUG] User Agent: Mozilla/5.0 (Windows NT 10.0; Win64; x64) AppleWebKit/537.36 (KHTML, like Gecko) Chrome/134.0.0.0 Safari/537.36 Trailer/93.3.8652.5\n",
      "[RETRY WRAPPER] (ATTEMPT 6 | timeout 30) - Using driver id: 140256794481328\n",
      "[INFO] NAVIGATING TO (timeout=30): https://www.ozon.ru/context/detail/id/1312166106/\n",
      "[INFO] DESCRIPTION DETECTED (k7y_28)\n"
     ]
    },
    {
     "name": "stderr",
     "output_type": "stream",
     "text": [
      "Processing tasks:   4%|▍         | 109/2852 [46:29<34:45:18, 45.61s/it]"
     ]
    },
    {
     "name": "stdout",
     "output_type": "stream",
     "text": [
      "[178800177] - DESCRIPTION SUCCESS: Настенная скретч-карта мира со стирающимся слоем - это удиви...\n",
      "[DEBUG] New driver session id: 7cdb2e54e5601305ea8ffe8c450c2792 using profile: /tmp/chrome_profile_d0fbcacc2c324e8aa7ee28bce170deee_08uae9os\n",
      "[DEBUG] User Agent: Mozilla/5.0 (Windows NT 10.0; Win64; x64) AppleWebKit/537.36 (KHTML, like Gecko) Chrome/70.0.3538.102 Safari/537.36 Edge/18.1958\n",
      "[RETRY WRAPPER] (ATTEMPT 1 | timeout 20) - Using driver id: 140255595172752\n",
      "[INFO] NAVIGATING TO (timeout=20): https://www.ozon.ru/context/detail/id/857108036/\n",
      "[RETRY WRAPPER] (ATTEMPT 1 | timeout 20) - AntiBotException detected: Reload button detected on https://www.ozon.ru/context/detail/id/857108036/; page requires reloading.. Reinitializing driver.\n",
      "[DEBUG] New driver session id: 0dbcc4f9ae4141777e603ee2b22b0f0c using profile: /tmp/chrome_profile_adbc3c7bc7bd4cbdadbd2d495bf4b7ad_8ogjq737\n",
      "[DEBUG] User Agent: Mozilla/5.0 (Windows NT 10.0; Win64; x64) AppleWebKit/537.36 (KHTML, like Gecko) Chrome/132.0.0.0 Safari/537.36 OPR/117.0.0.\n",
      "[RETRY WRAPPER] (ATTEMPT 2 | timeout 20) - Using driver id: 140255469901136\n",
      "[INFO] NAVIGATING TO (timeout=20): https://www.ozon.ru/context/detail/id/857108036/\n",
      "[RETRY WRAPPER] (ATTEMPT 2 | timeout 20) - AntiBotException detected: Reload button detected on https://www.ozon.ru/context/detail/id/857108036/; page requires reloading.. Reinitializing driver.\n",
      "[DEBUG] New driver session id: 964b6ded2fca7969fb6d2cdff3f0461f using profile: /tmp/chrome_profile_d67e1cebcfba43bbb93a5b75aeeeaea3_cbmle3oa\n",
      "[DEBUG] User Agent: Mozilla/5.0 (Windows NT 10.0; Win64; x64) AppleWebKit/537.36 (KHTML, like Gecko) Chrome/132.0.0.0 Safari/537.36 OPR/117.0.0.\n",
      "[RETRY WRAPPER] (ATTEMPT 3 | timeout 20) - Using driver id: 140255469905392\n",
      "[INFO] NAVIGATING TO (timeout=20): https://www.ozon.ru/context/detail/id/857108036/\n",
      "[RETRY WRAPPER] (ATTEMPT 6 | timeout 30) - Timeout. Increasing by 2\n",
      "[DEBUG] New driver session id: 30c04a157817db61b67afb693eae7ef3 using profile: /tmp/chrome_profile_59594ceef969427288518d8f78f3fa64_pe6u11vc\n",
      "[DEBUG] User Agent: Mozilla/5.0 (Windows NT 10.0; Win64; x64) AppleWebKit/537.36 (KHTML, like Gecko) Chrome/134.0.0.0 Safari/537.3\n",
      "[RETRY WRAPPER] (ATTEMPT 7 | timeout 32) - Using driver id: 140256793521616\n",
      "[INFO] NAVIGATING TO (timeout=32): https://www.ozon.ru/context/detail/id/1312166106/\n",
      "[INFO] DESCRIPTION DETECTED (k7y_28)\n"
     ]
    },
    {
     "name": "stderr",
     "output_type": "stream",
     "text": [
      "Processing tasks:   4%|▍         | 110/2852 [47:02<31:58:51, 41.99s/it]"
     ]
    },
    {
     "name": "stdout",
     "output_type": "stream",
     "text": [
      "[857108036] - DESCRIPTION SUCCESS: Карта Ленинградская область-иллюстрированная, складная. В ра...\n",
      "[RETRY WRAPPER] (ATTEMPT 7 | timeout 32) - AntiBotException detected: Reload button detected on https://www.ozon.ru/context/detail/id/1312166106/; page requires reloading.. Reinitializing driver.\n",
      "[DEBUG] New driver session id: 043559da4421c1b892f81322c7ef3d3b using profile: /tmp/chrome_profile_47b40a1436cf47ff9818f18b34c2b331_88gjwwj7\n",
      "[DEBUG] User Agent: Mozilla/5.0 (Windows NT 10.0; Win64; x64) AppleWebKit/537.36 (KHTML, like Gecko) Chrome/132.0.0.0 Safari/537.36 OPR/117.0.0.\n",
      "[RETRY WRAPPER] (ATTEMPT 1 | timeout 20) - Using driver id: 140255585051696\n",
      "[INFO] NAVIGATING TO (timeout=20): https://www.ozon.ru/context/detail/id/945062673/\n",
      "[DEBUG] New driver session id: 71bf08c0df94219b58267383d4c3caf4 using profile: /tmp/chrome_profile_d4de3e1962a44bad86f3a906a60014c5_5b_fal7_\n",
      "[DEBUG] User Agent: Mozilla/5.0 (Windows NT 10.0; Win64; x64) AppleWebKit/537.36 (KHTML, like Gecko) Chrome/134.0.0.0 Safari/537.36 Edg/134.0.0.\n",
      "[RETRY WRAPPER] (ATTEMPT 8 | timeout 20) - Using driver id: 140256793521840\n",
      "[INFO] NAVIGATING TO (timeout=20): https://www.ozon.ru/context/detail/id/1312166106/\n",
      "[RETRY WRAPPER] (ATTEMPT 8 | timeout 20) - AntiBotException detected: Reload button detected on https://www.ozon.ru/context/detail/id/1312166106/; page requires reloading.. Reinitializing driver.\n",
      "[DEBUG] New driver session id: d28c739ad7b24d07c9e01acc5b62ae46 using profile: /tmp/chrome_profile_df4eb9c52ceb47e88d859c91e74fdc85_2z4x9y8e\n",
      "[DEBUG] User Agent: Mozilla/5.0 (Windows NT 10.0; Win64; x64) AppleWebKit/537.36 (KHTML, like Gecko) Chrome/134.0.0.0 Safari/537.36 Trailer/93.3.8652.5\n",
      "[RETRY WRAPPER] (ATTEMPT 9 | timeout 20) - Using driver id: 140256667284912\n",
      "[INFO] NAVIGATING TO (timeout=20): https://www.ozon.ru/context/detail/id/1312166106/\n",
      "[RETRY WRAPPER] (ATTEMPT 9 | timeout 20) - AntiBotException detected: Reload button detected on https://www.ozon.ru/context/detail/id/1312166106/; page requires reloading.. Reinitializing driver.\n",
      "[DEBUG] New driver session id: 7f76eece05a3012f8f7d79929816e4b4 using profile: /tmp/chrome_profile_e9c0edfeeb0d41f78bdfa9fa25dadbf6_ehy1_dfo\n",
      "[DEBUG] User Agent: Mozilla/5.0 (Windows NT 10.0; Win64; x64) AppleWebKit/537.36 (KHTML, like Gecko) Chrome/134.0.0.0 Safari/537.36 Edg/134.0.0.\n",
      "[RETRY WRAPPER] (ATTEMPT 10 | timeout 20) - Using driver id: 140256793690864\n",
      "[INFO] NAVIGATING TO (timeout=20): https://www.ozon.ru/context/detail/id/1312166106/\n",
      "[RETRY WRAPPER] (ATTEMPT 10 | timeout 20) - AntiBotException detected: Reload button detected on https://www.ozon.ru/context/detail/id/1312166106/; page requires reloading.. Reinitializing driver.\n",
      "[DEBUG] New driver session id: e9c3e74805f166a0085523d2325f40e6 using profile: /tmp/chrome_profile_288ea11be384493b9c79f1cc040c732f_6wbrfsfi\n",
      "[DEBUG] User Agent: Mozilla/5.0 (Windows NT 10.0; Win64; x64) AppleWebKit/537.36 (KHTML, like Gecko) Chrome/134.0.0.0 Safari/537.36 Edg/134.0.0.\n"
     ]
    },
    {
     "name": "stderr",
     "output_type": "stream",
     "text": [
      "Processing tasks:   4%|▍         | 111/2852 [47:23<27:13:32, 35.76s/it]"
     ]
    },
    {
     "name": "stdout",
     "output_type": "stream",
     "text": [
      "[INFO] DESCRIPTION DETECTED (k7y_28)\n",
      "[1312166106] - ERROR TimeoutException PROCESSING ROW: Message: Max retries reached for https://www.ozon.ru/context/detail/id/1312166106/\n",
      "\n"
     ]
    },
    {
     "name": "stderr",
     "output_type": "stream",
     "text": [
      "Processing tasks:   4%|▍         | 112/2852 [47:24<19:08:56, 25.16s/it]"
     ]
    },
    {
     "name": "stdout",
     "output_type": "stream",
     "text": [
      "[945062673] - DESCRIPTION SUCCESS: Двухсторонняя складная карта удобного формата. На одной стор...\n",
      "[DEBUG] New driver session id: 49790e5d84d96dbc3a42ac682b96e747 using profile: /tmp/chrome_profile_97d8adefb2b34c31ac54a5757fb66fa1_32aetm80\n",
      "[DEBUG] User Agent: Mozilla/5.0 (Windows NT 10.0; Win64; x64) AppleWebKit/537.36 (KHTML, like Gecko) Chrome/134.0.0.0 Safari/537.3\n",
      "[RETRY WRAPPER] (ATTEMPT 1 | timeout 20) - Using driver id: 140256793515120\n",
      "[INFO] NAVIGATING TO (timeout=20): https://www.ozon.ru/context/detail/id/1422663978/\n",
      "[DEBUG] New driver session id: ebf6bc306ce2c057a1aef5496e939eae using profile: /tmp/chrome_profile_d58003c4cd984fddb9a2c3e98d16610b_jdyig2d2\n",
      "[DEBUG] User Agent: Mozilla/5.0 (Windows NT 10.0; Win64; x64) AppleWebKit/537.36 (KHTML, like Gecko) Chrome/134.0.0.0 Safari/537.36 Edg/134.0.0.\n",
      "[RETRY WRAPPER] (ATTEMPT 1 | timeout 20) - Using driver id: 140256799250640\n",
      "[INFO] NAVIGATING TO (timeout=20): https://www.ozon.ru/context/detail/id/845499621/\n",
      "[RETRY WRAPPER] (ATTEMPT 1 | timeout 20) - AntiBotException detected: Reload button detected on https://www.ozon.ru/context/detail/id/845499621/; page requires reloading.. Reinitializing driver.\n",
      "[RETRY WRAPPER] (ATTEMPT 1 | timeout 20) - AntiBotException detected: Reload button detected on https://www.ozon.ru/context/detail/id/1422663978/; page requires reloading.. Reinitializing driver.\n",
      "[DEBUG] New driver session id: feae925ec08bb6abb724a9b991a563b7 using profile: /tmp/chrome_profile_d7af7f86c6d24e26a0b394ee38a3f59d_607u47fd\n",
      "[DEBUG] User Agent: Mozilla/5.0 (Windows NT 10.0; Win64; x64) AppleWebKit/537.36 (KHTML, like Gecko) Chrome/70.0.3538.102 Safari/537.36 Edge/18.1958\n",
      "[DEBUG] New driver session id: 4dffb48b55c77d6db8fed7c81f36c624 using profile: /tmp/chrome_profile_3f0c61f799224d1291569095bb7c1646_rbqh8umm\n",
      "[DEBUG] User Agent: Mozilla/5.0 (Windows NT 10.0; Win64; x64) AppleWebKit/537.36 (KHTML, like Gecko) Chrome/132.0.0.0 Safari/537.36 OPR/117.0.0.\n",
      "[RETRY WRAPPER] (ATTEMPT 2 | timeout 20) - Using driver id: 140255585056176\n",
      "[INFO] NAVIGATING TO (timeout=20): https://www.ozon.ru/context/detail/id/845499621/\n",
      "[RETRY WRAPPER] (ATTEMPT 2 | timeout 20) - Using driver id: 140256667279760\n",
      "[INFO] NAVIGATING TO (timeout=20): https://www.ozon.ru/context/detail/id/1422663978/\n",
      "[RETRY WRAPPER] (ATTEMPT 2 | timeout 20) - Timeout. Increasing by 2\n",
      "[RETRY WRAPPER] (ATTEMPT 2 | timeout 20) - Timeout. Increasing by 2\n",
      "[DEBUG] New driver session id: b2f58476464be4d25794aab7d823f903 using profile: /tmp/chrome_profile_05688d4e26364f5f88c904e684785ca4_oc09pkex\n",
      "[DEBUG] User Agent: Mozilla/5.0 (Windows NT 10.0; Win64; x64) AppleWebKit/537.36 (KHTML, like Gecko) Chrome/70.0.3538.102 Safari/537.36 Edge/18.1958\n"
     ]
    },
    {
     "name": "stderr",
     "output_type": "stream",
     "text": [
      "Processing tasks:   4%|▍         | 113/2852 [47:54<20:15:03, 26.62s/it]"
     ]
    },
    {
     "name": "stdout",
     "output_type": "stream",
     "text": [
      "[1422663978] - ERROR ConnectionError PROCESSING ROW: Could not reach host. Are you offline?\n",
      "[RETRY WRAPPER] (ATTEMPT 3 | timeout 22) - Using driver id: 140255469907184\n",
      "[INFO] NAVIGATING TO (timeout=22): https://www.ozon.ru/context/detail/id/845499621/\n",
      "[DEBUG] New driver session id: 424533d8cd16926c4ee6f7435d82954d using profile: /tmp/chrome_profile_b0b599ef10e74b4da3fa08645f22d6cc_m4mcgfl3\n",
      "[DEBUG] User Agent: Mozilla/5.0 (Windows NT 10.0; Win64; x64) AppleWebKit/537.36 (KHTML, like Gecko) Chrome/134.0.0.0 Safari/537.36 Trailer/93.3.8652.5\n",
      "[RETRY WRAPPER] (ATTEMPT 1 | timeout 20) - Using driver id: 140256793725200\n",
      "[INFO] NAVIGATING TO (timeout=20): https://www.ozon.ru/context/detail/id/847684763/\n",
      "[RETRY WRAPPER] (ATTEMPT 1 | timeout 20) - AntiBotException detected: Reload button detected on https://www.ozon.ru/context/detail/id/847684763/; page requires reloading.. Reinitializing driver.\n",
      "[RETRY WRAPPER] (ATTEMPT 3 | timeout 22) - AntiBotException detected: Reload button detected on https://www.ozon.ru/context/detail/id/845499621/; page requires reloading.. Reinitializing driver.\n",
      "[DEBUG] New driver session id: 2a06ff27efaeeda9b3f7f49eb2b2b741 using profile: /tmp/chrome_profile_57604ed6c9b84c9aa00b66d54d3dab77_rsgk7973\n",
      "[DEBUG] User Agent: Mozilla/5.0 (Windows NT 10.0; Win64; x64) AppleWebKit/537.36 (KHTML, like Gecko) Chrome/134.0.0.0 Safari/537.36 Edg/134.0.0.\n",
      "[DEBUG] New driver session id: 45004746b8e4cdebc9ec9fa65d66a0d5 using profile: /tmp/chrome_profile_d9c2f0c0f804435692a98644aefb5099_rktn7mlu\n",
      "[DEBUG] User Agent: Mozilla/5.0 (Windows NT 10.0; Win64; x64) AppleWebKit/537.36 (KHTML, like Gecko) Chrome/134.0.0.0 Safari/537.36 Trailer/93.3.8652.5\n",
      "[RETRY WRAPPER] (ATTEMPT 2 | timeout 20) - Using driver id: 140256797919728\n",
      "[INFO] NAVIGATING TO (timeout=20): https://www.ozon.ru/context/detail/id/847684763/\n",
      "[RETRY WRAPPER] (ATTEMPT 4 | timeout 20) - Using driver id: 140256799247056\n",
      "[INFO] NAVIGATING TO (timeout=20): https://www.ozon.ru/context/detail/id/845499621/\n",
      "[RETRY WRAPPER] (ATTEMPT 2 | timeout 20) - AntiBotException detected: Reload button detected on https://www.ozon.ru/context/detail/id/847684763/; page requires reloading.. Reinitializing driver.\n",
      "[DEBUG] New driver session id: 4ee5ee4ac599a41a7b96c2ac9cd541db using profile: /tmp/chrome_profile_036ac1a44b10461091d197e7945549e1_ot_4rmnf\n",
      "[DEBUG] User Agent: Mozilla/5.0 (Windows NT 10.0; Win64; x64) AppleWebKit/537.36 (KHTML, like Gecko) Chrome/70.0.3538.102 Safari/537.36 Edge/18.1958\n",
      "[RETRY WRAPPER] (ATTEMPT 3 | timeout 20) - Using driver id: 140256793733936\n",
      "[INFO] NAVIGATING TO (timeout=20): https://www.ozon.ru/context/detail/id/847684763/\n",
      "[INFO] DESCRIPTION DETECTED (k7y_28)\n"
     ]
    },
    {
     "name": "stderr",
     "output_type": "stream",
     "text": [
      "Processing tasks:   4%|▍         | 114/2852 [48:23<20:48:13, 27.35s/it]"
     ]
    },
    {
     "name": "stdout",
     "output_type": "stream",
     "text": [
      "[845499621] - DESCRIPTION SUCCESS: Карта Центрального административного округа Москвы размер 1,...\n",
      "[DEBUG] New driver session id: 6c283092b07c6f443bb76c7851189d89 using profile: /tmp/chrome_profile_14c2508a56f246bfafcdde654a14fd54_0rs4myfd\n",
      "[DEBUG] User Agent: Mozilla/5.0 (Windows NT 10.0; Win64; x64) AppleWebKit/537.36 (KHTML, like Gecko) Chrome/134.0.0.0 Safari/537.3\n",
      "[RETRY WRAPPER] (ATTEMPT 1 | timeout 20) - Using driver id: 140255585056176\n",
      "[INFO] NAVIGATING TO (timeout=20): https://www.ozon.ru/context/detail/id/486734536/\n",
      "[INFO] DESCRIPTION DETECTED (k7y_28)\n"
     ]
    },
    {
     "name": "stderr",
     "output_type": "stream",
     "text": [
      "Processing tasks:   4%|▍         | 115/2852 [48:26<15:15:28, 20.07s/it]"
     ]
    },
    {
     "name": "stdout",
     "output_type": "stream",
     "text": [
      "[847684763] - DESCRIPTION SUCCESS: Размер 160х109\n",
      "Масштаб 1:270 000\n",
      "глянцевая ламинация\n",
      "Админис...\n",
      "[DEBUG] New driver session id: ea6e1104e002d759cdf050bbe64fcada using profile: /tmp/chrome_profile_dff39259866c4cfba40e9dcf700ebb88_kxvuxmqa\n",
      "[DEBUG] User Agent: Mozilla/5.0 (Windows NT 10.0; Win64; x64) AppleWebKit/537.36 (KHTML, like Gecko) Chrome/134.0.0.0 Safari/537.36 Trailer/93.3.8652.5\n",
      "[RETRY WRAPPER] (ATTEMPT 1 | timeout 20) - Using driver id: 140256793515792\n",
      "[INFO] NAVIGATING TO (timeout=20): https://www.ozon.ru/context/detail/id/805731216/\n",
      "[INFO] OUT-OF-STOCK INDICATOR DETECTED. IGNORING\n"
     ]
    },
    {
     "name": "stderr",
     "output_type": "stream",
     "text": [
      "Processing tasks:   4%|▍         | 116/2852 [48:29<11:23:01, 14.98s/it]"
     ]
    },
    {
     "name": "stdout",
     "output_type": "stream",
     "text": [
      "[486734536] - DESCRIPTION OMITTED (OOS)\n",
      "[DEBUG] New driver session id: 9ab5cb8591d6f61fa6610ff27dc3af3e using profile: /tmp/chrome_profile_96b175bc767d4e3997df44c50bb07c5c_r7cnh1w0\n",
      "[DEBUG] User Agent: Mozilla/5.0 (Windows NT 10.0; Win64; x64) AppleWebKit/537.36 (KHTML, like Gecko) Chrome/132.0.0.0 Safari/537.36 OPR/117.0.0.\n",
      "[RETRY WRAPPER] (ATTEMPT 1 | timeout 20) - Using driver id: 140256799257584\n",
      "[INFO] NAVIGATING TO (timeout=20): https://www.ozon.ru/context/detail/id/1345349994/\n",
      "[INFO] DESCRIPTION DETECTED (k7y_28)\n"
     ]
    },
    {
     "name": "stderr",
     "output_type": "stream",
     "text": [
      "Processing tasks:   4%|▍         | 117/2852 [48:35<9:19:39, 12.28s/it] "
     ]
    },
    {
     "name": "stdout",
     "output_type": "stream",
     "text": [
      "[805731216] - DESCRIPTION SUCCESS: Настенная политическая карта мира,\n",
      "\n",
      "глянцевая ламинация\n",
      "\n",
      "раз...\n",
      "[DEBUG] New driver session id: 90fc68743908a0261e26ed34a939db75 using profile: /tmp/chrome_profile_69262f7cdbec40b09971a3798fe2a361_anz34fo6\n",
      "[DEBUG] User Agent: Mozilla/5.0 (Windows NT 10.0; Win64; x64) AppleWebKit/537.36 (KHTML, like Gecko) Chrome/70.0.3538.102 Safari/537.36 Edge/18.1958\n",
      "[RETRY WRAPPER] (ATTEMPT 1 | timeout 20) - Using driver id: 140256794482672\n",
      "[INFO] NAVIGATING TO (timeout=20): https://www.ozon.ru/context/detail/id/178724269/\n",
      "[RETRY WRAPPER] (ATTEMPT 1 | timeout 20) - AntiBotException detected: Reload button detected on https://www.ozon.ru/context/detail/id/178724269/; page requires reloading.. Reinitializing driver.\n",
      "[DEBUG] New driver session id: b3307fc45faf45d1be1233562e7a9d79 using profile: /tmp/chrome_profile_fe0f67031f7f4f49acf581b98306037c_1yhiyexn\n",
      "[DEBUG] User Agent: Mozilla/5.0 (Windows NT 10.0; Win64; x64) AppleWebKit/537.36 (KHTML, like Gecko) Chrome/70.0.3538.102 Safari/537.36 Edge/18.1958\n",
      "[RETRY WRAPPER] (ATTEMPT 2 | timeout 20) - Using driver id: 140256797926000\n",
      "[INFO] NAVIGATING TO (timeout=20): https://www.ozon.ru/context/detail/id/178724269/\n",
      "[RETRY WRAPPER] (ATTEMPT 1 | timeout 20) - Timeout. Increasing by 2\n",
      "[DEBUG] New driver session id: 50210ce545674ef2589af134374b059a using profile: /tmp/chrome_profile_d3b572ca7b6c409b9fd63e358141d7ec_8oq3h3kg\n",
      "[DEBUG] User Agent: Mozilla/5.0 (Windows NT 10.0; Win64; x64) AppleWebKit/537.36 (KHTML, like Gecko) Chrome/132.0.0.0 Safari/537.36 OPR/117.0.0.\n",
      "[RETRY WRAPPER] (ATTEMPT 2 | timeout 22) - Using driver id: 140256799258928\n",
      "[INFO] NAVIGATING TO (timeout=22): https://www.ozon.ru/context/detail/id/1345349994/\n",
      "[INFO] DESCRIPTION DETECTED (k7y_28)\n"
     ]
    },
    {
     "name": "stderr",
     "output_type": "stream",
     "text": [
      "/home/anton/micromamba/envs/clip-siamese/lib/python3.13/asyncio/base_events.py:750: RuntimeWarning: coroutine 'AddonManager.handle_lifecycle' was never awaited\n",
      "  self._ready.clear()\n",
      "RuntimeWarning: Enable tracemalloc to get the object allocation traceback\n",
      "Processing tasks:   4%|▍         | 118/2852 [48:57<11:28:29, 15.11s/it]"
     ]
    },
    {
     "name": "stdout",
     "output_type": "stream",
     "text": [
      "[178724269] - DESCRIPTION SUCCESS: Настенная карта мира размером 90x58 см от ДИЭМБИ станет наст...\n",
      "[DEBUG] New driver session id: 2a5d220391657f92fd29a8fe1681dd0b using profile: /tmp/chrome_profile_0ff2b94fdb404f4db727836dc56796dc_4zfrx9yv\n",
      "[DEBUG] User Agent: Mozilla/5.0 (Windows NT 10.0; Win64; x64) AppleWebKit/537.36 (KHTML, like Gecko) Chrome/134.0.0.0 Safari/537.36 Edg/134.0.0.\n",
      "[RETRY WRAPPER] (ATTEMPT 1 | timeout 20) - Using driver id: 140255595514128\n",
      "[INFO] NAVIGATING TO (timeout=20): https://www.ozon.ru/context/detail/id/1125087194/\n",
      "[RETRY WRAPPER] (ATTEMPT 1 | timeout 20) - AntiBotException detected: Reload button detected on https://www.ozon.ru/context/detail/id/1125087194/; page requires reloading.. Reinitializing driver.\n",
      "[DEBUG] New driver session id: f286ddbcad2961d4a78467d8c0b8590b using profile: /tmp/chrome_profile_d8b449573a6d40f58748d75cff68aefd_z00gdilu\n",
      "[DEBUG] User Agent: Mozilla/5.0 (Windows NT 10.0; Win64; x64) AppleWebKit/537.36 (KHTML, like Gecko) Chrome/134.0.0.0 Safari/537.3\n",
      "[RETRY WRAPPER] (ATTEMPT 2 | timeout 20) - Using driver id: 140255595523984\n",
      "[INFO] NAVIGATING TO (timeout=20): https://www.ozon.ru/context/detail/id/1125087194/\n",
      "[INFO] DESCRIPTION DETECTED (k7y_28)\n"
     ]
    },
    {
     "name": "stderr",
     "output_type": "stream",
     "text": [
      "/home/anton/micromamba/envs/clip-siamese/lib/python3.13/asyncio/base_events.py:750: RuntimeWarning: coroutine 'AddonManager.handle_lifecycle' was never awaited\n",
      "  self._ready.clear()\n",
      "RuntimeWarning: Enable tracemalloc to get the object allocation traceback\n",
      "Processing tasks:   4%|▍         | 119/2852 [49:09<10:46:25, 14.19s/it]"
     ]
    },
    {
     "name": "stdout",
     "output_type": "stream",
     "text": [
      "[1345349994] - DESCRIPTION SUCCESS: Интерактивная карта с голосовым помощником «Наша планета. Жи...\n",
      "[DEBUG] New driver session id: 956bf9d734714cfea8d460e074e639f7 using profile: /tmp/chrome_profile_ba95b7123bdd4a6688ee7afce87a8808_dcbhqdj0\n",
      "[DEBUG] User Agent: Mozilla/5.0 (Windows NT 10.0; Win64; x64) AppleWebKit/537.36 (KHTML, like Gecko) Chrome/134.0.0.0 Safari/537.3\n",
      "[RETRY WRAPPER] (ATTEMPT 1 | timeout 20) - Using driver id: 140255619120528\n",
      "[INFO] NAVIGATING TO (timeout=20): https://www.ozon.ru/context/detail/id/492355174/\n",
      "[INFO] DESCRIPTION DETECTED (k7y_28)\n"
     ]
    },
    {
     "name": "stderr",
     "output_type": "stream",
     "text": [
      "Exception in thread Http2SingleStreamLayer-13:\n",
      "Processing tasks:   4%|▍         | 120/2852 [49:13<8:35:00, 11.31s/it] Traceback (most recent call last):\n",
      "  File \u001b[35m\"/home/anton/micromamba/envs/clip-siamese/lib/python3.13/threading.py\"\u001b[0m, line \u001b[35m1041\u001b[0m, in \u001b[35m_bootstrap_inner\u001b[0m\n",
      "    \u001b[31mself.run\u001b[0m\u001b[1;31m()\u001b[0m\n",
      "    \u001b[31m~~~~~~~~\u001b[0m\u001b[1;31m^^\u001b[0m\n",
      "  File \u001b[35m\"/home/anton/micromamba/envs/clip-siamese/lib/python3.13/site-packages/seleniumwire/thirdparty/mitmproxy/server/protocol/http2.py\"\u001b[0m, line \u001b[35m719\u001b[0m, in \u001b[35mrun\u001b[0m\n",
      "    \u001b[31mlayer\u001b[0m\u001b[1;31m()\u001b[0m\n",
      "    \u001b[31m~~~~~\u001b[0m\u001b[1;31m^^\u001b[0m\n",
      "  File \u001b[35m\"/home/anton/micromamba/envs/clip-siamese/lib/python3.13/site-packages/seleniumwire/thirdparty/mitmproxy/server/protocol/http.py\"\u001b[0m, line \u001b[35m206\u001b[0m, in \u001b[35m__call__\u001b[0m\n",
      "    if not \u001b[31mself._process_flow\u001b[0m\u001b[1;31m(flow)\u001b[0m:\n",
      "           \u001b[31m~~~~~~~~~~~~~~~~~~\u001b[0m\u001b[1;31m^^^^^^\u001b[0m\n",
      "  File \u001b[35m\"/home/anton/micromamba/envs/clip-siamese/lib/python3.13/site-packages/seleniumwire/thirdparty/mitmproxy/server/protocol/http.py\"\u001b[0m, line \u001b[35m388\u001b[0m, in \u001b[35m_process_flow\u001b[0m\n",
      "    \u001b[31mget_response\u001b[0m\u001b[1;31m()\u001b[0m\n",
      "    \u001b[31m~~~~~~~~~~~~\u001b[0m\u001b[1;31m^^\u001b[0m\n",
      "  File \u001b[35m\"/home/anton/micromamba/envs/clip-siamese/lib/python3.13/site-packages/seleniumwire/thirdparty/mitmproxy/server/protocol/http.py\"\u001b[0m, line \u001b[35m373\u001b[0m, in \u001b[35mget_response\u001b[0m\n",
      "    \u001b[31mself.send_request_headers\u001b[0m\u001b[1;31m(f.request)\u001b[0m\n",
      "    \u001b[31m~~~~~~~~~~~~~~~~~~~~~~~~~\u001b[0m\u001b[1;31m^^^^^^^^^^^\u001b[0m\n",
      "  File \u001b[35m\"/home/anton/micromamba/envs/clip-siamese/lib/python3.13/site-packages/seleniumwire/thirdparty/mitmproxy/server/protocol/http2.py\"\u001b[0m, line \u001b[35m389\u001b[0m, in \u001b[35mwrapper\u001b[0m\n",
      "    result = func(self, *args, **kwargs)\n",
      "  File \u001b[35m\"/home/anton/micromamba/envs/clip-siamese/lib/python3.13/site-packages/seleniumwire/thirdparty/mitmproxy/server/protocol/http2.py\"\u001b[0m, line \u001b[35m562\u001b[0m, in \u001b[35msend_request_headers\u001b[0m\n",
      "    max_streams = \u001b[31mself.connections\u001b[0m\u001b[1;31m[self.server_conn]\u001b[0m.remote_settings.max_concurrent_streams\n",
      "                  \u001b[31m~~~~~~~~~~~~~~~~\u001b[0m\u001b[1;31m^^^^^^^^^^^^^^^^^^\u001b[0m\n",
      "\u001b[1;35mKeyError\u001b[0m: \u001b[35m<ServerConnection: xapi.ozon.ru:443>\u001b[0m\n"
     ]
    },
    {
     "name": "stdout",
     "output_type": "stream",
     "text": [
      "[1125087194] - DESCRIPTION SUCCESS: Настенная карта Мира (политическая) для школы 1,6*1,07 м, ма...\n",
      "[DEBUG] New driver session id: d8854a3debecfa487d6da394ab052b95 using profile: /tmp/chrome_profile_925dcab5a4574a169bc1b792458eabcd_zlyhtmjh\n",
      "[DEBUG] User Agent: Mozilla/5.0 (Windows NT 10.0; Win64; x64) AppleWebKit/537.36 (KHTML, like Gecko) Chrome/70.0.3538.102 Safari/537.36 Edge/18.1958\n",
      "[RETRY WRAPPER] (ATTEMPT 1 | timeout 20) - Using driver id: 140255595523312\n",
      "[INFO] NAVIGATING TO (timeout=20): https://www.ozon.ru/context/detail/id/180358420/\n",
      "[INFO] DESCRIPTION DETECTED (k7y_28)\n"
     ]
    },
    {
     "name": "stderr",
     "output_type": "stream",
     "text": [
      "Processing tasks:   4%|▍         | 121/2852 [49:20<7:34:49,  9.99s/it]"
     ]
    },
    {
     "name": "stdout",
     "output_type": "stream",
     "text": [
      "[492355174] - DESCRIPTION SUCCESS: Во скольких странах вы уже побывали и сколько границ еще пла...\n",
      "[DEBUG] New driver session id: 209126ff65fc63f63a0833d933d8b949 using profile: /tmp/chrome_profile_a4dbfdc3bf1546319804cce5b73901e2_2kme9itm\n",
      "[DEBUG] User Agent: Mozilla/5.0 (Windows NT 10.0; Win64; x64) AppleWebKit/537.36 (KHTML, like Gecko) Chrome/70.0.3538.102 Safari/537.36 Edge/18.1958\n",
      "[RETRY WRAPPER] (ATTEMPT 1 | timeout 20) - Using driver id: 140255585050128\n",
      "[INFO] NAVIGATING TO (timeout=20): https://www.ozon.ru/context/detail/id/1567336229/\n",
      "[INFO] DESCRIPTION DETECTED (k7y_28)\n"
     ]
    },
    {
     "name": "stderr",
     "output_type": "stream",
     "text": [
      "Processing tasks:   4%|▍         | 122/2852 [49:24<6:05:27,  8.03s/it]"
     ]
    },
    {
     "name": "stdout",
     "output_type": "stream",
     "text": [
      "[180358420] - DESCRIPTION SUCCESS: Карты мира всегда были неотъемлемой частью образовательного ...\n",
      "[DEBUG] New driver session id: 7d73b53f1f23d78ba1a2e7aee4aa9068 using profile: /tmp/chrome_profile_012cbaa3127645e5b94cd95043d7b957_1phnlyym\n",
      "[DEBUG] User Agent: Mozilla/5.0 (Windows NT 10.0; Win64; x64) AppleWebKit/537.36 (KHTML, like Gecko) Chrome/134.0.0.0 Safari/537.3\n",
      "[RETRY WRAPPER] (ATTEMPT 1 | timeout 20) - Using driver id: 140256795247120\n",
      "[INFO] NAVIGATING TO (timeout=20): https://www.ozon.ru/context/detail/id/219077425/\n",
      "[INFO] DESCRIPTION DETECTED (k7y_28)\n"
     ]
    },
    {
     "name": "stderr",
     "output_type": "stream",
     "text": [
      "Processing tasks:   4%|▍         | 123/2852 [49:33<6:23:20,  8.43s/it]"
     ]
    },
    {
     "name": "stdout",
     "output_type": "stream",
     "text": [
      "[1567336229] - DESCRIPTION SUCCESS: Карта города Тольятти складная 1шт, а2 формат в развороте 42...\n",
      "[DEBUG] New driver session id: b79e588fa59ce8113fc6c029d9194899 using profile: /tmp/chrome_profile_ddf988a51e8a485d9f726fa597e9a8f0_cg73ryld\n",
      "[DEBUG] User Agent: Mozilla/5.0 (Windows NT 10.0; Win64; x64) AppleWebKit/537.36 (KHTML, like Gecko) Chrome/134.0.0.0 Safari/537.3\n",
      "[RETRY WRAPPER] (ATTEMPT 1 | timeout 20) - Using driver id: 140255595181040\n",
      "[INFO] NAVIGATING TO (timeout=20): https://www.ozon.ru/context/detail/id/1785724474/\n",
      "[RETRY WRAPPER] (ATTEMPT 1 | timeout 20) - AntiBotException detected: Reload button detected on https://www.ozon.ru/context/detail/id/1785724474/; page requires reloading.. Reinitializing driver.\n",
      "[DEBUG] New driver session id: 00a688a95ab7ad7f4a8fc41bdb1b7dfa using profile: /tmp/chrome_profile_0aea11254396495bb7ac1e7b2257b7af_pbkksafv\n",
      "[DEBUG] User Agent: Mozilla/5.0 (Windows NT 10.0; Win64; x64) AppleWebKit/537.36 (KHTML, like Gecko) Chrome/70.0.3538.102 Safari/537.36 Edge/18.1958\n",
      "[RETRY WRAPPER] (ATTEMPT 2 | timeout 20) - Using driver id: 140255452186000\n",
      "[INFO] NAVIGATING TO (timeout=20): https://www.ozon.ru/context/detail/id/1785724474/\n",
      "[RETRY WRAPPER] (ATTEMPT 1 | timeout 20) - Timeout. Increasing by 2\n",
      "[DEBUG] New driver session id: 016c597c07419dda37dc09e926c0817b using profile: /tmp/chrome_profile_3b015f94b583436580cb8a03d8d56aaf_5eruw2ks\n",
      "[DEBUG] User Agent: Mozilla/5.0 (Windows NT 10.0; Win64; x64) AppleWebKit/537.36 (KHTML, like Gecko) Chrome/70.0.3538.102 Safari/537.36 Edge/18.1958\n",
      "[RETRY WRAPPER] (ATTEMPT 2 | timeout 22) - Using driver id: 140255594652272\n",
      "[INFO] NAVIGATING TO (timeout=22): https://www.ozon.ru/context/detail/id/219077425/\n",
      "[INFO] OUT-OF-STOCK INDICATOR DETECTED. IGNORING\n"
     ]
    },
    {
     "name": "stderr",
     "output_type": "stream",
     "text": [
      "Processing tasks:   4%|▍         | 124/2852 [49:50<8:19:00, 10.98s/it]"
     ]
    },
    {
     "name": "stdout",
     "output_type": "stream",
     "text": [
      "[1785724474] - DESCRIPTION OMITTED (OOS)\n",
      "[DEBUG] New driver session id: 4ed79370ec3385e6fc340a470af46769 using profile: /tmp/chrome_profile_ff8030c939ec4db58779095a43b5e989_tha_1arm\n",
      "[DEBUG] User Agent: Mozilla/5.0 (Windows NT 10.0; Win64; x64) AppleWebKit/537.36 (KHTML, like Gecko) Chrome/134.0.0.0 Safari/537.36 Trailer/93.3.8652.5\n",
      "[RETRY WRAPPER] (ATTEMPT 1 | timeout 20) - Using driver id: 140255595173200\n",
      "[INFO] NAVIGATING TO (timeout=20): https://www.ozon.ru/context/detail/id/1421500089/\n",
      "[RETRY WRAPPER] (ATTEMPT 2 | timeout 22) - AntiBotException detected: Reload button detected on https://www.ozon.ru/context/detail/id/219077425/; page requires reloading.. Reinitializing driver.\n",
      "[DEBUG] New driver session id: ae5f40b04e194f29e435f3ee4fc78511 using profile: /tmp/chrome_profile_8b78ec39d6c145e18799e57a45b6c1d1_p6geysne\n",
      "[DEBUG] User Agent: Mozilla/5.0 (Windows NT 10.0; Win64; x64) AppleWebKit/537.36 (KHTML, like Gecko) Chrome/134.0.0.0 Safari/537.36 Trailer/93.3.8652.5\n",
      "[RETRY WRAPPER] (ATTEMPT 3 | timeout 20) - Using driver id: 140255594653392\n",
      "[INFO] NAVIGATING TO (timeout=20): https://www.ozon.ru/context/detail/id/219077425/\n",
      "[INFO] DESCRIPTION EMPTY (s0k_28)\n"
     ]
    },
    {
     "name": "stderr",
     "output_type": "stream",
     "text": [
      "Processing tasks:   4%|▍         | 125/2852 [50:08<9:52:52, 13.04s/it]"
     ]
    },
    {
     "name": "stdout",
     "output_type": "stream",
     "text": [
      "[1421500089] - DESCRIPTION OMITTED (OOS)\n",
      "[DEBUG] New driver session id: 63c73a89849d2c080747b0ad9165f4f2 using profile: /tmp/chrome_profile_6ecdf103760e4dbca2389703c4e2a7fe__8ig2385\n",
      "[DEBUG] User Agent: Mozilla/5.0 (Windows NT 10.0; Win64; x64) AppleWebKit/537.36 (KHTML, like Gecko) Chrome/132.0.0.0 Safari/537.36 OPR/117.0.0.\n",
      "[RETRY WRAPPER] (ATTEMPT 1 | timeout 20) - Using driver id: 140255469898224\n",
      "[INFO] NAVIGATING TO (timeout=20): https://www.ozon.ru/context/detail/id/974286048/\n",
      "[RETRY WRAPPER] (ATTEMPT 1 | timeout 20) - AntiBotException detected: Reload button detected on https://www.ozon.ru/context/detail/id/974286048/; page requires reloading.. Reinitializing driver.\n",
      "[INFO] DESCRIPTION DETECTED (k7y_28)\n"
     ]
    },
    {
     "name": "stderr",
     "output_type": "stream",
     "text": [
      "Processing tasks:   4%|▍         | 126/2852 [50:14<8:16:00, 10.92s/it]"
     ]
    },
    {
     "name": "stdout",
     "output_type": "stream",
     "text": [
      "[219077425] - DESCRIPTION SUCCESS: Физическая настенная карта мира 1:35М выполнена на качествен...\n",
      "[DEBUG] New driver session id: f470aa99b7f1708304f8ef46a5eab09b using profile: /tmp/chrome_profile_5d15e6b7e41d4648a9b0adc45bfa1bf1_htcmxwvs\n",
      "[DEBUG] User Agent: Mozilla/5.0 (Windows NT 10.0; Win64; x64) AppleWebKit/537.36 (KHTML, like Gecko) Chrome/134.0.0.0 Safari/537.3\n",
      "[DEBUG] New driver session id: f86d6fb9f067b64f4279dd0f3c670c27 using profile: /tmp/chrome_profile_eb16996bdffb4427bc3e863582ad0885_sc8cxxj5\n",
      "[DEBUG] User Agent: Mozilla/5.0 (Windows NT 10.0; Win64; x64) AppleWebKit/537.36 (KHTML, like Gecko) Chrome/134.0.0.0 Safari/537.36 Edg/134.0.0.\n",
      "[RETRY WRAPPER] (ATTEMPT 1 | timeout 20) - Using driver id: 140255594659216\n",
      "[INFO] NAVIGATING TO (timeout=20): https://www.ozon.ru/context/detail/id/1642016643/\n",
      "[RETRY WRAPPER] (ATTEMPT 2 | timeout 20) - Using driver id: 140255469903600\n",
      "[INFO] NAVIGATING TO (timeout=20): https://www.ozon.ru/context/detail/id/974286048/\n"
     ]
    },
    {
     "name": "stderr",
     "output_type": "stream",
     "text": [
      "Processing tasks:   4%|▍         | 126/2852 [50:26<18:11:09, 24.02s/it]\n"
     ]
    },
    {
     "name": "stdout",
     "output_type": "stream",
     "text": [
      "[DEBUG] New driver session id: 3fdd68c141823472f59f1b82859906ca using profile: /tmp/chrome_profile_47feaa9f186549e5acdbc5ec79e2d640_sblccys7\n",
      "[DEBUG] User Agent: Mozilla/5.0 (Windows NT 10.0; Win64; x64) AppleWebKit/537.36 (KHTML, like Gecko) Chrome/134.0.0.0 Safari/537.36 Trailer/93.3.8652.5\n",
      "[RETRY WRAPPER] (ATTEMPT 1 | timeout 20) - Using driver id: 140255595521296\n",
      "[INFO] NAVIGATING TO (timeout=20): https://www.ozon.ru/context/detail/id/809788733/\n",
      "[DEBUG] New driver session id: 5fb58ac8ec21e8f8ee7e1aab1b3de0db using profile: /tmp/chrome_profile_b3d9fb9c3a1245f388e840774d6e48aa_hg_tc5q3\n",
      "[DEBUG] User Agent: Mozilla/5.0 (Windows NT 10.0; Win64; x64) AppleWebKit/537.36 (KHTML, like Gecko) Chrome/134.0.0.0 Safari/537.36 Trailer/93.3.8652.5\n",
      "[RETRY WRAPPER] (ATTEMPT 1 | timeout 20) - Using driver id: 140256799256688\n",
      "[INFO] NAVIGATING TO (timeout=20): https://www.ozon.ru/context/detail/id/1436449667/\n",
      "[RETRY WRAPPER] (ATTEMPT 1 | timeout 20) - AntiBotException detected: Reload button detected on https://www.ozon.ru/context/detail/id/1436449667/; page requires reloading.. Reinitializing driver.\n",
      "[DEBUG] New driver session id: c6f9f344dfff43b0271f734ae3a1ceef using profile: /tmp/chrome_profile_0d20ee2c745e40768c9ac4bf0e7b055f__kaxlk0u\n",
      "[DEBUG] User Agent: Mozilla/5.0 (Windows NT 10.0; Win64; x64) AppleWebKit/537.36 (KHTML, like Gecko) Chrome/132.0.0.0 Safari/537.36 OPR/117.0.0.\n",
      "[RETRY WRAPPER] (ATTEMPT 2 | timeout 20) - Using driver id: 140255585050128\n",
      "[INFO] NAVIGATING TO (timeout=20): https://www.ozon.ru/context/detail/id/1436449667/\n"
     ]
    }
   ],
   "source": [
    "# With periodic uploading\n",
    "\n",
    "import os\n",
    "import threading\n",
    "import time\n",
    "from queue import Queue\n",
    "import concurrent.futures\n",
    "from pathlib import Path\n",
    "from tqdm import tqdm\n",
    "from huggingface_hub import HfApi, HfFolder\n",
    "\n",
    "def process_task(sku, url, verbose, timeout, max_retries):\n",
    "    driver = init_scraping_browser(verbose=verbose)  # Create a fresh driver instance.\n",
    "    try:\n",
    "        # retry_extract_description() handles retries on its own.\n",
    "        description = retry_extract_description(driver, url, verbose=verbose, timeout=timeout, max_retries=max_retries)\n",
    "        return sku, url, description\n",
    "    finally:\n",
    "        driver.quit()\n",
    "\n",
    "def main(\n",
    "    source_df,\n",
    "    max_workers=2,\n",
    "    verbose=True,\n",
    "    file_dir='tmp',\n",
    "    output_file_name=\"OZ_geo_5k_descriptions\",\n",
    "    part_idx=0,\n",
    "    upload_interval=60  # time interval in seconds between uploads\n",
    "):\n",
    "    result_queue = Queue()\n",
    "    # Create the folder structure only if not using an hf:// path.\n",
    "    if not str(file_dir).startswith('hf'):\n",
    "        os.makedirs(os.path.join(file_dir, output_file_name), exist_ok=True)\n",
    "\n",
    "    output_file_path = os.path.join(file_dir, output_file_name, f'part.{part_idx}.parquet')\n",
    "\n",
    "    # Start the writer thread that writes results to the parquet file.\n",
    "    writer_thread = threading.Thread(target=writer_thread_func, args=(result_queue, output_file_path))\n",
    "    writer_thread.start()\n",
    "\n",
    "    # Start the periodic uploader thread.\n",
    "    stop_event = threading.Event()\n",
    "    def periodic_uploader():\n",
    "        while not stop_event.is_set():\n",
    "            upload_file_to_hf(output_file_path, verbose=verbose)\n",
    "            # Wait for the interval or until stop_event is set.\n",
    "            stop_event.wait(upload_interval)\n",
    "    uploader_thread = threading.Thread(target=periodic_uploader)\n",
    "    uploader_thread.start()\n",
    "\n",
    "    # Create a dictionary mapping SKU to URL (assuming source_df has columns \"SKU\" and \"URL\").\n",
    "    urls_dict = source_df.set_index(\"SKU\")[\"URL\"].to_dict()\n",
    "\n",
    "    # Use ProcessPoolExecutor to process each SKU/URL pair concurrently in isolated processes.\n",
    "    with concurrent.futures.ProcessPoolExecutor(max_workers=max_workers) as executor:\n",
    "        future_to_sku = {\n",
    "            executor.submit(process_task, sku, url, verbose, 20, 10): sku \n",
    "            for sku, url in urls_dict.items()\n",
    "        }\n",
    "        # Wrap the as_completed iterator with tqdm to show progress.\n",
    "        for future in tqdm(concurrent.futures.as_completed(future_to_sku),\n",
    "                           total=len(future_to_sku),\n",
    "                           desc=\"Processing tasks\"):\n",
    "            sku = future_to_sku[future]\n",
    "            try:\n",
    "                sku, url, description = future.result()\n",
    "                if verbose:\n",
    "                    if description is not None:\n",
    "                        print(f\"[{sku}] - DESCRIPTION SUCCESS: {description[:60]}...\")\n",
    "                    else:\n",
    "                        print(f\"[{sku}] - DESCRIPTION OMITTED (OOS)\")\n",
    "                result_queue.put((sku, url, description))\n",
    "            except Exception as e:\n",
    "                print(f\"[{sku}] - ERROR {type(e).__name__} PROCESSING ROW: {e}\")\n",
    "\n",
    "    # Wait until all queued results are written.\n",
    "    result_queue.join()\n",
    "    result_queue.put(None)\n",
    "    writer_thread.join()\n",
    "\n",
    "    # Signal the uploader thread to stop and wait for it to finish.\n",
    "    stop_event.set()\n",
    "    uploader_thread.join()\n",
    "\n",
    "    # Optionally, perform one final upload.\n",
    "    upload_file_to_hf(output_file_path, verbose=verbose)\n",
    "    print(\"Scraping completed and descriptions appended to:\", output_file_path)\n",
    "\n",
    "out_of_stock_indices = [\n",
    "    4009,\n",
    "    1388,\n",
    "    1446,\n",
    "    5696\n",
    "]\n",
    "\n",
    "empty_description_indices = [\n",
    "    3959\n",
    "]\n",
    "\n",
    "# ---------------------------------------------------------------------------\n",
    "# Run main with a sample of source_df entries.\n",
    "main(\n",
    "    source_df=source_df,\n",
    "    # source_df=source_df.sample(4),\n",
    "    # source_df=source_df.loc[out_of_stock_indices],\n",
    "    # source_df=source_df.loc[empty_description_indices],\n",
    "    max_workers=MAX_WORKERS,\n",
    "    # verbose=False,\n",
    "    verbose=True,\n",
    "    part_idx=SHARD_IDX,\n",
    "    upload_interval=UPLOAD_INTERVAL,\n",
    "    \n",
    "    # file_dir=DATA_PATH,\n",
    ")"
   ]
  },
  {
   "cell_type": "code",
   "execution_count": null,
   "id": "39f94084",
   "metadata": {},
   "outputs": [],
   "source": [
    "# # CELL 6: Running the main function\n",
    "\n",
    "# def process_task(sku, url, verbose, timeout, max_retries):\n",
    "#     driver = init_scraping_browser(verbose=verbose)  # Create a fresh driver instance.\n",
    "#     try:\n",
    "#         # retry_extract_description() handles retries on its own.\n",
    "#         description = retry_extract_description(driver, url, verbose=verbose, timeout=timeout, max_retries=max_retries)\n",
    "#         return sku, url, description\n",
    "#     finally:\n",
    "#         driver.quit()\n",
    "\n",
    "# # CELL #6: Running the main function using ProcessPoolExecutor with tqdm progress bar\n",
    "\n",
    "# def main(\n",
    "#     source_df,\n",
    "#     max_workers=2,\n",
    "#     verbose=True,\n",
    "#     file_dir='tmp',\n",
    "#     output_file_name = \"OZ_geo_5k_descriptions\",\n",
    "#     part_idx = 0\n",
    "# ):\n",
    "#     from queue import Queue\n",
    "#     import concurrent.futures\n",
    "#     import threading\n",
    "#     import os\n",
    "#     from tqdm import tqdm\n",
    "\n",
    "#     result_queue = Queue()\n",
    "#     if not str(file_dir).startswith('hf'):\n",
    "#         os.makedirs(file_dir + '/' + output_file_name, exist_ok=True)\n",
    "\n",
    "#     output_file_path = file_dir + '/' + output_file_name + f'/part.{part_idx}.parquet'\n",
    "\n",
    "#     # Start the writer thread that writes results to a parquet file.\n",
    "#     writer_thread = threading.Thread(target=writer_thread_func, args=(result_queue, output_file_path))\n",
    "#     writer_thread.start()\n",
    "\n",
    "#     # Create a dictionary mapping SKU to URL (assuming source_df has columns \"SKU\" and \"URL\").\n",
    "#     urls_dict = source_df.set_index(\"SKU\")[\"URL\"].to_dict()\n",
    "\n",
    "#     # Use ProcessPoolExecutor to process each SKU/URL pair concurrently in isolated processes.\n",
    "#     with concurrent.futures.ProcessPoolExecutor(max_workers=max_workers) as executor:\n",
    "#         future_to_sku = {\n",
    "#             executor.submit(process_task, sku, url, verbose, 20, 10): sku \n",
    "#             for sku, url in urls_dict.items()\n",
    "#         }\n",
    "#         # Wrap the as_completed iterator with tqdm to show progress.\n",
    "#         for future in tqdm(concurrent.futures.as_completed(future_to_sku),\n",
    "#                            total=len(future_to_sku),\n",
    "#                            desc=\"Processing tasks\"):\n",
    "#             sku = future_to_sku[future]\n",
    "#             try:\n",
    "#                 sku, url, description = future.result()\n",
    "#                 if verbose:\n",
    "#                     if description is not None:\n",
    "#                         print(f\"[{sku}] - DESCRIPTION SUCCESS: {description[:60]}...\")\n",
    "#                     else:\n",
    "#                         print(f\"[{sku}] - DESCRIPTION OMITTED (OOS)\")\n",
    "#                 result_queue.put((sku, url, description))\n",
    "#             except Exception as e:\n",
    "#                 print(f\"[{sku}] - ERROR {type(e).__name__} PROCESSING ROW: {e}\")\n",
    "\n",
    "#     # Wait until all queued results are written.\n",
    "#     result_queue.join()\n",
    "#     result_queue.put(None)\n",
    "#     writer_thread.join()\n",
    "\n",
    "#     upload_file_to_hf(output_file_path)\n",
    "#     print(\"Scraping completed and descriptions appended to:\", output_file_path)\n",
    "\n",
    "\n",
    "# out_of_stock_indices = [\n",
    "#     4009,\n",
    "#     1388,\n",
    "#     1446,\n",
    "#     5696\n",
    "# ]\n",
    "\n",
    "# empty_description_indices = [\n",
    "#     3959\n",
    "# ]\n",
    "\n",
    "# # ---------------------------------------------------------------------------\n",
    "# # Run main with a sample of source_df entries.\n",
    "# main(\n",
    "#     # source_df=source_df,\n",
    "#     source_df=source_df.sample(4),\n",
    "#     # source_df=source_df.loc[out_of_stock_indices],\n",
    "#     # source_df=source_df.loc[empty_description_indices],\n",
    "#     max_workers=2,\n",
    "#     verbose=False,\n",
    "#     part_idx=SHARD_IDX\n",
    "    \n",
    "#     # file_dir=DATA_PATH,\n",
    "# )"
   ]
  },
  {
   "cell_type": "code",
   "execution_count": null,
   "id": "ed7ca8c8",
   "metadata": {},
   "outputs": [
    {
     "data": {
      "text/plain": [
       "(4, 3)"
      ]
     },
     "execution_count": 19,
     "metadata": {},
     "output_type": "execute_result"
    }
   ],
   "source": [
    "# df = pd.read_parquet(f'tmp/OZ_geo_5k_descriptions/part.{SHARD_IDX}.parquet')\n",
    "# df.shape"
   ]
  }
 ],
 "metadata": {
  "kernelspec": {
   "display_name": "Python 3",
   "language": "python",
   "name": "python3"
  },
  "language_info": {
   "codemirror_mode": {
    "name": "ipython",
    "version": 3
   },
   "file_extension": ".py",
   "mimetype": "text/x-python",
   "name": "python",
   "nbconvert_exporter": "python",
   "pygments_lexer": "ipython3",
   "version": "3.13.2"
  }
 },
 "nbformat": 4,
 "nbformat_minor": 5
}
