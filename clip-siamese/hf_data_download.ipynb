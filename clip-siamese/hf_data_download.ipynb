{
 "cells": [
  {
   "cell_type": "code",
   "execution_count": 2,
   "id": "c5324186",
   "metadata": {},
   "outputs": [
    {
     "name": "stderr",
     "output_type": "stream",
     "text": [
      "/home/anton/micromamba/envs/clip-siamese/lib/python3.13/site-packages/huggingface_hub/file_download.py:933: UserWarning: `local_dir_use_symlinks` parameter is deprecated and will be ignored. The process to download files to a local folder has been updated and do not rely on symlinks anymore. You only need to pass a destination folder as`local_dir`.\n",
      "For more details, check out https://huggingface.co/docs/huggingface_hub/main/en/guides/download#download-files-to-local-folder.\n",
      "  warnings.warn(\n"
     ]
    },
    {
     "data": {
      "application/vnd.jupyter.widget-view+json": {
       "model_id": "0998af8bdb9447bea53cede8d0ff6f33",
       "version_major": 2,
       "version_minor": 0
      },
      "text/plain": [
       "Fetching 18 files:   0%|          | 0/18 [00:00<?, ?it/s]"
      ]
     },
     "metadata": {},
     "output_type": "display_data"
    },
    {
     "data": {
      "application/vnd.jupyter.widget-view+json": {
       "model_id": "89ff617c0cb540bf923fefdbecdaeeb5",
       "version_major": 2,
       "version_minor": 0
      },
      "text/plain": [
       "WB_OZ_100_conjugated.csv:   0%|          | 0.00/669k [00:00<?, ?B/s]"
      ]
     },
     "metadata": {},
     "output_type": "display_data"
    },
    {
     "data": {
      "application/vnd.jupyter.widget-view+json": {
       "model_id": "a656f6a8b7504777882056bdce4494dc",
       "version_major": 2,
       "version_minor": 0
      },
      "text/plain": [
       ".gitattributes:   0%|          | 0.00/2.62k [00:00<?, ?B/s]"
      ]
     },
     "metadata": {},
     "output_type": "display_data"
    },
    {
     "data": {
      "application/vnd.jupyter.widget-view+json": {
       "model_id": "6e98a4f9e82a46c5a5223068f3d2ebd5",
       "version_major": 2,
       "version_minor": 0
      },
      "text/plain": [
       "WB_OZ_100_conjugated_shuffled-42.csv:   0%|          | 0.00/669k [00:00<?, ?B/s]"
      ]
     },
     "metadata": {},
     "output_type": "display_data"
    },
    {
     "data": {
      "application/vnd.jupyter.widget-view+json": {
       "model_id": "f264d9e63844425da26562146ac7bda0",
       "version_major": 2,
       "version_minor": 0
      },
      "text/plain": [
       "images_WB_OZ_100.zip:   0%|          | 0.00/26.2M [00:00<?, ?B/s]"
      ]
     },
     "metadata": {},
     "output_type": "display_data"
    },
    {
     "data": {
      "application/vnd.jupyter.widget-view+json": {
       "model_id": "09a1f1d90df84563b563324969f567ec",
       "version_major": 2,
       "version_minor": 0
      },
      "text/plain": [
       "WB_OZ_100.csv:   0%|          | 0.00/670k [00:00<?, ?B/s]"
      ]
     },
     "metadata": {},
     "output_type": "display_data"
    },
    {
     "data": {
      "application/vnd.jupyter.widget-view+json": {
       "model_id": "d58a2b609fd440bbb545aedb20364a8d",
       "version_major": 2,
       "version_minor": 0
      },
      "text/plain": [
       "images_labeled.zip:   0%|          | 0.00/34.8M [00:00<?, ?B/s]"
      ]
     },
     "metadata": {},
     "output_type": "display_data"
    },
    {
     "data": {
      "application/vnd.jupyter.widget-view+json": {
       "model_id": "e0a7b7a1f09c46829e43fb6a0b3b8b28",
       "version_major": 2,
       "version_minor": 0
      },
      "text/plain": [
       "WB_OZ_100.xlsx:   0%|          | 0.00/144k [00:00<?, ?B/s]"
      ]
     },
     "metadata": {},
     "output_type": "display_data"
    },
    {
     "data": {
      "application/vnd.jupyter.widget-view+json": {
       "model_id": "add26a27dfa344b386c39a6d35b8d33a",
       "version_major": 2,
       "version_minor": 0
      },
      "text/plain": [
       "images_7k.zip:   0%|          | 0.00/379M [00:00<?, ?B/s]"
      ]
     },
     "metadata": {},
     "output_type": "display_data"
    },
    {
     "data": {
      "application/vnd.jupyter.widget-view+json": {
       "model_id": "44dca338b42748298639fd009f468176",
       "version_major": 2,
       "version_minor": 0
      },
      "text/plain": [
       "labeled_5k_with-options.csv:   0%|          | 0.00/32.5M [00:00<?, ?B/s]"
      ]
     },
     "metadata": {},
     "output_type": "display_data"
    },
    {
     "data": {
      "application/vnd.jupyter.widget-view+json": {
       "model_id": "1cd2734d90104337baf1d3b8af118a6d",
       "version_major": 2,
       "version_minor": 0
      },
      "text/plain": [
       "labeled_56k_no-options.csv:   0%|          | 0.00/250M [00:00<?, ?B/s]"
      ]
     },
     "metadata": {},
     "output_type": "display_data"
    },
    {
     "data": {
      "application/vnd.jupyter.widget-view+json": {
       "model_id": "f3944eb6885946cbb038e977f287956d",
       "version_major": 2,
       "version_minor": 0
      },
      "text/plain": [
       "cc12m_rubert_tiny_ep_1.pt:   0%|          | 0.00/159M [00:00<?, ?B/s]"
      ]
     },
     "metadata": {},
     "output_type": "display_data"
    },
    {
     "data": {
      "application/vnd.jupyter.widget-view+json": {
       "model_id": "94546027d56842209adeacf25daa5446",
       "version_major": 2,
       "version_minor": 0
      },
      "text/plain": [
       "test.csv:   0%|          | 0.00/18.3k [00:00<?, ?B/s]"
      ]
     },
     "metadata": {},
     "output_type": "display_data"
    },
    {
     "data": {
      "application/vnd.jupyter.widget-view+json": {
       "model_id": "52a12b1702de46bd920d570d191cb5a4",
       "version_major": 2,
       "version_minor": 0
      },
      "text/plain": [
       "siamese_contrastive_1gpu.pt:   0%|          | 0.00/220M [00:00<?, ?B/s]"
      ]
     },
     "metadata": {},
     "output_type": "display_data"
    },
    {
     "data": {
      "application/vnd.jupyter.widget-view+json": {
       "model_id": "83134ddc2e7049b68a54e5b1fcc4e600",
       "version_major": 2,
       "version_minor": 0
      },
      "text/plain": [
       "siamese_contrastive.pt:   0%|          | 0.00/215M [00:00<?, ?B/s]"
      ]
     },
     "metadata": {},
     "output_type": "display_data"
    },
    {
     "data": {
      "application/vnd.jupyter.widget-view+json": {
       "model_id": "8a2db144f7494bb6a0ace06aa6337be0",
       "version_major": 2,
       "version_minor": 0
      },
      "text/plain": [
       "siamese_contrastive_7k.pt:   0%|          | 0.00/215M [00:00<?, ?B/s]"
      ]
     },
     "metadata": {},
     "output_type": "display_data"
    },
    {
     "data": {
      "application/vnd.jupyter.widget-view+json": {
       "model_id": "3abba995dbdd495a8367c71bec1e10fa",
       "version_major": 2,
       "version_minor": 0
      },
      "text/plain": [
       "siamese_fitted_10epochs_bert_tiny.pt:   0%|          | 0.00/235M [00:00<?, ?B/s]"
      ]
     },
     "metadata": {},
     "output_type": "display_data"
    },
    {
     "data": {
      "application/vnd.jupyter.widget-view+json": {
       "model_id": "b9a9bd92f00348bba7b2a40d3996412a",
       "version_major": 2,
       "version_minor": 0
      },
      "text/plain": [
       "cc12m_ddp_4mill_ep_4.pt:   0%|          | 0.00/22.2M [00:00<?, ?B/s]"
      ]
     },
     "metadata": {},
     "output_type": "display_data"
    },
    {
     "data": {
      "application/vnd.jupyter.widget-view+json": {
       "model_id": "5fb161eb48c149d681ed8e321c907f41",
       "version_major": 2,
       "version_minor": 0
      },
      "text/plain": [
       "siamese_fitted_10epochs_bert_turbo.pt:   0%|          | 0.00/304M [00:00<?, ?B/s]"
      ]
     },
     "metadata": {},
     "output_type": "display_data"
    },
    {
     "data": {
      "text/plain": [
       "'/home/anton/marketplace/clip-siamese/data'"
      ]
     },
     "execution_count": 2,
     "metadata": {},
     "output_type": "execute_result"
    }
   ],
   "source": [
    "import os\n",
    "from huggingface_hub import HfApi, snapshot_download, login\n",
    "from dotenv import load_dotenv\n",
    "\n",
    "load_dotenv()  # loads HF_TOKEN; token should have read permissions\n",
    "\n",
    "# Enable hf_transfer\n",
    "os.environ['HF_HUB_ENABLE_HF_TRANSFER'] = \"1\"\n",
    "\n",
    "DATA_PATH = 'data'\n",
    "\n",
    "# Download the dataset\n",
    "snapshot_download(\n",
    "    repo_id=\"INDEEPA/clip-siamese\",\n",
    "    repo_type=\"dataset\",\n",
    "    local_dir=DATA_PATH,\n",
    "    local_dir_use_symlinks=False,  # optional: set to True if you want symlinks instead of copies\n",
    "    ignore_patterns=['**/*.jpg', '**/*.webp']  # optional: will skip these files\n",
    ")"
   ]
  }
 ],
 "metadata": {
  "kernelspec": {
   "display_name": "Python 3",
   "language": "python",
   "name": "python3"
  },
  "language_info": {
   "codemirror_mode": {
    "name": "ipython",
    "version": 3
   },
   "file_extension": ".py",
   "mimetype": "text/x-python",
   "name": "python",
   "nbconvert_exporter": "python",
   "pygments_lexer": "ipython3",
   "version": "3.13.2"
  }
 },
 "nbformat": 4,
 "nbformat_minor": 5
}
