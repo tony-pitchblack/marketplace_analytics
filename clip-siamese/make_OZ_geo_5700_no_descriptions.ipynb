{
 "cells": [
  {
   "cell_type": "code",
   "execution_count": 1,
   "id": "452dbf1b",
   "metadata": {},
   "outputs": [],
   "source": [
    "DATA_PATH = 'data'"
   ]
  },
  {
   "cell_type": "code",
   "execution_count": 2,
   "id": "f6e25795",
   "metadata": {},
   "outputs": [
    {
     "data": {
      "text/html": [
       "<div>\n",
       "<style scoped>\n",
       "    .dataframe tbody tr th:only-of-type {\n",
       "        vertical-align: middle;\n",
       "    }\n",
       "\n",
       "    .dataframe tbody tr th {\n",
       "        vertical-align: top;\n",
       "    }\n",
       "\n",
       "    .dataframe thead th {\n",
       "        text-align: right;\n",
       "    }\n",
       "</style>\n",
       "<table border=\"1\" class=\"dataframe\">\n",
       "  <thead>\n",
       "    <tr style=\"text-align: right;\">\n",
       "      <th></th>\n",
       "      <th>SKU</th>\n",
       "      <th>Name</th>\n",
       "      <th>Category</th>\n",
       "      <th>Схема</th>\n",
       "      <th>Brand</th>\n",
       "      <th>Niche</th>\n",
       "      <th>Seller</th>\n",
       "      <th>Balance</th>\n",
       "      <th>Balance FBS</th>\n",
       "      <th>Warehouses count</th>\n",
       "      <th>...</th>\n",
       "      <th>FBS</th>\n",
       "      <th>Base price</th>\n",
       "      <th>Category Position</th>\n",
       "      <th>Categories Last Count</th>\n",
       "      <th>Sales Per Day Average</th>\n",
       "      <th>Turnover</th>\n",
       "      <th>Frozen stocks</th>\n",
       "      <th>Frozen stocks cost</th>\n",
       "      <th>Frozen stocks percent</th>\n",
       "      <th>is_primary</th>\n",
       "    </tr>\n",
       "  </thead>\n",
       "  <tbody>\n",
       "    <tr>\n",
       "      <th>0</th>\n",
       "      <td>936454663</td>\n",
       "      <td>Карта мира географическая политическая интерак...</td>\n",
       "      <td>Канцелярские товары/Бумажная продукция/Карты мира</td>\n",
       "      <td>FBO</td>\n",
       "      <td>NaN</td>\n",
       "      <td>Дом и сад/Декор и интерьер/Картины и панно/Гра...</td>\n",
       "      <td>GooDaY</td>\n",
       "      <td>346</td>\n",
       "      <td>0</td>\n",
       "      <td>12</td>\n",
       "      <td>...</td>\n",
       "      <td>0</td>\n",
       "      <td>4990</td>\n",
       "      <td>1</td>\n",
       "      <td>1</td>\n",
       "      <td>5.2</td>\n",
       "      <td>66.54</td>\n",
       "      <td>112</td>\n",
       "      <td>202832</td>\n",
       "      <td>32.37</td>\n",
       "      <td>False</td>\n",
       "    </tr>\n",
       "  </tbody>\n",
       "</table>\n",
       "<p>1 rows × 43 columns</p>\n",
       "</div>"
      ],
      "text/plain": [
       "         SKU                                               Name  \\\n",
       "0  936454663  Карта мира географическая политическая интерак...   \n",
       "\n",
       "                                            Category Схема Brand  \\\n",
       "0  Канцелярские товары/Бумажная продукция/Карты мира   FBO   NaN   \n",
       "\n",
       "                                               Niche  Seller  Balance  \\\n",
       "0  Дом и сад/Декор и интерьер/Картины и панно/Гра...  GooDaY      346   \n",
       "\n",
       "   Balance FBS  Warehouses count  ...  FBS  Base price  Category Position  \\\n",
       "0            0                12  ...    0        4990                  1   \n",
       "\n",
       "   Categories Last Count  Sales Per Day Average  Turnover  Frozen stocks  \\\n",
       "0                      1                    5.2     66.54            112   \n",
       "\n",
       "   Frozen stocks cost  Frozen stocks percent  is_primary  \n",
       "0              202832                  32.37       False  \n",
       "\n",
       "[1 rows x 43 columns]"
      ]
     },
     "execution_count": 2,
     "metadata": {},
     "output_type": "execute_result"
    }
   ],
   "source": [
    "import pandas as pd\n",
    "from pathlib import Path\n",
    "\n",
    "file_path = Path(DATA_PATH) / 'tables_OZ_geo_5700/Карты_мира_озон.xlsm'\n",
    "source_df = pd.read_excel(file_path)\n",
    "source_df.head(1)"
   ]
  },
  {
   "cell_type": "code",
   "execution_count": 3,
   "id": "af4d26d2",
   "metadata": {},
   "outputs": [],
   "source": [
    "# Image dataset name\n",
    "DATASET_NAME = \"images_OZ_geo_5700\""
   ]
  },
  {
   "cell_type": "code",
   "execution_count": 4,
   "id": "c39c07b2",
   "metadata": {},
   "outputs": [
    {
     "name": "stderr",
     "output_type": "stream",
     "text": [
      "Downloading images: 100%|██████████| 5703/5703 [01:21<00:00, 69.80it/s] \n"
     ]
    }
   ],
   "source": [
    "# Collect images\n",
    "\n",
    "import nest_asyncio\n",
    "nest_asyncio.apply()\n",
    "\n",
    "from utils import parallel_download_img\n",
    "\n",
    "\n",
    "# Download image files using the 'Thumb' column for both URL and ID extraction\n",
    "results = await parallel_download_img(\n",
    "    df=source_df,\n",
    "    url_col='Thumb',\n",
    "    img_id_regex=r'/(\\d+)\\.jpg$',  # capture numeric ID before '.jpg'\n",
    "    dataset_name=DATASET_NAME,\n",
    "    base_download_dir=DATA_PATH,\n",
    "    max_concurrency=100,\n",
    "    delay=1.0\n",
    ")"
   ]
  },
  {
   "cell_type": "code",
   "execution_count": 5,
   "id": "ef49a8b9",
   "metadata": {},
   "outputs": [],
   "source": [
    "# Merge the list of results into your DataFrame as a new column\n",
    "\n",
    "source_df['image_name'] = results"
   ]
  },
  {
   "cell_type": "code",
   "execution_count": 8,
   "id": "e00a49d1",
   "metadata": {},
   "outputs": [],
   "source": [
    "# Save images and names\n",
    "\n",
    "file_path = (\n",
    "    Path(DATA_PATH) /\n",
    "    Path('tables_OZ_geo_5700') /\n",
    "    Path('OZ_geo_5700_no_descriptions.csv')\n",
    ")\n",
    "\n",
    "target_df = (\n",
    "    source_df[['sku', 'Name', 'image_name', 'url', 'seller']]\n",
    "    .rename(columns={'Name': 'name'})\n",
    ")\n",
    "\n",
    "target_df.to_csv(file_path, index=None)"
   ]
  }
 ],
 "metadata": {
  "kernelspec": {
   "display_name": "Python 3",
   "language": "python",
   "name": "python3"
  },
  "language_info": {
   "codemirror_mode": {
    "name": "ipython",
    "version": 3
   },
   "file_extension": ".py",
   "mimetype": "text/x-python",
   "name": "python",
   "nbconvert_exporter": "python",
   "pygments_lexer": "ipython3",
   "version": "3.13.2"
  }
 },
 "nbformat": 4,
 "nbformat_minor": 5
}
