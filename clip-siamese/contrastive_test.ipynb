{
 "cells": [
  {
   "cell_type": "markdown",
   "metadata": {},
   "source": [
    "# Parameters"
   ]
  },
  {
   "cell_type": "code",
   "execution_count": null,
   "metadata": {},
   "outputs": [],
   "source": [
    "# LOG_TO_WANDB = False\n",
    "LOG_TO_WANDB = True\n",
    "\n",
    "# LIMIT_BATCHES = None\n",
    "LIMIT_BATCHES = 1 # cpu smoke run"
   ]
  },
  {
   "cell_type": "code",
   "execution_count": 24,
   "metadata": {},
   "outputs": [],
   "source": [
    "# Set up data paths\n",
    "\n",
    "DATA_PATH = 'data/'\n",
    "\n",
    "# TABLE_DATASET_FILE = 'tables_labeled/processed/labeled_5k_with-options.csv'\n",
    "# IMG_DATASET_NAME = 'images_7k' # same for all 'labeled.*' datasets\n",
    "\n",
    "# TABLE_DATASET_FILE = 'tables_WB_OZ_100/WB_OZ_100.csv'\n",
    "# TABLE_DATASET_FILE = 'tables_WB_OZ_100/WB_OZ_100_conjugated.csv'\n",
    "# TABLE_DATASET_FILE = 'tables_WB_OZ_100/WB_OZ_100_conjugated_shuffled_seed=42_fraction=1.csv'\n",
    "# TABLE_DATASET_FILE = 'tables_WB_OZ_100/WB_OZ_100_conjugated_shuffled_seed=42_fraction=0.5.csv'\n",
    "# IMG_DATASET_NAME = 'images_WB_OZ_100'\n",
    "\n",
    "TABLE_DATASET_FILE = 'tables_OZ_geo_5500/processed/pairwise-splits/test=0.1_val=0.05/test.csv'\n",
    "IMG_DATASET_NAME = 'images_OZ_geo_5500'"
   ]
  },
  {
   "cell_type": "code",
   "execution_count": null,
   "metadata": {},
   "outputs": [],
   "source": [
    "# CHOSEN_MODEL_CKPT = None\n",
    "# CHOSEN_MODEL_CKPT = 'siamese_contrastive.pt'\n",
    "# CHOSEN_MODEL_CKPT = 'siamese_contrastive_7k.pt'\n",
    "CHOSEN_MODEL_CKPT = 'siamese_contrastive_soft-neg_epoch=1_val-f1=0.829_val-pos-acc=0.802_val-neg-acc=0.932_splitting-by-query_cc12m_rubert_tiny_ep_1.pt_best-f1-threshold=1.010.pt'\n",
    "\n",
    "# NOTE: make sure CHOSEN_MODEL_CKPT exists in `model_configs` below\n",
    "# NOTE: choose None to evaluate all models listed in `model_configs`"
   ]
  },
  {
   "cell_type": "code",
   "execution_count": 26,
   "metadata": {},
   "outputs": [],
   "source": [
    "import torch\n",
    "\n",
    "DEVICE='cuda' if torch.cuda.is_available() else 'cpu'\n",
    "BATCH_SIZE = 256 if torch.cuda.is_available() else 8"
   ]
  },
  {
   "cell_type": "code",
   "execution_count": 27,
   "metadata": {},
   "outputs": [],
   "source": [
    "# Set up model configs\n",
    "\n",
    "model_configs = [ \n",
    "\n",
    "    dict(\n",
    "        MODEL_CKPT = 'siamese_contrastive_soft-neg_epoch=1_val-f1=0.829_val-pos-acc=0.802_val-neg-acc=0.932_splitting-by-query_cc12m_rubert_tiny_ep_1.pt_best-f1-threshold=1.010.pt',\n",
    "        NAME_MODEL_NAME = 'cointegrated/rubert-tiny',\n",
    "        DESCRIPTION_MODEL_NAME = 'cointegrated/rubert-tiny',\n",
    "        CONTRASTIVE_THRESHOLD=0.3,\n",
    "    ),\n",
    "\n",
    "    dict(\n",
    "        MODEL_CKPT = 'siamese_contrastive.pt',\n",
    "\n",
    "        NAME_MODEL_NAME = 'cointegrated/rubert-tiny',\n",
    "        # NAME_MODEL_NAME = 'DeepPavlov/distilrubert-tiny-cased-conversational-v1',\n",
    "\n",
    "        DESCRIPTION_MODEL_NAME = 'cointegrated/rubert-tiny',\n",
    "        # DESCRIPTION_MODEL_NAME = 'sergeyzh/rubert-tiny-turbo',\n",
    "\n",
    "        CONTRASTIVE_THRESHOLD=0.3,\n",
    "    ),\n",
    "    \n",
    "    dict(\n",
    "        MODEL_CKPT = 'siamese_contrastive_7k.pt',\n",
    "\n",
    "        NAME_MODEL_NAME = 'cointegrated/rubert-tiny',\n",
    "        # NAME_MODEL_NAME = 'DeepPavlov/distilrubert-tiny-cased-conversational-v1',\n",
    "\n",
    "        DESCRIPTION_MODEL_NAME = 'cointegrated/rubert-tiny',\n",
    "\n",
    "        CONTRASTIVE_THRESHOLD=0.3,\n",
    "    ),\n",
    "    \n",
    "    \n",
    "    # # TODO: find correct name/description names\n",
    "    # dict(\n",
    "    #     MODEL_CKPT = 'siamese_contrastive_1gpu.pt',\n",
    "\n",
    "    #     NAME_MODEL_NAME = 'cointegrated/rubert-tiny',\n",
    "    #     # NAME_MODEL_NAME = 'DeepPavlov/distilrubert-tiny-cased-conversational-v1',\n",
    "\n",
    "    #     # DESCRIPTION_MODEL_NAME = 'sergeyzh/rubert-tiny-turbo',\n",
    "    #     DESCRIPTION_MODEL_NAME = 'cointegrated/rubert-tiny',\n",
    "\n",
    "    #     CONTRASTIVE_THRESHOLD=0.3,\n",
    "    # ),\n",
    "]"
   ]
  },
  {
   "cell_type": "code",
   "execution_count": 28,
   "metadata": {},
   "outputs": [
    {
     "name": "stdout",
     "output_type": "stream",
     "text": [
      "Available models:\n"
     ]
    },
    {
     "data": {
      "text/plain": [
       "['siamese_contrastive_test-f1=0.875_splitting-by-query.pt',\n",
       " 'siamese_contrastive.pt',\n",
       " 'siamese_contrastive_7k.pt']"
      ]
     },
     "execution_count": 28,
     "metadata": {},
     "output_type": "execute_result"
    }
   ],
   "source": [
    "model_configs = {config['MODEL_CKPT']: config for config in model_configs}\n",
    "print('Available models:')\n",
    "list(model_configs.keys())"
   ]
  },
  {
   "cell_type": "markdown",
   "metadata": {},
   "source": [
    "# Log into services"
   ]
  },
  {
   "cell_type": "code",
   "execution_count": 29,
   "metadata": {},
   "outputs": [],
   "source": [
    "try:\n",
    "    import dotenv\n",
    "except ImportError:\n",
    "    !pip install python-dotenv"
   ]
  },
  {
   "cell_type": "code",
   "execution_count": 30,
   "metadata": {},
   "outputs": [
    {
     "name": "stderr",
     "output_type": "stream",
     "text": [
      "Note: Environment variable`HF_TOKEN` is set and is the current active token independently from the token you've just configured.\n"
     ]
    }
   ],
   "source": [
    "# Use tokens from .env\n",
    "\n",
    "import os\n",
    "from dotenv import load_dotenv\n",
    "\n",
    "import huggingface_hub\n",
    "import wandb\n",
    "\n",
    "load_dotenv()\n",
    "\n",
    "HF_TOKEN = os.getenv(\"HF_TOKEN\")\n",
    "huggingface_hub.login(token=HF_TOKEN)\n",
    "\n",
    "if LOG_TO_WANDB:\n",
    "    WANDB_API_KEY = os.getenv(\"WANDB_API_KEY\")\n",
    "    wandb.login(key=WANDB_API_KEY)"
   ]
  },
  {
   "cell_type": "markdown",
   "metadata": {},
   "source": [
    "# Imports"
   ]
  },
  {
   "cell_type": "code",
   "execution_count": 31,
   "metadata": {},
   "outputs": [],
   "source": [
    "import os\n",
    "# os.environ[\"CUDA_DEVICE_ORDER\"] = \"PCI_BUS_ID\"\n",
    "# os.environ[\"CUDA_VISIBLE_DEVICES\"] = \"1\"\n",
    "\n",
    "\n",
    "from timm import create_model\n",
    "import numpy as np\n",
    "import pandas as pd\n",
    "import os\n",
    "import torch\n",
    "from torch import nn\n",
    "from torch import optim, Tensor\n",
    "import torch.nn.functional as F\n",
    "from torch.utils.data import DataLoader\n",
    "from torchvision import transforms\n",
    "# from torchinfo import summary\n",
    "import transformers\n",
    "from transformers import DistilBertModel, DistilBertConfig, DistilBertTokenizer,\\\n",
    "        get_linear_schedule_with_warmup\n",
    "from transformers import AutoModel, AutoTokenizer\n",
    "\n",
    "import cv2\n",
    "\n",
    "from PIL import Image\n",
    "from tqdm.auto import tqdm\n",
    "\n",
    "import json\n",
    "from itertools import product\n",
    "\n",
    "# import datasets\n",
    "# from datasets import Dataset, concatenate_datasets\n",
    "import argparse\n",
    "import requests\n",
    "\n",
    "from io import BytesIO\n",
    "from sklearn.model_selection import StratifiedKFold, train_test_split\n",
    "from sklearn.metrics import balanced_accuracy_score, roc_auc_score, f1_score\n",
    "import matplotlib.pyplot as plt\n",
    "import more_itertools"
   ]
  },
  {
   "cell_type": "markdown",
   "metadata": {},
   "source": [
    "# Source code"
   ]
  },
  {
   "cell_type": "markdown",
   "metadata": {},
   "source": [
    "### RuCLIPtiny"
   ]
  },
  {
   "cell_type": "code",
   "execution_count": 32,
   "metadata": {},
   "outputs": [],
   "source": [
    "class RuCLIPtiny(nn.Module):\n",
    "    def __init__(self, name_model_name: str):\n",
    "        \"\"\"\n",
    "        Initializes the RuCLIPtiny module using the provided name model.\n",
    "        \"\"\"\n",
    "        super().__init__()\n",
    "        self.visual = create_model('convnext_tiny',\n",
    "                                   pretrained=False,  # set True if you want pretrained weights\n",
    "                                   num_classes=0,\n",
    "                                   in_chans=3)       # output: e.g. 768-dim features\n",
    "        \n",
    "        self.transformer = AutoModel.from_pretrained(name_model_name)\n",
    "        name_model_output_size = self.transformer.config.hidden_size  # inferred dynamically\n",
    "        self.final_ln = nn.Linear(name_model_output_size, 768)         # project to 768 dims\n",
    "        self.logit_scale = nn.Parameter(torch.ones([]) * torch.log(torch.tensor(1/0.07)))\n",
    "    \n",
    "    @property\n",
    "    def dtype(self):\n",
    "        return self.visual.stem[0].weight.dtype\n",
    "\n",
    "    def encode_image(self, image: torch.Tensor) -> torch.Tensor:\n",
    "        return self.visual(image.type(self.dtype))\n",
    "\n",
    "    def encode_text(self, input_ids: torch.Tensor, attention_mask: torch.Tensor) -> torch.Tensor:\n",
    "        x = self.transformer(input_ids=input_ids, attention_mask=attention_mask)\n",
    "        # use the CLS token (first token)\n",
    "        x = x.last_hidden_state[:, 0, :]\n",
    "        x = self.final_ln(x)\n",
    "        return x\n",
    "\n",
    "    def forward(self, image: torch.Tensor, input_ids: torch.Tensor, attention_mask: torch.Tensor):\n",
    "        image_features = self.encode_image(image)\n",
    "        text_features = self.encode_text(input_ids, attention_mask)\n",
    "        # Normalize features\n",
    "        image_features = image_features / image_features.norm(dim=-1, keepdim=True)\n",
    "        text_features = text_features / text_features.norm(dim=-1, keepdim=True)\n",
    "        logit_scale = self.logit_scale.exp()\n",
    "        logits_per_image = logit_scale * image_features @ text_features.t()\n",
    "        logits_per_text = logits_per_image.t()\n",
    "        return logits_per_image, logits_per_text\n"
   ]
  },
  {
   "cell_type": "code",
   "execution_count": 33,
   "metadata": {},
   "outputs": [],
   "source": [
    "def get_transform():\n",
    "    return transforms.Compose([\n",
    "        transforms.Resize(224),\n",
    "        transforms.CenterCrop(224),\n",
    "        lambda image: image.convert(\"RGB\"),\n",
    "        transforms.ToTensor(),\n",
    "        transforms.Normalize(mean=[0.485, 0.456, 0.406],\n",
    "                             std=[0.229, 0.224, 0.225]),\n",
    "    ])\n",
    "\n",
    "class Tokenizers:\n",
    "    def __init__(self, name_model_name: str, description_model_name: str):\n",
    "        self.name_tokenizer = AutoTokenizer.from_pretrained(name_model_name)\n",
    "        self.desc_tokenizer = AutoTokenizer.from_pretrained(description_model_name)\n",
    "\n",
    "    def tokenize_name(self, texts, max_len=77):\n",
    "        tokenized = self.name_tokenizer.batch_encode_plus(\n",
    "            texts,\n",
    "            truncation=True,\n",
    "            add_special_tokens=True,\n",
    "            max_length=max_len,\n",
    "            padding='max_length',\n",
    "            return_attention_mask=True,\n",
    "            return_tensors='pt'\n",
    "        )\n",
    "        return torch.stack([tokenized[\"input_ids\"], tokenized[\"attention_mask\"]])\n",
    "\n",
    "    def tokenize_description(self, texts, max_len=77):\n",
    "        tokenized = self.desc_tokenizer(\n",
    "            texts,\n",
    "            truncation=True,\n",
    "            add_special_tokens=True,\n",
    "            max_length=max_len,\n",
    "            padding='max_length',\n",
    "            return_attention_mask=True,\n",
    "            return_tensors='pt'\n",
    "        )\n",
    "        return torch.stack([tokenized[\"input_ids\"], tokenized[\"attention_mask\"]])\n"
   ]
  },
  {
   "cell_type": "code",
   "execution_count": 34,
   "metadata": {},
   "outputs": [],
   "source": [
    "class SiameseRuCLIPDataset(torch.utils.data.Dataset):\n",
    "    def __init__(self, images_dir: str, name_model_name: str, description_model_name: str, df=None, labels=None, df_path=None):\n",
    "        \"\"\"\n",
    "        Dataset requires the concrete models' names for tokenization.\n",
    "        \"\"\"\n",
    "        assert os.path.isdir(images_dir), f\"Image dir does not exist: '{self.images_dir}'\"\n",
    "\n",
    "        self.df = pd.read_csv(df_path) if df_path is not None else df\n",
    "        self.labels = labels\n",
    "        self.images_dir = images_dir\n",
    "        self.tokenizers = Tokenizers(name_model_name, description_model_name)\n",
    "        self.transform = get_transform()\n",
    "        self.max_len = 77\n",
    "\n",
    "    def __getitem__(self, idx):\n",
    "        row = self.df.iloc[idx]\n",
    "        # Tokenize names\n",
    "        name_tokens = self.tokenizers.tokenize_name([str(row.name_first), str(row.name_second)], max_len=self.max_len)\n",
    "        name_first = name_tokens[:, 0, :]  # [input_ids, attention_mask]\n",
    "        name_second = name_tokens[:, 1, :]\n",
    "        # Tokenize descriptions\n",
    "        desc_tokens = self.tokenizers.tokenize_description([str(row.description_first), str(row.description_second)])\n",
    "        desc_first = desc_tokens[:, 0, :]\n",
    "        desc_second = desc_tokens[:, 1, :]\n",
    "        # Process images\n",
    "        im_first_path = os.path.join(self.images_dir, row.image_name_first)\n",
    "        im_first = cv2.imread(im_first_path)\n",
    "        im_first = cv2.cvtColor(im_first, cv2.COLOR_BGR2RGB)\n",
    "        im_first = Image.fromarray(im_first)\n",
    "        im_first = self.transform(im_first)\n",
    "        im_second_path = os.path.join(self.images_dir, row.image_name_first)\n",
    "        im_second = cv2.imread(os.path.join(im_second_path))\n",
    "        im_second = cv2.cvtColor(im_second, cv2.COLOR_BGR2RGB)\n",
    "        im_second = Image.fromarray(im_second)\n",
    "        im_second = self.transform(im_second)\n",
    "        label = self.labels[idx]\n",
    "        return im_first, name_first, desc_first, im_second, name_second, desc_second, label\n",
    "\n",
    "    def __len__(self):\n",
    "        return len(self.df)"
   ]
  },
  {
   "cell_type": "markdown",
   "metadata": {},
   "source": [
    "### SiameseRuCLIP"
   ]
  },
  {
   "cell_type": "code",
   "execution_count": 35,
   "metadata": {},
   "outputs": [],
   "source": [
    "def average_pool(last_hidden_states: Tensor, attention_mask: Tensor) -> Tensor:\n",
    "    last_hidden = last_hidden_states.masked_fill(~attention_mask[..., None].bool(), 0.0)\n",
    "    return last_hidden.sum(dim=1) / attention_mask.sum(dim=1)[..., None]\n",
    "\n",
    "class SiameseRuCLIP(nn.Module):\n",
    "    def __init__(self,\n",
    "                 device: str,\n",
    "                 name_model_name: str,\n",
    "                 description_model_name: str,\n",
    "                 models_dir: str = None,\n",
    "                 preload_ruclip: bool = False,\n",
    "                 preload_model_name: str = None):\n",
    "        \"\"\"\n",
    "        Initializes the SiameseRuCLIP model.\n",
    "        Required parameters:\n",
    "          - models_dir: directory containing saved checkpoints.\n",
    "          - name_model_name: model name for text (name) branch.\n",
    "          - description_model_name: model name for description branch.\n",
    "        \"\"\"\n",
    "        super().__init__()\n",
    "        # Convert the device string to torch.device.\n",
    "        device = torch.device(device)\n",
    "\n",
    "        # Initialize RuCLIPtiny with the provided name model.\n",
    "        self.ruclip = RuCLIPtiny(name_model_name)\n",
    "        if preload_ruclip:\n",
    "            std = torch.load(\n",
    "                os.path.join(models_dir, preload_model_name),\n",
    "                weights_only=True,\n",
    "                map_location=device\n",
    "            )\n",
    "            self.ruclip.load_state_dict(std)\n",
    "            self.ruclip.eval()\n",
    "        # Explicitly move ruclip to the device.\n",
    "        self.ruclip = self.ruclip.to(device)\n",
    "        \n",
    "        # Initialize description transformer with the provided description model and move it.\n",
    "        self.description_transformer = AutoModel.from_pretrained(description_model_name)\n",
    "        self.description_transformer = self.description_transformer.to(device)\n",
    "        \n",
    "        # Infer dimensions automatically from inner modules.\n",
    "        vision_dim = self.ruclip.visual.num_features           # e.g., 768 from ConvNeXt tiny\n",
    "        name_dim = self.ruclip.final_ln.out_features             # e.g., 768 after projection\n",
    "        desc_dim = self.description_transformer.config.hidden_size  # e.g., 312 for cointegrated/rubert-tiny\n",
    "        hidden_dim = vision_dim + name_dim + desc_dim        # e.g., 768+768+312 = 1848\n",
    "        self.hidden_dim = hidden_dim\n",
    "        \n",
    "        # Build the MLP head and move it explicitly.\n",
    "        self.head = nn.Sequential(\n",
    "            nn.Linear(hidden_dim, hidden_dim // 2),\n",
    "            nn.ReLU(),\n",
    "            nn.Linear(hidden_dim // 2, hidden_dim // 4),\n",
    "        ).to(device)\n",
    "        \n",
    "    def encode_description(self, desc):\n",
    "        # desc is [input_ids, attention_mask]\n",
    "        last_hidden_states = self.description_transformer(desc[:, 0, :], desc[:, 1, :]).last_hidden_state\n",
    "        attention_mask = desc[:, 1, :]\n",
    "        # TODO: нужно ли делать пулинг, посмотреть на результаты\n",
    "        return average_pool(last_hidden_states, attention_mask)\n",
    "    \n",
    "    def forward(self, im1, name1, desc1, im2, name2, desc2):\n",
    "        image_emb1 = self.ruclip.encode_image(im1)\n",
    "        image_emb2 = self.ruclip.encode_image(im2)\n",
    "        name_emb1 = self.ruclip.encode_text(name1[:, 0, :], name1[:, 1, :])\n",
    "        name_emb2 = self.ruclip.encode_text(name2[:, 0, :], name2[:, 1, :])\n",
    "        # desc_emb1 = self.ruclip.encode_text(desc1[:, 0, :], desc1[:, 1, :])\n",
    "        # desc_emb2 = self.ruclip.encode_text(desc2[:, 0, :], desc2[:, 1, :])\n",
    "        desc_emb1 = self.encode_description(desc1) \n",
    "        desc_emb2 = self.encode_description(desc2)\n",
    "        first_emb = torch.cat([image_emb1, name_emb1, desc_emb1], dim=1)\n",
    "        second_emb = torch.cat([image_emb2, name_emb2, desc_emb2], dim=1)\n",
    "        out1 = self.head(first_emb)\n",
    "        out2 = self.head(second_emb)\n",
    "        return out1, out2"
   ]
  },
  {
   "cell_type": "markdown",
   "metadata": {},
   "source": [
    "# Evaluation loop"
   ]
  },
  {
   "cell_type": "markdown",
   "metadata": {},
   "source": [
    "## Run evaluation"
   ]
  },
  {
   "cell_type": "code",
   "execution_count": 36,
   "metadata": {},
   "outputs": [
    {
     "data": {
      "application/vnd.jupyter.widget-view+json": {
       "model_id": "fb356fad15da414f8f8bf6b81141044d",
       "version_major": 2,
       "version_minor": 0
      },
      "text/plain": [
       "Fetching 6 files:   0%|          | 0/6 [00:00<?, ?it/s]"
      ]
     },
     "metadata": {},
     "output_type": "display_data"
    }
   ],
   "source": [
    "# Download models' weights & text/image datasets\n",
    "\n",
    "from huggingface_hub import snapshot_download\n",
    "from pathlib import Path\n",
    "\n",
    "REPO_ID = \"INDEEPA/clip-siamese\"\n",
    "LOCAL_DIR = Path(\"data/train_results\")\n",
    "LOCAL_DIR.mkdir(parents=True, exist_ok=True)\n",
    "\n",
    "snapshot_download(\n",
    "    repo_id=REPO_ID,\n",
    "    repo_type='dataset',\n",
    "    local_dir='data',\n",
    "    allow_patterns=[\n",
    "        \"train_results/siamese_contrastive*.pt\",\n",
    "        TABLE_DATASET_FILE,\n",
    "        f\"{IMG_DATASET_NAME}.zip\"\n",
    "    ],\n",
    ")\n",
    "\n",
    "!unzip -n -q data/{IMG_DATASET_NAME}.zip -d data/"
   ]
  },
  {
   "cell_type": "code",
   "execution_count": 37,
   "metadata": {},
   "outputs": [],
   "source": [
    "# Load data\n",
    "\n",
    "labeled = pd.read_csv(DATA_PATH + TABLE_DATASET_FILE)\n",
    "images_dir = DATA_PATH + IMG_DATASET_NAME\n",
    "\n",
    "y = 1 - labeled.label.values # target = minimal euclidean distance = 0\n",
    "X = labeled.drop(columns='label').copy()\n",
    "\n",
    "def load_data(model_config):\n",
    "    test_ds = SiameseRuCLIPDataset(\n",
    "        images_dir,\n",
    "        model_config['NAME_MODEL_NAME'], \n",
    "        model_config['DESCRIPTION_MODEL_NAME'], \n",
    "        X, y\n",
    "    )\n",
    "    test_dl = DataLoader(test_ds, batch_size=BATCH_SIZE)\n",
    "    return test_dl"
   ]
  },
  {
   "cell_type": "code",
   "execution_count": 38,
   "metadata": {},
   "outputs": [],
   "source": [
    "# model_config = model_configs[CHOSEN_MODEL_CKPT] # choose a particular config for debugging\n",
    "# test_dl = load_data(model_config)\n",
    "# im1, name1, desc1, im2, name2, desc2, label = next(iter(test_dl))\n",
    "# im1, name1, desc1, im2, name2, desc2, label = im1.to(DEVICE), name1.to(DEVICE), desc1.to(DEVICE), im2.to(DEVICE), name2.to(DEVICE), desc2.to(DEVICE), label.to(DEVICE)"
   ]
  },
  {
   "cell_type": "code",
   "execution_count": 39,
   "metadata": {},
   "outputs": [],
   "source": [
    "# Load model\n",
    "\n",
    "from pathlib import Path\n",
    "\n",
    "def load_model(model_config):\n",
    "    ckpt_name = model_config['MODEL_CKPT']\n",
    "    model_ckpt_path = Path(DATA_PATH) / 'train_results' / ckpt_name\n",
    "    std = torch.load(model_ckpt_path, map_location=DEVICE)\n",
    "\n",
    "    # Initialize the model using the configuration.\n",
    "    model = SiameseRuCLIP(\n",
    "        name_model_name=model_config[\"NAME_MODEL_NAME\"],\n",
    "        description_model_name=model_config[\"DESCRIPTION_MODEL_NAME\"],\n",
    "        device=DEVICE,\n",
    "    )\n",
    "\n",
    "    model.load_state_dict(std)\n",
    "    return model"
   ]
  },
  {
   "cell_type": "code",
   "execution_count": 40,
   "metadata": {},
   "outputs": [],
   "source": [
    "# model = load_model(model_config)\n",
    "# out1, out2 = model(im1, name1, desc1, im2, name2, desc2) "
   ]
  },
  {
   "cell_type": "code",
   "execution_count": 41,
   "metadata": {},
   "outputs": [],
   "source": [
    "import numpy as np\n",
    "import torch\n",
    "\n",
    "def compute_embeddings(model, valid_loader, device=DEVICE, limit_batches=None):\n",
    "    \"\"\"\n",
    "    Compute and return the embeddings for all image pairs in the validation set.\n",
    "    \n",
    "    Args:\n",
    "        model: The embedding model.\n",
    "        valid_loader: DataLoader for the validation set.\n",
    "        device: The device to run the model on.\n",
    "    \n",
    "    Returns:\n",
    "        embeddings1 (np.ndarray): Embeddings for the first image in the pair.\n",
    "        embeddings2 (np.ndarray): Embeddings for the second image in the pair.\n",
    "        labels (np.ndarray): Ground truth labels (1 for similar, 0 for not).\n",
    "    \"\"\"\n",
    "    all_embeddings1 = []\n",
    "    all_embeddings2 = []\n",
    "    all_labels = []\n",
    "\n",
    "    with torch.no_grad():\n",
    "        for batch_idx, data in tqdm(enumerate(valid_loader), total=len(valid_loader)):\n",
    "            if limit_batches is not None and batch_idx > limit_batches-1:\n",
    "                break\n",
    "\n",
    "            im1, name1, desc1, im2, name2, desc2, label = data\n",
    "            im1, name1, desc1, im2, name2, desc2, label = (\n",
    "                im1.to(device), name1.to(device), desc1.to(device),\n",
    "                im2.to(device), name2.to(device), desc2.to(device), label.to(device)\n",
    "            )\n",
    "            out1, out2 = model(im1, name1, desc1, im2, name2, desc2)\n",
    "\n",
    "            # Store embeddings and labels\n",
    "            all_embeddings1.append(out1.cpu().numpy())\n",
    "            all_embeddings2.append(out2.cpu().numpy())\n",
    "            all_labels.append(label.cpu().numpy())\n",
    "\n",
    "    # Convert lists to numpy arrays\n",
    "    embeddings1 = np.concatenate(all_embeddings1, axis=0)\n",
    "    embeddings2 = np.concatenate(all_embeddings2, axis=0)\n",
    "    labels = np.concatenate(all_labels, axis=0)\n",
    "\n",
    "    return embeddings1, embeddings2, labels"
   ]
  },
  {
   "cell_type": "code",
   "execution_count": 42,
   "metadata": {},
   "outputs": [],
   "source": [
    "# embs_first, embs_second, labels = compute_embeddings(model, test_dl, DEVICE, LIMIT_BATCHES)\n",
    "# embs_first.shape, embs_second.shape"
   ]
  },
  {
   "cell_type": "code",
   "execution_count": 43,
   "metadata": {},
   "outputs": [],
   "source": [
    "# Helper function for computing accuracy\n",
    "\n",
    "def evaluate_pair(output1, output2, target, threshold, return_preds=False):\n",
    "    euclidean_distance = F.pairwise_distance(output1, output2)\n",
    "    # меньше границы, там где будет True — конкуренты\n",
    "    cond = euclidean_distance < threshold\n",
    "    pos_sum = 0\n",
    "    neg_sum = 0\n",
    "    pos_acc = 0\n",
    "    neg_acc = 0\n",
    "\n",
    "    for i in range(len(cond)):\n",
    "        # 1 значит не конкуренты\n",
    "        if target[i]:\n",
    "            neg_sum+=1\n",
    "            # 0 в cond значит дальше друг от друга чем threshold\n",
    "            if not cond[i]:\n",
    "                neg_acc+=1\n",
    "        elif not target[i]:\n",
    "            pos_sum+=1\n",
    "            if cond[i]:\n",
    "                pos_acc+=1\n",
    "\n",
    "    if return_preds:\n",
    "        return pos_acc, pos_sum, neg_acc, neg_sum, cond\n",
    "    else:\n",
    "        return pos_acc, pos_sum, neg_acc, neg_sum"
   ]
  },
  {
   "cell_type": "code",
   "execution_count": 44,
   "metadata": {},
   "outputs": [],
   "source": [
    "# %% [modified] Function to compute and save extended dataframe with predictions\n",
    "def compute_and_save_extended_predictions(\n",
    "    embs_first,\n",
    "    embs_second,\n",
    "    labels,\n",
    "    labeled_df,\n",
    "    threshold,\n",
    "    source_file_path: str = 'extended_predictions.csv',\n",
    "    include_raw_preds: bool = True\n",
    ") -> 'pd.DataFrame':\n",
    "    \"\"\"\n",
    "    Compute contrastive scores and prediction margins, then save an extended DataFrame.\n",
    "\n",
    "    If the DataFrame is longer than the embeddings, it will be truncated to match.\n",
    "\n",
    "    Args:\n",
    "        embs_first: array-like of first embeddings.\n",
    "        embs_second: array-like of second embeddings.\n",
    "        labels: array-like of boolean ground-truth labels.\n",
    "        labeled_df: pandas DataFrame containing the original data.\n",
    "        threshold: float, contrastive distance threshold.\n",
    "        output_path: str, path to write the CSV.\n",
    "        include_raw_preds: bool, whether to include raw model predictions in the output.\n",
    "\n",
    "    Returns:\n",
    "        extended_df: pandas DataFrame with added columns:\n",
    "            - 'score': euclidean distance between embedding pairs.\n",
    "            - f'pred_margin={threshold}': threshold minus score.\n",
    "            - 'prediction' (optional): raw predictions from evaluate_pair.\n",
    "    \"\"\"\n",
    "    import torch\n",
    "    from torch.nn.functional import pairwise_distance\n",
    "\n",
    "    # Ensure inputs align: truncate DataFrame if longer than embeddings\n",
    "    n = len(embs_first)\n",
    "    dataset_frac = round(n / len(labeled_df), 2)\n",
    "    if len(labeled_df) > n:\n",
    "        labeled_df = labeled_df.iloc[:n].reset_index(drop=True)\n",
    "\n",
    "    # Convert inputs to tensors\n",
    "    embs_first_tensor = torch.tensor(embs_first, dtype=torch.float)\n",
    "    embs_second_tensor = torch.tensor(embs_second, dtype=torch.float)\n",
    "    labels_tensor = torch.tensor(labels, dtype=torch.bool)\n",
    "\n",
    "    # Get raw model predictions\n",
    "    *_, preds_tensor = evaluate_pair(\n",
    "        embs_first_tensor,\n",
    "        embs_second_tensor,\n",
    "        labels_tensor,\n",
    "        threshold,\n",
    "        return_preds=True\n",
    "    )\n",
    "\n",
    "    # Compute euclidean distances as scores\n",
    "    distances = pairwise_distance(embs_first_tensor, embs_second_tensor).cpu().numpy()\n",
    "\n",
    "    # Build extended DataFrame\n",
    "    extended_df = labeled_df.copy()\n",
    "    extended_df['score'] = distances\n",
    "    extended_df[f'pred_margin={threshold}'] = threshold - distances\n",
    "\n",
    "    # Optionally include raw predictions\n",
    "    if include_raw_preds:\n",
    "        extended_df['prediction'] = preds_tensor.cpu().numpy()\n",
    "\n",
    "    # Save to CSV\n",
    "    output_path = Path(source_file_path).parent / (Path(source_file_path).stem + f'_evaluation-threshold={threshold}_dataset-frac={dataset_frac}.csv')\n",
    "    extended_df.to_csv(output_path, index=False)\n",
    "    print(f\"Extended predictions saved to '{output_path}'\")\n",
    "\n",
    "    return extended_df\n",
    "\n",
    "\n",
    "# extended_df = compute_and_save_extended_predictions(\n",
    "#     embs_first, embs_second, labels, labeled,\n",
    "#     model_config['CONTRASTIVE_THRESHOLD'],\n",
    "#     source_file_path=DATA_PATH + TABLE_DATASET_FILE\n",
    "# )"
   ]
  },
  {
   "cell_type": "code",
   "execution_count": 45,
   "metadata": {},
   "outputs": [],
   "source": [
    "# Get evaluation score\n",
    "\n",
    "import torch\n",
    "import torch.nn.functional as F\n",
    "\n",
    "def validation(embeddings1, embeddings2, labels, threshold):\n",
    "    \"\"\"\n",
    "    Compute accuracy for precomputed embeddings using evaluate_pair().\n",
    "\n",
    "    Args:\n",
    "        embeddings1 (np.ndarray): Precomputed embeddings for the first image in the pair.\n",
    "        embeddings2 (np.ndarray): Precomputed embeddings for the second image in the pair.\n",
    "        labels (np.ndarray): Ground truth labels (True for non-competitor, False for competitor).\n",
    "        threshold (float): Distance threshold for determining similarity.\n",
    "\n",
    "    Returns:\n",
    "        pos_accuracy (float): Accuracy for competitor samples (label == False).\n",
    "        neg_accuracy (float): Accuracy for non-competitor samples (label == True).\n",
    "    \"\"\"\n",
    "    # Convert NumPy arrays to torch tensors\n",
    "    embeddings1_tensor = torch.tensor(embeddings1, dtype=torch.float)\n",
    "    embeddings2_tensor = torch.tensor(embeddings2, dtype=torch.float)\n",
    "    # Convert labels to bool if they're not already boolean\n",
    "    labels_tensor = torch.tensor(labels, dtype=torch.bool)\n",
    "\n",
    "    # Use evaluate_pair to compute counts of correct predictions\n",
    "    pos_acc, pos_sum, neg_acc, neg_sum = evaluate_pair(embeddings1_tensor, embeddings2_tensor, labels_tensor, threshold)\n",
    "\n",
    "    # Calculate accuracies; pos corresponds to competitor samples (label False) and neg to non-competitor (label True)\n",
    "    pos_accuracy = pos_acc / pos_sum if pos_sum > 0 else None\n",
    "    neg_accuracy = neg_acc / neg_sum if neg_sum > 0 else None\n",
    "\n",
    "    return pos_accuracy, neg_accuracy"
   ]
  },
  {
   "cell_type": "code",
   "execution_count": 46,
   "metadata": {},
   "outputs": [],
   "source": [
    "# pos_acc, neg_acc = validation(\n",
    "#     embs_first, embs_second, labels,\n",
    "#     model_config['CONTRASTIVE_THRESHOLD']\n",
    "# )\n",
    "\n",
    "# pos_acc, neg_acc"
   ]
  },
  {
   "cell_type": "code",
   "execution_count": 47,
   "metadata": {},
   "outputs": [],
   "source": [
    "# Compute and plot ROC-AUC\n",
    "\n",
    "import torch.nn.functional as F\n",
    "from sklearn.metrics import roc_curve, auc\n",
    "\n",
    "def compute_roc_auc_values(embeddings1, embeddings2, labels):\n",
    "    \"\"\"\n",
    "    Compute ROC-AUC for the precomputed embeddings.\n",
    "    \n",
    "    Args:\n",
    "        embeddings1 (np.ndarray): Precomputed embeddings for the first image in the pair.\n",
    "        embeddings2 (np.ndarray): Precomputed embeddings for the second image in the pair.\n",
    "        labels (np.ndarray): Ground truth labels (1 for similar, 0 for not).\n",
    "    \n",
    "    Returns:\n",
    "        fpr (np.ndarray): False Positive Rate.\n",
    "        tpr (np.ndarray): True Positive Rate.\n",
    "        roc_auc (float): Area under the ROC curve.\n",
    "    \"\"\"\n",
    "    # Calculate Euclidean distances between embeddings\n",
    "    euclidean_distances = np.linalg.norm(embeddings1 - embeddings2, axis=1)\n",
    "\n",
    "    # Compute ROC curve and AUC score\n",
    "    fpr, tpr, _ = roc_curve(labels, euclidean_distances)\n",
    "    roc_auc = auc(fpr, tpr)\n",
    "\n",
    "    return fpr, tpr, roc_auc\n",
    "\n",
    "import matplotlib.pyplot as plt\n",
    "\n",
    "def get_roc_curve_plot(fpr, tpr, roc_auc, model_ckpt):\n",
    "    \"\"\"\n",
    "    Generate and return a Matplotlib figure and axis with the ROC curve plotted.\n",
    "\n",
    "    Args:\n",
    "        fpr (np.ndarray): False Positive Rate.\n",
    "        tpr (np.ndarray): True Positive Rate.\n",
    "        roc_auc (float): Area under the ROC curve.\n",
    "    \n",
    "    Returns:\n",
    "        fig (matplotlib.figure.Figure): The generated figure.\n",
    "        ax (matplotlib.axes.Axes): The generated axes.\n",
    "    \"\"\"\n",
    "    fig, ax = plt.subplots(figsize=(8, 6))\n",
    "    ax.plot(fpr, tpr, color='blue', lw=2, label=f'ROC curve (AUC = {roc_auc:.4f})')\n",
    "    ax.plot([0, 1], [0, 1], color='gray', linestyle='--', lw=2)  # Diagonal line\n",
    "    ax.set_xlim([0.0, 1.0])\n",
    "    ax.set_ylim([0.0, 1.05])\n",
    "    ax.set_xlabel('False Positive Rate')\n",
    "    ax.set_ylabel('True Positive Rate')\n",
    "    ax.set_title(f'ROC Curve — {model_ckpt}')\n",
    "    ax.legend(loc='lower right')\n",
    "    ax.grid(True)\n",
    "    return fig\n",
    "\n",
    "# fpr, tpr, roc_auc = compute_roc_auc_values(embs_first, embs_second, labels)\n",
    "# fig = get_roc_curve_plot(fpr, tpr, roc_auc)\n",
    "# plt.show()"
   ]
  },
  {
   "cell_type": "code",
   "execution_count": 48,
   "metadata": {},
   "outputs": [],
   "source": [
    "import wandb\n",
    "\n",
    "def log_to_wandb(\n",
    "    model_config, pos_acc, neg_acc,\n",
    "    roc_auc = None,\n",
    "    plot_fig=None\n",
    "):\n",
    "    \"\"\"\n",
    "    Log metrics (and optionally a plot) to Weights & Biases.\n",
    "    \n",
    "    Args:\n",
    "        model_config (dict): Model configuration and related parameters.\n",
    "        pos_acc (float): Accuracy for competitor samples (label == False).\n",
    "        neg_acc (float): Accuracy for non-competitor samples (label == True).\n",
    "        plot_fig (matplotlib.figure.Figure, optional): Figure object to be logged.\n",
    "    \"\"\"\n",
    "    wandb.init(\n",
    "        project=\"product-matching\",\n",
    "        entity=\"overfit1010\",\n",
    "        name=f\"test-{model_config['MODEL_CKPT']}\",\n",
    "        config={\n",
    "            \"table_dataset_file\": TABLE_DATASET_FILE,\n",
    "            \"img_dataset_name\": IMG_DATASET_NAME,\n",
    "            \"model_ckpt\": model_config['MODEL_CKPT'],\n",
    "            \"name_model_name\": model_config['NAME_MODEL_NAME'],\n",
    "            \"description_model_name\": model_config['DESCRIPTION_MODEL_NAME'],\n",
    "            \"threshold\": model_config['CONTRASTIVE_THRESHOLD'],\n",
    "            \"roc_auc\": roc_auc,\n",
    "            \"model_type\": \"siamese-contrastive\",\n",
    "            \"run_type\": \"test\"\n",
    "        }\n",
    "    )\n",
    "\n",
    "    test_weighted_accuracy = None\n",
    "    if pos_acc is not None and neg_acc is not None:\n",
    "        test_weighted_accuracy = (pos_acc + neg_acc) / 2\n",
    "\n",
    "    wandb.summary[\"test.pos_acc\"] = pos_acc\n",
    "    wandb.summary[\"test.neg_acc\"] = neg_acc\n",
    "    wandb.summary[\"test.weighted_acc\"] = test_weighted_accuracy\n",
    "\n",
    "    # Only log the plot if the ROC-AUC is valid (not np.nan)\n",
    "    if not np.isnan(roc_auc):  # Check if roc_auc is not NaN\n",
    "        if plot_fig is not None:\n",
    "            # Log the ROC curve plot as an image\n",
    "            wandb.log({\"roc_curve\": wandb.Image(plot_fig)})\n",
    "\n",
    "    wandb.finish()\n",
    "\n",
    "# log_to_wandb(model_config, pos_acc, neg_acc, roc_auc, fig)"
   ]
  },
  {
   "cell_type": "code",
   "execution_count": 55,
   "metadata": {},
   "outputs": [
    {
     "data": {
      "text/plain": [
       "np.float64(0.14)"
      ]
     },
     "execution_count": 55,
     "metadata": {},
     "output_type": "execute_result"
    }
   ],
   "source": [
    "round(np.float64(0.14285714285714285), 2)"
   ]
  },
  {
   "cell_type": "code",
   "execution_count": null,
   "metadata": {},
   "outputs": [
    {
     "data": {
      "application/vnd.jupyter.widget-view+json": {
       "model_id": "c37c60b9c8c74bc5b3daf1e11b80f47c",
       "version_major": 2,
       "version_minor": 0
      },
      "text/plain": [
       "  0%|          | 0/81 [00:00<?, ?it/s]"
      ]
     },
     "metadata": {},
     "output_type": "display_data"
    },
    {
     "name": "stdout",
     "output_type": "stream",
     "text": [
      "Extended predictions saved to 'data/tables_OZ_geo_5500/processed/pairwise-splits/test=0.1_val=0.05/test_evaluation-threshold=0.3_dataset-frac=0.01.csv'\n",
      "{'model_ckpt': 'siamese_contrastive_test-f1=0.875_splitting-by-query.pt',\n",
      " 'neg_acc': 0.57,\n",
      " 'pos_acc': 0.0,\n",
      " 'roc_auc': np.float64(0.14)}\n"
     ]
    },
    {
     "data": {
      "text/html": [
       "Tracking run with wandb version 0.19.8"
      ],
      "text/plain": [
       "<IPython.core.display.HTML object>"
      ]
     },
     "metadata": {},
     "output_type": "display_data"
    },
    {
     "data": {
      "text/html": [
       "Run data is saved locally in <code>/home/anton/marketplace/clip-siamese/wandb/run-20250522_184921-e8t6xm62</code>"
      ],
      "text/plain": [
       "<IPython.core.display.HTML object>"
      ]
     },
     "metadata": {},
     "output_type": "display_data"
    },
    {
     "data": {
      "text/html": [
       "Syncing run <strong><a href='https://wandb.ai/overfit1010/product-matching/runs/e8t6xm62' target=\"_blank\">test-siamese_contrastive_test-f1=0.875_splitting-by-query.pt</a></strong> to <a href='https://wandb.ai/overfit1010/product-matching' target=\"_blank\">Weights & Biases</a> (<a href='https://wandb.me/developer-guide' target=\"_blank\">docs</a>)<br>"
      ],
      "text/plain": [
       "<IPython.core.display.HTML object>"
      ]
     },
     "metadata": {},
     "output_type": "display_data"
    },
    {
     "data": {
      "text/html": [
       " View project at <a href='https://wandb.ai/overfit1010/product-matching' target=\"_blank\">https://wandb.ai/overfit1010/product-matching</a>"
      ],
      "text/plain": [
       "<IPython.core.display.HTML object>"
      ]
     },
     "metadata": {},
     "output_type": "display_data"
    },
    {
     "data": {
      "text/html": [
       " View run at <a href='https://wandb.ai/overfit1010/product-matching/runs/e8t6xm62' target=\"_blank\">https://wandb.ai/overfit1010/product-matching/runs/e8t6xm62</a>"
      ],
      "text/plain": [
       "<IPython.core.display.HTML object>"
      ]
     },
     "metadata": {},
     "output_type": "display_data"
    },
    {
     "data": {
      "text/html": [],
      "text/plain": [
       "<IPython.core.display.HTML object>"
      ]
     },
     "metadata": {},
     "output_type": "display_data"
    },
    {
     "data": {
      "text/html": [
       "<br>    <style><br>        .wandb-row {<br>            display: flex;<br>            flex-direction: row;<br>            flex-wrap: wrap;<br>            justify-content: flex-start;<br>            width: 100%;<br>        }<br>        .wandb-col {<br>            display: flex;<br>            flex-direction: column;<br>            flex-basis: 100%;<br>            flex: 1;<br>            padding: 10px;<br>        }<br>    </style><br><div class=\"wandb-row\"><div class=\"wandb-col\"><h3>Run summary:</h3><br/><table class=\"wandb\"><tr><td>test.neg_acc</td><td>0.57143</td></tr><tr><td>test.pos_acc</td><td>0</td></tr><tr><td>test.weighted_acc</td><td>0.28571</td></tr></table><br/></div></div>"
      ],
      "text/plain": [
       "<IPython.core.display.HTML object>"
      ]
     },
     "metadata": {},
     "output_type": "display_data"
    },
    {
     "data": {
      "text/html": [
       " View run <strong style=\"color:#cdcd00\">test-siamese_contrastive_test-f1=0.875_splitting-by-query.pt</strong> at: <a href='https://wandb.ai/overfit1010/product-matching/runs/e8t6xm62' target=\"_blank\">https://wandb.ai/overfit1010/product-matching/runs/e8t6xm62</a><br> View project at: <a href='https://wandb.ai/overfit1010/product-matching' target=\"_blank\">https://wandb.ai/overfit1010/product-matching</a><br>Synced 5 W&B file(s), 1 media file(s), 0 artifact file(s) and 0 other file(s)"
      ],
      "text/plain": [
       "<IPython.core.display.HTML object>"
      ]
     },
     "metadata": {},
     "output_type": "display_data"
    },
    {
     "data": {
      "text/html": [
       "Find logs at: <code>./wandb/run-20250522_184921-e8t6xm62/logs</code>"
      ],
      "text/plain": [
       "<IPython.core.display.HTML object>"
      ]
     },
     "metadata": {},
     "output_type": "display_data"
    },
    {
     "data": {
      "text/html": [
       "<div>\n",
       "<style scoped>\n",
       "    .dataframe tbody tr th:only-of-type {\n",
       "        vertical-align: middle;\n",
       "    }\n",
       "\n",
       "    .dataframe tbody tr th {\n",
       "        vertical-align: top;\n",
       "    }\n",
       "\n",
       "    .dataframe thead th {\n",
       "        text-align: right;\n",
       "    }\n",
       "</style>\n",
       "<table border=\"1\" class=\"dataframe\">\n",
       "  <thead>\n",
       "    <tr style=\"text-align: right;\">\n",
       "      <th></th>\n",
       "      <th>model_ckpt</th>\n",
       "      <th>pos_acc</th>\n",
       "      <th>neg_acc</th>\n",
       "      <th>roc_auc</th>\n",
       "    </tr>\n",
       "  </thead>\n",
       "  <tbody>\n",
       "    <tr>\n",
       "      <th>0</th>\n",
       "      <td>siamese_contrastive_test-f1=0.875_splitting-by...</td>\n",
       "      <td>0.0</td>\n",
       "      <td>0.57</td>\n",
       "      <td>0.14</td>\n",
       "    </tr>\n",
       "  </tbody>\n",
       "</table>\n",
       "</div>"
      ],
      "text/plain": [
       "                                          model_ckpt  pos_acc  neg_acc  \\\n",
       "0  siamese_contrastive_test-f1=0.875_splitting-by...      0.0     0.57   \n",
       "\n",
       "   roc_auc  \n",
       "0     0.14  "
      ]
     },
     "metadata": {},
     "output_type": "display_data"
    },
    {
     "data": {
      "image/png": "[encoded data removed]",
      "text/plain": [
       "<Figure size 800x600 with 1 Axes>"
      ]
     },
     "metadata": {},
     "output_type": "display_data"
    }
   ],
   "source": [
    "from pprint import pprint\n",
    "\n",
    "if CHOSEN_MODEL_CKPT is not None:\n",
    "    configs_to_evaluate = [model_configs[CHOSEN_MODEL_CKPT]]\n",
    "else:\n",
    "    configs_to_evaluate = model_configs\n",
    "\n",
    "results = []\n",
    "for model_config in configs_to_evaluate:\n",
    "    model = load_model(model_config)\n",
    "    test_dl = load_data(model_config)\n",
    "    embs_first, embs_second, labels = compute_embeddings(\n",
    "        model, \n",
    "        test_dl,\n",
    "        device=DEVICE,\n",
    "        limit_batches=LIMIT_BATCHES # smoke test if needed\n",
    "    )\n",
    "    \n",
    "    extended_df = compute_and_save_extended_predictions(\n",
    "        embs_first, embs_second, labels, labeled,\n",
    "        model_config['CONTRASTIVE_THRESHOLD'],\n",
    "        source_file_path=DATA_PATH + TABLE_DATASET_FILE\n",
    "    )\n",
    "\n",
    "    pos_acc, neg_acc = validation(\n",
    "        embs_first, embs_second, labels,\n",
    "        model_config['CONTRASTIVE_THRESHOLD']\n",
    "    )\n",
    "\n",
    "    # TODO: compute f1-score\n",
    "    fpr, tpr, roc_auc = compute_roc_auc_values(embs_first, embs_second, labels)\n",
    "    fig = get_roc_curve_plot(fpr, tpr, roc_auc, model_config['MODEL_CKPT'])\n",
    "    \n",
    "    # Collect results for this model configuration\n",
    "    result = {\n",
    "        'model_ckpt': model_config['MODEL_CKPT'],\n",
    "        'pos_acc': round(pos_acc, 2),\n",
    "        'neg_acc': round(neg_acc, 2),\n",
    "        'roc_auc': round(roc_auc, 2)\n",
    "    }\n",
    "    \n",
    "    pprint(result)\n",
    "    results.append(result)\n",
    "    \n",
    "    if LOG_TO_WANDB:\n",
    "        log_to_wandb(model_config, pos_acc, neg_acc, roc_auc, fig)\n",
    "    else:\n",
    "        plt.plot()\n",
    "\n",
    "# Convert results to a DataFrame and display the first few rows\n",
    "results = pd.DataFrame(results)\n",
    "display(results)"
   ]
  },
  {
   "cell_type": "code",
   "execution_count": null,
   "metadata": {},
   "outputs": [],
   "source": []
  }
 ],
 "metadata": {
  "kernelspec": {
   "display_name": "Python 3",
   "language": "python",
   "name": "python3"
  },
  "language_info": {
   "codemirror_mode": {
    "name": "ipython",
    "version": 3
   },
   "file_extension": ".py",
   "mimetype": "text/x-python",
   "name": "python",
   "nbconvert_exporter": "python",
   "pygments_lexer": "ipython3",
   "version": "3.13.2"
  }
 },
 "nbformat": 4,
 "nbformat_minor": 2
}
