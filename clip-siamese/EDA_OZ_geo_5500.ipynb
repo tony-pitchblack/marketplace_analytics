{
 "cells": [
  {
   "cell_type": "code",
   "execution_count": 3,
   "id": "452dbf1b",
   "metadata": {},
   "outputs": [],
   "source": [
    "DATA_PATH = 'data'"
   ]
  },
  {
   "cell_type": "code",
   "execution_count": 4,
   "id": "f6e25795",
   "metadata": {},
   "outputs": [
    {
     "data": {
      "text/html": [
       "<div>\n",
       "<style scoped>\n",
       "    .dataframe tbody tr th:only-of-type {\n",
       "        vertical-align: middle;\n",
       "    }\n",
       "\n",
       "    .dataframe tbody tr th {\n",
       "        vertical-align: top;\n",
       "    }\n",
       "\n",
       "    .dataframe thead th {\n",
       "        text-align: right;\n",
       "    }\n",
       "</style>\n",
       "<table border=\"1\" class=\"dataframe\">\n",
       "  <thead>\n",
       "    <tr style=\"text-align: right;\">\n",
       "      <th></th>\n",
       "      <th>SKU</th>\n",
       "      <th>Name</th>\n",
       "      <th>Category</th>\n",
       "      <th>Схема</th>\n",
       "      <th>Brand</th>\n",
       "      <th>Niche</th>\n",
       "      <th>Seller</th>\n",
       "      <th>Balance</th>\n",
       "      <th>Balance FBS</th>\n",
       "      <th>Warehouses count</th>\n",
       "      <th>...</th>\n",
       "      <th>FBS</th>\n",
       "      <th>Base price</th>\n",
       "      <th>Category Position</th>\n",
       "      <th>Categories Last Count</th>\n",
       "      <th>Sales Per Day Average</th>\n",
       "      <th>Turnover</th>\n",
       "      <th>Frozen stocks</th>\n",
       "      <th>Frozen stocks cost</th>\n",
       "      <th>Frozen stocks percent</th>\n",
       "      <th>is_primary</th>\n",
       "    </tr>\n",
       "  </thead>\n",
       "  <tbody>\n",
       "    <tr>\n",
       "      <th>0</th>\n",
       "      <td>936454663</td>\n",
       "      <td>Карта мира географическая политическая интерак...</td>\n",
       "      <td>Канцелярские товары/Бумажная продукция/Карты мира</td>\n",
       "      <td>FBO</td>\n",
       "      <td>NaN</td>\n",
       "      <td>Дом и сад/Декор и интерьер/Картины и панно/Гра...</td>\n",
       "      <td>GooDaY</td>\n",
       "      <td>346</td>\n",
       "      <td>0</td>\n",
       "      <td>12</td>\n",
       "      <td>...</td>\n",
       "      <td>0</td>\n",
       "      <td>4990</td>\n",
       "      <td>1</td>\n",
       "      <td>1</td>\n",
       "      <td>5.2</td>\n",
       "      <td>66.54</td>\n",
       "      <td>112</td>\n",
       "      <td>202832</td>\n",
       "      <td>32.37</td>\n",
       "      <td>False</td>\n",
       "    </tr>\n",
       "  </tbody>\n",
       "</table>\n",
       "<p>1 rows × 43 columns</p>\n",
       "</div>"
      ],
      "text/plain": [
       "         SKU                                               Name  \\\n",
       "0  936454663  Карта мира географическая политическая интерак...   \n",
       "\n",
       "                                            Category Схема Brand  \\\n",
       "0  Канцелярские товары/Бумажная продукция/Карты мира   FBO   NaN   \n",
       "\n",
       "                                               Niche  Seller  Balance  \\\n",
       "0  Дом и сад/Декор и интерьер/Картины и панно/Гра...  GooDaY      346   \n",
       "\n",
       "   Balance FBS  Warehouses count  ...  FBS  Base price  Category Position  \\\n",
       "0            0                12  ...    0        4990                  1   \n",
       "\n",
       "   Categories Last Count  Sales Per Day Average  Turnover  Frozen stocks  \\\n",
       "0                      1                    5.2     66.54            112   \n",
       "\n",
       "   Frozen stocks cost  Frozen stocks percent  is_primary  \n",
       "0              202832                  32.37       False  \n",
       "\n",
       "[1 rows x 43 columns]"
      ]
     },
     "execution_count": 4,
     "metadata": {},
     "output_type": "execute_result"
    }
   ],
   "source": [
    "import pandas as pd\n",
    "from pathlib import Path\n",
    "\n",
    "file_path = Path(DATA_PATH) / 'Карты_мира_озон.xlsm'\n",
    "source_df = pd.read_excel(file_path)\n",
    "source_df.head(1)"
   ]
  },
  {
   "cell_type": "markdown",
   "id": "e98f60f5",
   "metadata": {},
   "source": [
    "# EDA"
   ]
  },
  {
   "cell_type": "code",
   "execution_count": null,
   "id": "0832d192",
   "metadata": {},
   "outputs": [
    {
     "data": {
      "text/plain": [
       "(23, 44)"
      ]
     },
     "metadata": {},
     "output_type": "display_data"
    }
   ],
   "source": [
    "source_df[source_df['seller'] == 'ИНТЕРТРЕЙД'].shape"
   ]
  },
  {
   "cell_type": "code",
   "execution_count": null,
   "id": "ca0e7d86",
   "metadata": {},
   "outputs": [],
   "source": [
    "source_df[\n",
    "    # 'Схема'\n",
    "    # 'Category'\n",
    "    # 'Brand'\n",
    "    # 'Rating'\n",
    "    # 'Category Position'\n",
    "].unique()"
   ]
  },
  {
   "cell_type": "code",
   "execution_count": null,
   "id": "88dca79a",
   "metadata": {},
   "outputs": [
    {
     "data": {
      "text/plain": [
       "['Карта МИРА настенная политическая,160х102 см, Выпуск 2024 года, Школьная географическая карта для детей по географии',\n",
       " 'Географическая карта России настенная 102х160 см, Выпуск 2024 года, НОВЫЕ ГРАНИЦЫ Школьная карта по географии для детей',\n",
       " 'Политическая карта МИРА настенная, 160х102см, карта мира по географии, Выпуск 2024 год, В ТУБУСЕ',\n",
       " 'Физическая карта России настенная, 160 х 102 см, Выпуск 2024 год',\n",
       " 'Карта Москвы и Московской области настенная 143х102см, административная карта столицы России',\n",
       " 'Политическая карта МИРА настенная, 100х70см, школьная географическая карта мира, Выпуск 2024 год, В ТУБУСЕ',\n",
       " 'Карта Москвы настенная,100х70 см \"Москва современная с линиями метро\"',\n",
       " 'Настенная карта Москвы 2024, Карта Москвы, с линиями метро, 102х143 см',\n",
       " 'Политическая карта МИРА настенная, 100х70см, новые границы, выпуск 2024 год',\n",
       " 'Физическая карта Мира настенная, 157х107см, Выпуск 2024 год',\n",
       " 'Карта России 100х70 см, физическая карта с природными зонами, животными и растениями, НОВЫЕ ГРАНИЦЫ',\n",
       " 'Карта России настенная, 102х160 см, карта России по географии, Выпуск 2024 год, В ТУБУСЕ',\n",
       " 'Политическая карта мира настенная \"Мир в стиле ретро\" 160х109см, Постер \"Карта мира\", Выпуск 2024 год',\n",
       " 'Карта Москвы, Путеводитель по Москве 100х70 см',\n",
       " 'Схема линий скоростного транспорта Москвы (Метро, МЦК, МЦД) 0,5*0,7 м, ламинированная',\n",
       " 'Атлас автомобильных дорог России 2023 \"Из Москвы на Юг\", 70х100 см, складная',\n",
       " 'Двусторонняя Карта Мира и России политическая, 70 х 100 см. Складная, школьная карта. Выпуск 2024',\n",
       " 'Карты МИРА и РОССИИ настенные политические,160х102 см, Комплект школьных карт для детей / 2024 г',\n",
       " 'Настенная физико-политическая карта Европы 158х118 см, 1:3 800 000, школьная карта',\n",
       " 'Карта Москвы \"Moscow Today\" 70х100 см, на английском языке',\n",
       " 'Карта России настенная политическая, в тубусе 100х70см, Карта России настенная',\n",
       " 'Политико-административная карта России, 100х70 см, Карта России настенная',\n",
       " 'Политическая карта МИРА 160х109 см, Карта мира настенная, подарок для школьника']"
      ]
     },
     "metadata": {},
     "output_type": "display_data"
    }
   ],
   "source": [
    "source_df.loc[source_df['is_primary']][\n",
    "    # 'url'\n",
    "    'Name'\n",
    "    # ['url']\n",
    "].tolist()"
   ]
  },
  {
   "cell_type": "code",
   "execution_count": null,
   "id": "5b675d7a",
   "metadata": {},
   "outputs": [
    {
     "data": {
      "text/plain": [
       "np.int64(23)"
      ]
     },
     "metadata": {},
     "output_type": "display_data"
    }
   ],
   "source": [
    "source_df['is_primary'].sum()"
   ]
  },
  {
   "cell_type": "code",
   "execution_count": null,
   "id": "1ddf552c",
   "metadata": {},
   "outputs": [
    {
     "data": {
      "text/html": [
       "<div>\n",
       "<style scoped>\n",
       "    .dataframe tbody tr th:only-of-type {\n",
       "        vertical-align: middle;\n",
       "    }\n",
       "\n",
       "    .dataframe tbody tr th {\n",
       "        vertical-align: top;\n",
       "    }\n",
       "\n",
       "    .dataframe thead th {\n",
       "        text-align: right;\n",
       "    }\n",
       "</style>\n",
       "<table border=\"1\" class=\"dataframe\">\n",
       "  <thead>\n",
       "    <tr style=\"text-align: right;\">\n",
       "      <th></th>\n",
       "      <th>SKU</th>\n",
       "      <th>Name</th>\n",
       "      <th>Category</th>\n",
       "      <th>Схема</th>\n",
       "      <th>Brand</th>\n",
       "      <th>Niche</th>\n",
       "      <th>Seller</th>\n",
       "      <th>Balance</th>\n",
       "      <th>Balance FBS</th>\n",
       "      <th>Warehouses count</th>\n",
       "      <th>...</th>\n",
       "      <th>Base price</th>\n",
       "      <th>Category Position</th>\n",
       "      <th>Categories Last Count</th>\n",
       "      <th>Sales Per Day Average</th>\n",
       "      <th>Turnover</th>\n",
       "      <th>Frozen stocks</th>\n",
       "      <th>Frozen stocks cost</th>\n",
       "      <th>Frozen stocks percent</th>\n",
       "      <th>is_primary</th>\n",
       "      <th>image_name</th>\n",
       "    </tr>\n",
       "  </thead>\n",
       "  <tbody>\n",
       "    <tr>\n",
       "      <th>0</th>\n",
       "      <td>936454663</td>\n",
       "      <td>Карта мира географическая политическая интерак...</td>\n",
       "      <td>Канцелярские товары/Бумажная продукция/Карты мира</td>\n",
       "      <td>FBO</td>\n",
       "      <td>NaN</td>\n",
       "      <td>Дом и сад/Декор и интерьер/Картины и панно/Гра...</td>\n",
       "      <td>GooDaY</td>\n",
       "      <td>346</td>\n",
       "      <td>0</td>\n",
       "      <td>12</td>\n",
       "      <td>...</td>\n",
       "      <td>4990</td>\n",
       "      <td>1</td>\n",
       "      <td>1</td>\n",
       "      <td>5.2</td>\n",
       "      <td>66.54</td>\n",
       "      <td>112</td>\n",
       "      <td>202832</td>\n",
       "      <td>32.37</td>\n",
       "      <td>False</td>\n",
       "      <td>7258838358.jpg</td>\n",
       "    </tr>\n",
       "  </tbody>\n",
       "</table>\n",
       "<p>1 rows × 44 columns</p>\n",
       "</div>"
      ],
      "text/plain": [
       "         SKU                                               Name  \\\n",
       "0  936454663  Карта мира географическая политическая интерак...   \n",
       "\n",
       "                                            Category Схема Brand  \\\n",
       "0  Канцелярские товары/Бумажная продукция/Карты мира   FBO   NaN   \n",
       "\n",
       "                                               Niche  Seller  Balance  \\\n",
       "0  Дом и сад/Декор и интерьер/Картины и панно/Гра...  GooDaY      346   \n",
       "\n",
       "   Balance FBS  Warehouses count  ...  Base price  Category Position  \\\n",
       "0            0                12  ...        4990                  1   \n",
       "\n",
       "   Categories Last Count  Sales Per Day Average  Turnover  Frozen stocks  \\\n",
       "0                      1                    5.2     66.54            112   \n",
       "\n",
       "   Frozen stocks cost  Frozen stocks percent  is_primary      image_name  \n",
       "0              202832                  32.37       False  7258838358.jpg  \n",
       "\n",
       "[1 rows x 44 columns]"
      ]
     },
     "metadata": {},
     "output_type": "display_data"
    }
   ],
   "source": [
    "source_df.head(1)"
   ]
  }
 ],
 "metadata": {
  "kernelspec": {
   "display_name": "Python 3",
   "language": "python",
   "name": "python3"
  },
  "language_info": {
   "codemirror_mode": {
    "name": "ipython",
    "version": 3
   },
   "file_extension": ".py",
   "mimetype": "text/x-python",
   "name": "python",
   "nbconvert_exporter": "python",
   "pygments_lexer": "ipython3",
   "version": "3.13.2"
  }
 },
 "nbformat": 4,
 "nbformat_minor": 5
}
