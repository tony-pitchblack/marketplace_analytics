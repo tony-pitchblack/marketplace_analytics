{
 "cells": [
  {
   "cell_type": "code",
   "execution_count": 2,
   "metadata": {},
   "outputs": [],
   "source": [
    "import os\n",
    "from huggingface_hub import HfApi, login\n",
    "from dotenv import load_dotenv\n",
    "\n",
    "load_dotenv() # loads HF_TOKEN; token should have write permissions\n",
    "\n",
    "# Enable hf_transfer\n",
    "os.environ['HF_HUB_ENABLE_HF_TRANSFER'] = \"1\"\n",
    "\n",
    "DATA_PATH = 'data'"
   ]
  },
  {
   "cell_type": "code",
   "execution_count": 3,
   "metadata": {},
   "outputs": [
    {
     "name": "stdout",
     "output_type": "stream",
     "text": [
      "Already exists: images_WB_OZ_100.zip\n",
      "Skipping hidden or invalid folder: WB_OZ_100.csv\n",
      "Skipping hidden or invalid folder: WB_OZ_100.xlsx\n",
      "Skipping hidden or invalid folder: new_labeled_v4.csv\n",
      "Skipping hidden or invalid folder: .cache\n",
      "Skipping hidden or invalid folder: new_labeled.csv\n",
      "Skipping hidden or invalid folder: images_WB_OZ_100.zip\n",
      "Already exists: images_7k.zip\n",
      "Skipping hidden or invalid folder: images_labeled.zip\n",
      "Already exists: images_labeled.zip\n",
      "Skipping hidden or invalid folder: WB_OZ_100_conjugated.csv\n",
      "Skipping hidden or invalid folder: WB_OZ_100_conjugated_product_names.csv\n",
      "Skipping hidden or invalid folder: images_7k.zip\n"
     ]
    }
   ],
   "source": [
    "import zipfile\n",
    "from tqdm import tqdm\n",
    "from pathlib import Path\n",
    "import os\n",
    "\n",
    "def zip_image_folders(root='data', overwrite=False, image_exts=('.jpg', '.jpeg', '.png', '.webp')):\n",
    "    root = Path(root)\n",
    "    for folder in root.iterdir():\n",
    "        if folder.is_dir() and not folder.name.startswith('.'):  # Skip hidden folders\n",
    "\n",
    "            # Recursively find all image files\n",
    "            files = [f for f in folder.rglob('*') if f.is_file() and f.suffix.lower() in image_exts]\n",
    "            if not files:\n",
    "                continue  # Skip empty or non-image folders\n",
    "\n",
    "            zip_path = folder.with_suffix('.zip')\n",
    "            if not overwrite and zip_path.exists():\n",
    "                print(f\"Already exists: {zip_path.name}\")\n",
    "                continue\n",
    "\n",
    "            print(f\"\\nZipping {folder.name} → {zip_path.name}\")\n",
    "            with zipfile.ZipFile(zip_path, 'w', compression=zipfile.ZIP_DEFLATED) as zipf:\n",
    "                for file in tqdm(files, desc=f\"Zipping {folder.name}\"):\n",
    "                    arcname = file.relative_to(folder)  # relative to inner folder, no top folder\n",
    "                    zipf.write(file, arcname=arcname)\n",
    "        else:\n",
    "            print(f\"Skipping hidden or invalid folder: {folder.name}\")\n",
    "\n",
    "# Usage\n",
    "zip_image_folders(\n",
    "    DATA_PATH,\n",
    "    overwrite=False\n",
    ")"
   ]
  },
  {
   "cell_type": "code",
   "execution_count": 4,
   "metadata": {},
   "outputs": [
    {
     "data": {
      "text/plain": [
       "CommitInfo(commit_url='https://huggingface.co/datasets/INDEEPA/clip-siamese/commit/a6764ca78da7259dacf41423c6ed29a58678f758', commit_message='Upload folder using huggingface_hub', commit_description='', oid='a6764ca78da7259dacf41423c6ed29a58678f758', pr_url=None, repo_url=RepoUrl('https://huggingface.co/datasets/INDEEPA/clip-siamese', endpoint='https://huggingface.co', repo_type='dataset', repo_id='INDEEPA/clip-siamese'), pr_revision=None, pr_num=None)"
      ]
     },
     "execution_count": 4,
     "metadata": {},
     "output_type": "execute_result"
    }
   ],
   "source": [
    "api = HfApi()\n",
    "api.upload_folder(\n",
    "    folder_path=DATA_PATH,  # Path to the local directory\n",
    "    repo_id=\"INDEEPA/clip-siamese\",\n",
    "    repo_type=\"dataset\",\n",
    "    ignore_patterns=['**/*.jpg', \"**/*.webp\"]\n",
    ")"
   ]
  }
 ],
 "metadata": {
  "kernelspec": {
   "display_name": "Python 3",
   "language": "python",
   "name": "python3"
  },
  "language_info": {
   "codemirror_mode": {
    "name": "ipython",
    "version": 3
   },
   "file_extension": ".py",
   "mimetype": "text/x-python",
   "name": "python",
   "nbconvert_exporter": "python",
   "pygments_lexer": "ipython3",
   "version": "3.13.2"
  }
 },
 "nbformat": 4,
 "nbformat_minor": 2
}
