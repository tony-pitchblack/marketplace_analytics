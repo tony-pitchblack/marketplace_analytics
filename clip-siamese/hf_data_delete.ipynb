{
 "cells": [
  {
   "cell_type": "code",
   "execution_count": 1,
   "metadata": {},
   "outputs": [
    {
     "name": "stdout",
     "output_type": "stream",
     "text": [
      "Connected to repository: INDEEPA/clip-siamese\n"
     ]
    }
   ],
   "source": [
    "import os\n",
    "from huggingface_hub import HfFileSystem\n",
    "from dotenv import load_dotenv\n",
    "import fnmatch\n",
    "from pathlib import Path\n",
    "\n",
    "# Load environment variables (HF_TOKEN)\n",
    "load_dotenv()\n",
    "\n",
    "# Initialize the HfFileSystem\n",
    "fs = HfFileSystem()\n",
    "\n",
    "# Define the repository\n",
    "repo_id = \"INDEEPA/clip-siamese\"\n",
    "repo_path = f\"datasets/{repo_id}\"\n",
    "\n",
    "print(f\"Connected to repository: {repo_id}\")"
   ]
  },
  {
   "cell_type": "code",
   "execution_count": 2,
   "metadata": {},
   "outputs": [
    {
     "name": "stdout",
     "output_type": "stream",
     "text": [
      "Getting file list from repository...\n",
      "Found 142 total files\n"
     ]
    }
   ],
   "source": [
    "def list_files_recursive(path, max_depth=10):\n",
    "    \"\"\"Recursively list all files in the repository\"\"\"\n",
    "    all_files = []\n",
    "    \n",
    "    def _recursive_list(current_path, current_depth=0):\n",
    "        if current_depth > max_depth:\n",
    "            return\n",
    "        \n",
    "        try:\n",
    "            items = fs.ls(current_path, detail=True)\n",
    "            for item in items:\n",
    "                if item['type'] == 'file':\n",
    "                    all_files.append(item)\n",
    "                elif item['type'] == 'directory':\n",
    "                    _recursive_list(item['name'], current_depth + 1)\n",
    "        except Exception as e:\n",
    "            print(f\"Error listing {current_path}: {e}\")\n",
    "    \n",
    "    _recursive_list(path)\n",
    "    return all_files\n",
    "\n",
    "# List all files in the repository\n",
    "print(\"Getting file list from repository...\")\n",
    "all_files = list_files_recursive(repo_path)\n",
    "print(f\"Found {len(all_files)} total files\")"
   ]
  },
  {
   "cell_type": "code",
   "execution_count": 3,
   "metadata": {},
   "outputs": [
    {
     "name": "stdout",
     "output_type": "stream",
     "text": [
      "Files matching pattern '*/tables_OZ_geo_5500/processed/topk-siamese-emb-pairwise-dataset*':\n",
      "Found 4 files:\n",
      "  📄 datasets/INDEEPA/clip-siamese/tables_OZ_geo_5500/processed/topk-siamese-emb-pairwise-dataset_k=5_num-queries=5562_query-seller=ИНТЕРТРЕЙД_model=siamese_contrastive_test-f1=0.301_splitting-by-query_cc12m_rubert_tiny_ep_1.pt.csv (0.75 MB)\n",
      "  📄 datasets/INDEEPA/clip-siamese/tables_OZ_geo_5500/processed/topk-siamese-emb-pairwise-dataset_k=5_num-queries=5562_query-seller=ИНТЕРТРЕЙД_model=siamese_contrastive_test-f1=0.520_splitting-by-query_cc12m_rubert_tiny_ep_1.pt_best-threshold=0.19597989949748743.pt.csv (0.80 MB)\n",
      "  📄 datasets/INDEEPA/clip-siamese/tables_OZ_geo_5500/processed/topk-siamese-emb-pairwise-dataset_k=None_num-queries=5562_query-seller=ИНТЕРТРЕЙД_model=siamese_contrastive_test-f1=0.301_splitting-by-query_cc12m_rubert_tiny_ep_1.pt.csv (829.89 MB)\n",
      "  📄 datasets/INDEEPA/clip-siamese/tables_OZ_geo_5500/processed/topk-siamese-emb-pairwise-dataset_k=None_num-queries=5562_query-seller=ИНТЕРТРЕЙД_model=siamese_contrastive_test-f1=0.520_splitting-by-query_cc12m_rubert_tiny_ep_1.pt_best-threshold=0.19597989949748743.pt.csv (829.93 MB)\n"
     ]
    }
   ],
   "source": [
    "# Define the pattern to match\n",
    "# pattern = \"*/tables_OZ_geo_5500/processed/topk-siamese-emb-pairwise-dataset*\"\n",
    "\n",
    "# Alternative patterns you can use:\n",
    "# pattern = \"*/topk-siamese-emb-pairwise-dataset*\"  # Match anywhere\n",
    "# pattern = \"*.csv\"  # Match all CSV files\n",
    "# pattern = \"*processed*\"  # Match anything with 'processed' in the path\n",
    "\n",
    "def find_files_by_pattern(files, pattern):\n",
    "    \"\"\"Find files matching the glob pattern\"\"\"\n",
    "    matching_files = []\n",
    "    \n",
    "    for file_info in files:\n",
    "        file_path = file_info['name']\n",
    "        # Remove the repo prefix for pattern matching\n",
    "        relative_path = file_path.replace(f\"{repo_path}/\", \"\")\n",
    "        \n",
    "        if fnmatch.fnmatch(relative_path, pattern) or fnmatch.fnmatch(file_path, pattern):\n",
    "            matching_files.append(file_info)\n",
    "    \n",
    "    return matching_files\n",
    "\n",
    "# Find matching files\n",
    "matching_files = find_files_by_pattern(all_files, pattern)\n",
    "\n",
    "print(f\"Files matching pattern '{pattern}':\")\n",
    "print(f\"Found {len(matching_files)} files:\")\n",
    "for file_info in matching_files:\n",
    "    file_path = file_info['name']\n",
    "    file_size = file_info.get('size', 0)\n",
    "    size_mb = file_size / (1024 * 1024) if file_size else 0\n",
    "    print(f\"  📄 {file_path} ({size_mb:.2f} MB)\")"
   ]
  },
  {
   "cell_type": "code",
   "execution_count": 4,
   "metadata": {},
   "outputs": [
    {
     "name": "stdout",
     "output_type": "stream",
     "text": [
      "\n",
      "============================================================\n",
      "DELETION PREVIEW\n",
      "============================================================\n",
      "Pattern: */tables_OZ_geo_5500/processed/topk-siamese-emb-pairwise-dataset*\n",
      "Files to delete: 4\n",
      "Total size: 1661.37 MB\n",
      "============================================================\n",
      " 1. datasets/INDEEPA/clip-siamese/tables_OZ_geo_5500/processed/topk-siamese-emb-pairwise-dataset_k=5_num-queries=5562_query-seller=ИНТЕРТРЕЙД_model=siamese_contrastive_test-f1=0.301_splitting-by-query_cc12m_rubert_tiny_ep_1.pt.csv\n",
      "    Size: 0.75 MB\n",
      " 2. datasets/INDEEPA/clip-siamese/tables_OZ_geo_5500/processed/topk-siamese-emb-pairwise-dataset_k=5_num-queries=5562_query-seller=ИНТЕРТРЕЙД_model=siamese_contrastive_test-f1=0.520_splitting-by-query_cc12m_rubert_tiny_ep_1.pt_best-threshold=0.19597989949748743.pt.csv\n",
      "    Size: 0.80 MB\n",
      " 3. datasets/INDEEPA/clip-siamese/tables_OZ_geo_5500/processed/topk-siamese-emb-pairwise-dataset_k=None_num-queries=5562_query-seller=ИНТЕРТРЕЙД_model=siamese_contrastive_test-f1=0.301_splitting-by-query_cc12m_rubert_tiny_ep_1.pt.csv\n",
      "    Size: 829.89 MB\n",
      " 4. datasets/INDEEPA/clip-siamese/tables_OZ_geo_5500/processed/topk-siamese-emb-pairwise-dataset_k=None_num-queries=5562_query-seller=ИНТЕРТРЕЙД_model=siamese_contrastive_test-f1=0.520_splitting-by-query_cc12m_rubert_tiny_ep_1.pt_best-threshold=0.19597989949748743.pt.csv\n",
      "    Size: 829.93 MB\n"
     ]
    }
   ],
   "source": [
    "# Show detailed information about files to be deleted\n",
    "if matching_files:\n",
    "    total_size = sum(file_info.get('size', 0) for file_info in matching_files)\n",
    "    total_size_mb = total_size / (1024 * 1024)\n",
    "    \n",
    "    print(f\"\\n{'='*60}\")\n",
    "    print(f\"DELETION PREVIEW\")\n",
    "    print(f\"{'='*60}\")\n",
    "    print(f\"Pattern: {pattern}\")\n",
    "    print(f\"Files to delete: {len(matching_files)}\")\n",
    "    print(f\"Total size: {total_size_mb:.2f} MB\")\n",
    "    print(f\"{'='*60}\")\n",
    "    \n",
    "    for i, file_info in enumerate(matching_files, 1):\n",
    "        file_path = file_info['name']\n",
    "        file_size = file_info.get('size', 0)\n",
    "        size_mb = file_size / (1024 * 1024) if file_size else 0\n",
    "        print(f\"{i:2d}. {file_path}\")\n",
    "        print(f\"    Size: {size_mb:.2f} MB\")\n",
    "else:\n",
    "    print(\"❌ No files found matching the pattern\")"
   ]
  },
  {
   "cell_type": "code",
   "execution_count": 5,
   "metadata": {},
   "outputs": [
    {
     "name": "stdout",
     "output_type": "stream",
     "text": [
      "\n",
      "⚠️  You are about to delete 4 files\n",
      "🗑️  Deleting: datasets/INDEEPA/clip-siamese/tables_OZ_geo_5500/processed/topk-siamese-emb-pairwise-dataset_k=5_num-queries=5562_query-seller=ИНТЕРТРЕЙД_model=siamese_contrastive_test-f1=0.301_splitting-by-query_cc12m_rubert_tiny_ep_1.pt.csv\n",
      "✅ Deleted: datasets/INDEEPA/clip-siamese/tables_OZ_geo_5500/processed/topk-siamese-emb-pairwise-dataset_k=5_num-queries=5562_query-seller=ИНТЕРТРЕЙД_model=siamese_contrastive_test-f1=0.301_splitting-by-query_cc12m_rubert_tiny_ep_1.pt.csv\n",
      "🗑️  Deleting: datasets/INDEEPA/clip-siamese/tables_OZ_geo_5500/processed/topk-siamese-emb-pairwise-dataset_k=5_num-queries=5562_query-seller=ИНТЕРТРЕЙД_model=siamese_contrastive_test-f1=0.520_splitting-by-query_cc12m_rubert_tiny_ep_1.pt_best-threshold=0.19597989949748743.pt.csv\n",
      "✅ Deleted: datasets/INDEEPA/clip-siamese/tables_OZ_geo_5500/processed/topk-siamese-emb-pairwise-dataset_k=5_num-queries=5562_query-seller=ИНТЕРТРЕЙД_model=siamese_contrastive_test-f1=0.520_splitting-by-query_cc12m_rubert_tiny_ep_1.pt_best-threshold=0.19597989949748743.pt.csv\n",
      "🗑️  Deleting: datasets/INDEEPA/clip-siamese/tables_OZ_geo_5500/processed/topk-siamese-emb-pairwise-dataset_k=None_num-queries=5562_query-seller=ИНТЕРТРЕЙД_model=siamese_contrastive_test-f1=0.301_splitting-by-query_cc12m_rubert_tiny_ep_1.pt.csv\n",
      "✅ Deleted: datasets/INDEEPA/clip-siamese/tables_OZ_geo_5500/processed/topk-siamese-emb-pairwise-dataset_k=None_num-queries=5562_query-seller=ИНТЕРТРЕЙД_model=siamese_contrastive_test-f1=0.301_splitting-by-query_cc12m_rubert_tiny_ep_1.pt.csv\n",
      "🗑️  Deleting: datasets/INDEEPA/clip-siamese/tables_OZ_geo_5500/processed/topk-siamese-emb-pairwise-dataset_k=None_num-queries=5562_query-seller=ИНТЕРТРЕЙД_model=siamese_contrastive_test-f1=0.520_splitting-by-query_cc12m_rubert_tiny_ep_1.pt_best-threshold=0.19597989949748743.pt.csv\n",
      "✅ Deleted: datasets/INDEEPA/clip-siamese/tables_OZ_geo_5500/processed/topk-siamese-emb-pairwise-dataset_k=None_num-queries=5562_query-seller=ИНТЕРТРЕЙД_model=siamese_contrastive_test-f1=0.520_splitting-by-query_cc12m_rubert_tiny_ep_1.pt_best-threshold=0.19597989949748743.pt.csv\n",
      "\n",
      "==================================================\n",
      "DELETION SUMMARY\n",
      "==================================================\n",
      "✅ Successfully deleted: 4 files\n",
      "==================================================\n"
     ]
    }
   ],
   "source": [
    "def delete_files_with_confirmation(files_to_delete):\n",
    "    \"\"\"Delete files with user confirmation\"\"\"\n",
    "    if not files_to_delete:\n",
    "        print(\"No files to delete.\")\n",
    "        return\n",
    "    \n",
    "    # Ask for confirmation\n",
    "    print(f\"\\n⚠️  You are about to delete {len(files_to_delete)} files\")\n",
    "    confirm = input(\"Type 'DELETE' to confirm: \")\n",
    "    \n",
    "    if confirm != \"DELETE\":\n",
    "        print(\"❌ Deletion cancelled.\")\n",
    "        return\n",
    "    \n",
    "    # Delete files\n",
    "    deleted_count = 0\n",
    "    failed_count = 0\n",
    "    \n",
    "    for file_info in files_to_delete:\n",
    "        file_path = file_info['name']\n",
    "        try:\n",
    "            print(f\"🗑️  Deleting: {file_path}\")\n",
    "            fs.rm(file_path)\n",
    "            print(f\"✅ Deleted: {file_path}\")\n",
    "            deleted_count += 1\n",
    "        except Exception as e:\n",
    "            print(f\"❌ Failed to delete {file_path}: {e}\")\n",
    "            failed_count += 1\n",
    "    \n",
    "    print(f\"\\n{'='*50}\")\n",
    "    print(f\"DELETION SUMMARY\")\n",
    "    print(f\"{'='*50}\")\n",
    "    print(f\"✅ Successfully deleted: {deleted_count} files\")\n",
    "    if failed_count > 0:\n",
    "        print(f\"❌ Failed to delete: {failed_count} files\")\n",
    "    print(f\"{'='*50}\")\n",
    "\n",
    "# Run the deletion\n",
    "delete_files_with_confirmation(matching_files)"
   ]
  }
 ],
 "metadata": {
  "kernelspec": {
   "display_name": "Python 3",
   "language": "python",
   "name": "python3"
  },
  "language_info": {
   "codemirror_mode": {
    "name": "ipython",
    "version": 3
   },
   "file_extension": ".py",
   "mimetype": "text/x-python",
   "name": "python",
   "nbconvert_exporter": "python",
   "pygments_lexer": "ipython3",
   "version": "3.13.2"
  }
 },
 "nbformat": 4,
 "nbformat_minor": 2
}
