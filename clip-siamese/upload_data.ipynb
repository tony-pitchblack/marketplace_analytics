{
 "cells": [
  {
   "cell_type": "code",
   "execution_count": null,
   "metadata": {},
   "outputs": [
    {
     "data": {
      "application/vnd.jupyter.widget-view+json": {
       "model_id": "5104c3bbc4024804942232dc11346b22",
       "version_major": 2,
       "version_minor": 0
      },
      "text/plain": [
       "siamese_contrastive_1gpu.pt:   0%|          | 0.00/220M [00:00<?, ?B/s]"
      ]
     },
     "metadata": {},
     "output_type": "display_data"
    },
    {
     "data": {
      "application/vnd.jupyter.widget-view+json": {
       "model_id": "388a509571b44b5fa5add8fcd349f6fb",
       "version_major": 2,
       "version_minor": 0
      },
      "text/plain": [
       "images_7k.zip:   0%|          | 0.00/379M [00:00<?, ?B/s]"
      ]
     },
     "metadata": {},
     "output_type": "display_data"
    },
    {
     "data": {
      "application/vnd.jupyter.widget-view+json": {
       "model_id": "89388b3cdb564c0a8fd62b135a48db5d",
       "version_major": 2,
       "version_minor": 0
      },
      "text/plain": [
       "Upload 7 LFS files:   0%|          | 0/7 [00:00<?, ?it/s]"
      ]
     },
     "metadata": {},
     "output_type": "display_data"
    },
    {
     "data": {
      "application/vnd.jupyter.widget-view+json": {
       "model_id": "490eda9aa73a4e7b9bd9268e1729ae3c",
       "version_major": 2,
       "version_minor": 0
      },
      "text/plain": [
       "siamese_contrastive.pt:   0%|          | 0.00/215M [00:00<?, ?B/s]"
      ]
     },
     "metadata": {},
     "output_type": "display_data"
    },
    {
     "data": {
      "application/vnd.jupyter.widget-view+json": {
       "model_id": "c503d8c7800a443f80c661578ac31484",
       "version_major": 2,
       "version_minor": 0
      },
      "text/plain": [
       "cc12m_rubert_tiny_ep_1.pt:   0%|          | 0.00/159M [00:00<?, ?B/s]"
      ]
     },
     "metadata": {},
     "output_type": "display_data"
    },
    {
     "data": {
      "application/vnd.jupyter.widget-view+json": {
       "model_id": "8b1b598aa9304f4fb2591004d3acbd74",
       "version_major": 2,
       "version_minor": 0
      },
      "text/plain": [
       "siamese_contrastive_7k.pt:   0%|          | 0.00/215M [00:00<?, ?B/s]"
      ]
     },
     "metadata": {},
     "output_type": "display_data"
    },
    {
     "data": {
      "application/vnd.jupyter.widget-view+json": {
       "model_id": "61b9810c8d9e48b19168d4052a054c6e",
       "version_major": 2,
       "version_minor": 0
      },
      "text/plain": [
       "siamese_fitted_10epochs_bert_tiny.pt:   0%|          | 0.00/235M [00:00<?, ?B/s]"
      ]
     },
     "metadata": {},
     "output_type": "display_data"
    },
    {
     "data": {
      "application/vnd.jupyter.widget-view+json": {
       "model_id": "d0ff2ed317d4462bb6e8674c414f70c0",
       "version_major": 2,
       "version_minor": 0
      },
      "text/plain": [
       "siamese_fitted_10epochs_bert_turbo.pt:   0%|          | 0.00/304M [00:00<?, ?B/s]"
      ]
     },
     "metadata": {},
     "output_type": "display_data"
    },
    {
     "data": {
      "text/plain": [
       "CommitInfo(commit_url='https://huggingface.co/datasets/INDEEPA/clip-siamese/commit/0f430c5f75f651c2285d8ff352d424a9234da1b9', commit_message='Upload folder using huggingface_hub', commit_description='', oid='0f430c5f75f651c2285d8ff352d424a9234da1b9', pr_url=None, repo_url=RepoUrl('https://huggingface.co/datasets/INDEEPA/clip-siamese', endpoint='https://huggingface.co', repo_type='dataset', repo_id='INDEEPA/clip-siamese'), pr_revision=None, pr_num=None)"
      ]
     },
     "metadata": {},
     "output_type": "display_data"
    }
   ],
   "source": [
    "import os\n",
    "from huggingface_hub import HfApi, login\n",
    "from dotenv import load_dotenv\n",
    "\n",
    "load_dotenv() # loads HF_TOKEN; token should have write permissions\n",
    "\n",
    "# Enable hf_transfer\n",
    "os.environ['HF_HUB_ENABLE_HF_TRANSFER'] = \"1\"\n",
    "\n",
    "api = HfApi()\n",
    "api.upload_folder(\n",
    "    folder_path=\"data\",  # Path to the local directory\n",
    "    repo_id=\"INDEEPA/clip-siamese\",\n",
    "    repo_type=\"dataset\",\n",
    "    ignore_patterns=['**/*.jpg', \"**/*.webp\"]\n",
    ")"
   ]
  }
 ],
 "metadata": {
  "language_info": {
   "name": "python"
  }
 },
 "nbformat": 4,
 "nbformat_minor": 2
}
