{
 "cells": [
  {
   "cell_type": "code",
   "execution_count": 20,
   "metadata": {},
   "outputs": [],
   "source": [
    "import os\n",
    "from huggingface_hub import HfApi, login\n",
    "from dotenv import load_dotenv\n",
    "\n",
    "load_dotenv() # loads HF_TOKEN; token should have write permissions\n",
    "\n",
    "# Enable hf_transfer\n",
    "os.environ['HF_HUB_ENABLE_HF_TRANSFER'] = \"1\"\n",
    "\n",
    "DATA_PATH = 'data'"
   ]
  },
  {
   "cell_type": "code",
   "execution_count": 21,
   "metadata": {},
   "outputs": [
    {
     "name": "stdout",
     "output_type": "stream",
     "text": [
      "\n",
      "Zipping images_WB_OZ_100 → images_WB_OZ_100.zip\n"
     ]
    },
    {
     "name": "stderr",
     "output_type": "stream",
     "text": [
      "Zipping images_WB_OZ_100: 100%|██████████| 200/200 [00:00<00:00, 226.87it/s]"
     ]
    },
    {
     "name": "stdout",
     "output_type": "stream",
     "text": [
      "Skipping hidden or invalid folder: WB_OZ_100.csv\n",
      "Skipping hidden or invalid folder: WB_OZ_100.xlsx\n",
      "Skipping hidden or invalid folder: new_labeled_v4.csv\n",
      "Skipping hidden or invalid folder: .cache\n",
      "Skipping hidden or invalid folder: new_labeled.csv\n",
      "Already exists: images_7k.zip\n",
      "Skipping hidden or invalid folder: images_labeled.zip\n",
      "Already exists: images_labeled.zip\n",
      "Skipping hidden or invalid folder: images_7k.zip\n"
     ]
    },
    {
     "name": "stderr",
     "output_type": "stream",
     "text": [
      "\n"
     ]
    }
   ],
   "source": [
    "import zipfile\n",
    "from tqdm import tqdm\n",
    "from pathlib import Path\n",
    "import os\n",
    "\n",
    "def zip_image_folders(root='data', overwrite=False, image_exts=('.jpg', '.jpeg', '.png', '.webp')):\n",
    "    root = Path(root)\n",
    "    for folder in root.iterdir():\n",
    "        if folder.is_dir() and not folder.name.startswith('.'):  # Skip hidden folders\n",
    "\n",
    "            # Recursively find all image files\n",
    "            files = [f for f in folder.rglob('*') if f.is_file() and f.suffix.lower() in image_exts]\n",
    "            if not files:\n",
    "                continue  # Skip empty or non-image folders\n",
    "\n",
    "            zip_path = folder.with_suffix('.zip')\n",
    "            if not overwrite and zip_path.exists():\n",
    "                print(f\"Already exists: {zip_path.name}\")\n",
    "                continue\n",
    "\n",
    "            print(f\"\\nZipping {folder.name} → {zip_path.name}\")\n",
    "            with zipfile.ZipFile(zip_path, 'w', compression=zipfile.ZIP_DEFLATED) as zipf:\n",
    "                for file in tqdm(files, desc=f\"Zipping {folder.name}\"):\n",
    "                    arcname = file.relative_to(folder)  # relative to inner folder, no top folder\n",
    "                    zipf.write(file, arcname=arcname)\n",
    "        else:\n",
    "            print(f\"Skipping hidden or invalid folder: {folder.name}\")\n",
    "\n",
    "# Usage\n",
    "zip_image_folders(\n",
    "    DATA_PATH,\n",
    "    overwrite=False\n",
    ")"
   ]
  },
  {
   "cell_type": "code",
   "execution_count": 15,
   "metadata": {},
   "outputs": [
    {
     "data": {
      "application/vnd.jupyter.widget-view+json": {
       "model_id": "4f3d7d6f14d84e878224351c4fd249c3",
       "version_major": 2,
       "version_minor": 0
      },
      "text/plain": [
       "images_WB_OZ_100.zip:   0%|          | 0.00/26.2M [00:00<?, ?B/s]"
      ]
     },
     "metadata": {},
     "output_type": "display_data"
    },
    {
     "data": {
      "application/vnd.jupyter.widget-view+json": {
       "model_id": "e82c20847cc642d0a233a5e3a66bec08",
       "version_major": 2,
       "version_minor": 0
      },
      "text/plain": [
       "Upload 2 LFS files:   0%|          | 0/2 [00:00<?, ?it/s]"
      ]
     },
     "metadata": {},
     "output_type": "display_data"
    },
    {
     "data": {
      "application/vnd.jupyter.widget-view+json": {
       "model_id": "4a7084f92b9f4891961ef86f90c0d11e",
       "version_major": 2,
       "version_minor": 0
      },
      "text/plain": [
       "images_7k.zip:   0%|          | 0.00/379M [00:00<?, ?B/s]"
      ]
     },
     "metadata": {},
     "output_type": "display_data"
    },
    {
     "data": {
      "text/plain": [
       "CommitInfo(commit_url='https://huggingface.co/datasets/INDEEPA/clip-siamese/commit/7b99116613e8219634ae5ec0e2a5f6cadad0525b', commit_message='Upload folder using huggingface_hub', commit_description='', oid='7b99116613e8219634ae5ec0e2a5f6cadad0525b', pr_url=None, repo_url=RepoUrl('https://huggingface.co/datasets/INDEEPA/clip-siamese', endpoint='https://huggingface.co', repo_type='dataset', repo_id='INDEEPA/clip-siamese'), pr_revision=None, pr_num=None)"
      ]
     },
     "execution_count": 15,
     "metadata": {},
     "output_type": "execute_result"
    }
   ],
   "source": [
    "api = HfApi()\n",
    "api.upload_folder(\n",
    "    folder_path=DATA_PATH,  # Path to the local directory\n",
    "    repo_id=\"INDEEPA/clip-siamese\",\n",
    "    repo_type=\"dataset\",\n",
    "    ignore_patterns=['**/*.jpg', \"**/*.webp\"]\n",
    ")"
   ]
  }
 ],
 "metadata": {
  "kernelspec": {
   "display_name": "Python 3",
   "language": "python",
   "name": "python3"
  },
  "language_info": {
   "codemirror_mode": {
    "name": "ipython",
    "version": 3
   },
   "file_extension": ".py",
   "mimetype": "text/x-python",
   "name": "python",
   "nbconvert_exporter": "python",
   "pygments_lexer": "ipython3",
   "version": "3.13.2"
  }
 },
 "nbformat": 4,
 "nbformat_minor": 2
}
